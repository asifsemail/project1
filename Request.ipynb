{
 "cells": [
  {
   "cell_type": "code",
   "execution_count": 1,
   "metadata": {},
   "outputs": [
    {
     "name": "stdout",
     "output_type": "stream",
     "text": [
      "Requirement already satisfied: plaid-python in /opt/anaconda3/envs/dev/lib/python3.10/site-packages (26.0.0)\n",
      "Requirement already satisfied: urllib3>=1.25.3 in /opt/anaconda3/envs/dev/lib/python3.10/site-packages (from plaid-python) (2.2.2)\n",
      "Requirement already satisfied: python-dateutil in /opt/anaconda3/envs/dev/lib/python3.10/site-packages (from plaid-python) (2.9.0.post0)\n",
      "Requirement already satisfied: nulltype in /opt/anaconda3/envs/dev/lib/python3.10/site-packages (from plaid-python) (2.3.1)\n",
      "Requirement already satisfied: six>=1.5 in /opt/anaconda3/envs/dev/lib/python3.10/site-packages (from python-dateutil->plaid-python) (1.16.0)\n",
      "Note: you may need to restart the kernel to use updated packages.\n"
     ]
    }
   ],
   "source": [
    "pip install plaid-python\n"
   ]
  },
  {
   "cell_type": "code",
   "execution_count": 2,
   "metadata": {},
   "outputs": [
    {
     "ename": "ImportError",
     "evalue": "cannot import name 'Client' from 'plaid' (/opt/anaconda3/envs/dev/lib/python3.10/site-packages/plaid/__init__.py)",
     "output_type": "error",
     "traceback": [
      "\u001b[0;31m---------------------------------------------------------------------------\u001b[0m",
      "\u001b[0;31mImportError\u001b[0m                               Traceback (most recent call last)",
      "Cell \u001b[0;32mIn[2], line 1\u001b[0m\n\u001b[0;32m----> 1\u001b[0m \u001b[38;5;28;01mfrom\u001b[39;00m \u001b[38;5;21;01mplaid\u001b[39;00m \u001b[38;5;28;01mimport\u001b[39;00m Client\n\u001b[1;32m      2\u001b[0m \u001b[38;5;28;01mimport\u001b[39;00m \u001b[38;5;21;01mos\u001b[39;00m\n\u001b[1;32m      5\u001b[0m clientid \u001b[38;5;241m=\u001b[39m os\u001b[38;5;241m.\u001b[39mgetenv(\u001b[38;5;124m'\u001b[39m\u001b[38;5;124mPLAID_CLIENT_ID\u001b[39m\u001b[38;5;124m'\u001b[39m)\n",
      "\u001b[0;31mImportError\u001b[0m: cannot import name 'Client' from 'plaid' (/opt/anaconda3/envs/dev/lib/python3.10/site-packages/plaid/__init__.py)"
     ]
    }
   ],
   "source": [
    "from plaid import Client\n",
    "import os\n",
    "\n",
    "\n",
    "clientid = os.getenv('PLAID_CLIENT_ID')\n",
    "secret = os.getenv('PLAID_SECRET')\n",
    "\n",
    "\n",
    "client = Client(client_id=clientid, secret=secret, environment='sandbox')\n",
    "\n",
    "# For example, create a link token\n",
    "response = client.LinkToken.create({\n",
    "    'user': {'client_user_id': 'unique_user_id'},\n",
    "    'client_name': 'Your App',\n",
    "    'products': ['auth', 'transactions'],\n",
    "    'country_codes': ['US'],\n",
    "    'language': 'en',\n",
    "    'redirect_uri': 'https://your-redirect-uri.com',\n",
    "})\n",
    "print(response)\n"
   ]
  },
  {
   "cell_type": "code",
   "execution_count": null,
   "metadata": {},
   "outputs": [],
   "source": []
  }
 ],
 "metadata": {
  "kernelspec": {
   "display_name": "dev",
   "language": "python",
   "name": "python3"
  },
  "language_info": {
   "codemirror_mode": {
    "name": "ipython",
    "version": 3
   },
   "file_extension": ".py",
   "mimetype": "text/x-python",
   "name": "python",
   "nbconvert_exporter": "python",
   "pygments_lexer": "ipython3",
   "version": "3.10.14"
  }
 },
 "nbformat": 4,
 "nbformat_minor": 2
}
