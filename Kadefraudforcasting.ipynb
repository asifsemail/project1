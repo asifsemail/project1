{
 "cells": [
  {
   "cell_type": "code",
   "execution_count": 1,
   "metadata": {},
   "outputs": [
    {
     "data": {
      "application/javascript": "(function(root) {\n  function now() {\n    return new Date();\n  }\n\n  var force = true;\n  var py_version = '3.4.1'.replace('rc', '-rc.').replace('.dev', '-dev.');\n  var reloading = false;\n  var Bokeh = root.Bokeh;\n\n  if (typeof (root._bokeh_timeout) === \"undefined\" || force) {\n    root._bokeh_timeout = Date.now() + 5000;\n    root._bokeh_failed_load = false;\n  }\n\n  function run_callbacks() {\n    try {\n      root._bokeh_onload_callbacks.forEach(function(callback) {\n        if (callback != null)\n          callback();\n      });\n    } finally {\n      delete root._bokeh_onload_callbacks;\n    }\n    console.debug(\"Bokeh: all callbacks have finished\");\n  }\n\n  function load_libs(css_urls, js_urls, js_modules, js_exports, callback) {\n    if (css_urls == null) css_urls = [];\n    if (js_urls == null) js_urls = [];\n    if (js_modules == null) js_modules = [];\n    if (js_exports == null) js_exports = {};\n\n    root._bokeh_onload_callbacks.push(callback);\n\n    if (root._bokeh_is_loading > 0) {\n      console.debug(\"Bokeh: BokehJS is being loaded, scheduling callback at\", now());\n      return null;\n    }\n    if (js_urls.length === 0 && js_modules.length === 0 && Object.keys(js_exports).length === 0) {\n      run_callbacks();\n      return null;\n    }\n    if (!reloading) {\n      console.debug(\"Bokeh: BokehJS not loaded, scheduling load and callback at\", now());\n    }\n\n    function on_load() {\n      root._bokeh_is_loading--;\n      if (root._bokeh_is_loading === 0) {\n        console.debug(\"Bokeh: all BokehJS libraries/stylesheets loaded\");\n        run_callbacks()\n      }\n    }\n    window._bokeh_on_load = on_load\n\n    function on_error() {\n      console.error(\"failed to load \" + url);\n    }\n\n    var skip = [];\n    if (window.requirejs) {\n      window.requirejs.config({'packages': {}, 'paths': {}, 'shim': {}});\n      root._bokeh_is_loading = css_urls.length + 0;\n    } else {\n      root._bokeh_is_loading = css_urls.length + js_urls.length + js_modules.length + Object.keys(js_exports).length;\n    }\n\n    var existing_stylesheets = []\n    var links = document.getElementsByTagName('link')\n    for (var i = 0; i < links.length; i++) {\n      var link = links[i]\n      if (link.href != null) {\n\texisting_stylesheets.push(link.href)\n      }\n    }\n    for (var i = 0; i < css_urls.length; i++) {\n      var url = css_urls[i];\n      if (existing_stylesheets.indexOf(url) !== -1) {\n\ton_load()\n\tcontinue;\n      }\n      const element = document.createElement(\"link\");\n      element.onload = on_load;\n      element.onerror = on_error;\n      element.rel = \"stylesheet\";\n      element.type = \"text/css\";\n      element.href = url;\n      console.debug(\"Bokeh: injecting link tag for BokehJS stylesheet: \", url);\n      document.body.appendChild(element);\n    }    var existing_scripts = []\n    var scripts = document.getElementsByTagName('script')\n    for (var i = 0; i < scripts.length; i++) {\n      var script = scripts[i]\n      if (script.src != null) {\n\texisting_scripts.push(script.src)\n      }\n    }\n    for (var i = 0; i < js_urls.length; i++) {\n      var url = js_urls[i];\n      if (skip.indexOf(url) !== -1 || existing_scripts.indexOf(url) !== -1) {\n\tif (!window.requirejs) {\n\t  on_load();\n\t}\n\tcontinue;\n      }\n      var element = document.createElement('script');\n      element.onload = on_load;\n      element.onerror = on_error;\n      element.async = false;\n      element.src = url;\n      console.debug(\"Bokeh: injecting script tag for BokehJS library: \", url);\n      document.head.appendChild(element);\n    }\n    for (var i = 0; i < js_modules.length; i++) {\n      var url = js_modules[i];\n      if (skip.indexOf(url) !== -1 || existing_scripts.indexOf(url) !== -1) {\n\tif (!window.requirejs) {\n\t  on_load();\n\t}\n\tcontinue;\n      }\n      var element = document.createElement('script');\n      element.onload = on_load;\n      element.onerror = on_error;\n      element.async = false;\n      element.src = url;\n      element.type = \"module\";\n      console.debug(\"Bokeh: injecting script tag for BokehJS library: \", url);\n      document.head.appendChild(element);\n    }\n    for (const name in js_exports) {\n      var url = js_exports[name];\n      if (skip.indexOf(url) >= 0 || root[name] != null) {\n\tif (!window.requirejs) {\n\t  on_load();\n\t}\n\tcontinue;\n      }\n      var element = document.createElement('script');\n      element.onerror = on_error;\n      element.async = false;\n      element.type = \"module\";\n      console.debug(\"Bokeh: injecting script tag for BokehJS library: \", url);\n      element.textContent = `\n      import ${name} from \"${url}\"\n      window.${name} = ${name}\n      window._bokeh_on_load()\n      `\n      document.head.appendChild(element);\n    }\n    if (!js_urls.length && !js_modules.length) {\n      on_load()\n    }\n  };\n\n  function inject_raw_css(css) {\n    const element = document.createElement(\"style\");\n    element.appendChild(document.createTextNode(css));\n    document.body.appendChild(element);\n  }\n\n  var js_urls = [\"https://cdn.bokeh.org/bokeh/release/bokeh-3.4.1.min.js\", \"https://cdn.bokeh.org/bokeh/release/bokeh-gl-3.4.1.min.js\", \"https://cdn.bokeh.org/bokeh/release/bokeh-widgets-3.4.1.min.js\", \"https://cdn.bokeh.org/bokeh/release/bokeh-tables-3.4.1.min.js\", \"https://cdn.holoviz.org/panel/1.4.4/dist/panel.min.js\"];\n  var js_modules = [];\n  var js_exports = {};\n  var css_urls = [];\n  var inline_js = [    function(Bokeh) {\n      Bokeh.set_log_level(\"info\");\n    },\nfunction(Bokeh) {} // ensure no trailing comma for IE\n  ];\n\n  function run_inline_js() {\n    if ((root.Bokeh !== undefined) || (force === true)) {\n      for (var i = 0; i < inline_js.length; i++) {\n\ttry {\n          inline_js[i].call(root, root.Bokeh);\n\t} catch(e) {\n\t  if (!reloading) {\n\t    throw e;\n\t  }\n\t}\n      }\n      // Cache old bokeh versions\n      if (Bokeh != undefined && !reloading) {\n\tvar NewBokeh = root.Bokeh;\n\tif (Bokeh.versions === undefined) {\n\t  Bokeh.versions = new Map();\n\t}\n\tif (NewBokeh.version !== Bokeh.version) {\n\t  Bokeh.versions.set(NewBokeh.version, NewBokeh)\n\t}\n\troot.Bokeh = Bokeh;\n      }} else if (Date.now() < root._bokeh_timeout) {\n      setTimeout(run_inline_js, 100);\n    } else if (!root._bokeh_failed_load) {\n      console.log(\"Bokeh: BokehJS failed to load within specified timeout.\");\n      root._bokeh_failed_load = true;\n    }\n    root._bokeh_is_initializing = false\n  }\n\n  function load_or_wait() {\n    // Implement a backoff loop that tries to ensure we do not load multiple\n    // versions of Bokeh and its dependencies at the same time.\n    // In recent versions we use the root._bokeh_is_initializing flag\n    // to determine whether there is an ongoing attempt to initialize\n    // bokeh, however for backward compatibility we also try to ensure\n    // that we do not start loading a newer (Panel>=1.0 and Bokeh>3) version\n    // before older versions are fully initialized.\n    if (root._bokeh_is_initializing && Date.now() > root._bokeh_timeout) {\n      root._bokeh_is_initializing = false;\n      root._bokeh_onload_callbacks = undefined;\n      console.log(\"Bokeh: BokehJS was loaded multiple times but one version failed to initialize.\");\n      load_or_wait();\n    } else if (root._bokeh_is_initializing || (typeof root._bokeh_is_initializing === \"undefined\" && root._bokeh_onload_callbacks !== undefined)) {\n      setTimeout(load_or_wait, 100);\n    } else {\n      root._bokeh_is_initializing = true\n      root._bokeh_onload_callbacks = []\n      var bokeh_loaded = Bokeh != null && (Bokeh.version === py_version || (Bokeh.versions !== undefined && Bokeh.versions.has(py_version)));\n      if (!reloading && !bokeh_loaded) {\n\troot.Bokeh = undefined;\n      }\n      load_libs(css_urls, js_urls, js_modules, js_exports, function() {\n\tconsole.debug(\"Bokeh: BokehJS plotting callback run at\", now());\n\trun_inline_js();\n      });\n    }\n  }\n  // Give older versions of the autoload script a head-start to ensure\n  // they initialize before we start loading newer version.\n  setTimeout(load_or_wait, 100)\n}(window));",
      "application/vnd.holoviews_load.v0+json": ""
     },
     "metadata": {},
     "output_type": "display_data"
    },
    {
     "data": {
      "application/javascript": "\nif ((window.PyViz === undefined) || (window.PyViz instanceof HTMLElement)) {\n  window.PyViz = {comms: {}, comm_status:{}, kernels:{}, receivers: {}, plot_index: []}\n}\n\n\n    function JupyterCommManager() {\n    }\n\n    JupyterCommManager.prototype.register_target = function(plot_id, comm_id, msg_handler) {\n      if (window.comm_manager || ((window.Jupyter !== undefined) && (Jupyter.notebook.kernel != null))) {\n        var comm_manager = window.comm_manager || Jupyter.notebook.kernel.comm_manager;\n        comm_manager.register_target(comm_id, function(comm) {\n          comm.on_msg(msg_handler);\n        });\n      } else if ((plot_id in window.PyViz.kernels) && (window.PyViz.kernels[plot_id])) {\n        window.PyViz.kernels[plot_id].registerCommTarget(comm_id, function(comm) {\n          comm.onMsg = msg_handler;\n        });\n      } else if (typeof google != 'undefined' && google.colab.kernel != null) {\n        google.colab.kernel.comms.registerTarget(comm_id, (comm) => {\n          var messages = comm.messages[Symbol.asyncIterator]();\n          function processIteratorResult(result) {\n            var message = result.value;\n            console.log(message)\n            var content = {data: message.data, comm_id};\n            var buffers = []\n            for (var buffer of message.buffers || []) {\n              buffers.push(new DataView(buffer))\n            }\n            var metadata = message.metadata || {};\n            var msg = {content, buffers, metadata}\n            msg_handler(msg);\n            return messages.next().then(processIteratorResult);\n          }\n          return messages.next().then(processIteratorResult);\n        })\n      }\n    }\n\n    JupyterCommManager.prototype.get_client_comm = function(plot_id, comm_id, msg_handler) {\n      if (comm_id in window.PyViz.comms) {\n        return window.PyViz.comms[comm_id];\n      } else if (window.comm_manager || ((window.Jupyter !== undefined) && (Jupyter.notebook.kernel != null))) {\n        var comm_manager = window.comm_manager || Jupyter.notebook.kernel.comm_manager;\n        var comm = comm_manager.new_comm(comm_id, {}, {}, {}, comm_id);\n        if (msg_handler) {\n          comm.on_msg(msg_handler);\n        }\n      } else if ((plot_id in window.PyViz.kernels) && (window.PyViz.kernels[plot_id])) {\n        var comm = window.PyViz.kernels[plot_id].connectToComm(comm_id);\n        comm.open();\n        if (msg_handler) {\n          comm.onMsg = msg_handler;\n        }\n      } else if (typeof google != 'undefined' && google.colab.kernel != null) {\n        var comm_promise = google.colab.kernel.comms.open(comm_id)\n        comm_promise.then((comm) => {\n          window.PyViz.comms[comm_id] = comm;\n          if (msg_handler) {\n            var messages = comm.messages[Symbol.asyncIterator]();\n            function processIteratorResult(result) {\n              var message = result.value;\n              var content = {data: message.data};\n              var metadata = message.metadata || {comm_id};\n              var msg = {content, metadata}\n              msg_handler(msg);\n              return messages.next().then(processIteratorResult);\n            }\n            return messages.next().then(processIteratorResult);\n          }\n        }) \n        var sendClosure = (data, metadata, buffers, disposeOnDone) => {\n          return comm_promise.then((comm) => {\n            comm.send(data, metadata, buffers, disposeOnDone);\n          });\n        };\n        var comm = {\n          send: sendClosure\n        };\n      }\n      window.PyViz.comms[comm_id] = comm;\n      return comm;\n    }\n    window.PyViz.comm_manager = new JupyterCommManager();\n    \n\n\nvar JS_MIME_TYPE = 'application/javascript';\nvar HTML_MIME_TYPE = 'text/html';\nvar EXEC_MIME_TYPE = 'application/vnd.holoviews_exec.v0+json';\nvar CLASS_NAME = 'output';\n\n/**\n * Render data to the DOM node\n */\nfunction render(props, node) {\n  var div = document.createElement(\"div\");\n  var script = document.createElement(\"script\");\n  node.appendChild(div);\n  node.appendChild(script);\n}\n\n/**\n * Handle when a new output is added\n */\nfunction handle_add_output(event, handle) {\n  var output_area = handle.output_area;\n  var output = handle.output;\n  if ((output.data == undefined) || (!output.data.hasOwnProperty(EXEC_MIME_TYPE))) {\n    return\n  }\n  var id = output.metadata[EXEC_MIME_TYPE][\"id\"];\n  var toinsert = output_area.element.find(\".\" + CLASS_NAME.split(' ')[0]);\n  if (id !== undefined) {\n    var nchildren = toinsert.length;\n    var html_node = toinsert[nchildren-1].children[0];\n    html_node.innerHTML = output.data[HTML_MIME_TYPE];\n    var scripts = [];\n    var nodelist = html_node.querySelectorAll(\"script\");\n    for (var i in nodelist) {\n      if (nodelist.hasOwnProperty(i)) {\n        scripts.push(nodelist[i])\n      }\n    }\n\n    scripts.forEach( function (oldScript) {\n      var newScript = document.createElement(\"script\");\n      var attrs = [];\n      var nodemap = oldScript.attributes;\n      for (var j in nodemap) {\n        if (nodemap.hasOwnProperty(j)) {\n          attrs.push(nodemap[j])\n        }\n      }\n      attrs.forEach(function(attr) { newScript.setAttribute(attr.name, attr.value) });\n      newScript.appendChild(document.createTextNode(oldScript.innerHTML));\n      oldScript.parentNode.replaceChild(newScript, oldScript);\n    });\n    if (JS_MIME_TYPE in output.data) {\n      toinsert[nchildren-1].children[1].textContent = output.data[JS_MIME_TYPE];\n    }\n    output_area._hv_plot_id = id;\n    if ((window.Bokeh !== undefined) && (id in Bokeh.index)) {\n      window.PyViz.plot_index[id] = Bokeh.index[id];\n    } else {\n      window.PyViz.plot_index[id] = null;\n    }\n  } else if (output.metadata[EXEC_MIME_TYPE][\"server_id\"] !== undefined) {\n    var bk_div = document.createElement(\"div\");\n    bk_div.innerHTML = output.data[HTML_MIME_TYPE];\n    var script_attrs = bk_div.children[0].attributes;\n    for (var i = 0; i < script_attrs.length; i++) {\n      toinsert[toinsert.length - 1].childNodes[1].setAttribute(script_attrs[i].name, script_attrs[i].value);\n    }\n    // store reference to server id on output_area\n    output_area._bokeh_server_id = output.metadata[EXEC_MIME_TYPE][\"server_id\"];\n  }\n}\n\n/**\n * Handle when an output is cleared or removed\n */\nfunction handle_clear_output(event, handle) {\n  var id = handle.cell.output_area._hv_plot_id;\n  var server_id = handle.cell.output_area._bokeh_server_id;\n  if (((id === undefined) || !(id in PyViz.plot_index)) && (server_id !== undefined)) { return; }\n  var comm = window.PyViz.comm_manager.get_client_comm(\"hv-extension-comm\", \"hv-extension-comm\", function () {});\n  if (server_id !== null) {\n    comm.send({event_type: 'server_delete', 'id': server_id});\n    return;\n  } else if (comm !== null) {\n    comm.send({event_type: 'delete', 'id': id});\n  }\n  delete PyViz.plot_index[id];\n  if ((window.Bokeh !== undefined) & (id in window.Bokeh.index)) {\n    var doc = window.Bokeh.index[id].model.document\n    doc.clear();\n    const i = window.Bokeh.documents.indexOf(doc);\n    if (i > -1) {\n      window.Bokeh.documents.splice(i, 1);\n    }\n  }\n}\n\n/**\n * Handle kernel restart event\n */\nfunction handle_kernel_cleanup(event, handle) {\n  delete PyViz.comms[\"hv-extension-comm\"];\n  window.PyViz.plot_index = {}\n}\n\n/**\n * Handle update_display_data messages\n */\nfunction handle_update_output(event, handle) {\n  handle_clear_output(event, {cell: {output_area: handle.output_area}})\n  handle_add_output(event, handle)\n}\n\nfunction register_renderer(events, OutputArea) {\n  function append_mime(data, metadata, element) {\n    // create a DOM node to render to\n    var toinsert = this.create_output_subarea(\n    metadata,\n    CLASS_NAME,\n    EXEC_MIME_TYPE\n    );\n    this.keyboard_manager.register_events(toinsert);\n    // Render to node\n    var props = {data: data, metadata: metadata[EXEC_MIME_TYPE]};\n    render(props, toinsert[0]);\n    element.append(toinsert);\n    return toinsert\n  }\n\n  events.on('output_added.OutputArea', handle_add_output);\n  events.on('output_updated.OutputArea', handle_update_output);\n  events.on('clear_output.CodeCell', handle_clear_output);\n  events.on('delete.Cell', handle_clear_output);\n  events.on('kernel_ready.Kernel', handle_kernel_cleanup);\n\n  OutputArea.prototype.register_mime_type(EXEC_MIME_TYPE, append_mime, {\n    safe: true,\n    index: 0\n  });\n}\n\nif (window.Jupyter !== undefined) {\n  try {\n    var events = require('base/js/events');\n    var OutputArea = require('notebook/js/outputarea').OutputArea;\n    if (OutputArea.prototype.mime_types().indexOf(EXEC_MIME_TYPE) == -1) {\n      register_renderer(events, OutputArea);\n    }\n  } catch(err) {\n  }\n}\n",
      "application/vnd.holoviews_load.v0+json": ""
     },
     "metadata": {},
     "output_type": "display_data"
    },
    {
     "data": {
      "text/html": [
       "<style>*[data-root-id],\n",
       "*[data-root-id] > * {\n",
       "  box-sizing: border-box;\n",
       "  font-family: var(--jp-ui-font-family);\n",
       "  font-size: var(--jp-ui-font-size1);\n",
       "  color: var(--vscode-editor-foreground, var(--jp-ui-font-color1));\n",
       "}\n",
       "\n",
       "/* Override VSCode background color */\n",
       ".cell-output-ipywidget-background:has(\n",
       "    > .cell-output-ipywidget-background > .lm-Widget > *[data-root-id]\n",
       "  ),\n",
       ".cell-output-ipywidget-background:has(> .lm-Widget > *[data-root-id]) {\n",
       "  background-color: transparent !important;\n",
       "}\n",
       "</style>"
      ]
     },
     "metadata": {},
     "output_type": "display_data"
    },
    {
     "data": {
      "application/vnd.holoviews_exec.v0+json": "",
      "text/html": [
       "<div id='p1002'>\n",
       "  <div id=\"b6cec89e-a326-4a02-bda3-b70dffeb3432\" data-root-id=\"p1002\" style=\"display: contents;\"></div>\n",
       "</div>\n",
       "<script type=\"application/javascript\">(function(root) {\n",
       "  var docs_json = {\"08f323fb-18cd-445f-ad00-e601b01d3a46\":{\"version\":\"3.4.1\",\"title\":\"Bokeh Application\",\"roots\":[{\"type\":\"object\",\"name\":\"panel.models.browser.BrowserInfo\",\"id\":\"p1002\"},{\"type\":\"object\",\"name\":\"panel.models.comm_manager.CommManager\",\"id\":\"p1003\",\"attributes\":{\"plot_id\":\"p1002\",\"comm_id\":\"9152d2e1181d4b2c809cd698197488b2\",\"client_comm_id\":\"f38da322dc684adaa1840f7f40d5f4a3\"}}],\"defs\":[{\"type\":\"model\",\"name\":\"ReactiveHTML1\"},{\"type\":\"model\",\"name\":\"FlexBox1\",\"properties\":[{\"name\":\"align_content\",\"kind\":\"Any\",\"default\":\"flex-start\"},{\"name\":\"align_items\",\"kind\":\"Any\",\"default\":\"flex-start\"},{\"name\":\"flex_direction\",\"kind\":\"Any\",\"default\":\"row\"},{\"name\":\"flex_wrap\",\"kind\":\"Any\",\"default\":\"wrap\"},{\"name\":\"gap\",\"kind\":\"Any\",\"default\":\"\"},{\"name\":\"justify_content\",\"kind\":\"Any\",\"default\":\"flex-start\"}]},{\"type\":\"model\",\"name\":\"FloatPanel1\",\"properties\":[{\"name\":\"config\",\"kind\":\"Any\",\"default\":{\"type\":\"map\"}},{\"name\":\"contained\",\"kind\":\"Any\",\"default\":true},{\"name\":\"position\",\"kind\":\"Any\",\"default\":\"right-top\"},{\"name\":\"offsetx\",\"kind\":\"Any\",\"default\":null},{\"name\":\"offsety\",\"kind\":\"Any\",\"default\":null},{\"name\":\"theme\",\"kind\":\"Any\",\"default\":\"primary\"},{\"name\":\"status\",\"kind\":\"Any\",\"default\":\"normalized\"}]},{\"type\":\"model\",\"name\":\"GridStack1\",\"properties\":[{\"name\":\"mode\",\"kind\":\"Any\",\"default\":\"warn\"},{\"name\":\"ncols\",\"kind\":\"Any\",\"default\":null},{\"name\":\"nrows\",\"kind\":\"Any\",\"default\":null},{\"name\":\"allow_resize\",\"kind\":\"Any\",\"default\":true},{\"name\":\"allow_drag\",\"kind\":\"Any\",\"default\":true},{\"name\":\"state\",\"kind\":\"Any\",\"default\":[]}]},{\"type\":\"model\",\"name\":\"drag1\",\"properties\":[{\"name\":\"slider_width\",\"kind\":\"Any\",\"default\":5},{\"name\":\"slider_color\",\"kind\":\"Any\",\"default\":\"black\"},{\"name\":\"value\",\"kind\":\"Any\",\"default\":50}]},{\"type\":\"model\",\"name\":\"click1\",\"properties\":[{\"name\":\"terminal_output\",\"kind\":\"Any\",\"default\":\"\"},{\"name\":\"debug_name\",\"kind\":\"Any\",\"default\":\"\"},{\"name\":\"clears\",\"kind\":\"Any\",\"default\":0}]},{\"type\":\"model\",\"name\":\"FastWrapper1\",\"properties\":[{\"name\":\"object\",\"kind\":\"Any\",\"default\":null},{\"name\":\"style\",\"kind\":\"Any\",\"default\":null}]},{\"type\":\"model\",\"name\":\"NotificationAreaBase1\",\"properties\":[{\"name\":\"js_events\",\"kind\":\"Any\",\"default\":{\"type\":\"map\"}},{\"name\":\"position\",\"kind\":\"Any\",\"default\":\"bottom-right\"},{\"name\":\"_clear\",\"kind\":\"Any\",\"default\":0}]},{\"type\":\"model\",\"name\":\"NotificationArea1\",\"properties\":[{\"name\":\"js_events\",\"kind\":\"Any\",\"default\":{\"type\":\"map\"}},{\"name\":\"notifications\",\"kind\":\"Any\",\"default\":[]},{\"name\":\"position\",\"kind\":\"Any\",\"default\":\"bottom-right\"},{\"name\":\"_clear\",\"kind\":\"Any\",\"default\":0},{\"name\":\"types\",\"kind\":\"Any\",\"default\":[{\"type\":\"map\",\"entries\":[[\"type\",\"warning\"],[\"background\",\"#ffc107\"],[\"icon\",{\"type\":\"map\",\"entries\":[[\"className\",\"fas fa-exclamation-triangle\"],[\"tagName\",\"i\"],[\"color\",\"white\"]]}]]},{\"type\":\"map\",\"entries\":[[\"type\",\"info\"],[\"background\",\"#007bff\"],[\"icon\",{\"type\":\"map\",\"entries\":[[\"className\",\"fas fa-info-circle\"],[\"tagName\",\"i\"],[\"color\",\"white\"]]}]]}]}]},{\"type\":\"model\",\"name\":\"Notification\",\"properties\":[{\"name\":\"background\",\"kind\":\"Any\",\"default\":null},{\"name\":\"duration\",\"kind\":\"Any\",\"default\":3000},{\"name\":\"icon\",\"kind\":\"Any\",\"default\":null},{\"name\":\"message\",\"kind\":\"Any\",\"default\":\"\"},{\"name\":\"notification_type\",\"kind\":\"Any\",\"default\":null},{\"name\":\"_destroyed\",\"kind\":\"Any\",\"default\":false}]},{\"type\":\"model\",\"name\":\"TemplateActions1\",\"properties\":[{\"name\":\"open_modal\",\"kind\":\"Any\",\"default\":0},{\"name\":\"close_modal\",\"kind\":\"Any\",\"default\":0}]},{\"type\":\"model\",\"name\":\"BootstrapTemplateActions1\",\"properties\":[{\"name\":\"open_modal\",\"kind\":\"Any\",\"default\":0},{\"name\":\"close_modal\",\"kind\":\"Any\",\"default\":0}]},{\"type\":\"model\",\"name\":\"TemplateEditor1\",\"properties\":[{\"name\":\"layout\",\"kind\":\"Any\",\"default\":[]}]},{\"type\":\"model\",\"name\":\"MaterialTemplateActions1\",\"properties\":[{\"name\":\"open_modal\",\"kind\":\"Any\",\"default\":0},{\"name\":\"close_modal\",\"kind\":\"Any\",\"default\":0}]},{\"type\":\"model\",\"name\":\"copy_to_clipboard1\",\"properties\":[{\"name\":\"fill\",\"kind\":\"Any\",\"default\":\"none\"},{\"name\":\"value\",\"kind\":\"Any\",\"default\":null}]}]}};\n",
       "  var render_items = [{\"docid\":\"08f323fb-18cd-445f-ad00-e601b01d3a46\",\"roots\":{\"p1002\":\"b6cec89e-a326-4a02-bda3-b70dffeb3432\"},\"root_ids\":[\"p1002\"]}];\n",
       "  var docs = Object.values(docs_json)\n",
       "  if (!docs) {\n",
       "    return\n",
       "  }\n",
       "  const py_version = docs[0].version.replace('rc', '-rc.').replace('.dev', '-dev.')\n",
       "  async function embed_document(root) {\n",
       "    var Bokeh = get_bokeh(root)\n",
       "    await Bokeh.embed.embed_items_notebook(docs_json, render_items);\n",
       "    for (const render_item of render_items) {\n",
       "      for (const root_id of render_item.root_ids) {\n",
       "\tconst id_el = document.getElementById(root_id)\n",
       "\tif (id_el.children.length && id_el.children[0].hasAttribute('data-root-id')) {\n",
       "\t  const root_el = id_el.children[0]\n",
       "\t  root_el.id = root_el.id + '-rendered'\n",
       "\t  for (const child of root_el.children) {\n",
       "            // Ensure JupyterLab does not capture keyboard shortcuts\n",
       "            // see: https://jupyterlab.readthedocs.io/en/4.1.x/extension/notebook.html#keyboard-interaction-model\n",
       "\t    child.setAttribute('data-lm-suppress-shortcuts', 'true')\n",
       "\t  }\n",
       "\t}\n",
       "      }\n",
       "    }\n",
       "  }\n",
       "  function get_bokeh(root) {\n",
       "    if (root.Bokeh === undefined) {\n",
       "      return null\n",
       "    } else if (root.Bokeh.version !== py_version) {\n",
       "      if (root.Bokeh.versions === undefined || !root.Bokeh.versions.has(py_version)) {\n",
       "\treturn null\n",
       "      }\n",
       "      return root.Bokeh.versions.get(py_version);\n",
       "    } else if (root.Bokeh.version === py_version) {\n",
       "      return root.Bokeh\n",
       "    }\n",
       "    return null\n",
       "  }\n",
       "  function is_loaded(root) {\n",
       "    var Bokeh = get_bokeh(root)\n",
       "    return (Bokeh != null && Bokeh.Panel !== undefined)\n",
       "  }\n",
       "  if (is_loaded(root)) {\n",
       "    embed_document(root);\n",
       "  } else {\n",
       "    var attempts = 0;\n",
       "    var timer = setInterval(function(root) {\n",
       "      if (is_loaded(root)) {\n",
       "        clearInterval(timer);\n",
       "        embed_document(root);\n",
       "      } else if (document.readyState == \"complete\") {\n",
       "        attempts++;\n",
       "        if (attempts > 200) {\n",
       "          clearInterval(timer);\n",
       "\t  var Bokeh = get_bokeh(root)\n",
       "\t  if (Bokeh == null || Bokeh.Panel == null) {\n",
       "            console.warn(\"Panel: ERROR: Unable to run Panel code because Bokeh or Panel library is missing\");\n",
       "\t  } else {\n",
       "\t    console.warn(\"Panel: WARNING: Attempting to render but not all required libraries could be resolved.\")\n",
       "\t    embed_document(root)\n",
       "\t  }\n",
       "        }\n",
       "      }\n",
       "    }, 25, root)\n",
       "  }\n",
       "})(window);</script>"
      ]
     },
     "metadata": {
      "application/vnd.holoviews_exec.v0+json": {
       "id": "p1002"
      }
     },
     "output_type": "display_data"
    },
    {
     "data": {
      "application/javascript": "(function(root) {\n  function now() {\n    return new Date();\n  }\n\n  var force = true;\n  var py_version = '3.4.1'.replace('rc', '-rc.').replace('.dev', '-dev.');\n  var reloading = true;\n  var Bokeh = root.Bokeh;\n\n  if (typeof (root._bokeh_timeout) === \"undefined\" || force) {\n    root._bokeh_timeout = Date.now() + 5000;\n    root._bokeh_failed_load = false;\n  }\n\n  function run_callbacks() {\n    try {\n      root._bokeh_onload_callbacks.forEach(function(callback) {\n        if (callback != null)\n          callback();\n      });\n    } finally {\n      delete root._bokeh_onload_callbacks;\n    }\n    console.debug(\"Bokeh: all callbacks have finished\");\n  }\n\n  function load_libs(css_urls, js_urls, js_modules, js_exports, callback) {\n    if (css_urls == null) css_urls = [];\n    if (js_urls == null) js_urls = [];\n    if (js_modules == null) js_modules = [];\n    if (js_exports == null) js_exports = {};\n\n    root._bokeh_onload_callbacks.push(callback);\n\n    if (root._bokeh_is_loading > 0) {\n      console.debug(\"Bokeh: BokehJS is being loaded, scheduling callback at\", now());\n      return null;\n    }\n    if (js_urls.length === 0 && js_modules.length === 0 && Object.keys(js_exports).length === 0) {\n      run_callbacks();\n      return null;\n    }\n    if (!reloading) {\n      console.debug(\"Bokeh: BokehJS not loaded, scheduling load and callback at\", now());\n    }\n\n    function on_load() {\n      root._bokeh_is_loading--;\n      if (root._bokeh_is_loading === 0) {\n        console.debug(\"Bokeh: all BokehJS libraries/stylesheets loaded\");\n        run_callbacks()\n      }\n    }\n    window._bokeh_on_load = on_load\n\n    function on_error() {\n      console.error(\"failed to load \" + url);\n    }\n\n    var skip = [];\n    if (window.requirejs) {\n      window.requirejs.config({'packages': {}, 'paths': {}, 'shim': {}});\n      root._bokeh_is_loading = css_urls.length + 0;\n    } else {\n      root._bokeh_is_loading = css_urls.length + js_urls.length + js_modules.length + Object.keys(js_exports).length;\n    }\n\n    var existing_stylesheets = []\n    var links = document.getElementsByTagName('link')\n    for (var i = 0; i < links.length; i++) {\n      var link = links[i]\n      if (link.href != null) {\n\texisting_stylesheets.push(link.href)\n      }\n    }\n    for (var i = 0; i < css_urls.length; i++) {\n      var url = css_urls[i];\n      if (existing_stylesheets.indexOf(url) !== -1) {\n\ton_load()\n\tcontinue;\n      }\n      const element = document.createElement(\"link\");\n      element.onload = on_load;\n      element.onerror = on_error;\n      element.rel = \"stylesheet\";\n      element.type = \"text/css\";\n      element.href = url;\n      console.debug(\"Bokeh: injecting link tag for BokehJS stylesheet: \", url);\n      document.body.appendChild(element);\n    }    var existing_scripts = []\n    var scripts = document.getElementsByTagName('script')\n    for (var i = 0; i < scripts.length; i++) {\n      var script = scripts[i]\n      if (script.src != null) {\n\texisting_scripts.push(script.src)\n      }\n    }\n    for (var i = 0; i < js_urls.length; i++) {\n      var url = js_urls[i];\n      if (skip.indexOf(url) !== -1 || existing_scripts.indexOf(url) !== -1) {\n\tif (!window.requirejs) {\n\t  on_load();\n\t}\n\tcontinue;\n      }\n      var element = document.createElement('script');\n      element.onload = on_load;\n      element.onerror = on_error;\n      element.async = false;\n      element.src = url;\n      console.debug(\"Bokeh: injecting script tag for BokehJS library: \", url);\n      document.head.appendChild(element);\n    }\n    for (var i = 0; i < js_modules.length; i++) {\n      var url = js_modules[i];\n      if (skip.indexOf(url) !== -1 || existing_scripts.indexOf(url) !== -1) {\n\tif (!window.requirejs) {\n\t  on_load();\n\t}\n\tcontinue;\n      }\n      var element = document.createElement('script');\n      element.onload = on_load;\n      element.onerror = on_error;\n      element.async = false;\n      element.src = url;\n      element.type = \"module\";\n      console.debug(\"Bokeh: injecting script tag for BokehJS library: \", url);\n      document.head.appendChild(element);\n    }\n    for (const name in js_exports) {\n      var url = js_exports[name];\n      if (skip.indexOf(url) >= 0 || root[name] != null) {\n\tif (!window.requirejs) {\n\t  on_load();\n\t}\n\tcontinue;\n      }\n      var element = document.createElement('script');\n      element.onerror = on_error;\n      element.async = false;\n      element.type = \"module\";\n      console.debug(\"Bokeh: injecting script tag for BokehJS library: \", url);\n      element.textContent = `\n      import ${name} from \"${url}\"\n      window.${name} = ${name}\n      window._bokeh_on_load()\n      `\n      document.head.appendChild(element);\n    }\n    if (!js_urls.length && !js_modules.length) {\n      on_load()\n    }\n  };\n\n  function inject_raw_css(css) {\n    const element = document.createElement(\"style\");\n    element.appendChild(document.createTextNode(css));\n    document.body.appendChild(element);\n  }\n\n  var js_urls = [];\n  var js_modules = [];\n  var js_exports = {};\n  var css_urls = [];\n  var inline_js = [    function(Bokeh) {\n      Bokeh.set_log_level(\"info\");\n    },\nfunction(Bokeh) {} // ensure no trailing comma for IE\n  ];\n\n  function run_inline_js() {\n    if ((root.Bokeh !== undefined) || (force === true)) {\n      for (var i = 0; i < inline_js.length; i++) {\n\ttry {\n          inline_js[i].call(root, root.Bokeh);\n\t} catch(e) {\n\t  if (!reloading) {\n\t    throw e;\n\t  }\n\t}\n      }\n      // Cache old bokeh versions\n      if (Bokeh != undefined && !reloading) {\n\tvar NewBokeh = root.Bokeh;\n\tif (Bokeh.versions === undefined) {\n\t  Bokeh.versions = new Map();\n\t}\n\tif (NewBokeh.version !== Bokeh.version) {\n\t  Bokeh.versions.set(NewBokeh.version, NewBokeh)\n\t}\n\troot.Bokeh = Bokeh;\n      }} else if (Date.now() < root._bokeh_timeout) {\n      setTimeout(run_inline_js, 100);\n    } else if (!root._bokeh_failed_load) {\n      console.log(\"Bokeh: BokehJS failed to load within specified timeout.\");\n      root._bokeh_failed_load = true;\n    }\n    root._bokeh_is_initializing = false\n  }\n\n  function load_or_wait() {\n    // Implement a backoff loop that tries to ensure we do not load multiple\n    // versions of Bokeh and its dependencies at the same time.\n    // In recent versions we use the root._bokeh_is_initializing flag\n    // to determine whether there is an ongoing attempt to initialize\n    // bokeh, however for backward compatibility we also try to ensure\n    // that we do not start loading a newer (Panel>=1.0 and Bokeh>3) version\n    // before older versions are fully initialized.\n    if (root._bokeh_is_initializing && Date.now() > root._bokeh_timeout) {\n      root._bokeh_is_initializing = false;\n      root._bokeh_onload_callbacks = undefined;\n      console.log(\"Bokeh: BokehJS was loaded multiple times but one version failed to initialize.\");\n      load_or_wait();\n    } else if (root._bokeh_is_initializing || (typeof root._bokeh_is_initializing === \"undefined\" && root._bokeh_onload_callbacks !== undefined)) {\n      setTimeout(load_or_wait, 100);\n    } else {\n      root._bokeh_is_initializing = true\n      root._bokeh_onload_callbacks = []\n      var bokeh_loaded = Bokeh != null && (Bokeh.version === py_version || (Bokeh.versions !== undefined && Bokeh.versions.has(py_version)));\n      if (!reloading && !bokeh_loaded) {\n\troot.Bokeh = undefined;\n      }\n      load_libs(css_urls, js_urls, js_modules, js_exports, function() {\n\tconsole.debug(\"Bokeh: BokehJS plotting callback run at\", now());\n\trun_inline_js();\n      });\n    }\n  }\n  // Give older versions of the autoload script a head-start to ensure\n  // they initialize before we start loading newer version.\n  setTimeout(load_or_wait, 100)\n}(window));",
      "application/vnd.holoviews_load.v0+json": ""
     },
     "metadata": {},
     "output_type": "display_data"
    },
    {
     "data": {
      "application/javascript": "\nif ((window.PyViz === undefined) || (window.PyViz instanceof HTMLElement)) {\n  window.PyViz = {comms: {}, comm_status:{}, kernels:{}, receivers: {}, plot_index: []}\n}\n\n\n    function JupyterCommManager() {\n    }\n\n    JupyterCommManager.prototype.register_target = function(plot_id, comm_id, msg_handler) {\n      if (window.comm_manager || ((window.Jupyter !== undefined) && (Jupyter.notebook.kernel != null))) {\n        var comm_manager = window.comm_manager || Jupyter.notebook.kernel.comm_manager;\n        comm_manager.register_target(comm_id, function(comm) {\n          comm.on_msg(msg_handler);\n        });\n      } else if ((plot_id in window.PyViz.kernels) && (window.PyViz.kernels[plot_id])) {\n        window.PyViz.kernels[plot_id].registerCommTarget(comm_id, function(comm) {\n          comm.onMsg = msg_handler;\n        });\n      } else if (typeof google != 'undefined' && google.colab.kernel != null) {\n        google.colab.kernel.comms.registerTarget(comm_id, (comm) => {\n          var messages = comm.messages[Symbol.asyncIterator]();\n          function processIteratorResult(result) {\n            var message = result.value;\n            console.log(message)\n            var content = {data: message.data, comm_id};\n            var buffers = []\n            for (var buffer of message.buffers || []) {\n              buffers.push(new DataView(buffer))\n            }\n            var metadata = message.metadata || {};\n            var msg = {content, buffers, metadata}\n            msg_handler(msg);\n            return messages.next().then(processIteratorResult);\n          }\n          return messages.next().then(processIteratorResult);\n        })\n      }\n    }\n\n    JupyterCommManager.prototype.get_client_comm = function(plot_id, comm_id, msg_handler) {\n      if (comm_id in window.PyViz.comms) {\n        return window.PyViz.comms[comm_id];\n      } else if (window.comm_manager || ((window.Jupyter !== undefined) && (Jupyter.notebook.kernel != null))) {\n        var comm_manager = window.comm_manager || Jupyter.notebook.kernel.comm_manager;\n        var comm = comm_manager.new_comm(comm_id, {}, {}, {}, comm_id);\n        if (msg_handler) {\n          comm.on_msg(msg_handler);\n        }\n      } else if ((plot_id in window.PyViz.kernels) && (window.PyViz.kernels[plot_id])) {\n        var comm = window.PyViz.kernels[plot_id].connectToComm(comm_id);\n        comm.open();\n        if (msg_handler) {\n          comm.onMsg = msg_handler;\n        }\n      } else if (typeof google != 'undefined' && google.colab.kernel != null) {\n        var comm_promise = google.colab.kernel.comms.open(comm_id)\n        comm_promise.then((comm) => {\n          window.PyViz.comms[comm_id] = comm;\n          if (msg_handler) {\n            var messages = comm.messages[Symbol.asyncIterator]();\n            function processIteratorResult(result) {\n              var message = result.value;\n              var content = {data: message.data};\n              var metadata = message.metadata || {comm_id};\n              var msg = {content, metadata}\n              msg_handler(msg);\n              return messages.next().then(processIteratorResult);\n            }\n            return messages.next().then(processIteratorResult);\n          }\n        }) \n        var sendClosure = (data, metadata, buffers, disposeOnDone) => {\n          return comm_promise.then((comm) => {\n            comm.send(data, metadata, buffers, disposeOnDone);\n          });\n        };\n        var comm = {\n          send: sendClosure\n        };\n      }\n      window.PyViz.comms[comm_id] = comm;\n      return comm;\n    }\n    window.PyViz.comm_manager = new JupyterCommManager();\n    \n\n\nvar JS_MIME_TYPE = 'application/javascript';\nvar HTML_MIME_TYPE = 'text/html';\nvar EXEC_MIME_TYPE = 'application/vnd.holoviews_exec.v0+json';\nvar CLASS_NAME = 'output';\n\n/**\n * Render data to the DOM node\n */\nfunction render(props, node) {\n  var div = document.createElement(\"div\");\n  var script = document.createElement(\"script\");\n  node.appendChild(div);\n  node.appendChild(script);\n}\n\n/**\n * Handle when a new output is added\n */\nfunction handle_add_output(event, handle) {\n  var output_area = handle.output_area;\n  var output = handle.output;\n  if ((output.data == undefined) || (!output.data.hasOwnProperty(EXEC_MIME_TYPE))) {\n    return\n  }\n  var id = output.metadata[EXEC_MIME_TYPE][\"id\"];\n  var toinsert = output_area.element.find(\".\" + CLASS_NAME.split(' ')[0]);\n  if (id !== undefined) {\n    var nchildren = toinsert.length;\n    var html_node = toinsert[nchildren-1].children[0];\n    html_node.innerHTML = output.data[HTML_MIME_TYPE];\n    var scripts = [];\n    var nodelist = html_node.querySelectorAll(\"script\");\n    for (var i in nodelist) {\n      if (nodelist.hasOwnProperty(i)) {\n        scripts.push(nodelist[i])\n      }\n    }\n\n    scripts.forEach( function (oldScript) {\n      var newScript = document.createElement(\"script\");\n      var attrs = [];\n      var nodemap = oldScript.attributes;\n      for (var j in nodemap) {\n        if (nodemap.hasOwnProperty(j)) {\n          attrs.push(nodemap[j])\n        }\n      }\n      attrs.forEach(function(attr) { newScript.setAttribute(attr.name, attr.value) });\n      newScript.appendChild(document.createTextNode(oldScript.innerHTML));\n      oldScript.parentNode.replaceChild(newScript, oldScript);\n    });\n    if (JS_MIME_TYPE in output.data) {\n      toinsert[nchildren-1].children[1].textContent = output.data[JS_MIME_TYPE];\n    }\n    output_area._hv_plot_id = id;\n    if ((window.Bokeh !== undefined) && (id in Bokeh.index)) {\n      window.PyViz.plot_index[id] = Bokeh.index[id];\n    } else {\n      window.PyViz.plot_index[id] = null;\n    }\n  } else if (output.metadata[EXEC_MIME_TYPE][\"server_id\"] !== undefined) {\n    var bk_div = document.createElement(\"div\");\n    bk_div.innerHTML = output.data[HTML_MIME_TYPE];\n    var script_attrs = bk_div.children[0].attributes;\n    for (var i = 0; i < script_attrs.length; i++) {\n      toinsert[toinsert.length - 1].childNodes[1].setAttribute(script_attrs[i].name, script_attrs[i].value);\n    }\n    // store reference to server id on output_area\n    output_area._bokeh_server_id = output.metadata[EXEC_MIME_TYPE][\"server_id\"];\n  }\n}\n\n/**\n * Handle when an output is cleared or removed\n */\nfunction handle_clear_output(event, handle) {\n  var id = handle.cell.output_area._hv_plot_id;\n  var server_id = handle.cell.output_area._bokeh_server_id;\n  if (((id === undefined) || !(id in PyViz.plot_index)) && (server_id !== undefined)) { return; }\n  var comm = window.PyViz.comm_manager.get_client_comm(\"hv-extension-comm\", \"hv-extension-comm\", function () {});\n  if (server_id !== null) {\n    comm.send({event_type: 'server_delete', 'id': server_id});\n    return;\n  } else if (comm !== null) {\n    comm.send({event_type: 'delete', 'id': id});\n  }\n  delete PyViz.plot_index[id];\n  if ((window.Bokeh !== undefined) & (id in window.Bokeh.index)) {\n    var doc = window.Bokeh.index[id].model.document\n    doc.clear();\n    const i = window.Bokeh.documents.indexOf(doc);\n    if (i > -1) {\n      window.Bokeh.documents.splice(i, 1);\n    }\n  }\n}\n\n/**\n * Handle kernel restart event\n */\nfunction handle_kernel_cleanup(event, handle) {\n  delete PyViz.comms[\"hv-extension-comm\"];\n  window.PyViz.plot_index = {}\n}\n\n/**\n * Handle update_display_data messages\n */\nfunction handle_update_output(event, handle) {\n  handle_clear_output(event, {cell: {output_area: handle.output_area}})\n  handle_add_output(event, handle)\n}\n\nfunction register_renderer(events, OutputArea) {\n  function append_mime(data, metadata, element) {\n    // create a DOM node to render to\n    var toinsert = this.create_output_subarea(\n    metadata,\n    CLASS_NAME,\n    EXEC_MIME_TYPE\n    );\n    this.keyboard_manager.register_events(toinsert);\n    // Render to node\n    var props = {data: data, metadata: metadata[EXEC_MIME_TYPE]};\n    render(props, toinsert[0]);\n    element.append(toinsert);\n    return toinsert\n  }\n\n  events.on('output_added.OutputArea', handle_add_output);\n  events.on('output_updated.OutputArea', handle_update_output);\n  events.on('clear_output.CodeCell', handle_clear_output);\n  events.on('delete.Cell', handle_clear_output);\n  events.on('kernel_ready.Kernel', handle_kernel_cleanup);\n\n  OutputArea.prototype.register_mime_type(EXEC_MIME_TYPE, append_mime, {\n    safe: true,\n    index: 0\n  });\n}\n\nif (window.Jupyter !== undefined) {\n  try {\n    var events = require('base/js/events');\n    var OutputArea = require('notebook/js/outputarea').OutputArea;\n    if (OutputArea.prototype.mime_types().indexOf(EXEC_MIME_TYPE) == -1) {\n      register_renderer(events, OutputArea);\n    }\n  } catch(err) {\n  }\n}\n",
      "application/vnd.holoviews_load.v0+json": ""
     },
     "metadata": {},
     "output_type": "display_data"
    },
    {
     "data": {
      "text/html": [
       "<style>*[data-root-id],\n",
       "*[data-root-id] > * {\n",
       "  box-sizing: border-box;\n",
       "  font-family: var(--jp-ui-font-family);\n",
       "  font-size: var(--jp-ui-font-size1);\n",
       "  color: var(--vscode-editor-foreground, var(--jp-ui-font-color1));\n",
       "}\n",
       "\n",
       "/* Override VSCode background color */\n",
       ".cell-output-ipywidget-background:has(\n",
       "    > .cell-output-ipywidget-background > .lm-Widget > *[data-root-id]\n",
       "  ),\n",
       ".cell-output-ipywidget-background:has(> .lm-Widget > *[data-root-id]) {\n",
       "  background-color: transparent !important;\n",
       "}\n",
       "</style>"
      ]
     },
     "metadata": {},
     "output_type": "display_data"
    }
   ],
   "source": [
    "import pandas as pd\n",
    "from prophet import Prophet\n",
    "import matplotlib.pyplot as plt\n",
    "import seaborn as sns\n",
    "from pathlib import Path\n",
    "import os\n",
    "import numpy as np\n",
    "import datetime as dt\n",
    "import hvplot.pandas\n",
    "import plotly.express as px\n",
    "from plotly.subplots import make_subplots\n",
    "import plotly.graph_objects as go\n",
    "from scipy.stats import linregress\n",
    "import holoviews as hv\n",
    "hv.extension('bokeh')\n",
    "from bokeh.models import NumeralTickFormatter\n",
    "from prophet import Prophet\n"
   ]
  },
  {
   "cell_type": "code",
   "execution_count": 2,
   "metadata": {},
   "outputs": [
    {
     "data": {
      "text/html": [
       "<div>\n",
       "<style scoped>\n",
       "    .dataframe tbody tr th:only-of-type {\n",
       "        vertical-align: middle;\n",
       "    }\n",
       "\n",
       "    .dataframe tbody tr th {\n",
       "        vertical-align: top;\n",
       "    }\n",
       "\n",
       "    .dataframe thead th {\n",
       "        text-align: right;\n",
       "    }\n",
       "</style>\n",
       "<table border=\"1\" class=\"dataframe\">\n",
       "  <thead>\n",
       "    <tr style=\"text-align: right;\">\n",
       "      <th></th>\n",
       "      <th>Unnamed: 0</th>\n",
       "      <th>trans_date_trans_time</th>\n",
       "      <th>cc_num</th>\n",
       "      <th>merchant</th>\n",
       "      <th>category</th>\n",
       "      <th>amt</th>\n",
       "      <th>first</th>\n",
       "      <th>last</th>\n",
       "      <th>gender</th>\n",
       "      <th>street</th>\n",
       "      <th>...</th>\n",
       "      <th>long</th>\n",
       "      <th>city_pop</th>\n",
       "      <th>job</th>\n",
       "      <th>dob</th>\n",
       "      <th>trans_num</th>\n",
       "      <th>unix_time</th>\n",
       "      <th>merch_lat</th>\n",
       "      <th>merch_long</th>\n",
       "      <th>is_fraud</th>\n",
       "      <th>merch_zipcode</th>\n",
       "    </tr>\n",
       "  </thead>\n",
       "  <tbody>\n",
       "    <tr>\n",
       "      <th>0</th>\n",
       "      <td>0</td>\n",
       "      <td>2019-01-01 00:00:18</td>\n",
       "      <td>2703186189652095</td>\n",
       "      <td>fraud_Rippin, Kub and Mann</td>\n",
       "      <td>misc_net</td>\n",
       "      <td>4.97</td>\n",
       "      <td>Jennifer</td>\n",
       "      <td>Banks</td>\n",
       "      <td>F</td>\n",
       "      <td>561 Perry Cove</td>\n",
       "      <td>...</td>\n",
       "      <td>-81.1781</td>\n",
       "      <td>3495</td>\n",
       "      <td>Psychologist, counselling</td>\n",
       "      <td>1988-03-09</td>\n",
       "      <td>0b242abb623afc578575680df30655b9</td>\n",
       "      <td>1325376018</td>\n",
       "      <td>36.011293</td>\n",
       "      <td>-82.048315</td>\n",
       "      <td>0</td>\n",
       "      <td>28705.0</td>\n",
       "    </tr>\n",
       "    <tr>\n",
       "      <th>1</th>\n",
       "      <td>1</td>\n",
       "      <td>2019-01-01 00:00:44</td>\n",
       "      <td>630423337322</td>\n",
       "      <td>fraud_Heller, Gutmann and Zieme</td>\n",
       "      <td>grocery_pos</td>\n",
       "      <td>107.23</td>\n",
       "      <td>Stephanie</td>\n",
       "      <td>Gill</td>\n",
       "      <td>F</td>\n",
       "      <td>43039 Riley Greens Suite 393</td>\n",
       "      <td>...</td>\n",
       "      <td>-118.2105</td>\n",
       "      <td>149</td>\n",
       "      <td>Special educational needs teacher</td>\n",
       "      <td>1978-06-21</td>\n",
       "      <td>1f76529f8574734946361c461b024d99</td>\n",
       "      <td>1325376044</td>\n",
       "      <td>49.159047</td>\n",
       "      <td>-118.186462</td>\n",
       "      <td>0</td>\n",
       "      <td>NaN</td>\n",
       "    </tr>\n",
       "    <tr>\n",
       "      <th>2</th>\n",
       "      <td>2</td>\n",
       "      <td>2019-01-01 00:00:51</td>\n",
       "      <td>38859492057661</td>\n",
       "      <td>fraud_Lind-Buckridge</td>\n",
       "      <td>entertainment</td>\n",
       "      <td>220.11</td>\n",
       "      <td>Edward</td>\n",
       "      <td>Sanchez</td>\n",
       "      <td>M</td>\n",
       "      <td>594 White Dale Suite 530</td>\n",
       "      <td>...</td>\n",
       "      <td>-112.2620</td>\n",
       "      <td>4154</td>\n",
       "      <td>Nature conservation officer</td>\n",
       "      <td>1962-01-19</td>\n",
       "      <td>a1a22d70485983eac12b5b88dad1cf95</td>\n",
       "      <td>1325376051</td>\n",
       "      <td>43.150704</td>\n",
       "      <td>-112.154481</td>\n",
       "      <td>0</td>\n",
       "      <td>83236.0</td>\n",
       "    </tr>\n",
       "    <tr>\n",
       "      <th>3</th>\n",
       "      <td>3</td>\n",
       "      <td>2019-01-01 00:01:16</td>\n",
       "      <td>3534093764340240</td>\n",
       "      <td>fraud_Kutch, Hermiston and Farrell</td>\n",
       "      <td>gas_transport</td>\n",
       "      <td>45.00</td>\n",
       "      <td>Jeremy</td>\n",
       "      <td>White</td>\n",
       "      <td>M</td>\n",
       "      <td>9443 Cynthia Court Apt. 038</td>\n",
       "      <td>...</td>\n",
       "      <td>-112.1138</td>\n",
       "      <td>1939</td>\n",
       "      <td>Patent attorney</td>\n",
       "      <td>1967-01-12</td>\n",
       "      <td>6b849c168bdad6f867558c3793159a81</td>\n",
       "      <td>1325376076</td>\n",
       "      <td>47.034331</td>\n",
       "      <td>-112.561071</td>\n",
       "      <td>0</td>\n",
       "      <td>NaN</td>\n",
       "    </tr>\n",
       "    <tr>\n",
       "      <th>4</th>\n",
       "      <td>4</td>\n",
       "      <td>2019-01-01 00:03:06</td>\n",
       "      <td>375534208663984</td>\n",
       "      <td>fraud_Keeling-Crist</td>\n",
       "      <td>misc_pos</td>\n",
       "      <td>41.96</td>\n",
       "      <td>Tyler</td>\n",
       "      <td>Garcia</td>\n",
       "      <td>M</td>\n",
       "      <td>408 Bradley Rest</td>\n",
       "      <td>...</td>\n",
       "      <td>-79.4629</td>\n",
       "      <td>99</td>\n",
       "      <td>Dance movement psychotherapist</td>\n",
       "      <td>1986-03-28</td>\n",
       "      <td>a41d7549acf90789359a9aa5346dcb46</td>\n",
       "      <td>1325376186</td>\n",
       "      <td>38.674999</td>\n",
       "      <td>-78.632459</td>\n",
       "      <td>0</td>\n",
       "      <td>22844.0</td>\n",
       "    </tr>\n",
       "  </tbody>\n",
       "</table>\n",
       "<p>5 rows × 24 columns</p>\n",
       "</div>"
      ],
      "text/plain": [
       "   Unnamed: 0 trans_date_trans_time            cc_num  \\\n",
       "0           0   2019-01-01 00:00:18  2703186189652095   \n",
       "1           1   2019-01-01 00:00:44      630423337322   \n",
       "2           2   2019-01-01 00:00:51    38859492057661   \n",
       "3           3   2019-01-01 00:01:16  3534093764340240   \n",
       "4           4   2019-01-01 00:03:06   375534208663984   \n",
       "\n",
       "                             merchant       category     amt      first  \\\n",
       "0          fraud_Rippin, Kub and Mann       misc_net    4.97   Jennifer   \n",
       "1     fraud_Heller, Gutmann and Zieme    grocery_pos  107.23  Stephanie   \n",
       "2                fraud_Lind-Buckridge  entertainment  220.11     Edward   \n",
       "3  fraud_Kutch, Hermiston and Farrell  gas_transport   45.00     Jeremy   \n",
       "4                 fraud_Keeling-Crist       misc_pos   41.96      Tyler   \n",
       "\n",
       "      last gender                        street  ...      long city_pop  \\\n",
       "0    Banks      F                561 Perry Cove  ...  -81.1781     3495   \n",
       "1     Gill      F  43039 Riley Greens Suite 393  ... -118.2105      149   \n",
       "2  Sanchez      M      594 White Dale Suite 530  ... -112.2620     4154   \n",
       "3    White      M   9443 Cynthia Court Apt. 038  ... -112.1138     1939   \n",
       "4   Garcia      M              408 Bradley Rest  ...  -79.4629       99   \n",
       "\n",
       "                                 job         dob  \\\n",
       "0          Psychologist, counselling  1988-03-09   \n",
       "1  Special educational needs teacher  1978-06-21   \n",
       "2        Nature conservation officer  1962-01-19   \n",
       "3                    Patent attorney  1967-01-12   \n",
       "4     Dance movement psychotherapist  1986-03-28   \n",
       "\n",
       "                          trans_num   unix_time  merch_lat  merch_long  \\\n",
       "0  0b242abb623afc578575680df30655b9  1325376018  36.011293  -82.048315   \n",
       "1  1f76529f8574734946361c461b024d99  1325376044  49.159047 -118.186462   \n",
       "2  a1a22d70485983eac12b5b88dad1cf95  1325376051  43.150704 -112.154481   \n",
       "3  6b849c168bdad6f867558c3793159a81  1325376076  47.034331 -112.561071   \n",
       "4  a41d7549acf90789359a9aa5346dcb46  1325376186  38.674999  -78.632459   \n",
       "\n",
       "  is_fraud  merch_zipcode  \n",
       "0        0        28705.0  \n",
       "1        0            NaN  \n",
       "2        0        83236.0  \n",
       "3        0            NaN  \n",
       "4        0        22844.0  \n",
       "\n",
       "[5 rows x 24 columns]"
      ]
     },
     "execution_count": 2,
     "metadata": {},
     "output_type": "execute_result"
    }
   ],
   "source": [
    "df2 = pd.read_csv('Resources/credit_card_transactions.csv')\n",
    "df2.head()"
   ]
  },
  {
   "cell_type": "code",
   "execution_count": 3,
   "metadata": {},
   "outputs": [
    {
     "name": "stdout",
     "output_type": "stream",
     "text": [
      "<class 'pandas.core.frame.DataFrame'>\n",
      "RangeIndex: 1296675 entries, 0 to 1296674\n",
      "Data columns (total 24 columns):\n",
      " #   Column                 Non-Null Count    Dtype              \n",
      "---  ------                 --------------    -----              \n",
      " 0   Unnamed: 0             1296675 non-null  int64              \n",
      " 1   trans_date_trans_time  1296675 non-null  datetime64[ns, UTC]\n",
      " 2   cc_num                 1296675 non-null  int64              \n",
      " 3   merchant               1296675 non-null  object             \n",
      " 4   category               1296675 non-null  object             \n",
      " 5   amt                    1296675 non-null  float64            \n",
      " 6   first                  1296675 non-null  object             \n",
      " 7   last                   1296675 non-null  object             \n",
      " 8   gender                 1296675 non-null  object             \n",
      " 9   street                 1296675 non-null  object             \n",
      " 10  city                   1296675 non-null  object             \n",
      " 11  state                  1296675 non-null  object             \n",
      " 12  zip                    1296675 non-null  int64              \n",
      " 13  lat                    1296675 non-null  float64            \n",
      " 14  long                   1296675 non-null  float64            \n",
      " 15  city_pop               1296675 non-null  int64              \n",
      " 16  job                    1296675 non-null  object             \n",
      " 17  dob                    1296675 non-null  object             \n",
      " 18  trans_num              1296675 non-null  object             \n",
      " 19  unix_time              1296675 non-null  int64              \n",
      " 20  merch_lat              1296675 non-null  float64            \n",
      " 21  merch_long             1296675 non-null  float64            \n",
      " 22  is_fraud               1296675 non-null  int64              \n",
      " 23  merch_zipcode          1100702 non-null  float64            \n",
      "dtypes: datetime64[ns, UTC](1), float64(6), int64(6), object(11)\n",
      "memory usage: 237.4+ MB\n"
     ]
    }
   ],
   "source": [
    "df2[\"trans_date_trans_time\"] = pd.to_datetime(df2[\"trans_date_trans_time\"], utc=True)\n",
    "df2.info()"
   ]
  },
  {
   "cell_type": "code",
   "execution_count": 4,
   "metadata": {},
   "outputs": [
    {
     "data": {
      "text/html": [
       "<div>\n",
       "<style scoped>\n",
       "    .dataframe tbody tr th:only-of-type {\n",
       "        vertical-align: middle;\n",
       "    }\n",
       "\n",
       "    .dataframe tbody tr th {\n",
       "        vertical-align: top;\n",
       "    }\n",
       "\n",
       "    .dataframe thead th {\n",
       "        text-align: right;\n",
       "    }\n",
       "</style>\n",
       "<table border=\"1\" class=\"dataframe\">\n",
       "  <thead>\n",
       "    <tr style=\"text-align: right;\">\n",
       "      <th></th>\n",
       "      <th>Unnamed: 0</th>\n",
       "      <th>trans_date_trans_time</th>\n",
       "      <th>cc_num</th>\n",
       "      <th>merchant</th>\n",
       "      <th>category</th>\n",
       "      <th>amt</th>\n",
       "      <th>first</th>\n",
       "      <th>last</th>\n",
       "      <th>gender</th>\n",
       "      <th>street</th>\n",
       "      <th>...</th>\n",
       "      <th>trans_num</th>\n",
       "      <th>unix_time</th>\n",
       "      <th>merch_lat</th>\n",
       "      <th>merch_long</th>\n",
       "      <th>is_fraud</th>\n",
       "      <th>merch_zipcode</th>\n",
       "      <th>trans_date</th>\n",
       "      <th>trans_year</th>\n",
       "      <th>trans_month</th>\n",
       "      <th>trans_day</th>\n",
       "    </tr>\n",
       "  </thead>\n",
       "  <tbody>\n",
       "    <tr>\n",
       "      <th>0</th>\n",
       "      <td>0</td>\n",
       "      <td>2019-01-01 00:00:18+00:00</td>\n",
       "      <td>2703186189652095</td>\n",
       "      <td>fraud_Rippin, Kub and Mann</td>\n",
       "      <td>misc_net</td>\n",
       "      <td>4.97</td>\n",
       "      <td>Jennifer</td>\n",
       "      <td>Banks</td>\n",
       "      <td>F</td>\n",
       "      <td>561 Perry Cove</td>\n",
       "      <td>...</td>\n",
       "      <td>0b242abb623afc578575680df30655b9</td>\n",
       "      <td>1325376018</td>\n",
       "      <td>36.011293</td>\n",
       "      <td>-82.048315</td>\n",
       "      <td>0</td>\n",
       "      <td>28705.0</td>\n",
       "      <td>2019-01-01</td>\n",
       "      <td>2019</td>\n",
       "      <td>1</td>\n",
       "      <td>1</td>\n",
       "    </tr>\n",
       "    <tr>\n",
       "      <th>1</th>\n",
       "      <td>1</td>\n",
       "      <td>2019-01-01 00:00:44+00:00</td>\n",
       "      <td>630423337322</td>\n",
       "      <td>fraud_Heller, Gutmann and Zieme</td>\n",
       "      <td>grocery_pos</td>\n",
       "      <td>107.23</td>\n",
       "      <td>Stephanie</td>\n",
       "      <td>Gill</td>\n",
       "      <td>F</td>\n",
       "      <td>43039 Riley Greens Suite 393</td>\n",
       "      <td>...</td>\n",
       "      <td>1f76529f8574734946361c461b024d99</td>\n",
       "      <td>1325376044</td>\n",
       "      <td>49.159047</td>\n",
       "      <td>-118.186462</td>\n",
       "      <td>0</td>\n",
       "      <td>NaN</td>\n",
       "      <td>2019-01-01</td>\n",
       "      <td>2019</td>\n",
       "      <td>1</td>\n",
       "      <td>1</td>\n",
       "    </tr>\n",
       "    <tr>\n",
       "      <th>2</th>\n",
       "      <td>2</td>\n",
       "      <td>2019-01-01 00:00:51+00:00</td>\n",
       "      <td>38859492057661</td>\n",
       "      <td>fraud_Lind-Buckridge</td>\n",
       "      <td>entertainment</td>\n",
       "      <td>220.11</td>\n",
       "      <td>Edward</td>\n",
       "      <td>Sanchez</td>\n",
       "      <td>M</td>\n",
       "      <td>594 White Dale Suite 530</td>\n",
       "      <td>...</td>\n",
       "      <td>a1a22d70485983eac12b5b88dad1cf95</td>\n",
       "      <td>1325376051</td>\n",
       "      <td>43.150704</td>\n",
       "      <td>-112.154481</td>\n",
       "      <td>0</td>\n",
       "      <td>83236.0</td>\n",
       "      <td>2019-01-01</td>\n",
       "      <td>2019</td>\n",
       "      <td>1</td>\n",
       "      <td>1</td>\n",
       "    </tr>\n",
       "    <tr>\n",
       "      <th>3</th>\n",
       "      <td>3</td>\n",
       "      <td>2019-01-01 00:01:16+00:00</td>\n",
       "      <td>3534093764340240</td>\n",
       "      <td>fraud_Kutch, Hermiston and Farrell</td>\n",
       "      <td>gas_transport</td>\n",
       "      <td>45.00</td>\n",
       "      <td>Jeremy</td>\n",
       "      <td>White</td>\n",
       "      <td>M</td>\n",
       "      <td>9443 Cynthia Court Apt. 038</td>\n",
       "      <td>...</td>\n",
       "      <td>6b849c168bdad6f867558c3793159a81</td>\n",
       "      <td>1325376076</td>\n",
       "      <td>47.034331</td>\n",
       "      <td>-112.561071</td>\n",
       "      <td>0</td>\n",
       "      <td>NaN</td>\n",
       "      <td>2019-01-01</td>\n",
       "      <td>2019</td>\n",
       "      <td>1</td>\n",
       "      <td>1</td>\n",
       "    </tr>\n",
       "    <tr>\n",
       "      <th>4</th>\n",
       "      <td>4</td>\n",
       "      <td>2019-01-01 00:03:06+00:00</td>\n",
       "      <td>375534208663984</td>\n",
       "      <td>fraud_Keeling-Crist</td>\n",
       "      <td>misc_pos</td>\n",
       "      <td>41.96</td>\n",
       "      <td>Tyler</td>\n",
       "      <td>Garcia</td>\n",
       "      <td>M</td>\n",
       "      <td>408 Bradley Rest</td>\n",
       "      <td>...</td>\n",
       "      <td>a41d7549acf90789359a9aa5346dcb46</td>\n",
       "      <td>1325376186</td>\n",
       "      <td>38.674999</td>\n",
       "      <td>-78.632459</td>\n",
       "      <td>0</td>\n",
       "      <td>22844.0</td>\n",
       "      <td>2019-01-01</td>\n",
       "      <td>2019</td>\n",
       "      <td>1</td>\n",
       "      <td>1</td>\n",
       "    </tr>\n",
       "  </tbody>\n",
       "</table>\n",
       "<p>5 rows × 28 columns</p>\n",
       "</div>"
      ],
      "text/plain": [
       "   Unnamed: 0     trans_date_trans_time            cc_num  \\\n",
       "0           0 2019-01-01 00:00:18+00:00  2703186189652095   \n",
       "1           1 2019-01-01 00:00:44+00:00      630423337322   \n",
       "2           2 2019-01-01 00:00:51+00:00    38859492057661   \n",
       "3           3 2019-01-01 00:01:16+00:00  3534093764340240   \n",
       "4           4 2019-01-01 00:03:06+00:00   375534208663984   \n",
       "\n",
       "                             merchant       category     amt      first  \\\n",
       "0          fraud_Rippin, Kub and Mann       misc_net    4.97   Jennifer   \n",
       "1     fraud_Heller, Gutmann and Zieme    grocery_pos  107.23  Stephanie   \n",
       "2                fraud_Lind-Buckridge  entertainment  220.11     Edward   \n",
       "3  fraud_Kutch, Hermiston and Farrell  gas_transport   45.00     Jeremy   \n",
       "4                 fraud_Keeling-Crist       misc_pos   41.96      Tyler   \n",
       "\n",
       "      last gender                        street  ...  \\\n",
       "0    Banks      F                561 Perry Cove  ...   \n",
       "1     Gill      F  43039 Riley Greens Suite 393  ...   \n",
       "2  Sanchez      M      594 White Dale Suite 530  ...   \n",
       "3    White      M   9443 Cynthia Court Apt. 038  ...   \n",
       "4   Garcia      M              408 Bradley Rest  ...   \n",
       "\n",
       "                          trans_num   unix_time  merch_lat  merch_long  \\\n",
       "0  0b242abb623afc578575680df30655b9  1325376018  36.011293  -82.048315   \n",
       "1  1f76529f8574734946361c461b024d99  1325376044  49.159047 -118.186462   \n",
       "2  a1a22d70485983eac12b5b88dad1cf95  1325376051  43.150704 -112.154481   \n",
       "3  6b849c168bdad6f867558c3793159a81  1325376076  47.034331 -112.561071   \n",
       "4  a41d7549acf90789359a9aa5346dcb46  1325376186  38.674999  -78.632459   \n",
       "\n",
       "   is_fraud  merch_zipcode  trans_date trans_year trans_month  trans_day  \n",
       "0         0        28705.0  2019-01-01       2019           1          1  \n",
       "1         0            NaN  2019-01-01       2019           1          1  \n",
       "2         0        83236.0  2019-01-01       2019           1          1  \n",
       "3         0            NaN  2019-01-01       2019           1          1  \n",
       "4         0        22844.0  2019-01-01       2019           1          1  \n",
       "\n",
       "[5 rows x 28 columns]"
      ]
     },
     "execution_count": 4,
     "metadata": {},
     "output_type": "execute_result"
    }
   ],
   "source": [
    "data = df2\n",
    "df2 = data.copy()\n",
    "df2['trans_date'] = pd.to_datetime(df2['trans_date_trans_time'], utc=True).dt.date\n",
    "df2['trans_year'] = pd.to_datetime(df2['trans_date_trans_time'], utc=True).dt.year\n",
    "df2['trans_month'] = pd.to_datetime(df2['trans_date_trans_time'], utc=True).dt.month\n",
    "df2['trans_day'] = pd.to_datetime(df2['trans_date_trans_time'], utc=True).dt.day\n",
    "df2.head()"
   ]
  },
  {
   "cell_type": "code",
   "execution_count": 5,
   "metadata": {},
   "outputs": [
    {
     "data": {
      "text/html": [
       "<div>\n",
       "<style scoped>\n",
       "    .dataframe tbody tr th:only-of-type {\n",
       "        vertical-align: middle;\n",
       "    }\n",
       "\n",
       "    .dataframe tbody tr th {\n",
       "        vertical-align: top;\n",
       "    }\n",
       "\n",
       "    .dataframe thead th {\n",
       "        text-align: right;\n",
       "    }\n",
       "</style>\n",
       "<table border=\"1\" class=\"dataframe\">\n",
       "  <thead>\n",
       "    <tr style=\"text-align: right;\">\n",
       "      <th></th>\n",
       "      <th>age</th>\n",
       "      <th>age_description</th>\n",
       "    </tr>\n",
       "  </thead>\n",
       "  <tbody>\n",
       "    <tr>\n",
       "      <th>0</th>\n",
       "      <td>31</td>\n",
       "      <td>Age: 29-38 / Early Career / Early Adults</td>\n",
       "    </tr>\n",
       "    <tr>\n",
       "      <th>1</th>\n",
       "      <td>41</td>\n",
       "      <td>Age: 39-48 / Mid-Life Professionals / Experien...</td>\n",
       "    </tr>\n",
       "    <tr>\n",
       "      <th>2</th>\n",
       "      <td>57</td>\n",
       "      <td>Age: 49-58 / Seasoned Adults / Mature Professi...</td>\n",
       "    </tr>\n",
       "    <tr>\n",
       "      <th>3</th>\n",
       "      <td>52</td>\n",
       "      <td>Age: 49-58 / Seasoned Adults / Mature Professi...</td>\n",
       "    </tr>\n",
       "    <tr>\n",
       "      <th>4</th>\n",
       "      <td>33</td>\n",
       "      <td>Age: 29-38 / Early Career / Early Adults</td>\n",
       "    </tr>\n",
       "  </tbody>\n",
       "</table>\n",
       "</div>"
      ],
      "text/plain": [
       "   age                                    age_description\n",
       "0   31           Age: 29-38 / Early Career / Early Adults\n",
       "1   41  Age: 39-48 / Mid-Life Professionals / Experien...\n",
       "2   57  Age: 49-58 / Seasoned Adults / Mature Professi...\n",
       "3   52  Age: 49-58 / Seasoned Adults / Mature Professi...\n",
       "4   33           Age: 29-38 / Early Career / Early Adults"
      ]
     },
     "execution_count": 5,
     "metadata": {},
     "output_type": "execute_result"
    }
   ],
   "source": [
    "# Ensure 'dob' is a datetime object\n",
    "df2['dob'] = pd.to_datetime(df2['dob'], errors='coerce')\n",
    "\n",
    "# Calculate the 'Age' column\n",
    "df2['age'] = df2['trans_year'] - df2['dob'].dt.year\n",
    "\n",
    "# Define age groups based on the ranges provided\n",
    "def age_description(age):\n",
    "    if age < 18:\n",
    "        return 'Age: 18 & Under / Youth / Teens'\n",
    "    elif 19 <= age <= 28:\n",
    "        return 'Age: 19-28 / Young Adults'\n",
    "    elif 29 <= age <= 38:\n",
    "        return 'Age: 29-38 / Early Career / Early Adults'\n",
    "    elif 39 <= age <= 48:\n",
    "        return 'Age: 39-48 / Mid-Life Professionals / Experienced Adults'\n",
    "    elif 49 <= age <= 58:\n",
    "        return 'Age: 49-58 / Seasoned Adults / Mature Professionals'\n",
    "    elif 59 <= age <= 68:\n",
    "        return 'Age: 59-68 / Pre-Retirement / Early Retirees'\n",
    "    elif 69 <= age <= 78:\n",
    "        return 'Age: 69-78 / Active Retirees / Golden Years'\n",
    "    else:\n",
    "        return 'Age: 79 & Older / Seniors / Elderly'\n",
    "\n",
    "# Step 4: Create the 'Age Description' column\n",
    "df2['age_description'] = df2['age'].apply(age_description)\n",
    "\n",
    "# View the final dataframe with the new columns\n",
    "df2[['age', 'age_description']].head()"
   ]
  },
  {
   "cell_type": "code",
   "execution_count": 6,
   "metadata": {},
   "outputs": [
    {
     "name": "stdout",
     "output_type": "stream",
     "text": [
      "age_description\n",
      "Age: 29-38 / Early Career / Early Adults                    300943\n",
      "Age: 39-48 / Mid-Life Professionals / Experienced Adults    300161\n",
      "Age: 49-58 / Seasoned Adults / Mature Professionals         200411\n",
      "Age: 19-28 / Young Adults                                   181766\n",
      "Age: 59-68 / Pre-Retirement / Early Retirees                143773\n",
      "Age: 69-78 / Active Retirees / Golden Years                  78761\n",
      "Age: 79 & Older / Seniors / Elderly                          77430\n",
      "Age: 18 & Under / Youth / Teens                              13430\n",
      "Name: count, dtype: int64\n"
     ]
    }
   ],
   "source": [
    "# Count the number of people in each age group\n",
    "age_group_counts = df2['age_description'].value_counts()\n",
    "\n",
    "# Display the counts\n",
    "print(age_group_counts)"
   ]
  },
  {
   "cell_type": "code",
   "execution_count": 7,
   "metadata": {},
   "outputs": [
    {
     "data": {
      "application/vnd.plotly.v1+json": {
       "config": {
        "plotlyServerURL": "https://plot.ly"
       },
       "data": [
        {
         "alignmentgroup": "True",
         "hovertemplate": "Age Group=%{x}<br>Fraud Cases=%{y}<extra></extra>",
         "legendgroup": "",
         "marker": {
          "color": "#636efa",
          "pattern": {
           "shape": ""
          }
         },
         "name": "",
         "offsetgroup": "",
         "orientation": "v",
         "showlegend": false,
         "textposition": "auto",
         "type": "bar",
         "x": [
          "Age: 18 & Under / Youth / Teens",
          "Age: 19-28 / Young Adults",
          "Age: 29-38 / Early Career / Early Adults",
          "Age: 39-48 / Mid-Life Professionals / Experienced Adults",
          "Age: 49-58 / Seasoned Adults / Mature Professionals",
          "Age: 59-68 / Pre-Retirement / Early Retirees",
          "Age: 69-78 / Active Retirees / Golden Years",
          "Age: 79 & Older / Seniors / Elderly"
         ],
         "xaxis": "x",
         "y": [
          60,
          1090,
          1356,
          1280,
          1487,
          939,
          575,
          719
         ],
         "yaxis": "y"
        }
       ],
       "layout": {
        "barmode": "relative",
        "height": 500,
        "legend": {
         "tracegroupgap": 0
        },
        "template": {
         "data": {
          "bar": [
           {
            "error_x": {
             "color": "#2a3f5f"
            },
            "error_y": {
             "color": "#2a3f5f"
            },
            "marker": {
             "line": {
              "color": "#E5ECF6",
              "width": 0.5
             },
             "pattern": {
              "fillmode": "overlay",
              "size": 10,
              "solidity": 0.2
             }
            },
            "type": "bar"
           }
          ],
          "barpolar": [
           {
            "marker": {
             "line": {
              "color": "#E5ECF6",
              "width": 0.5
             },
             "pattern": {
              "fillmode": "overlay",
              "size": 10,
              "solidity": 0.2
             }
            },
            "type": "barpolar"
           }
          ],
          "carpet": [
           {
            "aaxis": {
             "endlinecolor": "#2a3f5f",
             "gridcolor": "white",
             "linecolor": "white",
             "minorgridcolor": "white",
             "startlinecolor": "#2a3f5f"
            },
            "baxis": {
             "endlinecolor": "#2a3f5f",
             "gridcolor": "white",
             "linecolor": "white",
             "minorgridcolor": "white",
             "startlinecolor": "#2a3f5f"
            },
            "type": "carpet"
           }
          ],
          "choropleth": [
           {
            "colorbar": {
             "outlinewidth": 0,
             "ticks": ""
            },
            "type": "choropleth"
           }
          ],
          "contour": [
           {
            "colorbar": {
             "outlinewidth": 0,
             "ticks": ""
            },
            "colorscale": [
             [
              0,
              "#0d0887"
             ],
             [
              0.1111111111111111,
              "#46039f"
             ],
             [
              0.2222222222222222,
              "#7201a8"
             ],
             [
              0.3333333333333333,
              "#9c179e"
             ],
             [
              0.4444444444444444,
              "#bd3786"
             ],
             [
              0.5555555555555556,
              "#d8576b"
             ],
             [
              0.6666666666666666,
              "#ed7953"
             ],
             [
              0.7777777777777778,
              "#fb9f3a"
             ],
             [
              0.8888888888888888,
              "#fdca26"
             ],
             [
              1,
              "#f0f921"
             ]
            ],
            "type": "contour"
           }
          ],
          "contourcarpet": [
           {
            "colorbar": {
             "outlinewidth": 0,
             "ticks": ""
            },
            "type": "contourcarpet"
           }
          ],
          "heatmap": [
           {
            "colorbar": {
             "outlinewidth": 0,
             "ticks": ""
            },
            "colorscale": [
             [
              0,
              "#0d0887"
             ],
             [
              0.1111111111111111,
              "#46039f"
             ],
             [
              0.2222222222222222,
              "#7201a8"
             ],
             [
              0.3333333333333333,
              "#9c179e"
             ],
             [
              0.4444444444444444,
              "#bd3786"
             ],
             [
              0.5555555555555556,
              "#d8576b"
             ],
             [
              0.6666666666666666,
              "#ed7953"
             ],
             [
              0.7777777777777778,
              "#fb9f3a"
             ],
             [
              0.8888888888888888,
              "#fdca26"
             ],
             [
              1,
              "#f0f921"
             ]
            ],
            "type": "heatmap"
           }
          ],
          "heatmapgl": [
           {
            "colorbar": {
             "outlinewidth": 0,
             "ticks": ""
            },
            "colorscale": [
             [
              0,
              "#0d0887"
             ],
             [
              0.1111111111111111,
              "#46039f"
             ],
             [
              0.2222222222222222,
              "#7201a8"
             ],
             [
              0.3333333333333333,
              "#9c179e"
             ],
             [
              0.4444444444444444,
              "#bd3786"
             ],
             [
              0.5555555555555556,
              "#d8576b"
             ],
             [
              0.6666666666666666,
              "#ed7953"
             ],
             [
              0.7777777777777778,
              "#fb9f3a"
             ],
             [
              0.8888888888888888,
              "#fdca26"
             ],
             [
              1,
              "#f0f921"
             ]
            ],
            "type": "heatmapgl"
           }
          ],
          "histogram": [
           {
            "marker": {
             "pattern": {
              "fillmode": "overlay",
              "size": 10,
              "solidity": 0.2
             }
            },
            "type": "histogram"
           }
          ],
          "histogram2d": [
           {
            "colorbar": {
             "outlinewidth": 0,
             "ticks": ""
            },
            "colorscale": [
             [
              0,
              "#0d0887"
             ],
             [
              0.1111111111111111,
              "#46039f"
             ],
             [
              0.2222222222222222,
              "#7201a8"
             ],
             [
              0.3333333333333333,
              "#9c179e"
             ],
             [
              0.4444444444444444,
              "#bd3786"
             ],
             [
              0.5555555555555556,
              "#d8576b"
             ],
             [
              0.6666666666666666,
              "#ed7953"
             ],
             [
              0.7777777777777778,
              "#fb9f3a"
             ],
             [
              0.8888888888888888,
              "#fdca26"
             ],
             [
              1,
              "#f0f921"
             ]
            ],
            "type": "histogram2d"
           }
          ],
          "histogram2dcontour": [
           {
            "colorbar": {
             "outlinewidth": 0,
             "ticks": ""
            },
            "colorscale": [
             [
              0,
              "#0d0887"
             ],
             [
              0.1111111111111111,
              "#46039f"
             ],
             [
              0.2222222222222222,
              "#7201a8"
             ],
             [
              0.3333333333333333,
              "#9c179e"
             ],
             [
              0.4444444444444444,
              "#bd3786"
             ],
             [
              0.5555555555555556,
              "#d8576b"
             ],
             [
              0.6666666666666666,
              "#ed7953"
             ],
             [
              0.7777777777777778,
              "#fb9f3a"
             ],
             [
              0.8888888888888888,
              "#fdca26"
             ],
             [
              1,
              "#f0f921"
             ]
            ],
            "type": "histogram2dcontour"
           }
          ],
          "mesh3d": [
           {
            "colorbar": {
             "outlinewidth": 0,
             "ticks": ""
            },
            "type": "mesh3d"
           }
          ],
          "parcoords": [
           {
            "line": {
             "colorbar": {
              "outlinewidth": 0,
              "ticks": ""
             }
            },
            "type": "parcoords"
           }
          ],
          "pie": [
           {
            "automargin": true,
            "type": "pie"
           }
          ],
          "scatter": [
           {
            "fillpattern": {
             "fillmode": "overlay",
             "size": 10,
             "solidity": 0.2
            },
            "type": "scatter"
           }
          ],
          "scatter3d": [
           {
            "line": {
             "colorbar": {
              "outlinewidth": 0,
              "ticks": ""
             }
            },
            "marker": {
             "colorbar": {
              "outlinewidth": 0,
              "ticks": ""
             }
            },
            "type": "scatter3d"
           }
          ],
          "scattercarpet": [
           {
            "marker": {
             "colorbar": {
              "outlinewidth": 0,
              "ticks": ""
             }
            },
            "type": "scattercarpet"
           }
          ],
          "scattergeo": [
           {
            "marker": {
             "colorbar": {
              "outlinewidth": 0,
              "ticks": ""
             }
            },
            "type": "scattergeo"
           }
          ],
          "scattergl": [
           {
            "marker": {
             "colorbar": {
              "outlinewidth": 0,
              "ticks": ""
             }
            },
            "type": "scattergl"
           }
          ],
          "scattermapbox": [
           {
            "marker": {
             "colorbar": {
              "outlinewidth": 0,
              "ticks": ""
             }
            },
            "type": "scattermapbox"
           }
          ],
          "scatterpolar": [
           {
            "marker": {
             "colorbar": {
              "outlinewidth": 0,
              "ticks": ""
             }
            },
            "type": "scatterpolar"
           }
          ],
          "scatterpolargl": [
           {
            "marker": {
             "colorbar": {
              "outlinewidth": 0,
              "ticks": ""
             }
            },
            "type": "scatterpolargl"
           }
          ],
          "scatterternary": [
           {
            "marker": {
             "colorbar": {
              "outlinewidth": 0,
              "ticks": ""
             }
            },
            "type": "scatterternary"
           }
          ],
          "surface": [
           {
            "colorbar": {
             "outlinewidth": 0,
             "ticks": ""
            },
            "colorscale": [
             [
              0,
              "#0d0887"
             ],
             [
              0.1111111111111111,
              "#46039f"
             ],
             [
              0.2222222222222222,
              "#7201a8"
             ],
             [
              0.3333333333333333,
              "#9c179e"
             ],
             [
              0.4444444444444444,
              "#bd3786"
             ],
             [
              0.5555555555555556,
              "#d8576b"
             ],
             [
              0.6666666666666666,
              "#ed7953"
             ],
             [
              0.7777777777777778,
              "#fb9f3a"
             ],
             [
              0.8888888888888888,
              "#fdca26"
             ],
             [
              1,
              "#f0f921"
             ]
            ],
            "type": "surface"
           }
          ],
          "table": [
           {
            "cells": {
             "fill": {
              "color": "#EBF0F8"
             },
             "line": {
              "color": "white"
             }
            },
            "header": {
             "fill": {
              "color": "#C8D4E3"
             },
             "line": {
              "color": "white"
             }
            },
            "type": "table"
           }
          ]
         },
         "layout": {
          "annotationdefaults": {
           "arrowcolor": "#2a3f5f",
           "arrowhead": 0,
           "arrowwidth": 1
          },
          "autotypenumbers": "strict",
          "coloraxis": {
           "colorbar": {
            "outlinewidth": 0,
            "ticks": ""
           }
          },
          "colorscale": {
           "diverging": [
            [
             0,
             "#8e0152"
            ],
            [
             0.1,
             "#c51b7d"
            ],
            [
             0.2,
             "#de77ae"
            ],
            [
             0.3,
             "#f1b6da"
            ],
            [
             0.4,
             "#fde0ef"
            ],
            [
             0.5,
             "#f7f7f7"
            ],
            [
             0.6,
             "#e6f5d0"
            ],
            [
             0.7,
             "#b8e186"
            ],
            [
             0.8,
             "#7fbc41"
            ],
            [
             0.9,
             "#4d9221"
            ],
            [
             1,
             "#276419"
            ]
           ],
           "sequential": [
            [
             0,
             "#0d0887"
            ],
            [
             0.1111111111111111,
             "#46039f"
            ],
            [
             0.2222222222222222,
             "#7201a8"
            ],
            [
             0.3333333333333333,
             "#9c179e"
            ],
            [
             0.4444444444444444,
             "#bd3786"
            ],
            [
             0.5555555555555556,
             "#d8576b"
            ],
            [
             0.6666666666666666,
             "#ed7953"
            ],
            [
             0.7777777777777778,
             "#fb9f3a"
            ],
            [
             0.8888888888888888,
             "#fdca26"
            ],
            [
             1,
             "#f0f921"
            ]
           ],
           "sequentialminus": [
            [
             0,
             "#0d0887"
            ],
            [
             0.1111111111111111,
             "#46039f"
            ],
            [
             0.2222222222222222,
             "#7201a8"
            ],
            [
             0.3333333333333333,
             "#9c179e"
            ],
            [
             0.4444444444444444,
             "#bd3786"
            ],
            [
             0.5555555555555556,
             "#d8576b"
            ],
            [
             0.6666666666666666,
             "#ed7953"
            ],
            [
             0.7777777777777778,
             "#fb9f3a"
            ],
            [
             0.8888888888888888,
             "#fdca26"
            ],
            [
             1,
             "#f0f921"
            ]
           ]
          },
          "colorway": [
           "#636efa",
           "#EF553B",
           "#00cc96",
           "#ab63fa",
           "#FFA15A",
           "#19d3f3",
           "#FF6692",
           "#B6E880",
           "#FF97FF",
           "#FECB52"
          ],
          "font": {
           "color": "#2a3f5f"
          },
          "geo": {
           "bgcolor": "white",
           "lakecolor": "white",
           "landcolor": "#E5ECF6",
           "showlakes": true,
           "showland": true,
           "subunitcolor": "white"
          },
          "hoverlabel": {
           "align": "left"
          },
          "hovermode": "closest",
          "mapbox": {
           "style": "light"
          },
          "paper_bgcolor": "white",
          "plot_bgcolor": "#E5ECF6",
          "polar": {
           "angularaxis": {
            "gridcolor": "white",
            "linecolor": "white",
            "ticks": ""
           },
           "bgcolor": "#E5ECF6",
           "radialaxis": {
            "gridcolor": "white",
            "linecolor": "white",
            "ticks": ""
           }
          },
          "scene": {
           "xaxis": {
            "backgroundcolor": "#E5ECF6",
            "gridcolor": "white",
            "gridwidth": 2,
            "linecolor": "white",
            "showbackground": true,
            "ticks": "",
            "zerolinecolor": "white"
           },
           "yaxis": {
            "backgroundcolor": "#E5ECF6",
            "gridcolor": "white",
            "gridwidth": 2,
            "linecolor": "white",
            "showbackground": true,
            "ticks": "",
            "zerolinecolor": "white"
           },
           "zaxis": {
            "backgroundcolor": "#E5ECF6",
            "gridcolor": "white",
            "gridwidth": 2,
            "linecolor": "white",
            "showbackground": true,
            "ticks": "",
            "zerolinecolor": "white"
           }
          },
          "shapedefaults": {
           "line": {
            "color": "#2a3f5f"
           }
          },
          "ternary": {
           "aaxis": {
            "gridcolor": "white",
            "linecolor": "white",
            "ticks": ""
           },
           "baxis": {
            "gridcolor": "white",
            "linecolor": "white",
            "ticks": ""
           },
           "bgcolor": "#E5ECF6",
           "caxis": {
            "gridcolor": "white",
            "linecolor": "white",
            "ticks": ""
           }
          },
          "title": {
           "x": 0.05
          },
          "xaxis": {
           "automargin": true,
           "gridcolor": "white",
           "linecolor": "white",
           "ticks": "",
           "title": {
            "standoff": 15
           },
           "zerolinecolor": "white",
           "zerolinewidth": 2
          },
          "yaxis": {
           "automargin": true,
           "gridcolor": "white",
           "linecolor": "white",
           "ticks": "",
           "title": {
            "standoff": 15
           },
           "zerolinecolor": "white",
           "zerolinewidth": 2
          }
         }
        },
        "title": {
         "text": "Total Fraudulent Transactions by Age Group"
        },
        "width": 800,
        "xaxis": {
         "anchor": "y",
         "domain": [
          0,
          1
         ],
         "title": {
          "text": "Age Group"
         }
        },
        "yaxis": {
         "anchor": "x",
         "domain": [
          0,
          1
         ],
         "title": {
          "text": "Fraud Cases"
         }
        }
       }
      }
     },
     "metadata": {},
     "output_type": "display_data"
    },
    {
     "data": {
      "application/vnd.plotly.v1+json": {
       "config": {
        "plotlyServerURL": "https://plot.ly"
       },
       "data": [
        {
         "domain": {
          "x": [
           0,
           0.65
          ],
          "y": [
           0,
           1
          ]
         },
         "hole": 0.4,
         "hovertemplate": "Age Group=%{label}<br>Fraud Percentage=%{value}<extra></extra>",
         "labels": [
          "Age: 18 & Under / Youth / Teens",
          "Age: 19-28 / Young Adults",
          "Age: 29-38 / Early Career / Early Adults",
          "Age: 39-48 / Mid-Life Professionals / Experienced Adults",
          "Age: 49-58 / Seasoned Adults / Mature Professionals",
          "Age: 59-68 / Pre-Retirement / Early Retirees",
          "Age: 69-78 / Active Retirees / Golden Years",
          "Age: 79 & Older / Seniors / Elderly"
         ],
         "legendgroup": "",
         "name": "",
         "pull": [
          0.05,
          0.05,
          0.05,
          0.05,
          0.05,
          0.05,
          0.05,
          0.05
         ],
         "showlegend": true,
         "type": "pie",
         "values": [
          0.4467609828741623,
          0.5996721058943917,
          0.45058366534526473,
          0.42643781170771683,
          0.7419752408799917,
          0.6531128932414292,
          0.7300567539772223,
          0.928580653493478
         ]
        }
       ],
       "layout": {
        "height": 500,
        "legend": {
         "orientation": "v",
         "tracegroupgap": 0,
         "x": 0.9,
         "xanchor": "left",
         "y": 0.5,
         "yanchor": "middle"
        },
        "margin": {
         "l": 50,
         "r": 0,
         "t": 50
        },
        "template": {
         "data": {
          "bar": [
           {
            "error_x": {
             "color": "#2a3f5f"
            },
            "error_y": {
             "color": "#2a3f5f"
            },
            "marker": {
             "line": {
              "color": "#E5ECF6",
              "width": 0.5
             },
             "pattern": {
              "fillmode": "overlay",
              "size": 10,
              "solidity": 0.2
             }
            },
            "type": "bar"
           }
          ],
          "barpolar": [
           {
            "marker": {
             "line": {
              "color": "#E5ECF6",
              "width": 0.5
             },
             "pattern": {
              "fillmode": "overlay",
              "size": 10,
              "solidity": 0.2
             }
            },
            "type": "barpolar"
           }
          ],
          "carpet": [
           {
            "aaxis": {
             "endlinecolor": "#2a3f5f",
             "gridcolor": "white",
             "linecolor": "white",
             "minorgridcolor": "white",
             "startlinecolor": "#2a3f5f"
            },
            "baxis": {
             "endlinecolor": "#2a3f5f",
             "gridcolor": "white",
             "linecolor": "white",
             "minorgridcolor": "white",
             "startlinecolor": "#2a3f5f"
            },
            "type": "carpet"
           }
          ],
          "choropleth": [
           {
            "colorbar": {
             "outlinewidth": 0,
             "ticks": ""
            },
            "type": "choropleth"
           }
          ],
          "contour": [
           {
            "colorbar": {
             "outlinewidth": 0,
             "ticks": ""
            },
            "colorscale": [
             [
              0,
              "#0d0887"
             ],
             [
              0.1111111111111111,
              "#46039f"
             ],
             [
              0.2222222222222222,
              "#7201a8"
             ],
             [
              0.3333333333333333,
              "#9c179e"
             ],
             [
              0.4444444444444444,
              "#bd3786"
             ],
             [
              0.5555555555555556,
              "#d8576b"
             ],
             [
              0.6666666666666666,
              "#ed7953"
             ],
             [
              0.7777777777777778,
              "#fb9f3a"
             ],
             [
              0.8888888888888888,
              "#fdca26"
             ],
             [
              1,
              "#f0f921"
             ]
            ],
            "type": "contour"
           }
          ],
          "contourcarpet": [
           {
            "colorbar": {
             "outlinewidth": 0,
             "ticks": ""
            },
            "type": "contourcarpet"
           }
          ],
          "heatmap": [
           {
            "colorbar": {
             "outlinewidth": 0,
             "ticks": ""
            },
            "colorscale": [
             [
              0,
              "#0d0887"
             ],
             [
              0.1111111111111111,
              "#46039f"
             ],
             [
              0.2222222222222222,
              "#7201a8"
             ],
             [
              0.3333333333333333,
              "#9c179e"
             ],
             [
              0.4444444444444444,
              "#bd3786"
             ],
             [
              0.5555555555555556,
              "#d8576b"
             ],
             [
              0.6666666666666666,
              "#ed7953"
             ],
             [
              0.7777777777777778,
              "#fb9f3a"
             ],
             [
              0.8888888888888888,
              "#fdca26"
             ],
             [
              1,
              "#f0f921"
             ]
            ],
            "type": "heatmap"
           }
          ],
          "heatmapgl": [
           {
            "colorbar": {
             "outlinewidth": 0,
             "ticks": ""
            },
            "colorscale": [
             [
              0,
              "#0d0887"
             ],
             [
              0.1111111111111111,
              "#46039f"
             ],
             [
              0.2222222222222222,
              "#7201a8"
             ],
             [
              0.3333333333333333,
              "#9c179e"
             ],
             [
              0.4444444444444444,
              "#bd3786"
             ],
             [
              0.5555555555555556,
              "#d8576b"
             ],
             [
              0.6666666666666666,
              "#ed7953"
             ],
             [
              0.7777777777777778,
              "#fb9f3a"
             ],
             [
              0.8888888888888888,
              "#fdca26"
             ],
             [
              1,
              "#f0f921"
             ]
            ],
            "type": "heatmapgl"
           }
          ],
          "histogram": [
           {
            "marker": {
             "pattern": {
              "fillmode": "overlay",
              "size": 10,
              "solidity": 0.2
             }
            },
            "type": "histogram"
           }
          ],
          "histogram2d": [
           {
            "colorbar": {
             "outlinewidth": 0,
             "ticks": ""
            },
            "colorscale": [
             [
              0,
              "#0d0887"
             ],
             [
              0.1111111111111111,
              "#46039f"
             ],
             [
              0.2222222222222222,
              "#7201a8"
             ],
             [
              0.3333333333333333,
              "#9c179e"
             ],
             [
              0.4444444444444444,
              "#bd3786"
             ],
             [
              0.5555555555555556,
              "#d8576b"
             ],
             [
              0.6666666666666666,
              "#ed7953"
             ],
             [
              0.7777777777777778,
              "#fb9f3a"
             ],
             [
              0.8888888888888888,
              "#fdca26"
             ],
             [
              1,
              "#f0f921"
             ]
            ],
            "type": "histogram2d"
           }
          ],
          "histogram2dcontour": [
           {
            "colorbar": {
             "outlinewidth": 0,
             "ticks": ""
            },
            "colorscale": [
             [
              0,
              "#0d0887"
             ],
             [
              0.1111111111111111,
              "#46039f"
             ],
             [
              0.2222222222222222,
              "#7201a8"
             ],
             [
              0.3333333333333333,
              "#9c179e"
             ],
             [
              0.4444444444444444,
              "#bd3786"
             ],
             [
              0.5555555555555556,
              "#d8576b"
             ],
             [
              0.6666666666666666,
              "#ed7953"
             ],
             [
              0.7777777777777778,
              "#fb9f3a"
             ],
             [
              0.8888888888888888,
              "#fdca26"
             ],
             [
              1,
              "#f0f921"
             ]
            ],
            "type": "histogram2dcontour"
           }
          ],
          "mesh3d": [
           {
            "colorbar": {
             "outlinewidth": 0,
             "ticks": ""
            },
            "type": "mesh3d"
           }
          ],
          "parcoords": [
           {
            "line": {
             "colorbar": {
              "outlinewidth": 0,
              "ticks": ""
             }
            },
            "type": "parcoords"
           }
          ],
          "pie": [
           {
            "automargin": true,
            "type": "pie"
           }
          ],
          "scatter": [
           {
            "fillpattern": {
             "fillmode": "overlay",
             "size": 10,
             "solidity": 0.2
            },
            "type": "scatter"
           }
          ],
          "scatter3d": [
           {
            "line": {
             "colorbar": {
              "outlinewidth": 0,
              "ticks": ""
             }
            },
            "marker": {
             "colorbar": {
              "outlinewidth": 0,
              "ticks": ""
             }
            },
            "type": "scatter3d"
           }
          ],
          "scattercarpet": [
           {
            "marker": {
             "colorbar": {
              "outlinewidth": 0,
              "ticks": ""
             }
            },
            "type": "scattercarpet"
           }
          ],
          "scattergeo": [
           {
            "marker": {
             "colorbar": {
              "outlinewidth": 0,
              "ticks": ""
             }
            },
            "type": "scattergeo"
           }
          ],
          "scattergl": [
           {
            "marker": {
             "colorbar": {
              "outlinewidth": 0,
              "ticks": ""
             }
            },
            "type": "scattergl"
           }
          ],
          "scattermapbox": [
           {
            "marker": {
             "colorbar": {
              "outlinewidth": 0,
              "ticks": ""
             }
            },
            "type": "scattermapbox"
           }
          ],
          "scatterpolar": [
           {
            "marker": {
             "colorbar": {
              "outlinewidth": 0,
              "ticks": ""
             }
            },
            "type": "scatterpolar"
           }
          ],
          "scatterpolargl": [
           {
            "marker": {
             "colorbar": {
              "outlinewidth": 0,
              "ticks": ""
             }
            },
            "type": "scatterpolargl"
           }
          ],
          "scatterternary": [
           {
            "marker": {
             "colorbar": {
              "outlinewidth": 0,
              "ticks": ""
             }
            },
            "type": "scatterternary"
           }
          ],
          "surface": [
           {
            "colorbar": {
             "outlinewidth": 0,
             "ticks": ""
            },
            "colorscale": [
             [
              0,
              "#0d0887"
             ],
             [
              0.1111111111111111,
              "#46039f"
             ],
             [
              0.2222222222222222,
              "#7201a8"
             ],
             [
              0.3333333333333333,
              "#9c179e"
             ],
             [
              0.4444444444444444,
              "#bd3786"
             ],
             [
              0.5555555555555556,
              "#d8576b"
             ],
             [
              0.6666666666666666,
              "#ed7953"
             ],
             [
              0.7777777777777778,
              "#fb9f3a"
             ],
             [
              0.8888888888888888,
              "#fdca26"
             ],
             [
              1,
              "#f0f921"
             ]
            ],
            "type": "surface"
           }
          ],
          "table": [
           {
            "cells": {
             "fill": {
              "color": "#EBF0F8"
             },
             "line": {
              "color": "white"
             }
            },
            "header": {
             "fill": {
              "color": "#C8D4E3"
             },
             "line": {
              "color": "white"
             }
            },
            "type": "table"
           }
          ]
         },
         "layout": {
          "annotationdefaults": {
           "arrowcolor": "#2a3f5f",
           "arrowhead": 0,
           "arrowwidth": 1
          },
          "autotypenumbers": "strict",
          "coloraxis": {
           "colorbar": {
            "outlinewidth": 0,
            "ticks": ""
           }
          },
          "colorscale": {
           "diverging": [
            [
             0,
             "#8e0152"
            ],
            [
             0.1,
             "#c51b7d"
            ],
            [
             0.2,
             "#de77ae"
            ],
            [
             0.3,
             "#f1b6da"
            ],
            [
             0.4,
             "#fde0ef"
            ],
            [
             0.5,
             "#f7f7f7"
            ],
            [
             0.6,
             "#e6f5d0"
            ],
            [
             0.7,
             "#b8e186"
            ],
            [
             0.8,
             "#7fbc41"
            ],
            [
             0.9,
             "#4d9221"
            ],
            [
             1,
             "#276419"
            ]
           ],
           "sequential": [
            [
             0,
             "#0d0887"
            ],
            [
             0.1111111111111111,
             "#46039f"
            ],
            [
             0.2222222222222222,
             "#7201a8"
            ],
            [
             0.3333333333333333,
             "#9c179e"
            ],
            [
             0.4444444444444444,
             "#bd3786"
            ],
            [
             0.5555555555555556,
             "#d8576b"
            ],
            [
             0.6666666666666666,
             "#ed7953"
            ],
            [
             0.7777777777777778,
             "#fb9f3a"
            ],
            [
             0.8888888888888888,
             "#fdca26"
            ],
            [
             1,
             "#f0f921"
            ]
           ],
           "sequentialminus": [
            [
             0,
             "#0d0887"
            ],
            [
             0.1111111111111111,
             "#46039f"
            ],
            [
             0.2222222222222222,
             "#7201a8"
            ],
            [
             0.3333333333333333,
             "#9c179e"
            ],
            [
             0.4444444444444444,
             "#bd3786"
            ],
            [
             0.5555555555555556,
             "#d8576b"
            ],
            [
             0.6666666666666666,
             "#ed7953"
            ],
            [
             0.7777777777777778,
             "#fb9f3a"
            ],
            [
             0.8888888888888888,
             "#fdca26"
            ],
            [
             1,
             "#f0f921"
            ]
           ]
          },
          "colorway": [
           "#636efa",
           "#EF553B",
           "#00cc96",
           "#ab63fa",
           "#FFA15A",
           "#19d3f3",
           "#FF6692",
           "#B6E880",
           "#FF97FF",
           "#FECB52"
          ],
          "font": {
           "color": "#2a3f5f"
          },
          "geo": {
           "bgcolor": "white",
           "lakecolor": "white",
           "landcolor": "#E5ECF6",
           "showlakes": true,
           "showland": true,
           "subunitcolor": "white"
          },
          "hoverlabel": {
           "align": "left"
          },
          "hovermode": "closest",
          "mapbox": {
           "style": "light"
          },
          "paper_bgcolor": "white",
          "plot_bgcolor": "#E5ECF6",
          "polar": {
           "angularaxis": {
            "gridcolor": "white",
            "linecolor": "white",
            "ticks": ""
           },
           "bgcolor": "#E5ECF6",
           "radialaxis": {
            "gridcolor": "white",
            "linecolor": "white",
            "ticks": ""
           }
          },
          "scene": {
           "xaxis": {
            "backgroundcolor": "#E5ECF6",
            "gridcolor": "white",
            "gridwidth": 2,
            "linecolor": "white",
            "showbackground": true,
            "ticks": "",
            "zerolinecolor": "white"
           },
           "yaxis": {
            "backgroundcolor": "#E5ECF6",
            "gridcolor": "white",
            "gridwidth": 2,
            "linecolor": "white",
            "showbackground": true,
            "ticks": "",
            "zerolinecolor": "white"
           },
           "zaxis": {
            "backgroundcolor": "#E5ECF6",
            "gridcolor": "white",
            "gridwidth": 2,
            "linecolor": "white",
            "showbackground": true,
            "ticks": "",
            "zerolinecolor": "white"
           }
          },
          "shapedefaults": {
           "line": {
            "color": "#2a3f5f"
           }
          },
          "ternary": {
           "aaxis": {
            "gridcolor": "white",
            "linecolor": "white",
            "ticks": ""
           },
           "baxis": {
            "gridcolor": "white",
            "linecolor": "white",
            "ticks": ""
           },
           "bgcolor": "#E5ECF6",
           "caxis": {
            "gridcolor": "white",
            "linecolor": "white",
            "ticks": ""
           }
          },
          "title": {
           "x": 0.05
          },
          "xaxis": {
           "automargin": true,
           "gridcolor": "white",
           "linecolor": "white",
           "ticks": "",
           "title": {
            "standoff": 15
           },
           "zerolinecolor": "white",
           "zerolinewidth": 2
          },
          "yaxis": {
           "automargin": true,
           "gridcolor": "white",
           "linecolor": "white",
           "ticks": "",
           "title": {
            "standoff": 15
           },
           "zerolinecolor": "white",
           "zerolinewidth": 2
          }
         }
        },
        "title": {
         "text": "Percentage of Fraudulent Transactions by Age Group",
         "x": 0.5,
         "xanchor": "center",
         "y": 0.9,
         "yanchor": "top"
        },
        "width": 800
       }
      }
     },
     "metadata": {},
     "output_type": "display_data"
    }
   ],
   "source": [
    "# Group data by 'age_description' and 'is_fraud'\n",
    "fraud_by_age = df2.groupby('age_description')['is_fraud'].sum().reset_index()\n",
    "\n",
    "# Rename the columns for clarity\n",
    "fraud_by_age.columns = ['Age Group', 'Fraudulent Transactions']\n",
    "\n",
    "# Calculate the total number of transactions for each age group to determine the percentage of fraudulent transactions\n",
    "total_transactions_by_age = df2.groupby('age_description')['is_fraud'].count().reset_index()\n",
    "total_transactions_by_age.columns = ['Age Group', 'Total Transactions']\n",
    "\n",
    "# Merge the dataframes to calculate the percentage of fraudulent transactions\n",
    "fraud_comparison = pd.merge(fraud_by_age, total_transactions_by_age, on='Age Group')\n",
    "fraud_comparison['Fraud Percentage'] = (fraud_comparison['Fraudulent Transactions'] / fraud_comparison['Total Transactions']) * 100\n",
    "\n",
    "# Create a bar chart using plotly for fraudulent transactions by age group\n",
    "fig = px.bar(\n",
    "    fraud_comparison, \n",
    "    x='Age Group', \n",
    "    y='Fraudulent Transactions', \n",
    "    title=\"Total Fraudulent Transactions by Age Group\",\n",
    "    labels={'Fraudulent Transactions': 'Fraud Cases', 'Age Group': 'Age Group'},\n",
    "    height=500, width=800\n",
    ")\n",
    "\n",
    "# Display the chart\n",
    "fig.show()\n",
    "\n",
    "# Pie chart for the percentage of fraudulent transactions by age group\n",
    "fig_pie = px.pie(\n",
    "    fraud_comparison, \n",
    "    names='Age Group', \n",
    "    values='Fraud Percentage', \n",
    "    title=\"Percentage of Fraudulent Transactions by Age Group\",\n",
    "    height=500, width=800,\n",
    "    hole=0.4\n",
    ")\n",
    "\n",
    "# Update the layout to center the legend vertically on the right margin and keep the pie chart size\n",
    "fig_pie.update_traces(\n",
    "    pull=[0.05 for _ in range(len(fraud_comparison))]  # Optional: slight \"pull\" effect for better clarity\n",
    ")\n",
    "\n",
    "# Adjust pie chart size by limiting the domain to avoid growth\n",
    "fig_pie.update_traces(domain=dict(x=[0.0, 0.65]))  # Adjust the domain for pie chart width\n",
    "\n",
    "fig_pie.update_layout(\n",
    "    legend=dict(\n",
    "        orientation=\"v\",  # Keep the legend vertical\n",
    "        yanchor=\"middle\",  # Align the legend to the middle vertically\n",
    "        y=0.5,  # Vertical center of the legend relative to the chart\n",
    "        xanchor=\"left\",  # Align the legend to the right of the chart\n",
    "        x=0.9  # Position slightly to the right of the pie chart\n",
    "    ),\n",
    "    title={\n",
    "        'text': 'Percentage of Fraudulent Transactions by Age Group',\n",
    "        'y':0.90,  # Position the title closer to the top\n",
    "        'x':0.5,  # Center the title horizontally\n",
    "        'xanchor': 'center',\n",
    "        'yanchor': 'top'\n",
    "    },\n",
    "    margin=dict(t=50, l=50, r=0)  # Adjust margins for proper spacing\n",
    ")\n",
    "\n",
    "# Display the updated pie chart\n",
    "fig_pie.show()"
   ]
  },
  {
   "cell_type": "code",
   "execution_count": 8,
   "metadata": {},
   "outputs": [
    {
     "data": {
      "application/vnd.plotly.v1+json": {
       "config": {
        "plotlyServerURL": "https://plot.ly"
       },
       "data": [
        {
         "domain": {
          "x": [
           0,
           0.65
          ],
          "y": [
           0,
           1
          ]
         },
         "hole": 0.4,
         "hovertemplate": "Category: %{label}<br>Fraud Percentage: %{value:.1f}%",
         "labels": [
          "entertainment",
          "food_dining",
          "gas_transport",
          "grocery_net",
          "grocery_pos",
          "health_fitness",
          "home",
          "kids_pets",
          "misc_net",
          "misc_pos",
          "personal_care",
          "shopping_net",
          "shopping_pos",
          "travel"
         ],
         "legendgroup": "",
         "name": "",
         "pull": [
          0.05,
          0.05,
          0.05,
          0.05,
          0.05,
          0.05,
          0.05,
          0.05,
          0.05,
          0.05,
          0.05,
          0.05,
          0.05,
          0.05
         ],
         "showlegend": true,
         "textinfo": "percent+label",
         "textposition": "inside",
         "type": "pie",
         "values": [
          1.9435156076953681,
          0.38805302074489484,
          0.09092856112130002,
          0.06681198361238329,
          3.760490833163805,
          0.05787615478567807,
          0.7105125562792962,
          0.06659429574408837,
          14.249866941444814,
          1.0893326938921557,
          0.13225187607679098,
          19.84572759321668,
          7.942045525319178,
          0.023279937850852923
         ]
        }
       ],
       "layout": {
        "height": 500,
        "legend": {
         "orientation": "v",
         "tracegroupgap": 0,
         "x": 0.7,
         "xanchor": "left",
         "y": 0.5,
         "yanchor": "middle"
        },
        "margin": {
         "l": 50,
         "r": 0,
         "t": 50
        },
        "showlegend": true,
        "template": {
         "data": {
          "bar": [
           {
            "error_x": {
             "color": "#2a3f5f"
            },
            "error_y": {
             "color": "#2a3f5f"
            },
            "marker": {
             "line": {
              "color": "#E5ECF6",
              "width": 0.5
             },
             "pattern": {
              "fillmode": "overlay",
              "size": 10,
              "solidity": 0.2
             }
            },
            "type": "bar"
           }
          ],
          "barpolar": [
           {
            "marker": {
             "line": {
              "color": "#E5ECF6",
              "width": 0.5
             },
             "pattern": {
              "fillmode": "overlay",
              "size": 10,
              "solidity": 0.2
             }
            },
            "type": "barpolar"
           }
          ],
          "carpet": [
           {
            "aaxis": {
             "endlinecolor": "#2a3f5f",
             "gridcolor": "white",
             "linecolor": "white",
             "minorgridcolor": "white",
             "startlinecolor": "#2a3f5f"
            },
            "baxis": {
             "endlinecolor": "#2a3f5f",
             "gridcolor": "white",
             "linecolor": "white",
             "minorgridcolor": "white",
             "startlinecolor": "#2a3f5f"
            },
            "type": "carpet"
           }
          ],
          "choropleth": [
           {
            "colorbar": {
             "outlinewidth": 0,
             "ticks": ""
            },
            "type": "choropleth"
           }
          ],
          "contour": [
           {
            "colorbar": {
             "outlinewidth": 0,
             "ticks": ""
            },
            "colorscale": [
             [
              0,
              "#0d0887"
             ],
             [
              0.1111111111111111,
              "#46039f"
             ],
             [
              0.2222222222222222,
              "#7201a8"
             ],
             [
              0.3333333333333333,
              "#9c179e"
             ],
             [
              0.4444444444444444,
              "#bd3786"
             ],
             [
              0.5555555555555556,
              "#d8576b"
             ],
             [
              0.6666666666666666,
              "#ed7953"
             ],
             [
              0.7777777777777778,
              "#fb9f3a"
             ],
             [
              0.8888888888888888,
              "#fdca26"
             ],
             [
              1,
              "#f0f921"
             ]
            ],
            "type": "contour"
           }
          ],
          "contourcarpet": [
           {
            "colorbar": {
             "outlinewidth": 0,
             "ticks": ""
            },
            "type": "contourcarpet"
           }
          ],
          "heatmap": [
           {
            "colorbar": {
             "outlinewidth": 0,
             "ticks": ""
            },
            "colorscale": [
             [
              0,
              "#0d0887"
             ],
             [
              0.1111111111111111,
              "#46039f"
             ],
             [
              0.2222222222222222,
              "#7201a8"
             ],
             [
              0.3333333333333333,
              "#9c179e"
             ],
             [
              0.4444444444444444,
              "#bd3786"
             ],
             [
              0.5555555555555556,
              "#d8576b"
             ],
             [
              0.6666666666666666,
              "#ed7953"
             ],
             [
              0.7777777777777778,
              "#fb9f3a"
             ],
             [
              0.8888888888888888,
              "#fdca26"
             ],
             [
              1,
              "#f0f921"
             ]
            ],
            "type": "heatmap"
           }
          ],
          "heatmapgl": [
           {
            "colorbar": {
             "outlinewidth": 0,
             "ticks": ""
            },
            "colorscale": [
             [
              0,
              "#0d0887"
             ],
             [
              0.1111111111111111,
              "#46039f"
             ],
             [
              0.2222222222222222,
              "#7201a8"
             ],
             [
              0.3333333333333333,
              "#9c179e"
             ],
             [
              0.4444444444444444,
              "#bd3786"
             ],
             [
              0.5555555555555556,
              "#d8576b"
             ],
             [
              0.6666666666666666,
              "#ed7953"
             ],
             [
              0.7777777777777778,
              "#fb9f3a"
             ],
             [
              0.8888888888888888,
              "#fdca26"
             ],
             [
              1,
              "#f0f921"
             ]
            ],
            "type": "heatmapgl"
           }
          ],
          "histogram": [
           {
            "marker": {
             "pattern": {
              "fillmode": "overlay",
              "size": 10,
              "solidity": 0.2
             }
            },
            "type": "histogram"
           }
          ],
          "histogram2d": [
           {
            "colorbar": {
             "outlinewidth": 0,
             "ticks": ""
            },
            "colorscale": [
             [
              0,
              "#0d0887"
             ],
             [
              0.1111111111111111,
              "#46039f"
             ],
             [
              0.2222222222222222,
              "#7201a8"
             ],
             [
              0.3333333333333333,
              "#9c179e"
             ],
             [
              0.4444444444444444,
              "#bd3786"
             ],
             [
              0.5555555555555556,
              "#d8576b"
             ],
             [
              0.6666666666666666,
              "#ed7953"
             ],
             [
              0.7777777777777778,
              "#fb9f3a"
             ],
             [
              0.8888888888888888,
              "#fdca26"
             ],
             [
              1,
              "#f0f921"
             ]
            ],
            "type": "histogram2d"
           }
          ],
          "histogram2dcontour": [
           {
            "colorbar": {
             "outlinewidth": 0,
             "ticks": ""
            },
            "colorscale": [
             [
              0,
              "#0d0887"
             ],
             [
              0.1111111111111111,
              "#46039f"
             ],
             [
              0.2222222222222222,
              "#7201a8"
             ],
             [
              0.3333333333333333,
              "#9c179e"
             ],
             [
              0.4444444444444444,
              "#bd3786"
             ],
             [
              0.5555555555555556,
              "#d8576b"
             ],
             [
              0.6666666666666666,
              "#ed7953"
             ],
             [
              0.7777777777777778,
              "#fb9f3a"
             ],
             [
              0.8888888888888888,
              "#fdca26"
             ],
             [
              1,
              "#f0f921"
             ]
            ],
            "type": "histogram2dcontour"
           }
          ],
          "mesh3d": [
           {
            "colorbar": {
             "outlinewidth": 0,
             "ticks": ""
            },
            "type": "mesh3d"
           }
          ],
          "parcoords": [
           {
            "line": {
             "colorbar": {
              "outlinewidth": 0,
              "ticks": ""
             }
            },
            "type": "parcoords"
           }
          ],
          "pie": [
           {
            "automargin": true,
            "type": "pie"
           }
          ],
          "scatter": [
           {
            "fillpattern": {
             "fillmode": "overlay",
             "size": 10,
             "solidity": 0.2
            },
            "type": "scatter"
           }
          ],
          "scatter3d": [
           {
            "line": {
             "colorbar": {
              "outlinewidth": 0,
              "ticks": ""
             }
            },
            "marker": {
             "colorbar": {
              "outlinewidth": 0,
              "ticks": ""
             }
            },
            "type": "scatter3d"
           }
          ],
          "scattercarpet": [
           {
            "marker": {
             "colorbar": {
              "outlinewidth": 0,
              "ticks": ""
             }
            },
            "type": "scattercarpet"
           }
          ],
          "scattergeo": [
           {
            "marker": {
             "colorbar": {
              "outlinewidth": 0,
              "ticks": ""
             }
            },
            "type": "scattergeo"
           }
          ],
          "scattergl": [
           {
            "marker": {
             "colorbar": {
              "outlinewidth": 0,
              "ticks": ""
             }
            },
            "type": "scattergl"
           }
          ],
          "scattermapbox": [
           {
            "marker": {
             "colorbar": {
              "outlinewidth": 0,
              "ticks": ""
             }
            },
            "type": "scattermapbox"
           }
          ],
          "scatterpolar": [
           {
            "marker": {
             "colorbar": {
              "outlinewidth": 0,
              "ticks": ""
             }
            },
            "type": "scatterpolar"
           }
          ],
          "scatterpolargl": [
           {
            "marker": {
             "colorbar": {
              "outlinewidth": 0,
              "ticks": ""
             }
            },
            "type": "scatterpolargl"
           }
          ],
          "scatterternary": [
           {
            "marker": {
             "colorbar": {
              "outlinewidth": 0,
              "ticks": ""
             }
            },
            "type": "scatterternary"
           }
          ],
          "surface": [
           {
            "colorbar": {
             "outlinewidth": 0,
             "ticks": ""
            },
            "colorscale": [
             [
              0,
              "#0d0887"
             ],
             [
              0.1111111111111111,
              "#46039f"
             ],
             [
              0.2222222222222222,
              "#7201a8"
             ],
             [
              0.3333333333333333,
              "#9c179e"
             ],
             [
              0.4444444444444444,
              "#bd3786"
             ],
             [
              0.5555555555555556,
              "#d8576b"
             ],
             [
              0.6666666666666666,
              "#ed7953"
             ],
             [
              0.7777777777777778,
              "#fb9f3a"
             ],
             [
              0.8888888888888888,
              "#fdca26"
             ],
             [
              1,
              "#f0f921"
             ]
            ],
            "type": "surface"
           }
          ],
          "table": [
           {
            "cells": {
             "fill": {
              "color": "#EBF0F8"
             },
             "line": {
              "color": "white"
             }
            },
            "header": {
             "fill": {
              "color": "#C8D4E3"
             },
             "line": {
              "color": "white"
             }
            },
            "type": "table"
           }
          ]
         },
         "layout": {
          "annotationdefaults": {
           "arrowcolor": "#2a3f5f",
           "arrowhead": 0,
           "arrowwidth": 1
          },
          "autotypenumbers": "strict",
          "coloraxis": {
           "colorbar": {
            "outlinewidth": 0,
            "ticks": ""
           }
          },
          "colorscale": {
           "diverging": [
            [
             0,
             "#8e0152"
            ],
            [
             0.1,
             "#c51b7d"
            ],
            [
             0.2,
             "#de77ae"
            ],
            [
             0.3,
             "#f1b6da"
            ],
            [
             0.4,
             "#fde0ef"
            ],
            [
             0.5,
             "#f7f7f7"
            ],
            [
             0.6,
             "#e6f5d0"
            ],
            [
             0.7,
             "#b8e186"
            ],
            [
             0.8,
             "#7fbc41"
            ],
            [
             0.9,
             "#4d9221"
            ],
            [
             1,
             "#276419"
            ]
           ],
           "sequential": [
            [
             0,
             "#0d0887"
            ],
            [
             0.1111111111111111,
             "#46039f"
            ],
            [
             0.2222222222222222,
             "#7201a8"
            ],
            [
             0.3333333333333333,
             "#9c179e"
            ],
            [
             0.4444444444444444,
             "#bd3786"
            ],
            [
             0.5555555555555556,
             "#d8576b"
            ],
            [
             0.6666666666666666,
             "#ed7953"
            ],
            [
             0.7777777777777778,
             "#fb9f3a"
            ],
            [
             0.8888888888888888,
             "#fdca26"
            ],
            [
             1,
             "#f0f921"
            ]
           ],
           "sequentialminus": [
            [
             0,
             "#0d0887"
            ],
            [
             0.1111111111111111,
             "#46039f"
            ],
            [
             0.2222222222222222,
             "#7201a8"
            ],
            [
             0.3333333333333333,
             "#9c179e"
            ],
            [
             0.4444444444444444,
             "#bd3786"
            ],
            [
             0.5555555555555556,
             "#d8576b"
            ],
            [
             0.6666666666666666,
             "#ed7953"
            ],
            [
             0.7777777777777778,
             "#fb9f3a"
            ],
            [
             0.8888888888888888,
             "#fdca26"
            ],
            [
             1,
             "#f0f921"
            ]
           ]
          },
          "colorway": [
           "#636efa",
           "#EF553B",
           "#00cc96",
           "#ab63fa",
           "#FFA15A",
           "#19d3f3",
           "#FF6692",
           "#B6E880",
           "#FF97FF",
           "#FECB52"
          ],
          "font": {
           "color": "#2a3f5f"
          },
          "geo": {
           "bgcolor": "white",
           "lakecolor": "white",
           "landcolor": "#E5ECF6",
           "showlakes": true,
           "showland": true,
           "subunitcolor": "white"
          },
          "hoverlabel": {
           "align": "left"
          },
          "hovermode": "closest",
          "mapbox": {
           "style": "light"
          },
          "paper_bgcolor": "white",
          "plot_bgcolor": "#E5ECF6",
          "polar": {
           "angularaxis": {
            "gridcolor": "white",
            "linecolor": "white",
            "ticks": ""
           },
           "bgcolor": "#E5ECF6",
           "radialaxis": {
            "gridcolor": "white",
            "linecolor": "white",
            "ticks": ""
           }
          },
          "scene": {
           "xaxis": {
            "backgroundcolor": "#E5ECF6",
            "gridcolor": "white",
            "gridwidth": 2,
            "linecolor": "white",
            "showbackground": true,
            "ticks": "",
            "zerolinecolor": "white"
           },
           "yaxis": {
            "backgroundcolor": "#E5ECF6",
            "gridcolor": "white",
            "gridwidth": 2,
            "linecolor": "white",
            "showbackground": true,
            "ticks": "",
            "zerolinecolor": "white"
           },
           "zaxis": {
            "backgroundcolor": "#E5ECF6",
            "gridcolor": "white",
            "gridwidth": 2,
            "linecolor": "white",
            "showbackground": true,
            "ticks": "",
            "zerolinecolor": "white"
           }
          },
          "shapedefaults": {
           "line": {
            "color": "#2a3f5f"
           }
          },
          "ternary": {
           "aaxis": {
            "gridcolor": "white",
            "linecolor": "white",
            "ticks": ""
           },
           "baxis": {
            "gridcolor": "white",
            "linecolor": "white",
            "ticks": ""
           },
           "bgcolor": "#E5ECF6",
           "caxis": {
            "gridcolor": "white",
            "linecolor": "white",
            "ticks": ""
           }
          },
          "title": {
           "x": 0.05
          },
          "xaxis": {
           "automargin": true,
           "gridcolor": "white",
           "linecolor": "white",
           "ticks": "",
           "title": {
            "standoff": 15
           },
           "zerolinecolor": "white",
           "zerolinewidth": 2
          },
          "yaxis": {
           "automargin": true,
           "gridcolor": "white",
           "linecolor": "white",
           "ticks": "",
           "title": {
            "standoff": 15
           },
           "zerolinecolor": "white",
           "zerolinewidth": 2
          }
         }
        },
        "title": {
         "text": "Percentage of Fraudulent Transactions by Category",
         "x": 0.5,
         "xanchor": "center",
         "y": 0.95,
         "yanchor": "top"
        },
        "width": 800
       }
      }
     },
     "metadata": {},
     "output_type": "display_data"
    }
   ],
   "source": [
    "# Filter for fraudulent transactions\n",
    "fraud_data = df2[df2['is_fraud'] == 1]\n",
    "\n",
    "# Group the data by 'category' and sum the 'amt' for each category\n",
    "fraud_by_category = fraud_data.groupby('category')['amt'].sum().reset_index()\n",
    "\n",
    "# Calculate the total amount for each category (including non-fraudulent transactions)\n",
    "total_by_category = df2.groupby('category')['amt'].sum().reset_index()\n",
    "\n",
    "# Merge both dataframes to calculate the percentage of fraud for each category\n",
    "fraud_percentage_by_category = pd.merge(fraud_by_category, total_by_category, on='category', suffixes=('_fraud', '_total'))\n",
    "\n",
    "# Calculate the percentage of fraudulent transactions for each category\n",
    "fraud_percentage_by_category['fraud_percentage'] = (fraud_percentage_by_category['amt_fraud'] / fraud_percentage_by_category['amt_total']) * 100\n",
    "\n",
    "# Create a pie chart using plotly for the percentage of fraudulent transactions by category\n",
    "fig = px.pie(\n",
    "    fraud_percentage_by_category, \n",
    "    values='fraud_percentage', \n",
    "    names='category', \n",
    "    title=\"Percentage of Fraudulent Transactions by Category\",\n",
    "    height=500, width=800, hole=0.40\n",
    ")\n",
    "\n",
    "# Break out slices with a border and update the hover template\n",
    "fig.update_traces(\n",
    "    pull=[0.05 for _ in fraud_percentage_by_category['category']],  # Slightly pull out each slice\n",
    "    textposition='inside', \n",
    "    textinfo='percent+label',\n",
    "    hovertemplate='Category: %{label}<br>Fraud Percentage: %{value:.1f}%'  # Show percentage on hover\n",
    ")\n",
    "\n",
    "# Match the layout and style to Cell 1\n",
    "fig.update_layout(\n",
    "    title={\n",
    "        'text': \"Percentage of Fraudulent Transactions by Category\",\n",
    "        'y':0.95,  # Position the title closer to the top\n",
    "        'x':0.5,   # Center the title horizontally\n",
    "        'xanchor': 'center',\n",
    "        'yanchor': 'top'\n",
    "    },\n",
    "    legend=dict(\n",
    "        orientation=\"v\",  # Keep the legend vertical\n",
    "        yanchor=\"middle\",  # Align the legend to the middle vertically\n",
    "        y=0.5,  # Vertical center of the legend relative to the chart\n",
    "        xanchor=\"left\",  # Align the legend to the right of the chart\n",
    "        x=0.7  # Position slightly to the right of the pie chart\n",
    "    ),\n",
    "    margin=dict(t=50, l=50, r=0),  # Adjust margins to match Cell 1\n",
    "    showlegend=True  # Ensure the legend is displayed\n",
    ")\n",
    "\n",
    "# Adjust pie chart size by limiting the domain to avoid growth (optional step)\n",
    "fig.update_traces(domain=dict(x=[0.0, 0.65]))\n",
    "\n",
    "# Display the pie chart\n",
    "fig.show()"
   ]
  },
  {
   "cell_type": "code",
   "execution_count": 9,
   "metadata": {},
   "outputs": [
    {
     "data": {
      "text/html": [
       "<div>\n",
       "<style scoped>\n",
       "    .dataframe tbody tr th:only-of-type {\n",
       "        vertical-align: middle;\n",
       "    }\n",
       "\n",
       "    .dataframe tbody tr th {\n",
       "        vertical-align: top;\n",
       "    }\n",
       "\n",
       "    .dataframe thead th {\n",
       "        text-align: right;\n",
       "    }\n",
       "</style>\n",
       "<table border=\"1\" class=\"dataframe\">\n",
       "  <thead>\n",
       "    <tr style=\"text-align: right;\">\n",
       "      <th></th>\n",
       "      <th>date</th>\n",
       "      <th>fraud_charge_count</th>\n",
       "    </tr>\n",
       "  </thead>\n",
       "  <tbody>\n",
       "    <tr>\n",
       "      <th>0</th>\n",
       "      <td>2019-01-02</td>\n",
       "      <td>7</td>\n",
       "    </tr>\n",
       "    <tr>\n",
       "      <th>1</th>\n",
       "      <td>2019-01-03</td>\n",
       "      <td>12</td>\n",
       "    </tr>\n",
       "    <tr>\n",
       "      <th>2</th>\n",
       "      <td>2019-01-04</td>\n",
       "      <td>13</td>\n",
       "    </tr>\n",
       "    <tr>\n",
       "      <th>3</th>\n",
       "      <td>2019-01-05</td>\n",
       "      <td>13</td>\n",
       "    </tr>\n",
       "    <tr>\n",
       "      <th>4</th>\n",
       "      <td>2019-01-06</td>\n",
       "      <td>2</td>\n",
       "    </tr>\n",
       "  </tbody>\n",
       "</table>\n",
       "</div>"
      ],
      "text/plain": [
       "         date  fraud_charge_count\n",
       "0  2019-01-02                   7\n",
       "1  2019-01-03                  12\n",
       "2  2019-01-04                  13\n",
       "3  2019-01-05                  13\n",
       "4  2019-01-06                   2"
      ]
     },
     "execution_count": 9,
     "metadata": {},
     "output_type": "execute_result"
    }
   ],
   "source": [
    "# Filter for fraudulent transactions and group by date, counting the number of fraud charges\n",
    "fraud_df = df2[df2['is_fraud'] == 1].groupby('trans_date')['is_fraud'].count().reset_index()\n",
    "\n",
    "# Rename columns for clarity\n",
    "fraud_df.columns = ['date', 'fraud_charge_count']\n",
    "\n",
    "# Display the resulting DataFrame\n",
    "fraud_df.head()\n"
   ]
  },
  {
   "cell_type": "code",
   "execution_count": 10,
   "metadata": {},
   "outputs": [
    {
     "data": {
      "text/html": [
       "<div>\n",
       "<style scoped>\n",
       "    .dataframe tbody tr th:only-of-type {\n",
       "        vertical-align: middle;\n",
       "    }\n",
       "\n",
       "    .dataframe tbody tr th {\n",
       "        vertical-align: top;\n",
       "    }\n",
       "\n",
       "    .dataframe thead th {\n",
       "        text-align: right;\n",
       "    }\n",
       "</style>\n",
       "<table border=\"1\" class=\"dataframe\">\n",
       "  <thead>\n",
       "    <tr style=\"text-align: right;\">\n",
       "      <th></th>\n",
       "      <th>ds</th>\n",
       "      <th>y</th>\n",
       "    </tr>\n",
       "  </thead>\n",
       "  <tbody>\n",
       "    <tr>\n",
       "      <th>499</th>\n",
       "      <td>2020-06-17</td>\n",
       "      <td>35</td>\n",
       "    </tr>\n",
       "    <tr>\n",
       "      <th>500</th>\n",
       "      <td>2020-06-18</td>\n",
       "      <td>39</td>\n",
       "    </tr>\n",
       "    <tr>\n",
       "      <th>501</th>\n",
       "      <td>2020-06-19</td>\n",
       "      <td>25</td>\n",
       "    </tr>\n",
       "    <tr>\n",
       "      <th>502</th>\n",
       "      <td>2020-06-20</td>\n",
       "      <td>26</td>\n",
       "    </tr>\n",
       "    <tr>\n",
       "      <th>503</th>\n",
       "      <td>2020-06-21</td>\n",
       "      <td>7</td>\n",
       "    </tr>\n",
       "  </tbody>\n",
       "</table>\n",
       "</div>"
      ],
      "text/plain": [
       "             ds   y\n",
       "499  2020-06-17  35\n",
       "500  2020-06-18  39\n",
       "501  2020-06-19  25\n",
       "502  2020-06-20  26\n",
       "503  2020-06-21   7"
      ]
     },
     "execution_count": 10,
     "metadata": {},
     "output_type": "execute_result"
    }
   ],
   "source": [
    "# Rename columns for Prophet\n",
    "fraud_df.columns=['ds','y']\n",
    "fraud_df.tail()"
   ]
  },
  {
   "cell_type": "code",
   "execution_count": 11,
   "metadata": {},
   "outputs": [
    {
     "name": "stderr",
     "output_type": "stream",
     "text": [
      "22:28:07 - cmdstanpy - INFO - Chain [1] start processing\n",
      "22:28:07 - cmdstanpy - INFO - Chain [1] done processing\n"
     ]
    },
    {
     "data": {
      "text/html": [
       "<div>\n",
       "<style scoped>\n",
       "    .dataframe tbody tr th:only-of-type {\n",
       "        vertical-align: middle;\n",
       "    }\n",
       "\n",
       "    .dataframe tbody tr th {\n",
       "        vertical-align: top;\n",
       "    }\n",
       "\n",
       "    .dataframe thead th {\n",
       "        text-align: right;\n",
       "    }\n",
       "</style>\n",
       "<table border=\"1\" class=\"dataframe\">\n",
       "  <thead>\n",
       "    <tr style=\"text-align: right;\">\n",
       "      <th></th>\n",
       "      <th>ds</th>\n",
       "      <th>yhat</th>\n",
       "      <th>yhat_lower</th>\n",
       "      <th>yhat_upper</th>\n",
       "    </tr>\n",
       "  </thead>\n",
       "  <tbody>\n",
       "    <tr>\n",
       "      <th>0</th>\n",
       "      <td>2019-01-02</td>\n",
       "      <td>12.982760</td>\n",
       "      <td>1.708672</td>\n",
       "      <td>24.534852</td>\n",
       "    </tr>\n",
       "    <tr>\n",
       "      <th>1</th>\n",
       "      <td>2019-01-03</td>\n",
       "      <td>15.113664</td>\n",
       "      <td>2.717403</td>\n",
       "      <td>26.476057</td>\n",
       "    </tr>\n",
       "    <tr>\n",
       "      <th>2</th>\n",
       "      <td>2019-01-04</td>\n",
       "      <td>15.699244</td>\n",
       "      <td>4.329878</td>\n",
       "      <td>27.294903</td>\n",
       "    </tr>\n",
       "    <tr>\n",
       "      <th>3</th>\n",
       "      <td>2019-01-05</td>\n",
       "      <td>17.770221</td>\n",
       "      <td>5.102535</td>\n",
       "      <td>29.334301</td>\n",
       "    </tr>\n",
       "    <tr>\n",
       "      <th>4</th>\n",
       "      <td>2019-01-06</td>\n",
       "      <td>17.142521</td>\n",
       "      <td>4.930593</td>\n",
       "      <td>28.955311</td>\n",
       "    </tr>\n",
       "  </tbody>\n",
       "</table>\n",
       "</div>"
      ],
      "text/plain": [
       "          ds       yhat  yhat_lower  yhat_upper\n",
       "0 2019-01-02  12.982760    1.708672   24.534852\n",
       "1 2019-01-03  15.113664    2.717403   26.476057\n",
       "2 2019-01-04  15.699244    4.329878   27.294903\n",
       "3 2019-01-05  17.770221    5.102535   29.334301\n",
       "4 2019-01-06  17.142521    4.930593   28.955311"
      ]
     },
     "metadata": {},
     "output_type": "display_data"
    },
    {
     "data": {
      "text/html": [
       "<div>\n",
       "<style scoped>\n",
       "    .dataframe tbody tr th:only-of-type {\n",
       "        vertical-align: middle;\n",
       "    }\n",
       "\n",
       "    .dataframe tbody tr th {\n",
       "        vertical-align: top;\n",
       "    }\n",
       "\n",
       "    .dataframe thead th {\n",
       "        text-align: right;\n",
       "    }\n",
       "</style>\n",
       "<table border=\"1\" class=\"dataframe\">\n",
       "  <thead>\n",
       "    <tr style=\"text-align: right;\">\n",
       "      <th></th>\n",
       "      <th>ds</th>\n",
       "      <th>yhat</th>\n",
       "      <th>yhat_lower</th>\n",
       "      <th>yhat_upper</th>\n",
       "    </tr>\n",
       "  </thead>\n",
       "  <tbody>\n",
       "    <tr>\n",
       "      <th>619</th>\n",
       "      <td>2020-10-15</td>\n",
       "      <td>13.324857</td>\n",
       "      <td>1.957399</td>\n",
       "      <td>24.125147</td>\n",
       "    </tr>\n",
       "    <tr>\n",
       "      <th>620</th>\n",
       "      <td>2020-10-16</td>\n",
       "      <td>13.910473</td>\n",
       "      <td>2.405516</td>\n",
       "      <td>24.940796</td>\n",
       "    </tr>\n",
       "    <tr>\n",
       "      <th>621</th>\n",
       "      <td>2020-10-17</td>\n",
       "      <td>15.981486</td>\n",
       "      <td>5.672221</td>\n",
       "      <td>27.841546</td>\n",
       "    </tr>\n",
       "    <tr>\n",
       "      <th>622</th>\n",
       "      <td>2020-10-18</td>\n",
       "      <td>15.353823</td>\n",
       "      <td>3.717957</td>\n",
       "      <td>26.250186</td>\n",
       "    </tr>\n",
       "    <tr>\n",
       "      <th>623</th>\n",
       "      <td>2020-10-19</td>\n",
       "      <td>15.117856</td>\n",
       "      <td>4.277241</td>\n",
       "      <td>26.767010</td>\n",
       "    </tr>\n",
       "  </tbody>\n",
       "</table>\n",
       "</div>"
      ],
      "text/plain": [
       "            ds       yhat  yhat_lower  yhat_upper\n",
       "619 2020-10-15  13.324857    1.957399   24.125147\n",
       "620 2020-10-16  13.910473    2.405516   24.940796\n",
       "621 2020-10-17  15.981486    5.672221   27.841546\n",
       "622 2020-10-18  15.353823    3.717957   26.250186\n",
       "623 2020-10-19  15.117856    4.277241   26.767010"
      ]
     },
     "metadata": {},
     "output_type": "display_data"
    }
   ],
   "source": [
    "# Initialize a Prophet model\n",
    "model = Prophet()\n",
    "\n",
    "# Fit the model to the data\n",
    "model.fit(fraud_df)\n",
    "\n",
    "# Create a DataFrame for future dates to forecast\n",
    "future = model.make_future_dataframe(periods=120)  # Adjust the periods as needed\n",
    "\n",
    "# Make predictions\n",
    "fraud_forecast = model.predict(future)\n",
    "\n",
    "# Display the forecast\n",
    "display(fraud_forecast[['ds', 'yhat', 'yhat_lower', 'yhat_upper']].head())\n",
    "display(fraud_forecast[['ds', 'yhat', 'yhat_lower', 'yhat_upper']].tail())\n"
   ]
  },
  {
   "cell_type": "code",
   "execution_count": 12,
   "metadata": {},
   "outputs": [
    {
     "data": {
      "image/png": "[encoded data removed]",
      "text/plain": [
       "<Figure size 1200x600 with 1 Axes>"
      ]
     },
     "metadata": {},
     "output_type": "display_data"
    }
   ],
   "source": [
    "import matplotlib.pyplot as plt\n",
    "\n",
    "# Prepare your data\n",
    "# Ensure 'fraud_forecast' is your DataFrame containing the forecast\n",
    "# fraud_forecast = forecast[['ds', 'yhat', 'yhat_lower', 'yhat_upper']]\n",
    "\n",
    "# Filter the forecast to start from 2020-06-21\n",
    "start_date = '2020-06-21'\n",
    "fraud_forecast_filtered = fraud_forecast[fraud_forecast['ds'] >= start_date]\n",
    "\n",
    "# Plotting the forecast\n",
    "plt.figure(figsize=(12, 6))\n",
    "\n",
    "# Plot the forecasted values\n",
    "plt.plot(fraud_forecast_filtered['ds'], fraud_forecast_filtered['yhat'], label='Predicted Fraud Charges', color='blue')\n",
    "\n",
    "# Plot the confidence intervals\n",
    "plt.fill_between(fraud_forecast_filtered['ds'], \n",
    "                 fraud_forecast_filtered['yhat_lower'], \n",
    "                 fraud_forecast_filtered['yhat_upper'], \n",
    "                 color='lightblue', \n",
    "                 alpha=0.5, \n",
    "                 label='Confidence Interval')\n",
    "\n",
    "# Add labels and title\n",
    "plt.title('Fraud Charge Forecast Starting from 2020-06-21', fontsize=16)\n",
    "plt.xlabel('Date', fontsize=14)\n",
    "plt.ylabel('Number of Fraud Charges', fontsize=14)\n",
    "plt.xticks(rotation=45)  # Rotate x-axis labels for better readability\n",
    "plt.legend()\n",
    "plt.grid()\n",
    "\n",
    "# Show the plot\n",
    "plt.tight_layout()  # Adjust layout to prevent clipping of labels\n",
    "plt.show()\n"
   ]
  },
  {
   "cell_type": "code",
   "execution_count": 13,
   "metadata": {},
   "outputs": [
    {
     "data": {},
     "metadata": {},
     "output_type": "display_data"
    },
    {
     "data": {
      "application/vnd.holoviews_exec.v0+json": "",
      "text/html": [
       "<div id='p1004'>\n",
       "  <div id=\"d3d54106-b230-4180-a5c1-767f22a5050e\" data-root-id=\"p1004\" style=\"display: contents;\"></div>\n",
       "</div>\n",
       "<script type=\"application/javascript\">(function(root) {\n",
       "  var docs_json = {\"327e90a1-8332-440c-8c6f-996c06a7938b\":{\"version\":\"3.4.1\",\"title\":\"Bokeh Application\",\"roots\":[{\"type\":\"object\",\"name\":\"Row\",\"id\":\"p1004\",\"attributes\":{\"name\":\"Row01173\",\"tags\":[\"embedded\"],\"stylesheets\":[\"\\n:host(.pn-loading):before, .pn-loading:before {\\n  background-color: #c3c3c3;\\n  mask-size: auto calc(min(50%, 400px));\\n  -webkit-mask-size: auto calc(min(50%, 400px));\\n}\",{\"type\":\"object\",\"name\":\"ImportedStyleSheet\",\"id\":\"p1007\",\"attributes\":{\"url\":\"https://cdn.holoviz.org/panel/1.4.4/dist/css/loading.css\"}},{\"type\":\"object\",\"name\":\"ImportedStyleSheet\",\"id\":\"p1111\",\"attributes\":{\"url\":\"https://cdn.holoviz.org/panel/1.4.4/dist/css/listpanel.css\"}},{\"type\":\"object\",\"name\":\"ImportedStyleSheet\",\"id\":\"p1005\",\"attributes\":{\"url\":\"https://cdn.holoviz.org/panel/1.4.4/dist/bundled/theme/default.css\"}},{\"type\":\"object\",\"name\":\"ImportedStyleSheet\",\"id\":\"p1006\",\"attributes\":{\"url\":\"https://cdn.holoviz.org/panel/1.4.4/dist/bundled/theme/native.css\"}}],\"min_width\":1000,\"margin\":0,\"sizing_mode\":\"stretch_width\",\"align\":\"start\",\"children\":[{\"type\":\"object\",\"name\":\"Spacer\",\"id\":\"p1008\",\"attributes\":{\"name\":\"HSpacer01180\",\"stylesheets\":[\"\\n:host(.pn-loading):before, .pn-loading:before {\\n  background-color: #c3c3c3;\\n  mask-size: auto calc(min(50%, 400px));\\n  -webkit-mask-size: auto calc(min(50%, 400px));\\n}\",{\"id\":\"p1007\"},{\"id\":\"p1005\"},{\"id\":\"p1006\"}],\"margin\":0,\"sizing_mode\":\"stretch_width\",\"align\":\"start\"}},{\"type\":\"object\",\"name\":\"Figure\",\"id\":\"p1022\",\"attributes\":{\"width\":1000,\"margin\":[5,10],\"sizing_mode\":\"fixed\",\"align\":\"start\",\"x_range\":{\"type\":\"object\",\"name\":\"Range1d\",\"id\":\"p1009\",\"attributes\":{\"tags\":[[[\"ds\",null]],[]],\"start\":1546387200000.0,\"end\":1603065600000.0,\"reset_start\":1546387200000.0,\"reset_end\":1603065600000.0}},\"y_range\":{\"type\":\"object\",\"name\":\"Range1d\",\"id\":\"p1010\",\"attributes\":{\"tags\":[[[\"actual_fraud_count\",null]],{\"type\":\"map\",\"entries\":[[\"invert_yaxis\",false],[\"autorange\",false]]}],\"start\":-6.373237656299958,\"end\":55.12483978693636,\"reset_start\":-6.373237656299958,\"reset_end\":55.12483978693636}},\"x_scale\":{\"type\":\"object\",\"name\":\"LinearScale\",\"id\":\"p1032\"},\"y_scale\":{\"type\":\"object\",\"name\":\"LinearScale\",\"id\":\"p1033\"},\"title\":{\"type\":\"object\",\"name\":\"Title\",\"id\":\"p1025\",\"attributes\":{\"text\":\"Fraud Charge Forecasting\",\"text_color\":\"black\",\"text_font_size\":\"12pt\"}},\"renderers\":[{\"type\":\"object\",\"name\":\"GlyphRenderer\",\"id\":\"p1074\",\"attributes\":{\"name\":\"Actual Fraud Charges\",\"data_source\":{\"type\":\"object\",\"name\":\"ColumnDataSource\",\"id\":\"p1065\",\"attributes\":{\"selected\":{\"type\":\"object\",\"name\":\"Selection\",\"id\":\"p1066\",\"attributes\":{\"indices\":[],\"line_indices\":[]}},\"selection_policy\":{\"type\":\"object\",\"name\":\"UnionRenderers\",\"id\":\"p1067\"},\"data\":{\"type\":\"map\",\"entries\":[[\"ds\",{\"type\":\"ndarray\",\"array\":{\"type\":\"bytes\",\"data\":\"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\"},\"shape\":[624],\"dtype\":\"float64\",\"order\":\"little\"}],[\"actual_fraud_count\",{\"type\":\"ndarray\",\"array\":{\"type\":\"bytes\",\"data\":\"AAAAAAAAHEAAAAAAAAAoQAAAAAAAACpAAAAAAAAAKkAAAAAAAAAAQAAAAAAAABBAAAAAAAAAOkAAAAAAAAA3QAAAAAAAABhAAAAAAAAAMEAAAAAAAAA1QAAAAAAAAD1AAAAAAACAQkAAAAAAAABCQAAAAAAAADRAAAAAAAAAMEAAAAAAAAA0QAAAAAAAADVAAAAAAAAAOUAAAAAAAAAxQAAAAAAAADVAAAAAAAAAAEAAAAAAAAAQQAAAAAAAABhAAAAAAAAAM0AAAAAAAAAuQAAAAAAAADdAAAAAAAAANEAAAAAAAABAQAAAAAAAADRAAAAAAAAANkAAAAAAAAAzQAAAAAAAACpAAAAAAAAALEAAAAAAAIBBQAAAAAAAAEFAAAAAAAAAHEAAAAAAAAAUQAAAAAAAAChAAAAAAAAARkAAAAAAAAA6QAAAAAAAACRAAAAAAAAALEAAAAAAAAAAQAAAAAAAACpAAAAAAAAANkAAAAAAAAA4QAAAAAAAABRAAAAAAAAAJkAAAAAAAAAyQAAAAAAAACRAAAAAAAAAHEAAAAAAAABJQAAAAAAAAEBAAAAAAAAAEEAAAAAAAABGQAAAAAAAABhAAAAAAAAAIkAAAAAAAAAiQAAAAAAAACpAAAAAAAAAM0AAAAAAAAAsQAAAAAAAADhAAAAAAAAAPEAAAAAAAAAgQAAAAAAAADFAAAAAAAAAPkAAAAAAAAAsQAAAAAAAACRAAAAAAAAAPEAAAAAAAAA7QAAAAAAAADpAAAAAAAAAHEAAAAAAAAAxQAAAAAAAADtAAAAAAAAAKEAAAAAAAAA+QAAAAAAAADtAAAAAAAAAJkAAAAAAAAA7QAAAAAAAACRAAAAAAAAAHEAAAAAAAAAgQAAAAAAAACxAAAAAAAAALkAAAAAAAAAYQAAAAAAAABRAAAAAAAAAMkAAAAAAAAAqQAAAAAAAABRAAAAAAAAAHEAAAAAAAAAqQAAAAAAAADRAAAAAAAAAIEAAAAAAAAAiQAAAAAAAACBAAAAAAAAAKkAAAAAAAAAqQAAAAAAAACJAAAAAAAAAHEAAAAAAAAAzQAAAAAAAADRAAAAAAAAAJEAAAAAAAAAoQAAAAAAAAC5AAAAAAAAAEEAAAAAAAAAYQAAAAAAAABxAAAAAAAAAIEAAAAAAAAAmQAAAAAAAADtAAAAAAAAANEAAAAAAAAA0QAAAAAAAADxAAAAAAAAALkAAAAAAAAAuQAAAAAAAACxAAAAAAAAAMUAAAAAAAAAsQAAAAAAAABRAAAAAAAAAIkAAAAAAAAAYQAAAAAAAABhAAAAAAAAAMUAAAAAAAAA4QAAAAAAAACpAAAAAAAAAJEAAAAAAAAAmQAAAAAAAAC5AAAAAAAAANkAAAAAAAAAxQAAAAAAAADZAAAAAAAAARkAAAAAAAAAmQAAAAAAAACBAAAAAAAAALkAAAAAAAAAsQAAAAAAAADRAAAAAAAAAPUAAAAAAAAAYQAAAAAAAAAhAAAAAAAAAKkAAAAAAAAAAQAAAAAAAABhAAAAAAAAACEAAAAAAAAA4QAAAAAAAADFAAAAAAAAAKEAAAAAAAAAYQAAAAAAAAABAAAAAAAAAIEAAAAAAAAA6QAAAAAAAACxAAAAAAAAAFEAAAAAAAAAmQAAAAAAAADBAAAAAAAAAOkAAAAAAAAAkQAAAAAAAACBAAAAAAAAAHEAAAAAAAAAUQAAAAAAAACRAAAAAAAAAN0AAAAAAAAA2QAAAAAAAABhAAAAAAAAA8D8AAAAAAAAUQAAAAAAAACJAAAAAAAAANEAAAAAAAIBFQAAAAAAAAC5AAAAAAAAAJkAAAAAAAAAqQAAAAAAAABRAAAAAAAAAJkAAAAAAAAA2QAAAAAAAAC5AAAAAAAAAJkAAAAAAAAAIQAAAAAAAADBAAAAAAAAAM0AAAAAAAAAuQAAAAAAAABxAAAAAAAAALkAAAAAAAAAmQAAAAAAAAABAAAAAAAAA8D8AAAAAAAAsQAAAAAAAADpAAAAAAAAAAEAAAAAAAAAcQAAAAAAAAC5AAAAAAAAAJkAAAAAAAAA/QAAAAAAAAD5AAAAAAAAAMUAAAAAAAADwPwAAAAAAACpAAAAAAAAANkAAAAAAAAAoQAAAAAAAAC5AAAAAAAAA8D8AAAAAAAAUQAAAAAAAACBAAAAAAAAACEAAAAAAAAAqQAAAAAAAADZAAAAAAAAAOEAAAAAAAAAoQAAAAAAAAAhAAAAAAAAAIEAAAAAAAAA7QAAAAAAAADVAAAAAAAAAKEAAAAAAAAAIQAAAAAAAADZAAAAAAAAAPUAAAAAAAAAzQAAAAAAAABxAAAAAAAAAGEAAAAAAAAAkQAAAAAAAADpAAAAAAACAQ0AAAAAAAAA4QAAAAAAAABBAAAAAAAAAGEAAAAAAAAAiQAAAAAAAABxAAAAAAAAAFEAAAAAAAAAyQAAAAAAAACBAAAAAAAAAPkAAAAAAAIBEQAAAAAAAADRAAAAAAAAANUAAAAAAAAA5QAAAAAAAABBAAAAAAAAACEAAAAAAAAAYQAAAAAAAAABAAAAAAAAANEAAAAAAAAAwQAAAAAAAAChAAAAAAAAANkAAAAAAAIBCQAAAAAAAACZAAAAAAAAAIkAAAAAAAAAAQAAAAAAAABhAAAAAAAAAOEAAAAAAAAA2QAAAAAAAABBAAAAAAAAALEAAAAAAAAA3QAAAAAAAABxAAAAAAAAAGEAAAAAAAAAzQAAAAAAAADlAAAAAAAAAEEAAAAAAAAAcQAAAAAAAADRAAAAAAAAAMEAAAAAAAAAuQAAAAAAAADdAAAAAAAAAPkAAAAAAAAA6QAAAAAAAAPA/AAAAAAAANEAAAAAAAAA7QAAAAAAAAD1AAAAAAACAQkAAAAAAAAAzQAAAAAAAAPA/AAAAAAAAKEAAAAAAAAAQQAAAAAAAAPA/AAAAAAAALkAAAAAAAAAYQAAAAAAAABhAAAAAAAAAIEAAAAAAAAAmQAAAAAAAADZAAAAAAAAAOUAAAAAAAABAQAAAAAAAACpAAAAAAAAAGEAAAAAAAAAQQAAAAAAAABBAAAAAAAAAHEAAAAAAAAAkQAAAAAAAABxAAAAAAAAALEAAAAAAAAAyQAAAAAAAAPA/AAAAAAAAFEAAAAAAAAA1QAAAAAAAADRAAAAAAAAAFEAAAAAAAAAmQAAAAAAAADpAAAAAAAAAFEAAAAAAAAAcQAAAAAAAACpAAAAAAAAALEAAAAAAAAAxQAAAAAAAADJAAAAAAAAAMUAAAAAAAAA0QAAAAAAAADNAAAAAAAAAPUAAAAAAAAAyQAAAAAAAADZAAAAAAAAAJEAAAAAAAAA8QAAAAAAAADVAAAAAAAAAMkAAAAAAAAAzQAAAAAAAACxAAAAAAAAALkAAAAAAAAAgQAAAAAAAADFAAAAAAAAAQ0AAAAAAAAAmQAAAAAAAACxAAAAAAAAAHEAAAAAAAAAxQAAAAAAAACZAAAAAAAAAGEAAAAAAAAAiQAAAAAAAADVAAAAAAAAAN0AAAAAAAAA/QAAAAAAAAERAAAAAAAAAOUAAAAAAAAAmQAAAAAAAACBAAAAAAAAAMUAAAAAAAIBAQAAAAAAAADlAAAAAAAAAQEAAAAAAAAA3QAAAAAAAAAhAAAAAAAAACEAAAAAAAAAmQAAAAAAAADdAAAAAAAAALEAAAAAAAAAIQAAAAAAAACZAAAAAAAAAMkAAAAAAAAAiQAAAAAAAACBAAAAAAAAANEAAAAAAAAA4QAAAAAAAACxAAAAAAAAAIEAAAAAAAAAIQAAAAAAAADNAAAAAAAAAM0AAAAAAAAA0QAAAAAAAACRAAAAAAAAAFEAAAAAAAAAgQAAAAAAAACpAAAAAAAAAKEAAAAAAAAAmQAAAAAAAACpAAAAAAAAAEEAAAAAAAAAUQAAAAAAAADFAAAAAAAAALkAAAAAAAAA1QAAAAAAAADZAAAAAAAAAMkAAAAAAAAAYQAAAAAAAACZAAAAAAAAALEAAAAAAAAAqQAAAAAAAACBAAAAAAAAAIkAAAAAAAAAUQAAAAAAAABBAAAAAAAAAKkAAAAAAAAAyQAAAAAAAACRAAAAAAAAAGEAAAAAAAAAIQAAAAAAAACRAAAAAAAAAOUAAAAAAAAA8QAAAAAAAADFAAAAAAAAAKkAAAAAAAAAYQAAAAAAAABxAAAAAAAAA8D8AAAAAAAA6QAAAAAAAADZAAAAAAAAAM0AAAAAAAAA7QAAAAAAAACJAAAAAAAAAGEAAAAAAAAAgQAAAAAAAABxAAAAAAAAALkAAAAAAAAAcQAAAAAAAADJAAAAAAAAANkAAAAAAAAA/QAAAAAAAACpAAAAAAAAAIEAAAAAAAAAyQAAAAAAAADNAAAAAAAAAQEAAAAAAAAAsQAAAAAAAgEJAAAAAAACAREAAAAAAAAAuQAAAAAAAABRAAAAAAAAAGEAAAAAAAAAmQAAAAAAAAAhAAAAAAAAAFEAAAAAAAAAmQAAAAAAAABBAAAAAAACAQEAAAAAAAAAoQAAAAAAAACRAAAAAAAAALkAAAAAAAADwPwAAAAAAABRAAAAAAAAAPEAAAAAAAAAkQAAAAAAAACJAAAAAAAAAIkAAAAAAAAAAQAAAAAAAABRAAAAAAAAAIkAAAAAAAAAmQAAAAAAAAC5AAAAAAAAALkAAAAAAAAAxQAAAAAAAABhAAAAAAAAAIEAAAAAAAAAyQAAAAAAAACRAAAAAAAAAHEAAAAAAAAAsQAAAAAAAAChAAAAAAAAAJEAAAAAAAAAIQAAAAAAAADBAAAAAAAAAKkAAAAAAAAAoQAAAAAAAADVAAAAAAAAAN0AAAAAAAAA/QAAAAAAAADNAAAAAAAAAMkAAAAAAAAAyQAAAAAAAADBAAAAAAAAAJkAAAAAAAAA1QAAAAAAAgEFAAAAAAAAAOEAAAAAAAAA0QAAAAAAAACxAAAAAAAAAIkAAAAAAAAAUQAAAAAAAACJAAAAAAAAALkAAAAAAAAAkQAAAAAAAADVAAAAAAAAAEEAAAAAAAAA3QAAAAAAAACZAAAAAAAAAKkAAAAAAAAA8QAAAAAAAAD9AAAAAAAAAIkAAAAAAAAAsQAAAAAAAAC5AAAAAAAAANEAAAAAAAAAwQAAAAAAAAAhAAAAAAAAAFEAAAAAAAAAsQAAAAAAAAC5AAAAAAAAAM0AAAAAAAAAYQAAAAAAAABRAAAAAAAAAMUAAAAAAAIBCQAAAAAAAACBAAAAAAAAAKEAAAAAAAAAQQAAAAAAAAABAAAAAAAAAGEAAAAAAAAA0QAAAAAAAADZAAAAAAAAAJEAAAAAAAIBBQAAAAAAAgENAAAAAAAAAOUAAAAAAAAA6QAAAAAAAABxAAAAAAAAA+H8AAAAAAAD4fwAAAAAAAPh/AAAAAAAA+H8AAAAAAAD4fwAAAAAAAPh/AAAAAAAA+H8AAAAAAAD4fwAAAAAAAPh/AAAAAAAA+H8AAAAAAAD4fwAAAAAAAPh/AAAAAAAA+H8AAAAAAAD4fwAAAAAAAPh/AAAAAAAA+H8AAAAAAAD4fwAAAAAAAPh/AAAAAAAA+H8AAAAAAAD4fwAAAAAAAPh/AAAAAAAA+H8AAAAAAAD4fwAAAAAAAPh/AAAAAAAA+H8AAAAAAAD4fwAAAAAAAPh/AAAAAAAA+H8AAAAAAAD4fwAAAAAAAPh/AAAAAAAA+H8AAAAAAAD4fwAAAAAAAPh/AAAAAAAA+H8AAAAAAAD4fwAAAAAAAPh/AAAAAAAA+H8AAAAAAAD4fwAAAAAAAPh/AAAAAAAA+H8AAAAAAAD4fwAAAAAAAPh/AAAAAAAA+H8AAAAAAAD4fwAAAAAAAPh/AAAAAAAA+H8AAAAAAAD4fwAAAAAAAPh/AAAAAAAA+H8AAAAAAAD4fwAAAAAAAPh/AAAAAAAA+H8AAAAAAAD4fwAAAAAAAPh/AAAAAAAA+H8AAAAAAAD4fwAAAAAAAPh/AAAAAAAA+H8AAAAAAAD4fwAAAAAAAPh/AAAAAAAA+H8AAAAAAAD4fwAAAAAAAPh/AAAAAAAA+H8AAAAAAAD4fwAAAAAAAPh/AAAAAAAA+H8AAAAAAAD4fwAAAAAAAPh/AAAAAAAA+H8AAAAAAAD4fwAAAAAAAPh/AAAAAAAA+H8AAAAAAAD4fwAAAAAAAPh/AAAAAAAA+H8AAAAAAAD4fwAAAAAAAPh/AAAAAAAA+H8AAAAAAAD4fwAAAAAAAPh/AAAAAAAA+H8AAAAAAAD4fwAAAAAAAPh/AAAAAAAA+H8AAAAAAAD4fwAAAAAAAPh/AAAAAAAA+H8AAAAAAAD4fwAAAAAAAPh/AAAAAAAA+H8AAAAAAAD4fwAAAAAAAPh/AAAAAAAA+H8AAAAAAAD4fwAAAAAAAPh/AAAAAAAA+H8AAAAAAAD4fwAAAAAAAPh/AAAAAAAA+H8AAAAAAAD4fwAAAAAAAPh/AAAAAAAA+H8AAAAAAAD4fwAAAAAAAPh/AAAAAAAA+H8AAAAAAAD4fwAAAAAAAPh/AAAAAAAA+H8AAAAAAAD4fwAAAAAAAPh/AAAAAAAA+H8AAAAAAAD4fwAAAAAAAPh/AAAAAAAA+H8AAAAAAAD4fwAAAAAAAPh/AAAAAAAA+H8AAAAAAAD4fwAAAAAAAPh/\"},\"shape\":[624],\"dtype\":\"float64\",\"order\":\"little\"}]]}}},\"view\":{\"type\":\"object\",\"name\":\"CDSView\",\"id\":\"p1075\",\"attributes\":{\"filter\":{\"type\":\"object\",\"name\":\"AllIndices\",\"id\":\"p1076\"}}},\"glyph\":{\"type\":\"object\",\"name\":\"Line\",\"id\":\"p1071\",\"attributes\":{\"tags\":[\"apply_ranges\"],\"x\":{\"type\":\"field\",\"field\":\"ds\"},\"y\":{\"type\":\"field\",\"field\":\"actual_fraud_count\"},\"line_color\":\"blue\",\"line_width\":2}},\"selection_glyph\":{\"type\":\"object\",\"name\":\"Line\",\"id\":\"p1079\",\"attributes\":{\"tags\":[\"apply_ranges\"],\"x\":{\"type\":\"field\",\"field\":\"ds\"},\"y\":{\"type\":\"field\",\"field\":\"actual_fraud_count\"},\"line_color\":\"blue\",\"line_width\":2}},\"nonselection_glyph\":{\"type\":\"object\",\"name\":\"Line\",\"id\":\"p1072\",\"attributes\":{\"tags\":[\"apply_ranges\"],\"x\":{\"type\":\"field\",\"field\":\"ds\"},\"y\":{\"type\":\"field\",\"field\":\"actual_fraud_count\"},\"line_color\":\"blue\",\"line_alpha\":0.1,\"line_width\":2}},\"muted_glyph\":{\"type\":\"object\",\"name\":\"Line\",\"id\":\"p1073\",\"attributes\":{\"tags\":[\"apply_ranges\"],\"x\":{\"type\":\"field\",\"field\":\"ds\"},\"y\":{\"type\":\"field\",\"field\":\"actual_fraud_count\"},\"line_color\":\"blue\",\"line_alpha\":0.2,\"line_width\":2}}}},{\"type\":\"object\",\"name\":\"GlyphRenderer\",\"id\":\"p1089\",\"attributes\":{\"name\":\"Forecasted Fraud Charges\",\"data_source\":{\"type\":\"object\",\"name\":\"ColumnDataSource\",\"id\":\"p1080\",\"attributes\":{\"selected\":{\"type\":\"object\",\"name\":\"Selection\",\"id\":\"p1081\",\"attributes\":{\"indices\":[],\"line_indices\":[]}},\"selection_policy\":{\"type\":\"object\",\"name\":\"UnionRenderers\",\"id\":\"p1082\"},\"data\":{\"type\":\"map\",\"entries\":[[\"ds\",{\"type\":\"ndarray\",\"array\":{\"type\":\"bytes\",\"data\":\"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\"},\"shape\":[624],\"dtype\":\"float64\",\"order\":\"little\"}],[\"yhat\",{\"type\":\"ndarray\",\"array\":{\"type\":\"bytes\",\"data\":\"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\"},\"shape\":[624],\"dtype\":\"float64\",\"order\":\"little\"}]]}}},\"view\":{\"type\":\"object\",\"name\":\"CDSView\",\"id\":\"p1090\",\"attributes\":{\"filter\":{\"type\":\"object\",\"name\":\"AllIndices\",\"id\":\"p1091\"}}},\"glyph\":{\"type\":\"object\",\"name\":\"Line\",\"id\":\"p1086\",\"attributes\":{\"tags\":[\"apply_ranges\"],\"x\":{\"type\":\"field\",\"field\":\"ds\"},\"y\":{\"type\":\"field\",\"field\":\"yhat\"},\"line_color\":\"orange\",\"line_width\":2}},\"selection_glyph\":{\"type\":\"object\",\"name\":\"Line\",\"id\":\"p1093\",\"attributes\":{\"tags\":[\"apply_ranges\"],\"x\":{\"type\":\"field\",\"field\":\"ds\"},\"y\":{\"type\":\"field\",\"field\":\"yhat\"},\"line_color\":\"orange\",\"line_width\":2}},\"nonselection_glyph\":{\"type\":\"object\",\"name\":\"Line\",\"id\":\"p1087\",\"attributes\":{\"tags\":[\"apply_ranges\"],\"x\":{\"type\":\"field\",\"field\":\"ds\"},\"y\":{\"type\":\"field\",\"field\":\"yhat\"},\"line_color\":\"orange\",\"line_alpha\":0.1,\"line_width\":2}},\"muted_glyph\":{\"type\":\"object\",\"name\":\"Line\",\"id\":\"p1088\",\"attributes\":{\"tags\":[\"apply_ranges\"],\"x\":{\"type\":\"field\",\"field\":\"ds\"},\"y\":{\"type\":\"field\",\"field\":\"yhat\"},\"line_color\":\"orange\",\"line_alpha\":0.2,\"line_width\":2}}}},{\"type\":\"object\",\"name\":\"GlyphRenderer\",\"id\":\"p1103\",\"attributes\":{\"name\":\"Uncertainty Interval\",\"data_source\":{\"type\":\"object\",\"name\":\"ColumnDataSource\",\"id\":\"p1094\",\"attributes\":{\"selected\":{\"type\":\"object\",\"name\":\"Selection\",\"id\":\"p1095\",\"attributes\":{\"indices\":[],\"line_indices\":[]}},\"selection_policy\":{\"type\":\"object\",\"name\":\"UnionRenderers\",\"id\":\"p1096\"},\"data\":{\"type\":\"map\",\"entries\":[[\"x\",{\"type\":\"ndarray\",\"array\":{\"type\":\"bytes\",\"data\":\"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\"},\"shape\":[1248],\"dtype\":\"float64\",\"order\":\"little\"}],[\"y\",{\"type\":\"ndarray\",\"array\":{\"type\":\"bytes\",\"data\":\"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\"},\"shape\":[1248],\"dtype\":\"float64\",\"order\":\"little\"}]]}}},\"view\":{\"type\":\"object\",\"name\":\"CDSView\",\"id\":\"p1104\",\"attributes\":{\"filter\":{\"type\":\"object\",\"name\":\"AllIndices\",\"id\":\"p1105\"}}},\"glyph\":{\"type\":\"object\",\"name\":\"Patch\",\"id\":\"p1100\",\"attributes\":{\"tags\":[\"apply_ranges\"],\"x\":{\"type\":\"field\",\"field\":\"x\"},\"y\":{\"type\":\"field\",\"field\":\"y\"},\"line_alpha\":0.3,\"fill_color\":\"orange\",\"fill_alpha\":0.3,\"hatch_color\":\"orange\",\"hatch_alpha\":0.3}},\"selection_glyph\":{\"type\":\"object\",\"name\":\"Patch\",\"id\":\"p1107\",\"attributes\":{\"tags\":[\"apply_ranges\"],\"x\":{\"type\":\"field\",\"field\":\"x\"},\"y\":{\"type\":\"field\",\"field\":\"y\"},\"line_alpha\":0.3,\"fill_color\":\"orange\",\"fill_alpha\":0.3,\"hatch_color\":\"orange\",\"hatch_alpha\":0.3}},\"nonselection_glyph\":{\"type\":\"object\",\"name\":\"Patch\",\"id\":\"p1101\",\"attributes\":{\"tags\":[\"apply_ranges\"],\"x\":{\"type\":\"field\",\"field\":\"x\"},\"y\":{\"type\":\"field\",\"field\":\"y\"},\"line_alpha\":0.3,\"fill_color\":\"orange\",\"fill_alpha\":0.3,\"hatch_color\":\"orange\",\"hatch_alpha\":0.1}},\"muted_glyph\":{\"type\":\"object\",\"name\":\"Patch\",\"id\":\"p1102\",\"attributes\":{\"tags\":[\"apply_ranges\"],\"x\":{\"type\":\"field\",\"field\":\"x\"},\"y\":{\"type\":\"field\",\"field\":\"y\"},\"line_alpha\":0.2,\"fill_color\":\"orange\",\"fill_alpha\":0.2,\"hatch_color\":\"orange\",\"hatch_alpha\":0.2}}}}],\"toolbar\":{\"type\":\"object\",\"name\":\"Toolbar\",\"id\":\"p1031\",\"attributes\":{\"tools\":[{\"type\":\"object\",\"name\":\"WheelZoomTool\",\"id\":\"p1014\",\"attributes\":{\"tags\":[\"hv_created\"],\"renderers\":\"auto\",\"zoom_together\":\"none\"}},{\"type\":\"object\",\"name\":\"HoverTool\",\"id\":\"p1015\",\"attributes\":{\"tags\":[\"hv_created\"],\"renderers\":[{\"id\":\"p1074\"}],\"tooltips\":[[\"ds\",\"@{ds}{%F %T}\"],[\"actual_fraud_count\",\"@{actual_fraud_count}\"]],\"formatters\":{\"type\":\"map\",\"entries\":[[\"@{ds}\",\"datetime\"]]}}},{\"type\":\"object\",\"name\":\"HoverTool\",\"id\":\"p1018\",\"attributes\":{\"tags\":[\"hv_created\"],\"renderers\":[{\"id\":\"p1089\"}],\"tooltips\":[[\"ds\",\"@{ds}{%F %T}\"],[\"yhat\",\"@{yhat}\"]],\"formatters\":{\"type\":\"map\",\"entries\":[[\"@{ds}\",\"datetime\"]]}}},{\"type\":\"object\",\"name\":\"HoverTool\",\"id\":\"p1021\",\"attributes\":{\"tags\":[\"hv_created\"],\"renderers\":[{\"id\":\"p1103\"}],\"tooltips\":[[\"ds\",\"@{ds}\"],[\"yhat_lower\",\"@{yhat_lower}\"],[\"yhat_upper\",\"@{yhat_upper}\"]],\"formatters\":{\"type\":\"map\",\"entries\":[[\"@{x}\",\"datetime\"]]}}},{\"type\":\"object\",\"name\":\"SaveTool\",\"id\":\"p1056\"},{\"type\":\"object\",\"name\":\"PanTool\",\"id\":\"p1057\"},{\"type\":\"object\",\"name\":\"BoxZoomTool\",\"id\":\"p1058\",\"attributes\":{\"overlay\":{\"type\":\"object\",\"name\":\"BoxAnnotation\",\"id\":\"p1059\",\"attributes\":{\"syncable\":false,\"level\":\"overlay\",\"visible\":false,\"left\":{\"type\":\"number\",\"value\":\"nan\"},\"right\":{\"type\":\"number\",\"value\":\"nan\"},\"top\":{\"type\":\"number\",\"value\":\"nan\"},\"bottom\":{\"type\":\"number\",\"value\":\"nan\"},\"left_units\":\"canvas\",\"right_units\":\"canvas\",\"top_units\":\"canvas\",\"bottom_units\":\"canvas\",\"line_color\":\"black\",\"line_alpha\":1.0,\"line_width\":2,\"line_dash\":[4,4],\"fill_color\":\"lightgrey\",\"fill_alpha\":0.5}}}},{\"type\":\"object\",\"name\":\"ResetTool\",\"id\":\"p1064\"}],\"active_drag\":{\"id\":\"p1057\"},\"active_scroll\":{\"id\":\"p1014\"}}},\"left\":[{\"type\":\"object\",\"name\":\"LinearAxis\",\"id\":\"p1051\",\"attributes\":{\"ticker\":{\"type\":\"object\",\"name\":\"BasicTicker\",\"id\":\"p1052\",\"attributes\":{\"mantissas\":[1,2,5]}},\"formatter\":{\"type\":\"object\",\"name\":\"BasicTickFormatter\",\"id\":\"p1053\"},\"axis_label\":\"Number of Fraud Charges\",\"major_label_policy\":{\"type\":\"object\",\"name\":\"AllLabels\",\"id\":\"p1054\"}}}],\"below\":[{\"type\":\"object\",\"name\":\"DatetimeAxis\",\"id\":\"p1034\",\"attributes\":{\"ticker\":{\"type\":\"object\",\"name\":\"DatetimeTicker\",\"id\":\"p1035\",\"attributes\":{\"num_minor_ticks\":5,\"tickers\":[{\"type\":\"object\",\"name\":\"AdaptiveTicker\",\"id\":\"p1036\",\"attributes\":{\"num_minor_ticks\":0,\"mantissas\":[1,2,5],\"max_interval\":500.0}},{\"type\":\"object\",\"name\":\"AdaptiveTicker\",\"id\":\"p1037\",\"attributes\":{\"num_minor_ticks\":0,\"base\":60,\"mantissas\":[1,2,5,10,15,20,30],\"min_interval\":1000.0,\"max_interval\":1800000.0}},{\"type\":\"object\",\"name\":\"AdaptiveTicker\",\"id\":\"p1038\",\"attributes\":{\"num_minor_ticks\":0,\"base\":24,\"mantissas\":[1,2,4,6,8,12],\"min_interval\":3600000.0,\"max_interval\":43200000.0}},{\"type\":\"object\",\"name\":\"DaysTicker\",\"id\":\"p1039\",\"attributes\":{\"days\":[1,2,3,4,5,6,7,8,9,10,11,12,13,14,15,16,17,18,19,20,21,22,23,24,25,26,27,28,29,30,31]}},{\"type\":\"object\",\"name\":\"DaysTicker\",\"id\":\"p1040\",\"attributes\":{\"days\":[1,4,7,10,13,16,19,22,25,28]}},{\"type\":\"object\",\"name\":\"DaysTicker\",\"id\":\"p1041\",\"attributes\":{\"days\":[1,8,15,22]}},{\"type\":\"object\",\"name\":\"DaysTicker\",\"id\":\"p1042\",\"attributes\":{\"days\":[1,15]}},{\"type\":\"object\",\"name\":\"MonthsTicker\",\"id\":\"p1043\",\"attributes\":{\"months\":[0,1,2,3,4,5,6,7,8,9,10,11]}},{\"type\":\"object\",\"name\":\"MonthsTicker\",\"id\":\"p1044\",\"attributes\":{\"months\":[0,2,4,6,8,10]}},{\"type\":\"object\",\"name\":\"MonthsTicker\",\"id\":\"p1045\",\"attributes\":{\"months\":[0,4,8]}},{\"type\":\"object\",\"name\":\"MonthsTicker\",\"id\":\"p1046\",\"attributes\":{\"months\":[0,6]}},{\"type\":\"object\",\"name\":\"YearsTicker\",\"id\":\"p1047\"}]}},\"formatter\":{\"type\":\"object\",\"name\":\"DatetimeTickFormatter\",\"id\":\"p1048\"},\"axis_label\":\"Date\",\"major_label_policy\":{\"type\":\"object\",\"name\":\"AllLabels\",\"id\":\"p1049\"}}}],\"center\":[{\"type\":\"object\",\"name\":\"Grid\",\"id\":\"p1050\",\"attributes\":{\"axis\":{\"id\":\"p1034\"},\"grid_line_color\":null}},{\"type\":\"object\",\"name\":\"Grid\",\"id\":\"p1055\",\"attributes\":{\"dimension\":1,\"axis\":{\"id\":\"p1051\"},\"grid_line_color\":null}},{\"type\":\"object\",\"name\":\"Legend\",\"id\":\"p1077\",\"attributes\":{\"location\":\"top_left\",\"click_policy\":\"mute\",\"items\":[{\"type\":\"object\",\"name\":\"LegendItem\",\"id\":\"p1078\",\"attributes\":{\"label\":{\"type\":\"value\",\"value\":\"Actual Fraud Charges\"},\"renderers\":[{\"id\":\"p1074\"}]}},{\"type\":\"object\",\"name\":\"LegendItem\",\"id\":\"p1092\",\"attributes\":{\"label\":{\"type\":\"value\",\"value\":\"Forecasted Fraud Charges\"},\"renderers\":[{\"id\":\"p1089\"}]}},{\"type\":\"object\",\"name\":\"LegendItem\",\"id\":\"p1106\",\"attributes\":{\"label\":{\"type\":\"value\",\"value\":\"Uncertainty Interval\"},\"renderers\":[{\"id\":\"p1103\"}]}}]}}],\"min_border_top\":10,\"min_border_bottom\":10,\"min_border_left\":10,\"min_border_right\":10,\"output_backend\":\"webgl\"}},{\"type\":\"object\",\"name\":\"Spacer\",\"id\":\"p1109\",\"attributes\":{\"name\":\"HSpacer01181\",\"stylesheets\":[\"\\n:host(.pn-loading):before, .pn-loading:before {\\n  background-color: #c3c3c3;\\n  mask-size: auto calc(min(50%, 400px));\\n  -webkit-mask-size: auto calc(min(50%, 400px));\\n}\",{\"id\":\"p1007\"},{\"id\":\"p1005\"},{\"id\":\"p1006\"}],\"margin\":0,\"sizing_mode\":\"stretch_width\",\"align\":\"start\"}}]}}],\"defs\":[{\"type\":\"model\",\"name\":\"ReactiveHTML1\"},{\"type\":\"model\",\"name\":\"FlexBox1\",\"properties\":[{\"name\":\"align_content\",\"kind\":\"Any\",\"default\":\"flex-start\"},{\"name\":\"align_items\",\"kind\":\"Any\",\"default\":\"flex-start\"},{\"name\":\"flex_direction\",\"kind\":\"Any\",\"default\":\"row\"},{\"name\":\"flex_wrap\",\"kind\":\"Any\",\"default\":\"wrap\"},{\"name\":\"gap\",\"kind\":\"Any\",\"default\":\"\"},{\"name\":\"justify_content\",\"kind\":\"Any\",\"default\":\"flex-start\"}]},{\"type\":\"model\",\"name\":\"FloatPanel1\",\"properties\":[{\"name\":\"config\",\"kind\":\"Any\",\"default\":{\"type\":\"map\"}},{\"name\":\"contained\",\"kind\":\"Any\",\"default\":true},{\"name\":\"position\",\"kind\":\"Any\",\"default\":\"right-top\"},{\"name\":\"offsetx\",\"kind\":\"Any\",\"default\":null},{\"name\":\"offsety\",\"kind\":\"Any\",\"default\":null},{\"name\":\"theme\",\"kind\":\"Any\",\"default\":\"primary\"},{\"name\":\"status\",\"kind\":\"Any\",\"default\":\"normalized\"}]},{\"type\":\"model\",\"name\":\"GridStack1\",\"properties\":[{\"name\":\"mode\",\"kind\":\"Any\",\"default\":\"warn\"},{\"name\":\"ncols\",\"kind\":\"Any\",\"default\":null},{\"name\":\"nrows\",\"kind\":\"Any\",\"default\":null},{\"name\":\"allow_resize\",\"kind\":\"Any\",\"default\":true},{\"name\":\"allow_drag\",\"kind\":\"Any\",\"default\":true},{\"name\":\"state\",\"kind\":\"Any\",\"default\":[]}]},{\"type\":\"model\",\"name\":\"drag1\",\"properties\":[{\"name\":\"slider_width\",\"kind\":\"Any\",\"default\":5},{\"name\":\"slider_color\",\"kind\":\"Any\",\"default\":\"black\"},{\"name\":\"value\",\"kind\":\"Any\",\"default\":50}]},{\"type\":\"model\",\"name\":\"click1\",\"properties\":[{\"name\":\"terminal_output\",\"kind\":\"Any\",\"default\":\"\"},{\"name\":\"debug_name\",\"kind\":\"Any\",\"default\":\"\"},{\"name\":\"clears\",\"kind\":\"Any\",\"default\":0}]},{\"type\":\"model\",\"name\":\"FastWrapper1\",\"properties\":[{\"name\":\"object\",\"kind\":\"Any\",\"default\":null},{\"name\":\"style\",\"kind\":\"Any\",\"default\":null}]},{\"type\":\"model\",\"name\":\"NotificationAreaBase1\",\"properties\":[{\"name\":\"js_events\",\"kind\":\"Any\",\"default\":{\"type\":\"map\"}},{\"name\":\"position\",\"kind\":\"Any\",\"default\":\"bottom-right\"},{\"name\":\"_clear\",\"kind\":\"Any\",\"default\":0}]},{\"type\":\"model\",\"name\":\"NotificationArea1\",\"properties\":[{\"name\":\"js_events\",\"kind\":\"Any\",\"default\":{\"type\":\"map\"}},{\"name\":\"notifications\",\"kind\":\"Any\",\"default\":[]},{\"name\":\"position\",\"kind\":\"Any\",\"default\":\"bottom-right\"},{\"name\":\"_clear\",\"kind\":\"Any\",\"default\":0},{\"name\":\"types\",\"kind\":\"Any\",\"default\":[{\"type\":\"map\",\"entries\":[[\"type\",\"warning\"],[\"background\",\"#ffc107\"],[\"icon\",{\"type\":\"map\",\"entries\":[[\"className\",\"fas fa-exclamation-triangle\"],[\"tagName\",\"i\"],[\"color\",\"white\"]]}]]},{\"type\":\"map\",\"entries\":[[\"type\",\"info\"],[\"background\",\"#007bff\"],[\"icon\",{\"type\":\"map\",\"entries\":[[\"className\",\"fas fa-info-circle\"],[\"tagName\",\"i\"],[\"color\",\"white\"]]}]]}]}]},{\"type\":\"model\",\"name\":\"Notification\",\"properties\":[{\"name\":\"background\",\"kind\":\"Any\",\"default\":null},{\"name\":\"duration\",\"kind\":\"Any\",\"default\":3000},{\"name\":\"icon\",\"kind\":\"Any\",\"default\":null},{\"name\":\"message\",\"kind\":\"Any\",\"default\":\"\"},{\"name\":\"notification_type\",\"kind\":\"Any\",\"default\":null},{\"name\":\"_destroyed\",\"kind\":\"Any\",\"default\":false}]},{\"type\":\"model\",\"name\":\"TemplateActions1\",\"properties\":[{\"name\":\"open_modal\",\"kind\":\"Any\",\"default\":0},{\"name\":\"close_modal\",\"kind\":\"Any\",\"default\":0}]},{\"type\":\"model\",\"name\":\"BootstrapTemplateActions1\",\"properties\":[{\"name\":\"open_modal\",\"kind\":\"Any\",\"default\":0},{\"name\":\"close_modal\",\"kind\":\"Any\",\"default\":0}]},{\"type\":\"model\",\"name\":\"TemplateEditor1\",\"properties\":[{\"name\":\"layout\",\"kind\":\"Any\",\"default\":[]}]},{\"type\":\"model\",\"name\":\"MaterialTemplateActions1\",\"properties\":[{\"name\":\"open_modal\",\"kind\":\"Any\",\"default\":0},{\"name\":\"close_modal\",\"kind\":\"Any\",\"default\":0}]},{\"type\":\"model\",\"name\":\"copy_to_clipboard1\",\"properties\":[{\"name\":\"fill\",\"kind\":\"Any\",\"default\":\"none\"},{\"name\":\"value\",\"kind\":\"Any\",\"default\":null}]}]}};\n",
       "  var render_items = [{\"docid\":\"327e90a1-8332-440c-8c6f-996c06a7938b\",\"roots\":{\"p1004\":\"d3d54106-b230-4180-a5c1-767f22a5050e\"},\"root_ids\":[\"p1004\"]}];\n",
       "  var docs = Object.values(docs_json)\n",
       "  if (!docs) {\n",
       "    return\n",
       "  }\n",
       "  const py_version = docs[0].version.replace('rc', '-rc.').replace('.dev', '-dev.')\n",
       "  async function embed_document(root) {\n",
       "    var Bokeh = get_bokeh(root)\n",
       "    await Bokeh.embed.embed_items_notebook(docs_json, render_items);\n",
       "    for (const render_item of render_items) {\n",
       "      for (const root_id of render_item.root_ids) {\n",
       "\tconst id_el = document.getElementById(root_id)\n",
       "\tif (id_el.children.length && id_el.children[0].hasAttribute('data-root-id')) {\n",
       "\t  const root_el = id_el.children[0]\n",
       "\t  root_el.id = root_el.id + '-rendered'\n",
       "\t  for (const child of root_el.children) {\n",
       "            // Ensure JupyterLab does not capture keyboard shortcuts\n",
       "            // see: https://jupyterlab.readthedocs.io/en/4.1.x/extension/notebook.html#keyboard-interaction-model\n",
       "\t    child.setAttribute('data-lm-suppress-shortcuts', 'true')\n",
       "\t  }\n",
       "\t}\n",
       "      }\n",
       "    }\n",
       "  }\n",
       "  function get_bokeh(root) {\n",
       "    if (root.Bokeh === undefined) {\n",
       "      return null\n",
       "    } else if (root.Bokeh.version !== py_version) {\n",
       "      if (root.Bokeh.versions === undefined || !root.Bokeh.versions.has(py_version)) {\n",
       "\treturn null\n",
       "      }\n",
       "      return root.Bokeh.versions.get(py_version);\n",
       "    } else if (root.Bokeh.version === py_version) {\n",
       "      return root.Bokeh\n",
       "    }\n",
       "    return null\n",
       "  }\n",
       "  function is_loaded(root) {\n",
       "    var Bokeh = get_bokeh(root)\n",
       "    return (Bokeh != null && Bokeh.Panel !== undefined)\n",
       "  }\n",
       "  if (is_loaded(root)) {\n",
       "    embed_document(root);\n",
       "  } else {\n",
       "    var attempts = 0;\n",
       "    var timer = setInterval(function(root) {\n",
       "      if (is_loaded(root)) {\n",
       "        clearInterval(timer);\n",
       "        embed_document(root);\n",
       "      } else if (document.readyState == \"complete\") {\n",
       "        attempts++;\n",
       "        if (attempts > 200) {\n",
       "          clearInterval(timer);\n",
       "\t  var Bokeh = get_bokeh(root)\n",
       "\t  if (Bokeh == null || Bokeh.Panel == null) {\n",
       "            console.warn(\"Panel: ERROR: Unable to run Panel code because Bokeh or Panel library is missing\");\n",
       "\t  } else {\n",
       "\t    console.warn(\"Panel: WARNING: Attempting to render but not all required libraries could be resolved.\")\n",
       "\t    embed_document(root)\n",
       "\t  }\n",
       "        }\n",
       "      }\n",
       "    }, 25, root)\n",
       "  }\n",
       "})(window);</script>"
      ],
      "text/plain": [
       ":Overlay\n",
       "   .Curve.Actual_Fraud_Charges     :Curve   [ds]   (actual_fraud_count)\n",
       "   .Curve.Forecasted_Fraud_Charges :Curve   [ds]   (yhat)\n",
       "   .Area.Uncertainty_Interval      :Area   [ds]   (yhat_lower,yhat_upper)"
      ]
     },
     "execution_count": 13,
     "metadata": {
      "application/vnd.holoviews_exec.v0+json": {
       "id": "p1004"
      }
     },
     "output_type": "execute_result"
    }
   ],
   "source": [
    "# Ensure the 'ds' column in both DataFrames is of datetime type\n",
    "fraud_forecast['ds'] = pd.to_datetime(fraud_forecast['ds'])\n",
    "fraud_df['ds'] = pd.to_datetime(fraud_df['ds'])\n",
    "\n",
    "# Merge the actual and forecast data\n",
    "combined_df = pd.merge(\n",
    "    fraud_forecast[['ds', 'yhat', 'yhat_lower', 'yhat_upper']],\n",
    "    fraud_df[['ds', 'y']],\n",
    "    on='ds',\n",
    "    how='left'\n",
    ")\n",
    "\n",
    "# Rename the actual fraud column for clarity\n",
    "combined_df.rename(columns={'y': 'actual_fraud_count'}, inplace=True)\n",
    "\n",
    "# Plotting with hvplot\n",
    "plot_actual = combined_df.hvplot.line(x='ds', y='actual_fraud_count', label='Actual Fraud Charges', color='blue', line_width=2)\n",
    "plot_forecast = combined_df.hvplot.line(x='ds', y='yhat', label='Forecasted Fraud Charges', color='orange', line_width=2)\n",
    "plot_uncertainty = combined_df.hvplot.area(x='ds', y='yhat_lower', y2='yhat_upper', label='Uncertainty Interval', color='orange', alpha=0.3)\n",
    "\n",
    "# Combine all plots\n",
    "final_plot = plot_actual * plot_forecast * plot_uncertainty\n",
    "\n",
    "# Customize plot\n",
    "final_plot.opts(\n",
    "    title='Fraud Charge Forecasting',\n",
    "    xlabel='Date',\n",
    "    ylabel='Number of Fraud Charges',\n",
    "    legend_position='top_left',\n",
    "    width=1000, \n",
    "    height=600   \n",
    ")\n",
    "\n",
    "# Show the plot\n",
    "final_plot\n"
   ]
  },
  {
   "cell_type": "code",
   "execution_count": 14,
   "metadata": {},
   "outputs": [
    {
     "name": "stdout",
     "output_type": "stream",
     "text": [
      "        date  fraud_charge_count\n",
      "0 2019-01-07                  51\n",
      "1 2019-01-14                 158\n",
      "2 2019-01-21                 155\n",
      "3 2019-01-28                  67\n",
      "4 2019-02-04                 149\n"
     ]
    }
   ],
   "source": [
    "# Convert 'trans_date' to datetime if it isn't already\n",
    "df2['trans_date'] = pd.to_datetime(df2['trans_date'])\n",
    "\n",
    "# Filter for fraudulent transactions\n",
    "fraud_df = df2[df2['is_fraud'] == 1]\n",
    "\n",
    "# Group by week and count the number of fraud charges\n",
    "fraud_df_weekly = fraud_df.resample('W-Mon', on='trans_date').size().reset_index(name='fraud_charge_count')\n",
    "\n",
    "# Rename columns for clarity\n",
    "fraud_df_weekly.columns = ['date', 'fraud_charge_count']\n",
    "\n",
    "# Display the resulting DataFrame\n",
    "print(fraud_df_weekly.head())\n"
   ]
  },
  {
   "cell_type": "code",
   "execution_count": 15,
   "metadata": {},
   "outputs": [
    {
     "data": {
      "text/html": [
       "<div>\n",
       "<style scoped>\n",
       "    .dataframe tbody tr th:only-of-type {\n",
       "        vertical-align: middle;\n",
       "    }\n",
       "\n",
       "    .dataframe tbody tr th {\n",
       "        vertical-align: top;\n",
       "    }\n",
       "\n",
       "    .dataframe thead th {\n",
       "        text-align: right;\n",
       "    }\n",
       "</style>\n",
       "<table border=\"1\" class=\"dataframe\">\n",
       "  <thead>\n",
       "    <tr style=\"text-align: right;\">\n",
       "      <th></th>\n",
       "      <th>ds</th>\n",
       "      <th>y</th>\n",
       "    </tr>\n",
       "  </thead>\n",
       "  <tbody>\n",
       "    <tr>\n",
       "      <th>72</th>\n",
       "      <td>2020-05-25</td>\n",
       "      <td>131</td>\n",
       "    </tr>\n",
       "    <tr>\n",
       "      <th>73</th>\n",
       "      <td>2020-06-01</td>\n",
       "      <td>82</td>\n",
       "    </tr>\n",
       "    <tr>\n",
       "      <th>74</th>\n",
       "      <td>2020-06-08</td>\n",
       "      <td>113</td>\n",
       "    </tr>\n",
       "    <tr>\n",
       "      <th>75</th>\n",
       "      <td>2020-06-15</td>\n",
       "      <td>74</td>\n",
       "    </tr>\n",
       "    <tr>\n",
       "      <th>76</th>\n",
       "      <td>2020-06-22</td>\n",
       "      <td>142</td>\n",
       "    </tr>\n",
       "  </tbody>\n",
       "</table>\n",
       "</div>"
      ],
      "text/plain": [
       "           ds    y\n",
       "72 2020-05-25  131\n",
       "73 2020-06-01   82\n",
       "74 2020-06-08  113\n",
       "75 2020-06-15   74\n",
       "76 2020-06-22  142"
      ]
     },
     "execution_count": 15,
     "metadata": {},
     "output_type": "execute_result"
    }
   ],
   "source": [
    "\n",
    "# Rename columns for Prophet\n",
    "fraud_df_weekly.columns=['ds','y']\n",
    "fraud_df_weekly.tail()\n"
   ]
  },
  {
   "cell_type": "code",
   "execution_count": 16,
   "metadata": {},
   "outputs": [
    {
     "name": "stderr",
     "output_type": "stream",
     "text": [
      "22:28:08 - cmdstanpy - INFO - Chain [1] start processing\n",
      "22:28:08 - cmdstanpy - INFO - Chain [1] done processing\n"
     ]
    },
    {
     "name": "stdout",
     "output_type": "stream",
     "text": [
      "          ds        yhat  yhat_lower  yhat_upper\n",
      "0 2019-01-07  101.871922   58.913577  148.468887\n",
      "1 2019-01-14  101.756289   60.698444  145.342485\n",
      "2 2019-01-21  101.640656   58.412524  143.685130\n",
      "3 2019-01-28  101.525023   58.836361  142.251548\n",
      "4 2019-02-04  101.409389   59.541069  141.687965\n"
     ]
    }
   ],
   "source": [
    "# Set up and fit the Prophet model\n",
    "modelweek = Prophet()\n",
    "modelweek.fit(fraud_df_weekly)\n",
    "\n",
    "# Create a DataFrame for future dates you want to forecast\n",
    "future2 = modelweek.make_future_dataframe(periods=52)\n",
    "\n",
    "# Forecast the future values\n",
    "fraud_forecast_weekly = modelweek.predict(future2)\n",
    "\n",
    "# Display the forecast\n",
    "print(fraud_forecast_weekly[['ds', 'yhat', 'yhat_lower', 'yhat_upper']].head())\n"
   ]
  },
  {
   "cell_type": "code",
   "execution_count": 17,
   "metadata": {},
   "outputs": [
    {
     "data": {},
     "metadata": {},
     "output_type": "display_data"
    },
    {
     "data": {
      "application/vnd.holoviews_exec.v0+json": "",
      "text/html": [
       "<div id='p1119'>\n",
       "  <div id=\"b2d29e6a-aba8-4a1e-80a4-df767d2657b4\" data-root-id=\"p1119\" style=\"display: contents;\"></div>\n",
       "</div>\n",
       "<script type=\"application/javascript\">(function(root) {\n",
       "  var docs_json = {\"e8c719b5-f049-4cfc-a6fc-b0422f6396cc\":{\"version\":\"3.4.1\",\"title\":\"Bokeh Application\",\"roots\":[{\"type\":\"object\",\"name\":\"Row\",\"id\":\"p1119\",\"attributes\":{\"name\":\"Row01565\",\"tags\":[\"embedded\"],\"stylesheets\":[\"\\n:host(.pn-loading):before, .pn-loading:before {\\n  background-color: #c3c3c3;\\n  mask-size: auto calc(min(50%, 400px));\\n  -webkit-mask-size: auto calc(min(50%, 400px));\\n}\",{\"type\":\"object\",\"name\":\"ImportedStyleSheet\",\"id\":\"p1122\",\"attributes\":{\"url\":\"https://cdn.holoviz.org/panel/1.4.4/dist/css/loading.css\"}},{\"type\":\"object\",\"name\":\"ImportedStyleSheet\",\"id\":\"p1226\",\"attributes\":{\"url\":\"https://cdn.holoviz.org/panel/1.4.4/dist/css/listpanel.css\"}},{\"type\":\"object\",\"name\":\"ImportedStyleSheet\",\"id\":\"p1120\",\"attributes\":{\"url\":\"https://cdn.holoviz.org/panel/1.4.4/dist/bundled/theme/default.css\"}},{\"type\":\"object\",\"name\":\"ImportedStyleSheet\",\"id\":\"p1121\",\"attributes\":{\"url\":\"https://cdn.holoviz.org/panel/1.4.4/dist/bundled/theme/native.css\"}}],\"min_width\":1000,\"margin\":0,\"sizing_mode\":\"stretch_width\",\"align\":\"start\",\"children\":[{\"type\":\"object\",\"name\":\"Spacer\",\"id\":\"p1123\",\"attributes\":{\"name\":\"HSpacer01572\",\"stylesheets\":[\"\\n:host(.pn-loading):before, .pn-loading:before {\\n  background-color: #c3c3c3;\\n  mask-size: auto calc(min(50%, 400px));\\n  -webkit-mask-size: auto calc(min(50%, 400px));\\n}\",{\"id\":\"p1122\"},{\"id\":\"p1120\"},{\"id\":\"p1121\"}],\"margin\":0,\"sizing_mode\":\"stretch_width\",\"align\":\"start\"}},{\"type\":\"object\",\"name\":\"Figure\",\"id\":\"p1137\",\"attributes\":{\"width\":1000,\"margin\":[5,10],\"sizing_mode\":\"fixed\",\"align\":\"start\",\"x_range\":{\"type\":\"object\",\"name\":\"Range1d\",\"id\":\"p1124\",\"attributes\":{\"tags\":[[[\"ds\",null]],[]],\"start\":1546819200000.0,\"end\":1597276800000.0,\"reset_start\":1546819200000.0,\"reset_end\":1597276800000.0}},\"y_range\":{\"type\":\"object\",\"name\":\"Range1d\",\"id\":\"p1125\",\"attributes\":{\"tags\":[[[\"actual_fraud_count\",null]],{\"type\":\"map\",\"entries\":[[\"invert_yaxis\",false],[\"autorange\",false]]}],\"start\":21.6,\"end\":170.4,\"reset_start\":21.6,\"reset_end\":170.4}},\"x_scale\":{\"type\":\"object\",\"name\":\"LinearScale\",\"id\":\"p1147\"},\"y_scale\":{\"type\":\"object\",\"name\":\"LinearScale\",\"id\":\"p1148\"},\"title\":{\"type\":\"object\",\"name\":\"Title\",\"id\":\"p1140\",\"attributes\":{\"text\":\"Fraud Charge Forecasting\",\"text_color\":\"black\",\"text_font_size\":\"12pt\"}},\"renderers\":[{\"type\":\"object\",\"name\":\"GlyphRenderer\",\"id\":\"p1189\",\"attributes\":{\"name\":\"Actual Fraud Charges\",\"data_source\":{\"type\":\"object\",\"name\":\"ColumnDataSource\",\"id\":\"p1180\",\"attributes\":{\"selected\":{\"type\":\"object\",\"name\":\"Selection\",\"id\":\"p1181\",\"attributes\":{\"indices\":[],\"line_indices\":[]}},\"selection_policy\":{\"type\":\"object\",\"name\":\"UnionRenderers\",\"id\":\"p1182\"},\"data\":{\"type\":\"map\",\"entries\":[[\"ds\",{\"type\":\"ndarray\",\"array\":{\"type\":\"bytes\",\"data\":\"AABAvlmCdkIAAICGmoR2QgAAwE7bhnZCAAAAFxyJdkIAAEDfXIt2QgAAgKedjXZCAADAb96PdkIAAAA4H5J2QgAAQABglHZCAACAyKCWdkIAAMCQ4Zh2QgAAAFkim3ZCAABAIWOddkIAAIDpo592QgAAwLHkoXZCAAAAeiWkdkIAAEBCZqZ2QgAAgAqnqHZCAADA0ueqdkIAAACbKK12QgAAQGNpr3ZCAACAK6qxdkIAAMDz6rN2QgAAALwrtnZCAABAhGy4dkIAAIBMrbp2QgAAwBTuvHZCAAAA3S6/dkIAAEClb8F2QgAAgG2ww3ZCAADANfHFdkIAAAD+Mch2QgAAQMZyynZCAACAjrPMdkIAAMBW9M52QgAAAB810XZCAABA53XTdkIAAICvttV2QgAAwHf313ZCAAAAQDjadkIAAEAIedx2QgAAgNC53nZCAADAmPrgdkIAAABhO+N2QgAAQCl85XZCAACA8bzndkIAAMC5/el2QgAAAII+7HZCAABASn/udkIAAIASwPB2QgAAwNoA83ZCAAAAo0H1dkIAAEBrgvd2QgAAgDPD+XZCAADA+wP8dkIAAADERP52QgAAQIyFAHdCAACAVMYCd0IAAMAcBwV3QgAAAOVHB3dCAABArYgJd0IAAIB1yQt3QgAAwD0KDndCAAAABksQd0IAAEDOixJ3QgAAgJbMFHdCAADAXg0Xd0IAAAAnThl3QgAAQO+OG3dCAACAt88dd0IAAMB/ECB3QgAAAEhRIndCAABAEJIkd0IAAIDY0iZ3QgAAwKATKXdCAAAAaVQrd0IAAEAxlS13QgAAAJfnLXdCAADA/Dkud0IAAIBijC53QgAAQMjeLndCAAAALjEvd0IAAMCTgy93QgAAgPnVL3dCAABAXygwd0IAAADFejB3QgAAwCrNMHdCAACAkB8xd0IAAED2cTF3QgAAAFzEMXdCAADAwRYyd0IAAIAnaTJ3QgAAQI27MndCAAAA8w0zd0IAAMBYYDN3QgAAgL6yM3dCAABAJAU0d0IAAACKVzR3QgAAwO+pNHdCAACAVfw0d0IAAEC7TjV3QgAAACGhNXdCAADAhvM1d0IAAIDsRTZ3QgAAQFKYNndCAAAAuOo2d0IAAMAdPTd3QgAAgIOPN3dCAABA6eE3d0IAAABPNDh3QgAAwLSGOHdCAACAGtk4d0IAAECAKzl3QgAAAOZ9OXdCAADAS9A5d0IAAICxIjp3QgAAQBd1OndCAAAAfcc6d0IAAMDiGTt3QgAAgEhsO3dCAABArr47d0IAAAAUETx3QgAAwHljPHdCAACA37U8d0IAAEBFCD13QgAAAKtaPXdCAADAEK09d0IAAIB2/z13QgAAQNxRPndC\"},\"shape\":[129],\"dtype\":\"float64\",\"order\":\"little\"}],[\"actual_fraud_count\",{\"type\":\"ndarray\",\"array\":{\"type\":\"bytes\",\"data\":\"AAAAAACASUAAAAAAAMBjQAAAAAAAYGNAAAAAAADAUEAAAAAAAKBiQAAAAAAAwFpAAAAAAABgYEAAAAAAAEBfQAAAAAAAQF1AAAAAAACAYUAAAAAAAABcQAAAAAAA4GJAAAAAAAAATkAAAAAAAEBUQAAAAAAAwFBAAAAAAACAVUAAAAAAAEBeQAAAAAAAQFZAAAAAAACAUEAAAAAAAKBhQAAAAAAAwFlAAAAAAACASUAAAAAAAMBRQAAAAAAAgFRAAAAAAABAVEAAAAAAAEBXQAAAAAAAAFZAAAAAAACAVUAAAAAAAIBFQAAAAAAAQFxAAAAAAACAT0AAAAAAAABTQAAAAAAAwFRAAAAAAABAUkAAAAAAAABdQAAAAAAAgEpAAAAAAAAAYkAAAAAAAMBcQAAAAAAAgFNAAAAAAACAWEAAAAAAACBhQAAAAAAAoGBAAAAAAACARkAAAAAAAEBdQAAAAAAAAFBAAAAAAAAASkAAAAAAAEBXQAAAAAAA4GFAAAAAAABAX0AAAAAAAABcQAAAAAAAoGFAAAAAAADgYkAAAAAAAABUQAAAAAAAAFpAAAAAAADAU0AAAAAAAABPQAAAAAAAgFlAAAAAAAAASkAAAAAAAEBQQAAAAAAAgFlAAAAAAACAWUAAAAAAAABKQAAAAAAAIGBAAAAAAADAYkAAAAAAAABBQAAAAAAAAFNAAAAAAAAAUkAAAAAAAIBWQAAAAAAAAExAAAAAAADgYEAAAAAAAOBhQAAAAAAAgFRAAAAAAABgYEAAAAAAAIBUQAAAAAAAQFxAAAAAAACAUkAAAAAAAMBhQAAAAAAAAPh/AAAAAAAA+H8AAAAAAAD4fwAAAAAAAPh/AAAAAAAA+H8AAAAAAAD4fwAAAAAAAPh/AAAAAAAA+H8AAAAAAAD4fwAAAAAAAPh/AAAAAAAA+H8AAAAAAAD4fwAAAAAAAPh/AAAAAAAA+H8AAAAAAAD4fwAAAAAAAPh/AAAAAAAA+H8AAAAAAAD4fwAAAAAAAPh/AAAAAAAA+H8AAAAAAAD4fwAAAAAAAPh/AAAAAAAA+H8AAAAAAAD4fwAAAAAAAPh/AAAAAAAA+H8AAAAAAAD4fwAAAAAAAPh/AAAAAAAA+H8AAAAAAAD4fwAAAAAAAPh/AAAAAAAA+H8AAAAAAAD4fwAAAAAAAPh/AAAAAAAA+H8AAAAAAAD4fwAAAAAAAPh/AAAAAAAA+H8AAAAAAAD4fwAAAAAAAPh/AAAAAAAA+H8AAAAAAAD4fwAAAAAAAPh/AAAAAAAA+H8AAAAAAAD4fwAAAAAAAPh/AAAAAAAA+H8AAAAAAAD4fwAAAAAAAPh/AAAAAAAA+H8AAAAAAAD4fwAAAAAAAPh/\"},\"shape\":[129],\"dtype\":\"float64\",\"order\":\"little\"}]]}}},\"view\":{\"type\":\"object\",\"name\":\"CDSView\",\"id\":\"p1190\",\"attributes\":{\"filter\":{\"type\":\"object\",\"name\":\"AllIndices\",\"id\":\"p1191\"}}},\"glyph\":{\"type\":\"object\",\"name\":\"Line\",\"id\":\"p1186\",\"attributes\":{\"tags\":[\"apply_ranges\"],\"x\":{\"type\":\"field\",\"field\":\"ds\"},\"y\":{\"type\":\"field\",\"field\":\"actual_fraud_count\"},\"line_color\":\"blue\",\"line_width\":2}},\"selection_glyph\":{\"type\":\"object\",\"name\":\"Line\",\"id\":\"p1194\",\"attributes\":{\"tags\":[\"apply_ranges\"],\"x\":{\"type\":\"field\",\"field\":\"ds\"},\"y\":{\"type\":\"field\",\"field\":\"actual_fraud_count\"},\"line_color\":\"blue\",\"line_width\":2}},\"nonselection_glyph\":{\"type\":\"object\",\"name\":\"Line\",\"id\":\"p1187\",\"attributes\":{\"tags\":[\"apply_ranges\"],\"x\":{\"type\":\"field\",\"field\":\"ds\"},\"y\":{\"type\":\"field\",\"field\":\"actual_fraud_count\"},\"line_color\":\"blue\",\"line_alpha\":0.1,\"line_width\":2}},\"muted_glyph\":{\"type\":\"object\",\"name\":\"Line\",\"id\":\"p1188\",\"attributes\":{\"tags\":[\"apply_ranges\"],\"x\":{\"type\":\"field\",\"field\":\"ds\"},\"y\":{\"type\":\"field\",\"field\":\"actual_fraud_count\"},\"line_color\":\"blue\",\"line_alpha\":0.2,\"line_width\":2}}}},{\"type\":\"object\",\"name\":\"GlyphRenderer\",\"id\":\"p1204\",\"attributes\":{\"name\":\"Forecasted Fraud Charges\",\"data_source\":{\"type\":\"object\",\"name\":\"ColumnDataSource\",\"id\":\"p1195\",\"attributes\":{\"selected\":{\"type\":\"object\",\"name\":\"Selection\",\"id\":\"p1196\",\"attributes\":{\"indices\":[],\"line_indices\":[]}},\"selection_policy\":{\"type\":\"object\",\"name\":\"UnionRenderers\",\"id\":\"p1197\"},\"data\":{\"type\":\"map\",\"entries\":[[\"ds\",{\"type\":\"ndarray\",\"array\":{\"type\":\"bytes\",\"data\":\"AABAvlmCdkIAAICGmoR2QgAAwE7bhnZCAAAAFxyJdkIAAEDfXIt2QgAAgKedjXZCAADAb96PdkIAAAA4H5J2QgAAQABglHZCAACAyKCWdkIAAMCQ4Zh2QgAAAFkim3ZCAABAIWOddkIAAIDpo592QgAAwLHkoXZCAAAAeiWkdkIAAEBCZqZ2QgAAgAqnqHZCAADA0ueqdkIAAACbKK12QgAAQGNpr3ZCAACAK6qxdkIAAMDz6rN2QgAAALwrtnZCAABAhGy4dkIAAIBMrbp2QgAAwBTuvHZCAAAA3S6/dkIAAEClb8F2QgAAgG2ww3ZCAADANfHFdkIAAAD+Mch2QgAAQMZyynZCAACAjrPMdkIAAMBW9M52QgAAAB810XZCAABA53XTdkIAAICvttV2QgAAwHf313ZCAAAAQDjadkIAAEAIedx2QgAAgNC53nZCAADAmPrgdkIAAABhO+N2QgAAQCl85XZCAACA8bzndkIAAMC5/el2QgAAAII+7HZCAABASn/udkIAAIASwPB2QgAAwNoA83ZCAAAAo0H1dkIAAEBrgvd2QgAAgDPD+XZCAADA+wP8dkIAAADERP52QgAAQIyFAHdCAACAVMYCd0IAAMAcBwV3QgAAAOVHB3dCAABArYgJd0IAAIB1yQt3QgAAwD0KDndCAAAABksQd0IAAEDOixJ3QgAAgJbMFHdCAADAXg0Xd0IAAAAnThl3QgAAQO+OG3dCAACAt88dd0IAAMB/ECB3QgAAAEhRIndCAABAEJIkd0IAAIDY0iZ3QgAAwKATKXdCAAAAaVQrd0IAAEAxlS13QgAAAJfnLXdCAADA/Dkud0IAAIBijC53QgAAQMjeLndCAAAALjEvd0IAAMCTgy93QgAAgPnVL3dCAABAXygwd0IAAADFejB3QgAAwCrNMHdCAACAkB8xd0IAAED2cTF3QgAAAFzEMXdCAADAwRYyd0IAAIAnaTJ3QgAAQI27MndCAAAA8w0zd0IAAMBYYDN3QgAAgL6yM3dCAABAJAU0d0IAAACKVzR3QgAAwO+pNHdCAACAVfw0d0IAAEC7TjV3QgAAACGhNXdCAADAhvM1d0IAAIDsRTZ3QgAAQFKYNndCAAAAuOo2d0IAAMAdPTd3QgAAgIOPN3dCAABA6eE3d0IAAABPNDh3QgAAwLSGOHdCAACAGtk4d0IAAECAKzl3QgAAAOZ9OXdCAADAS9A5d0IAAICxIjp3QgAAQBd1OndCAAAAfcc6d0IAAMDiGTt3QgAAgEhsO3dCAABArr47d0IAAAAUETx3QgAAwHljPHdCAACA37U8d0IAAEBFCD13QgAAAKtaPXdCAADAEK09d0IAAIB2/z13QgAAQNxRPndC\"},\"shape\":[129],\"dtype\":\"float64\",\"order\":\"little\"}],[\"yhat\",{\"type\":\"ndarray\",\"array\":{\"type\":\"bytes\",\"data\":\"barukc13WUCgDG0JZ3BZQNNu64AAaVlA3Cxp+JlhWUDn6uZvM1pZQPCoZOfMUllAut7hXmZLWUCEFF/W/0NZQFbR3E2ZPFlAJ45axTI1WUD6Stg8zC1ZQGuGVbRlJllA3cHSK/8eWUCbsFCjmBdZQFefzhoyEFlATvFLkssIWUBEQ8kJZQFZQDqVRoH++VhAF3TD+JfyWED1UkBwMetYQBB/vefK41hALKs6X2TcWEBJ17fW/dRYQDSeNU6XzVhAIGWzxTDGWEAu5jE9yr5YQDxnsLRjt1hAsbYvLP2vWEAoBq+jlqhYQJ5VLhswoVhA04OtksmZWEAJsiwKY5JYQPaLq4H8ilhA42Uq+ZWDWEDPP6lwL3xYQMowKejIdFhAxSGpX2JtWEDP9CjX+2VYQNrHqE6VXlhAs14pxi5XWECM9ak9yE9YQGeMKrVhSFhAN5SrLPtAWEAInCyklDlYQEmhrRsuMlhAiqYuk8cqWEDMq68KYSNYQDhbMIL6G1hApQqx+ZMUWECPLTJxLQ1YQHdQs+jGBVhA+o00YGD+V0B9y7XX+fZXQAEJN0+T71dALvG3xizoV0Bc2Tg+xuBXQIMBurVf2VdAqyk7LfnRV0DVUbykkspXQCAdPhwsw1dAbOi/k8W7V0C+BEELX7RXQBAhwoL4rFdAYj1D+pGlV0C0WcRxK55XQAZ2RenElldAWJLGYF6PV0CqrkfY94dXQPvKyE+RgFdATedJxyp5V0CfA8s+xHFXQPEfTLZdaldAQzzNLfdiV0CVWE6lkFtXQOh0zxwqVFdAOpFQlMNMV0CMrdELXUVXQJixCGZORFdAo7U/wD9DV0CvuXYaMUJXQLq9rXQiQVdAxsHkzhNAV0DTxRspBT9XQN7JUoP2PVdA6s2J3ec8V0D10cA32TtXQAHW95HKOldADNou7Ls5V0AY3mVGrThXQCXinKCeN1dAMObT+o82V0A86gpVgTVXQEfuQa9yNFdAU/J4CWQzV0Be9q9jVTJXQGr65r1GMVdAd/4dGDgwV0CCAlVyKS9XQI4GjMwaLldAmQrDJgwtV0ClDvqA/StXQLASMdvuKldAvRZoNeApV0DJGp+P0ShXQNQe1unCJ1dA4CINRLQmV0DrJkSepSVXQPcqe/iWJFdAAi+yUogjV0APM+mseSJXQBs3IAdrIVdAJjtXYVwgV0AyP467TR9XQD1DxRU/HldASUf8bzAdV0BVSzPKIRxXQGFPaiQTG1dAbVOhfgQaV0B4V9jY9RhXQIRbDzPnF1dAj19GjdgWV0CbY33nyRVXQKZntEG7FFdAs2vrm6wTV0C+byL2nRJXQMpzWVCPEVdA1neQqoAQV0Dhe8cEcg9XQO1//l5jDldA\"},\"shape\":[129],\"dtype\":\"float64\",\"order\":\"little\"}]]}}},\"view\":{\"type\":\"object\",\"name\":\"CDSView\",\"id\":\"p1205\",\"attributes\":{\"filter\":{\"type\":\"object\",\"name\":\"AllIndices\",\"id\":\"p1206\"}}},\"glyph\":{\"type\":\"object\",\"name\":\"Line\",\"id\":\"p1201\",\"attributes\":{\"tags\":[\"apply_ranges\"],\"x\":{\"type\":\"field\",\"field\":\"ds\"},\"y\":{\"type\":\"field\",\"field\":\"yhat\"},\"line_color\":\"orange\",\"line_width\":2}},\"selection_glyph\":{\"type\":\"object\",\"name\":\"Line\",\"id\":\"p1208\",\"attributes\":{\"tags\":[\"apply_ranges\"],\"x\":{\"type\":\"field\",\"field\":\"ds\"},\"y\":{\"type\":\"field\",\"field\":\"yhat\"},\"line_color\":\"orange\",\"line_width\":2}},\"nonselection_glyph\":{\"type\":\"object\",\"name\":\"Line\",\"id\":\"p1202\",\"attributes\":{\"tags\":[\"apply_ranges\"],\"x\":{\"type\":\"field\",\"field\":\"ds\"},\"y\":{\"type\":\"field\",\"field\":\"yhat\"},\"line_color\":\"orange\",\"line_alpha\":0.1,\"line_width\":2}},\"muted_glyph\":{\"type\":\"object\",\"name\":\"Line\",\"id\":\"p1203\",\"attributes\":{\"tags\":[\"apply_ranges\"],\"x\":{\"type\":\"field\",\"field\":\"ds\"},\"y\":{\"type\":\"field\",\"field\":\"yhat\"},\"line_color\":\"orange\",\"line_alpha\":0.2,\"line_width\":2}}}},{\"type\":\"object\",\"name\":\"GlyphRenderer\",\"id\":\"p1218\",\"attributes\":{\"name\":\"Uncertainty Interval\",\"data_source\":{\"type\":\"object\",\"name\":\"ColumnDataSource\",\"id\":\"p1209\",\"attributes\":{\"selected\":{\"type\":\"object\",\"name\":\"Selection\",\"id\":\"p1210\",\"attributes\":{\"indices\":[],\"line_indices\":[]}},\"selection_policy\":{\"type\":\"object\",\"name\":\"UnionRenderers\",\"id\":\"p1211\"},\"data\":{\"type\":\"map\",\"entries\":[[\"x\",{\"type\":\"ndarray\",\"array\":{\"type\":\"bytes\",\"data\":\"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\"},\"shape\":[258],\"dtype\":\"float64\",\"order\":\"little\"}],[\"y\",{\"type\":\"ndarray\",\"array\":{\"type\":\"bytes\",\"data\":\"Btv/HwGPYkAFnyqi9SpiQJppqJbs9WFAl1KmrQzIYUDMxQTQA7ZhQHb9IFZa5mFAEABk9EgXYkCohgqQ0+phQJCGC38qjGFAdy2z8vMFYkBsJmwuSOthQGySqPAG22FAwwyaR0RaYUAuiyAOYR1iQE0+JYHm42FAXlOvny8VYkCl6nHqz49hQHT6h2IAcGFAkSHdCEjdYUCSaT2zwIthQKgxpxJOs2FA/lUppoKjYUCfjx+029JhQMuGIGxGtmFAbp17KNFzYUCNATADPQNiQHzdoHyFWGFAhYPoHGtMYUAYzH8rk4BhQH80vuPBnmFA0nzW4gxDYUBSPEMOb2VhQL4+iF6agmFA+8Ymnq0wYUD+1RuWv71hQODbFFwWk2FA4QCTmIBwYUDtZ0KgFwZhQI6SmzWON2FAg5OyQd93YUBQvIwB6ANhQEBqnKYlEGFAbhEtMsYIYUALozMa20xhQLP5hpThWGFA/ZAwMONHYUDau3pj6ylhQOd4UVpmJmFAoZjJuuEHYUB37d8y4mBhQPGMZSJu+2BAMqxjbxoDYUDBxe2bvAhhQItfHUh4iWFA4+pFjspGYUC/SEBzO09hQDsh3WtvJWFA54rZNH8KYUCqH/NPzRZhQEEi2nqMXGFA3LpczUAMYUAqf53tcAdhQDJ8cyWv8mBAmql0skUMYUAyNDVqpN9gQL93Fc2PLWFAeAIP2u/oYEC2x/+Mcx1hQPHoCYCZSWFAqrvObBxRYUD8k7GbIwRhQB/YO9iBwGBA8HHuz6/RYEAcO5l8c+VgQFNXEHB7F2FA0hThAQqBYUB2P5M8Zt5gQFZjaYkuDmFAQ0OqpEsTYUAPJdoJithgQMKj04ePsGBA/OqSk1oaYUAKoNB/QqdgQAxFT5WvjmBA3CVeT42RYECU/Bc8NsFgQNzEP1gHPmFAx8n8+bkRYUBeiDvw6JlgQP7dG1Zy6mBA+cqRIez1YEAi/6FLr/5gQInCqTs6M2FA/WdIVOLqYECvzKqr3IVgQAGG17ZO3GBAjEwWnA7cYEAh0bR+2KpgQEDmKGRh/GBAiOokgQPuYEBDhv5G7YtgQNGNiaRro2BA+gVVRi9qYEA3+iheNQRhQHEh59k5zGBA8V1FPHe2YEB37aINBwJhQBzCqRsoqGBAx1u8VcDmYECx6upPq8JgQB9HuOBA+WBAsV9trndyYEAVm8Sv7HdgQEJrptMP7mBAghR26X2zYEBiMWj92fhgQION4rtgxWBAtzSHyv7rYECU57fIb/9gQJh7+cnMN2BAVL8FGMVuYECV6XzUHs9gQBE/p2/f2mBAG5q83jp+YEBK8njB0TVhQNKWM4DGOmFA+QksXPOQYEBtupL+6pFgQFd2VPyAGGFApVlZeNzDSUDWK2TosD9JQCBimqkg3UhAom9ErLGESUAN5q+pVwlJQMhSLWp41UhAoqqaxCW2R0B3421E2l9IQL5Svs+KFkpA8sstlBAYSUA3c3EfwVxIQBXyRGIIpktAlQHniUEWS0AuJdNAPdJKQPgzJTogikhA6vYky4kxSUDmQVb8dvJJQGlmxLNu50lAA0xY7L6KSkDJZzAVt5ZJQKnlj7HkB0lAiTkjwpkdSUBck2H3/JNJQM+8Nh+RwkpAvDusQmdYSEC5Ar/DUpJJQK6nbXJZv0hAfR+04JE2SEB7OAYXRlxHQJAtieWUdklAtI+oWOUKSUDIZCnpusZIQJ4BYBgjxklANb/sTP95SkAFxV9rYZhJQLBUIZ2YCUpADVsGPZZnSUD8rPwlyyxIQGNaVj9WmUlA4+D0u/u4SEB8R9bgpZNIQF88fgAseElAvmTJSyapSUAIUVUMidxIQOiO0CMLtUpAXvbL5qfOSEC+tOxoMf5IQKX2KPu0SUhAjcOqus93R0As5kQTt9ZIQOi/G01CfElAQ1IM/EL/SUCAH7AjbDtJQDdSdOY1YUhAj6W8lU3zSUBQ+1DZwlpIQCeLbpv2KEhAy+arXp/3SkCSut4BJ7JJQIo1iZ+TMElAoR3jaWiWSkBIqOARYH5KQHlyQ0uAPUpAHYpc1UcrSkAjl6pdzi9LQKd1PeGNkkpAXQJk1KVoS0C/++lSUFpLQO/UsZgj4ElAB07pYSm5S0AF1GKO2UlMQD6+Et6eeEtAbPHqWUAcS0DNUOZ+RVxKQIk2jtPYY0lAE1WPBPCUS0DpbxANGKJJQHf0eVjv4UlAmbVzYeT9S0B8n+xw9BZKQI8NM/XvnElAKPIzwr59SkCcey60NLFLQJI5fq+XWEtAKyDfmjW4S0A9LNC3tlBLQHY4us0e0UpAHId+eNhBTEAw2tYAv8xLQGtCa9GGyUtAuqaIjlQRS0DHR/jqcNpMQCHS6stBuEpAAmrKsKo8TEA5XPZURC5MQPlBz8R+UktACNRIT2U7TEBwWf5/gM1MQH2kv0uaq0tAw4QHfqnMS0Dj6/OH1o1KQHZaUS9sh01Aexqk3CwaTEDMBNkAdgRMQBt+Bb3m4k1AaTaky+MMTUB9z8VdmMZMQAYRGdmDzU1ABRNpxlkjTUB7Mr/pKzJNQGZp/PlE70xARSpbaf0ET0Dy5qh+/BROQCK2v58bk01AUzClxhJQTUBDDSSzY9tLQCf46dj0iU5AZix16R9MTUAjeJW8ouBNQDQRZRBjfkxA9n/ikf6sTEA8Y5bDk3FMQB9MZW1WI05A+bm7hYMvTUBHiF/BQcVNQG24yt0Na01AlmGjls00TUAyXTyeZllOQGUDBxfwdE1A\"},\"shape\":[258],\"dtype\":\"float64\",\"order\":\"little\"}]]}}},\"view\":{\"type\":\"object\",\"name\":\"CDSView\",\"id\":\"p1219\",\"attributes\":{\"filter\":{\"type\":\"object\",\"name\":\"AllIndices\",\"id\":\"p1220\"}}},\"glyph\":{\"type\":\"object\",\"name\":\"Patch\",\"id\":\"p1215\",\"attributes\":{\"tags\":[\"apply_ranges\"],\"x\":{\"type\":\"field\",\"field\":\"x\"},\"y\":{\"type\":\"field\",\"field\":\"y\"},\"line_alpha\":0.3,\"fill_color\":\"orange\",\"fill_alpha\":0.3,\"hatch_color\":\"orange\",\"hatch_alpha\":0.3}},\"selection_glyph\":{\"type\":\"object\",\"name\":\"Patch\",\"id\":\"p1222\",\"attributes\":{\"tags\":[\"apply_ranges\"],\"x\":{\"type\":\"field\",\"field\":\"x\"},\"y\":{\"type\":\"field\",\"field\":\"y\"},\"line_alpha\":0.3,\"fill_color\":\"orange\",\"fill_alpha\":0.3,\"hatch_color\":\"orange\",\"hatch_alpha\":0.3}},\"nonselection_glyph\":{\"type\":\"object\",\"name\":\"Patch\",\"id\":\"p1216\",\"attributes\":{\"tags\":[\"apply_ranges\"],\"x\":{\"type\":\"field\",\"field\":\"x\"},\"y\":{\"type\":\"field\",\"field\":\"y\"},\"line_alpha\":0.3,\"fill_color\":\"orange\",\"fill_alpha\":0.3,\"hatch_color\":\"orange\",\"hatch_alpha\":0.1}},\"muted_glyph\":{\"type\":\"object\",\"name\":\"Patch\",\"id\":\"p1217\",\"attributes\":{\"tags\":[\"apply_ranges\"],\"x\":{\"type\":\"field\",\"field\":\"x\"},\"y\":{\"type\":\"field\",\"field\":\"y\"},\"line_alpha\":0.2,\"fill_color\":\"orange\",\"fill_alpha\":0.2,\"hatch_color\":\"orange\",\"hatch_alpha\":0.2}}}}],\"toolbar\":{\"type\":\"object\",\"name\":\"Toolbar\",\"id\":\"p1146\",\"attributes\":{\"tools\":[{\"type\":\"object\",\"name\":\"WheelZoomTool\",\"id\":\"p1129\",\"attributes\":{\"tags\":[\"hv_created\"],\"renderers\":\"auto\",\"zoom_together\":\"none\"}},{\"type\":\"object\",\"name\":\"HoverTool\",\"id\":\"p1130\",\"attributes\":{\"tags\":[\"hv_created\"],\"renderers\":[{\"id\":\"p1189\"}],\"tooltips\":[[\"ds\",\"@{ds}{%F %T}\"],[\"actual_fraud_count\",\"@{actual_fraud_count}\"]],\"formatters\":{\"type\":\"map\",\"entries\":[[\"@{ds}\",\"datetime\"]]}}},{\"type\":\"object\",\"name\":\"HoverTool\",\"id\":\"p1133\",\"attributes\":{\"tags\":[\"hv_created\"],\"renderers\":[{\"id\":\"p1204\"}],\"tooltips\":[[\"ds\",\"@{ds}{%F %T}\"],[\"yhat\",\"@{yhat}\"]],\"formatters\":{\"type\":\"map\",\"entries\":[[\"@{ds}\",\"datetime\"]]}}},{\"type\":\"object\",\"name\":\"HoverTool\",\"id\":\"p1136\",\"attributes\":{\"tags\":[\"hv_created\"],\"renderers\":[{\"id\":\"p1218\"}],\"tooltips\":[[\"ds\",\"@{ds}\"],[\"yhat_lower\",\"@{yhat_lower}\"],[\"yhat_upper\",\"@{yhat_upper}\"]],\"formatters\":{\"type\":\"map\",\"entries\":[[\"@{x}\",\"datetime\"]]}}},{\"type\":\"object\",\"name\":\"SaveTool\",\"id\":\"p1171\"},{\"type\":\"object\",\"name\":\"PanTool\",\"id\":\"p1172\"},{\"type\":\"object\",\"name\":\"BoxZoomTool\",\"id\":\"p1173\",\"attributes\":{\"overlay\":{\"type\":\"object\",\"name\":\"BoxAnnotation\",\"id\":\"p1174\",\"attributes\":{\"syncable\":false,\"level\":\"overlay\",\"visible\":false,\"left\":{\"type\":\"number\",\"value\":\"nan\"},\"right\":{\"type\":\"number\",\"value\":\"nan\"},\"top\":{\"type\":\"number\",\"value\":\"nan\"},\"bottom\":{\"type\":\"number\",\"value\":\"nan\"},\"left_units\":\"canvas\",\"right_units\":\"canvas\",\"top_units\":\"canvas\",\"bottom_units\":\"canvas\",\"line_color\":\"black\",\"line_alpha\":1.0,\"line_width\":2,\"line_dash\":[4,4],\"fill_color\":\"lightgrey\",\"fill_alpha\":0.5}}}},{\"type\":\"object\",\"name\":\"ResetTool\",\"id\":\"p1179\"}],\"active_drag\":{\"id\":\"p1172\"},\"active_scroll\":{\"id\":\"p1129\"}}},\"left\":[{\"type\":\"object\",\"name\":\"LinearAxis\",\"id\":\"p1166\",\"attributes\":{\"ticker\":{\"type\":\"object\",\"name\":\"BasicTicker\",\"id\":\"p1167\",\"attributes\":{\"mantissas\":[1,2,5]}},\"formatter\":{\"type\":\"object\",\"name\":\"BasicTickFormatter\",\"id\":\"p1168\"},\"axis_label\":\"Number of Fraud Charges\",\"major_label_policy\":{\"type\":\"object\",\"name\":\"AllLabels\",\"id\":\"p1169\"}}}],\"below\":[{\"type\":\"object\",\"name\":\"DatetimeAxis\",\"id\":\"p1149\",\"attributes\":{\"ticker\":{\"type\":\"object\",\"name\":\"DatetimeTicker\",\"id\":\"p1150\",\"attributes\":{\"num_minor_ticks\":5,\"tickers\":[{\"type\":\"object\",\"name\":\"AdaptiveTicker\",\"id\":\"p1151\",\"attributes\":{\"num_minor_ticks\":0,\"mantissas\":[1,2,5],\"max_interval\":500.0}},{\"type\":\"object\",\"name\":\"AdaptiveTicker\",\"id\":\"p1152\",\"attributes\":{\"num_minor_ticks\":0,\"base\":60,\"mantissas\":[1,2,5,10,15,20,30],\"min_interval\":1000.0,\"max_interval\":1800000.0}},{\"type\":\"object\",\"name\":\"AdaptiveTicker\",\"id\":\"p1153\",\"attributes\":{\"num_minor_ticks\":0,\"base\":24,\"mantissas\":[1,2,4,6,8,12],\"min_interval\":3600000.0,\"max_interval\":43200000.0}},{\"type\":\"object\",\"name\":\"DaysTicker\",\"id\":\"p1154\",\"attributes\":{\"days\":[1,2,3,4,5,6,7,8,9,10,11,12,13,14,15,16,17,18,19,20,21,22,23,24,25,26,27,28,29,30,31]}},{\"type\":\"object\",\"name\":\"DaysTicker\",\"id\":\"p1155\",\"attributes\":{\"days\":[1,4,7,10,13,16,19,22,25,28]}},{\"type\":\"object\",\"name\":\"DaysTicker\",\"id\":\"p1156\",\"attributes\":{\"days\":[1,8,15,22]}},{\"type\":\"object\",\"name\":\"DaysTicker\",\"id\":\"p1157\",\"attributes\":{\"days\":[1,15]}},{\"type\":\"object\",\"name\":\"MonthsTicker\",\"id\":\"p1158\",\"attributes\":{\"months\":[0,1,2,3,4,5,6,7,8,9,10,11]}},{\"type\":\"object\",\"name\":\"MonthsTicker\",\"id\":\"p1159\",\"attributes\":{\"months\":[0,2,4,6,8,10]}},{\"type\":\"object\",\"name\":\"MonthsTicker\",\"id\":\"p1160\",\"attributes\":{\"months\":[0,4,8]}},{\"type\":\"object\",\"name\":\"MonthsTicker\",\"id\":\"p1161\",\"attributes\":{\"months\":[0,6]}},{\"type\":\"object\",\"name\":\"YearsTicker\",\"id\":\"p1162\"}]}},\"formatter\":{\"type\":\"object\",\"name\":\"DatetimeTickFormatter\",\"id\":\"p1163\"},\"axis_label\":\"Date\",\"major_label_policy\":{\"type\":\"object\",\"name\":\"AllLabels\",\"id\":\"p1164\"}}}],\"center\":[{\"type\":\"object\",\"name\":\"Grid\",\"id\":\"p1165\",\"attributes\":{\"axis\":{\"id\":\"p1149\"},\"grid_line_color\":null}},{\"type\":\"object\",\"name\":\"Grid\",\"id\":\"p1170\",\"attributes\":{\"dimension\":1,\"axis\":{\"id\":\"p1166\"},\"grid_line_color\":null}},{\"type\":\"object\",\"name\":\"Legend\",\"id\":\"p1192\",\"attributes\":{\"location\":\"top_left\",\"click_policy\":\"mute\",\"items\":[{\"type\":\"object\",\"name\":\"LegendItem\",\"id\":\"p1193\",\"attributes\":{\"label\":{\"type\":\"value\",\"value\":\"Actual Fraud Charges\"},\"renderers\":[{\"id\":\"p1189\"}]}},{\"type\":\"object\",\"name\":\"LegendItem\",\"id\":\"p1207\",\"attributes\":{\"label\":{\"type\":\"value\",\"value\":\"Forecasted Fraud Charges\"},\"renderers\":[{\"id\":\"p1204\"}]}},{\"type\":\"object\",\"name\":\"LegendItem\",\"id\":\"p1221\",\"attributes\":{\"label\":{\"type\":\"value\",\"value\":\"Uncertainty Interval\"},\"renderers\":[{\"id\":\"p1218\"}]}}]}}],\"min_border_top\":10,\"min_border_bottom\":10,\"min_border_left\":10,\"min_border_right\":10,\"output_backend\":\"webgl\"}},{\"type\":\"object\",\"name\":\"Spacer\",\"id\":\"p1224\",\"attributes\":{\"name\":\"HSpacer01573\",\"stylesheets\":[\"\\n:host(.pn-loading):before, .pn-loading:before {\\n  background-color: #c3c3c3;\\n  mask-size: auto calc(min(50%, 400px));\\n  -webkit-mask-size: auto calc(min(50%, 400px));\\n}\",{\"id\":\"p1122\"},{\"id\":\"p1120\"},{\"id\":\"p1121\"}],\"margin\":0,\"sizing_mode\":\"stretch_width\",\"align\":\"start\"}}]}}],\"defs\":[{\"type\":\"model\",\"name\":\"ReactiveHTML1\"},{\"type\":\"model\",\"name\":\"FlexBox1\",\"properties\":[{\"name\":\"align_content\",\"kind\":\"Any\",\"default\":\"flex-start\"},{\"name\":\"align_items\",\"kind\":\"Any\",\"default\":\"flex-start\"},{\"name\":\"flex_direction\",\"kind\":\"Any\",\"default\":\"row\"},{\"name\":\"flex_wrap\",\"kind\":\"Any\",\"default\":\"wrap\"},{\"name\":\"gap\",\"kind\":\"Any\",\"default\":\"\"},{\"name\":\"justify_content\",\"kind\":\"Any\",\"default\":\"flex-start\"}]},{\"type\":\"model\",\"name\":\"FloatPanel1\",\"properties\":[{\"name\":\"config\",\"kind\":\"Any\",\"default\":{\"type\":\"map\"}},{\"name\":\"contained\",\"kind\":\"Any\",\"default\":true},{\"name\":\"position\",\"kind\":\"Any\",\"default\":\"right-top\"},{\"name\":\"offsetx\",\"kind\":\"Any\",\"default\":null},{\"name\":\"offsety\",\"kind\":\"Any\",\"default\":null},{\"name\":\"theme\",\"kind\":\"Any\",\"default\":\"primary\"},{\"name\":\"status\",\"kind\":\"Any\",\"default\":\"normalized\"}]},{\"type\":\"model\",\"name\":\"GridStack1\",\"properties\":[{\"name\":\"mode\",\"kind\":\"Any\",\"default\":\"warn\"},{\"name\":\"ncols\",\"kind\":\"Any\",\"default\":null},{\"name\":\"nrows\",\"kind\":\"Any\",\"default\":null},{\"name\":\"allow_resize\",\"kind\":\"Any\",\"default\":true},{\"name\":\"allow_drag\",\"kind\":\"Any\",\"default\":true},{\"name\":\"state\",\"kind\":\"Any\",\"default\":[]}]},{\"type\":\"model\",\"name\":\"drag1\",\"properties\":[{\"name\":\"slider_width\",\"kind\":\"Any\",\"default\":5},{\"name\":\"slider_color\",\"kind\":\"Any\",\"default\":\"black\"},{\"name\":\"value\",\"kind\":\"Any\",\"default\":50}]},{\"type\":\"model\",\"name\":\"click1\",\"properties\":[{\"name\":\"terminal_output\",\"kind\":\"Any\",\"default\":\"\"},{\"name\":\"debug_name\",\"kind\":\"Any\",\"default\":\"\"},{\"name\":\"clears\",\"kind\":\"Any\",\"default\":0}]},{\"type\":\"model\",\"name\":\"FastWrapper1\",\"properties\":[{\"name\":\"object\",\"kind\":\"Any\",\"default\":null},{\"name\":\"style\",\"kind\":\"Any\",\"default\":null}]},{\"type\":\"model\",\"name\":\"NotificationAreaBase1\",\"properties\":[{\"name\":\"js_events\",\"kind\":\"Any\",\"default\":{\"type\":\"map\"}},{\"name\":\"position\",\"kind\":\"Any\",\"default\":\"bottom-right\"},{\"name\":\"_clear\",\"kind\":\"Any\",\"default\":0}]},{\"type\":\"model\",\"name\":\"NotificationArea1\",\"properties\":[{\"name\":\"js_events\",\"kind\":\"Any\",\"default\":{\"type\":\"map\"}},{\"name\":\"notifications\",\"kind\":\"Any\",\"default\":[]},{\"name\":\"position\",\"kind\":\"Any\",\"default\":\"bottom-right\"},{\"name\":\"_clear\",\"kind\":\"Any\",\"default\":0},{\"name\":\"types\",\"kind\":\"Any\",\"default\":[{\"type\":\"map\",\"entries\":[[\"type\",\"warning\"],[\"background\",\"#ffc107\"],[\"icon\",{\"type\":\"map\",\"entries\":[[\"className\",\"fas fa-exclamation-triangle\"],[\"tagName\",\"i\"],[\"color\",\"white\"]]}]]},{\"type\":\"map\",\"entries\":[[\"type\",\"info\"],[\"background\",\"#007bff\"],[\"icon\",{\"type\":\"map\",\"entries\":[[\"className\",\"fas fa-info-circle\"],[\"tagName\",\"i\"],[\"color\",\"white\"]]}]]}]}]},{\"type\":\"model\",\"name\":\"Notification\",\"properties\":[{\"name\":\"background\",\"kind\":\"Any\",\"default\":null},{\"name\":\"duration\",\"kind\":\"Any\",\"default\":3000},{\"name\":\"icon\",\"kind\":\"Any\",\"default\":null},{\"name\":\"message\",\"kind\":\"Any\",\"default\":\"\"},{\"name\":\"notification_type\",\"kind\":\"Any\",\"default\":null},{\"name\":\"_destroyed\",\"kind\":\"Any\",\"default\":false}]},{\"type\":\"model\",\"name\":\"TemplateActions1\",\"properties\":[{\"name\":\"open_modal\",\"kind\":\"Any\",\"default\":0},{\"name\":\"close_modal\",\"kind\":\"Any\",\"default\":0}]},{\"type\":\"model\",\"name\":\"BootstrapTemplateActions1\",\"properties\":[{\"name\":\"open_modal\",\"kind\":\"Any\",\"default\":0},{\"name\":\"close_modal\",\"kind\":\"Any\",\"default\":0}]},{\"type\":\"model\",\"name\":\"TemplateEditor1\",\"properties\":[{\"name\":\"layout\",\"kind\":\"Any\",\"default\":[]}]},{\"type\":\"model\",\"name\":\"MaterialTemplateActions1\",\"properties\":[{\"name\":\"open_modal\",\"kind\":\"Any\",\"default\":0},{\"name\":\"close_modal\",\"kind\":\"Any\",\"default\":0}]},{\"type\":\"model\",\"name\":\"copy_to_clipboard1\",\"properties\":[{\"name\":\"fill\",\"kind\":\"Any\",\"default\":\"none\"},{\"name\":\"value\",\"kind\":\"Any\",\"default\":null}]}]}};\n",
       "  var render_items = [{\"docid\":\"e8c719b5-f049-4cfc-a6fc-b0422f6396cc\",\"roots\":{\"p1119\":\"b2d29e6a-aba8-4a1e-80a4-df767d2657b4\"},\"root_ids\":[\"p1119\"]}];\n",
       "  var docs = Object.values(docs_json)\n",
       "  if (!docs) {\n",
       "    return\n",
       "  }\n",
       "  const py_version = docs[0].version.replace('rc', '-rc.').replace('.dev', '-dev.')\n",
       "  async function embed_document(root) {\n",
       "    var Bokeh = get_bokeh(root)\n",
       "    await Bokeh.embed.embed_items_notebook(docs_json, render_items);\n",
       "    for (const render_item of render_items) {\n",
       "      for (const root_id of render_item.root_ids) {\n",
       "\tconst id_el = document.getElementById(root_id)\n",
       "\tif (id_el.children.length && id_el.children[0].hasAttribute('data-root-id')) {\n",
       "\t  const root_el = id_el.children[0]\n",
       "\t  root_el.id = root_el.id + '-rendered'\n",
       "\t  for (const child of root_el.children) {\n",
       "            // Ensure JupyterLab does not capture keyboard shortcuts\n",
       "            // see: https://jupyterlab.readthedocs.io/en/4.1.x/extension/notebook.html#keyboard-interaction-model\n",
       "\t    child.setAttribute('data-lm-suppress-shortcuts', 'true')\n",
       "\t  }\n",
       "\t}\n",
       "      }\n",
       "    }\n",
       "  }\n",
       "  function get_bokeh(root) {\n",
       "    if (root.Bokeh === undefined) {\n",
       "      return null\n",
       "    } else if (root.Bokeh.version !== py_version) {\n",
       "      if (root.Bokeh.versions === undefined || !root.Bokeh.versions.has(py_version)) {\n",
       "\treturn null\n",
       "      }\n",
       "      return root.Bokeh.versions.get(py_version);\n",
       "    } else if (root.Bokeh.version === py_version) {\n",
       "      return root.Bokeh\n",
       "    }\n",
       "    return null\n",
       "  }\n",
       "  function is_loaded(root) {\n",
       "    var Bokeh = get_bokeh(root)\n",
       "    return (Bokeh != null && Bokeh.Panel !== undefined)\n",
       "  }\n",
       "  if (is_loaded(root)) {\n",
       "    embed_document(root);\n",
       "  } else {\n",
       "    var attempts = 0;\n",
       "    var timer = setInterval(function(root) {\n",
       "      if (is_loaded(root)) {\n",
       "        clearInterval(timer);\n",
       "        embed_document(root);\n",
       "      } else if (document.readyState == \"complete\") {\n",
       "        attempts++;\n",
       "        if (attempts > 200) {\n",
       "          clearInterval(timer);\n",
       "\t  var Bokeh = get_bokeh(root)\n",
       "\t  if (Bokeh == null || Bokeh.Panel == null) {\n",
       "            console.warn(\"Panel: ERROR: Unable to run Panel code because Bokeh or Panel library is missing\");\n",
       "\t  } else {\n",
       "\t    console.warn(\"Panel: WARNING: Attempting to render but not all required libraries could be resolved.\")\n",
       "\t    embed_document(root)\n",
       "\t  }\n",
       "        }\n",
       "      }\n",
       "    }, 25, root)\n",
       "  }\n",
       "})(window);</script>"
      ],
      "text/plain": [
       ":Overlay\n",
       "   .Curve.Actual_Fraud_Charges     :Curve   [ds]   (actual_fraud_count)\n",
       "   .Curve.Forecasted_Fraud_Charges :Curve   [ds]   (yhat)\n",
       "   .Area.Uncertainty_Interval      :Area   [ds]   (yhat_lower,yhat_upper)"
      ]
     },
     "execution_count": 17,
     "metadata": {
      "application/vnd.holoviews_exec.v0+json": {
       "id": "p1119"
      }
     },
     "output_type": "execute_result"
    }
   ],
   "source": [
    "# Ensure the 'ds' column in both DataFrames is of datetime type\n",
    "fraud_forecast_weekly['ds'] = pd.to_datetime(fraud_forecast_weekly['ds'])\n",
    "fraud_df_weekly['ds'] = pd.to_datetime(fraud_df_weekly['ds'])\n",
    "\n",
    "# Merge the actual and forecast data\n",
    "combined_df_weekly = pd.merge(\n",
    "    fraud_forecast_weekly[['ds', 'yhat', 'yhat_lower', 'yhat_upper']],\n",
    "    fraud_df_weekly[['ds', 'y']],\n",
    "    on='ds',\n",
    "    how='left'\n",
    ")\n",
    "\n",
    "# Rename the actual fraud column for clarity\n",
    "combined_df_weekly.rename(columns={'y': 'actual_fraud_count'}, inplace=True)\n",
    "\n",
    "# Plotting with hvplot\n",
    "plot_actual2 = combined_df_weekly.hvplot.line(x='ds', y='actual_fraud_count', label='Actual Fraud Charges', color='blue', line_width=2)\n",
    "plot_forecast2 = combined_df_weekly.hvplot.line(x='ds', y='yhat', label='Forecasted Fraud Charges', color='orange', line_width=2)\n",
    "plot_uncertainty2 = combined_df_weekly.hvplot.area(x='ds', y='yhat_lower', y2='yhat_upper', label='Uncertainty Interval', color='orange', alpha=0.3)\n",
    "\n",
    "# Combine all plots\n",
    "final_plot_weekly = plot_actual2 * plot_forecast2 * plot_uncertainty2\n",
    "\n",
    "# Customize plot\n",
    "final_plot_weekly.opts(\n",
    "    title='Fraud Charge Forecasting',\n",
    "    xlabel='Date',\n",
    "    ylabel='Number of Fraud Charges',\n",
    "    legend_position='top_left',\n",
    "    width=1000, \n",
    "    height=600   \n",
    ")\n",
    "\n",
    "# Show the plot\n",
    "final_plot_weekly\n"
   ]
  },
  {
   "cell_type": "code",
   "execution_count": 18,
   "metadata": {},
   "outputs": [
    {
     "data": {},
     "metadata": {},
     "output_type": "display_data"
    },
    {
     "data": {
      "application/vnd.holoviews_exec.v0+json": "",
      "text/html": [
       "<div id='p1234'>\n",
       "  <div id=\"b4c0d9a7-b886-4dd2-9ed2-1cfd8e9cac61\" data-root-id=\"p1234\" style=\"display: contents;\"></div>\n",
       "</div>\n",
       "<script type=\"application/javascript\">(function(root) {\n",
       "  var docs_json = {\"08582cca-4b9d-4d8c-8394-5ab77653d27a\":{\"version\":\"3.4.1\",\"title\":\"Bokeh Application\",\"roots\":[{\"type\":\"object\",\"name\":\"Row\",\"id\":\"p1234\",\"attributes\":{\"name\":\"Row01957\",\"tags\":[\"embedded\"],\"stylesheets\":[\"\\n:host(.pn-loading):before, .pn-loading:before {\\n  background-color: #c3c3c3;\\n  mask-size: auto calc(min(50%, 400px));\\n  -webkit-mask-size: auto calc(min(50%, 400px));\\n}\",{\"type\":\"object\",\"name\":\"ImportedStyleSheet\",\"id\":\"p1237\",\"attributes\":{\"url\":\"https://cdn.holoviz.org/panel/1.4.4/dist/css/loading.css\"}},{\"type\":\"object\",\"name\":\"ImportedStyleSheet\",\"id\":\"p1341\",\"attributes\":{\"url\":\"https://cdn.holoviz.org/panel/1.4.4/dist/css/listpanel.css\"}},{\"type\":\"object\",\"name\":\"ImportedStyleSheet\",\"id\":\"p1235\",\"attributes\":{\"url\":\"https://cdn.holoviz.org/panel/1.4.4/dist/bundled/theme/default.css\"}},{\"type\":\"object\",\"name\":\"ImportedStyleSheet\",\"id\":\"p1236\",\"attributes\":{\"url\":\"https://cdn.holoviz.org/panel/1.4.4/dist/bundled/theme/native.css\"}}],\"min_width\":1000,\"margin\":0,\"sizing_mode\":\"stretch_width\",\"align\":\"start\",\"children\":[{\"type\":\"object\",\"name\":\"Spacer\",\"id\":\"p1238\",\"attributes\":{\"name\":\"HSpacer01964\",\"stylesheets\":[\"\\n:host(.pn-loading):before, .pn-loading:before {\\n  background-color: #c3c3c3;\\n  mask-size: auto calc(min(50%, 400px));\\n  -webkit-mask-size: auto calc(min(50%, 400px));\\n}\",{\"id\":\"p1237\"},{\"id\":\"p1235\"},{\"id\":\"p1236\"}],\"margin\":0,\"sizing_mode\":\"stretch_width\",\"align\":\"start\"}},{\"type\":\"object\",\"name\":\"Figure\",\"id\":\"p1252\",\"attributes\":{\"width\":1000,\"margin\":[5,10],\"sizing_mode\":\"fixed\",\"align\":\"start\",\"x_range\":{\"type\":\"object\",\"name\":\"Range1d\",\"id\":\"p1239\",\"attributes\":{\"tags\":[[[\"ds\",null]],[]],\"start\":1578268800000.0,\"end\":1597276800000.0,\"reset_start\":1578268800000.0,\"reset_end\":1597276800000.0}},\"y_range\":{\"type\":\"object\",\"name\":\"Range1d\",\"id\":\"p1240\",\"attributes\":{\"tags\":[[[\"actual_fraud_count\",null]],{\"type\":\"map\",\"entries\":[[\"invert_yaxis\",false],[\"autorange\",false]]}],\"start\":22.4,\"end\":161.6,\"reset_start\":22.4,\"reset_end\":161.6}},\"x_scale\":{\"type\":\"object\",\"name\":\"LinearScale\",\"id\":\"p1262\"},\"y_scale\":{\"type\":\"object\",\"name\":\"LinearScale\",\"id\":\"p1263\"},\"title\":{\"type\":\"object\",\"name\":\"Title\",\"id\":\"p1255\",\"attributes\":{\"text\":\"Fraud Charge Forecasting (From 2020 Onwards)\",\"text_color\":\"black\",\"text_font_size\":\"12pt\"}},\"renderers\":[{\"type\":\"object\",\"name\":\"GlyphRenderer\",\"id\":\"p1304\",\"attributes\":{\"name\":\"Actual Fraud Charges\",\"data_source\":{\"type\":\"object\",\"name\":\"ColumnDataSource\",\"id\":\"p1295\",\"attributes\":{\"selected\":{\"type\":\"object\",\"name\":\"Selection\",\"id\":\"p1296\",\"attributes\":{\"indices\":[],\"line_indices\":[]}},\"selection_policy\":{\"type\":\"object\",\"name\":\"UnionRenderers\",\"id\":\"p1297\"},\"data\":{\"type\":\"map\",\"entries\":[[\"ds\",{\"type\":\"ndarray\",\"array\":{\"type\":\"bytes\",\"data\":\"AABAa4L3dkIAAIAzw/l2QgAAwPsD/HZCAAAAxET+dkIAAECMhQB3QgAAgFTGAndCAADAHAcFd0IAAADlRwd3QgAAQK2ICXdCAACAdckLd0IAAMA9Cg53QgAAAAZLEHdCAABAzosSd0IAAICWzBR3QgAAwF4NF3dCAAAAJ04Zd0IAAEDvjht3QgAAgLfPHXdCAADAfxAgd0IAAABIUSJ3QgAAQBCSJHdCAACA2NImd0IAAMCgEyl3QgAAAGlUK3dCAABAMZUtd0IAAACX5y13QgAAwPw5LndCAACAYowud0IAAEDI3i53QgAAAC4xL3dCAADAk4Mvd0IAAID51S93QgAAQF8oMHdCAAAAxXowd0IAAMAqzTB3QgAAgJAfMXdCAABA9nExd0IAAABcxDF3QgAAwMEWMndCAACAJ2kyd0IAAECNuzJ3QgAAAPMNM3dCAADAWGAzd0IAAIC+sjN3QgAAQCQFNHdCAAAAilc0d0IAAMDvqTR3QgAAgFX8NHdCAABAu041d0IAAAAhoTV3QgAAwIbzNXdCAACA7EU2d0IAAEBSmDZ3QgAAALjqNndCAADAHT03d0IAAICDjzd3QgAAQOnhN3dCAAAATzQ4d0IAAMC0hjh3QgAAgBrZOHdCAABAgCs5d0IAAADmfTl3QgAAwEvQOXdCAACAsSI6d0IAAEAXdTp3QgAAAH3HOndCAADA4hk7d0IAAIBIbDt3QgAAQK6+O3dCAAAAFBE8d0IAAMB5Yzx3QgAAgN+1PHdCAABARQg9d0IAAACrWj13QgAAwBCtPXdCAACAdv89d0IAAEDcUT53Qg==\"},\"shape\":[77],\"dtype\":\"float64\",\"order\":\"little\"}],[\"actual_fraud_count\",{\"type\":\"ndarray\",\"array\":{\"type\":\"bytes\",\"data\":\"AAAAAAAAVEAAAAAAAABaQAAAAAAAwFNAAAAAAAAAT0AAAAAAAIBZQAAAAAAAAEpAAAAAAABAUEAAAAAAAIBZQAAAAAAAgFlAAAAAAAAASkAAAAAAACBgQAAAAAAAwGJAAAAAAAAAQUAAAAAAAABTQAAAAAAAAFJAAAAAAACAVkAAAAAAAABMQAAAAAAA4GBAAAAAAADgYUAAAAAAAIBUQAAAAAAAYGBAAAAAAACAVEAAAAAAAEBcQAAAAAAAgFJAAAAAAADAYUAAAAAAAAD4fwAAAAAAAPh/AAAAAAAA+H8AAAAAAAD4fwAAAAAAAPh/AAAAAAAA+H8AAAAAAAD4fwAAAAAAAPh/AAAAAAAA+H8AAAAAAAD4fwAAAAAAAPh/AAAAAAAA+H8AAAAAAAD4fwAAAAAAAPh/AAAAAAAA+H8AAAAAAAD4fwAAAAAAAPh/AAAAAAAA+H8AAAAAAAD4fwAAAAAAAPh/AAAAAAAA+H8AAAAAAAD4fwAAAAAAAPh/AAAAAAAA+H8AAAAAAAD4fwAAAAAAAPh/AAAAAAAA+H8AAAAAAAD4fwAAAAAAAPh/AAAAAAAA+H8AAAAAAAD4fwAAAAAAAPh/AAAAAAAA+H8AAAAAAAD4fwAAAAAAAPh/AAAAAAAA+H8AAAAAAAD4fwAAAAAAAPh/AAAAAAAA+H8AAAAAAAD4fwAAAAAAAPh/AAAAAAAA+H8AAAAAAAD4fwAAAAAAAPh/AAAAAAAA+H8AAAAAAAD4fwAAAAAAAPh/AAAAAAAA+H8AAAAAAAD4fwAAAAAAAPh/AAAAAAAA+H8AAAAAAAD4fw==\"},\"shape\":[77],\"dtype\":\"float64\",\"order\":\"little\"}]]}}},\"view\":{\"type\":\"object\",\"name\":\"CDSView\",\"id\":\"p1305\",\"attributes\":{\"filter\":{\"type\":\"object\",\"name\":\"AllIndices\",\"id\":\"p1306\"}}},\"glyph\":{\"type\":\"object\",\"name\":\"Line\",\"id\":\"p1301\",\"attributes\":{\"tags\":[\"apply_ranges\"],\"x\":{\"type\":\"field\",\"field\":\"ds\"},\"y\":{\"type\":\"field\",\"field\":\"actual_fraud_count\"},\"line_color\":\"blue\",\"line_width\":2}},\"selection_glyph\":{\"type\":\"object\",\"name\":\"Line\",\"id\":\"p1309\",\"attributes\":{\"tags\":[\"apply_ranges\"],\"x\":{\"type\":\"field\",\"field\":\"ds\"},\"y\":{\"type\":\"field\",\"field\":\"actual_fraud_count\"},\"line_color\":\"blue\",\"line_width\":2}},\"nonselection_glyph\":{\"type\":\"object\",\"name\":\"Line\",\"id\":\"p1302\",\"attributes\":{\"tags\":[\"apply_ranges\"],\"x\":{\"type\":\"field\",\"field\":\"ds\"},\"y\":{\"type\":\"field\",\"field\":\"actual_fraud_count\"},\"line_color\":\"blue\",\"line_alpha\":0.1,\"line_width\":2}},\"muted_glyph\":{\"type\":\"object\",\"name\":\"Line\",\"id\":\"p1303\",\"attributes\":{\"tags\":[\"apply_ranges\"],\"x\":{\"type\":\"field\",\"field\":\"ds\"},\"y\":{\"type\":\"field\",\"field\":\"actual_fraud_count\"},\"line_color\":\"blue\",\"line_alpha\":0.2,\"line_width\":2}}}},{\"type\":\"object\",\"name\":\"GlyphRenderer\",\"id\":\"p1319\",\"attributes\":{\"name\":\"Forecasted Fraud Charges\",\"data_source\":{\"type\":\"object\",\"name\":\"ColumnDataSource\",\"id\":\"p1310\",\"attributes\":{\"selected\":{\"type\":\"object\",\"name\":\"Selection\",\"id\":\"p1311\",\"attributes\":{\"indices\":[],\"line_indices\":[]}},\"selection_policy\":{\"type\":\"object\",\"name\":\"UnionRenderers\",\"id\":\"p1312\"},\"data\":{\"type\":\"map\",\"entries\":[[\"ds\",{\"type\":\"ndarray\",\"array\":{\"type\":\"bytes\",\"data\":\"AABAa4L3dkIAAIAzw/l2QgAAwPsD/HZCAAAAxET+dkIAAECMhQB3QgAAgFTGAndCAADAHAcFd0IAAADlRwd3QgAAQK2ICXdCAACAdckLd0IAAMA9Cg53QgAAAAZLEHdCAABAzosSd0IAAICWzBR3QgAAwF4NF3dCAAAAJ04Zd0IAAEDvjht3QgAAgLfPHXdCAADAfxAgd0IAAABIUSJ3QgAAQBCSJHdCAACA2NImd0IAAMCgEyl3QgAAAGlUK3dCAABAMZUtd0IAAACX5y13QgAAwPw5LndCAACAYowud0IAAEDI3i53QgAAAC4xL3dCAADAk4Mvd0IAAID51S93QgAAQF8oMHdCAAAAxXowd0IAAMAqzTB3QgAAgJAfMXdCAABA9nExd0IAAABcxDF3QgAAwMEWMndCAACAJ2kyd0IAAECNuzJ3QgAAAPMNM3dCAADAWGAzd0IAAIC+sjN3QgAAQCQFNHdCAAAAilc0d0IAAMDvqTR3QgAAgFX8NHdCAABAu041d0IAAAAhoTV3QgAAwIbzNXdCAACA7EU2d0IAAEBSmDZ3QgAAALjqNndCAADAHT03d0IAAICDjzd3QgAAQOnhN3dCAAAATzQ4d0IAAMC0hjh3QgAAgBrZOHdCAABAgCs5d0IAAADmfTl3QgAAwEvQOXdCAACAsSI6d0IAAEAXdTp3QgAAAH3HOndCAADA4hk7d0IAAIBIbDt3QgAAQK6+O3dCAAAAFBE8d0IAAMB5Yzx3QgAAgN+1PHdCAABARQg9d0IAAACrWj13QgAAwBCtPXdCAACAdv89d0IAAEDcUT53Qg==\"},\"shape\":[77],\"dtype\":\"float64\",\"order\":\"little\"}],[\"yhat\",{\"type\":\"ndarray\",\"array\":{\"type\":\"bytes\",\"data\":\"fcu11/n2V0ABCTdPk+9XQC7xt8Ys6FdAXNk4PsbgV0CDAbq1X9lXQKspOy350VdA1VG8pJLKV0AgHT4cLMNXQGzov5PFu1dAvgRBC1+0V0AQIcKC+KxXQGI9Q/qRpVdAtFnEcSueV0AGdkXpxJZXQFiSxmBej1dAqq5H2PeHV0D7yshPkYBXQE3nSccqeVdAnwPLPsRxV0DxH0y2XWpXQEM8zS33YldAlVhOpZBbV0DodM8cKlRXQDqRUJTDTFdAjK3RC11FV0CYsQhmTkRXQKO1P8A/Q1dAr7l2GjFCV0C6va10IkFXQMbB5M4TQFdA08UbKQU/V0DeyVKD9j1XQOrNid3nPFdA9dHAN9k7V0AB1veRyjpXQAzaLuy7OVdAGN5lRq04V0Al4pygnjdXQDDm0/qPNldAPOoKVYE1V0BH7kGvcjRXQFPyeAlkM1dAXvavY1UyV0Bq+ua9RjFXQHf+HRg4MFdAggJVcikvV0COBozMGi5XQJkKwyYMLVdApQ76gP0rV0CwEjHb7ipXQL0WaDXgKVdAyRqfj9EoV0DUHtbpwidXQOAiDUS0JldA6yZEnqUlV0D3Knv4liRXQAIvslKII1dADzPprHkiV0AbNyAHayFXQCY7V2FcIFdAMj+Ou00fV0A9Q8UVPx5XQElH/G8wHVdAVUszyiEcV0BhT2okExtXQG1ToX4EGldAeFfY2PUYV0CEWw8z5xdXQI9fRo3YFldAm2N958kVV0CmZ7RBuxRXQLNr65usE1dAvm8i9p0SV0DKc1lQjxFXQNZ3kKqAEFdA4XvHBHIPV0Dtf/5eYw5XQA==\"},\"shape\":[77],\"dtype\":\"float64\",\"order\":\"little\"}]]}}},\"view\":{\"type\":\"object\",\"name\":\"CDSView\",\"id\":\"p1320\",\"attributes\":{\"filter\":{\"type\":\"object\",\"name\":\"AllIndices\",\"id\":\"p1321\"}}},\"glyph\":{\"type\":\"object\",\"name\":\"Line\",\"id\":\"p1316\",\"attributes\":{\"tags\":[\"apply_ranges\"],\"x\":{\"type\":\"field\",\"field\":\"ds\"},\"y\":{\"type\":\"field\",\"field\":\"yhat\"},\"line_color\":\"orange\",\"line_width\":2}},\"selection_glyph\":{\"type\":\"object\",\"name\":\"Line\",\"id\":\"p1323\",\"attributes\":{\"tags\":[\"apply_ranges\"],\"x\":{\"type\":\"field\",\"field\":\"ds\"},\"y\":{\"type\":\"field\",\"field\":\"yhat\"},\"line_color\":\"orange\",\"line_width\":2}},\"nonselection_glyph\":{\"type\":\"object\",\"name\":\"Line\",\"id\":\"p1317\",\"attributes\":{\"tags\":[\"apply_ranges\"],\"x\":{\"type\":\"field\",\"field\":\"ds\"},\"y\":{\"type\":\"field\",\"field\":\"yhat\"},\"line_color\":\"orange\",\"line_alpha\":0.1,\"line_width\":2}},\"muted_glyph\":{\"type\":\"object\",\"name\":\"Line\",\"id\":\"p1318\",\"attributes\":{\"tags\":[\"apply_ranges\"],\"x\":{\"type\":\"field\",\"field\":\"ds\"},\"y\":{\"type\":\"field\",\"field\":\"yhat\"},\"line_color\":\"orange\",\"line_alpha\":0.2,\"line_width\":2}}}},{\"type\":\"object\",\"name\":\"GlyphRenderer\",\"id\":\"p1333\",\"attributes\":{\"name\":\"Uncertainty Interval\",\"data_source\":{\"type\":\"object\",\"name\":\"ColumnDataSource\",\"id\":\"p1324\",\"attributes\":{\"selected\":{\"type\":\"object\",\"name\":\"Selection\",\"id\":\"p1325\",\"attributes\":{\"indices\":[],\"line_indices\":[]}},\"selection_policy\":{\"type\":\"object\",\"name\":\"UnionRenderers\",\"id\":\"p1326\"},\"data\":{\"type\":\"map\",\"entries\":[[\"x\",{\"type\":\"ndarray\",\"array\":{\"type\":\"bytes\",\"data\":\"AABAa4L3dkIAAIAzw/l2QgAAwPsD/HZCAAAAxET+dkIAAECMhQB3QgAAgFTGAndCAADAHAcFd0IAAADlRwd3QgAAQK2ICXdCAACAdckLd0IAAMA9Cg53QgAAAAZLEHdCAABAzosSd0IAAICWzBR3QgAAwF4NF3dCAAAAJ04Zd0IAAEDvjht3QgAAgLfPHXdCAADAfxAgd0IAAABIUSJ3QgAAQBCSJHdCAACA2NImd0IAAMCgEyl3QgAAAGlUK3dCAABAMZUtd0IAAACX5y13QgAAwPw5LndCAACAYowud0IAAEDI3i53QgAAAC4xL3dCAADAk4Mvd0IAAID51S93QgAAQF8oMHdCAAAAxXowd0IAAMAqzTB3QgAAgJAfMXdCAABA9nExd0IAAABcxDF3QgAAwMEWMndCAACAJ2kyd0IAAECNuzJ3QgAAAPMNM3dCAADAWGAzd0IAAIC+sjN3QgAAQCQFNHdCAAAAilc0d0IAAMDvqTR3QgAAgFX8NHdCAABAu041d0IAAAAhoTV3QgAAwIbzNXdCAACA7EU2d0IAAEBSmDZ3QgAAALjqNndCAADAHT03d0IAAICDjzd3QgAAQOnhN3dCAAAATzQ4d0IAAMC0hjh3QgAAgBrZOHdCAABAgCs5d0IAAADmfTl3QgAAwEvQOXdCAACAsSI6d0IAAEAXdTp3QgAAAH3HOndCAADA4hk7d0IAAIBIbDt3QgAAQK6+O3dCAAAAFBE8d0IAAMB5Yzx3QgAAgN+1PHdCAABARQg9d0IAAACrWj13QgAAwBCtPXdCAACAdv89d0IAAEDcUT53QgAAQNxRPndCAACAdv89d0IAAMAQrT13QgAAAKtaPXdCAABARQg9d0IAAIDftTx3QgAAwHljPHdCAAAAFBE8d0IAAECuvjt3QgAAgEhsO3dCAADA4hk7d0IAAAB9xzp3QgAAQBd1OndCAACAsSI6d0IAAMBL0Dl3QgAAAOZ9OXdCAABAgCs5d0IAAIAa2Th3QgAAwLSGOHdCAAAATzQ4d0IAAEDp4Td3QgAAgIOPN3dCAADAHT03d0IAAAC46jZ3QgAAQFKYNndCAACA7EU2d0IAAMCG8zV3QgAAACGhNXdCAABAu041d0IAAIBV/DR3QgAAwO+pNHdCAAAAilc0d0IAAEAkBTR3QgAAgL6yM3dCAADAWGAzd0IAAADzDTN3QgAAQI27MndCAACAJ2kyd0IAAMDBFjJ3QgAAAFzEMXdCAABA9nExd0IAAICQHzF3QgAAwCrNMHdCAAAAxXowd0IAAEBfKDB3QgAAgPnVL3dCAADAk4Mvd0IAAAAuMS93QgAAQMjeLndCAACAYowud0IAAMD8OS53QgAAAJfnLXdCAABAMZUtd0IAAABpVCt3QgAAwKATKXdCAACA2NImd0IAAEAQkiR3QgAAAEhRIndCAADAfxAgd0IAAIC3zx13QgAAQO+OG3dCAAAAJ04Zd0IAAMBeDRd3QgAAgJbMFHdCAABAzosSd0IAAAAGSxB3QgAAwD0KDndCAACAdckLd0IAAECtiAl3QgAAAOVHB3dCAADAHAcFd0IAAIBUxgJ3QgAAQIyFAHdCAAAAxET+dkIAAMD7A/x2QgAAgDPD+XZCAABAa4L3dkI=\"},\"shape\":[154],\"dtype\":\"float64\",\"order\":\"little\"}],[\"y\",{\"type\":\"ndarray\",\"array\":{\"type\":\"bytes\",\"data\":\"wcXtm7wIYUCLXx1IeIlhQOPqRY7KRmFAv0hAcztPYUA7Id1rbyVhQOeK2TR/CmFAqh/zT80WYUBBItp6jFxhQNy6XM1ADGFAKn+d7XAHYUAyfHMlr/JgQJqpdLJFDGFAMjQ1aqTfYEC/dxXNjy1hQHgCD9rv6GBAtsf/jHMdYUDx6AmAmUlhQKq7zmwcUWFA/JOxmyMEYUAf2DvYgcBgQPBx7s+v0WBAHDuZfHPlYEBTVxBwexdhQNIU4QEKgWFAdj+TPGbeYEBWY2mJLg5hQENDqqRLE2FADyXaCYrYYEDCo9OHj7BgQPzqkpNaGmFACqDQf0KnYEAMRU+Vr45gQNwlXk+NkWBAlPwXPDbBYEDcxD9YBz5hQMfJ/Pm5EWFAXog78OiZYED+3RtWcupgQPnKkSHs9WBAIv+hS6/+YECJwqk7OjNhQP1nSFTi6mBAr8yqq9yFYEABhte2TtxgQIxMFpwO3GBAIdG0ftiqYEBA5ihkYfxgQIjqJIED7mBAQ4b+Ru2LYEDRjYmka6NgQPoFVUYvamBAN/ooXjUEYUBxIefZOcxgQPFdRTx3tmBAd+2iDQcCYUAcwqkbKKhgQMdbvFXA5mBAserqT6vCYEAfR7jgQPlgQLFfba53cmBAFZvEr+x3YEBCa6bTD+5gQIIUdul9s2BAYjFo/dn4YECDjeK7YMVgQLc0h8r+62BAlOe3yG//YECYe/nJzDdgQFS/BRjFbmBAlel81B7PYEARP6dv39pgQBuavN46fmBASvJ4wdE1YUDSljOAxjphQPkJLFzzkGBAbbqS/uqRYEBXdlT8gBhhQKVZWXjcw0lA1itk6LA/SUAgYpqpIN1IQKJvRKyxhElADeavqVcJSUDIUi1qeNVIQKKqmsQltkdAd+NtRNpfSEC+Ur7PihZKQPLLLZQQGElAN3NxH8FcSEAV8kRiCKZLQJUB54lBFktALiXTQD3SSkD4MyU6IIpIQOr2JMuJMUlA5kFW/HbySUBpZsSzbudJQANMWOy+ikpAyWcwFbeWSUCp5Y+x5AdJQIk5I8KZHUlAXJNh9/yTSUDPvDYfkcJKQLw7rEJnWEhAuQK/w1KSSUCup21yWb9IQH0ftOCRNkhAezgGF0ZcR0CQLYnllHZJQLSPqFjlCklAyGQp6brGSECeAWAYI8ZJQDW/7Ez/eUpABcVfa2GYSUCwVCGdmAlKQA1bBj2WZ0lA/Kz8JcssSEBjWlY/VplJQOPg9Lv7uEhAfEfW4KWTSEBfPH4ALHhJQL5kyUsmqUlACFFVDIncSEDojtAjC7VKQF72y+anzkhAvrTsaDH+SECl9ij7tElIQI3DqrrPd0dALOZEE7fWSEDovxtNQnxJQENSDPxC/0lAgB+wI2w7SUA3UnTmNWFIQI+lvJVN80lAUPtQ2cJaSEAni26b9ihIQMvmq16f90pAkrreASeySUCKNYmfkzBJQKEd42lolkpASKjgEWB+SkB5ckNLgD1KQB2KXNVHK0pAI5eqXc4vS0CndT3hjZJKQF0CZNSlaEtAv/vpUlBaS0Dv1LGYI+BJQAdO6WEpuUtABdRijtlJTEA+vhLennhLQGzx6llAHEtAzVDmfkVcSkCJNo7T2GNJQBNVjwTwlEtA6W8QDRiiSUA=\"},\"shape\":[154],\"dtype\":\"float64\",\"order\":\"little\"}]]}}},\"view\":{\"type\":\"object\",\"name\":\"CDSView\",\"id\":\"p1334\",\"attributes\":{\"filter\":{\"type\":\"object\",\"name\":\"AllIndices\",\"id\":\"p1335\"}}},\"glyph\":{\"type\":\"object\",\"name\":\"Patch\",\"id\":\"p1330\",\"attributes\":{\"tags\":[\"apply_ranges\"],\"x\":{\"type\":\"field\",\"field\":\"x\"},\"y\":{\"type\":\"field\",\"field\":\"y\"},\"line_alpha\":0.3,\"fill_color\":\"orange\",\"fill_alpha\":0.3,\"hatch_color\":\"orange\",\"hatch_alpha\":0.3}},\"selection_glyph\":{\"type\":\"object\",\"name\":\"Patch\",\"id\":\"p1337\",\"attributes\":{\"tags\":[\"apply_ranges\"],\"x\":{\"type\":\"field\",\"field\":\"x\"},\"y\":{\"type\":\"field\",\"field\":\"y\"},\"line_alpha\":0.3,\"fill_color\":\"orange\",\"fill_alpha\":0.3,\"hatch_color\":\"orange\",\"hatch_alpha\":0.3}},\"nonselection_glyph\":{\"type\":\"object\",\"name\":\"Patch\",\"id\":\"p1331\",\"attributes\":{\"tags\":[\"apply_ranges\"],\"x\":{\"type\":\"field\",\"field\":\"x\"},\"y\":{\"type\":\"field\",\"field\":\"y\"},\"line_alpha\":0.3,\"fill_color\":\"orange\",\"fill_alpha\":0.3,\"hatch_color\":\"orange\",\"hatch_alpha\":0.1}},\"muted_glyph\":{\"type\":\"object\",\"name\":\"Patch\",\"id\":\"p1332\",\"attributes\":{\"tags\":[\"apply_ranges\"],\"x\":{\"type\":\"field\",\"field\":\"x\"},\"y\":{\"type\":\"field\",\"field\":\"y\"},\"line_alpha\":0.2,\"fill_color\":\"orange\",\"fill_alpha\":0.2,\"hatch_color\":\"orange\",\"hatch_alpha\":0.2}}}}],\"toolbar\":{\"type\":\"object\",\"name\":\"Toolbar\",\"id\":\"p1261\",\"attributes\":{\"tools\":[{\"type\":\"object\",\"name\":\"WheelZoomTool\",\"id\":\"p1244\",\"attributes\":{\"tags\":[\"hv_created\"],\"renderers\":\"auto\",\"zoom_together\":\"none\"}},{\"type\":\"object\",\"name\":\"HoverTool\",\"id\":\"p1245\",\"attributes\":{\"tags\":[\"hv_created\"],\"renderers\":[{\"id\":\"p1304\"}],\"tooltips\":[[\"ds\",\"@{ds}{%F %T}\"],[\"actual_fraud_count\",\"@{actual_fraud_count}\"]],\"formatters\":{\"type\":\"map\",\"entries\":[[\"@{ds}\",\"datetime\"]]}}},{\"type\":\"object\",\"name\":\"HoverTool\",\"id\":\"p1248\",\"attributes\":{\"tags\":[\"hv_created\"],\"renderers\":[{\"id\":\"p1319\"}],\"tooltips\":[[\"ds\",\"@{ds}{%F %T}\"],[\"yhat\",\"@{yhat}\"]],\"formatters\":{\"type\":\"map\",\"entries\":[[\"@{ds}\",\"datetime\"]]}}},{\"type\":\"object\",\"name\":\"HoverTool\",\"id\":\"p1251\",\"attributes\":{\"tags\":[\"hv_created\"],\"renderers\":[{\"id\":\"p1333\"}],\"tooltips\":[[\"ds\",\"@{ds}\"],[\"yhat_lower\",\"@{yhat_lower}\"],[\"yhat_upper\",\"@{yhat_upper}\"]],\"formatters\":{\"type\":\"map\",\"entries\":[[\"@{x}\",\"datetime\"]]}}},{\"type\":\"object\",\"name\":\"SaveTool\",\"id\":\"p1286\"},{\"type\":\"object\",\"name\":\"PanTool\",\"id\":\"p1287\"},{\"type\":\"object\",\"name\":\"BoxZoomTool\",\"id\":\"p1288\",\"attributes\":{\"overlay\":{\"type\":\"object\",\"name\":\"BoxAnnotation\",\"id\":\"p1289\",\"attributes\":{\"syncable\":false,\"level\":\"overlay\",\"visible\":false,\"left\":{\"type\":\"number\",\"value\":\"nan\"},\"right\":{\"type\":\"number\",\"value\":\"nan\"},\"top\":{\"type\":\"number\",\"value\":\"nan\"},\"bottom\":{\"type\":\"number\",\"value\":\"nan\"},\"left_units\":\"canvas\",\"right_units\":\"canvas\",\"top_units\":\"canvas\",\"bottom_units\":\"canvas\",\"line_color\":\"black\",\"line_alpha\":1.0,\"line_width\":2,\"line_dash\":[4,4],\"fill_color\":\"lightgrey\",\"fill_alpha\":0.5}}}},{\"type\":\"object\",\"name\":\"ResetTool\",\"id\":\"p1294\"}],\"active_drag\":{\"id\":\"p1287\"},\"active_scroll\":{\"id\":\"p1244\"}}},\"left\":[{\"type\":\"object\",\"name\":\"LinearAxis\",\"id\":\"p1281\",\"attributes\":{\"ticker\":{\"type\":\"object\",\"name\":\"BasicTicker\",\"id\":\"p1282\",\"attributes\":{\"mantissas\":[1,2,5]}},\"formatter\":{\"type\":\"object\",\"name\":\"BasicTickFormatter\",\"id\":\"p1283\"},\"axis_label\":\"Number of Fraud Charges\",\"major_label_policy\":{\"type\":\"object\",\"name\":\"AllLabels\",\"id\":\"p1284\"}}}],\"below\":[{\"type\":\"object\",\"name\":\"DatetimeAxis\",\"id\":\"p1264\",\"attributes\":{\"ticker\":{\"type\":\"object\",\"name\":\"DatetimeTicker\",\"id\":\"p1265\",\"attributes\":{\"num_minor_ticks\":5,\"tickers\":[{\"type\":\"object\",\"name\":\"AdaptiveTicker\",\"id\":\"p1266\",\"attributes\":{\"num_minor_ticks\":0,\"mantissas\":[1,2,5],\"max_interval\":500.0}},{\"type\":\"object\",\"name\":\"AdaptiveTicker\",\"id\":\"p1267\",\"attributes\":{\"num_minor_ticks\":0,\"base\":60,\"mantissas\":[1,2,5,10,15,20,30],\"min_interval\":1000.0,\"max_interval\":1800000.0}},{\"type\":\"object\",\"name\":\"AdaptiveTicker\",\"id\":\"p1268\",\"attributes\":{\"num_minor_ticks\":0,\"base\":24,\"mantissas\":[1,2,4,6,8,12],\"min_interval\":3600000.0,\"max_interval\":43200000.0}},{\"type\":\"object\",\"name\":\"DaysTicker\",\"id\":\"p1269\",\"attributes\":{\"days\":[1,2,3,4,5,6,7,8,9,10,11,12,13,14,15,16,17,18,19,20,21,22,23,24,25,26,27,28,29,30,31]}},{\"type\":\"object\",\"name\":\"DaysTicker\",\"id\":\"p1270\",\"attributes\":{\"days\":[1,4,7,10,13,16,19,22,25,28]}},{\"type\":\"object\",\"name\":\"DaysTicker\",\"id\":\"p1271\",\"attributes\":{\"days\":[1,8,15,22]}},{\"type\":\"object\",\"name\":\"DaysTicker\",\"id\":\"p1272\",\"attributes\":{\"days\":[1,15]}},{\"type\":\"object\",\"name\":\"MonthsTicker\",\"id\":\"p1273\",\"attributes\":{\"months\":[0,1,2,3,4,5,6,7,8,9,10,11]}},{\"type\":\"object\",\"name\":\"MonthsTicker\",\"id\":\"p1274\",\"attributes\":{\"months\":[0,2,4,6,8,10]}},{\"type\":\"object\",\"name\":\"MonthsTicker\",\"id\":\"p1275\",\"attributes\":{\"months\":[0,4,8]}},{\"type\":\"object\",\"name\":\"MonthsTicker\",\"id\":\"p1276\",\"attributes\":{\"months\":[0,6]}},{\"type\":\"object\",\"name\":\"YearsTicker\",\"id\":\"p1277\"}]}},\"formatter\":{\"type\":\"object\",\"name\":\"DatetimeTickFormatter\",\"id\":\"p1278\"},\"axis_label\":\"Date\",\"major_label_policy\":{\"type\":\"object\",\"name\":\"AllLabels\",\"id\":\"p1279\"}}}],\"center\":[{\"type\":\"object\",\"name\":\"Grid\",\"id\":\"p1280\",\"attributes\":{\"axis\":{\"id\":\"p1264\"},\"grid_line_color\":null}},{\"type\":\"object\",\"name\":\"Grid\",\"id\":\"p1285\",\"attributes\":{\"dimension\":1,\"axis\":{\"id\":\"p1281\"},\"grid_line_color\":null}},{\"type\":\"object\",\"name\":\"Legend\",\"id\":\"p1307\",\"attributes\":{\"location\":\"top_left\",\"click_policy\":\"mute\",\"items\":[{\"type\":\"object\",\"name\":\"LegendItem\",\"id\":\"p1308\",\"attributes\":{\"label\":{\"type\":\"value\",\"value\":\"Actual Fraud Charges\"},\"renderers\":[{\"id\":\"p1304\"}]}},{\"type\":\"object\",\"name\":\"LegendItem\",\"id\":\"p1322\",\"attributes\":{\"label\":{\"type\":\"value\",\"value\":\"Forecasted Fraud Charges\"},\"renderers\":[{\"id\":\"p1319\"}]}},{\"type\":\"object\",\"name\":\"LegendItem\",\"id\":\"p1336\",\"attributes\":{\"label\":{\"type\":\"value\",\"value\":\"Uncertainty Interval\"},\"renderers\":[{\"id\":\"p1333\"}]}}]}}],\"min_border_top\":10,\"min_border_bottom\":10,\"min_border_left\":10,\"min_border_right\":10,\"output_backend\":\"webgl\"}},{\"type\":\"object\",\"name\":\"Spacer\",\"id\":\"p1339\",\"attributes\":{\"name\":\"HSpacer01965\",\"stylesheets\":[\"\\n:host(.pn-loading):before, .pn-loading:before {\\n  background-color: #c3c3c3;\\n  mask-size: auto calc(min(50%, 400px));\\n  -webkit-mask-size: auto calc(min(50%, 400px));\\n}\",{\"id\":\"p1237\"},{\"id\":\"p1235\"},{\"id\":\"p1236\"}],\"margin\":0,\"sizing_mode\":\"stretch_width\",\"align\":\"start\"}}]}}],\"defs\":[{\"type\":\"model\",\"name\":\"ReactiveHTML1\"},{\"type\":\"model\",\"name\":\"FlexBox1\",\"properties\":[{\"name\":\"align_content\",\"kind\":\"Any\",\"default\":\"flex-start\"},{\"name\":\"align_items\",\"kind\":\"Any\",\"default\":\"flex-start\"},{\"name\":\"flex_direction\",\"kind\":\"Any\",\"default\":\"row\"},{\"name\":\"flex_wrap\",\"kind\":\"Any\",\"default\":\"wrap\"},{\"name\":\"gap\",\"kind\":\"Any\",\"default\":\"\"},{\"name\":\"justify_content\",\"kind\":\"Any\",\"default\":\"flex-start\"}]},{\"type\":\"model\",\"name\":\"FloatPanel1\",\"properties\":[{\"name\":\"config\",\"kind\":\"Any\",\"default\":{\"type\":\"map\"}},{\"name\":\"contained\",\"kind\":\"Any\",\"default\":true},{\"name\":\"position\",\"kind\":\"Any\",\"default\":\"right-top\"},{\"name\":\"offsetx\",\"kind\":\"Any\",\"default\":null},{\"name\":\"offsety\",\"kind\":\"Any\",\"default\":null},{\"name\":\"theme\",\"kind\":\"Any\",\"default\":\"primary\"},{\"name\":\"status\",\"kind\":\"Any\",\"default\":\"normalized\"}]},{\"type\":\"model\",\"name\":\"GridStack1\",\"properties\":[{\"name\":\"mode\",\"kind\":\"Any\",\"default\":\"warn\"},{\"name\":\"ncols\",\"kind\":\"Any\",\"default\":null},{\"name\":\"nrows\",\"kind\":\"Any\",\"default\":null},{\"name\":\"allow_resize\",\"kind\":\"Any\",\"default\":true},{\"name\":\"allow_drag\",\"kind\":\"Any\",\"default\":true},{\"name\":\"state\",\"kind\":\"Any\",\"default\":[]}]},{\"type\":\"model\",\"name\":\"drag1\",\"properties\":[{\"name\":\"slider_width\",\"kind\":\"Any\",\"default\":5},{\"name\":\"slider_color\",\"kind\":\"Any\",\"default\":\"black\"},{\"name\":\"value\",\"kind\":\"Any\",\"default\":50}]},{\"type\":\"model\",\"name\":\"click1\",\"properties\":[{\"name\":\"terminal_output\",\"kind\":\"Any\",\"default\":\"\"},{\"name\":\"debug_name\",\"kind\":\"Any\",\"default\":\"\"},{\"name\":\"clears\",\"kind\":\"Any\",\"default\":0}]},{\"type\":\"model\",\"name\":\"FastWrapper1\",\"properties\":[{\"name\":\"object\",\"kind\":\"Any\",\"default\":null},{\"name\":\"style\",\"kind\":\"Any\",\"default\":null}]},{\"type\":\"model\",\"name\":\"NotificationAreaBase1\",\"properties\":[{\"name\":\"js_events\",\"kind\":\"Any\",\"default\":{\"type\":\"map\"}},{\"name\":\"position\",\"kind\":\"Any\",\"default\":\"bottom-right\"},{\"name\":\"_clear\",\"kind\":\"Any\",\"default\":0}]},{\"type\":\"model\",\"name\":\"NotificationArea1\",\"properties\":[{\"name\":\"js_events\",\"kind\":\"Any\",\"default\":{\"type\":\"map\"}},{\"name\":\"notifications\",\"kind\":\"Any\",\"default\":[]},{\"name\":\"position\",\"kind\":\"Any\",\"default\":\"bottom-right\"},{\"name\":\"_clear\",\"kind\":\"Any\",\"default\":0},{\"name\":\"types\",\"kind\":\"Any\",\"default\":[{\"type\":\"map\",\"entries\":[[\"type\",\"warning\"],[\"background\",\"#ffc107\"],[\"icon\",{\"type\":\"map\",\"entries\":[[\"className\",\"fas fa-exclamation-triangle\"],[\"tagName\",\"i\"],[\"color\",\"white\"]]}]]},{\"type\":\"map\",\"entries\":[[\"type\",\"info\"],[\"background\",\"#007bff\"],[\"icon\",{\"type\":\"map\",\"entries\":[[\"className\",\"fas fa-info-circle\"],[\"tagName\",\"i\"],[\"color\",\"white\"]]}]]}]}]},{\"type\":\"model\",\"name\":\"Notification\",\"properties\":[{\"name\":\"background\",\"kind\":\"Any\",\"default\":null},{\"name\":\"duration\",\"kind\":\"Any\",\"default\":3000},{\"name\":\"icon\",\"kind\":\"Any\",\"default\":null},{\"name\":\"message\",\"kind\":\"Any\",\"default\":\"\"},{\"name\":\"notification_type\",\"kind\":\"Any\",\"default\":null},{\"name\":\"_destroyed\",\"kind\":\"Any\",\"default\":false}]},{\"type\":\"model\",\"name\":\"TemplateActions1\",\"properties\":[{\"name\":\"open_modal\",\"kind\":\"Any\",\"default\":0},{\"name\":\"close_modal\",\"kind\":\"Any\",\"default\":0}]},{\"type\":\"model\",\"name\":\"BootstrapTemplateActions1\",\"properties\":[{\"name\":\"open_modal\",\"kind\":\"Any\",\"default\":0},{\"name\":\"close_modal\",\"kind\":\"Any\",\"default\":0}]},{\"type\":\"model\",\"name\":\"TemplateEditor1\",\"properties\":[{\"name\":\"layout\",\"kind\":\"Any\",\"default\":[]}]},{\"type\":\"model\",\"name\":\"MaterialTemplateActions1\",\"properties\":[{\"name\":\"open_modal\",\"kind\":\"Any\",\"default\":0},{\"name\":\"close_modal\",\"kind\":\"Any\",\"default\":0}]},{\"type\":\"model\",\"name\":\"copy_to_clipboard1\",\"properties\":[{\"name\":\"fill\",\"kind\":\"Any\",\"default\":\"none\"},{\"name\":\"value\",\"kind\":\"Any\",\"default\":null}]}]}};\n",
       "  var render_items = [{\"docid\":\"08582cca-4b9d-4d8c-8394-5ab77653d27a\",\"roots\":{\"p1234\":\"b4c0d9a7-b886-4dd2-9ed2-1cfd8e9cac61\"},\"root_ids\":[\"p1234\"]}];\n",
       "  var docs = Object.values(docs_json)\n",
       "  if (!docs) {\n",
       "    return\n",
       "  }\n",
       "  const py_version = docs[0].version.replace('rc', '-rc.').replace('.dev', '-dev.')\n",
       "  async function embed_document(root) {\n",
       "    var Bokeh = get_bokeh(root)\n",
       "    await Bokeh.embed.embed_items_notebook(docs_json, render_items);\n",
       "    for (const render_item of render_items) {\n",
       "      for (const root_id of render_item.root_ids) {\n",
       "\tconst id_el = document.getElementById(root_id)\n",
       "\tif (id_el.children.length && id_el.children[0].hasAttribute('data-root-id')) {\n",
       "\t  const root_el = id_el.children[0]\n",
       "\t  root_el.id = root_el.id + '-rendered'\n",
       "\t  for (const child of root_el.children) {\n",
       "            // Ensure JupyterLab does not capture keyboard shortcuts\n",
       "            // see: https://jupyterlab.readthedocs.io/en/4.1.x/extension/notebook.html#keyboard-interaction-model\n",
       "\t    child.setAttribute('data-lm-suppress-shortcuts', 'true')\n",
       "\t  }\n",
       "\t}\n",
       "      }\n",
       "    }\n",
       "  }\n",
       "  function get_bokeh(root) {\n",
       "    if (root.Bokeh === undefined) {\n",
       "      return null\n",
       "    } else if (root.Bokeh.version !== py_version) {\n",
       "      if (root.Bokeh.versions === undefined || !root.Bokeh.versions.has(py_version)) {\n",
       "\treturn null\n",
       "      }\n",
       "      return root.Bokeh.versions.get(py_version);\n",
       "    } else if (root.Bokeh.version === py_version) {\n",
       "      return root.Bokeh\n",
       "    }\n",
       "    return null\n",
       "  }\n",
       "  function is_loaded(root) {\n",
       "    var Bokeh = get_bokeh(root)\n",
       "    return (Bokeh != null && Bokeh.Panel !== undefined)\n",
       "  }\n",
       "  if (is_loaded(root)) {\n",
       "    embed_document(root);\n",
       "  } else {\n",
       "    var attempts = 0;\n",
       "    var timer = setInterval(function(root) {\n",
       "      if (is_loaded(root)) {\n",
       "        clearInterval(timer);\n",
       "        embed_document(root);\n",
       "      } else if (document.readyState == \"complete\") {\n",
       "        attempts++;\n",
       "        if (attempts > 200) {\n",
       "          clearInterval(timer);\n",
       "\t  var Bokeh = get_bokeh(root)\n",
       "\t  if (Bokeh == null || Bokeh.Panel == null) {\n",
       "            console.warn(\"Panel: ERROR: Unable to run Panel code because Bokeh or Panel library is missing\");\n",
       "\t  } else {\n",
       "\t    console.warn(\"Panel: WARNING: Attempting to render but not all required libraries could be resolved.\")\n",
       "\t    embed_document(root)\n",
       "\t  }\n",
       "        }\n",
       "      }\n",
       "    }, 25, root)\n",
       "  }\n",
       "})(window);</script>"
      ],
      "text/plain": [
       ":Overlay\n",
       "   .Curve.Actual_Fraud_Charges     :Curve   [ds]   (actual_fraud_count)\n",
       "   .Curve.Forecasted_Fraud_Charges :Curve   [ds]   (yhat)\n",
       "   .Area.Uncertainty_Interval      :Area   [ds]   (yhat_lower,yhat_upper)"
      ]
     },
     "execution_count": 18,
     "metadata": {
      "application/vnd.holoviews_exec.v0+json": {
       "id": "p1234"
      }
     },
     "output_type": "execute_result"
    }
   ],
   "source": [
    "import pandas as pd\n",
    "import hvplot.pandas  # Ensure hvplot is imported\n",
    "\n",
    "# Ensure the 'ds' column in both DataFrames is of datetime type\n",
    "fraud_forecast_weekly['ds'] = pd.to_datetime(fraud_forecast_weekly['ds'])\n",
    "fraud_df_weekly['ds'] = pd.to_datetime(fraud_df_weekly['ds'])\n",
    "\n",
    "# Merge the actual and forecast data\n",
    "combined_df_weekly = pd.merge(\n",
    "    fraud_forecast_weekly[['ds', 'yhat', 'yhat_lower', 'yhat_upper']],\n",
    "    fraud_df_weekly[['ds', 'y']],\n",
    "    on='ds',\n",
    "    how='left'\n",
    ")\n",
    "\n",
    "# Rename the actual fraud column for clarity\n",
    "combined_df_weekly.rename(columns={'y': 'actual_fraud_count'}, inplace=True)\n",
    "\n",
    "# Filter combined_df_weekly for dates starting from 2020\n",
    "combined_df_weekly = combined_df_weekly[combined_df_weekly['ds'] >= '2020-01-01']\n",
    "\n",
    "# Plotting with hvplot\n",
    "plot_actual2 = combined_df_weekly.hvplot.line(\n",
    "    x='ds', \n",
    "    y='actual_fraud_count', \n",
    "    label='Actual Fraud Charges', \n",
    "    color='blue', \n",
    "    line_width=2\n",
    ")\n",
    "plot_forecast2 = combined_df_weekly.hvplot.line(\n",
    "    x='ds', \n",
    "    y='yhat', \n",
    "    label='Forecasted Fraud Charges', \n",
    "    color='orange', \n",
    "    line_width=2\n",
    ")\n",
    "plot_uncertainty2 = combined_df_weekly.hvplot.area(\n",
    "    x='ds', \n",
    "    y='yhat_lower', \n",
    "    y2='yhat_upper', \n",
    "    label='Uncertainty Interval', \n",
    "    color='orange', \n",
    "    alpha=0.3\n",
    ")\n",
    "\n",
    "# Combine all plots\n",
    "final_plot_weekly = plot_actual2 * plot_forecast2 * plot_uncertainty2\n",
    "\n",
    "# Customize plot\n",
    "final_plot_weekly.opts(\n",
    "    title='Fraud Charge Forecasting (From 2020 Onwards)',\n",
    "    xlabel='Date',\n",
    "    ylabel='Number of Fraud Charges',\n",
    "    legend_position='top_left',\n",
    "    width=1000, \n",
    "    height=600   \n",
    ")\n",
    "\n",
    "# Show the plot\n",
    "final_plot_weekly\n"
   ]
  },
  {
   "cell_type": "code",
   "execution_count": 19,
   "metadata": {},
   "outputs": [
    {
     "name": "stdout",
     "output_type": "stream",
     "text": [
      "        date  fraud_charge_count\n",
      "0 2019-01-31                 506\n",
      "1 2019-02-28                 517\n",
      "2 2019-03-31                 494\n",
      "3 2019-04-30                 376\n",
      "4 2019-05-31                 408\n"
     ]
    }
   ],
   "source": [
    "# Convert 'trans_date' to datetime if it isn't already\n",
    "df2['trans_date'] = pd.to_datetime(df2['trans_date'])\n",
    "\n",
    "# Filter for fraudulent transactions\n",
    "fraud_df = df2[df2['is_fraud'] == 1]\n",
    "\n",
    "# Group by month and count the number of fraud charges\n",
    "fraud_df_monthly = fraud_df.resample('ME', on='trans_date').size().reset_index(name='fraud_charge_count')\n",
    "\n",
    "# Rename columns for clarity\n",
    "fraud_df_monthly.columns = ['date', 'fraud_charge_count']\n",
    "\n",
    "# Display the resulting DataFrame\n",
    "print(fraud_df_monthly.head())\n"
   ]
  },
  {
   "cell_type": "code",
   "execution_count": 20,
   "metadata": {},
   "outputs": [
    {
     "data": {
      "text/html": [
       "<div>\n",
       "<style scoped>\n",
       "    .dataframe tbody tr th:only-of-type {\n",
       "        vertical-align: middle;\n",
       "    }\n",
       "\n",
       "    .dataframe tbody tr th {\n",
       "        vertical-align: top;\n",
       "    }\n",
       "\n",
       "    .dataframe thead th {\n",
       "        text-align: right;\n",
       "    }\n",
       "</style>\n",
       "<table border=\"1\" class=\"dataframe\">\n",
       "  <thead>\n",
       "    <tr style=\"text-align: right;\">\n",
       "      <th></th>\n",
       "      <th>ds</th>\n",
       "      <th>y</th>\n",
       "    </tr>\n",
       "  </thead>\n",
       "  <tbody>\n",
       "    <tr>\n",
       "      <th>13</th>\n",
       "      <td>2020-02-29</td>\n",
       "      <td>336</td>\n",
       "    </tr>\n",
       "    <tr>\n",
       "      <th>14</th>\n",
       "      <td>2020-03-31</td>\n",
       "      <td>444</td>\n",
       "    </tr>\n",
       "    <tr>\n",
       "      <th>15</th>\n",
       "      <td>2020-04-30</td>\n",
       "      <td>302</td>\n",
       "    </tr>\n",
       "    <tr>\n",
       "      <th>16</th>\n",
       "      <td>2020-05-31</td>\n",
       "      <td>527</td>\n",
       "    </tr>\n",
       "    <tr>\n",
       "      <th>17</th>\n",
       "      <td>2020-06-30</td>\n",
       "      <td>334</td>\n",
       "    </tr>\n",
       "  </tbody>\n",
       "</table>\n",
       "</div>"
      ],
      "text/plain": [
       "           ds    y\n",
       "13 2020-02-29  336\n",
       "14 2020-03-31  444\n",
       "15 2020-04-30  302\n",
       "16 2020-05-31  527\n",
       "17 2020-06-30  334"
      ]
     },
     "execution_count": 20,
     "metadata": {},
     "output_type": "execute_result"
    }
   ],
   "source": [
    "# Rename columns for Prophet\n",
    "fraud_df_monthly.columns=['ds','y']\n",
    "fraud_df_monthly.tail()"
   ]
  },
  {
   "cell_type": "code",
   "execution_count": 24,
   "metadata": {},
   "outputs": [
    {
     "name": "stderr",
     "output_type": "stream",
     "text": [
      "22:30:42 - cmdstanpy - INFO - Chain [1] start processing\n",
      "22:30:42 - cmdstanpy - INFO - Chain [1] done processing\n"
     ]
    },
    {
     "name": "stdout",
     "output_type": "stream",
     "text": [
      "           ds        yhat  yhat_lower  yhat_upper\n",
      "25 2020-07-08  382.381386  283.575300  480.902633\n",
      "26 2020-07-09  382.251701  285.333929  484.572837\n",
      "27 2020-07-10  382.122017  283.983664  479.014840\n",
      "28 2020-07-11  381.992332  288.556607  481.530165\n",
      "29 2020-07-12  381.862647  282.133602  471.821598\n"
     ]
    }
   ],
   "source": [
    "# Set up and fit the Prophet model\n",
    "modelmonth = Prophet()\n",
    "modelmonth.fit(fraud_df_monthly)\n",
    "\n",
    "# Create a DataFrame for future dates you want to forecast\n",
    "future3 = modelmonth.make_future_dataframe(periods=12)\n",
    "\n",
    "# Forecast the future values\n",
    "fraud_forecast_monthly = modelmonth.predict(future3)\n",
    "\n",
    "# Display the forecast\n",
    "print(fraud_forecast_monthly[['ds', 'yhat', 'yhat_lower', 'yhat_upper']].tail())"
   ]
  },
  {
   "cell_type": "code",
   "execution_count": 22,
   "metadata": {},
   "outputs": [
    {
     "data": {},
     "metadata": {},
     "output_type": "display_data"
    },
    {
     "data": {
      "application/vnd.holoviews_exec.v0+json": "",
      "text/html": [
       "<div id='p1349'>\n",
       "  <div id=\"d8eea9ae-c30c-46b2-9e00-a865a7b7856f\" data-root-id=\"p1349\" style=\"display: contents;\"></div>\n",
       "</div>\n",
       "<script type=\"application/javascript\">(function(root) {\n",
       "  var docs_json = {\"c91e8d1f-9632-4c61-979f-524db21b9c25\":{\"version\":\"3.4.1\",\"title\":\"Bokeh Application\",\"roots\":[{\"type\":\"object\",\"name\":\"Row\",\"id\":\"p1349\",\"attributes\":{\"name\":\"Row02349\",\"tags\":[\"embedded\"],\"stylesheets\":[\"\\n:host(.pn-loading):before, .pn-loading:before {\\n  background-color: #c3c3c3;\\n  mask-size: auto calc(min(50%, 400px));\\n  -webkit-mask-size: auto calc(min(50%, 400px));\\n}\",{\"type\":\"object\",\"name\":\"ImportedStyleSheet\",\"id\":\"p1352\",\"attributes\":{\"url\":\"https://cdn.holoviz.org/panel/1.4.4/dist/css/loading.css\"}},{\"type\":\"object\",\"name\":\"ImportedStyleSheet\",\"id\":\"p1456\",\"attributes\":{\"url\":\"https://cdn.holoviz.org/panel/1.4.4/dist/css/listpanel.css\"}},{\"type\":\"object\",\"name\":\"ImportedStyleSheet\",\"id\":\"p1350\",\"attributes\":{\"url\":\"https://cdn.holoviz.org/panel/1.4.4/dist/bundled/theme/default.css\"}},{\"type\":\"object\",\"name\":\"ImportedStyleSheet\",\"id\":\"p1351\",\"attributes\":{\"url\":\"https://cdn.holoviz.org/panel/1.4.4/dist/bundled/theme/native.css\"}}],\"min_width\":1000,\"margin\":0,\"sizing_mode\":\"stretch_width\",\"align\":\"start\",\"children\":[{\"type\":\"object\",\"name\":\"Spacer\",\"id\":\"p1353\",\"attributes\":{\"name\":\"HSpacer02356\",\"stylesheets\":[\"\\n:host(.pn-loading):before, .pn-loading:before {\\n  background-color: #c3c3c3;\\n  mask-size: auto calc(min(50%, 400px));\\n  -webkit-mask-size: auto calc(min(50%, 400px));\\n}\",{\"id\":\"p1352\"},{\"id\":\"p1350\"},{\"id\":\"p1351\"}],\"margin\":0,\"sizing_mode\":\"stretch_width\",\"align\":\"start\"}},{\"type\":\"object\",\"name\":\"Figure\",\"id\":\"p1367\",\"attributes\":{\"width\":1000,\"margin\":[5,10],\"sizing_mode\":\"fixed\",\"align\":\"start\",\"x_range\":{\"type\":\"object\",\"name\":\"Range1d\",\"id\":\"p1354\",\"attributes\":{\"tags\":[[[\"ds\",null]],[]],\"start\":1548892800000.0,\"end\":1594512000000.0,\"reset_start\":1548892800000.0,\"reset_end\":1594512000000.0}},\"y_range\":{\"type\":\"object\",\"name\":\"Range1d\",\"id\":\"p1355\",\"attributes\":{\"tags\":[[[\"actual_fraud_count\",null]],{\"type\":\"map\",\"entries\":[[\"invert_yaxis\",false],[\"autorange\",false]]}],\"start\":243.30680658365532,\"end\":623.6993812196677,\"reset_start\":243.30680658365532,\"reset_end\":623.6993812196677}},\"x_scale\":{\"type\":\"object\",\"name\":\"LinearScale\",\"id\":\"p1377\"},\"y_scale\":{\"type\":\"object\",\"name\":\"LinearScale\",\"id\":\"p1378\"},\"title\":{\"type\":\"object\",\"name\":\"Title\",\"id\":\"p1370\",\"attributes\":{\"text\":\"Fraud Charge Forecasting\",\"text_color\":\"black\",\"text_font_size\":\"12pt\"}},\"renderers\":[{\"type\":\"object\",\"name\":\"GlyphRenderer\",\"id\":\"p1419\",\"attributes\":{\"name\":\"Actual Fraud Charges\",\"data_source\":{\"type\":\"object\",\"name\":\"ColumnDataSource\",\"id\":\"p1410\",\"attributes\":{\"selected\":{\"type\":\"object\",\"name\":\"Selection\",\"id\":\"p1411\",\"attributes\":{\"indices\":[],\"line_indices\":[]}},\"selection_policy\":{\"type\":\"object\",\"name\":\"UnionRenderers\",\"id\":\"p1412\"},\"data\":{\"type\":\"map\",\"entries\":[[\"ds\",{\"type\":\"ndarray\",\"array\":{\"type\":\"bytes\",\"data\":\"AABASBOKdkIAAEBpFpN2QgAAgLsQnXZCAAAAqLimdkIAAED6srB2QgAAwOZaunZCAAAAOVXEdkIAAECLT852QgAAwHf313ZCAAAAyvHhdkIAAIC2met2QgAAwAiU9XZCAAAAW47/dkIAAMDh4wh3QgAAADTeEndCAACAIIYcd0IAAMBygCZ3QgAAQF8oMHdCAAAAxXowd0IAAMAqzTB3QgAAgJAfMXdCAABA9nExd0IAAABcxDF3QgAAwMEWMndCAACAJ2kyd0IAAECNuzJ3QgAAAPMNM3dCAADAWGAzd0IAAIC+sjN3QgAAQCQFNHdC\"},\"shape\":[30],\"dtype\":\"float64\",\"order\":\"little\"}],[\"actual_fraud_count\",{\"type\":\"ndarray\",\"array\":{\"type\":\"bytes\",\"data\":\"AAAAAACgf0AAAAAAACiAQAAAAAAA4H5AAAAAAACAd0AAAAAAAIB5QAAAAAAAIHZAAAAAAACwdEAAAAAAAOB3QAAAAAAAIHpAAAAAAABgfEAAAAAAAEB4QAAAAAAAgIJAAAAAAABwdUAAAAAAAAB1QAAAAAAAwHtAAAAAAADgckAAAAAAAHiAQAAAAAAA4HRAAAAAAAAA+H8AAAAAAAD4fwAAAAAAAPh/AAAAAAAA+H8AAAAAAAD4fwAAAAAAAPh/AAAAAAAA+H8AAAAAAAD4fwAAAAAAAPh/AAAAAAAA+H8AAAAAAAD4fwAAAAAAAPh/\"},\"shape\":[30],\"dtype\":\"float64\",\"order\":\"little\"}]]}}},\"view\":{\"type\":\"object\",\"name\":\"CDSView\",\"id\":\"p1420\",\"attributes\":{\"filter\":{\"type\":\"object\",\"name\":\"AllIndices\",\"id\":\"p1421\"}}},\"glyph\":{\"type\":\"object\",\"name\":\"Line\",\"id\":\"p1416\",\"attributes\":{\"tags\":[\"apply_ranges\"],\"x\":{\"type\":\"field\",\"field\":\"ds\"},\"y\":{\"type\":\"field\",\"field\":\"actual_fraud_count\"},\"line_color\":\"blue\",\"line_width\":2}},\"selection_glyph\":{\"type\":\"object\",\"name\":\"Line\",\"id\":\"p1424\",\"attributes\":{\"tags\":[\"apply_ranges\"],\"x\":{\"type\":\"field\",\"field\":\"ds\"},\"y\":{\"type\":\"field\",\"field\":\"actual_fraud_count\"},\"line_color\":\"blue\",\"line_width\":2}},\"nonselection_glyph\":{\"type\":\"object\",\"name\":\"Line\",\"id\":\"p1417\",\"attributes\":{\"tags\":[\"apply_ranges\"],\"x\":{\"type\":\"field\",\"field\":\"ds\"},\"y\":{\"type\":\"field\",\"field\":\"actual_fraud_count\"},\"line_color\":\"blue\",\"line_alpha\":0.1,\"line_width\":2}},\"muted_glyph\":{\"type\":\"object\",\"name\":\"Line\",\"id\":\"p1418\",\"attributes\":{\"tags\":[\"apply_ranges\"],\"x\":{\"type\":\"field\",\"field\":\"ds\"},\"y\":{\"type\":\"field\",\"field\":\"actual_fraud_count\"},\"line_color\":\"blue\",\"line_alpha\":0.2,\"line_width\":2}}}},{\"type\":\"object\",\"name\":\"GlyphRenderer\",\"id\":\"p1434\",\"attributes\":{\"name\":\"Forecasted Fraud Charges\",\"data_source\":{\"type\":\"object\",\"name\":\"ColumnDataSource\",\"id\":\"p1425\",\"attributes\":{\"selected\":{\"type\":\"object\",\"name\":\"Selection\",\"id\":\"p1426\",\"attributes\":{\"indices\":[],\"line_indices\":[]}},\"selection_policy\":{\"type\":\"object\",\"name\":\"UnionRenderers\",\"id\":\"p1427\"},\"data\":{\"type\":\"map\",\"entries\":[[\"ds\",{\"type\":\"ndarray\",\"array\":{\"type\":\"bytes\",\"data\":\"AABASBOKdkIAAEBpFpN2QgAAgLsQnXZCAAAAqLimdkIAAED6srB2QgAAwOZaunZCAAAAOVXEdkIAAECLT852QgAAwHf313ZCAAAAyvHhdkIAAIC2met2QgAAwAiU9XZCAAAAW47/dkIAAMDh4wh3QgAAADTeEndCAACAIIYcd0IAAMBygCZ3QgAAQF8oMHdCAAAAxXowd0IAAMAqzTB3QgAAgJAfMXdCAABA9nExd0IAAABcxDF3QgAAwMEWMndCAACAJ2kyd0IAAECNuzJ3QgAAAPMNM3dCAADAWGAzd0IAAIC+sjN3QgAAQCQFNHdC\"},\"shape\":[30],\"dtype\":\"float64\",\"order\":\"little\"}],[\"yhat\",{\"type\":\"ndarray\",\"array\":{\"type\":\"bytes\",\"data\":\"NNsV+mAlfECgi06yR+t7QFT8rNn0qntAbYZMMbVse0DaeKZYYix7QIciRbAi7npAM86b18+tekCXIvD+fG16QE6XiFY9L3pA8effferueUDBIYTVqrB5QCv+4/xXcHlAKkhIJAUweUAEkT+s2PN4QJHgpdOFs3hAzzVTK0Z1eEBchblS8zR4QJraZqqz9ndA6tQfeqD0d0A4z9hJjfJ3QIfJkRl68HdA1sNK6Wbud0AlvgO5U+x3QHS4vIhA6ndAwrJ1WC3od0ASrS4oGuZ3QGGn5/cG5HdAr6Ggx/Phd0D/m1mX4N93QE2WEmfN3XdA\"},\"shape\":[30],\"dtype\":\"float64\",\"order\":\"little\"}]]}}},\"view\":{\"type\":\"object\",\"name\":\"CDSView\",\"id\":\"p1435\",\"attributes\":{\"filter\":{\"type\":\"object\",\"name\":\"AllIndices\",\"id\":\"p1436\"}}},\"glyph\":{\"type\":\"object\",\"name\":\"Line\",\"id\":\"p1431\",\"attributes\":{\"tags\":[\"apply_ranges\"],\"x\":{\"type\":\"field\",\"field\":\"ds\"},\"y\":{\"type\":\"field\",\"field\":\"yhat\"},\"line_color\":\"orange\",\"line_width\":2}},\"selection_glyph\":{\"type\":\"object\",\"name\":\"Line\",\"id\":\"p1438\",\"attributes\":{\"tags\":[\"apply_ranges\"],\"x\":{\"type\":\"field\",\"field\":\"ds\"},\"y\":{\"type\":\"field\",\"field\":\"yhat\"},\"line_color\":\"orange\",\"line_width\":2}},\"nonselection_glyph\":{\"type\":\"object\",\"name\":\"Line\",\"id\":\"p1432\",\"attributes\":{\"tags\":[\"apply_ranges\"],\"x\":{\"type\":\"field\",\"field\":\"ds\"},\"y\":{\"type\":\"field\",\"field\":\"yhat\"},\"line_color\":\"orange\",\"line_alpha\":0.1,\"line_width\":2}},\"muted_glyph\":{\"type\":\"object\",\"name\":\"Line\",\"id\":\"p1433\",\"attributes\":{\"tags\":[\"apply_ranges\"],\"x\":{\"type\":\"field\",\"field\":\"ds\"},\"y\":{\"type\":\"field\",\"field\":\"yhat\"},\"line_color\":\"orange\",\"line_alpha\":0.2,\"line_width\":2}}}},{\"type\":\"object\",\"name\":\"GlyphRenderer\",\"id\":\"p1448\",\"attributes\":{\"name\":\"Uncertainty Interval\",\"data_source\":{\"type\":\"object\",\"name\":\"ColumnDataSource\",\"id\":\"p1439\",\"attributes\":{\"selected\":{\"type\":\"object\",\"name\":\"Selection\",\"id\":\"p1440\",\"attributes\":{\"indices\":[],\"line_indices\":[]}},\"selection_policy\":{\"type\":\"object\",\"name\":\"UnionRenderers\",\"id\":\"p1441\"},\"data\":{\"type\":\"map\",\"entries\":[[\"x\",{\"type\":\"ndarray\",\"array\":{\"type\":\"bytes\",\"data\":\"AABASBOKdkIAAEBpFpN2QgAAgLsQnXZCAAAAqLimdkIAAED6srB2QgAAwOZaunZCAAAAOVXEdkIAAECLT852QgAAwHf313ZCAAAAyvHhdkIAAIC2met2QgAAwAiU9XZCAAAAW47/dkIAAMDh4wh3QgAAADTeEndCAACAIIYcd0IAAMBygCZ3QgAAQF8oMHdCAAAAxXowd0IAAMAqzTB3QgAAgJAfMXdCAABA9nExd0IAAABcxDF3QgAAwMEWMndCAACAJ2kyd0IAAECNuzJ3QgAAAPMNM3dCAADAWGAzd0IAAIC+sjN3QgAAQCQFNHdCAABAJAU0d0IAAIC+sjN3QgAAwFhgM3dCAAAA8w0zd0IAAECNuzJ3QgAAgCdpMndCAADAwRYyd0IAAABcxDF3QgAAQPZxMXdCAACAkB8xd0IAAMAqzTB3QgAAAMV6MHdCAABAXygwd0IAAMBygCZ3QgAAgCCGHHdCAAAANN4Sd0IAAMDh4wh3QgAAAFuO/3ZCAADACJT1dkIAAIC2met2QgAAAMrx4XZCAADAd/fXdkIAAECLT852QgAAADlVxHZCAADA5lq6dkIAAED6srB2QgAAAKi4pnZCAACAuxCddkIAAEBpFpN2QgAAQEgTinZC\"},\"shape\":[60],\"dtype\":\"float64\",\"order\":\"little\"}],[\"y\",{\"type\":\"ndarray\",\"array\":{\"type\":\"bytes\",\"data\":\"oRWmfXEIgUDdbs76sT6BQPM7ogtVyIBAkW7i6v6ngEA5k7JJLQOBQBn6GQljk4BAvhzT39OrgEBGhsrFtTaAQILpZZ0FYoBA0mD8FL4YgEDlMzWhWv9/QMGl2UE2SH9AZ428v36ef0ClBOupZxZ/QCaICTMoU35A0Wab9iSbfkDGR9mcXWZ+QFpxOChe2X1AMpmziIFofkCaegCJCnp+QAQvpxSq4n1A3j060lX1fUAdT3cL0W9+QKYwy0/CFn5AWoAaWZ2nfkBCrg4G0j9+QJrRrMRfkn1ANWScYJQNfkD0TdOlfkd+QNF7c2Q81n1AOocOcMrGcUD/E+2Q2JpxQLuu41ON53FA9E5K9oNQcUCBzmFYGTBxQFM5tfI7Y3FAonBCo1ihcUBmRMjaeb5xQFgzqlq1AHJAVgFEgjjbcUDrqxSyQUJyQBYBbBH73XFA/gx+HQ+TcUBKI/NYWtpyQBUnr7MND3JA61KJqyKZckC4itpcnolyQMV9Jbk1HHNA+Oto7yz8ckB9Z0J0d5hzQEQHS9picnNASwFHtCJJdEB9oo9KR8t0QHlPn/D3nXRAk5pXvYPEdEBk4981mv50QCN06YBjg3VA0DnIPrazdUDA38Coz4J1QIKzTuWG0nVA\"},\"shape\":[60],\"dtype\":\"float64\",\"order\":\"little\"}]]}}},\"view\":{\"type\":\"object\",\"name\":\"CDSView\",\"id\":\"p1449\",\"attributes\":{\"filter\":{\"type\":\"object\",\"name\":\"AllIndices\",\"id\":\"p1450\"}}},\"glyph\":{\"type\":\"object\",\"name\":\"Patch\",\"id\":\"p1445\",\"attributes\":{\"tags\":[\"apply_ranges\"],\"x\":{\"type\":\"field\",\"field\":\"x\"},\"y\":{\"type\":\"field\",\"field\":\"y\"},\"line_alpha\":0.3,\"fill_color\":\"orange\",\"fill_alpha\":0.3,\"hatch_color\":\"orange\",\"hatch_alpha\":0.3}},\"selection_glyph\":{\"type\":\"object\",\"name\":\"Patch\",\"id\":\"p1452\",\"attributes\":{\"tags\":[\"apply_ranges\"],\"x\":{\"type\":\"field\",\"field\":\"x\"},\"y\":{\"type\":\"field\",\"field\":\"y\"},\"line_alpha\":0.3,\"fill_color\":\"orange\",\"fill_alpha\":0.3,\"hatch_color\":\"orange\",\"hatch_alpha\":0.3}},\"nonselection_glyph\":{\"type\":\"object\",\"name\":\"Patch\",\"id\":\"p1446\",\"attributes\":{\"tags\":[\"apply_ranges\"],\"x\":{\"type\":\"field\",\"field\":\"x\"},\"y\":{\"type\":\"field\",\"field\":\"y\"},\"line_alpha\":0.3,\"fill_color\":\"orange\",\"fill_alpha\":0.3,\"hatch_color\":\"orange\",\"hatch_alpha\":0.1}},\"muted_glyph\":{\"type\":\"object\",\"name\":\"Patch\",\"id\":\"p1447\",\"attributes\":{\"tags\":[\"apply_ranges\"],\"x\":{\"type\":\"field\",\"field\":\"x\"},\"y\":{\"type\":\"field\",\"field\":\"y\"},\"line_alpha\":0.2,\"fill_color\":\"orange\",\"fill_alpha\":0.2,\"hatch_color\":\"orange\",\"hatch_alpha\":0.2}}}}],\"toolbar\":{\"type\":\"object\",\"name\":\"Toolbar\",\"id\":\"p1376\",\"attributes\":{\"tools\":[{\"type\":\"object\",\"name\":\"WheelZoomTool\",\"id\":\"p1359\",\"attributes\":{\"tags\":[\"hv_created\"],\"renderers\":\"auto\",\"zoom_together\":\"none\"}},{\"type\":\"object\",\"name\":\"HoverTool\",\"id\":\"p1360\",\"attributes\":{\"tags\":[\"hv_created\"],\"renderers\":[{\"id\":\"p1419\"}],\"tooltips\":[[\"ds\",\"@{ds}{%F %T}\"],[\"actual_fraud_count\",\"@{actual_fraud_count}\"]],\"formatters\":{\"type\":\"map\",\"entries\":[[\"@{ds}\",\"datetime\"]]}}},{\"type\":\"object\",\"name\":\"HoverTool\",\"id\":\"p1363\",\"attributes\":{\"tags\":[\"hv_created\"],\"renderers\":[{\"id\":\"p1434\"}],\"tooltips\":[[\"ds\",\"@{ds}{%F %T}\"],[\"yhat\",\"@{yhat}\"]],\"formatters\":{\"type\":\"map\",\"entries\":[[\"@{ds}\",\"datetime\"]]}}},{\"type\":\"object\",\"name\":\"HoverTool\",\"id\":\"p1366\",\"attributes\":{\"tags\":[\"hv_created\"],\"renderers\":[{\"id\":\"p1448\"}],\"tooltips\":[[\"ds\",\"@{ds}\"],[\"yhat_lower\",\"@{yhat_lower}\"],[\"yhat_upper\",\"@{yhat_upper}\"]],\"formatters\":{\"type\":\"map\",\"entries\":[[\"@{x}\",\"datetime\"]]}}},{\"type\":\"object\",\"name\":\"SaveTool\",\"id\":\"p1401\"},{\"type\":\"object\",\"name\":\"PanTool\",\"id\":\"p1402\"},{\"type\":\"object\",\"name\":\"BoxZoomTool\",\"id\":\"p1403\",\"attributes\":{\"overlay\":{\"type\":\"object\",\"name\":\"BoxAnnotation\",\"id\":\"p1404\",\"attributes\":{\"syncable\":false,\"level\":\"overlay\",\"visible\":false,\"left\":{\"type\":\"number\",\"value\":\"nan\"},\"right\":{\"type\":\"number\",\"value\":\"nan\"},\"top\":{\"type\":\"number\",\"value\":\"nan\"},\"bottom\":{\"type\":\"number\",\"value\":\"nan\"},\"left_units\":\"canvas\",\"right_units\":\"canvas\",\"top_units\":\"canvas\",\"bottom_units\":\"canvas\",\"line_color\":\"black\",\"line_alpha\":1.0,\"line_width\":2,\"line_dash\":[4,4],\"fill_color\":\"lightgrey\",\"fill_alpha\":0.5}}}},{\"type\":\"object\",\"name\":\"ResetTool\",\"id\":\"p1409\"}],\"active_drag\":{\"id\":\"p1402\"},\"active_scroll\":{\"id\":\"p1359\"}}},\"left\":[{\"type\":\"object\",\"name\":\"LinearAxis\",\"id\":\"p1396\",\"attributes\":{\"ticker\":{\"type\":\"object\",\"name\":\"BasicTicker\",\"id\":\"p1397\",\"attributes\":{\"mantissas\":[1,2,5]}},\"formatter\":{\"type\":\"object\",\"name\":\"BasicTickFormatter\",\"id\":\"p1398\"},\"axis_label\":\"Number of Fraud Charges\",\"major_label_policy\":{\"type\":\"object\",\"name\":\"AllLabels\",\"id\":\"p1399\"}}}],\"below\":[{\"type\":\"object\",\"name\":\"DatetimeAxis\",\"id\":\"p1379\",\"attributes\":{\"ticker\":{\"type\":\"object\",\"name\":\"DatetimeTicker\",\"id\":\"p1380\",\"attributes\":{\"num_minor_ticks\":5,\"tickers\":[{\"type\":\"object\",\"name\":\"AdaptiveTicker\",\"id\":\"p1381\",\"attributes\":{\"num_minor_ticks\":0,\"mantissas\":[1,2,5],\"max_interval\":500.0}},{\"type\":\"object\",\"name\":\"AdaptiveTicker\",\"id\":\"p1382\",\"attributes\":{\"num_minor_ticks\":0,\"base\":60,\"mantissas\":[1,2,5,10,15,20,30],\"min_interval\":1000.0,\"max_interval\":1800000.0}},{\"type\":\"object\",\"name\":\"AdaptiveTicker\",\"id\":\"p1383\",\"attributes\":{\"num_minor_ticks\":0,\"base\":24,\"mantissas\":[1,2,4,6,8,12],\"min_interval\":3600000.0,\"max_interval\":43200000.0}},{\"type\":\"object\",\"name\":\"DaysTicker\",\"id\":\"p1384\",\"attributes\":{\"days\":[1,2,3,4,5,6,7,8,9,10,11,12,13,14,15,16,17,18,19,20,21,22,23,24,25,26,27,28,29,30,31]}},{\"type\":\"object\",\"name\":\"DaysTicker\",\"id\":\"p1385\",\"attributes\":{\"days\":[1,4,7,10,13,16,19,22,25,28]}},{\"type\":\"object\",\"name\":\"DaysTicker\",\"id\":\"p1386\",\"attributes\":{\"days\":[1,8,15,22]}},{\"type\":\"object\",\"name\":\"DaysTicker\",\"id\":\"p1387\",\"attributes\":{\"days\":[1,15]}},{\"type\":\"object\",\"name\":\"MonthsTicker\",\"id\":\"p1388\",\"attributes\":{\"months\":[0,1,2,3,4,5,6,7,8,9,10,11]}},{\"type\":\"object\",\"name\":\"MonthsTicker\",\"id\":\"p1389\",\"attributes\":{\"months\":[0,2,4,6,8,10]}},{\"type\":\"object\",\"name\":\"MonthsTicker\",\"id\":\"p1390\",\"attributes\":{\"months\":[0,4,8]}},{\"type\":\"object\",\"name\":\"MonthsTicker\",\"id\":\"p1391\",\"attributes\":{\"months\":[0,6]}},{\"type\":\"object\",\"name\":\"YearsTicker\",\"id\":\"p1392\"}]}},\"formatter\":{\"type\":\"object\",\"name\":\"DatetimeTickFormatter\",\"id\":\"p1393\"},\"axis_label\":\"Date\",\"major_label_policy\":{\"type\":\"object\",\"name\":\"AllLabels\",\"id\":\"p1394\"}}}],\"center\":[{\"type\":\"object\",\"name\":\"Grid\",\"id\":\"p1395\",\"attributes\":{\"axis\":{\"id\":\"p1379\"},\"grid_line_color\":null}},{\"type\":\"object\",\"name\":\"Grid\",\"id\":\"p1400\",\"attributes\":{\"dimension\":1,\"axis\":{\"id\":\"p1396\"},\"grid_line_color\":null}},{\"type\":\"object\",\"name\":\"Legend\",\"id\":\"p1422\",\"attributes\":{\"location\":\"top_left\",\"click_policy\":\"mute\",\"items\":[{\"type\":\"object\",\"name\":\"LegendItem\",\"id\":\"p1423\",\"attributes\":{\"label\":{\"type\":\"value\",\"value\":\"Actual Fraud Charges\"},\"renderers\":[{\"id\":\"p1419\"}]}},{\"type\":\"object\",\"name\":\"LegendItem\",\"id\":\"p1437\",\"attributes\":{\"label\":{\"type\":\"value\",\"value\":\"Forecasted Fraud Charges\"},\"renderers\":[{\"id\":\"p1434\"}]}},{\"type\":\"object\",\"name\":\"LegendItem\",\"id\":\"p1451\",\"attributes\":{\"label\":{\"type\":\"value\",\"value\":\"Uncertainty Interval\"},\"renderers\":[{\"id\":\"p1448\"}]}}]}}],\"min_border_top\":10,\"min_border_bottom\":10,\"min_border_left\":10,\"min_border_right\":10,\"output_backend\":\"webgl\"}},{\"type\":\"object\",\"name\":\"Spacer\",\"id\":\"p1454\",\"attributes\":{\"name\":\"HSpacer02357\",\"stylesheets\":[\"\\n:host(.pn-loading):before, .pn-loading:before {\\n  background-color: #c3c3c3;\\n  mask-size: auto calc(min(50%, 400px));\\n  -webkit-mask-size: auto calc(min(50%, 400px));\\n}\",{\"id\":\"p1352\"},{\"id\":\"p1350\"},{\"id\":\"p1351\"}],\"margin\":0,\"sizing_mode\":\"stretch_width\",\"align\":\"start\"}}]}}],\"defs\":[{\"type\":\"model\",\"name\":\"ReactiveHTML1\"},{\"type\":\"model\",\"name\":\"FlexBox1\",\"properties\":[{\"name\":\"align_content\",\"kind\":\"Any\",\"default\":\"flex-start\"},{\"name\":\"align_items\",\"kind\":\"Any\",\"default\":\"flex-start\"},{\"name\":\"flex_direction\",\"kind\":\"Any\",\"default\":\"row\"},{\"name\":\"flex_wrap\",\"kind\":\"Any\",\"default\":\"wrap\"},{\"name\":\"gap\",\"kind\":\"Any\",\"default\":\"\"},{\"name\":\"justify_content\",\"kind\":\"Any\",\"default\":\"flex-start\"}]},{\"type\":\"model\",\"name\":\"FloatPanel1\",\"properties\":[{\"name\":\"config\",\"kind\":\"Any\",\"default\":{\"type\":\"map\"}},{\"name\":\"contained\",\"kind\":\"Any\",\"default\":true},{\"name\":\"position\",\"kind\":\"Any\",\"default\":\"right-top\"},{\"name\":\"offsetx\",\"kind\":\"Any\",\"default\":null},{\"name\":\"offsety\",\"kind\":\"Any\",\"default\":null},{\"name\":\"theme\",\"kind\":\"Any\",\"default\":\"primary\"},{\"name\":\"status\",\"kind\":\"Any\",\"default\":\"normalized\"}]},{\"type\":\"model\",\"name\":\"GridStack1\",\"properties\":[{\"name\":\"mode\",\"kind\":\"Any\",\"default\":\"warn\"},{\"name\":\"ncols\",\"kind\":\"Any\",\"default\":null},{\"name\":\"nrows\",\"kind\":\"Any\",\"default\":null},{\"name\":\"allow_resize\",\"kind\":\"Any\",\"default\":true},{\"name\":\"allow_drag\",\"kind\":\"Any\",\"default\":true},{\"name\":\"state\",\"kind\":\"Any\",\"default\":[]}]},{\"type\":\"model\",\"name\":\"drag1\",\"properties\":[{\"name\":\"slider_width\",\"kind\":\"Any\",\"default\":5},{\"name\":\"slider_color\",\"kind\":\"Any\",\"default\":\"black\"},{\"name\":\"value\",\"kind\":\"Any\",\"default\":50}]},{\"type\":\"model\",\"name\":\"click1\",\"properties\":[{\"name\":\"terminal_output\",\"kind\":\"Any\",\"default\":\"\"},{\"name\":\"debug_name\",\"kind\":\"Any\",\"default\":\"\"},{\"name\":\"clears\",\"kind\":\"Any\",\"default\":0}]},{\"type\":\"model\",\"name\":\"FastWrapper1\",\"properties\":[{\"name\":\"object\",\"kind\":\"Any\",\"default\":null},{\"name\":\"style\",\"kind\":\"Any\",\"default\":null}]},{\"type\":\"model\",\"name\":\"NotificationAreaBase1\",\"properties\":[{\"name\":\"js_events\",\"kind\":\"Any\",\"default\":{\"type\":\"map\"}},{\"name\":\"position\",\"kind\":\"Any\",\"default\":\"bottom-right\"},{\"name\":\"_clear\",\"kind\":\"Any\",\"default\":0}]},{\"type\":\"model\",\"name\":\"NotificationArea1\",\"properties\":[{\"name\":\"js_events\",\"kind\":\"Any\",\"default\":{\"type\":\"map\"}},{\"name\":\"notifications\",\"kind\":\"Any\",\"default\":[]},{\"name\":\"position\",\"kind\":\"Any\",\"default\":\"bottom-right\"},{\"name\":\"_clear\",\"kind\":\"Any\",\"default\":0},{\"name\":\"types\",\"kind\":\"Any\",\"default\":[{\"type\":\"map\",\"entries\":[[\"type\",\"warning\"],[\"background\",\"#ffc107\"],[\"icon\",{\"type\":\"map\",\"entries\":[[\"className\",\"fas fa-exclamation-triangle\"],[\"tagName\",\"i\"],[\"color\",\"white\"]]}]]},{\"type\":\"map\",\"entries\":[[\"type\",\"info\"],[\"background\",\"#007bff\"],[\"icon\",{\"type\":\"map\",\"entries\":[[\"className\",\"fas fa-info-circle\"],[\"tagName\",\"i\"],[\"color\",\"white\"]]}]]}]}]},{\"type\":\"model\",\"name\":\"Notification\",\"properties\":[{\"name\":\"background\",\"kind\":\"Any\",\"default\":null},{\"name\":\"duration\",\"kind\":\"Any\",\"default\":3000},{\"name\":\"icon\",\"kind\":\"Any\",\"default\":null},{\"name\":\"message\",\"kind\":\"Any\",\"default\":\"\"},{\"name\":\"notification_type\",\"kind\":\"Any\",\"default\":null},{\"name\":\"_destroyed\",\"kind\":\"Any\",\"default\":false}]},{\"type\":\"model\",\"name\":\"TemplateActions1\",\"properties\":[{\"name\":\"open_modal\",\"kind\":\"Any\",\"default\":0},{\"name\":\"close_modal\",\"kind\":\"Any\",\"default\":0}]},{\"type\":\"model\",\"name\":\"BootstrapTemplateActions1\",\"properties\":[{\"name\":\"open_modal\",\"kind\":\"Any\",\"default\":0},{\"name\":\"close_modal\",\"kind\":\"Any\",\"default\":0}]},{\"type\":\"model\",\"name\":\"TemplateEditor1\",\"properties\":[{\"name\":\"layout\",\"kind\":\"Any\",\"default\":[]}]},{\"type\":\"model\",\"name\":\"MaterialTemplateActions1\",\"properties\":[{\"name\":\"open_modal\",\"kind\":\"Any\",\"default\":0},{\"name\":\"close_modal\",\"kind\":\"Any\",\"default\":0}]},{\"type\":\"model\",\"name\":\"copy_to_clipboard1\",\"properties\":[{\"name\":\"fill\",\"kind\":\"Any\",\"default\":\"none\"},{\"name\":\"value\",\"kind\":\"Any\",\"default\":null}]}]}};\n",
       "  var render_items = [{\"docid\":\"c91e8d1f-9632-4c61-979f-524db21b9c25\",\"roots\":{\"p1349\":\"d8eea9ae-c30c-46b2-9e00-a865a7b7856f\"},\"root_ids\":[\"p1349\"]}];\n",
       "  var docs = Object.values(docs_json)\n",
       "  if (!docs) {\n",
       "    return\n",
       "  }\n",
       "  const py_version = docs[0].version.replace('rc', '-rc.').replace('.dev', '-dev.')\n",
       "  async function embed_document(root) {\n",
       "    var Bokeh = get_bokeh(root)\n",
       "    await Bokeh.embed.embed_items_notebook(docs_json, render_items);\n",
       "    for (const render_item of render_items) {\n",
       "      for (const root_id of render_item.root_ids) {\n",
       "\tconst id_el = document.getElementById(root_id)\n",
       "\tif (id_el.children.length && id_el.children[0].hasAttribute('data-root-id')) {\n",
       "\t  const root_el = id_el.children[0]\n",
       "\t  root_el.id = root_el.id + '-rendered'\n",
       "\t  for (const child of root_el.children) {\n",
       "            // Ensure JupyterLab does not capture keyboard shortcuts\n",
       "            // see: https://jupyterlab.readthedocs.io/en/4.1.x/extension/notebook.html#keyboard-interaction-model\n",
       "\t    child.setAttribute('data-lm-suppress-shortcuts', 'true')\n",
       "\t  }\n",
       "\t}\n",
       "      }\n",
       "    }\n",
       "  }\n",
       "  function get_bokeh(root) {\n",
       "    if (root.Bokeh === undefined) {\n",
       "      return null\n",
       "    } else if (root.Bokeh.version !== py_version) {\n",
       "      if (root.Bokeh.versions === undefined || !root.Bokeh.versions.has(py_version)) {\n",
       "\treturn null\n",
       "      }\n",
       "      return root.Bokeh.versions.get(py_version);\n",
       "    } else if (root.Bokeh.version === py_version) {\n",
       "      return root.Bokeh\n",
       "    }\n",
       "    return null\n",
       "  }\n",
       "  function is_loaded(root) {\n",
       "    var Bokeh = get_bokeh(root)\n",
       "    return (Bokeh != null && Bokeh.Panel !== undefined)\n",
       "  }\n",
       "  if (is_loaded(root)) {\n",
       "    embed_document(root);\n",
       "  } else {\n",
       "    var attempts = 0;\n",
       "    var timer = setInterval(function(root) {\n",
       "      if (is_loaded(root)) {\n",
       "        clearInterval(timer);\n",
       "        embed_document(root);\n",
       "      } else if (document.readyState == \"complete\") {\n",
       "        attempts++;\n",
       "        if (attempts > 200) {\n",
       "          clearInterval(timer);\n",
       "\t  var Bokeh = get_bokeh(root)\n",
       "\t  if (Bokeh == null || Bokeh.Panel == null) {\n",
       "            console.warn(\"Panel: ERROR: Unable to run Panel code because Bokeh or Panel library is missing\");\n",
       "\t  } else {\n",
       "\t    console.warn(\"Panel: WARNING: Attempting to render but not all required libraries could be resolved.\")\n",
       "\t    embed_document(root)\n",
       "\t  }\n",
       "        }\n",
       "      }\n",
       "    }, 25, root)\n",
       "  }\n",
       "})(window);</script>"
      ],
      "text/plain": [
       ":Overlay\n",
       "   .Curve.Actual_Fraud_Charges     :Curve   [ds]   (actual_fraud_count)\n",
       "   .Curve.Forecasted_Fraud_Charges :Curve   [ds]   (yhat)\n",
       "   .Area.Uncertainty_Interval      :Area   [ds]   (yhat_lower,yhat_upper)"
      ]
     },
     "execution_count": 22,
     "metadata": {
      "application/vnd.holoviews_exec.v0+json": {
       "id": "p1349"
      }
     },
     "output_type": "execute_result"
    }
   ],
   "source": [
    "# Ensure the 'ds' column in both DataFrames is of datetime type\n",
    "fraud_forecast_monthly['ds'] = pd.to_datetime(fraud_forecast_monthly['ds'])\n",
    "fraud_df_monthly['ds'] = pd.to_datetime(fraud_df_monthly['ds'])\n",
    "\n",
    "# Merge the actual and forecast data\n",
    "combined_df_monthly = pd.merge(\n",
    "    fraud_forecast_monthly[['ds', 'yhat', 'yhat_lower', 'yhat_upper']],\n",
    "    fraud_df_monthly[['ds', 'y']],\n",
    "    on='ds',\n",
    "    how='left'\n",
    ")\n",
    "\n",
    "# Rename the actual fraud column for clarity\n",
    "combined_df_monthly.rename(columns={'y': 'actual_fraud_count'}, inplace=True)\n",
    "\n",
    "\n",
    "# Plotting with hvplot\n",
    "plot_actual3 = combined_df_monthly.hvplot.line(x='ds', y='actual_fraud_count', label='Actual Fraud Charges', color='blue', line_width=2)\n",
    "plot_forecast3 = combined_df_monthly.hvplot.line(x='ds', y='yhat', label='Forecasted Fraud Charges', color='orange', line_width=2)\n",
    "plot_uncertainty3 = combined_df_monthly.hvplot.area(x='ds', y='yhat_lower', y2='yhat_upper', label='Uncertainty Interval', color='orange', alpha=0.3)\n",
    "\n",
    "# Combine all plots\n",
    "final_plot_monthly = plot_actual3 * plot_forecast3 * plot_uncertainty3\n",
    "\n",
    "# Customize plot\n",
    "final_plot_monthly.opts(\n",
    "    title='Fraud Charge Forecasting',\n",
    "    xlabel='Date',\n",
    "    ylabel='Number of Fraud Charges',\n",
    "    legend_position='top_left',\n",
    "    width=1000, \n",
    "    height=600   \n",
    ")\n",
    "\n",
    "# Show the plot\n",
    "final_plot_monthly"
   ]
  }
 ],
 "metadata": {
  "kernelspec": {
   "display_name": "dev",
   "language": "python",
   "name": "python3"
  },
  "language_info": {
   "codemirror_mode": {
    "name": "ipython",
    "version": 3
   },
   "file_extension": ".py",
   "mimetype": "text/x-python",
   "name": "python",
   "nbconvert_exporter": "python",
   "pygments_lexer": "ipython3",
   "version": "3.10.14"
  }
 },
 "nbformat": 4,
 "nbformat_minor": 2
}
