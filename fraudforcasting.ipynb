{
 "cells": [
  {
   "cell_type": "code",
   "execution_count": 1,
   "metadata": {},
   "outputs": [
    {
     "data": {
      "application/javascript": "(function(root) {\n  function now() {\n    return new Date();\n  }\n\n  var force = true;\n  var py_version = '3.4.1'.replace('rc', '-rc.').replace('.dev', '-dev.');\n  var reloading = false;\n  var Bokeh = root.Bokeh;\n\n  if (typeof (root._bokeh_timeout) === \"undefined\" || force) {\n    root._bokeh_timeout = Date.now() + 5000;\n    root._bokeh_failed_load = false;\n  }\n\n  function run_callbacks() {\n    try {\n      root._bokeh_onload_callbacks.forEach(function(callback) {\n        if (callback != null)\n          callback();\n      });\n    } finally {\n      delete root._bokeh_onload_callbacks;\n    }\n    console.debug(\"Bokeh: all callbacks have finished\");\n  }\n\n  function load_libs(css_urls, js_urls, js_modules, js_exports, callback) {\n    if (css_urls == null) css_urls = [];\n    if (js_urls == null) js_urls = [];\n    if (js_modules == null) js_modules = [];\n    if (js_exports == null) js_exports = {};\n\n    root._bokeh_onload_callbacks.push(callback);\n\n    if (root._bokeh_is_loading > 0) {\n      console.debug(\"Bokeh: BokehJS is being loaded, scheduling callback at\", now());\n      return null;\n    }\n    if (js_urls.length === 0 && js_modules.length === 0 && Object.keys(js_exports).length === 0) {\n      run_callbacks();\n      return null;\n    }\n    if (!reloading) {\n      console.debug(\"Bokeh: BokehJS not loaded, scheduling load and callback at\", now());\n    }\n\n    function on_load() {\n      root._bokeh_is_loading--;\n      if (root._bokeh_is_loading === 0) {\n        console.debug(\"Bokeh: all BokehJS libraries/stylesheets loaded\");\n        run_callbacks()\n      }\n    }\n    window._bokeh_on_load = on_load\n\n    function on_error() {\n      console.error(\"failed to load \" + url);\n    }\n\n    var skip = [];\n    if (window.requirejs) {\n      window.requirejs.config({'packages': {}, 'paths': {}, 'shim': {}});\n      root._bokeh_is_loading = css_urls.length + 0;\n    } else {\n      root._bokeh_is_loading = css_urls.length + js_urls.length + js_modules.length + Object.keys(js_exports).length;\n    }\n\n    var existing_stylesheets = []\n    var links = document.getElementsByTagName('link')\n    for (var i = 0; i < links.length; i++) {\n      var link = links[i]\n      if (link.href != null) {\n\texisting_stylesheets.push(link.href)\n      }\n    }\n    for (var i = 0; i < css_urls.length; i++) {\n      var url = css_urls[i];\n      if (existing_stylesheets.indexOf(url) !== -1) {\n\ton_load()\n\tcontinue;\n      }\n      const element = document.createElement(\"link\");\n      element.onload = on_load;\n      element.onerror = on_error;\n      element.rel = \"stylesheet\";\n      element.type = \"text/css\";\n      element.href = url;\n      console.debug(\"Bokeh: injecting link tag for BokehJS stylesheet: \", url);\n      document.body.appendChild(element);\n    }    var existing_scripts = []\n    var scripts = document.getElementsByTagName('script')\n    for (var i = 0; i < scripts.length; i++) {\n      var script = scripts[i]\n      if (script.src != null) {\n\texisting_scripts.push(script.src)\n      }\n    }\n    for (var i = 0; i < js_urls.length; i++) {\n      var url = js_urls[i];\n      if (skip.indexOf(url) !== -1 || existing_scripts.indexOf(url) !== -1) {\n\tif (!window.requirejs) {\n\t  on_load();\n\t}\n\tcontinue;\n      }\n      var element = document.createElement('script');\n      element.onload = on_load;\n      element.onerror = on_error;\n      element.async = false;\n      element.src = url;\n      console.debug(\"Bokeh: injecting script tag for BokehJS library: \", url);\n      document.head.appendChild(element);\n    }\n    for (var i = 0; i < js_modules.length; i++) {\n      var url = js_modules[i];\n      if (skip.indexOf(url) !== -1 || existing_scripts.indexOf(url) !== -1) {\n\tif (!window.requirejs) {\n\t  on_load();\n\t}\n\tcontinue;\n      }\n      var element = document.createElement('script');\n      element.onload = on_load;\n      element.onerror = on_error;\n      element.async = false;\n      element.src = url;\n      element.type = \"module\";\n      console.debug(\"Bokeh: injecting script tag for BokehJS library: \", url);\n      document.head.appendChild(element);\n    }\n    for (const name in js_exports) {\n      var url = js_exports[name];\n      if (skip.indexOf(url) >= 0 || root[name] != null) {\n\tif (!window.requirejs) {\n\t  on_load();\n\t}\n\tcontinue;\n      }\n      var element = document.createElement('script');\n      element.onerror = on_error;\n      element.async = false;\n      element.type = \"module\";\n      console.debug(\"Bokeh: injecting script tag for BokehJS library: \", url);\n      element.textContent = `\n      import ${name} from \"${url}\"\n      window.${name} = ${name}\n      window._bokeh_on_load()\n      `\n      document.head.appendChild(element);\n    }\n    if (!js_urls.length && !js_modules.length) {\n      on_load()\n    }\n  };\n\n  function inject_raw_css(css) {\n    const element = document.createElement(\"style\");\n    element.appendChild(document.createTextNode(css));\n    document.body.appendChild(element);\n  }\n\n  var js_urls = [\"https://cdn.bokeh.org/bokeh/release/bokeh-3.4.1.min.js\", \"https://cdn.bokeh.org/bokeh/release/bokeh-gl-3.4.1.min.js\", \"https://cdn.bokeh.org/bokeh/release/bokeh-widgets-3.4.1.min.js\", \"https://cdn.bokeh.org/bokeh/release/bokeh-tables-3.4.1.min.js\", \"https://cdn.holoviz.org/panel/1.4.4/dist/panel.min.js\"];\n  var js_modules = [];\n  var js_exports = {};\n  var css_urls = [];\n  var inline_js = [    function(Bokeh) {\n      Bokeh.set_log_level(\"info\");\n    },\nfunction(Bokeh) {} // ensure no trailing comma for IE\n  ];\n\n  function run_inline_js() {\n    if ((root.Bokeh !== undefined) || (force === true)) {\n      for (var i = 0; i < inline_js.length; i++) {\n\ttry {\n          inline_js[i].call(root, root.Bokeh);\n\t} catch(e) {\n\t  if (!reloading) {\n\t    throw e;\n\t  }\n\t}\n      }\n      // Cache old bokeh versions\n      if (Bokeh != undefined && !reloading) {\n\tvar NewBokeh = root.Bokeh;\n\tif (Bokeh.versions === undefined) {\n\t  Bokeh.versions = new Map();\n\t}\n\tif (NewBokeh.version !== Bokeh.version) {\n\t  Bokeh.versions.set(NewBokeh.version, NewBokeh)\n\t}\n\troot.Bokeh = Bokeh;\n      }} else if (Date.now() < root._bokeh_timeout) {\n      setTimeout(run_inline_js, 100);\n    } else if (!root._bokeh_failed_load) {\n      console.log(\"Bokeh: BokehJS failed to load within specified timeout.\");\n      root._bokeh_failed_load = true;\n    }\n    root._bokeh_is_initializing = false\n  }\n\n  function load_or_wait() {\n    // Implement a backoff loop that tries to ensure we do not load multiple\n    // versions of Bokeh and its dependencies at the same time.\n    // In recent versions we use the root._bokeh_is_initializing flag\n    // to determine whether there is an ongoing attempt to initialize\n    // bokeh, however for backward compatibility we also try to ensure\n    // that we do not start loading a newer (Panel>=1.0 and Bokeh>3) version\n    // before older versions are fully initialized.\n    if (root._bokeh_is_initializing && Date.now() > root._bokeh_timeout) {\n      root._bokeh_is_initializing = false;\n      root._bokeh_onload_callbacks = undefined;\n      console.log(\"Bokeh: BokehJS was loaded multiple times but one version failed to initialize.\");\n      load_or_wait();\n    } else if (root._bokeh_is_initializing || (typeof root._bokeh_is_initializing === \"undefined\" && root._bokeh_onload_callbacks !== undefined)) {\n      setTimeout(load_or_wait, 100);\n    } else {\n      root._bokeh_is_initializing = true\n      root._bokeh_onload_callbacks = []\n      var bokeh_loaded = Bokeh != null && (Bokeh.version === py_version || (Bokeh.versions !== undefined && Bokeh.versions.has(py_version)));\n      if (!reloading && !bokeh_loaded) {\n\troot.Bokeh = undefined;\n      }\n      load_libs(css_urls, js_urls, js_modules, js_exports, function() {\n\tconsole.debug(\"Bokeh: BokehJS plotting callback run at\", now());\n\trun_inline_js();\n      });\n    }\n  }\n  // Give older versions of the autoload script a head-start to ensure\n  // they initialize before we start loading newer version.\n  setTimeout(load_or_wait, 100)\n}(window));",
      "application/vnd.holoviews_load.v0+json": ""
     },
     "metadata": {},
     "output_type": "display_data"
    },
    {
     "data": {
      "application/javascript": "\nif ((window.PyViz === undefined) || (window.PyViz instanceof HTMLElement)) {\n  window.PyViz = {comms: {}, comm_status:{}, kernels:{}, receivers: {}, plot_index: []}\n}\n\n\n    function JupyterCommManager() {\n    }\n\n    JupyterCommManager.prototype.register_target = function(plot_id, comm_id, msg_handler) {\n      if (window.comm_manager || ((window.Jupyter !== undefined) && (Jupyter.notebook.kernel != null))) {\n        var comm_manager = window.comm_manager || Jupyter.notebook.kernel.comm_manager;\n        comm_manager.register_target(comm_id, function(comm) {\n          comm.on_msg(msg_handler);\n        });\n      } else if ((plot_id in window.PyViz.kernels) && (window.PyViz.kernels[plot_id])) {\n        window.PyViz.kernels[plot_id].registerCommTarget(comm_id, function(comm) {\n          comm.onMsg = msg_handler;\n        });\n      } else if (typeof google != 'undefined' && google.colab.kernel != null) {\n        google.colab.kernel.comms.registerTarget(comm_id, (comm) => {\n          var messages = comm.messages[Symbol.asyncIterator]();\n          function processIteratorResult(result) {\n            var message = result.value;\n            console.log(message)\n            var content = {data: message.data, comm_id};\n            var buffers = []\n            for (var buffer of message.buffers || []) {\n              buffers.push(new DataView(buffer))\n            }\n            var metadata = message.metadata || {};\n            var msg = {content, buffers, metadata}\n            msg_handler(msg);\n            return messages.next().then(processIteratorResult);\n          }\n          return messages.next().then(processIteratorResult);\n        })\n      }\n    }\n\n    JupyterCommManager.prototype.get_client_comm = function(plot_id, comm_id, msg_handler) {\n      if (comm_id in window.PyViz.comms) {\n        return window.PyViz.comms[comm_id];\n      } else if (window.comm_manager || ((window.Jupyter !== undefined) && (Jupyter.notebook.kernel != null))) {\n        var comm_manager = window.comm_manager || Jupyter.notebook.kernel.comm_manager;\n        var comm = comm_manager.new_comm(comm_id, {}, {}, {}, comm_id);\n        if (msg_handler) {\n          comm.on_msg(msg_handler);\n        }\n      } else if ((plot_id in window.PyViz.kernels) && (window.PyViz.kernels[plot_id])) {\n        var comm = window.PyViz.kernels[plot_id].connectToComm(comm_id);\n        comm.open();\n        if (msg_handler) {\n          comm.onMsg = msg_handler;\n        }\n      } else if (typeof google != 'undefined' && google.colab.kernel != null) {\n        var comm_promise = google.colab.kernel.comms.open(comm_id)\n        comm_promise.then((comm) => {\n          window.PyViz.comms[comm_id] = comm;\n          if (msg_handler) {\n            var messages = comm.messages[Symbol.asyncIterator]();\n            function processIteratorResult(result) {\n              var message = result.value;\n              var content = {data: message.data};\n              var metadata = message.metadata || {comm_id};\n              var msg = {content, metadata}\n              msg_handler(msg);\n              return messages.next().then(processIteratorResult);\n            }\n            return messages.next().then(processIteratorResult);\n          }\n        }) \n        var sendClosure = (data, metadata, buffers, disposeOnDone) => {\n          return comm_promise.then((comm) => {\n            comm.send(data, metadata, buffers, disposeOnDone);\n          });\n        };\n        var comm = {\n          send: sendClosure\n        };\n      }\n      window.PyViz.comms[comm_id] = comm;\n      return comm;\n    }\n    window.PyViz.comm_manager = new JupyterCommManager();\n    \n\n\nvar JS_MIME_TYPE = 'application/javascript';\nvar HTML_MIME_TYPE = 'text/html';\nvar EXEC_MIME_TYPE = 'application/vnd.holoviews_exec.v0+json';\nvar CLASS_NAME = 'output';\n\n/**\n * Render data to the DOM node\n */\nfunction render(props, node) {\n  var div = document.createElement(\"div\");\n  var script = document.createElement(\"script\");\n  node.appendChild(div);\n  node.appendChild(script);\n}\n\n/**\n * Handle when a new output is added\n */\nfunction handle_add_output(event, handle) {\n  var output_area = handle.output_area;\n  var output = handle.output;\n  if ((output.data == undefined) || (!output.data.hasOwnProperty(EXEC_MIME_TYPE))) {\n    return\n  }\n  var id = output.metadata[EXEC_MIME_TYPE][\"id\"];\n  var toinsert = output_area.element.find(\".\" + CLASS_NAME.split(' ')[0]);\n  if (id !== undefined) {\n    var nchildren = toinsert.length;\n    var html_node = toinsert[nchildren-1].children[0];\n    html_node.innerHTML = output.data[HTML_MIME_TYPE];\n    var scripts = [];\n    var nodelist = html_node.querySelectorAll(\"script\");\n    for (var i in nodelist) {\n      if (nodelist.hasOwnProperty(i)) {\n        scripts.push(nodelist[i])\n      }\n    }\n\n    scripts.forEach( function (oldScript) {\n      var newScript = document.createElement(\"script\");\n      var attrs = [];\n      var nodemap = oldScript.attributes;\n      for (var j in nodemap) {\n        if (nodemap.hasOwnProperty(j)) {\n          attrs.push(nodemap[j])\n        }\n      }\n      attrs.forEach(function(attr) { newScript.setAttribute(attr.name, attr.value) });\n      newScript.appendChild(document.createTextNode(oldScript.innerHTML));\n      oldScript.parentNode.replaceChild(newScript, oldScript);\n    });\n    if (JS_MIME_TYPE in output.data) {\n      toinsert[nchildren-1].children[1].textContent = output.data[JS_MIME_TYPE];\n    }\n    output_area._hv_plot_id = id;\n    if ((window.Bokeh !== undefined) && (id in Bokeh.index)) {\n      window.PyViz.plot_index[id] = Bokeh.index[id];\n    } else {\n      window.PyViz.plot_index[id] = null;\n    }\n  } else if (output.metadata[EXEC_MIME_TYPE][\"server_id\"] !== undefined) {\n    var bk_div = document.createElement(\"div\");\n    bk_div.innerHTML = output.data[HTML_MIME_TYPE];\n    var script_attrs = bk_div.children[0].attributes;\n    for (var i = 0; i < script_attrs.length; i++) {\n      toinsert[toinsert.length - 1].childNodes[1].setAttribute(script_attrs[i].name, script_attrs[i].value);\n    }\n    // store reference to server id on output_area\n    output_area._bokeh_server_id = output.metadata[EXEC_MIME_TYPE][\"server_id\"];\n  }\n}\n\n/**\n * Handle when an output is cleared or removed\n */\nfunction handle_clear_output(event, handle) {\n  var id = handle.cell.output_area._hv_plot_id;\n  var server_id = handle.cell.output_area._bokeh_server_id;\n  if (((id === undefined) || !(id in PyViz.plot_index)) && (server_id !== undefined)) { return; }\n  var comm = window.PyViz.comm_manager.get_client_comm(\"hv-extension-comm\", \"hv-extension-comm\", function () {});\n  if (server_id !== null) {\n    comm.send({event_type: 'server_delete', 'id': server_id});\n    return;\n  } else if (comm !== null) {\n    comm.send({event_type: 'delete', 'id': id});\n  }\n  delete PyViz.plot_index[id];\n  if ((window.Bokeh !== undefined) & (id in window.Bokeh.index)) {\n    var doc = window.Bokeh.index[id].model.document\n    doc.clear();\n    const i = window.Bokeh.documents.indexOf(doc);\n    if (i > -1) {\n      window.Bokeh.documents.splice(i, 1);\n    }\n  }\n}\n\n/**\n * Handle kernel restart event\n */\nfunction handle_kernel_cleanup(event, handle) {\n  delete PyViz.comms[\"hv-extension-comm\"];\n  window.PyViz.plot_index = {}\n}\n\n/**\n * Handle update_display_data messages\n */\nfunction handle_update_output(event, handle) {\n  handle_clear_output(event, {cell: {output_area: handle.output_area}})\n  handle_add_output(event, handle)\n}\n\nfunction register_renderer(events, OutputArea) {\n  function append_mime(data, metadata, element) {\n    // create a DOM node to render to\n    var toinsert = this.create_output_subarea(\n    metadata,\n    CLASS_NAME,\n    EXEC_MIME_TYPE\n    );\n    this.keyboard_manager.register_events(toinsert);\n    // Render to node\n    var props = {data: data, metadata: metadata[EXEC_MIME_TYPE]};\n    render(props, toinsert[0]);\n    element.append(toinsert);\n    return toinsert\n  }\n\n  events.on('output_added.OutputArea', handle_add_output);\n  events.on('output_updated.OutputArea', handle_update_output);\n  events.on('clear_output.CodeCell', handle_clear_output);\n  events.on('delete.Cell', handle_clear_output);\n  events.on('kernel_ready.Kernel', handle_kernel_cleanup);\n\n  OutputArea.prototype.register_mime_type(EXEC_MIME_TYPE, append_mime, {\n    safe: true,\n    index: 0\n  });\n}\n\nif (window.Jupyter !== undefined) {\n  try {\n    var events = require('base/js/events');\n    var OutputArea = require('notebook/js/outputarea').OutputArea;\n    if (OutputArea.prototype.mime_types().indexOf(EXEC_MIME_TYPE) == -1) {\n      register_renderer(events, OutputArea);\n    }\n  } catch(err) {\n  }\n}\n",
      "application/vnd.holoviews_load.v0+json": ""
     },
     "metadata": {},
     "output_type": "display_data"
    },
    {
     "data": {
      "text/html": [
       "<style>*[data-root-id],\n",
       "*[data-root-id] > * {\n",
       "  box-sizing: border-box;\n",
       "  font-family: var(--jp-ui-font-family);\n",
       "  font-size: var(--jp-ui-font-size1);\n",
       "  color: var(--vscode-editor-foreground, var(--jp-ui-font-color1));\n",
       "}\n",
       "\n",
       "/* Override VSCode background color */\n",
       ".cell-output-ipywidget-background:has(\n",
       "    > .cell-output-ipywidget-background > .lm-Widget > *[data-root-id]\n",
       "  ),\n",
       ".cell-output-ipywidget-background:has(> .lm-Widget > *[data-root-id]) {\n",
       "  background-color: transparent !important;\n",
       "}\n",
       "</style>"
      ]
     },
     "metadata": {},
     "output_type": "display_data"
    },
    {
     "data": {
      "application/vnd.holoviews_exec.v0+json": "",
      "text/html": [
       "<div id='p1002'>\n",
       "  <div id=\"c86cf05f-cff6-4865-a180-a351e172b2d6\" data-root-id=\"p1002\" style=\"display: contents;\"></div>\n",
       "</div>\n",
       "<script type=\"application/javascript\">(function(root) {\n",
       "  var docs_json = {\"32832eb5-859e-40af-ba41-107294159500\":{\"version\":\"3.4.1\",\"title\":\"Bokeh Application\",\"roots\":[{\"type\":\"object\",\"name\":\"panel.models.browser.BrowserInfo\",\"id\":\"p1002\"},{\"type\":\"object\",\"name\":\"panel.models.comm_manager.CommManager\",\"id\":\"p1003\",\"attributes\":{\"plot_id\":\"p1002\",\"comm_id\":\"cc307de5d6b1464ca5ecda177985dd61\",\"client_comm_id\":\"e7c323b4cb184dd1bea197953cab45aa\"}}],\"defs\":[{\"type\":\"model\",\"name\":\"ReactiveHTML1\"},{\"type\":\"model\",\"name\":\"FlexBox1\",\"properties\":[{\"name\":\"align_content\",\"kind\":\"Any\",\"default\":\"flex-start\"},{\"name\":\"align_items\",\"kind\":\"Any\",\"default\":\"flex-start\"},{\"name\":\"flex_direction\",\"kind\":\"Any\",\"default\":\"row\"},{\"name\":\"flex_wrap\",\"kind\":\"Any\",\"default\":\"wrap\"},{\"name\":\"gap\",\"kind\":\"Any\",\"default\":\"\"},{\"name\":\"justify_content\",\"kind\":\"Any\",\"default\":\"flex-start\"}]},{\"type\":\"model\",\"name\":\"FloatPanel1\",\"properties\":[{\"name\":\"config\",\"kind\":\"Any\",\"default\":{\"type\":\"map\"}},{\"name\":\"contained\",\"kind\":\"Any\",\"default\":true},{\"name\":\"position\",\"kind\":\"Any\",\"default\":\"right-top\"},{\"name\":\"offsetx\",\"kind\":\"Any\",\"default\":null},{\"name\":\"offsety\",\"kind\":\"Any\",\"default\":null},{\"name\":\"theme\",\"kind\":\"Any\",\"default\":\"primary\"},{\"name\":\"status\",\"kind\":\"Any\",\"default\":\"normalized\"}]},{\"type\":\"model\",\"name\":\"GridStack1\",\"properties\":[{\"name\":\"mode\",\"kind\":\"Any\",\"default\":\"warn\"},{\"name\":\"ncols\",\"kind\":\"Any\",\"default\":null},{\"name\":\"nrows\",\"kind\":\"Any\",\"default\":null},{\"name\":\"allow_resize\",\"kind\":\"Any\",\"default\":true},{\"name\":\"allow_drag\",\"kind\":\"Any\",\"default\":true},{\"name\":\"state\",\"kind\":\"Any\",\"default\":[]}]},{\"type\":\"model\",\"name\":\"drag1\",\"properties\":[{\"name\":\"slider_width\",\"kind\":\"Any\",\"default\":5},{\"name\":\"slider_color\",\"kind\":\"Any\",\"default\":\"black\"},{\"name\":\"value\",\"kind\":\"Any\",\"default\":50}]},{\"type\":\"model\",\"name\":\"click1\",\"properties\":[{\"name\":\"terminal_output\",\"kind\":\"Any\",\"default\":\"\"},{\"name\":\"debug_name\",\"kind\":\"Any\",\"default\":\"\"},{\"name\":\"clears\",\"kind\":\"Any\",\"default\":0}]},{\"type\":\"model\",\"name\":\"FastWrapper1\",\"properties\":[{\"name\":\"object\",\"kind\":\"Any\",\"default\":null},{\"name\":\"style\",\"kind\":\"Any\",\"default\":null}]},{\"type\":\"model\",\"name\":\"NotificationAreaBase1\",\"properties\":[{\"name\":\"js_events\",\"kind\":\"Any\",\"default\":{\"type\":\"map\"}},{\"name\":\"position\",\"kind\":\"Any\",\"default\":\"bottom-right\"},{\"name\":\"_clear\",\"kind\":\"Any\",\"default\":0}]},{\"type\":\"model\",\"name\":\"NotificationArea1\",\"properties\":[{\"name\":\"js_events\",\"kind\":\"Any\",\"default\":{\"type\":\"map\"}},{\"name\":\"notifications\",\"kind\":\"Any\",\"default\":[]},{\"name\":\"position\",\"kind\":\"Any\",\"default\":\"bottom-right\"},{\"name\":\"_clear\",\"kind\":\"Any\",\"default\":0},{\"name\":\"types\",\"kind\":\"Any\",\"default\":[{\"type\":\"map\",\"entries\":[[\"type\",\"warning\"],[\"background\",\"#ffc107\"],[\"icon\",{\"type\":\"map\",\"entries\":[[\"className\",\"fas fa-exclamation-triangle\"],[\"tagName\",\"i\"],[\"color\",\"white\"]]}]]},{\"type\":\"map\",\"entries\":[[\"type\",\"info\"],[\"background\",\"#007bff\"],[\"icon\",{\"type\":\"map\",\"entries\":[[\"className\",\"fas fa-info-circle\"],[\"tagName\",\"i\"],[\"color\",\"white\"]]}]]}]}]},{\"type\":\"model\",\"name\":\"Notification\",\"properties\":[{\"name\":\"background\",\"kind\":\"Any\",\"default\":null},{\"name\":\"duration\",\"kind\":\"Any\",\"default\":3000},{\"name\":\"icon\",\"kind\":\"Any\",\"default\":null},{\"name\":\"message\",\"kind\":\"Any\",\"default\":\"\"},{\"name\":\"notification_type\",\"kind\":\"Any\",\"default\":null},{\"name\":\"_destroyed\",\"kind\":\"Any\",\"default\":false}]},{\"type\":\"model\",\"name\":\"TemplateActions1\",\"properties\":[{\"name\":\"open_modal\",\"kind\":\"Any\",\"default\":0},{\"name\":\"close_modal\",\"kind\":\"Any\",\"default\":0}]},{\"type\":\"model\",\"name\":\"BootstrapTemplateActions1\",\"properties\":[{\"name\":\"open_modal\",\"kind\":\"Any\",\"default\":0},{\"name\":\"close_modal\",\"kind\":\"Any\",\"default\":0}]},{\"type\":\"model\",\"name\":\"TemplateEditor1\",\"properties\":[{\"name\":\"layout\",\"kind\":\"Any\",\"default\":[]}]},{\"type\":\"model\",\"name\":\"MaterialTemplateActions1\",\"properties\":[{\"name\":\"open_modal\",\"kind\":\"Any\",\"default\":0},{\"name\":\"close_modal\",\"kind\":\"Any\",\"default\":0}]},{\"type\":\"model\",\"name\":\"copy_to_clipboard1\",\"properties\":[{\"name\":\"fill\",\"kind\":\"Any\",\"default\":\"none\"},{\"name\":\"value\",\"kind\":\"Any\",\"default\":null}]}]}};\n",
       "  var render_items = [{\"docid\":\"32832eb5-859e-40af-ba41-107294159500\",\"roots\":{\"p1002\":\"c86cf05f-cff6-4865-a180-a351e172b2d6\"},\"root_ids\":[\"p1002\"]}];\n",
       "  var docs = Object.values(docs_json)\n",
       "  if (!docs) {\n",
       "    return\n",
       "  }\n",
       "  const py_version = docs[0].version.replace('rc', '-rc.').replace('.dev', '-dev.')\n",
       "  async function embed_document(root) {\n",
       "    var Bokeh = get_bokeh(root)\n",
       "    await Bokeh.embed.embed_items_notebook(docs_json, render_items);\n",
       "    for (const render_item of render_items) {\n",
       "      for (const root_id of render_item.root_ids) {\n",
       "\tconst id_el = document.getElementById(root_id)\n",
       "\tif (id_el.children.length && id_el.children[0].hasAttribute('data-root-id')) {\n",
       "\t  const root_el = id_el.children[0]\n",
       "\t  root_el.id = root_el.id + '-rendered'\n",
       "\t  for (const child of root_el.children) {\n",
       "            // Ensure JupyterLab does not capture keyboard shortcuts\n",
       "            // see: https://jupyterlab.readthedocs.io/en/4.1.x/extension/notebook.html#keyboard-interaction-model\n",
       "\t    child.setAttribute('data-lm-suppress-shortcuts', 'true')\n",
       "\t  }\n",
       "\t}\n",
       "      }\n",
       "    }\n",
       "  }\n",
       "  function get_bokeh(root) {\n",
       "    if (root.Bokeh === undefined) {\n",
       "      return null\n",
       "    } else if (root.Bokeh.version !== py_version) {\n",
       "      if (root.Bokeh.versions === undefined || !root.Bokeh.versions.has(py_version)) {\n",
       "\treturn null\n",
       "      }\n",
       "      return root.Bokeh.versions.get(py_version);\n",
       "    } else if (root.Bokeh.version === py_version) {\n",
       "      return root.Bokeh\n",
       "    }\n",
       "    return null\n",
       "  }\n",
       "  function is_loaded(root) {\n",
       "    var Bokeh = get_bokeh(root)\n",
       "    return (Bokeh != null && Bokeh.Panel !== undefined)\n",
       "  }\n",
       "  if (is_loaded(root)) {\n",
       "    embed_document(root);\n",
       "  } else {\n",
       "    var attempts = 0;\n",
       "    var timer = setInterval(function(root) {\n",
       "      if (is_loaded(root)) {\n",
       "        clearInterval(timer);\n",
       "        embed_document(root);\n",
       "      } else if (document.readyState == \"complete\") {\n",
       "        attempts++;\n",
       "        if (attempts > 200) {\n",
       "          clearInterval(timer);\n",
       "\t  var Bokeh = get_bokeh(root)\n",
       "\t  if (Bokeh == null || Bokeh.Panel == null) {\n",
       "            console.warn(\"Panel: ERROR: Unable to run Panel code because Bokeh or Panel library is missing\");\n",
       "\t  } else {\n",
       "\t    console.warn(\"Panel: WARNING: Attempting to render but not all required libraries could be resolved.\")\n",
       "\t    embed_document(root)\n",
       "\t  }\n",
       "        }\n",
       "      }\n",
       "    }, 25, root)\n",
       "  }\n",
       "})(window);</script>"
      ]
     },
     "metadata": {
      "application/vnd.holoviews_exec.v0+json": {
       "id": "p1002"
      }
     },
     "output_type": "display_data"
    },
    {
     "data": {
      "application/javascript": "(function(root) {\n  function now() {\n    return new Date();\n  }\n\n  var force = true;\n  var py_version = '3.4.1'.replace('rc', '-rc.').replace('.dev', '-dev.');\n  var reloading = true;\n  var Bokeh = root.Bokeh;\n\n  if (typeof (root._bokeh_timeout) === \"undefined\" || force) {\n    root._bokeh_timeout = Date.now() + 5000;\n    root._bokeh_failed_load = false;\n  }\n\n  function run_callbacks() {\n    try {\n      root._bokeh_onload_callbacks.forEach(function(callback) {\n        if (callback != null)\n          callback();\n      });\n    } finally {\n      delete root._bokeh_onload_callbacks;\n    }\n    console.debug(\"Bokeh: all callbacks have finished\");\n  }\n\n  function load_libs(css_urls, js_urls, js_modules, js_exports, callback) {\n    if (css_urls == null) css_urls = [];\n    if (js_urls == null) js_urls = [];\n    if (js_modules == null) js_modules = [];\n    if (js_exports == null) js_exports = {};\n\n    root._bokeh_onload_callbacks.push(callback);\n\n    if (root._bokeh_is_loading > 0) {\n      console.debug(\"Bokeh: BokehJS is being loaded, scheduling callback at\", now());\n      return null;\n    }\n    if (js_urls.length === 0 && js_modules.length === 0 && Object.keys(js_exports).length === 0) {\n      run_callbacks();\n      return null;\n    }\n    if (!reloading) {\n      console.debug(\"Bokeh: BokehJS not loaded, scheduling load and callback at\", now());\n    }\n\n    function on_load() {\n      root._bokeh_is_loading--;\n      if (root._bokeh_is_loading === 0) {\n        console.debug(\"Bokeh: all BokehJS libraries/stylesheets loaded\");\n        run_callbacks()\n      }\n    }\n    window._bokeh_on_load = on_load\n\n    function on_error() {\n      console.error(\"failed to load \" + url);\n    }\n\n    var skip = [];\n    if (window.requirejs) {\n      window.requirejs.config({'packages': {}, 'paths': {}, 'shim': {}});\n      root._bokeh_is_loading = css_urls.length + 0;\n    } else {\n      root._bokeh_is_loading = css_urls.length + js_urls.length + js_modules.length + Object.keys(js_exports).length;\n    }\n\n    var existing_stylesheets = []\n    var links = document.getElementsByTagName('link')\n    for (var i = 0; i < links.length; i++) {\n      var link = links[i]\n      if (link.href != null) {\n\texisting_stylesheets.push(link.href)\n      }\n    }\n    for (var i = 0; i < css_urls.length; i++) {\n      var url = css_urls[i];\n      if (existing_stylesheets.indexOf(url) !== -1) {\n\ton_load()\n\tcontinue;\n      }\n      const element = document.createElement(\"link\");\n      element.onload = on_load;\n      element.onerror = on_error;\n      element.rel = \"stylesheet\";\n      element.type = \"text/css\";\n      element.href = url;\n      console.debug(\"Bokeh: injecting link tag for BokehJS stylesheet: \", url);\n      document.body.appendChild(element);\n    }    var existing_scripts = []\n    var scripts = document.getElementsByTagName('script')\n    for (var i = 0; i < scripts.length; i++) {\n      var script = scripts[i]\n      if (script.src != null) {\n\texisting_scripts.push(script.src)\n      }\n    }\n    for (var i = 0; i < js_urls.length; i++) {\n      var url = js_urls[i];\n      if (skip.indexOf(url) !== -1 || existing_scripts.indexOf(url) !== -1) {\n\tif (!window.requirejs) {\n\t  on_load();\n\t}\n\tcontinue;\n      }\n      var element = document.createElement('script');\n      element.onload = on_load;\n      element.onerror = on_error;\n      element.async = false;\n      element.src = url;\n      console.debug(\"Bokeh: injecting script tag for BokehJS library: \", url);\n      document.head.appendChild(element);\n    }\n    for (var i = 0; i < js_modules.length; i++) {\n      var url = js_modules[i];\n      if (skip.indexOf(url) !== -1 || existing_scripts.indexOf(url) !== -1) {\n\tif (!window.requirejs) {\n\t  on_load();\n\t}\n\tcontinue;\n      }\n      var element = document.createElement('script');\n      element.onload = on_load;\n      element.onerror = on_error;\n      element.async = false;\n      element.src = url;\n      element.type = \"module\";\n      console.debug(\"Bokeh: injecting script tag for BokehJS library: \", url);\n      document.head.appendChild(element);\n    }\n    for (const name in js_exports) {\n      var url = js_exports[name];\n      if (skip.indexOf(url) >= 0 || root[name] != null) {\n\tif (!window.requirejs) {\n\t  on_load();\n\t}\n\tcontinue;\n      }\n      var element = document.createElement('script');\n      element.onerror = on_error;\n      element.async = false;\n      element.type = \"module\";\n      console.debug(\"Bokeh: injecting script tag for BokehJS library: \", url);\n      element.textContent = `\n      import ${name} from \"${url}\"\n      window.${name} = ${name}\n      window._bokeh_on_load()\n      `\n      document.head.appendChild(element);\n    }\n    if (!js_urls.length && !js_modules.length) {\n      on_load()\n    }\n  };\n\n  function inject_raw_css(css) {\n    const element = document.createElement(\"style\");\n    element.appendChild(document.createTextNode(css));\n    document.body.appendChild(element);\n  }\n\n  var js_urls = [];\n  var js_modules = [];\n  var js_exports = {};\n  var css_urls = [];\n  var inline_js = [    function(Bokeh) {\n      Bokeh.set_log_level(\"info\");\n    },\nfunction(Bokeh) {} // ensure no trailing comma for IE\n  ];\n\n  function run_inline_js() {\n    if ((root.Bokeh !== undefined) || (force === true)) {\n      for (var i = 0; i < inline_js.length; i++) {\n\ttry {\n          inline_js[i].call(root, root.Bokeh);\n\t} catch(e) {\n\t  if (!reloading) {\n\t    throw e;\n\t  }\n\t}\n      }\n      // Cache old bokeh versions\n      if (Bokeh != undefined && !reloading) {\n\tvar NewBokeh = root.Bokeh;\n\tif (Bokeh.versions === undefined) {\n\t  Bokeh.versions = new Map();\n\t}\n\tif (NewBokeh.version !== Bokeh.version) {\n\t  Bokeh.versions.set(NewBokeh.version, NewBokeh)\n\t}\n\troot.Bokeh = Bokeh;\n      }} else if (Date.now() < root._bokeh_timeout) {\n      setTimeout(run_inline_js, 100);\n    } else if (!root._bokeh_failed_load) {\n      console.log(\"Bokeh: BokehJS failed to load within specified timeout.\");\n      root._bokeh_failed_load = true;\n    }\n    root._bokeh_is_initializing = false\n  }\n\n  function load_or_wait() {\n    // Implement a backoff loop that tries to ensure we do not load multiple\n    // versions of Bokeh and its dependencies at the same time.\n    // In recent versions we use the root._bokeh_is_initializing flag\n    // to determine whether there is an ongoing attempt to initialize\n    // bokeh, however for backward compatibility we also try to ensure\n    // that we do not start loading a newer (Panel>=1.0 and Bokeh>3) version\n    // before older versions are fully initialized.\n    if (root._bokeh_is_initializing && Date.now() > root._bokeh_timeout) {\n      root._bokeh_is_initializing = false;\n      root._bokeh_onload_callbacks = undefined;\n      console.log(\"Bokeh: BokehJS was loaded multiple times but one version failed to initialize.\");\n      load_or_wait();\n    } else if (root._bokeh_is_initializing || (typeof root._bokeh_is_initializing === \"undefined\" && root._bokeh_onload_callbacks !== undefined)) {\n      setTimeout(load_or_wait, 100);\n    } else {\n      root._bokeh_is_initializing = true\n      root._bokeh_onload_callbacks = []\n      var bokeh_loaded = Bokeh != null && (Bokeh.version === py_version || (Bokeh.versions !== undefined && Bokeh.versions.has(py_version)));\n      if (!reloading && !bokeh_loaded) {\n\troot.Bokeh = undefined;\n      }\n      load_libs(css_urls, js_urls, js_modules, js_exports, function() {\n\tconsole.debug(\"Bokeh: BokehJS plotting callback run at\", now());\n\trun_inline_js();\n      });\n    }\n  }\n  // Give older versions of the autoload script a head-start to ensure\n  // they initialize before we start loading newer version.\n  setTimeout(load_or_wait, 100)\n}(window));",
      "application/vnd.holoviews_load.v0+json": ""
     },
     "metadata": {},
     "output_type": "display_data"
    },
    {
     "data": {
      "application/javascript": "\nif ((window.PyViz === undefined) || (window.PyViz instanceof HTMLElement)) {\n  window.PyViz = {comms: {}, comm_status:{}, kernels:{}, receivers: {}, plot_index: []}\n}\n\n\n    function JupyterCommManager() {\n    }\n\n    JupyterCommManager.prototype.register_target = function(plot_id, comm_id, msg_handler) {\n      if (window.comm_manager || ((window.Jupyter !== undefined) && (Jupyter.notebook.kernel != null))) {\n        var comm_manager = window.comm_manager || Jupyter.notebook.kernel.comm_manager;\n        comm_manager.register_target(comm_id, function(comm) {\n          comm.on_msg(msg_handler);\n        });\n      } else if ((plot_id in window.PyViz.kernels) && (window.PyViz.kernels[plot_id])) {\n        window.PyViz.kernels[plot_id].registerCommTarget(comm_id, function(comm) {\n          comm.onMsg = msg_handler;\n        });\n      } else if (typeof google != 'undefined' && google.colab.kernel != null) {\n        google.colab.kernel.comms.registerTarget(comm_id, (comm) => {\n          var messages = comm.messages[Symbol.asyncIterator]();\n          function processIteratorResult(result) {\n            var message = result.value;\n            console.log(message)\n            var content = {data: message.data, comm_id};\n            var buffers = []\n            for (var buffer of message.buffers || []) {\n              buffers.push(new DataView(buffer))\n            }\n            var metadata = message.metadata || {};\n            var msg = {content, buffers, metadata}\n            msg_handler(msg);\n            return messages.next().then(processIteratorResult);\n          }\n          return messages.next().then(processIteratorResult);\n        })\n      }\n    }\n\n    JupyterCommManager.prototype.get_client_comm = function(plot_id, comm_id, msg_handler) {\n      if (comm_id in window.PyViz.comms) {\n        return window.PyViz.comms[comm_id];\n      } else if (window.comm_manager || ((window.Jupyter !== undefined) && (Jupyter.notebook.kernel != null))) {\n        var comm_manager = window.comm_manager || Jupyter.notebook.kernel.comm_manager;\n        var comm = comm_manager.new_comm(comm_id, {}, {}, {}, comm_id);\n        if (msg_handler) {\n          comm.on_msg(msg_handler);\n        }\n      } else if ((plot_id in window.PyViz.kernels) && (window.PyViz.kernels[plot_id])) {\n        var comm = window.PyViz.kernels[plot_id].connectToComm(comm_id);\n        comm.open();\n        if (msg_handler) {\n          comm.onMsg = msg_handler;\n        }\n      } else if (typeof google != 'undefined' && google.colab.kernel != null) {\n        var comm_promise = google.colab.kernel.comms.open(comm_id)\n        comm_promise.then((comm) => {\n          window.PyViz.comms[comm_id] = comm;\n          if (msg_handler) {\n            var messages = comm.messages[Symbol.asyncIterator]();\n            function processIteratorResult(result) {\n              var message = result.value;\n              var content = {data: message.data};\n              var metadata = message.metadata || {comm_id};\n              var msg = {content, metadata}\n              msg_handler(msg);\n              return messages.next().then(processIteratorResult);\n            }\n            return messages.next().then(processIteratorResult);\n          }\n        }) \n        var sendClosure = (data, metadata, buffers, disposeOnDone) => {\n          return comm_promise.then((comm) => {\n            comm.send(data, metadata, buffers, disposeOnDone);\n          });\n        };\n        var comm = {\n          send: sendClosure\n        };\n      }\n      window.PyViz.comms[comm_id] = comm;\n      return comm;\n    }\n    window.PyViz.comm_manager = new JupyterCommManager();\n    \n\n\nvar JS_MIME_TYPE = 'application/javascript';\nvar HTML_MIME_TYPE = 'text/html';\nvar EXEC_MIME_TYPE = 'application/vnd.holoviews_exec.v0+json';\nvar CLASS_NAME = 'output';\n\n/**\n * Render data to the DOM node\n */\nfunction render(props, node) {\n  var div = document.createElement(\"div\");\n  var script = document.createElement(\"script\");\n  node.appendChild(div);\n  node.appendChild(script);\n}\n\n/**\n * Handle when a new output is added\n */\nfunction handle_add_output(event, handle) {\n  var output_area = handle.output_area;\n  var output = handle.output;\n  if ((output.data == undefined) || (!output.data.hasOwnProperty(EXEC_MIME_TYPE))) {\n    return\n  }\n  var id = output.metadata[EXEC_MIME_TYPE][\"id\"];\n  var toinsert = output_area.element.find(\".\" + CLASS_NAME.split(' ')[0]);\n  if (id !== undefined) {\n    var nchildren = toinsert.length;\n    var html_node = toinsert[nchildren-1].children[0];\n    html_node.innerHTML = output.data[HTML_MIME_TYPE];\n    var scripts = [];\n    var nodelist = html_node.querySelectorAll(\"script\");\n    for (var i in nodelist) {\n      if (nodelist.hasOwnProperty(i)) {\n        scripts.push(nodelist[i])\n      }\n    }\n\n    scripts.forEach( function (oldScript) {\n      var newScript = document.createElement(\"script\");\n      var attrs = [];\n      var nodemap = oldScript.attributes;\n      for (var j in nodemap) {\n        if (nodemap.hasOwnProperty(j)) {\n          attrs.push(nodemap[j])\n        }\n      }\n      attrs.forEach(function(attr) { newScript.setAttribute(attr.name, attr.value) });\n      newScript.appendChild(document.createTextNode(oldScript.innerHTML));\n      oldScript.parentNode.replaceChild(newScript, oldScript);\n    });\n    if (JS_MIME_TYPE in output.data) {\n      toinsert[nchildren-1].children[1].textContent = output.data[JS_MIME_TYPE];\n    }\n    output_area._hv_plot_id = id;\n    if ((window.Bokeh !== undefined) && (id in Bokeh.index)) {\n      window.PyViz.plot_index[id] = Bokeh.index[id];\n    } else {\n      window.PyViz.plot_index[id] = null;\n    }\n  } else if (output.metadata[EXEC_MIME_TYPE][\"server_id\"] !== undefined) {\n    var bk_div = document.createElement(\"div\");\n    bk_div.innerHTML = output.data[HTML_MIME_TYPE];\n    var script_attrs = bk_div.children[0].attributes;\n    for (var i = 0; i < script_attrs.length; i++) {\n      toinsert[toinsert.length - 1].childNodes[1].setAttribute(script_attrs[i].name, script_attrs[i].value);\n    }\n    // store reference to server id on output_area\n    output_area._bokeh_server_id = output.metadata[EXEC_MIME_TYPE][\"server_id\"];\n  }\n}\n\n/**\n * Handle when an output is cleared or removed\n */\nfunction handle_clear_output(event, handle) {\n  var id = handle.cell.output_area._hv_plot_id;\n  var server_id = handle.cell.output_area._bokeh_server_id;\n  if (((id === undefined) || !(id in PyViz.plot_index)) && (server_id !== undefined)) { return; }\n  var comm = window.PyViz.comm_manager.get_client_comm(\"hv-extension-comm\", \"hv-extension-comm\", function () {});\n  if (server_id !== null) {\n    comm.send({event_type: 'server_delete', 'id': server_id});\n    return;\n  } else if (comm !== null) {\n    comm.send({event_type: 'delete', 'id': id});\n  }\n  delete PyViz.plot_index[id];\n  if ((window.Bokeh !== undefined) & (id in window.Bokeh.index)) {\n    var doc = window.Bokeh.index[id].model.document\n    doc.clear();\n    const i = window.Bokeh.documents.indexOf(doc);\n    if (i > -1) {\n      window.Bokeh.documents.splice(i, 1);\n    }\n  }\n}\n\n/**\n * Handle kernel restart event\n */\nfunction handle_kernel_cleanup(event, handle) {\n  delete PyViz.comms[\"hv-extension-comm\"];\n  window.PyViz.plot_index = {}\n}\n\n/**\n * Handle update_display_data messages\n */\nfunction handle_update_output(event, handle) {\n  handle_clear_output(event, {cell: {output_area: handle.output_area}})\n  handle_add_output(event, handle)\n}\n\nfunction register_renderer(events, OutputArea) {\n  function append_mime(data, metadata, element) {\n    // create a DOM node to render to\n    var toinsert = this.create_output_subarea(\n    metadata,\n    CLASS_NAME,\n    EXEC_MIME_TYPE\n    );\n    this.keyboard_manager.register_events(toinsert);\n    // Render to node\n    var props = {data: data, metadata: metadata[EXEC_MIME_TYPE]};\n    render(props, toinsert[0]);\n    element.append(toinsert);\n    return toinsert\n  }\n\n  events.on('output_added.OutputArea', handle_add_output);\n  events.on('output_updated.OutputArea', handle_update_output);\n  events.on('clear_output.CodeCell', handle_clear_output);\n  events.on('delete.Cell', handle_clear_output);\n  events.on('kernel_ready.Kernel', handle_kernel_cleanup);\n\n  OutputArea.prototype.register_mime_type(EXEC_MIME_TYPE, append_mime, {\n    safe: true,\n    index: 0\n  });\n}\n\nif (window.Jupyter !== undefined) {\n  try {\n    var events = require('base/js/events');\n    var OutputArea = require('notebook/js/outputarea').OutputArea;\n    if (OutputArea.prototype.mime_types().indexOf(EXEC_MIME_TYPE) == -1) {\n      register_renderer(events, OutputArea);\n    }\n  } catch(err) {\n  }\n}\n",
      "application/vnd.holoviews_load.v0+json": ""
     },
     "metadata": {},
     "output_type": "display_data"
    },
    {
     "data": {
      "text/html": [
       "<style>*[data-root-id],\n",
       "*[data-root-id] > * {\n",
       "  box-sizing: border-box;\n",
       "  font-family: var(--jp-ui-font-family);\n",
       "  font-size: var(--jp-ui-font-size1);\n",
       "  color: var(--vscode-editor-foreground, var(--jp-ui-font-color1));\n",
       "}\n",
       "\n",
       "/* Override VSCode background color */\n",
       ".cell-output-ipywidget-background:has(\n",
       "    > .cell-output-ipywidget-background > .lm-Widget > *[data-root-id]\n",
       "  ),\n",
       ".cell-output-ipywidget-background:has(> .lm-Widget > *[data-root-id]) {\n",
       "  background-color: transparent !important;\n",
       "}\n",
       "</style>"
      ]
     },
     "metadata": {},
     "output_type": "display_data"
    }
   ],
   "source": [
    "import pandas as pd\n",
    "from prophet import Prophet\n",
    "import matplotlib.pyplot as plt\n",
    "import seaborn as sns\n",
    "from pathlib import Path\n",
    "import os\n",
    "import numpy as np\n",
    "import datetime as dt\n",
    "import hvplot.pandas\n",
    "import plotly.express as px\n",
    "from plotly.subplots import make_subplots\n",
    "import plotly.graph_objects as go\n",
    "from scipy.stats import linregress\n",
    "import holoviews as hv\n",
    "hv.extension('bokeh')\n",
    "from bokeh.models import NumeralTickFormatter\n",
    "from prophet import Prophet\n",
    "from neuralprophet import NeuralProphet\n",
    "import pmdarima as pm"
   ]
  },
  {
   "cell_type": "code",
   "execution_count": 2,
   "metadata": {},
   "outputs": [
    {
     "data": {
      "text/html": [
       "<div>\n",
       "<style scoped>\n",
       "    .dataframe tbody tr th:only-of-type {\n",
       "        vertical-align: middle;\n",
       "    }\n",
       "\n",
       "    .dataframe tbody tr th {\n",
       "        vertical-align: top;\n",
       "    }\n",
       "\n",
       "    .dataframe thead th {\n",
       "        text-align: right;\n",
       "    }\n",
       "</style>\n",
       "<table border=\"1\" class=\"dataframe\">\n",
       "  <thead>\n",
       "    <tr style=\"text-align: right;\">\n",
       "      <th></th>\n",
       "      <th>Unnamed: 0</th>\n",
       "      <th>trans_date_trans_time</th>\n",
       "      <th>cc_num</th>\n",
       "      <th>merchant</th>\n",
       "      <th>category</th>\n",
       "      <th>amt</th>\n",
       "      <th>first</th>\n",
       "      <th>last</th>\n",
       "      <th>gender</th>\n",
       "      <th>street</th>\n",
       "      <th>...</th>\n",
       "      <th>long</th>\n",
       "      <th>city_pop</th>\n",
       "      <th>job</th>\n",
       "      <th>dob</th>\n",
       "      <th>trans_num</th>\n",
       "      <th>unix_time</th>\n",
       "      <th>merch_lat</th>\n",
       "      <th>merch_long</th>\n",
       "      <th>is_fraud</th>\n",
       "      <th>merch_zipcode</th>\n",
       "    </tr>\n",
       "  </thead>\n",
       "  <tbody>\n",
       "    <tr>\n",
       "      <th>0</th>\n",
       "      <td>0</td>\n",
       "      <td>2019-01-01 00:00:18</td>\n",
       "      <td>2703186189652095</td>\n",
       "      <td>fraud_Rippin, Kub and Mann</td>\n",
       "      <td>misc_net</td>\n",
       "      <td>4.97</td>\n",
       "      <td>Jennifer</td>\n",
       "      <td>Banks</td>\n",
       "      <td>F</td>\n",
       "      <td>561 Perry Cove</td>\n",
       "      <td>...</td>\n",
       "      <td>-81.1781</td>\n",
       "      <td>3495</td>\n",
       "      <td>Psychologist, counselling</td>\n",
       "      <td>1988-03-09</td>\n",
       "      <td>0b242abb623afc578575680df30655b9</td>\n",
       "      <td>1325376018</td>\n",
       "      <td>36.011293</td>\n",
       "      <td>-82.048315</td>\n",
       "      <td>0</td>\n",
       "      <td>28705.0</td>\n",
       "    </tr>\n",
       "    <tr>\n",
       "      <th>1</th>\n",
       "      <td>1</td>\n",
       "      <td>2019-01-01 00:00:44</td>\n",
       "      <td>630423337322</td>\n",
       "      <td>fraud_Heller, Gutmann and Zieme</td>\n",
       "      <td>grocery_pos</td>\n",
       "      <td>107.23</td>\n",
       "      <td>Stephanie</td>\n",
       "      <td>Gill</td>\n",
       "      <td>F</td>\n",
       "      <td>43039 Riley Greens Suite 393</td>\n",
       "      <td>...</td>\n",
       "      <td>-118.2105</td>\n",
       "      <td>149</td>\n",
       "      <td>Special educational needs teacher</td>\n",
       "      <td>1978-06-21</td>\n",
       "      <td>1f76529f8574734946361c461b024d99</td>\n",
       "      <td>1325376044</td>\n",
       "      <td>49.159047</td>\n",
       "      <td>-118.186462</td>\n",
       "      <td>0</td>\n",
       "      <td>NaN</td>\n",
       "    </tr>\n",
       "    <tr>\n",
       "      <th>2</th>\n",
       "      <td>2</td>\n",
       "      <td>2019-01-01 00:00:51</td>\n",
       "      <td>38859492057661</td>\n",
       "      <td>fraud_Lind-Buckridge</td>\n",
       "      <td>entertainment</td>\n",
       "      <td>220.11</td>\n",
       "      <td>Edward</td>\n",
       "      <td>Sanchez</td>\n",
       "      <td>M</td>\n",
       "      <td>594 White Dale Suite 530</td>\n",
       "      <td>...</td>\n",
       "      <td>-112.2620</td>\n",
       "      <td>4154</td>\n",
       "      <td>Nature conservation officer</td>\n",
       "      <td>1962-01-19</td>\n",
       "      <td>a1a22d70485983eac12b5b88dad1cf95</td>\n",
       "      <td>1325376051</td>\n",
       "      <td>43.150704</td>\n",
       "      <td>-112.154481</td>\n",
       "      <td>0</td>\n",
       "      <td>83236.0</td>\n",
       "    </tr>\n",
       "    <tr>\n",
       "      <th>3</th>\n",
       "      <td>3</td>\n",
       "      <td>2019-01-01 00:01:16</td>\n",
       "      <td>3534093764340240</td>\n",
       "      <td>fraud_Kutch, Hermiston and Farrell</td>\n",
       "      <td>gas_transport</td>\n",
       "      <td>45.00</td>\n",
       "      <td>Jeremy</td>\n",
       "      <td>White</td>\n",
       "      <td>M</td>\n",
       "      <td>9443 Cynthia Court Apt. 038</td>\n",
       "      <td>...</td>\n",
       "      <td>-112.1138</td>\n",
       "      <td>1939</td>\n",
       "      <td>Patent attorney</td>\n",
       "      <td>1967-01-12</td>\n",
       "      <td>6b849c168bdad6f867558c3793159a81</td>\n",
       "      <td>1325376076</td>\n",
       "      <td>47.034331</td>\n",
       "      <td>-112.561071</td>\n",
       "      <td>0</td>\n",
       "      <td>NaN</td>\n",
       "    </tr>\n",
       "    <tr>\n",
       "      <th>4</th>\n",
       "      <td>4</td>\n",
       "      <td>2019-01-01 00:03:06</td>\n",
       "      <td>375534208663984</td>\n",
       "      <td>fraud_Keeling-Crist</td>\n",
       "      <td>misc_pos</td>\n",
       "      <td>41.96</td>\n",
       "      <td>Tyler</td>\n",
       "      <td>Garcia</td>\n",
       "      <td>M</td>\n",
       "      <td>408 Bradley Rest</td>\n",
       "      <td>...</td>\n",
       "      <td>-79.4629</td>\n",
       "      <td>99</td>\n",
       "      <td>Dance movement psychotherapist</td>\n",
       "      <td>1986-03-28</td>\n",
       "      <td>a41d7549acf90789359a9aa5346dcb46</td>\n",
       "      <td>1325376186</td>\n",
       "      <td>38.674999</td>\n",
       "      <td>-78.632459</td>\n",
       "      <td>0</td>\n",
       "      <td>22844.0</td>\n",
       "    </tr>\n",
       "  </tbody>\n",
       "</table>\n",
       "<p>5 rows × 24 columns</p>\n",
       "</div>"
      ],
      "text/plain": [
       "   Unnamed: 0 trans_date_trans_time            cc_num  \\\n",
       "0           0   2019-01-01 00:00:18  2703186189652095   \n",
       "1           1   2019-01-01 00:00:44      630423337322   \n",
       "2           2   2019-01-01 00:00:51    38859492057661   \n",
       "3           3   2019-01-01 00:01:16  3534093764340240   \n",
       "4           4   2019-01-01 00:03:06   375534208663984   \n",
       "\n",
       "                             merchant       category     amt      first  \\\n",
       "0          fraud_Rippin, Kub and Mann       misc_net    4.97   Jennifer   \n",
       "1     fraud_Heller, Gutmann and Zieme    grocery_pos  107.23  Stephanie   \n",
       "2                fraud_Lind-Buckridge  entertainment  220.11     Edward   \n",
       "3  fraud_Kutch, Hermiston and Farrell  gas_transport   45.00     Jeremy   \n",
       "4                 fraud_Keeling-Crist       misc_pos   41.96      Tyler   \n",
       "\n",
       "      last gender                        street  ...      long city_pop  \\\n",
       "0    Banks      F                561 Perry Cove  ...  -81.1781     3495   \n",
       "1     Gill      F  43039 Riley Greens Suite 393  ... -118.2105      149   \n",
       "2  Sanchez      M      594 White Dale Suite 530  ... -112.2620     4154   \n",
       "3    White      M   9443 Cynthia Court Apt. 038  ... -112.1138     1939   \n",
       "4   Garcia      M              408 Bradley Rest  ...  -79.4629       99   \n",
       "\n",
       "                                 job         dob  \\\n",
       "0          Psychologist, counselling  1988-03-09   \n",
       "1  Special educational needs teacher  1978-06-21   \n",
       "2        Nature conservation officer  1962-01-19   \n",
       "3                    Patent attorney  1967-01-12   \n",
       "4     Dance movement psychotherapist  1986-03-28   \n",
       "\n",
       "                          trans_num   unix_time  merch_lat  merch_long  \\\n",
       "0  0b242abb623afc578575680df30655b9  1325376018  36.011293  -82.048315   \n",
       "1  1f76529f8574734946361c461b024d99  1325376044  49.159047 -118.186462   \n",
       "2  a1a22d70485983eac12b5b88dad1cf95  1325376051  43.150704 -112.154481   \n",
       "3  6b849c168bdad6f867558c3793159a81  1325376076  47.034331 -112.561071   \n",
       "4  a41d7549acf90789359a9aa5346dcb46  1325376186  38.674999  -78.632459   \n",
       "\n",
       "  is_fraud  merch_zipcode  \n",
       "0        0        28705.0  \n",
       "1        0            NaN  \n",
       "2        0        83236.0  \n",
       "3        0            NaN  \n",
       "4        0        22844.0  \n",
       "\n",
       "[5 rows x 24 columns]"
      ]
     },
     "execution_count": 2,
     "metadata": {},
     "output_type": "execute_result"
    }
   ],
   "source": [
    "df2 = pd.read_csv('Resources/credit_card_transactions.csv')\n",
    "df2.head()"
   ]
  },
  {
   "cell_type": "code",
   "execution_count": 3,
   "metadata": {},
   "outputs": [
    {
     "name": "stdout",
     "output_type": "stream",
     "text": [
      "<class 'pandas.core.frame.DataFrame'>\n",
      "RangeIndex: 1296675 entries, 0 to 1296674\n",
      "Data columns (total 24 columns):\n",
      " #   Column                 Non-Null Count    Dtype              \n",
      "---  ------                 --------------    -----              \n",
      " 0   Unnamed: 0             1296675 non-null  int64              \n",
      " 1   trans_date_trans_time  1296675 non-null  datetime64[ns, UTC]\n",
      " 2   cc_num                 1296675 non-null  int64              \n",
      " 3   merchant               1296675 non-null  object             \n",
      " 4   category               1296675 non-null  object             \n",
      " 5   amt                    1296675 non-null  float64            \n",
      " 6   first                  1296675 non-null  object             \n",
      " 7   last                   1296675 non-null  object             \n",
      " 8   gender                 1296675 non-null  object             \n",
      " 9   street                 1296675 non-null  object             \n",
      " 10  city                   1296675 non-null  object             \n",
      " 11  state                  1296675 non-null  object             \n",
      " 12  zip                    1296675 non-null  int64              \n",
      " 13  lat                    1296675 non-null  float64            \n",
      " 14  long                   1296675 non-null  float64            \n",
      " 15  city_pop               1296675 non-null  int64              \n",
      " 16  job                    1296675 non-null  object             \n",
      " 17  dob                    1296675 non-null  object             \n",
      " 18  trans_num              1296675 non-null  object             \n",
      " 19  unix_time              1296675 non-null  int64              \n",
      " 20  merch_lat              1296675 non-null  float64            \n",
      " 21  merch_long             1296675 non-null  float64            \n",
      " 22  is_fraud               1296675 non-null  int64              \n",
      " 23  merch_zipcode          1100702 non-null  float64            \n",
      "dtypes: datetime64[ns, UTC](1), float64(6), int64(6), object(11)\n",
      "memory usage: 237.4+ MB\n"
     ]
    }
   ],
   "source": [
    "df2[\"trans_date_trans_time\"] = pd.to_datetime(df2[\"trans_date_trans_time\"], utc=True)\n",
    "df2.info()"
   ]
  },
  {
   "cell_type": "code",
   "execution_count": 4,
   "metadata": {},
   "outputs": [
    {
     "data": {
      "text/html": [
       "<div>\n",
       "<style scoped>\n",
       "    .dataframe tbody tr th:only-of-type {\n",
       "        vertical-align: middle;\n",
       "    }\n",
       "\n",
       "    .dataframe tbody tr th {\n",
       "        vertical-align: top;\n",
       "    }\n",
       "\n",
       "    .dataframe thead th {\n",
       "        text-align: right;\n",
       "    }\n",
       "</style>\n",
       "<table border=\"1\" class=\"dataframe\">\n",
       "  <thead>\n",
       "    <tr style=\"text-align: right;\">\n",
       "      <th></th>\n",
       "      <th>Unnamed: 0</th>\n",
       "      <th>trans_date_trans_time</th>\n",
       "      <th>cc_num</th>\n",
       "      <th>merchant</th>\n",
       "      <th>category</th>\n",
       "      <th>amt</th>\n",
       "      <th>first</th>\n",
       "      <th>last</th>\n",
       "      <th>gender</th>\n",
       "      <th>street</th>\n",
       "      <th>...</th>\n",
       "      <th>trans_num</th>\n",
       "      <th>unix_time</th>\n",
       "      <th>merch_lat</th>\n",
       "      <th>merch_long</th>\n",
       "      <th>is_fraud</th>\n",
       "      <th>merch_zipcode</th>\n",
       "      <th>trans_date</th>\n",
       "      <th>trans_year</th>\n",
       "      <th>trans_month</th>\n",
       "      <th>trans_day</th>\n",
       "    </tr>\n",
       "  </thead>\n",
       "  <tbody>\n",
       "    <tr>\n",
       "      <th>0</th>\n",
       "      <td>0</td>\n",
       "      <td>2019-01-01 00:00:18+00:00</td>\n",
       "      <td>2703186189652095</td>\n",
       "      <td>fraud_Rippin, Kub and Mann</td>\n",
       "      <td>misc_net</td>\n",
       "      <td>4.97</td>\n",
       "      <td>Jennifer</td>\n",
       "      <td>Banks</td>\n",
       "      <td>F</td>\n",
       "      <td>561 Perry Cove</td>\n",
       "      <td>...</td>\n",
       "      <td>0b242abb623afc578575680df30655b9</td>\n",
       "      <td>1325376018</td>\n",
       "      <td>36.011293</td>\n",
       "      <td>-82.048315</td>\n",
       "      <td>0</td>\n",
       "      <td>28705.0</td>\n",
       "      <td>2019-01-01</td>\n",
       "      <td>2019</td>\n",
       "      <td>1</td>\n",
       "      <td>1</td>\n",
       "    </tr>\n",
       "    <tr>\n",
       "      <th>1</th>\n",
       "      <td>1</td>\n",
       "      <td>2019-01-01 00:00:44+00:00</td>\n",
       "      <td>630423337322</td>\n",
       "      <td>fraud_Heller, Gutmann and Zieme</td>\n",
       "      <td>grocery_pos</td>\n",
       "      <td>107.23</td>\n",
       "      <td>Stephanie</td>\n",
       "      <td>Gill</td>\n",
       "      <td>F</td>\n",
       "      <td>43039 Riley Greens Suite 393</td>\n",
       "      <td>...</td>\n",
       "      <td>1f76529f8574734946361c461b024d99</td>\n",
       "      <td>1325376044</td>\n",
       "      <td>49.159047</td>\n",
       "      <td>-118.186462</td>\n",
       "      <td>0</td>\n",
       "      <td>NaN</td>\n",
       "      <td>2019-01-01</td>\n",
       "      <td>2019</td>\n",
       "      <td>1</td>\n",
       "      <td>1</td>\n",
       "    </tr>\n",
       "    <tr>\n",
       "      <th>2</th>\n",
       "      <td>2</td>\n",
       "      <td>2019-01-01 00:00:51+00:00</td>\n",
       "      <td>38859492057661</td>\n",
       "      <td>fraud_Lind-Buckridge</td>\n",
       "      <td>entertainment</td>\n",
       "      <td>220.11</td>\n",
       "      <td>Edward</td>\n",
       "      <td>Sanchez</td>\n",
       "      <td>M</td>\n",
       "      <td>594 White Dale Suite 530</td>\n",
       "      <td>...</td>\n",
       "      <td>a1a22d70485983eac12b5b88dad1cf95</td>\n",
       "      <td>1325376051</td>\n",
       "      <td>43.150704</td>\n",
       "      <td>-112.154481</td>\n",
       "      <td>0</td>\n",
       "      <td>83236.0</td>\n",
       "      <td>2019-01-01</td>\n",
       "      <td>2019</td>\n",
       "      <td>1</td>\n",
       "      <td>1</td>\n",
       "    </tr>\n",
       "    <tr>\n",
       "      <th>3</th>\n",
       "      <td>3</td>\n",
       "      <td>2019-01-01 00:01:16+00:00</td>\n",
       "      <td>3534093764340240</td>\n",
       "      <td>fraud_Kutch, Hermiston and Farrell</td>\n",
       "      <td>gas_transport</td>\n",
       "      <td>45.00</td>\n",
       "      <td>Jeremy</td>\n",
       "      <td>White</td>\n",
       "      <td>M</td>\n",
       "      <td>9443 Cynthia Court Apt. 038</td>\n",
       "      <td>...</td>\n",
       "      <td>6b849c168bdad6f867558c3793159a81</td>\n",
       "      <td>1325376076</td>\n",
       "      <td>47.034331</td>\n",
       "      <td>-112.561071</td>\n",
       "      <td>0</td>\n",
       "      <td>NaN</td>\n",
       "      <td>2019-01-01</td>\n",
       "      <td>2019</td>\n",
       "      <td>1</td>\n",
       "      <td>1</td>\n",
       "    </tr>\n",
       "    <tr>\n",
       "      <th>4</th>\n",
       "      <td>4</td>\n",
       "      <td>2019-01-01 00:03:06+00:00</td>\n",
       "      <td>375534208663984</td>\n",
       "      <td>fraud_Keeling-Crist</td>\n",
       "      <td>misc_pos</td>\n",
       "      <td>41.96</td>\n",
       "      <td>Tyler</td>\n",
       "      <td>Garcia</td>\n",
       "      <td>M</td>\n",
       "      <td>408 Bradley Rest</td>\n",
       "      <td>...</td>\n",
       "      <td>a41d7549acf90789359a9aa5346dcb46</td>\n",
       "      <td>1325376186</td>\n",
       "      <td>38.674999</td>\n",
       "      <td>-78.632459</td>\n",
       "      <td>0</td>\n",
       "      <td>22844.0</td>\n",
       "      <td>2019-01-01</td>\n",
       "      <td>2019</td>\n",
       "      <td>1</td>\n",
       "      <td>1</td>\n",
       "    </tr>\n",
       "  </tbody>\n",
       "</table>\n",
       "<p>5 rows × 28 columns</p>\n",
       "</div>"
      ],
      "text/plain": [
       "   Unnamed: 0     trans_date_trans_time            cc_num  \\\n",
       "0           0 2019-01-01 00:00:18+00:00  2703186189652095   \n",
       "1           1 2019-01-01 00:00:44+00:00      630423337322   \n",
       "2           2 2019-01-01 00:00:51+00:00    38859492057661   \n",
       "3           3 2019-01-01 00:01:16+00:00  3534093764340240   \n",
       "4           4 2019-01-01 00:03:06+00:00   375534208663984   \n",
       "\n",
       "                             merchant       category     amt      first  \\\n",
       "0          fraud_Rippin, Kub and Mann       misc_net    4.97   Jennifer   \n",
       "1     fraud_Heller, Gutmann and Zieme    grocery_pos  107.23  Stephanie   \n",
       "2                fraud_Lind-Buckridge  entertainment  220.11     Edward   \n",
       "3  fraud_Kutch, Hermiston and Farrell  gas_transport   45.00     Jeremy   \n",
       "4                 fraud_Keeling-Crist       misc_pos   41.96      Tyler   \n",
       "\n",
       "      last gender                        street  ...  \\\n",
       "0    Banks      F                561 Perry Cove  ...   \n",
       "1     Gill      F  43039 Riley Greens Suite 393  ...   \n",
       "2  Sanchez      M      594 White Dale Suite 530  ...   \n",
       "3    White      M   9443 Cynthia Court Apt. 038  ...   \n",
       "4   Garcia      M              408 Bradley Rest  ...   \n",
       "\n",
       "                          trans_num   unix_time  merch_lat  merch_long  \\\n",
       "0  0b242abb623afc578575680df30655b9  1325376018  36.011293  -82.048315   \n",
       "1  1f76529f8574734946361c461b024d99  1325376044  49.159047 -118.186462   \n",
       "2  a1a22d70485983eac12b5b88dad1cf95  1325376051  43.150704 -112.154481   \n",
       "3  6b849c168bdad6f867558c3793159a81  1325376076  47.034331 -112.561071   \n",
       "4  a41d7549acf90789359a9aa5346dcb46  1325376186  38.674999  -78.632459   \n",
       "\n",
       "   is_fraud  merch_zipcode  trans_date trans_year trans_month  trans_day  \n",
       "0         0        28705.0  2019-01-01       2019           1          1  \n",
       "1         0            NaN  2019-01-01       2019           1          1  \n",
       "2         0        83236.0  2019-01-01       2019           1          1  \n",
       "3         0            NaN  2019-01-01       2019           1          1  \n",
       "4         0        22844.0  2019-01-01       2019           1          1  \n",
       "\n",
       "[5 rows x 28 columns]"
      ]
     },
     "execution_count": 4,
     "metadata": {},
     "output_type": "execute_result"
    }
   ],
   "source": [
    "data = df2\n",
    "df2 = data.copy()\n",
    "df2['trans_date'] = pd.to_datetime(df2['trans_date_trans_time'], utc=True).dt.date\n",
    "df2['trans_year'] = pd.to_datetime(df2['trans_date_trans_time'], utc=True).dt.year\n",
    "df2['trans_month'] = pd.to_datetime(df2['trans_date_trans_time'], utc=True).dt.month\n",
    "df2['trans_day'] = pd.to_datetime(df2['trans_date_trans_time'], utc=True).dt.day\n",
    "df2.head()"
   ]
  },
  {
   "cell_type": "code",
   "execution_count": 5,
   "metadata": {},
   "outputs": [
    {
     "data": {
      "text/html": [
       "<div>\n",
       "<style scoped>\n",
       "    .dataframe tbody tr th:only-of-type {\n",
       "        vertical-align: middle;\n",
       "    }\n",
       "\n",
       "    .dataframe tbody tr th {\n",
       "        vertical-align: top;\n",
       "    }\n",
       "\n",
       "    .dataframe thead th {\n",
       "        text-align: right;\n",
       "    }\n",
       "</style>\n",
       "<table border=\"1\" class=\"dataframe\">\n",
       "  <thead>\n",
       "    <tr style=\"text-align: right;\">\n",
       "      <th></th>\n",
       "      <th>age</th>\n",
       "      <th>age_description</th>\n",
       "    </tr>\n",
       "  </thead>\n",
       "  <tbody>\n",
       "    <tr>\n",
       "      <th>0</th>\n",
       "      <td>31</td>\n",
       "      <td>Age: 29-38 / Early Career / Early Adults</td>\n",
       "    </tr>\n",
       "    <tr>\n",
       "      <th>1</th>\n",
       "      <td>41</td>\n",
       "      <td>Age: 39-48 / Mid-Life Professionals / Experien...</td>\n",
       "    </tr>\n",
       "    <tr>\n",
       "      <th>2</th>\n",
       "      <td>57</td>\n",
       "      <td>Age: 49-58 / Seasoned Adults / Mature Professi...</td>\n",
       "    </tr>\n",
       "    <tr>\n",
       "      <th>3</th>\n",
       "      <td>52</td>\n",
       "      <td>Age: 49-58 / Seasoned Adults / Mature Professi...</td>\n",
       "    </tr>\n",
       "    <tr>\n",
       "      <th>4</th>\n",
       "      <td>33</td>\n",
       "      <td>Age: 29-38 / Early Career / Early Adults</td>\n",
       "    </tr>\n",
       "  </tbody>\n",
       "</table>\n",
       "</div>"
      ],
      "text/plain": [
       "   age                                    age_description\n",
       "0   31           Age: 29-38 / Early Career / Early Adults\n",
       "1   41  Age: 39-48 / Mid-Life Professionals / Experien...\n",
       "2   57  Age: 49-58 / Seasoned Adults / Mature Professi...\n",
       "3   52  Age: 49-58 / Seasoned Adults / Mature Professi...\n",
       "4   33           Age: 29-38 / Early Career / Early Adults"
      ]
     },
     "execution_count": 5,
     "metadata": {},
     "output_type": "execute_result"
    }
   ],
   "source": [
    "# Ensure 'dob' is a datetime object\n",
    "df2['dob'] = pd.to_datetime(df2['dob'], errors='coerce')\n",
    "\n",
    "# Calculate the 'Age' column\n",
    "df2['age'] = df2['trans_year'] - df2['dob'].dt.year\n",
    "\n",
    "# Define age groups based on the ranges provided\n",
    "def age_description(age):\n",
    "    if age < 18:\n",
    "        return 'Age: 18 & Under / Youth / Teens'\n",
    "    elif 19 <= age <= 28:\n",
    "        return 'Age: 19-28 / Young Adults'\n",
    "    elif 29 <= age <= 38:\n",
    "        return 'Age: 29-38 / Early Career / Early Adults'\n",
    "    elif 39 <= age <= 48:\n",
    "        return 'Age: 39-48 / Mid-Life Professionals / Experienced Adults'\n",
    "    elif 49 <= age <= 58:\n",
    "        return 'Age: 49-58 / Seasoned Adults / Mature Professionals'\n",
    "    elif 59 <= age <= 68:\n",
    "        return 'Age: 59-68 / Pre-Retirement / Early Retirees'\n",
    "    elif 69 <= age <= 78:\n",
    "        return 'Age: 69-78 / Active Retirees / Golden Years'\n",
    "    else:\n",
    "        return 'Age: 79 & Older / Seniors / Elderly'\n",
    "\n",
    "# Step 4: Create the 'Age Description' column\n",
    "df2['age_description'] = df2['age'].apply(age_description)\n",
    "\n",
    "# View the final dataframe with the new columns\n",
    "df2[['age', 'age_description']].head()"
   ]
  },
  {
   "cell_type": "code",
   "execution_count": 6,
   "metadata": {},
   "outputs": [
    {
     "name": "stdout",
     "output_type": "stream",
     "text": [
      "age_description\n",
      "Age: 29-38 / Early Career / Early Adults                    300943\n",
      "Age: 39-48 / Mid-Life Professionals / Experienced Adults    300161\n",
      "Age: 49-58 / Seasoned Adults / Mature Professionals         200411\n",
      "Age: 19-28 / Young Adults                                   181766\n",
      "Age: 59-68 / Pre-Retirement / Early Retirees                143773\n",
      "Age: 69-78 / Active Retirees / Golden Years                  78761\n",
      "Age: 79 & Older / Seniors / Elderly                          77430\n",
      "Age: 18 & Under / Youth / Teens                              13430\n",
      "Name: count, dtype: int64\n"
     ]
    }
   ],
   "source": [
    "# Count the number of people in each age group\n",
    "age_group_counts = df2['age_description'].value_counts()\n",
    "\n",
    "# Display the counts\n",
    "print(age_group_counts)"
   ]
  },
  {
   "cell_type": "code",
   "execution_count": 7,
   "metadata": {},
   "outputs": [
    {
     "data": {
      "application/vnd.plotly.v1+json": {
       "config": {
        "plotlyServerURL": "https://plot.ly"
       },
       "data": [
        {
         "alignmentgroup": "True",
         "hovertemplate": "Age Group=%{x}<br>Fraud Cases=%{y}<extra></extra>",
         "legendgroup": "",
         "marker": {
          "color": "#636efa",
          "pattern": {
           "shape": ""
          }
         },
         "name": "",
         "offsetgroup": "",
         "orientation": "v",
         "showlegend": false,
         "textposition": "auto",
         "type": "bar",
         "uid": "c9d43ef6-a5a3-4729-9826-23557bcd187c",
         "x": [
          "Age: 18 & Under / Youth / Teens",
          "Age: 19-28 / Young Adults",
          "Age: 29-38 / Early Career / Early Adults",
          "Age: 39-48 / Mid-Life Professionals / Experienced Adults",
          "Age: 49-58 / Seasoned Adults / Mature Professionals",
          "Age: 59-68 / Pre-Retirement / Early Retirees",
          "Age: 69-78 / Active Retirees / Golden Years",
          "Age: 79 & Older / Seniors / Elderly"
         ],
         "xaxis": "x",
         "y": [
          60,
          1090,
          1356,
          1280,
          1487,
          939,
          575,
          719
         ],
         "yaxis": "y"
        }
       ],
       "layout": {
        "barmode": "relative",
        "height": 500,
        "legend": {
         "tracegroupgap": 0
        },
        "template": {
         "data": {
          "bar": [
           {
            "error_x": {
             "color": "#2a3f5f"
            },
            "error_y": {
             "color": "#2a3f5f"
            },
            "marker": {
             "line": {
              "color": "#E5ECF6",
              "width": 0.5
             },
             "pattern": {
              "fillmode": "overlay",
              "size": 10,
              "solidity": 0.2
             }
            },
            "type": "bar"
           }
          ],
          "barpolar": [
           {
            "marker": {
             "line": {
              "color": "#E5ECF6",
              "width": 0.5
             },
             "pattern": {
              "fillmode": "overlay",
              "size": 10,
              "solidity": 0.2
             }
            },
            "type": "barpolar"
           }
          ],
          "carpet": [
           {
            "aaxis": {
             "endlinecolor": "#2a3f5f",
             "gridcolor": "white",
             "linecolor": "white",
             "minorgridcolor": "white",
             "startlinecolor": "#2a3f5f"
            },
            "baxis": {
             "endlinecolor": "#2a3f5f",
             "gridcolor": "white",
             "linecolor": "white",
             "minorgridcolor": "white",
             "startlinecolor": "#2a3f5f"
            },
            "type": "carpet"
           }
          ],
          "choropleth": [
           {
            "colorbar": {
             "outlinewidth": 0,
             "ticks": ""
            },
            "type": "choropleth"
           }
          ],
          "contour": [
           {
            "colorbar": {
             "outlinewidth": 0,
             "ticks": ""
            },
            "colorscale": [
             [
              0,
              "#0d0887"
             ],
             [
              0.1111111111111111,
              "#46039f"
             ],
             [
              0.2222222222222222,
              "#7201a8"
             ],
             [
              0.3333333333333333,
              "#9c179e"
             ],
             [
              0.4444444444444444,
              "#bd3786"
             ],
             [
              0.5555555555555556,
              "#d8576b"
             ],
             [
              0.6666666666666666,
              "#ed7953"
             ],
             [
              0.7777777777777778,
              "#fb9f3a"
             ],
             [
              0.8888888888888888,
              "#fdca26"
             ],
             [
              1,
              "#f0f921"
             ]
            ],
            "type": "contour"
           }
          ],
          "contourcarpet": [
           {
            "colorbar": {
             "outlinewidth": 0,
             "ticks": ""
            },
            "type": "contourcarpet"
           }
          ],
          "heatmap": [
           {
            "colorbar": {
             "outlinewidth": 0,
             "ticks": ""
            },
            "colorscale": [
             [
              0,
              "#0d0887"
             ],
             [
              0.1111111111111111,
              "#46039f"
             ],
             [
              0.2222222222222222,
              "#7201a8"
             ],
             [
              0.3333333333333333,
              "#9c179e"
             ],
             [
              0.4444444444444444,
              "#bd3786"
             ],
             [
              0.5555555555555556,
              "#d8576b"
             ],
             [
              0.6666666666666666,
              "#ed7953"
             ],
             [
              0.7777777777777778,
              "#fb9f3a"
             ],
             [
              0.8888888888888888,
              "#fdca26"
             ],
             [
              1,
              "#f0f921"
             ]
            ],
            "type": "heatmap"
           }
          ],
          "heatmapgl": [
           {
            "colorbar": {
             "outlinewidth": 0,
             "ticks": ""
            },
            "colorscale": [
             [
              0,
              "#0d0887"
             ],
             [
              0.1111111111111111,
              "#46039f"
             ],
             [
              0.2222222222222222,
              "#7201a8"
             ],
             [
              0.3333333333333333,
              "#9c179e"
             ],
             [
              0.4444444444444444,
              "#bd3786"
             ],
             [
              0.5555555555555556,
              "#d8576b"
             ],
             [
              0.6666666666666666,
              "#ed7953"
             ],
             [
              0.7777777777777778,
              "#fb9f3a"
             ],
             [
              0.8888888888888888,
              "#fdca26"
             ],
             [
              1,
              "#f0f921"
             ]
            ],
            "type": "heatmapgl"
           }
          ],
          "histogram": [
           {
            "marker": {
             "pattern": {
              "fillmode": "overlay",
              "size": 10,
              "solidity": 0.2
             }
            },
            "type": "histogram"
           }
          ],
          "histogram2d": [
           {
            "colorbar": {
             "outlinewidth": 0,
             "ticks": ""
            },
            "colorscale": [
             [
              0,
              "#0d0887"
             ],
             [
              0.1111111111111111,
              "#46039f"
             ],
             [
              0.2222222222222222,
              "#7201a8"
             ],
             [
              0.3333333333333333,
              "#9c179e"
             ],
             [
              0.4444444444444444,
              "#bd3786"
             ],
             [
              0.5555555555555556,
              "#d8576b"
             ],
             [
              0.6666666666666666,
              "#ed7953"
             ],
             [
              0.7777777777777778,
              "#fb9f3a"
             ],
             [
              0.8888888888888888,
              "#fdca26"
             ],
             [
              1,
              "#f0f921"
             ]
            ],
            "type": "histogram2d"
           }
          ],
          "histogram2dcontour": [
           {
            "colorbar": {
             "outlinewidth": 0,
             "ticks": ""
            },
            "colorscale": [
             [
              0,
              "#0d0887"
             ],
             [
              0.1111111111111111,
              "#46039f"
             ],
             [
              0.2222222222222222,
              "#7201a8"
             ],
             [
              0.3333333333333333,
              "#9c179e"
             ],
             [
              0.4444444444444444,
              "#bd3786"
             ],
             [
              0.5555555555555556,
              "#d8576b"
             ],
             [
              0.6666666666666666,
              "#ed7953"
             ],
             [
              0.7777777777777778,
              "#fb9f3a"
             ],
             [
              0.8888888888888888,
              "#fdca26"
             ],
             [
              1,
              "#f0f921"
             ]
            ],
            "type": "histogram2dcontour"
           }
          ],
          "mesh3d": [
           {
            "colorbar": {
             "outlinewidth": 0,
             "ticks": ""
            },
            "type": "mesh3d"
           }
          ],
          "parcoords": [
           {
            "line": {
             "colorbar": {
              "outlinewidth": 0,
              "ticks": ""
             }
            },
            "type": "parcoords"
           }
          ],
          "pie": [
           {
            "automargin": true,
            "type": "pie"
           }
          ],
          "scatter": [
           {
            "fillpattern": {
             "fillmode": "overlay",
             "size": 10,
             "solidity": 0.2
            },
            "type": "scatter"
           }
          ],
          "scatter3d": [
           {
            "line": {
             "colorbar": {
              "outlinewidth": 0,
              "ticks": ""
             }
            },
            "marker": {
             "colorbar": {
              "outlinewidth": 0,
              "ticks": ""
             }
            },
            "type": "scatter3d"
           }
          ],
          "scattercarpet": [
           {
            "marker": {
             "colorbar": {
              "outlinewidth": 0,
              "ticks": ""
             }
            },
            "type": "scattercarpet"
           }
          ],
          "scattergeo": [
           {
            "marker": {
             "colorbar": {
              "outlinewidth": 0,
              "ticks": ""
             }
            },
            "type": "scattergeo"
           }
          ],
          "scattergl": [
           {
            "marker": {
             "colorbar": {
              "outlinewidth": 0,
              "ticks": ""
             }
            },
            "type": "scattergl"
           }
          ],
          "scattermapbox": [
           {
            "marker": {
             "colorbar": {
              "outlinewidth": 0,
              "ticks": ""
             }
            },
            "type": "scattermapbox"
           }
          ],
          "scatterpolar": [
           {
            "marker": {
             "colorbar": {
              "outlinewidth": 0,
              "ticks": ""
             }
            },
            "type": "scatterpolar"
           }
          ],
          "scatterpolargl": [
           {
            "marker": {
             "colorbar": {
              "outlinewidth": 0,
              "ticks": ""
             }
            },
            "type": "scatterpolargl"
           }
          ],
          "scatterternary": [
           {
            "marker": {
             "colorbar": {
              "outlinewidth": 0,
              "ticks": ""
             }
            },
            "type": "scatterternary"
           }
          ],
          "surface": [
           {
            "colorbar": {
             "outlinewidth": 0,
             "ticks": ""
            },
            "colorscale": [
             [
              0,
              "#0d0887"
             ],
             [
              0.1111111111111111,
              "#46039f"
             ],
             [
              0.2222222222222222,
              "#7201a8"
             ],
             [
              0.3333333333333333,
              "#9c179e"
             ],
             [
              0.4444444444444444,
              "#bd3786"
             ],
             [
              0.5555555555555556,
              "#d8576b"
             ],
             [
              0.6666666666666666,
              "#ed7953"
             ],
             [
              0.7777777777777778,
              "#fb9f3a"
             ],
             [
              0.8888888888888888,
              "#fdca26"
             ],
             [
              1,
              "#f0f921"
             ]
            ],
            "type": "surface"
           }
          ],
          "table": [
           {
            "cells": {
             "fill": {
              "color": "#EBF0F8"
             },
             "line": {
              "color": "white"
             }
            },
            "header": {
             "fill": {
              "color": "#C8D4E3"
             },
             "line": {
              "color": "white"
             }
            },
            "type": "table"
           }
          ]
         },
         "layout": {
          "annotationdefaults": {
           "arrowcolor": "#2a3f5f",
           "arrowhead": 0,
           "arrowwidth": 1
          },
          "autotypenumbers": "strict",
          "coloraxis": {
           "colorbar": {
            "outlinewidth": 0,
            "ticks": ""
           }
          },
          "colorscale": {
           "diverging": [
            [
             0,
             "#8e0152"
            ],
            [
             0.1,
             "#c51b7d"
            ],
            [
             0.2,
             "#de77ae"
            ],
            [
             0.3,
             "#f1b6da"
            ],
            [
             0.4,
             "#fde0ef"
            ],
            [
             0.5,
             "#f7f7f7"
            ],
            [
             0.6,
             "#e6f5d0"
            ],
            [
             0.7,
             "#b8e186"
            ],
            [
             0.8,
             "#7fbc41"
            ],
            [
             0.9,
             "#4d9221"
            ],
            [
             1,
             "#276419"
            ]
           ],
           "sequential": [
            [
             0,
             "#0d0887"
            ],
            [
             0.1111111111111111,
             "#46039f"
            ],
            [
             0.2222222222222222,
             "#7201a8"
            ],
            [
             0.3333333333333333,
             "#9c179e"
            ],
            [
             0.4444444444444444,
             "#bd3786"
            ],
            [
             0.5555555555555556,
             "#d8576b"
            ],
            [
             0.6666666666666666,
             "#ed7953"
            ],
            [
             0.7777777777777778,
             "#fb9f3a"
            ],
            [
             0.8888888888888888,
             "#fdca26"
            ],
            [
             1,
             "#f0f921"
            ]
           ],
           "sequentialminus": [
            [
             0,
             "#0d0887"
            ],
            [
             0.1111111111111111,
             "#46039f"
            ],
            [
             0.2222222222222222,
             "#7201a8"
            ],
            [
             0.3333333333333333,
             "#9c179e"
            ],
            [
             0.4444444444444444,
             "#bd3786"
            ],
            [
             0.5555555555555556,
             "#d8576b"
            ],
            [
             0.6666666666666666,
             "#ed7953"
            ],
            [
             0.7777777777777778,
             "#fb9f3a"
            ],
            [
             0.8888888888888888,
             "#fdca26"
            ],
            [
             1,
             "#f0f921"
            ]
           ]
          },
          "colorway": [
           "#636efa",
           "#EF553B",
           "#00cc96",
           "#ab63fa",
           "#FFA15A",
           "#19d3f3",
           "#FF6692",
           "#B6E880",
           "#FF97FF",
           "#FECB52"
          ],
          "font": {
           "color": "#2a3f5f"
          },
          "geo": {
           "bgcolor": "white",
           "lakecolor": "white",
           "landcolor": "#E5ECF6",
           "showlakes": true,
           "showland": true,
           "subunitcolor": "white"
          },
          "hoverlabel": {
           "align": "left"
          },
          "hovermode": "closest",
          "mapbox": {
           "style": "light"
          },
          "paper_bgcolor": "white",
          "plot_bgcolor": "#E5ECF6",
          "polar": {
           "angularaxis": {
            "gridcolor": "white",
            "linecolor": "white",
            "ticks": ""
           },
           "bgcolor": "#E5ECF6",
           "radialaxis": {
            "gridcolor": "white",
            "linecolor": "white",
            "ticks": ""
           }
          },
          "scene": {
           "xaxis": {
            "backgroundcolor": "#E5ECF6",
            "gridcolor": "white",
            "gridwidth": 2,
            "linecolor": "white",
            "showbackground": true,
            "ticks": "",
            "zerolinecolor": "white"
           },
           "yaxis": {
            "backgroundcolor": "#E5ECF6",
            "gridcolor": "white",
            "gridwidth": 2,
            "linecolor": "white",
            "showbackground": true,
            "ticks": "",
            "zerolinecolor": "white"
           },
           "zaxis": {
            "backgroundcolor": "#E5ECF6",
            "gridcolor": "white",
            "gridwidth": 2,
            "linecolor": "white",
            "showbackground": true,
            "ticks": "",
            "zerolinecolor": "white"
           }
          },
          "shapedefaults": {
           "line": {
            "color": "#2a3f5f"
           }
          },
          "ternary": {
           "aaxis": {
            "gridcolor": "white",
            "linecolor": "white",
            "ticks": ""
           },
           "baxis": {
            "gridcolor": "white",
            "linecolor": "white",
            "ticks": ""
           },
           "bgcolor": "#E5ECF6",
           "caxis": {
            "gridcolor": "white",
            "linecolor": "white",
            "ticks": ""
           }
          },
          "title": {
           "x": 0.05
          },
          "xaxis": {
           "automargin": true,
           "gridcolor": "white",
           "linecolor": "white",
           "ticks": "",
           "title": {
            "standoff": 15
           },
           "zerolinecolor": "white",
           "zerolinewidth": 2
          },
          "yaxis": {
           "automargin": true,
           "gridcolor": "white",
           "linecolor": "white",
           "ticks": "",
           "title": {
            "standoff": 15
           },
           "zerolinecolor": "white",
           "zerolinewidth": 2
          }
         }
        },
        "title": {
         "text": "Total Fraudulent Transactions by Age Group"
        },
        "width": 800,
        "xaxis": {
         "anchor": "y",
         "domain": [
          0,
          1
         ],
         "title": {
          "text": "Age Group"
         }
        },
        "yaxis": {
         "anchor": "x",
         "domain": [
          0,
          1
         ],
         "title": {
          "text": "Fraud Cases"
         }
        }
       }
      }
     },
     "metadata": {},
     "output_type": "display_data"
    },
    {
     "data": {
      "application/vnd.plotly.v1+json": {
       "config": {
        "plotlyServerURL": "https://plot.ly"
       },
       "data": [
        {
         "domain": {
          "x": [
           0,
           0.65
          ],
          "y": [
           0,
           1
          ]
         },
         "hole": 0.4,
         "hovertemplate": "Age Group=%{label}<br>Fraud Percentage=%{value}<extra></extra>",
         "labels": [
          "Age: 18 & Under / Youth / Teens",
          "Age: 19-28 / Young Adults",
          "Age: 29-38 / Early Career / Early Adults",
          "Age: 39-48 / Mid-Life Professionals / Experienced Adults",
          "Age: 49-58 / Seasoned Adults / Mature Professionals",
          "Age: 59-68 / Pre-Retirement / Early Retirees",
          "Age: 69-78 / Active Retirees / Golden Years",
          "Age: 79 & Older / Seniors / Elderly"
         ],
         "legendgroup": "",
         "name": "",
         "pull": [
          0.05,
          0.05,
          0.05,
          0.05,
          0.05,
          0.05,
          0.05,
          0.05
         ],
         "showlegend": true,
         "type": "pie",
         "uid": "c25d5205-1319-4027-bd25-21a19a3c0c28",
         "values": [
          0.4467609828741623,
          0.5996721058943917,
          0.45058366534526473,
          0.42643781170771683,
          0.7419752408799917,
          0.6531128932414292,
          0.7300567539772223,
          0.928580653493478
         ]
        }
       ],
       "layout": {
        "height": 500,
        "legend": {
         "orientation": "v",
         "tracegroupgap": 0,
         "x": 0.9,
         "xanchor": "left",
         "y": 0.5,
         "yanchor": "middle"
        },
        "margin": {
         "l": 50,
         "r": 0,
         "t": 50
        },
        "template": {
         "data": {
          "bar": [
           {
            "error_x": {
             "color": "#2a3f5f"
            },
            "error_y": {
             "color": "#2a3f5f"
            },
            "marker": {
             "line": {
              "color": "#E5ECF6",
              "width": 0.5
             },
             "pattern": {
              "fillmode": "overlay",
              "size": 10,
              "solidity": 0.2
             }
            },
            "type": "bar"
           }
          ],
          "barpolar": [
           {
            "marker": {
             "line": {
              "color": "#E5ECF6",
              "width": 0.5
             },
             "pattern": {
              "fillmode": "overlay",
              "size": 10,
              "solidity": 0.2
             }
            },
            "type": "barpolar"
           }
          ],
          "carpet": [
           {
            "aaxis": {
             "endlinecolor": "#2a3f5f",
             "gridcolor": "white",
             "linecolor": "white",
             "minorgridcolor": "white",
             "startlinecolor": "#2a3f5f"
            },
            "baxis": {
             "endlinecolor": "#2a3f5f",
             "gridcolor": "white",
             "linecolor": "white",
             "minorgridcolor": "white",
             "startlinecolor": "#2a3f5f"
            },
            "type": "carpet"
           }
          ],
          "choropleth": [
           {
            "colorbar": {
             "outlinewidth": 0,
             "ticks": ""
            },
            "type": "choropleth"
           }
          ],
          "contour": [
           {
            "colorbar": {
             "outlinewidth": 0,
             "ticks": ""
            },
            "colorscale": [
             [
              0,
              "#0d0887"
             ],
             [
              0.1111111111111111,
              "#46039f"
             ],
             [
              0.2222222222222222,
              "#7201a8"
             ],
             [
              0.3333333333333333,
              "#9c179e"
             ],
             [
              0.4444444444444444,
              "#bd3786"
             ],
             [
              0.5555555555555556,
              "#d8576b"
             ],
             [
              0.6666666666666666,
              "#ed7953"
             ],
             [
              0.7777777777777778,
              "#fb9f3a"
             ],
             [
              0.8888888888888888,
              "#fdca26"
             ],
             [
              1,
              "#f0f921"
             ]
            ],
            "type": "contour"
           }
          ],
          "contourcarpet": [
           {
            "colorbar": {
             "outlinewidth": 0,
             "ticks": ""
            },
            "type": "contourcarpet"
           }
          ],
          "heatmap": [
           {
            "colorbar": {
             "outlinewidth": 0,
             "ticks": ""
            },
            "colorscale": [
             [
              0,
              "#0d0887"
             ],
             [
              0.1111111111111111,
              "#46039f"
             ],
             [
              0.2222222222222222,
              "#7201a8"
             ],
             [
              0.3333333333333333,
              "#9c179e"
             ],
             [
              0.4444444444444444,
              "#bd3786"
             ],
             [
              0.5555555555555556,
              "#d8576b"
             ],
             [
              0.6666666666666666,
              "#ed7953"
             ],
             [
              0.7777777777777778,
              "#fb9f3a"
             ],
             [
              0.8888888888888888,
              "#fdca26"
             ],
             [
              1,
              "#f0f921"
             ]
            ],
            "type": "heatmap"
           }
          ],
          "heatmapgl": [
           {
            "colorbar": {
             "outlinewidth": 0,
             "ticks": ""
            },
            "colorscale": [
             [
              0,
              "#0d0887"
             ],
             [
              0.1111111111111111,
              "#46039f"
             ],
             [
              0.2222222222222222,
              "#7201a8"
             ],
             [
              0.3333333333333333,
              "#9c179e"
             ],
             [
              0.4444444444444444,
              "#bd3786"
             ],
             [
              0.5555555555555556,
              "#d8576b"
             ],
             [
              0.6666666666666666,
              "#ed7953"
             ],
             [
              0.7777777777777778,
              "#fb9f3a"
             ],
             [
              0.8888888888888888,
              "#fdca26"
             ],
             [
              1,
              "#f0f921"
             ]
            ],
            "type": "heatmapgl"
           }
          ],
          "histogram": [
           {
            "marker": {
             "pattern": {
              "fillmode": "overlay",
              "size": 10,
              "solidity": 0.2
             }
            },
            "type": "histogram"
           }
          ],
          "histogram2d": [
           {
            "colorbar": {
             "outlinewidth": 0,
             "ticks": ""
            },
            "colorscale": [
             [
              0,
              "#0d0887"
             ],
             [
              0.1111111111111111,
              "#46039f"
             ],
             [
              0.2222222222222222,
              "#7201a8"
             ],
             [
              0.3333333333333333,
              "#9c179e"
             ],
             [
              0.4444444444444444,
              "#bd3786"
             ],
             [
              0.5555555555555556,
              "#d8576b"
             ],
             [
              0.6666666666666666,
              "#ed7953"
             ],
             [
              0.7777777777777778,
              "#fb9f3a"
             ],
             [
              0.8888888888888888,
              "#fdca26"
             ],
             [
              1,
              "#f0f921"
             ]
            ],
            "type": "histogram2d"
           }
          ],
          "histogram2dcontour": [
           {
            "colorbar": {
             "outlinewidth": 0,
             "ticks": ""
            },
            "colorscale": [
             [
              0,
              "#0d0887"
             ],
             [
              0.1111111111111111,
              "#46039f"
             ],
             [
              0.2222222222222222,
              "#7201a8"
             ],
             [
              0.3333333333333333,
              "#9c179e"
             ],
             [
              0.4444444444444444,
              "#bd3786"
             ],
             [
              0.5555555555555556,
              "#d8576b"
             ],
             [
              0.6666666666666666,
              "#ed7953"
             ],
             [
              0.7777777777777778,
              "#fb9f3a"
             ],
             [
              0.8888888888888888,
              "#fdca26"
             ],
             [
              1,
              "#f0f921"
             ]
            ],
            "type": "histogram2dcontour"
           }
          ],
          "mesh3d": [
           {
            "colorbar": {
             "outlinewidth": 0,
             "ticks": ""
            },
            "type": "mesh3d"
           }
          ],
          "parcoords": [
           {
            "line": {
             "colorbar": {
              "outlinewidth": 0,
              "ticks": ""
             }
            },
            "type": "parcoords"
           }
          ],
          "pie": [
           {
            "automargin": true,
            "type": "pie"
           }
          ],
          "scatter": [
           {
            "fillpattern": {
             "fillmode": "overlay",
             "size": 10,
             "solidity": 0.2
            },
            "type": "scatter"
           }
          ],
          "scatter3d": [
           {
            "line": {
             "colorbar": {
              "outlinewidth": 0,
              "ticks": ""
             }
            },
            "marker": {
             "colorbar": {
              "outlinewidth": 0,
              "ticks": ""
             }
            },
            "type": "scatter3d"
           }
          ],
          "scattercarpet": [
           {
            "marker": {
             "colorbar": {
              "outlinewidth": 0,
              "ticks": ""
             }
            },
            "type": "scattercarpet"
           }
          ],
          "scattergeo": [
           {
            "marker": {
             "colorbar": {
              "outlinewidth": 0,
              "ticks": ""
             }
            },
            "type": "scattergeo"
           }
          ],
          "scattergl": [
           {
            "marker": {
             "colorbar": {
              "outlinewidth": 0,
              "ticks": ""
             }
            },
            "type": "scattergl"
           }
          ],
          "scattermapbox": [
           {
            "marker": {
             "colorbar": {
              "outlinewidth": 0,
              "ticks": ""
             }
            },
            "type": "scattermapbox"
           }
          ],
          "scatterpolar": [
           {
            "marker": {
             "colorbar": {
              "outlinewidth": 0,
              "ticks": ""
             }
            },
            "type": "scatterpolar"
           }
          ],
          "scatterpolargl": [
           {
            "marker": {
             "colorbar": {
              "outlinewidth": 0,
              "ticks": ""
             }
            },
            "type": "scatterpolargl"
           }
          ],
          "scatterternary": [
           {
            "marker": {
             "colorbar": {
              "outlinewidth": 0,
              "ticks": ""
             }
            },
            "type": "scatterternary"
           }
          ],
          "surface": [
           {
            "colorbar": {
             "outlinewidth": 0,
             "ticks": ""
            },
            "colorscale": [
             [
              0,
              "#0d0887"
             ],
             [
              0.1111111111111111,
              "#46039f"
             ],
             [
              0.2222222222222222,
              "#7201a8"
             ],
             [
              0.3333333333333333,
              "#9c179e"
             ],
             [
              0.4444444444444444,
              "#bd3786"
             ],
             [
              0.5555555555555556,
              "#d8576b"
             ],
             [
              0.6666666666666666,
              "#ed7953"
             ],
             [
              0.7777777777777778,
              "#fb9f3a"
             ],
             [
              0.8888888888888888,
              "#fdca26"
             ],
             [
              1,
              "#f0f921"
             ]
            ],
            "type": "surface"
           }
          ],
          "table": [
           {
            "cells": {
             "fill": {
              "color": "#EBF0F8"
             },
             "line": {
              "color": "white"
             }
            },
            "header": {
             "fill": {
              "color": "#C8D4E3"
             },
             "line": {
              "color": "white"
             }
            },
            "type": "table"
           }
          ]
         },
         "layout": {
          "annotationdefaults": {
           "arrowcolor": "#2a3f5f",
           "arrowhead": 0,
           "arrowwidth": 1
          },
          "autotypenumbers": "strict",
          "coloraxis": {
           "colorbar": {
            "outlinewidth": 0,
            "ticks": ""
           }
          },
          "colorscale": {
           "diverging": [
            [
             0,
             "#8e0152"
            ],
            [
             0.1,
             "#c51b7d"
            ],
            [
             0.2,
             "#de77ae"
            ],
            [
             0.3,
             "#f1b6da"
            ],
            [
             0.4,
             "#fde0ef"
            ],
            [
             0.5,
             "#f7f7f7"
            ],
            [
             0.6,
             "#e6f5d0"
            ],
            [
             0.7,
             "#b8e186"
            ],
            [
             0.8,
             "#7fbc41"
            ],
            [
             0.9,
             "#4d9221"
            ],
            [
             1,
             "#276419"
            ]
           ],
           "sequential": [
            [
             0,
             "#0d0887"
            ],
            [
             0.1111111111111111,
             "#46039f"
            ],
            [
             0.2222222222222222,
             "#7201a8"
            ],
            [
             0.3333333333333333,
             "#9c179e"
            ],
            [
             0.4444444444444444,
             "#bd3786"
            ],
            [
             0.5555555555555556,
             "#d8576b"
            ],
            [
             0.6666666666666666,
             "#ed7953"
            ],
            [
             0.7777777777777778,
             "#fb9f3a"
            ],
            [
             0.8888888888888888,
             "#fdca26"
            ],
            [
             1,
             "#f0f921"
            ]
           ],
           "sequentialminus": [
            [
             0,
             "#0d0887"
            ],
            [
             0.1111111111111111,
             "#46039f"
            ],
            [
             0.2222222222222222,
             "#7201a8"
            ],
            [
             0.3333333333333333,
             "#9c179e"
            ],
            [
             0.4444444444444444,
             "#bd3786"
            ],
            [
             0.5555555555555556,
             "#d8576b"
            ],
            [
             0.6666666666666666,
             "#ed7953"
            ],
            [
             0.7777777777777778,
             "#fb9f3a"
            ],
            [
             0.8888888888888888,
             "#fdca26"
            ],
            [
             1,
             "#f0f921"
            ]
           ]
          },
          "colorway": [
           "#636efa",
           "#EF553B",
           "#00cc96",
           "#ab63fa",
           "#FFA15A",
           "#19d3f3",
           "#FF6692",
           "#B6E880",
           "#FF97FF",
           "#FECB52"
          ],
          "font": {
           "color": "#2a3f5f"
          },
          "geo": {
           "bgcolor": "white",
           "lakecolor": "white",
           "landcolor": "#E5ECF6",
           "showlakes": true,
           "showland": true,
           "subunitcolor": "white"
          },
          "hoverlabel": {
           "align": "left"
          },
          "hovermode": "closest",
          "mapbox": {
           "style": "light"
          },
          "paper_bgcolor": "white",
          "plot_bgcolor": "#E5ECF6",
          "polar": {
           "angularaxis": {
            "gridcolor": "white",
            "linecolor": "white",
            "ticks": ""
           },
           "bgcolor": "#E5ECF6",
           "radialaxis": {
            "gridcolor": "white",
            "linecolor": "white",
            "ticks": ""
           }
          },
          "scene": {
           "xaxis": {
            "backgroundcolor": "#E5ECF6",
            "gridcolor": "white",
            "gridwidth": 2,
            "linecolor": "white",
            "showbackground": true,
            "ticks": "",
            "zerolinecolor": "white"
           },
           "yaxis": {
            "backgroundcolor": "#E5ECF6",
            "gridcolor": "white",
            "gridwidth": 2,
            "linecolor": "white",
            "showbackground": true,
            "ticks": "",
            "zerolinecolor": "white"
           },
           "zaxis": {
            "backgroundcolor": "#E5ECF6",
            "gridcolor": "white",
            "gridwidth": 2,
            "linecolor": "white",
            "showbackground": true,
            "ticks": "",
            "zerolinecolor": "white"
           }
          },
          "shapedefaults": {
           "line": {
            "color": "#2a3f5f"
           }
          },
          "ternary": {
           "aaxis": {
            "gridcolor": "white",
            "linecolor": "white",
            "ticks": ""
           },
           "baxis": {
            "gridcolor": "white",
            "linecolor": "white",
            "ticks": ""
           },
           "bgcolor": "#E5ECF6",
           "caxis": {
            "gridcolor": "white",
            "linecolor": "white",
            "ticks": ""
           }
          },
          "title": {
           "x": 0.05
          },
          "xaxis": {
           "automargin": true,
           "gridcolor": "white",
           "linecolor": "white",
           "ticks": "",
           "title": {
            "standoff": 15
           },
           "zerolinecolor": "white",
           "zerolinewidth": 2
          },
          "yaxis": {
           "automargin": true,
           "gridcolor": "white",
           "linecolor": "white",
           "ticks": "",
           "title": {
            "standoff": 15
           },
           "zerolinecolor": "white",
           "zerolinewidth": 2
          }
         }
        },
        "title": {
         "text": "Percentage of Fraudulent Transactions by Age Group",
         "x": 0.5,
         "xanchor": "center",
         "y": 0.9,
         "yanchor": "top"
        },
        "width": 800
       }
      }
     },
     "metadata": {},
     "output_type": "display_data"
    }
   ],
   "source": [
    "# Group data by 'age_description' and 'is_fraud'\n",
    "fraud_by_age = df2.groupby('age_description')['is_fraud'].sum().reset_index()\n",
    "\n",
    "# Rename the columns for clarity\n",
    "fraud_by_age.columns = ['Age Group', 'Fraudulent Transactions']\n",
    "\n",
    "# Calculate the total number of transactions for each age group to determine the percentage of fraudulent transactions\n",
    "total_transactions_by_age = df2.groupby('age_description')['is_fraud'].count().reset_index()\n",
    "total_transactions_by_age.columns = ['Age Group', 'Total Transactions']\n",
    "\n",
    "# Merge the dataframes to calculate the percentage of fraudulent transactions\n",
    "fraud_comparison = pd.merge(fraud_by_age, total_transactions_by_age, on='Age Group')\n",
    "fraud_comparison['Fraud Percentage'] = (fraud_comparison['Fraudulent Transactions'] / fraud_comparison['Total Transactions']) * 100\n",
    "\n",
    "# Create a bar chart using plotly for fraudulent transactions by age group\n",
    "fig = px.bar(\n",
    "    fraud_comparison, \n",
    "    x='Age Group', \n",
    "    y='Fraudulent Transactions', \n",
    "    title=\"Total Fraudulent Transactions by Age Group\",\n",
    "    labels={'Fraudulent Transactions': 'Fraud Cases', 'Age Group': 'Age Group'},\n",
    "    height=500, width=800\n",
    ")\n",
    "\n",
    "# Display the chart\n",
    "fig.show()\n",
    "\n",
    "# Pie chart for the percentage of fraudulent transactions by age group\n",
    "fig_pie = px.pie(\n",
    "    fraud_comparison, \n",
    "    names='Age Group', \n",
    "    values='Fraud Percentage', \n",
    "    title=\"Percentage of Fraudulent Transactions by Age Group\",\n",
    "    height=500, width=800,\n",
    "    hole=0.4\n",
    ")\n",
    "\n",
    "# Update the layout to center the legend vertically on the right margin and keep the pie chart size\n",
    "fig_pie.update_traces(\n",
    "    pull=[0.05 for _ in range(len(fraud_comparison))]  # Optional: slight \"pull\" effect for better clarity\n",
    ")\n",
    "\n",
    "# Adjust pie chart size by limiting the domain to avoid growth\n",
    "fig_pie.update_traces(domain=dict(x=[0.0, 0.65]))  # Adjust the domain for pie chart width\n",
    "\n",
    "fig_pie.update_layout(\n",
    "    legend=dict(\n",
    "        orientation=\"v\",  # Keep the legend vertical\n",
    "        yanchor=\"middle\",  # Align the legend to the middle vertically\n",
    "        y=0.5,  # Vertical center of the legend relative to the chart\n",
    "        xanchor=\"left\",  # Align the legend to the right of the chart\n",
    "        x=0.9  # Position slightly to the right of the pie chart\n",
    "    ),\n",
    "    title={\n",
    "        'text': 'Percentage of Fraudulent Transactions by Age Group',\n",
    "        'y':0.90,  # Position the title closer to the top\n",
    "        'x':0.5,  # Center the title horizontally\n",
    "        'xanchor': 'center',\n",
    "        'yanchor': 'top'\n",
    "    },\n",
    "    margin=dict(t=50, l=50, r=0)  # Adjust margins for proper spacing\n",
    ")\n",
    "\n",
    "# Display the updated pie chart\n",
    "fig_pie.show()"
   ]
  },
  {
   "cell_type": "code",
   "execution_count": 8,
   "metadata": {},
   "outputs": [
    {
     "data": {
      "application/vnd.plotly.v1+json": {
       "config": {
        "plotlyServerURL": "https://plot.ly"
       },
       "data": [
        {
         "domain": {
          "x": [
           0,
           0.65
          ],
          "y": [
           0,
           1
          ]
         },
         "hole": 0.4,
         "hovertemplate": "Category: %{label}<br>Fraud Percentage: %{value:.1f}%",
         "labels": [
          "entertainment",
          "food_dining",
          "gas_transport",
          "grocery_net",
          "grocery_pos",
          "health_fitness",
          "home",
          "kids_pets",
          "misc_net",
          "misc_pos",
          "personal_care",
          "shopping_net",
          "shopping_pos",
          "travel"
         ],
         "legendgroup": "",
         "name": "",
         "pull": [
          0.05,
          0.05,
          0.05,
          0.05,
          0.05,
          0.05,
          0.05,
          0.05,
          0.05,
          0.05,
          0.05,
          0.05,
          0.05,
          0.05
         ],
         "showlegend": true,
         "textinfo": "percent+label",
         "textposition": "inside",
         "type": "pie",
         "uid": "96779d69-66ea-428c-ada6-518826d8c9c2",
         "values": [
          1.9435156076953681,
          0.38805302074489484,
          0.09092856112130002,
          0.06681198361238329,
          3.760490833163805,
          0.05787615478567807,
          0.7105125562792962,
          0.06659429574408837,
          14.249866941444814,
          1.0893326938921557,
          0.13225187607679098,
          19.84572759321668,
          7.942045525319178,
          0.023279937850852923
         ]
        }
       ],
       "layout": {
        "height": 500,
        "legend": {
         "orientation": "v",
         "tracegroupgap": 0,
         "x": 0.7,
         "xanchor": "left",
         "y": 0.5,
         "yanchor": "middle"
        },
        "margin": {
         "l": 50,
         "r": 0,
         "t": 50
        },
        "showlegend": true,
        "template": {
         "data": {
          "bar": [
           {
            "error_x": {
             "color": "#2a3f5f"
            },
            "error_y": {
             "color": "#2a3f5f"
            },
            "marker": {
             "line": {
              "color": "#E5ECF6",
              "width": 0.5
             },
             "pattern": {
              "fillmode": "overlay",
              "size": 10,
              "solidity": 0.2
             }
            },
            "type": "bar"
           }
          ],
          "barpolar": [
           {
            "marker": {
             "line": {
              "color": "#E5ECF6",
              "width": 0.5
             },
             "pattern": {
              "fillmode": "overlay",
              "size": 10,
              "solidity": 0.2
             }
            },
            "type": "barpolar"
           }
          ],
          "carpet": [
           {
            "aaxis": {
             "endlinecolor": "#2a3f5f",
             "gridcolor": "white",
             "linecolor": "white",
             "minorgridcolor": "white",
             "startlinecolor": "#2a3f5f"
            },
            "baxis": {
             "endlinecolor": "#2a3f5f",
             "gridcolor": "white",
             "linecolor": "white",
             "minorgridcolor": "white",
             "startlinecolor": "#2a3f5f"
            },
            "type": "carpet"
           }
          ],
          "choropleth": [
           {
            "colorbar": {
             "outlinewidth": 0,
             "ticks": ""
            },
            "type": "choropleth"
           }
          ],
          "contour": [
           {
            "colorbar": {
             "outlinewidth": 0,
             "ticks": ""
            },
            "colorscale": [
             [
              0,
              "#0d0887"
             ],
             [
              0.1111111111111111,
              "#46039f"
             ],
             [
              0.2222222222222222,
              "#7201a8"
             ],
             [
              0.3333333333333333,
              "#9c179e"
             ],
             [
              0.4444444444444444,
              "#bd3786"
             ],
             [
              0.5555555555555556,
              "#d8576b"
             ],
             [
              0.6666666666666666,
              "#ed7953"
             ],
             [
              0.7777777777777778,
              "#fb9f3a"
             ],
             [
              0.8888888888888888,
              "#fdca26"
             ],
             [
              1,
              "#f0f921"
             ]
            ],
            "type": "contour"
           }
          ],
          "contourcarpet": [
           {
            "colorbar": {
             "outlinewidth": 0,
             "ticks": ""
            },
            "type": "contourcarpet"
           }
          ],
          "heatmap": [
           {
            "colorbar": {
             "outlinewidth": 0,
             "ticks": ""
            },
            "colorscale": [
             [
              0,
              "#0d0887"
             ],
             [
              0.1111111111111111,
              "#46039f"
             ],
             [
              0.2222222222222222,
              "#7201a8"
             ],
             [
              0.3333333333333333,
              "#9c179e"
             ],
             [
              0.4444444444444444,
              "#bd3786"
             ],
             [
              0.5555555555555556,
              "#d8576b"
             ],
             [
              0.6666666666666666,
              "#ed7953"
             ],
             [
              0.7777777777777778,
              "#fb9f3a"
             ],
             [
              0.8888888888888888,
              "#fdca26"
             ],
             [
              1,
              "#f0f921"
             ]
            ],
            "type": "heatmap"
           }
          ],
          "heatmapgl": [
           {
            "colorbar": {
             "outlinewidth": 0,
             "ticks": ""
            },
            "colorscale": [
             [
              0,
              "#0d0887"
             ],
             [
              0.1111111111111111,
              "#46039f"
             ],
             [
              0.2222222222222222,
              "#7201a8"
             ],
             [
              0.3333333333333333,
              "#9c179e"
             ],
             [
              0.4444444444444444,
              "#bd3786"
             ],
             [
              0.5555555555555556,
              "#d8576b"
             ],
             [
              0.6666666666666666,
              "#ed7953"
             ],
             [
              0.7777777777777778,
              "#fb9f3a"
             ],
             [
              0.8888888888888888,
              "#fdca26"
             ],
             [
              1,
              "#f0f921"
             ]
            ],
            "type": "heatmapgl"
           }
          ],
          "histogram": [
           {
            "marker": {
             "pattern": {
              "fillmode": "overlay",
              "size": 10,
              "solidity": 0.2
             }
            },
            "type": "histogram"
           }
          ],
          "histogram2d": [
           {
            "colorbar": {
             "outlinewidth": 0,
             "ticks": ""
            },
            "colorscale": [
             [
              0,
              "#0d0887"
             ],
             [
              0.1111111111111111,
              "#46039f"
             ],
             [
              0.2222222222222222,
              "#7201a8"
             ],
             [
              0.3333333333333333,
              "#9c179e"
             ],
             [
              0.4444444444444444,
              "#bd3786"
             ],
             [
              0.5555555555555556,
              "#d8576b"
             ],
             [
              0.6666666666666666,
              "#ed7953"
             ],
             [
              0.7777777777777778,
              "#fb9f3a"
             ],
             [
              0.8888888888888888,
              "#fdca26"
             ],
             [
              1,
              "#f0f921"
             ]
            ],
            "type": "histogram2d"
           }
          ],
          "histogram2dcontour": [
           {
            "colorbar": {
             "outlinewidth": 0,
             "ticks": ""
            },
            "colorscale": [
             [
              0,
              "#0d0887"
             ],
             [
              0.1111111111111111,
              "#46039f"
             ],
             [
              0.2222222222222222,
              "#7201a8"
             ],
             [
              0.3333333333333333,
              "#9c179e"
             ],
             [
              0.4444444444444444,
              "#bd3786"
             ],
             [
              0.5555555555555556,
              "#d8576b"
             ],
             [
              0.6666666666666666,
              "#ed7953"
             ],
             [
              0.7777777777777778,
              "#fb9f3a"
             ],
             [
              0.8888888888888888,
              "#fdca26"
             ],
             [
              1,
              "#f0f921"
             ]
            ],
            "type": "histogram2dcontour"
           }
          ],
          "mesh3d": [
           {
            "colorbar": {
             "outlinewidth": 0,
             "ticks": ""
            },
            "type": "mesh3d"
           }
          ],
          "parcoords": [
           {
            "line": {
             "colorbar": {
              "outlinewidth": 0,
              "ticks": ""
             }
            },
            "type": "parcoords"
           }
          ],
          "pie": [
           {
            "automargin": true,
            "type": "pie"
           }
          ],
          "scatter": [
           {
            "fillpattern": {
             "fillmode": "overlay",
             "size": 10,
             "solidity": 0.2
            },
            "type": "scatter"
           }
          ],
          "scatter3d": [
           {
            "line": {
             "colorbar": {
              "outlinewidth": 0,
              "ticks": ""
             }
            },
            "marker": {
             "colorbar": {
              "outlinewidth": 0,
              "ticks": ""
             }
            },
            "type": "scatter3d"
           }
          ],
          "scattercarpet": [
           {
            "marker": {
             "colorbar": {
              "outlinewidth": 0,
              "ticks": ""
             }
            },
            "type": "scattercarpet"
           }
          ],
          "scattergeo": [
           {
            "marker": {
             "colorbar": {
              "outlinewidth": 0,
              "ticks": ""
             }
            },
            "type": "scattergeo"
           }
          ],
          "scattergl": [
           {
            "marker": {
             "colorbar": {
              "outlinewidth": 0,
              "ticks": ""
             }
            },
            "type": "scattergl"
           }
          ],
          "scattermapbox": [
           {
            "marker": {
             "colorbar": {
              "outlinewidth": 0,
              "ticks": ""
             }
            },
            "type": "scattermapbox"
           }
          ],
          "scatterpolar": [
           {
            "marker": {
             "colorbar": {
              "outlinewidth": 0,
              "ticks": ""
             }
            },
            "type": "scatterpolar"
           }
          ],
          "scatterpolargl": [
           {
            "marker": {
             "colorbar": {
              "outlinewidth": 0,
              "ticks": ""
             }
            },
            "type": "scatterpolargl"
           }
          ],
          "scatterternary": [
           {
            "marker": {
             "colorbar": {
              "outlinewidth": 0,
              "ticks": ""
             }
            },
            "type": "scatterternary"
           }
          ],
          "surface": [
           {
            "colorbar": {
             "outlinewidth": 0,
             "ticks": ""
            },
            "colorscale": [
             [
              0,
              "#0d0887"
             ],
             [
              0.1111111111111111,
              "#46039f"
             ],
             [
              0.2222222222222222,
              "#7201a8"
             ],
             [
              0.3333333333333333,
              "#9c179e"
             ],
             [
              0.4444444444444444,
              "#bd3786"
             ],
             [
              0.5555555555555556,
              "#d8576b"
             ],
             [
              0.6666666666666666,
              "#ed7953"
             ],
             [
              0.7777777777777778,
              "#fb9f3a"
             ],
             [
              0.8888888888888888,
              "#fdca26"
             ],
             [
              1,
              "#f0f921"
             ]
            ],
            "type": "surface"
           }
          ],
          "table": [
           {
            "cells": {
             "fill": {
              "color": "#EBF0F8"
             },
             "line": {
              "color": "white"
             }
            },
            "header": {
             "fill": {
              "color": "#C8D4E3"
             },
             "line": {
              "color": "white"
             }
            },
            "type": "table"
           }
          ]
         },
         "layout": {
          "annotationdefaults": {
           "arrowcolor": "#2a3f5f",
           "arrowhead": 0,
           "arrowwidth": 1
          },
          "autotypenumbers": "strict",
          "coloraxis": {
           "colorbar": {
            "outlinewidth": 0,
            "ticks": ""
           }
          },
          "colorscale": {
           "diverging": [
            [
             0,
             "#8e0152"
            ],
            [
             0.1,
             "#c51b7d"
            ],
            [
             0.2,
             "#de77ae"
            ],
            [
             0.3,
             "#f1b6da"
            ],
            [
             0.4,
             "#fde0ef"
            ],
            [
             0.5,
             "#f7f7f7"
            ],
            [
             0.6,
             "#e6f5d0"
            ],
            [
             0.7,
             "#b8e186"
            ],
            [
             0.8,
             "#7fbc41"
            ],
            [
             0.9,
             "#4d9221"
            ],
            [
             1,
             "#276419"
            ]
           ],
           "sequential": [
            [
             0,
             "#0d0887"
            ],
            [
             0.1111111111111111,
             "#46039f"
            ],
            [
             0.2222222222222222,
             "#7201a8"
            ],
            [
             0.3333333333333333,
             "#9c179e"
            ],
            [
             0.4444444444444444,
             "#bd3786"
            ],
            [
             0.5555555555555556,
             "#d8576b"
            ],
            [
             0.6666666666666666,
             "#ed7953"
            ],
            [
             0.7777777777777778,
             "#fb9f3a"
            ],
            [
             0.8888888888888888,
             "#fdca26"
            ],
            [
             1,
             "#f0f921"
            ]
           ],
           "sequentialminus": [
            [
             0,
             "#0d0887"
            ],
            [
             0.1111111111111111,
             "#46039f"
            ],
            [
             0.2222222222222222,
             "#7201a8"
            ],
            [
             0.3333333333333333,
             "#9c179e"
            ],
            [
             0.4444444444444444,
             "#bd3786"
            ],
            [
             0.5555555555555556,
             "#d8576b"
            ],
            [
             0.6666666666666666,
             "#ed7953"
            ],
            [
             0.7777777777777778,
             "#fb9f3a"
            ],
            [
             0.8888888888888888,
             "#fdca26"
            ],
            [
             1,
             "#f0f921"
            ]
           ]
          },
          "colorway": [
           "#636efa",
           "#EF553B",
           "#00cc96",
           "#ab63fa",
           "#FFA15A",
           "#19d3f3",
           "#FF6692",
           "#B6E880",
           "#FF97FF",
           "#FECB52"
          ],
          "font": {
           "color": "#2a3f5f"
          },
          "geo": {
           "bgcolor": "white",
           "lakecolor": "white",
           "landcolor": "#E5ECF6",
           "showlakes": true,
           "showland": true,
           "subunitcolor": "white"
          },
          "hoverlabel": {
           "align": "left"
          },
          "hovermode": "closest",
          "mapbox": {
           "style": "light"
          },
          "paper_bgcolor": "white",
          "plot_bgcolor": "#E5ECF6",
          "polar": {
           "angularaxis": {
            "gridcolor": "white",
            "linecolor": "white",
            "ticks": ""
           },
           "bgcolor": "#E5ECF6",
           "radialaxis": {
            "gridcolor": "white",
            "linecolor": "white",
            "ticks": ""
           }
          },
          "scene": {
           "xaxis": {
            "backgroundcolor": "#E5ECF6",
            "gridcolor": "white",
            "gridwidth": 2,
            "linecolor": "white",
            "showbackground": true,
            "ticks": "",
            "zerolinecolor": "white"
           },
           "yaxis": {
            "backgroundcolor": "#E5ECF6",
            "gridcolor": "white",
            "gridwidth": 2,
            "linecolor": "white",
            "showbackground": true,
            "ticks": "",
            "zerolinecolor": "white"
           },
           "zaxis": {
            "backgroundcolor": "#E5ECF6",
            "gridcolor": "white",
            "gridwidth": 2,
            "linecolor": "white",
            "showbackground": true,
            "ticks": "",
            "zerolinecolor": "white"
           }
          },
          "shapedefaults": {
           "line": {
            "color": "#2a3f5f"
           }
          },
          "ternary": {
           "aaxis": {
            "gridcolor": "white",
            "linecolor": "white",
            "ticks": ""
           },
           "baxis": {
            "gridcolor": "white",
            "linecolor": "white",
            "ticks": ""
           },
           "bgcolor": "#E5ECF6",
           "caxis": {
            "gridcolor": "white",
            "linecolor": "white",
            "ticks": ""
           }
          },
          "title": {
           "x": 0.05
          },
          "xaxis": {
           "automargin": true,
           "gridcolor": "white",
           "linecolor": "white",
           "ticks": "",
           "title": {
            "standoff": 15
           },
           "zerolinecolor": "white",
           "zerolinewidth": 2
          },
          "yaxis": {
           "automargin": true,
           "gridcolor": "white",
           "linecolor": "white",
           "ticks": "",
           "title": {
            "standoff": 15
           },
           "zerolinecolor": "white",
           "zerolinewidth": 2
          }
         }
        },
        "title": {
         "text": "Percentage of Fraudulent Transactions by Category",
         "x": 0.5,
         "xanchor": "center",
         "y": 0.95,
         "yanchor": "top"
        },
        "width": 800
       }
      }
     },
     "metadata": {},
     "output_type": "display_data"
    }
   ],
   "source": [
    "# Filter for fraudulent transactions\n",
    "fraud_data = df2[df2['is_fraud'] == 1]\n",
    "\n",
    "# Group the data by 'category' and sum the 'amt' for each category\n",
    "fraud_by_category = fraud_data.groupby('category')['amt'].sum().reset_index()\n",
    "\n",
    "# Calculate the total amount for each category (including non-fraudulent transactions)\n",
    "total_by_category = df2.groupby('category')['amt'].sum().reset_index()\n",
    "\n",
    "# Merge both dataframes to calculate the percentage of fraud for each category\n",
    "fraud_percentage_by_category = pd.merge(fraud_by_category, total_by_category, on='category', suffixes=('_fraud', '_total'))\n",
    "\n",
    "# Calculate the percentage of fraudulent transactions for each category\n",
    "fraud_percentage_by_category['fraud_percentage'] = (fraud_percentage_by_category['amt_fraud'] / fraud_percentage_by_category['amt_total']) * 100\n",
    "\n",
    "# Create a pie chart using plotly for the percentage of fraudulent transactions by category\n",
    "fig = px.pie(\n",
    "    fraud_percentage_by_category, \n",
    "    values='fraud_percentage', \n",
    "    names='category', \n",
    "    title=\"Percentage of Fraudulent Transactions by Category\",\n",
    "    height=500, width=800, hole=0.40\n",
    ")\n",
    "\n",
    "# Break out slices with a border and update the hover template\n",
    "fig.update_traces(\n",
    "    pull=[0.05 for _ in fraud_percentage_by_category['category']],  # Slightly pull out each slice\n",
    "    textposition='inside', \n",
    "    textinfo='percent+label',\n",
    "    hovertemplate='Category: %{label}<br>Fraud Percentage: %{value:.1f}%'  # Show percentage on hover\n",
    ")\n",
    "\n",
    "# Match the layout and style to Cell 1\n",
    "fig.update_layout(\n",
    "    title={\n",
    "        'text': \"Percentage of Fraudulent Transactions by Category\",\n",
    "        'y':0.95,  # Position the title closer to the top\n",
    "        'x':0.5,   # Center the title horizontally\n",
    "        'xanchor': 'center',\n",
    "        'yanchor': 'top'\n",
    "    },\n",
    "    legend=dict(\n",
    "        orientation=\"v\",  # Keep the legend vertical\n",
    "        yanchor=\"middle\",  # Align the legend to the middle vertically\n",
    "        y=0.5,  # Vertical center of the legend relative to the chart\n",
    "        xanchor=\"left\",  # Align the legend to the right of the chart\n",
    "        x=0.7  # Position slightly to the right of the pie chart\n",
    "    ),\n",
    "    margin=dict(t=50, l=50, r=0),  # Adjust margins to match Cell 1\n",
    "    showlegend=True  # Ensure the legend is displayed\n",
    ")\n",
    "\n",
    "# Adjust pie chart size by limiting the domain to avoid growth (optional step)\n",
    "fig.update_traces(domain=dict(x=[0.0, 0.65]))\n",
    "\n",
    "# Display the pie chart\n",
    "fig.show()"
   ]
  },
  {
   "cell_type": "code",
   "execution_count": 9,
   "metadata": {},
   "outputs": [
    {
     "data": {
      "text/html": [
       "<div>\n",
       "<style scoped>\n",
       "    .dataframe tbody tr th:only-of-type {\n",
       "        vertical-align: middle;\n",
       "    }\n",
       "\n",
       "    .dataframe tbody tr th {\n",
       "        vertical-align: top;\n",
       "    }\n",
       "\n",
       "    .dataframe thead th {\n",
       "        text-align: right;\n",
       "    }\n",
       "</style>\n",
       "<table border=\"1\" class=\"dataframe\">\n",
       "  <thead>\n",
       "    <tr style=\"text-align: right;\">\n",
       "      <th></th>\n",
       "      <th>date</th>\n",
       "      <th>fraud_charge_count</th>\n",
       "    </tr>\n",
       "  </thead>\n",
       "  <tbody>\n",
       "    <tr>\n",
       "      <th>0</th>\n",
       "      <td>2019-01-02</td>\n",
       "      <td>7</td>\n",
       "    </tr>\n",
       "    <tr>\n",
       "      <th>1</th>\n",
       "      <td>2019-01-03</td>\n",
       "      <td>12</td>\n",
       "    </tr>\n",
       "    <tr>\n",
       "      <th>2</th>\n",
       "      <td>2019-01-04</td>\n",
       "      <td>13</td>\n",
       "    </tr>\n",
       "    <tr>\n",
       "      <th>3</th>\n",
       "      <td>2019-01-05</td>\n",
       "      <td>13</td>\n",
       "    </tr>\n",
       "    <tr>\n",
       "      <th>4</th>\n",
       "      <td>2019-01-06</td>\n",
       "      <td>2</td>\n",
       "    </tr>\n",
       "    <tr>\n",
       "      <th>...</th>\n",
       "      <td>...</td>\n",
       "      <td>...</td>\n",
       "    </tr>\n",
       "    <tr>\n",
       "      <th>499</th>\n",
       "      <td>2020-06-17</td>\n",
       "      <td>35</td>\n",
       "    </tr>\n",
       "    <tr>\n",
       "      <th>500</th>\n",
       "      <td>2020-06-18</td>\n",
       "      <td>39</td>\n",
       "    </tr>\n",
       "    <tr>\n",
       "      <th>501</th>\n",
       "      <td>2020-06-19</td>\n",
       "      <td>25</td>\n",
       "    </tr>\n",
       "    <tr>\n",
       "      <th>502</th>\n",
       "      <td>2020-06-20</td>\n",
       "      <td>26</td>\n",
       "    </tr>\n",
       "    <tr>\n",
       "      <th>503</th>\n",
       "      <td>2020-06-21</td>\n",
       "      <td>7</td>\n",
       "    </tr>\n",
       "  </tbody>\n",
       "</table>\n",
       "<p>504 rows × 2 columns</p>\n",
       "</div>"
      ],
      "text/plain": [
       "           date  fraud_charge_count\n",
       "0    2019-01-02                   7\n",
       "1    2019-01-03                  12\n",
       "2    2019-01-04                  13\n",
       "3    2019-01-05                  13\n",
       "4    2019-01-06                   2\n",
       "..          ...                 ...\n",
       "499  2020-06-17                  35\n",
       "500  2020-06-18                  39\n",
       "501  2020-06-19                  25\n",
       "502  2020-06-20                  26\n",
       "503  2020-06-21                   7\n",
       "\n",
       "[504 rows x 2 columns]"
      ]
     },
     "execution_count": 9,
     "metadata": {},
     "output_type": "execute_result"
    }
   ],
   "source": [
    "# Filter for fraudulent transactions and group by date, counting the number of fraud charges\n",
    "fraud_df = df2[df2['is_fraud'] == 1].groupby('trans_date')['is_fraud'].count().reset_index()\n",
    "\n",
    "# Rename columns for clarity\n",
    "fraud_df.columns = ['date', 'fraud_charge_count']\n",
    "\n",
    "# Display the resulting DataFrame\n",
    "fraud_df\n",
    "\n"
   ]
  },
  {
   "cell_type": "code",
   "execution_count": 10,
   "metadata": {},
   "outputs": [
    {
     "data": {
      "text/html": [
       "<div>\n",
       "<style scoped>\n",
       "    .dataframe tbody tr th:only-of-type {\n",
       "        vertical-align: middle;\n",
       "    }\n",
       "\n",
       "    .dataframe tbody tr th {\n",
       "        vertical-align: top;\n",
       "    }\n",
       "\n",
       "    .dataframe thead th {\n",
       "        text-align: right;\n",
       "    }\n",
       "</style>\n",
       "<table border=\"1\" class=\"dataframe\">\n",
       "  <thead>\n",
       "    <tr style=\"text-align: right;\">\n",
       "      <th></th>\n",
       "      <th>ds</th>\n",
       "      <th>y</th>\n",
       "    </tr>\n",
       "  </thead>\n",
       "  <tbody>\n",
       "    <tr>\n",
       "      <th>499</th>\n",
       "      <td>2020-06-17</td>\n",
       "      <td>35</td>\n",
       "    </tr>\n",
       "    <tr>\n",
       "      <th>500</th>\n",
       "      <td>2020-06-18</td>\n",
       "      <td>39</td>\n",
       "    </tr>\n",
       "    <tr>\n",
       "      <th>501</th>\n",
       "      <td>2020-06-19</td>\n",
       "      <td>25</td>\n",
       "    </tr>\n",
       "    <tr>\n",
       "      <th>502</th>\n",
       "      <td>2020-06-20</td>\n",
       "      <td>26</td>\n",
       "    </tr>\n",
       "    <tr>\n",
       "      <th>503</th>\n",
       "      <td>2020-06-21</td>\n",
       "      <td>7</td>\n",
       "    </tr>\n",
       "  </tbody>\n",
       "</table>\n",
       "</div>"
      ],
      "text/plain": [
       "             ds   y\n",
       "499  2020-06-17  35\n",
       "500  2020-06-18  39\n",
       "501  2020-06-19  25\n",
       "502  2020-06-20  26\n",
       "503  2020-06-21   7"
      ]
     },
     "execution_count": 10,
     "metadata": {},
     "output_type": "execute_result"
    }
   ],
   "source": [
    "# Rename columns for Prophet\n",
    "fraud_df.columns=['ds','y']\n",
    "fraud_df.tail()"
   ]
  },
  {
   "cell_type": "code",
   "execution_count": 11,
   "metadata": {},
   "outputs": [
    {
     "name": "stderr",
     "output_type": "stream",
     "text": [
      "20:42:39 - cmdstanpy - INFO - Chain [1] start processing\n",
      "20:42:39 - cmdstanpy - INFO - Chain [1] done processing\n"
     ]
    },
    {
     "data": {
      "text/html": [
       "<div>\n",
       "<style scoped>\n",
       "    .dataframe tbody tr th:only-of-type {\n",
       "        vertical-align: middle;\n",
       "    }\n",
       "\n",
       "    .dataframe tbody tr th {\n",
       "        vertical-align: top;\n",
       "    }\n",
       "\n",
       "    .dataframe thead th {\n",
       "        text-align: right;\n",
       "    }\n",
       "</style>\n",
       "<table border=\"1\" class=\"dataframe\">\n",
       "  <thead>\n",
       "    <tr style=\"text-align: right;\">\n",
       "      <th></th>\n",
       "      <th>ds</th>\n",
       "      <th>yhat</th>\n",
       "      <th>yhat_lower</th>\n",
       "      <th>yhat_upper</th>\n",
       "    </tr>\n",
       "  </thead>\n",
       "  <tbody>\n",
       "    <tr>\n",
       "      <th>0</th>\n",
       "      <td>2019-01-02</td>\n",
       "      <td>12.982760</td>\n",
       "      <td>2.151075</td>\n",
       "      <td>23.993927</td>\n",
       "    </tr>\n",
       "    <tr>\n",
       "      <th>1</th>\n",
       "      <td>2019-01-03</td>\n",
       "      <td>15.113664</td>\n",
       "      <td>3.912963</td>\n",
       "      <td>26.728015</td>\n",
       "    </tr>\n",
       "    <tr>\n",
       "      <th>2</th>\n",
       "      <td>2019-01-04</td>\n",
       "      <td>15.699244</td>\n",
       "      <td>4.255368</td>\n",
       "      <td>27.071044</td>\n",
       "    </tr>\n",
       "    <tr>\n",
       "      <th>3</th>\n",
       "      <td>2019-01-05</td>\n",
       "      <td>17.770221</td>\n",
       "      <td>6.155748</td>\n",
       "      <td>29.278862</td>\n",
       "    </tr>\n",
       "    <tr>\n",
       "      <th>4</th>\n",
       "      <td>2019-01-06</td>\n",
       "      <td>17.142521</td>\n",
       "      <td>5.308027</td>\n",
       "      <td>28.921197</td>\n",
       "    </tr>\n",
       "  </tbody>\n",
       "</table>\n",
       "</div>"
      ],
      "text/plain": [
       "          ds       yhat  yhat_lower  yhat_upper\n",
       "0 2019-01-02  12.982760    2.151075   23.993927\n",
       "1 2019-01-03  15.113664    3.912963   26.728015\n",
       "2 2019-01-04  15.699244    4.255368   27.071044\n",
       "3 2019-01-05  17.770221    6.155748   29.278862\n",
       "4 2019-01-06  17.142521    5.308027   28.921197"
      ]
     },
     "metadata": {},
     "output_type": "display_data"
    },
    {
     "data": {
      "text/html": [
       "<div>\n",
       "<style scoped>\n",
       "    .dataframe tbody tr th:only-of-type {\n",
       "        vertical-align: middle;\n",
       "    }\n",
       "\n",
       "    .dataframe tbody tr th {\n",
       "        vertical-align: top;\n",
       "    }\n",
       "\n",
       "    .dataframe thead th {\n",
       "        text-align: right;\n",
       "    }\n",
       "</style>\n",
       "<table border=\"1\" class=\"dataframe\">\n",
       "  <thead>\n",
       "    <tr style=\"text-align: right;\">\n",
       "      <th></th>\n",
       "      <th>ds</th>\n",
       "      <th>yhat</th>\n",
       "      <th>yhat_lower</th>\n",
       "      <th>yhat_upper</th>\n",
       "    </tr>\n",
       "  </thead>\n",
       "  <tbody>\n",
       "    <tr>\n",
       "      <th>864</th>\n",
       "      <td>2021-06-17</td>\n",
       "      <td>12.653994</td>\n",
       "      <td>1.168636</td>\n",
       "      <td>24.930786</td>\n",
       "    </tr>\n",
       "    <tr>\n",
       "      <th>865</th>\n",
       "      <td>2021-06-18</td>\n",
       "      <td>13.239610</td>\n",
       "      <td>1.227775</td>\n",
       "      <td>25.282468</td>\n",
       "    </tr>\n",
       "    <tr>\n",
       "      <th>866</th>\n",
       "      <td>2021-06-19</td>\n",
       "      <td>15.310624</td>\n",
       "      <td>2.644683</td>\n",
       "      <td>25.958445</td>\n",
       "    </tr>\n",
       "    <tr>\n",
       "      <th>867</th>\n",
       "      <td>2021-06-20</td>\n",
       "      <td>14.682961</td>\n",
       "      <td>2.859689</td>\n",
       "      <td>26.155453</td>\n",
       "    </tr>\n",
       "    <tr>\n",
       "      <th>868</th>\n",
       "      <td>2021-06-21</td>\n",
       "      <td>14.446993</td>\n",
       "      <td>2.558218</td>\n",
       "      <td>25.144012</td>\n",
       "    </tr>\n",
       "  </tbody>\n",
       "</table>\n",
       "</div>"
      ],
      "text/plain": [
       "            ds       yhat  yhat_lower  yhat_upper\n",
       "864 2021-06-17  12.653994    1.168636   24.930786\n",
       "865 2021-06-18  13.239610    1.227775   25.282468\n",
       "866 2021-06-19  15.310624    2.644683   25.958445\n",
       "867 2021-06-20  14.682961    2.859689   26.155453\n",
       "868 2021-06-21  14.446993    2.558218   25.144012"
      ]
     },
     "metadata": {},
     "output_type": "display_data"
    }
   ],
   "source": [
    "# Initialize a Prophet model\n",
    "model = Prophet()\n",
    "\n",
    "# Fit the model to the data\n",
    "model.fit(fraud_df)\n",
    "\n",
    "# Create a DataFrame for future dates to forecast\n",
    "future = model.make_future_dataframe(periods=365)  # Adjust the periods as needed\n",
    "\n",
    "# Make predictions\n",
    "fraud_forecast = model.predict(future)\n",
    "\n",
    "# Display the forecast\n",
    "display(fraud_forecast[['ds', 'yhat', 'yhat_lower', 'yhat_upper']].head())\n",
    "display(fraud_forecast[['ds', 'yhat', 'yhat_lower', 'yhat_upper']].tail())\n"
   ]
  },
  {
   "cell_type": "code",
   "execution_count": 12,
   "metadata": {},
   "outputs": [
    {
     "data": {
      "image/png": "[encoded data removed]",
      "text/plain": [
       "<Figure size 1200x600 with 1 Axes>"
      ]
     },
     "metadata": {},
     "output_type": "display_data"
    }
   ],
   "source": [
    "# Filter the forecast to start from 2020-06-21\n",
    "start_date = '2020-06-21'\n",
    "fraud_forecast_filtered = fraud_forecast[fraud_forecast['ds'] >= start_date]\n",
    "\n",
    "# Plotting the forecast\n",
    "plt.figure(figsize=(12, 6))\n",
    "\n",
    "# Plot the forecasted values\n",
    "plt.plot(fraud_forecast_filtered['ds'], fraud_forecast_filtered['yhat'], label='Predicted Fraud Charges', color='blue')\n",
    "\n",
    "# Plot the confidence intervals\n",
    "plt.fill_between(fraud_forecast_filtered['ds'], \n",
    "                 fraud_forecast_filtered['yhat_lower'], \n",
    "                 fraud_forecast_filtered['yhat_upper'], \n",
    "                 color='lightblue', \n",
    "                 alpha=0.5, \n",
    "                 label='Confidence Interval')\n",
    "\n",
    "# Add labels and title\n",
    "plt.title('Fraud Charge Forecast Starting from 2020-06-21', fontsize=16)\n",
    "plt.xlabel('Date', fontsize=14)\n",
    "plt.ylabel('Number of Fraud Charges', fontsize=14)\n",
    "plt.xticks(rotation=45)  # Rotate x-axis labels for better readability\n",
    "plt.legend()\n",
    "plt.grid()\n",
    "\n",
    "# Show the plot\n",
    "plt.tight_layout()  # Adjust layout to prevent clipping of labels\n",
    "plt.show()\n"
   ]
  },
  {
   "cell_type": "code",
   "execution_count": 13,
   "metadata": {},
   "outputs": [
    {
     "data": {},
     "metadata": {},
     "output_type": "display_data"
    },
    {
     "data": {
      "application/vnd.holoviews_exec.v0+json": "",
      "text/html": [
       "<div id='p1004'>\n",
       "  <div id=\"fa2664bb-f706-45a4-8e02-8582107150dc\" data-root-id=\"p1004\" style=\"display: contents;\"></div>\n",
       "</div>\n",
       "<script type=\"application/javascript\">(function(root) {\n",
       "  var docs_json = {\"1cedec4f-fe5e-436d-a388-d0d7436308fe\":{\"version\":\"3.4.1\",\"title\":\"Bokeh Application\",\"roots\":[{\"type\":\"object\",\"name\":\"Row\",\"id\":\"p1004\",\"attributes\":{\"name\":\"Row01173\",\"tags\":[\"embedded\"],\"stylesheets\":[\"\\n:host(.pn-loading):before, .pn-loading:before {\\n  background-color: #c3c3c3;\\n  mask-size: auto calc(min(50%, 400px));\\n  -webkit-mask-size: auto calc(min(50%, 400px));\\n}\",{\"type\":\"object\",\"name\":\"ImportedStyleSheet\",\"id\":\"p1007\",\"attributes\":{\"url\":\"https://cdn.holoviz.org/panel/1.4.4/dist/css/loading.css\"}},{\"type\":\"object\",\"name\":\"ImportedStyleSheet\",\"id\":\"p1111\",\"attributes\":{\"url\":\"https://cdn.holoviz.org/panel/1.4.4/dist/css/listpanel.css\"}},{\"type\":\"object\",\"name\":\"ImportedStyleSheet\",\"id\":\"p1005\",\"attributes\":{\"url\":\"https://cdn.holoviz.org/panel/1.4.4/dist/bundled/theme/default.css\"}},{\"type\":\"object\",\"name\":\"ImportedStyleSheet\",\"id\":\"p1006\",\"attributes\":{\"url\":\"https://cdn.holoviz.org/panel/1.4.4/dist/bundled/theme/native.css\"}}],\"min_width\":1000,\"margin\":0,\"sizing_mode\":\"stretch_width\",\"align\":\"start\",\"children\":[{\"type\":\"object\",\"name\":\"Spacer\",\"id\":\"p1008\",\"attributes\":{\"name\":\"HSpacer01180\",\"stylesheets\":[\"\\n:host(.pn-loading):before, .pn-loading:before {\\n  background-color: #c3c3c3;\\n  mask-size: auto calc(min(50%, 400px));\\n  -webkit-mask-size: auto calc(min(50%, 400px));\\n}\",{\"id\":\"p1007\"},{\"id\":\"p1005\"},{\"id\":\"p1006\"}],\"margin\":0,\"sizing_mode\":\"stretch_width\",\"align\":\"start\"}},{\"type\":\"object\",\"name\":\"Figure\",\"id\":\"p1022\",\"attributes\":{\"width\":1000,\"margin\":[5,10],\"sizing_mode\":\"fixed\",\"align\":\"start\",\"x_range\":{\"type\":\"object\",\"name\":\"Range1d\",\"id\":\"p1009\",\"attributes\":{\"tags\":[[[\"ds\",null]],[]],\"start\":1546387200000.0,\"end\":1624233600000.0,\"reset_start\":1546387200000.0,\"reset_end\":1624233600000.0}},\"y_range\":{\"type\":\"object\",\"name\":\"Range1d\",\"id\":\"p1010\",\"attributes\":{\"tags\":[[[\"actual_fraud_count\",null]],{\"type\":\"map\",\"entries\":[[\"invert_yaxis\",false],[\"autorange\",false]]}],\"start\":-7.009423978561109,\"end\":55.182674907141916,\"reset_start\":-7.009423978561109,\"reset_end\":55.182674907141916}},\"x_scale\":{\"type\":\"object\",\"name\":\"LinearScale\",\"id\":\"p1032\"},\"y_scale\":{\"type\":\"object\",\"name\":\"LinearScale\",\"id\":\"p1033\"},\"title\":{\"type\":\"object\",\"name\":\"Title\",\"id\":\"p1025\",\"attributes\":{\"text\":\"Fraud Charge Forecasting\",\"text_color\":\"black\",\"text_font_size\":\"12pt\"}},\"renderers\":[{\"type\":\"object\",\"name\":\"GlyphRenderer\",\"id\":\"p1074\",\"attributes\":{\"name\":\"Actual Fraud Charges\",\"data_source\":{\"type\":\"object\",\"name\":\"ColumnDataSource\",\"id\":\"p1065\",\"attributes\":{\"selected\":{\"type\":\"object\",\"name\":\"Selection\",\"id\":\"p1066\",\"attributes\":{\"indices\":[],\"line_indices\":[]}},\"selection_policy\":{\"type\":\"object\",\"name\":\"UnionRenderers\",\"id\":\"p1067\"},\"data\":{\"type\":\"map\",\"entries\":[[\"ds\",{\"type\":\"ndarray\",\"array\":{\"type\":\"bytes\",\"data\":\"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\"},\"shape\":[869],\"dtype\":\"float64\",\"order\":\"little\"}],[\"actual_fraud_count\",{\"type\":\"ndarray\",\"array\":{\"type\":\"bytes\",\"data\":\"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\"},\"shape\":[869],\"dtype\":\"float64\",\"order\":\"little\"}]]}}},\"view\":{\"type\":\"object\",\"name\":\"CDSView\",\"id\":\"p1075\",\"attributes\":{\"filter\":{\"type\":\"object\",\"name\":\"AllIndices\",\"id\":\"p1076\"}}},\"glyph\":{\"type\":\"object\",\"name\":\"Line\",\"id\":\"p1071\",\"attributes\":{\"tags\":[\"apply_ranges\"],\"x\":{\"type\":\"field\",\"field\":\"ds\"},\"y\":{\"type\":\"field\",\"field\":\"actual_fraud_count\"},\"line_color\":\"blue\",\"line_width\":2}},\"selection_glyph\":{\"type\":\"object\",\"name\":\"Line\",\"id\":\"p1079\",\"attributes\":{\"tags\":[\"apply_ranges\"],\"x\":{\"type\":\"field\",\"field\":\"ds\"},\"y\":{\"type\":\"field\",\"field\":\"actual_fraud_count\"},\"line_color\":\"blue\",\"line_width\":2}},\"nonselection_glyph\":{\"type\":\"object\",\"name\":\"Line\",\"id\":\"p1072\",\"attributes\":{\"tags\":[\"apply_ranges\"],\"x\":{\"type\":\"field\",\"field\":\"ds\"},\"y\":{\"type\":\"field\",\"field\":\"actual_fraud_count\"},\"line_color\":\"blue\",\"line_alpha\":0.1,\"line_width\":2}},\"muted_glyph\":{\"type\":\"object\",\"name\":\"Line\",\"id\":\"p1073\",\"attributes\":{\"tags\":[\"apply_ranges\"],\"x\":{\"type\":\"field\",\"field\":\"ds\"},\"y\":{\"type\":\"field\",\"field\":\"actual_fraud_count\"},\"line_color\":\"blue\",\"line_alpha\":0.2,\"line_width\":2}}}},{\"type\":\"object\",\"name\":\"GlyphRenderer\",\"id\":\"p1089\",\"attributes\":{\"name\":\"Forecasted Fraud Charges\",\"data_source\":{\"type\":\"object\",\"name\":\"ColumnDataSource\",\"id\":\"p1080\",\"attributes\":{\"selected\":{\"type\":\"object\",\"name\":\"Selection\",\"id\":\"p1081\",\"attributes\":{\"indices\":[],\"line_indices\":[]}},\"selection_policy\":{\"type\":\"object\",\"name\":\"UnionRenderers\",\"id\":\"p1082\"},\"data\":{\"type\":\"map\",\"entries\":[[\"ds\",{\"type\":\"ndarray\",\"array\":{\"type\":\"bytes\",\"data\":\"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\"},\"shape\":[869],\"dtype\":\"float64\",\"order\":\"little\"}],[\"yhat\",{\"type\":\"ndarray\",\"array\":{\"type\":\"bytes\",\"data\":\"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\"},\"shape\":[869],\"dtype\":\"float64\",\"order\":\"little\"}]]}}},\"view\":{\"type\":\"object\",\"name\":\"CDSView\",\"id\":\"p1090\",\"attributes\":{\"filter\":{\"type\":\"object\",\"name\":\"AllIndices\",\"id\":\"p1091\"}}},\"glyph\":{\"type\":\"object\",\"name\":\"Line\",\"id\":\"p1086\",\"attributes\":{\"tags\":[\"apply_ranges\"],\"x\":{\"type\":\"field\",\"field\":\"ds\"},\"y\":{\"type\":\"field\",\"field\":\"yhat\"},\"line_color\":\"orange\",\"line_width\":2}},\"selection_glyph\":{\"type\":\"object\",\"name\":\"Line\",\"id\":\"p1093\",\"attributes\":{\"tags\":[\"apply_ranges\"],\"x\":{\"type\":\"field\",\"field\":\"ds\"},\"y\":{\"type\":\"field\",\"field\":\"yhat\"},\"line_color\":\"orange\",\"line_width\":2}},\"nonselection_glyph\":{\"type\":\"object\",\"name\":\"Line\",\"id\":\"p1087\",\"attributes\":{\"tags\":[\"apply_ranges\"],\"x\":{\"type\":\"field\",\"field\":\"ds\"},\"y\":{\"type\":\"field\",\"field\":\"yhat\"},\"line_color\":\"orange\",\"line_alpha\":0.1,\"line_width\":2}},\"muted_glyph\":{\"type\":\"object\",\"name\":\"Line\",\"id\":\"p1088\",\"attributes\":{\"tags\":[\"apply_ranges\"],\"x\":{\"type\":\"field\",\"field\":\"ds\"},\"y\":{\"type\":\"field\",\"field\":\"yhat\"},\"line_color\":\"orange\",\"line_alpha\":0.2,\"line_width\":2}}}},{\"type\":\"object\",\"name\":\"GlyphRenderer\",\"id\":\"p1103\",\"attributes\":{\"name\":\"Uncertainty Interval\",\"data_source\":{\"type\":\"object\",\"name\":\"ColumnDataSource\",\"id\":\"p1094\",\"attributes\":{\"selected\":{\"type\":\"object\",\"name\":\"Selection\",\"id\":\"p1095\",\"attributes\":{\"indices\":[],\"line_indices\":[]}},\"selection_policy\":{\"type\":\"object\",\"name\":\"UnionRenderers\",\"id\":\"p1096\"},\"data\":{\"type\":\"map\",\"entries\":[[\"x\",{\"type\":\"ndarray\",\"array\":{\"type\":\"bytes\",\"data\":\"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\"},\"shape\":[1738],\"dtype\":\"float64\",\"order\":\"little\"}],[\"y\",{\"type\":\"ndarray\",\"array\":{\"type\":\"bytes\",\"data\":\"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\"},\"shape\":[1738],\"dtype\":\"float64\",\"order\":\"little\"}]]}}},\"view\":{\"type\":\"object\",\"name\":\"CDSView\",\"id\":\"p1104\",\"attributes\":{\"filter\":{\"type\":\"object\",\"name\":\"AllIndices\",\"id\":\"p1105\"}}},\"glyph\":{\"type\":\"object\",\"name\":\"Patch\",\"id\":\"p1100\",\"attributes\":{\"tags\":[\"apply_ranges\"],\"x\":{\"type\":\"field\",\"field\":\"x\"},\"y\":{\"type\":\"field\",\"field\":\"y\"},\"line_alpha\":0.3,\"fill_color\":\"orange\",\"fill_alpha\":0.3,\"hatch_color\":\"orange\",\"hatch_alpha\":0.3}},\"selection_glyph\":{\"type\":\"object\",\"name\":\"Patch\",\"id\":\"p1107\",\"attributes\":{\"tags\":[\"apply_ranges\"],\"x\":{\"type\":\"field\",\"field\":\"x\"},\"y\":{\"type\":\"field\",\"field\":\"y\"},\"line_alpha\":0.3,\"fill_color\":\"orange\",\"fill_alpha\":0.3,\"hatch_color\":\"orange\",\"hatch_alpha\":0.3}},\"nonselection_glyph\":{\"type\":\"object\",\"name\":\"Patch\",\"id\":\"p1101\",\"attributes\":{\"tags\":[\"apply_ranges\"],\"x\":{\"type\":\"field\",\"field\":\"x\"},\"y\":{\"type\":\"field\",\"field\":\"y\"},\"line_alpha\":0.3,\"fill_color\":\"orange\",\"fill_alpha\":0.3,\"hatch_color\":\"orange\",\"hatch_alpha\":0.1}},\"muted_glyph\":{\"type\":\"object\",\"name\":\"Patch\",\"id\":\"p1102\",\"attributes\":{\"tags\":[\"apply_ranges\"],\"x\":{\"type\":\"field\",\"field\":\"x\"},\"y\":{\"type\":\"field\",\"field\":\"y\"},\"line_alpha\":0.2,\"fill_color\":\"orange\",\"fill_alpha\":0.2,\"hatch_color\":\"orange\",\"hatch_alpha\":0.2}}}}],\"toolbar\":{\"type\":\"object\",\"name\":\"Toolbar\",\"id\":\"p1031\",\"attributes\":{\"tools\":[{\"type\":\"object\",\"name\":\"WheelZoomTool\",\"id\":\"p1014\",\"attributes\":{\"tags\":[\"hv_created\"],\"renderers\":\"auto\",\"zoom_together\":\"none\"}},{\"type\":\"object\",\"name\":\"HoverTool\",\"id\":\"p1015\",\"attributes\":{\"tags\":[\"hv_created\"],\"renderers\":[{\"id\":\"p1074\"}],\"tooltips\":[[\"ds\",\"@{ds}{%F %T}\"],[\"actual_fraud_count\",\"@{actual_fraud_count}\"]],\"formatters\":{\"type\":\"map\",\"entries\":[[\"@{ds}\",\"datetime\"]]}}},{\"type\":\"object\",\"name\":\"HoverTool\",\"id\":\"p1018\",\"attributes\":{\"tags\":[\"hv_created\"],\"renderers\":[{\"id\":\"p1089\"}],\"tooltips\":[[\"ds\",\"@{ds}{%F %T}\"],[\"yhat\",\"@{yhat}\"]],\"formatters\":{\"type\":\"map\",\"entries\":[[\"@{ds}\",\"datetime\"]]}}},{\"type\":\"object\",\"name\":\"HoverTool\",\"id\":\"p1021\",\"attributes\":{\"tags\":[\"hv_created\"],\"renderers\":[{\"id\":\"p1103\"}],\"tooltips\":[[\"ds\",\"@{ds}\"],[\"yhat_lower\",\"@{yhat_lower}\"],[\"yhat_upper\",\"@{yhat_upper}\"]],\"formatters\":{\"type\":\"map\",\"entries\":[[\"@{x}\",\"datetime\"]]}}},{\"type\":\"object\",\"name\":\"SaveTool\",\"id\":\"p1056\"},{\"type\":\"object\",\"name\":\"PanTool\",\"id\":\"p1057\"},{\"type\":\"object\",\"name\":\"BoxZoomTool\",\"id\":\"p1058\",\"attributes\":{\"overlay\":{\"type\":\"object\",\"name\":\"BoxAnnotation\",\"id\":\"p1059\",\"attributes\":{\"syncable\":false,\"level\":\"overlay\",\"visible\":false,\"left\":{\"type\":\"number\",\"value\":\"nan\"},\"right\":{\"type\":\"number\",\"value\":\"nan\"},\"top\":{\"type\":\"number\",\"value\":\"nan\"},\"bottom\":{\"type\":\"number\",\"value\":\"nan\"},\"left_units\":\"canvas\",\"right_units\":\"canvas\",\"top_units\":\"canvas\",\"bottom_units\":\"canvas\",\"line_color\":\"black\",\"line_alpha\":1.0,\"line_width\":2,\"line_dash\":[4,4],\"fill_color\":\"lightgrey\",\"fill_alpha\":0.5}}}},{\"type\":\"object\",\"name\":\"ResetTool\",\"id\":\"p1064\"}],\"active_drag\":{\"id\":\"p1057\"},\"active_scroll\":{\"id\":\"p1014\"}}},\"left\":[{\"type\":\"object\",\"name\":\"LinearAxis\",\"id\":\"p1051\",\"attributes\":{\"ticker\":{\"type\":\"object\",\"name\":\"BasicTicker\",\"id\":\"p1052\",\"attributes\":{\"mantissas\":[1,2,5]}},\"formatter\":{\"type\":\"object\",\"name\":\"BasicTickFormatter\",\"id\":\"p1053\"},\"axis_label\":\"Number of Fraud Charges\",\"major_label_policy\":{\"type\":\"object\",\"name\":\"AllLabels\",\"id\":\"p1054\"}}}],\"below\":[{\"type\":\"object\",\"name\":\"DatetimeAxis\",\"id\":\"p1034\",\"attributes\":{\"ticker\":{\"type\":\"object\",\"name\":\"DatetimeTicker\",\"id\":\"p1035\",\"attributes\":{\"num_minor_ticks\":5,\"tickers\":[{\"type\":\"object\",\"name\":\"AdaptiveTicker\",\"id\":\"p1036\",\"attributes\":{\"num_minor_ticks\":0,\"mantissas\":[1,2,5],\"max_interval\":500.0}},{\"type\":\"object\",\"name\":\"AdaptiveTicker\",\"id\":\"p1037\",\"attributes\":{\"num_minor_ticks\":0,\"base\":60,\"mantissas\":[1,2,5,10,15,20,30],\"min_interval\":1000.0,\"max_interval\":1800000.0}},{\"type\":\"object\",\"name\":\"AdaptiveTicker\",\"id\":\"p1038\",\"attributes\":{\"num_minor_ticks\":0,\"base\":24,\"mantissas\":[1,2,4,6,8,12],\"min_interval\":3600000.0,\"max_interval\":43200000.0}},{\"type\":\"object\",\"name\":\"DaysTicker\",\"id\":\"p1039\",\"attributes\":{\"days\":[1,2,3,4,5,6,7,8,9,10,11,12,13,14,15,16,17,18,19,20,21,22,23,24,25,26,27,28,29,30,31]}},{\"type\":\"object\",\"name\":\"DaysTicker\",\"id\":\"p1040\",\"attributes\":{\"days\":[1,4,7,10,13,16,19,22,25,28]}},{\"type\":\"object\",\"name\":\"DaysTicker\",\"id\":\"p1041\",\"attributes\":{\"days\":[1,8,15,22]}},{\"type\":\"object\",\"name\":\"DaysTicker\",\"id\":\"p1042\",\"attributes\":{\"days\":[1,15]}},{\"type\":\"object\",\"name\":\"MonthsTicker\",\"id\":\"p1043\",\"attributes\":{\"months\":[0,1,2,3,4,5,6,7,8,9,10,11]}},{\"type\":\"object\",\"name\":\"MonthsTicker\",\"id\":\"p1044\",\"attributes\":{\"months\":[0,2,4,6,8,10]}},{\"type\":\"object\",\"name\":\"MonthsTicker\",\"id\":\"p1045\",\"attributes\":{\"months\":[0,4,8]}},{\"type\":\"object\",\"name\":\"MonthsTicker\",\"id\":\"p1046\",\"attributes\":{\"months\":[0,6]}},{\"type\":\"object\",\"name\":\"YearsTicker\",\"id\":\"p1047\"}]}},\"formatter\":{\"type\":\"object\",\"name\":\"DatetimeTickFormatter\",\"id\":\"p1048\"},\"axis_label\":\"Date\",\"major_label_policy\":{\"type\":\"object\",\"name\":\"AllLabels\",\"id\":\"p1049\"}}}],\"center\":[{\"type\":\"object\",\"name\":\"Grid\",\"id\":\"p1050\",\"attributes\":{\"axis\":{\"id\":\"p1034\"},\"grid_line_color\":null}},{\"type\":\"object\",\"name\":\"Grid\",\"id\":\"p1055\",\"attributes\":{\"dimension\":1,\"axis\":{\"id\":\"p1051\"},\"grid_line_color\":null}},{\"type\":\"object\",\"name\":\"Legend\",\"id\":\"p1077\",\"attributes\":{\"location\":\"top_left\",\"click_policy\":\"mute\",\"items\":[{\"type\":\"object\",\"name\":\"LegendItem\",\"id\":\"p1078\",\"attributes\":{\"label\":{\"type\":\"value\",\"value\":\"Actual Fraud Charges\"},\"renderers\":[{\"id\":\"p1074\"}]}},{\"type\":\"object\",\"name\":\"LegendItem\",\"id\":\"p1092\",\"attributes\":{\"label\":{\"type\":\"value\",\"value\":\"Forecasted Fraud Charges\"},\"renderers\":[{\"id\":\"p1089\"}]}},{\"type\":\"object\",\"name\":\"LegendItem\",\"id\":\"p1106\",\"attributes\":{\"label\":{\"type\":\"value\",\"value\":\"Uncertainty Interval\"},\"renderers\":[{\"id\":\"p1103\"}]}}]}}],\"min_border_top\":10,\"min_border_bottom\":10,\"min_border_left\":10,\"min_border_right\":10,\"output_backend\":\"webgl\"}},{\"type\":\"object\",\"name\":\"Spacer\",\"id\":\"p1109\",\"attributes\":{\"name\":\"HSpacer01181\",\"stylesheets\":[\"\\n:host(.pn-loading):before, .pn-loading:before {\\n  background-color: #c3c3c3;\\n  mask-size: auto calc(min(50%, 400px));\\n  -webkit-mask-size: auto calc(min(50%, 400px));\\n}\",{\"id\":\"p1007\"},{\"id\":\"p1005\"},{\"id\":\"p1006\"}],\"margin\":0,\"sizing_mode\":\"stretch_width\",\"align\":\"start\"}}]}}],\"defs\":[{\"type\":\"model\",\"name\":\"ReactiveHTML1\"},{\"type\":\"model\",\"name\":\"FlexBox1\",\"properties\":[{\"name\":\"align_content\",\"kind\":\"Any\",\"default\":\"flex-start\"},{\"name\":\"align_items\",\"kind\":\"Any\",\"default\":\"flex-start\"},{\"name\":\"flex_direction\",\"kind\":\"Any\",\"default\":\"row\"},{\"name\":\"flex_wrap\",\"kind\":\"Any\",\"default\":\"wrap\"},{\"name\":\"gap\",\"kind\":\"Any\",\"default\":\"\"},{\"name\":\"justify_content\",\"kind\":\"Any\",\"default\":\"flex-start\"}]},{\"type\":\"model\",\"name\":\"FloatPanel1\",\"properties\":[{\"name\":\"config\",\"kind\":\"Any\",\"default\":{\"type\":\"map\"}},{\"name\":\"contained\",\"kind\":\"Any\",\"default\":true},{\"name\":\"position\",\"kind\":\"Any\",\"default\":\"right-top\"},{\"name\":\"offsetx\",\"kind\":\"Any\",\"default\":null},{\"name\":\"offsety\",\"kind\":\"Any\",\"default\":null},{\"name\":\"theme\",\"kind\":\"Any\",\"default\":\"primary\"},{\"name\":\"status\",\"kind\":\"Any\",\"default\":\"normalized\"}]},{\"type\":\"model\",\"name\":\"GridStack1\",\"properties\":[{\"name\":\"mode\",\"kind\":\"Any\",\"default\":\"warn\"},{\"name\":\"ncols\",\"kind\":\"Any\",\"default\":null},{\"name\":\"nrows\",\"kind\":\"Any\",\"default\":null},{\"name\":\"allow_resize\",\"kind\":\"Any\",\"default\":true},{\"name\":\"allow_drag\",\"kind\":\"Any\",\"default\":true},{\"name\":\"state\",\"kind\":\"Any\",\"default\":[]}]},{\"type\":\"model\",\"name\":\"drag1\",\"properties\":[{\"name\":\"slider_width\",\"kind\":\"Any\",\"default\":5},{\"name\":\"slider_color\",\"kind\":\"Any\",\"default\":\"black\"},{\"name\":\"value\",\"kind\":\"Any\",\"default\":50}]},{\"type\":\"model\",\"name\":\"click1\",\"properties\":[{\"name\":\"terminal_output\",\"kind\":\"Any\",\"default\":\"\"},{\"name\":\"debug_name\",\"kind\":\"Any\",\"default\":\"\"},{\"name\":\"clears\",\"kind\":\"Any\",\"default\":0}]},{\"type\":\"model\",\"name\":\"FastWrapper1\",\"properties\":[{\"name\":\"object\",\"kind\":\"Any\",\"default\":null},{\"name\":\"style\",\"kind\":\"Any\",\"default\":null}]},{\"type\":\"model\",\"name\":\"NotificationAreaBase1\",\"properties\":[{\"name\":\"js_events\",\"kind\":\"Any\",\"default\":{\"type\":\"map\"}},{\"name\":\"position\",\"kind\":\"Any\",\"default\":\"bottom-right\"},{\"name\":\"_clear\",\"kind\":\"Any\",\"default\":0}]},{\"type\":\"model\",\"name\":\"NotificationArea1\",\"properties\":[{\"name\":\"js_events\",\"kind\":\"Any\",\"default\":{\"type\":\"map\"}},{\"name\":\"notifications\",\"kind\":\"Any\",\"default\":[]},{\"name\":\"position\",\"kind\":\"Any\",\"default\":\"bottom-right\"},{\"name\":\"_clear\",\"kind\":\"Any\",\"default\":0},{\"name\":\"types\",\"kind\":\"Any\",\"default\":[{\"type\":\"map\",\"entries\":[[\"type\",\"warning\"],[\"background\",\"#ffc107\"],[\"icon\",{\"type\":\"map\",\"entries\":[[\"className\",\"fas fa-exclamation-triangle\"],[\"tagName\",\"i\"],[\"color\",\"white\"]]}]]},{\"type\":\"map\",\"entries\":[[\"type\",\"info\"],[\"background\",\"#007bff\"],[\"icon\",{\"type\":\"map\",\"entries\":[[\"className\",\"fas fa-info-circle\"],[\"tagName\",\"i\"],[\"color\",\"white\"]]}]]}]}]},{\"type\":\"model\",\"name\":\"Notification\",\"properties\":[{\"name\":\"background\",\"kind\":\"Any\",\"default\":null},{\"name\":\"duration\",\"kind\":\"Any\",\"default\":3000},{\"name\":\"icon\",\"kind\":\"Any\",\"default\":null},{\"name\":\"message\",\"kind\":\"Any\",\"default\":\"\"},{\"name\":\"notification_type\",\"kind\":\"Any\",\"default\":null},{\"name\":\"_destroyed\",\"kind\":\"Any\",\"default\":false}]},{\"type\":\"model\",\"name\":\"TemplateActions1\",\"properties\":[{\"name\":\"open_modal\",\"kind\":\"Any\",\"default\":0},{\"name\":\"close_modal\",\"kind\":\"Any\",\"default\":0}]},{\"type\":\"model\",\"name\":\"BootstrapTemplateActions1\",\"properties\":[{\"name\":\"open_modal\",\"kind\":\"Any\",\"default\":0},{\"name\":\"close_modal\",\"kind\":\"Any\",\"default\":0}]},{\"type\":\"model\",\"name\":\"TemplateEditor1\",\"properties\":[{\"name\":\"layout\",\"kind\":\"Any\",\"default\":[]}]},{\"type\":\"model\",\"name\":\"MaterialTemplateActions1\",\"properties\":[{\"name\":\"open_modal\",\"kind\":\"Any\",\"default\":0},{\"name\":\"close_modal\",\"kind\":\"Any\",\"default\":0}]},{\"type\":\"model\",\"name\":\"copy_to_clipboard1\",\"properties\":[{\"name\":\"fill\",\"kind\":\"Any\",\"default\":\"none\"},{\"name\":\"value\",\"kind\":\"Any\",\"default\":null}]}]}};\n",
       "  var render_items = [{\"docid\":\"1cedec4f-fe5e-436d-a388-d0d7436308fe\",\"roots\":{\"p1004\":\"fa2664bb-f706-45a4-8e02-8582107150dc\"},\"root_ids\":[\"p1004\"]}];\n",
       "  var docs = Object.values(docs_json)\n",
       "  if (!docs) {\n",
       "    return\n",
       "  }\n",
       "  const py_version = docs[0].version.replace('rc', '-rc.').replace('.dev', '-dev.')\n",
       "  async function embed_document(root) {\n",
       "    var Bokeh = get_bokeh(root)\n",
       "    await Bokeh.embed.embed_items_notebook(docs_json, render_items);\n",
       "    for (const render_item of render_items) {\n",
       "      for (const root_id of render_item.root_ids) {\n",
       "\tconst id_el = document.getElementById(root_id)\n",
       "\tif (id_el.children.length && id_el.children[0].hasAttribute('data-root-id')) {\n",
       "\t  const root_el = id_el.children[0]\n",
       "\t  root_el.id = root_el.id + '-rendered'\n",
       "\t  for (const child of root_el.children) {\n",
       "            // Ensure JupyterLab does not capture keyboard shortcuts\n",
       "            // see: https://jupyterlab.readthedocs.io/en/4.1.x/extension/notebook.html#keyboard-interaction-model\n",
       "\t    child.setAttribute('data-lm-suppress-shortcuts', 'true')\n",
       "\t  }\n",
       "\t}\n",
       "      }\n",
       "    }\n",
       "  }\n",
       "  function get_bokeh(root) {\n",
       "    if (root.Bokeh === undefined) {\n",
       "      return null\n",
       "    } else if (root.Bokeh.version !== py_version) {\n",
       "      if (root.Bokeh.versions === undefined || !root.Bokeh.versions.has(py_version)) {\n",
       "\treturn null\n",
       "      }\n",
       "      return root.Bokeh.versions.get(py_version);\n",
       "    } else if (root.Bokeh.version === py_version) {\n",
       "      return root.Bokeh\n",
       "    }\n",
       "    return null\n",
       "  }\n",
       "  function is_loaded(root) {\n",
       "    var Bokeh = get_bokeh(root)\n",
       "    return (Bokeh != null && Bokeh.Panel !== undefined)\n",
       "  }\n",
       "  if (is_loaded(root)) {\n",
       "    embed_document(root);\n",
       "  } else {\n",
       "    var attempts = 0;\n",
       "    var timer = setInterval(function(root) {\n",
       "      if (is_loaded(root)) {\n",
       "        clearInterval(timer);\n",
       "        embed_document(root);\n",
       "      } else if (document.readyState == \"complete\") {\n",
       "        attempts++;\n",
       "        if (attempts > 200) {\n",
       "          clearInterval(timer);\n",
       "\t  var Bokeh = get_bokeh(root)\n",
       "\t  if (Bokeh == null || Bokeh.Panel == null) {\n",
       "            console.warn(\"Panel: ERROR: Unable to run Panel code because Bokeh or Panel library is missing\");\n",
       "\t  } else {\n",
       "\t    console.warn(\"Panel: WARNING: Attempting to render but not all required libraries could be resolved.\")\n",
       "\t    embed_document(root)\n",
       "\t  }\n",
       "        }\n",
       "      }\n",
       "    }, 25, root)\n",
       "  }\n",
       "})(window);</script>"
      ],
      "text/plain": [
       ":Overlay\n",
       "   .Curve.Actual_Fraud_Charges     :Curve   [ds]   (actual_fraud_count)\n",
       "   .Curve.Forecasted_Fraud_Charges :Curve   [ds]   (yhat)\n",
       "   .Area.Uncertainty_Interval      :Area   [ds]   (yhat_lower,yhat_upper)"
      ]
     },
     "execution_count": 13,
     "metadata": {
      "application/vnd.holoviews_exec.v0+json": {
       "id": "p1004"
      }
     },
     "output_type": "execute_result"
    }
   ],
   "source": [
    "# Ensure the 'ds' column in both DataFrames is of datetime type\n",
    "fraud_forecast['ds'] = pd.to_datetime(fraud_forecast['ds'])\n",
    "fraud_df['ds'] = pd.to_datetime(fraud_df['ds'])\n",
    "\n",
    "# Merge the actual and forecast data\n",
    "combined_df = pd.merge(\n",
    "    fraud_forecast[['ds', 'yhat', 'yhat_lower', 'yhat_upper']],\n",
    "    fraud_df[['ds', 'y']],\n",
    "    on='ds',\n",
    "    how='left'\n",
    ")\n",
    "\n",
    "# Rename the actual fraud column for clarity\n",
    "combined_df.rename(columns={'y': 'actual_fraud_count'}, inplace=True)\n",
    "\n",
    "# Plotting with hvplot\n",
    "plot_actual = combined_df.hvplot.line(x='ds', y='actual_fraud_count', label='Actual Fraud Charges', color='blue', line_width=2)\n",
    "plot_forecast = combined_df.hvplot.line(x='ds', y='yhat', label='Forecasted Fraud Charges', color='orange', line_width=2)\n",
    "plot_uncertainty = combined_df.hvplot.area(x='ds', y='yhat_lower', y2='yhat_upper', label='Uncertainty Interval', color='orange', alpha=0.3)\n",
    "\n",
    "# Combine all plots\n",
    "final_plot = plot_actual * plot_forecast * plot_uncertainty\n",
    "\n",
    "# Customize plot\n",
    "final_plot.opts(\n",
    "    title='Fraud Charge Forecasting',\n",
    "    xlabel='Date',\n",
    "    ylabel='Number of Fraud Charges',\n",
    "    legend_position='top_left',\n",
    "    width=1000, \n",
    "    height=600   \n",
    ")\n",
    "\n",
    "# Show the plot\n",
    "final_plot\n"
   ]
  },
  {
   "cell_type": "code",
   "execution_count": 14,
   "metadata": {},
   "outputs": [
    {
     "data": {
      "text/html": [
       "<div>\n",
       "<style scoped>\n",
       "    .dataframe tbody tr th:only-of-type {\n",
       "        vertical-align: middle;\n",
       "    }\n",
       "\n",
       "    .dataframe tbody tr th {\n",
       "        vertical-align: top;\n",
       "    }\n",
       "\n",
       "    .dataframe thead th {\n",
       "        text-align: right;\n",
       "    }\n",
       "</style>\n",
       "<table border=\"1\" class=\"dataframe\">\n",
       "  <thead>\n",
       "    <tr style=\"text-align: right;\">\n",
       "      <th></th>\n",
       "      <th>ds</th>\n",
       "      <th>y</th>\n",
       "    </tr>\n",
       "  </thead>\n",
       "  <tbody>\n",
       "    <tr>\n",
       "      <th>0</th>\n",
       "      <td>2019-01-02</td>\n",
       "      <td>7</td>\n",
       "    </tr>\n",
       "    <tr>\n",
       "      <th>1</th>\n",
       "      <td>2019-01-03</td>\n",
       "      <td>12</td>\n",
       "    </tr>\n",
       "    <tr>\n",
       "      <th>2</th>\n",
       "      <td>2019-01-04</td>\n",
       "      <td>13</td>\n",
       "    </tr>\n",
       "    <tr>\n",
       "      <th>3</th>\n",
       "      <td>2019-01-05</td>\n",
       "      <td>13</td>\n",
       "    </tr>\n",
       "    <tr>\n",
       "      <th>4</th>\n",
       "      <td>2019-01-06</td>\n",
       "      <td>2</td>\n",
       "    </tr>\n",
       "  </tbody>\n",
       "</table>\n",
       "</div>"
      ],
      "text/plain": [
       "          ds   y\n",
       "0 2019-01-02   7\n",
       "1 2019-01-03  12\n",
       "2 2019-01-04  13\n",
       "3 2019-01-05  13\n",
       "4 2019-01-06   2"
      ]
     },
     "execution_count": 14,
     "metadata": {},
     "output_type": "execute_result"
    }
   ],
   "source": [
    "fraud_df.rename(columns={'date': 'ds', 'fraud_charge_count': 'y'}, inplace=True)\n",
    "\n",
    "fraud_df.head()"
   ]
  },
  {
   "cell_type": "code",
   "execution_count": 15,
   "metadata": {},
   "outputs": [
    {
     "name": "stderr",
     "output_type": "stream",
     "text": [
      "WARNING - (NP.forecaster.fit) - When Global modeling with local normalization, metrics are displayed in normalized scale.\n",
      "WARNING - (py.warnings._showwarnmsg) - /opt/anaconda3/envs/dev/lib/python3.10/site-packages/neuralprophet/df_utils.py:1152: FutureWarning:\n",
      "\n",
      "Series.view is deprecated and will be removed in a future version. Use ``astype`` as an alternative to change the dtype.\n",
      "\n",
      "\n",
      "INFO - (NP.df_utils._infer_frequency) - Major frequency D corresponds to 95.04% of the data.\n",
      "WARNING - (py.warnings._showwarnmsg) - /opt/anaconda3/envs/dev/lib/python3.10/site-packages/neuralprophet/df_utils.py:1152: FutureWarning:\n",
      "\n",
      "Series.view is deprecated and will be removed in a future version. Use ``astype`` as an alternative to change the dtype.\n",
      "\n",
      "\n",
      "WARNING - (py.warnings._showwarnmsg) - /opt/anaconda3/envs/dev/lib/python3.10/site-packages/neuralprophet/df_utils.py:1152: FutureWarning:\n",
      "\n",
      "Series.view is deprecated and will be removed in a future version. Use ``astype`` as an alternative to change the dtype.\n",
      "\n",
      "\n",
      "INFO - (NP.df_utils._infer_frequency) - Defined frequency is equal to major frequency - D\n",
      "INFO - (NP.config.init_data_params) - Setting normalization to global as only one dataframe provided for training.\n",
      "INFO - (NP.utils.set_auto_seasonalities) - Disabling yearly seasonality. Run NeuralProphet with yearly_seasonality=True to override this.\n",
      "INFO - (NP.utils.set_auto_seasonalities) - Disabling daily seasonality. Run NeuralProphet with daily_seasonality=True to override this.\n",
      "INFO - (NP.config.set_auto_batch_epoch) - Auto-set batch_size to 32\n",
      "INFO - (NP.config.set_auto_batch_epoch) - Auto-set epochs to 140\n"
     ]
    },
    {
     "data": {
      "application/vnd.jupyter.widget-view+json": {
       "model_id": "e89ed09318de4d84857fa21291079846",
       "version_major": 2,
       "version_minor": 0
      },
      "text/plain": [
       "Training: |          | 0/? [00:00<?, ?it/s]"
      ]
     },
     "metadata": {},
     "output_type": "display_data"
    },
    {
     "name": "stderr",
     "output_type": "stream",
     "text": [
      "WARNING - (NP.config.set_lr_finder_args) - Learning rate finder: The number of batches (16) is too small than the required number                     for the learning rate finder (219). The results might not be optimal.\n"
     ]
    },
    {
     "data": {
      "application/vnd.jupyter.widget-view+json": {
       "model_id": "5b5a043f689b44a9aead6ccb237ad233",
       "version_major": 2,
       "version_minor": 0
      },
      "text/plain": [
       "Finding best initial lr:   0%|          | 0/219 [00:00<?, ?it/s]"
      ]
     },
     "metadata": {},
     "output_type": "display_data"
    },
    {
     "name": "stderr",
     "output_type": "stream",
     "text": [
      "WARNING - (py.warnings._showwarnmsg) - /opt/anaconda3/envs/dev/lib/python3.10/site-packages/pytorch_lightning/utilities/data.py:78: UserWarning:\n",
      "\n",
      "Trying to infer the `batch_size` from an ambiguous collection. The batch size we found is 32. To avoid any miscalculations, use `self.log(..., batch_size=batch_size)`.\n",
      "\n",
      "\n",
      "WARNING - (py.warnings._showwarnmsg) - /opt/anaconda3/envs/dev/lib/python3.10/site-packages/pytorch_lightning/utilities/data.py:78: UserWarning:\n",
      "\n",
      "Trying to infer the `batch_size` from an ambiguous collection. The batch size we found is 24. To avoid any miscalculations, use `self.log(..., batch_size=batch_size)`.\n",
      "\n",
      "\n"
     ]
    },
    {
     "data": {
      "application/vnd.jupyter.widget-view+json": {
       "model_id": "ce11d6160e79442481ee104327767153",
       "version_major": 2,
       "version_minor": 0
      },
      "text/plain": [
       "Training: |          | 0/? [00:00<?, ?it/s]"
      ]
     },
     "metadata": {},
     "output_type": "display_data"
    },
    {
     "name": "stderr",
     "output_type": "stream",
     "text": [
      "WARNING - (py.warnings._showwarnmsg) - /opt/anaconda3/envs/dev/lib/python3.10/site-packages/neuralprophet/df_utils.py:1152: FutureWarning:\n",
      "\n",
      "Series.view is deprecated and will be removed in a future version. Use ``astype`` as an alternative to change the dtype.\n",
      "\n",
      "\n",
      "INFO - (NP.df_utils._infer_frequency) - Major frequency D corresponds to 95.04% of the data.\n",
      "WARNING - (py.warnings._showwarnmsg) - /opt/anaconda3/envs/dev/lib/python3.10/site-packages/neuralprophet/df_utils.py:1152: FutureWarning:\n",
      "\n",
      "Series.view is deprecated and will be removed in a future version. Use ``astype`` as an alternative to change the dtype.\n",
      "\n",
      "\n",
      "WARNING - (py.warnings._showwarnmsg) - /opt/anaconda3/envs/dev/lib/python3.10/site-packages/neuralprophet/df_utils.py:1152: FutureWarning:\n",
      "\n",
      "Series.view is deprecated and will be removed in a future version. Use ``astype`` as an alternative to change the dtype.\n",
      "\n",
      "\n",
      "INFO - (NP.df_utils._infer_frequency) - Defined frequency is equal to major frequency - D\n",
      "INFO - (NP.df_utils.return_df_in_original_format) - Returning df with no ID column\n",
      "WARNING - (py.warnings._showwarnmsg) - /opt/anaconda3/envs/dev/lib/python3.10/site-packages/neuralprophet/df_utils.py:1152: FutureWarning:\n",
      "\n",
      "Series.view is deprecated and will be removed in a future version. Use ``astype`` as an alternative to change the dtype.\n",
      "\n",
      "\n",
      "INFO - (NP.df_utils._infer_frequency) - Major frequency D corresponds to 99.726% of the data.\n",
      "WARNING - (py.warnings._showwarnmsg) - /opt/anaconda3/envs/dev/lib/python3.10/site-packages/neuralprophet/df_utils.py:1152: FutureWarning:\n",
      "\n",
      "Series.view is deprecated and will be removed in a future version. Use ``astype`` as an alternative to change the dtype.\n",
      "\n",
      "\n",
      "WARNING - (py.warnings._showwarnmsg) - /opt/anaconda3/envs/dev/lib/python3.10/site-packages/neuralprophet/df_utils.py:1152: FutureWarning:\n",
      "\n",
      "Series.view is deprecated and will be removed in a future version. Use ``astype`` as an alternative to change the dtype.\n",
      "\n",
      "\n",
      "INFO - (NP.df_utils._infer_frequency) - Defined frequency is equal to major frequency - D\n",
      "WARNING - (py.warnings._showwarnmsg) - /opt/anaconda3/envs/dev/lib/python3.10/site-packages/neuralprophet/df_utils.py:1152: FutureWarning:\n",
      "\n",
      "Series.view is deprecated and will be removed in a future version. Use ``astype`` as an alternative to change the dtype.\n",
      "\n",
      "\n",
      "INFO - (NP.df_utils._infer_frequency) - Major frequency D corresponds to 99.726% of the data.\n",
      "WARNING - (py.warnings._showwarnmsg) - /opt/anaconda3/envs/dev/lib/python3.10/site-packages/neuralprophet/df_utils.py:1152: FutureWarning:\n",
      "\n",
      "Series.view is deprecated and will be removed in a future version. Use ``astype`` as an alternative to change the dtype.\n",
      "\n",
      "\n",
      "WARNING - (py.warnings._showwarnmsg) - /opt/anaconda3/envs/dev/lib/python3.10/site-packages/neuralprophet/df_utils.py:1152: FutureWarning:\n",
      "\n",
      "Series.view is deprecated and will be removed in a future version. Use ``astype`` as an alternative to change the dtype.\n",
      "\n",
      "\n",
      "INFO - (NP.df_utils._infer_frequency) - Defined frequency is equal to major frequency - D\n"
     ]
    },
    {
     "data": {
      "application/vnd.jupyter.widget-view+json": {
       "model_id": "98ea681e218d4c45b5e0862529efe667",
       "version_major": 2,
       "version_minor": 0
      },
      "text/plain": [
       "Predicting: |          | 0/? [00:00<?, ?it/s]"
      ]
     },
     "metadata": {},
     "output_type": "display_data"
    },
    {
     "name": "stderr",
     "output_type": "stream",
     "text": [
      "INFO - (NP.df_utils.return_df_in_original_format) - Returning df with no ID column\n"
     ]
    },
    {
     "name": "stdout",
     "output_type": "stream",
     "text": [
      "            ds      yhat1\n",
      "360 2021-06-17  22.223883\n",
      "361 2021-06-18  23.778435\n",
      "362 2021-06-19  25.833622\n",
      "363 2021-06-20  25.717293\n",
      "364 2021-06-21  23.726173\n"
     ]
    }
   ],
   "source": [
    "# Initialize NeuralProphet model\n",
    "model = NeuralProphet()\n",
    "\n",
    "# Fit the model\n",
    "model.fit(fraud_df, freq='D')\n",
    "\n",
    "# Forecasting the next 30 days\n",
    "future = model.make_future_dataframe(fraud_df, periods=365)\n",
    "forecast = model.predict(future)\n",
    "\n",
    "# Display forecast\n",
    "print(forecast[['ds', 'yhat1']].tail())\n",
    "\n",
    "import warnings\n",
    "warnings.simplefilter(action='ignore', category=FutureWarning)\n",
    "\n"
   ]
  },
  {
   "cell_type": "code",
   "execution_count": 16,
   "metadata": {},
   "outputs": [
    {
     "data": {
      "text/html": [
       "<div>\n",
       "<style scoped>\n",
       "    .dataframe tbody tr th:only-of-type {\n",
       "        vertical-align: middle;\n",
       "    }\n",
       "\n",
       "    .dataframe tbody tr th {\n",
       "        vertical-align: top;\n",
       "    }\n",
       "\n",
       "    .dataframe thead th {\n",
       "        text-align: right;\n",
       "    }\n",
       "</style>\n",
       "<table border=\"1\" class=\"dataframe\">\n",
       "  <thead>\n",
       "    <tr style=\"text-align: right;\">\n",
       "      <th></th>\n",
       "      <th>ds</th>\n",
       "      <th>y</th>\n",
       "    </tr>\n",
       "  </thead>\n",
       "  <tbody>\n",
       "    <tr>\n",
       "      <th>0</th>\n",
       "      <td>2019-01-02</td>\n",
       "      <td>7</td>\n",
       "    </tr>\n",
       "    <tr>\n",
       "      <th>1</th>\n",
       "      <td>2019-01-03</td>\n",
       "      <td>12</td>\n",
       "    </tr>\n",
       "    <tr>\n",
       "      <th>2</th>\n",
       "      <td>2019-01-04</td>\n",
       "      <td>13</td>\n",
       "    </tr>\n",
       "    <tr>\n",
       "      <th>3</th>\n",
       "      <td>2019-01-05</td>\n",
       "      <td>13</td>\n",
       "    </tr>\n",
       "    <tr>\n",
       "      <th>4</th>\n",
       "      <td>2019-01-06</td>\n",
       "      <td>2</td>\n",
       "    </tr>\n",
       "    <tr>\n",
       "      <th>...</th>\n",
       "      <td>...</td>\n",
       "      <td>...</td>\n",
       "    </tr>\n",
       "    <tr>\n",
       "      <th>499</th>\n",
       "      <td>2020-06-17</td>\n",
       "      <td>35</td>\n",
       "    </tr>\n",
       "    <tr>\n",
       "      <th>500</th>\n",
       "      <td>2020-06-18</td>\n",
       "      <td>39</td>\n",
       "    </tr>\n",
       "    <tr>\n",
       "      <th>501</th>\n",
       "      <td>2020-06-19</td>\n",
       "      <td>25</td>\n",
       "    </tr>\n",
       "    <tr>\n",
       "      <th>502</th>\n",
       "      <td>2020-06-20</td>\n",
       "      <td>26</td>\n",
       "    </tr>\n",
       "    <tr>\n",
       "      <th>503</th>\n",
       "      <td>2020-06-21</td>\n",
       "      <td>7</td>\n",
       "    </tr>\n",
       "  </tbody>\n",
       "</table>\n",
       "<p>504 rows × 2 columns</p>\n",
       "</div>"
      ],
      "text/plain": [
       "            ds   y\n",
       "0   2019-01-02   7\n",
       "1   2019-01-03  12\n",
       "2   2019-01-04  13\n",
       "3   2019-01-05  13\n",
       "4   2019-01-06   2\n",
       "..         ...  ..\n",
       "499 2020-06-17  35\n",
       "500 2020-06-18  39\n",
       "501 2020-06-19  25\n",
       "502 2020-06-20  26\n",
       "503 2020-06-21   7\n",
       "\n",
       "[504 rows x 2 columns]"
      ]
     },
     "execution_count": 16,
     "metadata": {},
     "output_type": "execute_result"
    }
   ],
   "source": [
    "fraud_df"
   ]
  },
  {
   "cell_type": "code",
   "execution_count": 32,
   "metadata": {},
   "outputs": [
    {
     "ename": "KeyError",
     "evalue": "\"None of [Index(['ds', 'yhat1'], dtype='object')] are in the [index]\"",
     "output_type": "error",
     "traceback": [
      "\u001b[0;31m---------------------------------------------------------------------------\u001b[0m",
      "\u001b[0;31mKeyError\u001b[0m                                  Traceback (most recent call last)",
      "Cell \u001b[0;32mIn[32], line 4\u001b[0m\n\u001b[1;32m      1\u001b[0m \u001b[38;5;28;01mimport\u001b[39;00m \u001b[38;5;21;01mhvplot\u001b[39;00m\u001b[38;5;21;01m.\u001b[39;00m\u001b[38;5;21;01mpandas\u001b[39;00m  \u001b[38;5;66;03m# Required to use hvPlot with pandas DataFrames\u001b[39;00m\n\u001b[1;32m      3\u001b[0m \u001b[38;5;66;03m# Combine the forecast with the original data for visualization\u001b[39;00m\n\u001b[0;32m----> 4\u001b[0m forecast_df \u001b[38;5;241m=\u001b[39m \u001b[43mforecast\u001b[49m\u001b[43m[\u001b[49m\u001b[43m[\u001b[49m\u001b[38;5;124;43m'\u001b[39;49m\u001b[38;5;124;43mds\u001b[39;49m\u001b[38;5;124;43m'\u001b[39;49m\u001b[43m,\u001b[49m\u001b[43m \u001b[49m\u001b[38;5;124;43m'\u001b[39;49m\u001b[38;5;124;43myhat1\u001b[39;49m\u001b[38;5;124;43m'\u001b[39;49m\u001b[43m]\u001b[49m\u001b[43m]\u001b[49m\n\u001b[1;32m      5\u001b[0m forecast_df\u001b[38;5;241m.\u001b[39mcolumns \u001b[38;5;241m=\u001b[39m [\u001b[38;5;124m'\u001b[39m\u001b[38;5;124mDate\u001b[39m\u001b[38;5;124m'\u001b[39m, \u001b[38;5;124m'\u001b[39m\u001b[38;5;124mForecast\u001b[39m\u001b[38;5;124m'\u001b[39m]\n\u001b[1;32m      6\u001b[0m fraud_df\u001b[38;5;241m.\u001b[39mcolumns \u001b[38;5;241m=\u001b[39m [\u001b[38;5;124m'\u001b[39m\u001b[38;5;124mDate\u001b[39m\u001b[38;5;124m'\u001b[39m, \u001b[38;5;124m'\u001b[39m\u001b[38;5;124mActual\u001b[39m\u001b[38;5;124m'\u001b[39m]\n",
      "File \u001b[0;32m/opt/anaconda3/envs/dev/lib/python3.10/site-packages/pandas/core/series.py:1153\u001b[0m, in \u001b[0;36mSeries.__getitem__\u001b[0;34m(self, key)\u001b[0m\n\u001b[1;32m   1150\u001b[0m     key \u001b[38;5;241m=\u001b[39m np\u001b[38;5;241m.\u001b[39masarray(key, dtype\u001b[38;5;241m=\u001b[39m\u001b[38;5;28mbool\u001b[39m)\n\u001b[1;32m   1151\u001b[0m     \u001b[38;5;28;01mreturn\u001b[39;00m \u001b[38;5;28mself\u001b[39m\u001b[38;5;241m.\u001b[39m_get_rows_with_mask(key)\n\u001b[0;32m-> 1153\u001b[0m \u001b[38;5;28;01mreturn\u001b[39;00m \u001b[38;5;28;43mself\u001b[39;49m\u001b[38;5;241;43m.\u001b[39;49m\u001b[43m_get_with\u001b[49m\u001b[43m(\u001b[49m\u001b[43mkey\u001b[49m\u001b[43m)\u001b[49m\n",
      "File \u001b[0;32m/opt/anaconda3/envs/dev/lib/python3.10/site-packages/pandas/core/series.py:1194\u001b[0m, in \u001b[0;36mSeries._get_with\u001b[0;34m(self, key)\u001b[0m\n\u001b[1;32m   1191\u001b[0m         \u001b[38;5;28;01mreturn\u001b[39;00m \u001b[38;5;28mself\u001b[39m\u001b[38;5;241m.\u001b[39miloc[key]\n\u001b[1;32m   1193\u001b[0m \u001b[38;5;66;03m# handle the dup indexing case GH#4246\u001b[39;00m\n\u001b[0;32m-> 1194\u001b[0m \u001b[38;5;28;01mreturn\u001b[39;00m \u001b[38;5;28;43mself\u001b[39;49m\u001b[38;5;241;43m.\u001b[39;49m\u001b[43mloc\u001b[49m\u001b[43m[\u001b[49m\u001b[43mkey\u001b[49m\u001b[43m]\u001b[49m\n",
      "File \u001b[0;32m/opt/anaconda3/envs/dev/lib/python3.10/site-packages/pandas/core/indexing.py:1191\u001b[0m, in \u001b[0;36m_LocationIndexer.__getitem__\u001b[0;34m(self, key)\u001b[0m\n\u001b[1;32m   1189\u001b[0m maybe_callable \u001b[38;5;241m=\u001b[39m com\u001b[38;5;241m.\u001b[39mapply_if_callable(key, \u001b[38;5;28mself\u001b[39m\u001b[38;5;241m.\u001b[39mobj)\n\u001b[1;32m   1190\u001b[0m maybe_callable \u001b[38;5;241m=\u001b[39m \u001b[38;5;28mself\u001b[39m\u001b[38;5;241m.\u001b[39m_check_deprecated_callable_usage(key, maybe_callable)\n\u001b[0;32m-> 1191\u001b[0m \u001b[38;5;28;01mreturn\u001b[39;00m \u001b[38;5;28;43mself\u001b[39;49m\u001b[38;5;241;43m.\u001b[39;49m\u001b[43m_getitem_axis\u001b[49m\u001b[43m(\u001b[49m\u001b[43mmaybe_callable\u001b[49m\u001b[43m,\u001b[49m\u001b[43m \u001b[49m\u001b[43maxis\u001b[49m\u001b[38;5;241;43m=\u001b[39;49m\u001b[43maxis\u001b[49m\u001b[43m)\u001b[49m\n",
      "File \u001b[0;32m/opt/anaconda3/envs/dev/lib/python3.10/site-packages/pandas/core/indexing.py:1420\u001b[0m, in \u001b[0;36m_LocIndexer._getitem_axis\u001b[0;34m(self, key, axis)\u001b[0m\n\u001b[1;32m   1417\u001b[0m     \u001b[38;5;28;01mif\u001b[39;00m \u001b[38;5;28mhasattr\u001b[39m(key, \u001b[38;5;124m\"\u001b[39m\u001b[38;5;124mndim\u001b[39m\u001b[38;5;124m\"\u001b[39m) \u001b[38;5;129;01mand\u001b[39;00m key\u001b[38;5;241m.\u001b[39mndim \u001b[38;5;241m>\u001b[39m \u001b[38;5;241m1\u001b[39m:\n\u001b[1;32m   1418\u001b[0m         \u001b[38;5;28;01mraise\u001b[39;00m \u001b[38;5;167;01mValueError\u001b[39;00m(\u001b[38;5;124m\"\u001b[39m\u001b[38;5;124mCannot index with multidimensional key\u001b[39m\u001b[38;5;124m\"\u001b[39m)\n\u001b[0;32m-> 1420\u001b[0m     \u001b[38;5;28;01mreturn\u001b[39;00m \u001b[38;5;28;43mself\u001b[39;49m\u001b[38;5;241;43m.\u001b[39;49m\u001b[43m_getitem_iterable\u001b[49m\u001b[43m(\u001b[49m\u001b[43mkey\u001b[49m\u001b[43m,\u001b[49m\u001b[43m \u001b[49m\u001b[43maxis\u001b[49m\u001b[38;5;241;43m=\u001b[39;49m\u001b[43maxis\u001b[49m\u001b[43m)\u001b[49m\n\u001b[1;32m   1422\u001b[0m \u001b[38;5;66;03m# nested tuple slicing\u001b[39;00m\n\u001b[1;32m   1423\u001b[0m \u001b[38;5;28;01mif\u001b[39;00m is_nested_tuple(key, labels):\n",
      "File \u001b[0;32m/opt/anaconda3/envs/dev/lib/python3.10/site-packages/pandas/core/indexing.py:1360\u001b[0m, in \u001b[0;36m_LocIndexer._getitem_iterable\u001b[0;34m(self, key, axis)\u001b[0m\n\u001b[1;32m   1357\u001b[0m \u001b[38;5;28mself\u001b[39m\u001b[38;5;241m.\u001b[39m_validate_key(key, axis)\n\u001b[1;32m   1359\u001b[0m \u001b[38;5;66;03m# A collection of keys\u001b[39;00m\n\u001b[0;32m-> 1360\u001b[0m keyarr, indexer \u001b[38;5;241m=\u001b[39m \u001b[38;5;28;43mself\u001b[39;49m\u001b[38;5;241;43m.\u001b[39;49m\u001b[43m_get_listlike_indexer\u001b[49m\u001b[43m(\u001b[49m\u001b[43mkey\u001b[49m\u001b[43m,\u001b[49m\u001b[43m \u001b[49m\u001b[43maxis\u001b[49m\u001b[43m)\u001b[49m\n\u001b[1;32m   1361\u001b[0m \u001b[38;5;28;01mreturn\u001b[39;00m \u001b[38;5;28mself\u001b[39m\u001b[38;5;241m.\u001b[39mobj\u001b[38;5;241m.\u001b[39m_reindex_with_indexers(\n\u001b[1;32m   1362\u001b[0m     {axis: [keyarr, indexer]}, copy\u001b[38;5;241m=\u001b[39m\u001b[38;5;28;01mTrue\u001b[39;00m, allow_dups\u001b[38;5;241m=\u001b[39m\u001b[38;5;28;01mTrue\u001b[39;00m\n\u001b[1;32m   1363\u001b[0m )\n",
      "File \u001b[0;32m/opt/anaconda3/envs/dev/lib/python3.10/site-packages/pandas/core/indexing.py:1558\u001b[0m, in \u001b[0;36m_LocIndexer._get_listlike_indexer\u001b[0;34m(self, key, axis)\u001b[0m\n\u001b[1;32m   1555\u001b[0m ax \u001b[38;5;241m=\u001b[39m \u001b[38;5;28mself\u001b[39m\u001b[38;5;241m.\u001b[39mobj\u001b[38;5;241m.\u001b[39m_get_axis(axis)\n\u001b[1;32m   1556\u001b[0m axis_name \u001b[38;5;241m=\u001b[39m \u001b[38;5;28mself\u001b[39m\u001b[38;5;241m.\u001b[39mobj\u001b[38;5;241m.\u001b[39m_get_axis_name(axis)\n\u001b[0;32m-> 1558\u001b[0m keyarr, indexer \u001b[38;5;241m=\u001b[39m \u001b[43max\u001b[49m\u001b[38;5;241;43m.\u001b[39;49m\u001b[43m_get_indexer_strict\u001b[49m\u001b[43m(\u001b[49m\u001b[43mkey\u001b[49m\u001b[43m,\u001b[49m\u001b[43m \u001b[49m\u001b[43maxis_name\u001b[49m\u001b[43m)\u001b[49m\n\u001b[1;32m   1560\u001b[0m \u001b[38;5;28;01mreturn\u001b[39;00m keyarr, indexer\n",
      "File \u001b[0;32m/opt/anaconda3/envs/dev/lib/python3.10/site-packages/pandas/core/indexes/base.py:6200\u001b[0m, in \u001b[0;36mIndex._get_indexer_strict\u001b[0;34m(self, key, axis_name)\u001b[0m\n\u001b[1;32m   6197\u001b[0m \u001b[38;5;28;01melse\u001b[39;00m:\n\u001b[1;32m   6198\u001b[0m     keyarr, indexer, new_indexer \u001b[38;5;241m=\u001b[39m \u001b[38;5;28mself\u001b[39m\u001b[38;5;241m.\u001b[39m_reindex_non_unique(keyarr)\n\u001b[0;32m-> 6200\u001b[0m \u001b[38;5;28;43mself\u001b[39;49m\u001b[38;5;241;43m.\u001b[39;49m\u001b[43m_raise_if_missing\u001b[49m\u001b[43m(\u001b[49m\u001b[43mkeyarr\u001b[49m\u001b[43m,\u001b[49m\u001b[43m \u001b[49m\u001b[43mindexer\u001b[49m\u001b[43m,\u001b[49m\u001b[43m \u001b[49m\u001b[43maxis_name\u001b[49m\u001b[43m)\u001b[49m\n\u001b[1;32m   6202\u001b[0m keyarr \u001b[38;5;241m=\u001b[39m \u001b[38;5;28mself\u001b[39m\u001b[38;5;241m.\u001b[39mtake(indexer)\n\u001b[1;32m   6203\u001b[0m \u001b[38;5;28;01mif\u001b[39;00m \u001b[38;5;28misinstance\u001b[39m(key, Index):\n\u001b[1;32m   6204\u001b[0m     \u001b[38;5;66;03m# GH 42790 - Preserve name from an Index\u001b[39;00m\n",
      "File \u001b[0;32m/opt/anaconda3/envs/dev/lib/python3.10/site-packages/pandas/core/indexes/base.py:6249\u001b[0m, in \u001b[0;36mIndex._raise_if_missing\u001b[0;34m(self, key, indexer, axis_name)\u001b[0m\n\u001b[1;32m   6247\u001b[0m \u001b[38;5;28;01mif\u001b[39;00m nmissing:\n\u001b[1;32m   6248\u001b[0m     \u001b[38;5;28;01mif\u001b[39;00m nmissing \u001b[38;5;241m==\u001b[39m \u001b[38;5;28mlen\u001b[39m(indexer):\n\u001b[0;32m-> 6249\u001b[0m         \u001b[38;5;28;01mraise\u001b[39;00m \u001b[38;5;167;01mKeyError\u001b[39;00m(\u001b[38;5;124mf\u001b[39m\u001b[38;5;124m\"\u001b[39m\u001b[38;5;124mNone of [\u001b[39m\u001b[38;5;132;01m{\u001b[39;00mkey\u001b[38;5;132;01m}\u001b[39;00m\u001b[38;5;124m] are in the [\u001b[39m\u001b[38;5;132;01m{\u001b[39;00maxis_name\u001b[38;5;132;01m}\u001b[39;00m\u001b[38;5;124m]\u001b[39m\u001b[38;5;124m\"\u001b[39m)\n\u001b[1;32m   6251\u001b[0m     not_found \u001b[38;5;241m=\u001b[39m \u001b[38;5;28mlist\u001b[39m(ensure_index(key)[missing_mask\u001b[38;5;241m.\u001b[39mnonzero()[\u001b[38;5;241m0\u001b[39m]]\u001b[38;5;241m.\u001b[39munique())\n\u001b[1;32m   6252\u001b[0m     \u001b[38;5;28;01mraise\u001b[39;00m \u001b[38;5;167;01mKeyError\u001b[39;00m(\u001b[38;5;124mf\u001b[39m\u001b[38;5;124m\"\u001b[39m\u001b[38;5;132;01m{\u001b[39;00mnot_found\u001b[38;5;132;01m}\u001b[39;00m\u001b[38;5;124m not in index\u001b[39m\u001b[38;5;124m\"\u001b[39m)\n",
      "\u001b[0;31mKeyError\u001b[0m: \"None of [Index(['ds', 'yhat1'], dtype='object')] are in the [index]\""
     ]
    }
   ],
   "source": [
    "import hvplot.pandas  # Required to use hvPlot with pandas DataFrames\n",
    "\n",
    "# Combine the forecast with the original data for visualization\n",
    "forecast_df = forecast[['ds', 'yhat1']]\n",
    "forecast_df.columns = ['Date', 'Forecast']\n",
    "fraud_df.columns = ['Date', 'Actual']\n",
    "\n",
    "# Merge the actual data with forecasted data for easier comparison\n",
    "fraudchargecountforcast = pd.merge(fraud_df, forecast_df, on='Date', how='outer')\n",
    "\n",
    "# Plot the data using hvPlot\n",
    "fraudchargecountforcast.hvplot(x='Date', y=['Actual', 'Forecast'], \n",
    "                   ylabel='Fraud Charge Count', \n",
    "                   xlabel='Date', \n",
    "                   title='Fraud Charge Count Forecast', \n",
    "                   width=800, \n",
    "                   height=400)\n"
   ]
  },
  {
   "cell_type": "code",
   "execution_count": 18,
   "metadata": {},
   "outputs": [
    {
     "name": "stderr",
     "output_type": "stream",
     "text": [
      "WARNING - (NP.plotting.log_warning_deprecation_plotly) - DeprecationWarning: default plotting_backend will be changed to plotly in a future version. Switch to plotly by calling `m.set_plotting_backend('plotly')`.\n",
      "WARNING - (NP.plotting.log_warning_deprecation_plotly) - DeprecationWarning: default plotting_backend will be changed to plotly in a future version. Switch to plotly by calling `m.set_plotting_backend('plotly')`.\n"
     ]
    },
    {
     "data": {
      "image/png": "[encoded data removed]",
      "text/plain": [
       "<Figure size 1000x600 with 1 Axes>"
      ]
     },
     "metadata": {},
     "output_type": "display_data"
    },
    {
     "data": {
      "image/png": "[encoded data removed]",
      "text/plain": [
       "<Figure size 1000x600 with 2 Axes>"
      ]
     },
     "metadata": {},
     "output_type": "display_data"
    }
   ],
   "source": [
    "import warnings\n",
    "warnings.simplefilter(action='ignore', category=FutureWarning)\n",
    "\n",
    "\n",
    "# Use matplotlib-based plotting functions\n",
    "fig_forecast = model.plot(forecast, plotting_backend=\"matplotlib\")\n",
    "fig_components = model.plot_components(forecast, plotting_backend=\"matplotlib\")\n"
   ]
  },
  {
   "cell_type": "code",
   "execution_count": 19,
   "metadata": {},
   "outputs": [
    {
     "data": {
      "text/html": [
       "<div>\n",
       "<style scoped>\n",
       "    .dataframe tbody tr th:only-of-type {\n",
       "        vertical-align: middle;\n",
       "    }\n",
       "\n",
       "    .dataframe tbody tr th {\n",
       "        vertical-align: top;\n",
       "    }\n",
       "\n",
       "    .dataframe thead th {\n",
       "        text-align: right;\n",
       "    }\n",
       "</style>\n",
       "<table border=\"1\" class=\"dataframe\">\n",
       "  <thead>\n",
       "    <tr style=\"text-align: right;\">\n",
       "      <th></th>\n",
       "      <th>Date</th>\n",
       "      <th>Actual</th>\n",
       "    </tr>\n",
       "  </thead>\n",
       "  <tbody>\n",
       "    <tr>\n",
       "      <th>0</th>\n",
       "      <td>2019-01-02</td>\n",
       "      <td>7</td>\n",
       "    </tr>\n",
       "    <tr>\n",
       "      <th>1</th>\n",
       "      <td>2019-01-03</td>\n",
       "      <td>12</td>\n",
       "    </tr>\n",
       "    <tr>\n",
       "      <th>2</th>\n",
       "      <td>2019-01-04</td>\n",
       "      <td>13</td>\n",
       "    </tr>\n",
       "    <tr>\n",
       "      <th>3</th>\n",
       "      <td>2019-01-05</td>\n",
       "      <td>13</td>\n",
       "    </tr>\n",
       "    <tr>\n",
       "      <th>4</th>\n",
       "      <td>2019-01-06</td>\n",
       "      <td>2</td>\n",
       "    </tr>\n",
       "    <tr>\n",
       "      <th>...</th>\n",
       "      <td>...</td>\n",
       "      <td>...</td>\n",
       "    </tr>\n",
       "    <tr>\n",
       "      <th>499</th>\n",
       "      <td>2020-06-17</td>\n",
       "      <td>35</td>\n",
       "    </tr>\n",
       "    <tr>\n",
       "      <th>500</th>\n",
       "      <td>2020-06-18</td>\n",
       "      <td>39</td>\n",
       "    </tr>\n",
       "    <tr>\n",
       "      <th>501</th>\n",
       "      <td>2020-06-19</td>\n",
       "      <td>25</td>\n",
       "    </tr>\n",
       "    <tr>\n",
       "      <th>502</th>\n",
       "      <td>2020-06-20</td>\n",
       "      <td>26</td>\n",
       "    </tr>\n",
       "    <tr>\n",
       "      <th>503</th>\n",
       "      <td>2020-06-21</td>\n",
       "      <td>7</td>\n",
       "    </tr>\n",
       "  </tbody>\n",
       "</table>\n",
       "<p>504 rows × 2 columns</p>\n",
       "</div>"
      ],
      "text/plain": [
       "          Date  Actual\n",
       "0   2019-01-02       7\n",
       "1   2019-01-03      12\n",
       "2   2019-01-04      13\n",
       "3   2019-01-05      13\n",
       "4   2019-01-06       2\n",
       "..         ...     ...\n",
       "499 2020-06-17      35\n",
       "500 2020-06-18      39\n",
       "501 2020-06-19      25\n",
       "502 2020-06-20      26\n",
       "503 2020-06-21       7\n",
       "\n",
       "[504 rows x 2 columns]"
      ]
     },
     "execution_count": 19,
     "metadata": {},
     "output_type": "execute_result"
    }
   ],
   "source": [
    "fraud_df"
   ]
  },
  {
   "cell_type": "code",
   "execution_count": 20,
   "metadata": {},
   "outputs": [],
   "source": [
    "fraud_df.set_index('Date', inplace=True)"
   ]
  },
  {
   "cell_type": "code",
   "execution_count": 21,
   "metadata": {},
   "outputs": [
    {
     "name": "stdout",
     "output_type": "stream",
     "text": [
      "Performing stepwise search to minimize aic\n",
      " ARIMA(2,0,2)(0,0,0)[0]             : AIC=inf, Time=0.19 sec\n",
      " ARIMA(0,0,0)(0,0,0)[0]             : AIC=4319.435, Time=0.00 sec\n",
      " ARIMA(1,0,0)(0,0,0)[0]             : AIC=3785.528, Time=0.01 sec\n",
      " ARIMA(0,0,1)(0,0,0)[0]             : AIC=3996.376, Time=0.02 sec\n",
      " ARIMA(2,0,0)(0,0,0)[0]             : AIC=3776.824, Time=0.02 sec\n",
      " ARIMA(3,0,0)(0,0,0)[0]             : AIC=3725.309, Time=0.03 sec\n",
      " ARIMA(4,0,0)(0,0,0)[0]             : AIC=3718.628, Time=0.04 sec\n",
      " ARIMA(5,0,0)(0,0,0)[0]             : AIC=3694.038, Time=0.04 sec\n",
      " ARIMA(5,0,1)(0,0,0)[0]             : AIC=inf, Time=0.25 sec\n",
      " ARIMA(4,0,1)(0,0,0)[0]             : AIC=inf, Time=0.21 sec\n",
      " ARIMA(5,0,0)(0,0,0)[0] intercept   : AIC=3613.167, Time=0.14 sec\n",
      " ARIMA(4,0,0)(0,0,0)[0] intercept   : AIC=3612.022, Time=0.06 sec\n",
      " ARIMA(3,0,0)(0,0,0)[0] intercept   : AIC=3613.756, Time=0.06 sec\n",
      " ARIMA(4,0,1)(0,0,0)[0] intercept   : AIC=3613.489, Time=0.19 sec\n",
      " ARIMA(3,0,1)(0,0,0)[0] intercept   : AIC=3612.794, Time=0.18 sec\n"
     ]
    },
    {
     "name": "stderr",
     "output_type": "stream",
     "text": [
      "WARNING - (py.warnings._showwarnmsg) - /opt/anaconda3/envs/dev/lib/python3.10/site-packages/statsmodels/tsa/base/tsa_model.py:836: ValueWarning:\n",
      "\n",
      "No supported index is available. Prediction results will be given with an integer index beginning at `start`.\n",
      "\n",
      "\n"
     ]
    },
    {
     "name": "stdout",
     "output_type": "stream",
     "text": [
      " ARIMA(5,0,1)(0,0,0)[0] intercept   : AIC=3614.797, Time=0.36 sec\n",
      "\n",
      "Best model:  ARIMA(4,0,0)(0,0,0)[0] intercept\n",
      "Total fit time: 1.806 seconds\n"
     ]
    }
   ],
   "source": [
    "\n",
    "# Fit the ARIMA model automatically\n",
    "model = pm.auto_arima(fraud_df['Actual'], seasonal=False, trace=True, error_action='ignore', suppress_warnings=True)\n",
    "\n",
    "# Forecast the next 30 days\n",
    "n_periods = 365\n",
    "forecast, conf_int = model.predict(n_periods=n_periods, return_conf_int=True)\n",
    "\n",
    "# Create a DataFrame for the forecasted values and dates\n",
    "forecast_dates = pd.date_range(fraud_df.index[-1] + pd.Timedelta(days=1), periods=n_periods)\n",
    "forecast_df = pd.DataFrame({'Date': forecast_dates, 'Forecast': forecast, \n",
    "                            'Lower Conf Int': conf_int[:, 0], 'Upper Conf Int': conf_int[:, 1]})\n",
    "\n",
    "# Reset index for merging with hvplot\n",
    "fraud_df.reset_index(inplace=True)\n",
    "fraud_df.columns = ['Date', 'Actual']\n"
   ]
  },
  {
   "cell_type": "code",
   "execution_count": 22,
   "metadata": {},
   "outputs": [
    {
     "data": {},
     "metadata": {},
     "output_type": "display_data"
    },
    {
     "data": {
      "application/vnd.holoviews_exec.v0+json": "",
      "text/html": [
       "<div id='p1215'>\n",
       "  <div id=\"b05015a9-c33f-4f70-8434-63750e21f8ae\" data-root-id=\"p1215\" style=\"display: contents;\"></div>\n",
       "</div>\n",
       "<script type=\"application/javascript\">(function(root) {\n",
       "  var docs_json = {\"9192e704-23c1-4f65-9df6-5884452f7d2f\":{\"version\":\"3.4.1\",\"title\":\"Bokeh Application\",\"roots\":[{\"type\":\"object\",\"name\":\"Row\",\"id\":\"p1215\",\"attributes\":{\"name\":\"Row01660\",\"tags\":[\"embedded\"],\"stylesheets\":[\"\\n:host(.pn-loading):before, .pn-loading:before {\\n  background-color: #c3c3c3;\\n  mask-size: auto calc(min(50%, 400px));\\n  -webkit-mask-size: auto calc(min(50%, 400px));\\n}\",{\"type\":\"object\",\"name\":\"ImportedStyleSheet\",\"id\":\"p1218\",\"attributes\":{\"url\":\"https://cdn.holoviz.org/panel/1.4.4/dist/css/loading.css\"}},{\"type\":\"object\",\"name\":\"ImportedStyleSheet\",\"id\":\"p1321\",\"attributes\":{\"url\":\"https://cdn.holoviz.org/panel/1.4.4/dist/css/listpanel.css\"}},{\"type\":\"object\",\"name\":\"ImportedStyleSheet\",\"id\":\"p1216\",\"attributes\":{\"url\":\"https://cdn.holoviz.org/panel/1.4.4/dist/bundled/theme/default.css\"}},{\"type\":\"object\",\"name\":\"ImportedStyleSheet\",\"id\":\"p1217\",\"attributes\":{\"url\":\"https://cdn.holoviz.org/panel/1.4.4/dist/bundled/theme/native.css\"}}],\"min_width\":800,\"margin\":0,\"sizing_mode\":\"stretch_width\",\"align\":\"start\",\"children\":[{\"type\":\"object\",\"name\":\"Spacer\",\"id\":\"p1219\",\"attributes\":{\"name\":\"HSpacer01667\",\"stylesheets\":[\"\\n:host(.pn-loading):before, .pn-loading:before {\\n  background-color: #c3c3c3;\\n  mask-size: auto calc(min(50%, 400px));\\n  -webkit-mask-size: auto calc(min(50%, 400px));\\n}\",{\"id\":\"p1218\"},{\"id\":\"p1216\"},{\"id\":\"p1217\"}],\"margin\":0,\"sizing_mode\":\"stretch_width\",\"align\":\"start\"}},{\"type\":\"object\",\"name\":\"Figure\",\"id\":\"p1233\",\"attributes\":{\"width\":800,\"height\":400,\"margin\":[5,10],\"sizing_mode\":\"fixed\",\"align\":\"start\",\"x_range\":{\"type\":\"object\",\"name\":\"Range1d\",\"id\":\"p1220\",\"attributes\":{\"tags\":[[[\"Date\",null]],[]],\"start\":1546387200000.0,\"end\":1624233600000.0,\"reset_start\":1546387200000.0,\"reset_end\":1624233600000.0}},\"y_range\":{\"type\":\"object\",\"name\":\"Range1d\",\"id\":\"p1221\",\"attributes\":{\"tags\":[[[\"value\",null]],{\"type\":\"map\",\"entries\":[[\"invert_yaxis\",false],[\"autorange\",false]]}],\"start\":-14.44198176381807,\"end\":55.85836197852892,\"reset_start\":-14.44198176381807,\"reset_end\":55.85836197852892}},\"x_scale\":{\"type\":\"object\",\"name\":\"LinearScale\",\"id\":\"p1243\"},\"y_scale\":{\"type\":\"object\",\"name\":\"LinearScale\",\"id\":\"p1244\"},\"title\":{\"type\":\"object\",\"name\":\"Title\",\"id\":\"p1236\",\"attributes\":{\"text\":\"Fraud Charge Count Forecast\",\"text_color\":\"black\",\"text_font_size\":\"12pt\"}},\"renderers\":[{\"type\":\"object\",\"name\":\"GlyphRenderer\",\"id\":\"p1285\",\"attributes\":{\"name\":\"Actual\",\"data_source\":{\"type\":\"object\",\"name\":\"ColumnDataSource\",\"id\":\"p1276\",\"attributes\":{\"selected\":{\"type\":\"object\",\"name\":\"Selection\",\"id\":\"p1277\",\"attributes\":{\"indices\":[],\"line_indices\":[]}},\"selection_policy\":{\"type\":\"object\",\"name\":\"UnionRenderers\",\"id\":\"p1278\"},\"data\":{\"type\":\"map\",\"entries\":[[\"Date\",{\"type\":\"ndarray\",\"array\":{\"type\":\"bytes\",\"data\":\"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\"},\"shape\":[869],\"dtype\":\"float64\",\"order\":\"little\"}],[\"value\",{\"type\":\"ndarray\",\"array\":{\"type\":\"bytes\",\"data\":\"AAAAAAAAHEAAAAAAAAAoQAAAAAAAACpAAAAAAAAAKkAAAAAAAAAAQAAAAAAAABBAAAAAAAAAOkAAAAAAAAA3QAAAAAAAABhAAAAAAAAAMEAAAAAAAAA1QAAAAAAAAD1AAAAAAACAQkAAAAAAAABCQAAAAAAAADRAAAAAAAAAMEAAAAAAAAA0QAAAAAAAADVAAAAAAAAAOUAAAAAAAAAxQAAAAAAAADVAAAAAAAAAAEAAAAAAAAAQQAAAAAAAABhAAAAAAAAAM0AAAAAAAAAuQAAAAAAAADdAAAAAAAAANEAAAAAAAABAQAAAAAAAADRAAAAAAAAANkAAAAAAAAAzQAAAAAAAACpAAAAAAAAALEAAAAAAAIBBQAAAAAAAAEFAAAAAAAAAHEAAAAAAAAAUQAAAAAAAAChAAAAAAAAARkAAAAAAAAA6QAAAAAAAACRAAAAAAAAALEAAAAAAAAAAQAAAAAAAACpAAAAAAAAANkAAAAAAAAA4QAAAAAAAABRAAAAAAAAAJkAAAAAAAAAyQAAAAAAAACRAAAAAAAAAHEAAAAAAAABJQAAAAAAAAEBAAAAAAAAAEEAAAAAAAABGQAAAAAAAABhAAAAAAAAAIkAAAAAAAAAiQAAAAAAAACpAAAAAAAAAM0AAAAAAAAAsQAAAAAAAADhAAAAAAAAAPEAAAAAAAAAgQAAAAAAAADFAAAAAAAAAPkAAAAAAAAAsQAAAAAAAACRAAAAAAAAAPEAAAAAAAAA7QAAAAAAAADpAAAAAAAAAHEAAAAAAAAAxQAAAAAAAADtAAAAAAAAAKEAAAAAAAAA+QAAAAAAAADtAAAAAAAAAJkAAAAAAAAA7QAAAAAAAACRAAAAAAAAAHEAAAAAAAAAgQAAAAAAAACxAAAAAAAAALkAAAAAAAAAYQAAAAAAAABRAAAAAAAAAMkAAAAAAAAAqQAAAAAAAABRAAAAAAAAAHEAAAAAAAAAqQAAAAAAAADRAAAAAAAAAIEAAAAAAAAAiQAAAAAAAACBAAAAAAAAAKkAAAAAAAAAqQAAAAAAAACJAAAAAAAAAHEAAAAAAAAAzQAAAAAAAADRAAAAAAAAAJEAAAAAAAAAoQAAAAAAAAC5AAAAAAAAAEEAAAAAAAAAYQAAAAAAAABxAAAAAAAAAIEAAAAAAAAAmQAAAAAAAADtAAAAAAAAANEAAAAAAAAA0QAAAAAAAADxAAAAAAAAALkAAAAAAAAAuQAAAAAAAACxAAAAAAAAAMUAAAAAAAAAsQAAAAAAAABRAAAAAAAAAIkAAAAAAAAAYQAAAAAAAABhAAAAAAAAAMUAAAAAAAAA4QAAAAAAAACpAAAAAAAAAJEAAAAAAAAAmQAAAAAAAAC5AAAAAAAAANkAAAAAAAAAxQAAAAAAAADZAAAAAAAAARkAAAAAAAAAmQAAAAAAAACBAAAAAAAAALkAAAAAAAAAsQAAAAAAAADRAAAAAAAAAPUAAAAAAAAAYQAAAAAAAAAhAAAAAAAAAKkAAAAAAAAAAQAAAAAAAABhAAAAAAAAACEAAAAAAAAA4QAAAAAAAADFAAAAAAAAAKEAAAAAAAAAYQAAAAAAAAABAAAAAAAAAIEAAAAAAAAA6QAAAAAAAACxAAAAAAAAAFEAAAAAAAAAmQAAAAAAAADBAAAAAAAAAOkAAAAAAAAAkQAAAAAAAACBAAAAAAAAAHEAAAAAAAAAUQAAAAAAAACRAAAAAAAAAN0AAAAAAAAA2QAAAAAAAABhAAAAAAAAA8D8AAAAAAAAUQAAAAAAAACJAAAAAAAAANEAAAAAAAIBFQAAAAAAAAC5AAAAAAAAAJkAAAAAAAAAqQAAAAAAAABRAAAAAAAAAJkAAAAAAAAA2QAAAAAAAAC5AAAAAAAAAJkAAAAAAAAAIQAAAAAAAADBAAAAAAAAAM0AAAAAAAAAuQAAAAAAAABxAAAAAAAAALkAAAAAAAAAmQAAAAAAAAABAAAAAAAAA8D8AAAAAAAAsQAAAAAAAADpAAAAAAAAAAEAAAAAAAAAcQAAAAAAAAC5AAAAAAAAAJkAAAAAAAAA/QAAAAAAAAD5AAAAAAAAAMUAAAAAAAADwPwAAAAAAACpAAAAAAAAANkAAAAAAAAAoQAAAAAAAAC5AAAAAAAAA8D8AAAAAAAAUQAAAAAAAACBAAAAAAAAACEAAAAAAAAAqQAAAAAAAADZAAAAAAAAAOEAAAAAAAAAoQAAAAAAAAAhAAAAAAAAAIEAAAAAAAAA7QAAAAAAAADVAAAAAAAAAKEAAAAAAAAAIQAAAAAAAADZAAAAAAAAAPUAAAAAAAAAzQAAAAAAAABxAAAAAAAAAGEAAAAAAAAAkQAAAAAAAADpAAAAAAACAQ0AAAAAAAAA4QAAAAAAAABBAAAAAAAAAGEAAAAAAAAAiQAAAAAAAABxAAAAAAAAAFEAAAAAAAAAyQAAAAAAAACBAAAAAAAAAPkAAAAAAAIBEQAAAAAAAADRAAAAAAAAANUAAAAAAAAA5QAAAAAAAABBAAAAAAAAACEAAAAAAAAAYQAAAAAAAAABAAAAAAAAANEAAAAAAAAAwQAAAAAAAAChAAAAAAAAANkAAAAAAAIBCQAAAAAAAACZAAAAAAAAAIkAAAAAAAAAAQAAAAAAAABhAAAAAAAAAOEAAAAAAAAA2QAAAAAAAABBAAAAAAAAALEAAAAAAAAA3QAAAAAAAABxAAAAAAAAAGEAAAAAAAAAzQAAAAAAAADlAAAAAAAAAEEAAAAAAAAAcQAAAAAAAADRAAAAAAAAAMEAAAAAAAAAuQAAAAAAAADdAAAAAAAAAPkAAAAAAAAA6QAAAAAAAAPA/AAAAAAAANEAAAAAAAAA7QAAAAAAAAD1AAAAAAACAQkAAAAAAAAAzQAAAAAAAAPA/AAAAAAAAKEAAAAAAAAAQQAAAAAAAAPA/AAAAAAAALkAAAAAAAAAYQAAAAAAAABhAAAAAAAAAIEAAAAAAAAAmQAAAAAAAADZAAAAAAAAAOUAAAAAAAABAQAAAAAAAACpAAAAAAAAAGEAAAAAAAAAQQAAAAAAAABBAAAAAAAAAHEAAAAAAAAAkQAAAAAAAABxAAAAAAAAALEAAAAAAAAAyQAAAAAAAAPA/AAAAAAAAFEAAAAAAAAA1QAAAAAAAADRAAAAAAAAAFEAAAAAAAAAmQAAAAAAAADpAAAAAAAAAFEAAAAAAAAAcQAAAAAAAACpAAAAAAAAALEAAAAAAAAAxQAAAAAAAADJAAAAAAAAAMUAAAAAAAAA0QAAAAAAAADNAAAAAAAAAPUAAAAAAAAAyQAAAAAAAADZAAAAAAAAAJEAAAAAAAAA8QAAAAAAAADVAAAAAAAAAMkAAAAAAAAAzQAAAAAAAACxAAAAAAAAALkAAAAAAAAAgQAAAAAAAADFAAAAAAAAAQ0AAAAAAAAAmQAAAAAAAACxAAAAAAAAAHEAAAAAAAAAxQAAAAAAAACZAAAAAAAAAGEAAAAAAAAAiQAAAAAAAADVAAAAAAAAAN0AAAAAAAAA/QAAAAAAAAERAAAAAAAAAOUAAAAAAAAAmQAAAAAAAACBAAAAAAAAAMUAAAAAAAIBAQAAAAAAAADlAAAAAAAAAQEAAAAAAAAA3QAAAAAAAAAhAAAAAAAAACEAAAAAAAAAmQAAAAAAAADdAAAAAAAAALEAAAAAAAAAIQAAAAAAAACZAAAAAAAAAMkAAAAAAAAAiQAAAAAAAACBAAAAAAAAANEAAAAAAAAA4QAAAAAAAACxAAAAAAAAAIEAAAAAAAAAIQAAAAAAAADNAAAAAAAAAM0AAAAAAAAA0QAAAAAAAACRAAAAAAAAAFEAAAAAAAAAgQAAAAAAAACpAAAAAAAAAKEAAAAAAAAAmQAAAAAAAACpAAAAAAAAAEEAAAAAAAAAUQAAAAAAAADFAAAAAAAAALkAAAAAAAAA1QAAAAAAAADZAAAAAAAAAMkAAAAAAAAAYQAAAAAAAACZAAAAAAAAALEAAAAAAAAAqQAAAAAAAACBAAAAAAAAAIkAAAAAAAAAUQAAAAAAAABBAAAAAAAAAKkAAAAAAAAAyQAAAAAAAACRAAAAAAAAAGEAAAAAAAAAIQAAAAAAAACRAAAAAAAAAOUAAAAAAAAA8QAAAAAAAADFAAAAAAAAAKkAAAAAAAAAYQAAAAAAAABxAAAAAAAAA8D8AAAAAAAA6QAAAAAAAADZAAAAAAAAAM0AAAAAAAAA7QAAAAAAAACJAAAAAAAAAGEAAAAAAAAAgQAAAAAAAABxAAAAAAAAALkAAAAAAAAAcQAAAAAAAADJAAAAAAAAANkAAAAAAAAA/QAAAAAAAACpAAAAAAAAAIEAAAAAAAAAyQAAAAAAAADNAAAAAAAAAQEAAAAAAAAAsQAAAAAAAgEJAAAAAAACAREAAAAAAAAAuQAAAAAAAABRAAAAAAAAAGEAAAAAAAAAmQAAAAAAAAAhAAAAAAAAAFEAAAAAAAAAmQAAAAAAAABBAAAAAAACAQEAAAAAAAAAoQAAAAAAAACRAAAAAAAAALkAAAAAAAADwPwAAAAAAABRAAAAAAAAAPEAAAAAAAAAkQAAAAAAAACJAAAAAAAAAIkAAAAAAAAAAQAAAAAAAABRAAAAAAAAAIkAAAAAAAAAmQAAAAAAAAC5AAAAAAAAALkAAAAAAAAAxQAAAAAAAABhAAAAAAAAAIEAAAAAAAAAyQAAAAAAAACRAAAAAAAAAHEAAAAAAAAAsQAAAAAAAAChAAAAAAAAAJEAAAAAAAAAIQAAAAAAAADBAAAAAAAAAKkAAAAAAAAAoQAAAAAAAADVAAAAAAAAAN0AAAAAAAAA/QAAAAAAAADNAAAAAAAAAMkAAAAAAAAAyQAAAAAAAADBAAAAAAAAAJkAAAAAAAAA1QAAAAAAAgEFAAAAAAAAAOEAAAAAAAAA0QAAAAAAAACxAAAAAAAAAIkAAAAAAAAAUQAAAAAAAACJAAAAAAAAALkAAAAAAAAAkQAAAAAAAADVAAAAAAAAAEEAAAAAAAAA3QAAAAAAAACZAAAAAAAAAKkAAAAAAAAA8QAAAAAAAAD9AAAAAAAAAIkAAAAAAAAAsQAAAAAAAAC5AAAAAAAAANEAAAAAAAAAwQAAAAAAAAAhAAAAAAAAAFEAAAAAAAAAsQAAAAAAAAC5AAAAAAAAAM0AAAAAAAAAYQAAAAAAAABRAAAAAAAAAMUAAAAAAAIBCQAAAAAAAACBAAAAAAAAAKEAAAAAAAAAQQAAAAAAAAABAAAAAAAAAGEAAAAAAAAA0QAAAAAAAADZAAAAAAAAAJEAAAAAAAIBBQAAAAAAAgENAAAAAAAAAOUAAAAAAAAA6QAAAAAAAABxAAAAAAAAA+H8AAAAAAAD4fwAAAAAAAPh/AAAAAAAA+H8AAAAAAAD4fwAAAAAAAPh/AAAAAAAA+H8AAAAAAAD4fwAAAAAAAPh/AAAAAAAA+H8AAAAAAAD4fwAAAAAAAPh/AAAAAAAA+H8AAAAAAAD4fwAAAAAAAPh/AAAAAAAA+H8AAAAAAAD4fwAAAAAAAPh/AAAAAAAA+H8AAAAAAAD4fwAAAAAAAPh/AAAAAAAA+H8AAAAAAAD4fwAAAAAAAPh/AAAAAAAA+H8AAAAAAAD4fwAAAAAAAPh/AAAAAAAA+H8AAAAAAAD4fwAAAAAAAPh/AAAAAAAA+H8AAAAAAAD4fwAAAAAAAPh/AAAAAAAA+H8AAAAAAAD4fwAAAAAAAPh/AAAAAAAA+H8AAAAAAAD4fwAAAAAAAPh/AAAAAAAA+H8AAAAAAAD4fwAAAAAAAPh/AAAAAAAA+H8AAAAAAAD4fwAAAAAAAPh/AAAAAAAA+H8AAAAAAAD4fwAAAAAAAPh/AAAAAAAA+H8AAAAAAAD4fwAAAAAAAPh/AAAAAAAA+H8AAAAAAAD4fwAAAAAAAPh/AAAAAAAA+H8AAAAAAAD4fwAAAAAAAPh/AAAAAAAA+H8AAAAAAAD4fwAAAAAAAPh/AAAAAAAA+H8AAAAAAAD4fwAAAAAAAPh/AAAAAAAA+H8AAAAAAAD4fwAAAAAAAPh/AAAAAAAA+H8AAAAAAAD4fwAAAAAAAPh/AAAAAAAA+H8AAAAAAAD4fwAAAAAAAPh/AAAAAAAA+H8AAAAAAAD4fwAAAAAAAPh/AAAAAAAA+H8AAAAAAAD4fwAAAAAAAPh/AAAAAAAA+H8AAAAAAAD4fwAAAAAAAPh/AAAAAAAA+H8AAAAAAAD4fwAAAAAAAPh/AAAAAAAA+H8AAAAAAAD4fwAAAAAAAPh/AAAAAAAA+H8AAAAAAAD4fwAAAAAAAPh/AAAAAAAA+H8AAAAAAAD4fwAAAAAAAPh/AAAAAAAA+H8AAAAAAAD4fwAAAAAAAPh/AAAAAAAA+H8AAAAAAAD4fwAAAAAAAPh/AAAAAAAA+H8AAAAAAAD4fwAAAAAAAPh/AAAAAAAA+H8AAAAAAAD4fwAAAAAAAPh/AAAAAAAA+H8AAAAAAAD4fwAAAAAAAPh/AAAAAAAA+H8AAAAAAAD4fwAAAAAAAPh/AAAAAAAA+H8AAAAAAAD4fwAAAAAAAPh/AAAAAAAA+H8AAAAAAAD4fwAAAAAAAPh/AAAAAAAA+H8AAAAAAAD4fwAAAAAAAPh/AAAAAAAA+H8AAAAAAAD4fwAAAAAAAPh/AAAAAAAA+H8AAAAAAAD4fwAAAAAAAPh/AAAAAAAA+H8AAAAAAAD4fwAAAAAAAPh/AAAAAAAA+H8AAAAAAAD4fwAAAAAAAPh/AAAAAAAA+H8AAAAAAAD4fwAAAAAAAPh/AAAAAAAA+H8AAAAAAAD4fwAAAAAAAPh/AAAAAAAA+H8AAAAAAAD4fwAAAAAAAPh/AAAAAAAA+H8AAAAAAAD4fwAAAAAAAPh/AAAAAAAA+H8AAAAAAAD4fwAAAAAAAPh/AAAAAAAA+H8AAAAAAAD4fwAAAAAAAPh/AAAAAAAA+H8AAAAAAAD4fwAAAAAAAPh/AAAAAAAA+H8AAAAAAAD4fwAAAAAAAPh/AAAAAAAA+H8AAAAAAAD4fwAAAAAAAPh/AAAAAAAA+H8AAAAAAAD4fwAAAAAAAPh/AAAAAAAA+H8AAAAAAAD4fwAAAAAAAPh/AAAAAAAA+H8AAAAAAAD4fwAAAAAAAPh/AAAAAAAA+H8AAAAAAAD4fwAAAAAAAPh/AAAAAAAA+H8AAAAAAAD4fwAAAAAAAPh/AAAAAAAA+H8AAAAAAAD4fwAAAAAAAPh/AAAAAAAA+H8AAAAAAAD4fwAAAAAAAPh/AAAAAAAA+H8AAAAAAAD4fwAAAAAAAPh/AAAAAAAA+H8AAAAAAAD4fwAAAAAAAPh/AAAAAAAA+H8AAAAAAAD4fwAAAAAAAPh/AAAAAAAA+H8AAAAAAAD4fwAAAAAAAPh/AAAAAAAA+H8AAAAAAAD4fwAAAAAAAPh/AAAAAAAA+H8AAAAAAAD4fwAAAAAAAPh/AAAAAAAA+H8AAAAAAAD4fwAAAAAAAPh/AAAAAAAA+H8AAAAAAAD4fwAAAAAAAPh/AAAAAAAA+H8AAAAAAAD4fwAAAAAAAPh/AAAAAAAA+H8AAAAAAAD4fwAAAAAAAPh/AAAAAAAA+H8AAAAAAAD4fwAAAAAAAPh/AAAAAAAA+H8AAAAAAAD4fwAAAAAAAPh/AAAAAAAA+H8AAAAAAAD4fwAAAAAAAPh/AAAAAAAA+H8AAAAAAAD4fwAAAAAAAPh/AAAAAAAA+H8AAAAAAAD4fwAAAAAAAPh/AAAAAAAA+H8AAAAAAAD4fwAAAAAAAPh/AAAAAAAA+H8AAAAAAAD4fwAAAAAAAPh/AAAAAAAA+H8AAAAAAAD4fwAAAAAAAPh/AAAAAAAA+H8AAAAAAAD4fwAAAAAAAPh/AAAAAAAA+H8AAAAAAAD4fwAAAAAAAPh/AAAAAAAA+H8AAAAAAAD4fwAAAAAAAPh/AAAAAAAA+H8AAAAAAAD4fwAAAAAAAPh/AAAAAAAA+H8AAAAAAAD4fwAAAAAAAPh/AAAAAAAA+H8AAAAAAAD4fwAAAAAAAPh/AAAAAAAA+H8AAAAAAAD4fwAAAAAAAPh/AAAAAAAA+H8AAAAAAAD4fwAAAAAAAPh/AAAAAAAA+H8AAAAAAAD4fwAAAAAAAPh/AAAAAAAA+H8AAAAAAAD4fwAAAAAAAPh/AAAAAAAA+H8AAAAAAAD4fwAAAAAAAPh/AAAAAAAA+H8AAAAAAAD4fwAAAAAAAPh/AAAAAAAA+H8AAAAAAAD4fwAAAAAAAPh/AAAAAAAA+H8AAAAAAAD4fwAAAAAAAPh/AAAAAAAA+H8AAAAAAAD4fwAAAAAAAPh/AAAAAAAA+H8AAAAAAAD4fwAAAAAAAPh/AAAAAAAA+H8AAAAAAAD4fwAAAAAAAPh/AAAAAAAA+H8AAAAAAAD4fwAAAAAAAPh/AAAAAAAA+H8AAAAAAAD4fwAAAAAAAPh/AAAAAAAA+H8AAAAAAAD4fwAAAAAAAPh/AAAAAAAA+H8AAAAAAAD4fwAAAAAAAPh/AAAAAAAA+H8AAAAAAAD4fwAAAAAAAPh/AAAAAAAA+H8AAAAAAAD4fwAAAAAAAPh/AAAAAAAA+H8AAAAAAAD4fwAAAAAAAPh/AAAAAAAA+H8AAAAAAAD4fwAAAAAAAPh/AAAAAAAA+H8AAAAAAAD4fwAAAAAAAPh/AAAAAAAA+H8AAAAAAAD4fwAAAAAAAPh/AAAAAAAA+H8AAAAAAAD4fwAAAAAAAPh/AAAAAAAA+H8AAAAAAAD4fwAAAAAAAPh/AAAAAAAA+H8AAAAAAAD4fwAAAAAAAPh/AAAAAAAA+H8AAAAAAAD4fwAAAAAAAPh/AAAAAAAA+H8AAAAAAAD4fwAAAAAAAPh/AAAAAAAA+H8AAAAAAAD4fwAAAAAAAPh/AAAAAAAA+H8AAAAAAAD4fwAAAAAAAPh/AAAAAAAA+H8AAAAAAAD4fwAAAAAAAPh/AAAAAAAA+H8AAAAAAAD4fwAAAAAAAPh/AAAAAAAA+H8AAAAAAAD4fwAAAAAAAPh/AAAAAAAA+H8AAAAAAAD4fwAAAAAAAPh/AAAAAAAA+H8AAAAAAAD4fwAAAAAAAPh/AAAAAAAA+H8AAAAAAAD4fwAAAAAAAPh/AAAAAAAA+H8AAAAAAAD4fwAAAAAAAPh/AAAAAAAA+H8AAAAAAAD4fwAAAAAAAPh/AAAAAAAA+H8AAAAAAAD4fwAAAAAAAPh/AAAAAAAA+H8AAAAAAAD4fw==\"},\"shape\":[869],\"dtype\":\"float64\",\"order\":\"little\"}],[\"Variable\",[\"Actual\",\"Actual\",\"Actual\",\"Actual\",\"Actual\",\"Actual\",\"Actual\",\"Actual\",\"Actual\",\"Actual\",\"Actual\",\"Actual\",\"Actual\",\"Actual\",\"Actual\",\"Actual\",\"Actual\",\"Actual\",\"Actual\",\"Actual\",\"Actual\",\"Actual\",\"Actual\",\"Actual\",\"Actual\",\"Actual\",\"Actual\",\"Actual\",\"Actual\",\"Actual\",\"Actual\",\"Actual\",\"Actual\",\"Actual\",\"Actual\",\"Actual\",\"Actual\",\"Actual\",\"Actual\",\"Actual\",\"Actual\",\"Actual\",\"Actual\",\"Actual\",\"Actual\",\"Actual\",\"Actual\",\"Actual\",\"Actual\",\"Actual\",\"Actual\",\"Actual\",\"Actual\",\"Actual\",\"Actual\",\"Actual\",\"Actual\",\"Actual\",\"Actual\",\"Actual\",\"Actual\",\"Actual\",\"Actual\",\"Actual\",\"Actual\",\"Actual\",\"Actual\",\"Actual\",\"Actual\",\"Actual\",\"Actual\",\"Actual\",\"Actual\",\"Actual\",\"Actual\",\"Actual\",\"Actual\",\"Actual\",\"Actual\",\"Actual\",\"Actual\",\"Actual\",\"Actual\",\"Actual\",\"Actual\",\"Actual\",\"Actual\",\"Actual\",\"Actual\",\"Actual\",\"Actual\",\"Actual\",\"Actual\",\"Actual\",\"Actual\",\"Actual\",\"Actual\",\"Actual\",\"Actual\",\"Actual\",\"Actual\",\"Actual\",\"Actual\",\"Actual\",\"Actual\",\"Actual\",\"Actual\",\"Actual\",\"Actual\",\"Actual\",\"Actual\",\"Actual\",\"Actual\",\"Actual\",\"Actual\",\"Actual\",\"Actual\",\"Actual\",\"Actual\",\"Actual\",\"Actual\",\"Actual\",\"Actual\",\"Actual\",\"Actual\",\"Actual\",\"Actual\",\"Actual\",\"Actual\",\"Actual\",\"Actual\",\"Actual\",\"Actual\",\"Actual\",\"Actual\",\"Actual\",\"Actual\",\"Actual\",\"Actual\",\"Actual\",\"Actual\",\"Actual\",\"Actual\",\"Actual\",\"Actual\",\"Actual\",\"Actual\",\"Actual\",\"Actual\",\"Actual\",\"Actual\",\"Actual\",\"Actual\",\"Actual\",\"Actual\",\"Actual\",\"Actual\",\"Actual\",\"Actual\",\"Actual\",\"Actual\",\"Actual\",\"Actual\",\"Actual\",\"Actual\",\"Actual\",\"Actual\",\"Actual\",\"Actual\",\"Actual\",\"Actual\",\"Actual\",\"Actual\",\"Actual\",\"Actual\",\"Actual\",\"Actual\",\"Actual\",\"Actual\",\"Actual\",\"Actual\",\"Actual\",\"Actual\",\"Actual\",\"Actual\",\"Actual\",\"Actual\",\"Actual\",\"Actual\",\"Actual\",\"Actual\",\"Actual\",\"Actual\",\"Actual\",\"Actual\",\"Actual\",\"Actual\",\"Actual\",\"Actual\",\"Actual\",\"Actual\",\"Actual\",\"Actual\",\"Actual\",\"Actual\",\"Actual\",\"Actual\",\"Actual\",\"Actual\",\"Actual\",\"Actual\",\"Actual\",\"Actual\",\"Actual\",\"Actual\",\"Actual\",\"Actual\",\"Actual\",\"Actual\",\"Actual\",\"Actual\",\"Actual\",\"Actual\",\"Actual\",\"Actual\",\"Actual\",\"Actual\",\"Actual\",\"Actual\",\"Actual\",\"Actual\",\"Actual\",\"Actual\",\"Actual\",\"Actual\",\"Actual\",\"Actual\",\"Actual\",\"Actual\",\"Actual\",\"Actual\",\"Actual\",\"Actual\",\"Actual\",\"Actual\",\"Actual\",\"Actual\",\"Actual\",\"Actual\",\"Actual\",\"Actual\",\"Actual\",\"Actual\",\"Actual\",\"Actual\",\"Actual\",\"Actual\",\"Actual\",\"Actual\",\"Actual\",\"Actual\",\"Actual\",\"Actual\",\"Actual\",\"Actual\",\"Actual\",\"Actual\",\"Actual\",\"Actual\",\"Actual\",\"Actual\",\"Actual\",\"Actual\",\"Actual\",\"Actual\",\"Actual\",\"Actual\",\"Actual\",\"Actual\",\"Actual\",\"Actual\",\"Actual\",\"Actual\",\"Actual\",\"Actual\",\"Actual\",\"Actual\",\"Actual\",\"Actual\",\"Actual\",\"Actual\",\"Actual\",\"Actual\",\"Actual\",\"Actual\",\"Actual\",\"Actual\",\"Actual\",\"Actual\",\"Actual\",\"Actual\",\"Actual\",\"Actual\",\"Actual\",\"Actual\",\"Actual\",\"Actual\",\"Actual\",\"Actual\",\"Actual\",\"Actual\",\"Actual\",\"Actual\",\"Actual\",\"Actual\",\"Actual\",\"Actual\",\"Actual\",\"Actual\",\"Actual\",\"Actual\",\"Actual\",\"Actual\",\"Actual\",\"Actual\",\"Actual\",\"Actual\",\"Actual\",\"Actual\",\"Actual\",\"Actual\",\"Actual\",\"Actual\",\"Actual\",\"Actual\",\"Actual\",\"Actual\",\"Actual\",\"Actual\",\"Actual\",\"Actual\",\"Actual\",\"Actual\",\"Actual\",\"Actual\",\"Actual\",\"Actual\",\"Actual\",\"Actual\",\"Actual\",\"Actual\",\"Actual\",\"Actual\",\"Actual\",\"Actual\",\"Actual\",\"Actual\",\"Actual\",\"Actual\",\"Actual\",\"Actual\",\"Actual\",\"Actual\",\"Actual\",\"Actual\",\"Actual\",\"Actual\",\"Actual\",\"Actual\",\"Actual\",\"Actual\",\"Actual\",\"Actual\",\"Actual\",\"Actual\",\"Actual\",\"Actual\",\"Actual\",\"Actual\",\"Actual\",\"Actual\",\"Actual\",\"Actual\",\"Actual\",\"Actual\",\"Actual\",\"Actual\",\"Actual\",\"Actual\",\"Actual\",\"Actual\",\"Actual\",\"Actual\",\"Actual\",\"Actual\",\"Actual\",\"Actual\",\"Actual\",\"Actual\",\"Actual\",\"Actual\",\"Actual\",\"Actual\",\"Actual\",\"Actual\",\"Actual\",\"Actual\",\"Actual\",\"Actual\",\"Actual\",\"Actual\",\"Actual\",\"Actual\",\"Actual\",\"Actual\",\"Actual\",\"Actual\",\"Actual\",\"Actual\",\"Actual\",\"Actual\",\"Actual\",\"Actual\",\"Actual\",\"Actual\",\"Actual\",\"Actual\",\"Actual\",\"Actual\",\"Actual\",\"Actual\",\"Actual\",\"Actual\",\"Actual\",\"Actual\",\"Actual\",\"Actual\",\"Actual\",\"Actual\",\"Actual\",\"Actual\",\"Actual\",\"Actual\",\"Actual\",\"Actual\",\"Actual\",\"Actual\",\"Actual\",\"Actual\",\"Actual\",\"Actual\",\"Actual\",\"Actual\",\"Actual\",\"Actual\",\"Actual\",\"Actual\",\"Actual\",\"Actual\",\"Actual\",\"Actual\",\"Actual\",\"Actual\",\"Actual\",\"Actual\",\"Actual\",\"Actual\",\"Actual\",\"Actual\",\"Actual\",\"Actual\",\"Actual\",\"Actual\",\"Actual\",\"Actual\",\"Actual\",\"Actual\",\"Actual\",\"Actual\",\"Actual\",\"Actual\",\"Actual\",\"Actual\",\"Actual\",\"Actual\",\"Actual\",\"Actual\",\"Actual\",\"Actual\",\"Actual\",\"Actual\",\"Actual\",\"Actual\",\"Actual\",\"Actual\",\"Actual\",\"Actual\",\"Actual\",\"Actual\",\"Actual\",\"Actual\",\"Actual\",\"Actual\",\"Actual\",\"Actual\",\"Actual\",\"Actual\",\"Actual\",\"Actual\",\"Actual\",\"Actual\",\"Actual\",\"Actual\",\"Actual\",\"Actual\",\"Actual\",\"Actual\",\"Actual\",\"Actual\",\"Actual\",\"Actual\",\"Actual\",\"Actual\",\"Actual\",\"Actual\",\"Actual\",\"Actual\",\"Actual\",\"Actual\",\"Actual\",\"Actual\",\"Actual\",\"Actual\",\"Actual\",\"Actual\",\"Actual\",\"Actual\",\"Actual\",\"Actual\",\"Actual\",\"Actual\",\"Actual\",\"Actual\",\"Actual\",\"Actual\",\"Actual\",\"Actual\",\"Actual\",\"Actual\",\"Actual\",\"Actual\",\"Actual\",\"Actual\",\"Actual\",\"Actual\",\"Actual\",\"Actual\",\"Actual\",\"Actual\",\"Actual\",\"Actual\",\"Actual\",\"Actual\",\"Actual\",\"Actual\",\"Actual\",\"Actual\",\"Actual\",\"Actual\",\"Actual\",\"Actual\",\"Actual\",\"Actual\",\"Actual\",\"Actual\",\"Actual\",\"Actual\",\"Actual\",\"Actual\",\"Actual\",\"Actual\",\"Actual\",\"Actual\",\"Actual\",\"Actual\",\"Actual\",\"Actual\",\"Actual\",\"Actual\",\"Actual\",\"Actual\",\"Actual\",\"Actual\",\"Actual\",\"Actual\",\"Actual\",\"Actual\",\"Actual\",\"Actual\",\"Actual\",\"Actual\",\"Actual\",\"Actual\",\"Actual\",\"Actual\",\"Actual\",\"Actual\",\"Actual\",\"Actual\",\"Actual\",\"Actual\",\"Actual\",\"Actual\",\"Actual\",\"Actual\",\"Actual\",\"Actual\",\"Actual\",\"Actual\",\"Actual\",\"Actual\",\"Actual\",\"Actual\",\"Actual\",\"Actual\",\"Actual\",\"Actual\",\"Actual\",\"Actual\",\"Actual\",\"Actual\",\"Actual\",\"Actual\",\"Actual\",\"Actual\",\"Actual\",\"Actual\",\"Actual\",\"Actual\",\"Actual\",\"Actual\",\"Actual\",\"Actual\",\"Actual\",\"Actual\",\"Actual\",\"Actual\",\"Actual\",\"Actual\",\"Actual\",\"Actual\",\"Actual\",\"Actual\",\"Actual\",\"Actual\",\"Actual\",\"Actual\",\"Actual\",\"Actual\",\"Actual\",\"Actual\",\"Actual\",\"Actual\",\"Actual\",\"Actual\",\"Actual\",\"Actual\",\"Actual\",\"Actual\",\"Actual\",\"Actual\",\"Actual\",\"Actual\",\"Actual\",\"Actual\",\"Actual\",\"Actual\",\"Actual\",\"Actual\",\"Actual\",\"Actual\",\"Actual\",\"Actual\",\"Actual\",\"Actual\",\"Actual\",\"Actual\",\"Actual\",\"Actual\",\"Actual\",\"Actual\",\"Actual\",\"Actual\",\"Actual\",\"Actual\",\"Actual\",\"Actual\",\"Actual\",\"Actual\",\"Actual\",\"Actual\",\"Actual\",\"Actual\",\"Actual\",\"Actual\",\"Actual\",\"Actual\",\"Actual\",\"Actual\",\"Actual\",\"Actual\",\"Actual\",\"Actual\",\"Actual\",\"Actual\",\"Actual\",\"Actual\",\"Actual\",\"Actual\",\"Actual\",\"Actual\",\"Actual\",\"Actual\",\"Actual\",\"Actual\",\"Actual\",\"Actual\",\"Actual\",\"Actual\",\"Actual\",\"Actual\",\"Actual\",\"Actual\",\"Actual\",\"Actual\",\"Actual\",\"Actual\",\"Actual\",\"Actual\",\"Actual\",\"Actual\",\"Actual\",\"Actual\",\"Actual\",\"Actual\",\"Actual\",\"Actual\",\"Actual\",\"Actual\",\"Actual\",\"Actual\",\"Actual\",\"Actual\",\"Actual\",\"Actual\",\"Actual\",\"Actual\",\"Actual\",\"Actual\",\"Actual\",\"Actual\",\"Actual\",\"Actual\",\"Actual\",\"Actual\",\"Actual\",\"Actual\",\"Actual\",\"Actual\",\"Actual\",\"Actual\",\"Actual\",\"Actual\",\"Actual\",\"Actual\",\"Actual\",\"Actual\",\"Actual\",\"Actual\",\"Actual\",\"Actual\",\"Actual\",\"Actual\",\"Actual\",\"Actual\",\"Actual\",\"Actual\",\"Actual\",\"Actual\",\"Actual\",\"Actual\",\"Actual\",\"Actual\",\"Actual\",\"Actual\",\"Actual\",\"Actual\",\"Actual\",\"Actual\",\"Actual\",\"Actual\",\"Actual\",\"Actual\",\"Actual\",\"Actual\",\"Actual\",\"Actual\",\"Actual\",\"Actual\",\"Actual\",\"Actual\",\"Actual\",\"Actual\",\"Actual\",\"Actual\",\"Actual\",\"Actual\",\"Actual\",\"Actual\",\"Actual\",\"Actual\",\"Actual\",\"Actual\",\"Actual\",\"Actual\",\"Actual\",\"Actual\",\"Actual\",\"Actual\",\"Actual\",\"Actual\",\"Actual\",\"Actual\",\"Actual\",\"Actual\",\"Actual\",\"Actual\",\"Actual\",\"Actual\",\"Actual\",\"Actual\",\"Actual\",\"Actual\",\"Actual\",\"Actual\",\"Actual\",\"Actual\",\"Actual\",\"Actual\",\"Actual\",\"Actual\",\"Actual\",\"Actual\",\"Actual\",\"Actual\",\"Actual\",\"Actual\",\"Actual\",\"Actual\",\"Actual\",\"Actual\",\"Actual\",\"Actual\",\"Actual\",\"Actual\",\"Actual\",\"Actual\",\"Actual\",\"Actual\"]]]}}},\"view\":{\"type\":\"object\",\"name\":\"CDSView\",\"id\":\"p1286\",\"attributes\":{\"filter\":{\"type\":\"object\",\"name\":\"AllIndices\",\"id\":\"p1287\"}}},\"glyph\":{\"type\":\"object\",\"name\":\"Line\",\"id\":\"p1282\",\"attributes\":{\"tags\":[\"apply_ranges\"],\"x\":{\"type\":\"field\",\"field\":\"Date\"},\"y\":{\"type\":\"field\",\"field\":\"value\"},\"line_color\":\"#30a2da\",\"line_width\":2}},\"selection_glyph\":{\"type\":\"object\",\"name\":\"Line\",\"id\":\"p1290\",\"attributes\":{\"tags\":[\"apply_ranges\"],\"x\":{\"type\":\"field\",\"field\":\"Date\"},\"y\":{\"type\":\"field\",\"field\":\"value\"},\"line_color\":\"#30a2da\",\"line_width\":2}},\"nonselection_glyph\":{\"type\":\"object\",\"name\":\"Line\",\"id\":\"p1283\",\"attributes\":{\"tags\":[\"apply_ranges\"],\"x\":{\"type\":\"field\",\"field\":\"Date\"},\"y\":{\"type\":\"field\",\"field\":\"value\"},\"line_color\":\"#30a2da\",\"line_alpha\":0.1,\"line_width\":2}},\"muted_glyph\":{\"type\":\"object\",\"name\":\"Line\",\"id\":\"p1284\",\"attributes\":{\"tags\":[\"apply_ranges\"],\"x\":{\"type\":\"field\",\"field\":\"Date\"},\"y\":{\"type\":\"field\",\"field\":\"value\"},\"line_color\":\"#30a2da\",\"line_alpha\":0.2,\"line_width\":2}}}},{\"type\":\"object\",\"name\":\"GlyphRenderer\",\"id\":\"p1300\",\"attributes\":{\"name\":\"Forecast\",\"data_source\":{\"type\":\"object\",\"name\":\"ColumnDataSource\",\"id\":\"p1291\",\"attributes\":{\"selected\":{\"type\":\"object\",\"name\":\"Selection\",\"id\":\"p1292\",\"attributes\":{\"indices\":[],\"line_indices\":[]}},\"selection_policy\":{\"type\":\"object\",\"name\":\"UnionRenderers\",\"id\":\"p1293\"},\"data\":{\"type\":\"map\",\"entries\":[[\"Date\",{\"type\":\"ndarray\",\"array\":{\"type\":\"bytes\",\"data\":\"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\"},\"shape\":[869],\"dtype\":\"float64\",\"order\":\"little\"}],[\"value\",{\"type\":\"ndarray\",\"array\":{\"type\":\"bytes\",\"data\":\"AAAAAAAA+H8AAAAAAAD4fwAAAAAAAPh/AAAAAAAA+H8AAAAAAAD4fwAAAAAAAPh/AAAAAAAA+H8AAAAAAAD4fwAAAAAAAPh/AAAAAAAA+H8AAAAAAAD4fwAAAAAAAPh/AAAAAAAA+H8AAAAAAAD4fwAAAAAAAPh/AAAAAAAA+H8AAAAAAAD4fwAAAAAAAPh/AAAAAAAA+H8AAAAAAAD4fwAAAAAAAPh/AAAAAAAA+H8AAAAAAAD4fwAAAAAAAPh/AAAAAAAA+H8AAAAAAAD4fwAAAAAAAPh/AAAAAAAA+H8AAAAAAAD4fwAAAAAAAPh/AAAAAAAA+H8AAAAAAAD4fwAAAAAAAPh/AAAAAAAA+H8AAAAAAAD4fwAAAAAAAPh/AAAAAAAA+H8AAAAAAAD4fwAAAAAAAPh/AAAAAAAA+H8AAAAAAAD4fwAAAAAAAPh/AAAAAAAA+H8AAAAAAAD4fwAAAAAAAPh/AAAAAAAA+H8AAAAAAAD4fwAAAAAAAPh/AAAAAAAA+H8AAAAAAAD4fwAAAAAAAPh/AAAAAAAA+H8AAAAAAAD4fwAAAAAAAPh/AAAAAAAA+H8AAAAAAAD4fwAAAAAAAPh/AAAAAAAA+H8AAAAAAAD4fwAAAAAAAPh/AAAAAAAA+H8AAAAAAAD4fwAAAAAAAPh/AAAAAAAA+H8AAAAAAAD4fwAAAAAAAPh/AAAAAAAA+H8AAAAAAAD4fwAAAAAAAPh/AAAAAAAA+H8AAAAAAAD4fwAAAAAAAPh/AAAAAAAA+H8AAAAAAAD4fwAAAAAAAPh/AAAAAAAA+H8AAAAAAAD4fwAAAAAAAPh/AAAAAAAA+H8AAAAAAAD4fwAAAAAAAPh/AAAAAAAA+H8AAAAAAAD4fwAAAAAAAPh/AAAAAAAA+H8AAAAAAAD4fwAAAAAAAPh/AAAAAAAA+H8AAAAAAAD4fwAAAAAAAPh/AAAAAAAA+H8AAAAAAAD4fwAAAAAAAPh/AAAAAAAA+H8AAAAAAAD4fwAAAAAAAPh/AAAAAAAA+H8AAAAAAAD4fwAAAAAAAPh/AAAAAAAA+H8AAAAAAAD4fwAAAAAAAPh/AAAAAAAA+H8AAAAAAAD4fwAAAAAAAPh/AAAAAAAA+H8AAAAAAAD4fwAAAAAAAPh/AAAAAAAA+H8AAAAAAAD4fwAAAAAAAPh/AAAAAAAA+H8AAAAAAAD4fwAAAAAAAPh/AAAAAAAA+H8AAAAAAAD4fwAAAAAAAPh/AAAAAAAA+H8AAAAAAAD4fwAAAAAAAPh/AAAAAAAA+H8AAAAAAAD4fwAAAAAAAPh/AAAAAAAA+H8AAAAAAAD4fwAAAAAAAPh/AAAAAAAA+H8AAAAAAAD4fwAAAAAAAPh/AAAAAAAA+H8AAAAAAAD4fwAAAAAAAPh/AAAAAAAA+H8AAAAAAAD4fwAAAAAAAPh/AAAAAAAA+H8AAAAAAAD4fwAAAAAAAPh/AAAAAAAA+H8AAAAAAAD4fwAAAAAAAPh/AAAAAAAA+H8AAAAAAAD4fwAAAAAAAPh/AAAAAAAA+H8AAAAAAAD4fwAAAAAAAPh/AAAAAAAA+H8AAAAAAAD4fwAAAAAAAPh/AAAAAAAA+H8AAAAAAAD4fwAAAAAAAPh/AAAAAAAA+H8AAAAAAAD4fwAAAAAAAPh/AAAAAAAA+H8AAAAAAAD4fwAAAAAAAPh/AAAAAAAA+H8AAAAAAAD4fwAAAAAAAPh/AAAAAAAA+H8AAAAAAAD4fwAAAAAAAPh/AAAAAAAA+H8AAAAAAAD4fwAAAAAAAPh/AAAAAAAA+H8AAAAAAAD4fwAAAAAAAPh/AAAAAAAA+H8AAAAAAAD4fwAAAAAAAPh/AAAAAAAA+H8AAAAAAAD4fwAAAAAAAPh/AAAAAAAA+H8AAAAAAAD4fwAAAAAAAPh/AAAAAAAA+H8AAAAAAAD4fwAAAAAAAPh/AAAAAAAA+H8AAAAAAAD4fwAAAAAAAPh/AAAAAAAA+H8AAAAAAAD4fwAAAAAAAPh/AAAAAAAA+H8AAAAAAAD4fwAAAAAAAPh/AAAAAAAA+H8AAAAAAAD4fwAAAAAAAPh/AAAAAAAA+H8AAAAAAAD4fwAAAAAAAPh/AAAAAAAA+H8AAAAAAAD4fwAAAAAAAPh/AAAAAAAA+H8AAAAAAAD4fwAAAAAAAPh/AAAAAAAA+H8AAAAAAAD4fwAAAAAAAPh/AAAAAAAA+H8AAAAAAAD4fwAAAAAAAPh/AAAAAAAA+H8AAAAAAAD4fwAAAAAAAPh/AAAAAAAA+H8AAAAAAAD4fwAAAAAAAPh/AAAAAAAA+H8AAAAAAAD4fwAAAAAAAPh/AAAAAAAA+H8AAAAAAAD4fwAAAAAAAPh/AAAAAAAA+H8AAAAAAAD4fwAAAAAAAPh/AAAAAAAA+H8AAAAAAAD4fwAAAAAAAPh/AAAAAAAA+H8AAAAAAAD4fwAAAAAAAPh/AAAAAAAA+H8AAAAAAAD4fwAAAAAAAPh/AAAAAAAA+H8AAAAAAAD4fwAAAAAAAPh/AAAAAAAA+H8AAAAAAAD4fwAAAAAAAPh/AAAAAAAA+H8AAAAAAAD4fwAAAAAAAPh/AAAAAAAA+H8AAAAAAAD4fwAAAAAAAPh/AAAAAAAA+H8AAAAAAAD4fwAAAAAAAPh/AAAAAAAA+H8AAAAAAAD4fwAAAAAAAPh/AAAAAAAA+H8AAAAAAAD4fwAAAAAAAPh/AAAAAAAA+H8AAAAAAAD4fwAAAAAAAPh/AAAAAAAA+H8AAAAAAAD4fwAAAAAAAPh/AAAAAAAA+H8AAAAAAAD4fwAAAAAAAPh/AAAAAAAA+H8AAAAAAAD4fwAAAAAAAPh/AAAAAAAA+H8AAAAAAAD4fwAAAAAAAPh/AAAAAAAA+H8AAAAAAAD4fwAAAAAAAPh/AAAAAAAA+H8AAAAAAAD4fwAAAAAAAPh/AAAAAAAA+H8AAAAAAAD4fwAAAAAAAPh/AAAAAAAA+H8AAAAAAAD4fwAAAAAAAPh/AAAAAAAA+H8AAAAAAAD4fwAAAAAAAPh/AAAAAAAA+H8AAAAAAAD4fwAAAAAAAPh/AAAAAAAA+H8AAAAAAAD4fwAAAAAAAPh/AAAAAAAA+H8AAAAAAAD4fwAAAAAAAPh/AAAAAAAA+H8AAAAAAAD4fwAAAAAAAPh/AAAAAAAA+H8AAAAAAAD4fwAAAAAAAPh/AAAAAAAA+H8AAAAAAAD4fwAAAAAAAPh/AAAAAAAA+H8AAAAAAAD4fwAAAAAAAPh/AAAAAAAA+H8AAAAAAAD4fwAAAAAAAPh/AAAAAAAA+H8AAAAAAAD4fwAAAAAAAPh/AAAAAAAA+H8AAAAAAAD4fwAAAAAAAPh/AAAAAAAA+H8AAAAAAAD4fwAAAAAAAPh/AAAAAAAA+H8AAAAAAAD4fwAAAAAAAPh/AAAAAAAA+H8AAAAAAAD4fwAAAAAAAPh/AAAAAAAA+H8AAAAAAAD4fwAAAAAAAPh/AAAAAAAA+H8AAAAAAAD4fwAAAAAAAPh/AAAAAAAA+H8AAAAAAAD4fwAAAAAAAPh/AAAAAAAA+H8AAAAAAAD4fwAAAAAAAPh/AAAAAAAA+H8AAAAAAAD4fwAAAAAAAPh/AAAAAAAA+H8AAAAAAAD4fwAAAAAAAPh/AAAAAAAA+H8AAAAAAAD4fwAAAAAAAPh/AAAAAAAA+H8AAAAAAAD4fwAAAAAAAPh/AAAAAAAA+H8AAAAAAAD4fwAAAAAAAPh/AAAAAAAA+H8AAAAAAAD4fwAAAAAAAPh/AAAAAAAA+H8AAAAAAAD4fwAAAAAAAPh/AAAAAAAA+H8AAAAAAAD4fwAAAAAAAPh/AAAAAAAA+H8AAAAAAAD4fwAAAAAAAPh/AAAAAAAA+H8AAAAAAAD4fwAAAAAAAPh/AAAAAAAA+H8AAAAAAAD4fwAAAAAAAPh/AAAAAAAA+H8AAAAAAAD4fwAAAAAAAPh/AAAAAAAA+H8AAAAAAAD4fwAAAAAAAPh/AAAAAAAA+H8AAAAAAAD4fwAAAAAAAPh/AAAAAAAA+H8AAAAAAAD4fwAAAAAAAPh/AAAAAAAA+H8AAAAAAAD4fwAAAAAAAPh/AAAAAAAA+H8AAAAAAAD4fwAAAAAAAPh/AAAAAAAA+H8AAAAAAAD4fwAAAAAAAPh/AAAAAAAA+H8AAAAAAAD4fwAAAAAAAPh/AAAAAAAA+H8AAAAAAAD4fwAAAAAAAPh/AAAAAAAA+H8AAAAAAAD4fwAAAAAAAPh/AAAAAAAA+H8AAAAAAAD4fwAAAAAAAPh/AAAAAAAA+H8AAAAAAAD4fwAAAAAAAPh/AAAAAAAA+H8AAAAAAAD4fwAAAAAAAPh/AAAAAAAA+H8AAAAAAAD4fwAAAAAAAPh/AAAAAAAA+H8AAAAAAAD4fwAAAAAAAPh/AAAAAAAA+H8AAAAAAAD4fwAAAAAAAPh/AAAAAAAA+H8AAAAAAAD4fwAAAAAAAPh/AAAAAAAA+H8AAAAAAAD4fwAAAAAAAPh/AAAAAAAA+H8AAAAAAAD4fwAAAAAAAPh/AAAAAAAA+H8AAAAAAAD4fwAAAAAAAPh/AAAAAAAA+H8AAAAAAAD4fwAAAAAAAPh/AAAAAAAA+H8AAAAAAAD4fwAAAAAAAPh/AAAAAAAA+H8AAAAAAAD4fwAAAAAAAPh/AAAAAAAA+H8AAAAAAAD4fwAAAAAAAPh/AAAAAAAA+H8AAAAAAAD4fwAAAAAAAPh/AAAAAAAA+H8AAAAAAAD4fwAAAAAAAPh/AAAAAAAA+H8AAAAAAAD4fwAAAAAAAPh/AAAAAAAA+H8AAAAAAAD4fwAAAAAAAPh/AAAAAAAA+H8AAAAAAAD4fwAAAAAAAPh/AAAAAAAA+H8AAAAAAAD4fwAAAAAAAPh/AAAAAAAA+H8AAAAAAAD4fwAAAAAAAPh/AAAAAAAA+H8AAAAAAAD4fwAAAAAAAPh/AAAAAAAA+H8AAAAAAAD4fwAAAAAAAPh/AAAAAAAA+H8AAAAAAAD4fwAAAAAAAPh/AAAAAAAA+H8AAAAAAAD4fwAAAAAAAPh/AAAAAAAA+H8AAAAAAAD4fwAAAAAAAPh/AAAAAAAA+H8AAAAAAAD4fwAAAAAAAPh/AAAAAAAA+H8AAAAAAAD4fwAAAAAAAPh/AAAAAAAA+H8AAAAAAAD4fwAAAAAAAPh/AAAAAAAA+H8AAAAAAAD4fwAAAAAAAPh/AAAAAAAA+H8AAAAAAAD4fwAAAAAAAPh/AAAAAAAA+H8AAAAAAAD4fwAAAAAAAPh/AAAAAAAA+H8AAAAAAAD4fwAAAAAAAPh/AAAAAAAA+H8AAAAAAAD4fwAAAAAAAPh/AAAAAAAA+H8AAAAAAAD4fwAAAAAAAPh/wpAmVr+PIEC1YPRrmjUsQGSiJyvCoSxAfxEJIqbeLUDE09n5bg8vQJhEFsU8Ry5AInGGMxfMLUDAXD1kO8YtQLNx2pHPsS1AtFwJ1MqxLUDlg6QOVcAtQAhROlGmxC1ARjwk9QPFLUA7qnGNhsUtQOJymcjBxC1AymxpLQLELUDy9sZW5cMtQGKrZQzmwy1Av9Lws+zDLUBiOrlJ/cMtQIYt/tgExC1AqmtUxgTELUCA0h8HBMQtQJBynfkCxC1AOKTLDwLELUDEQIbfAcQtQEThVvcBxC1ATzSiDQLELUBG8FIhAsQtQI1OgCoCxC1AMdnBKQLELUCUo1EnAsQtQFnPoCUCxC1ApHKgJALELUAB4nIkAsQtQCTjpyQCxC1ANx3VJALELUDOqu0kAsQtQGYz9iQCxC1AkKfzJALELUAYFu8kAsQtQLp57CQCxC1AunfrJALELUCSc+skAsQtQLDT6yQCxC1AKB3sJALELUBCO+wkAsQtQCVA7CQCxC1AvznsJALELUB9MuwkAsQtQNou7CQCxC1AAC7sJALELUBcLuwkAsQtQPwu7CQCxC1AZC/sJALELUCGL+wkAsQtQIQv7CQCxC1Adi/sJALELUBsL+wkAsQtQGgv7CQCxC1AZy/sJALELUBoL+wkAsQtQGkv7CQCxC1AaS/sJALELUBpL+wkAsQtQGkv7CQCxC1AaS/sJALELUBpL+wkAsQtQGkv7CQCxC1AaS/sJALELUBpL+wkAsQtQGkv7CQCxC1AaS/sJALELUBpL+wkAsQtQGkv7CQCxC1AaS/sJALELUBpL+wkAsQtQGkv7CQCxC1AaS/sJALELUBpL+wkAsQtQGkv7CQCxC1AaS/sJALELUBpL+wkAsQtQGkv7CQCxC1AaS/sJALELUBpL+wkAsQtQGkv7CQCxC1AaS/sJALELUBpL+wkAsQtQGkv7CQCxC1AaS/sJALELUBpL+wkAsQtQGkv7CQCxC1AaS/sJALELUBpL+wkAsQtQGkv7CQCxC1AaS/sJALELUBpL+wkAsQtQGkv7CQCxC1AaS/sJALELUBpL+wkAsQtQGkv7CQCxC1AaS/sJALELUBpL+wkAsQtQGkv7CQCxC1AaS/sJALELUBpL+wkAsQtQGkv7CQCxC1AaS/sJALELUBpL+wkAsQtQGkv7CQCxC1AaS/sJALELUBpL+wkAsQtQGkv7CQCxC1AaS/sJALELUBpL+wkAsQtQGkv7CQCxC1AaS/sJALELUBpL+wkAsQtQGkv7CQCxC1AaS/sJALELUBpL+wkAsQtQGkv7CQCxC1AaS/sJALELUBpL+wkAsQtQGkv7CQCxC1AaS/sJALELUBpL+wkAsQtQGkv7CQCxC1AaS/sJALELUBpL+wkAsQtQGkv7CQCxC1AaS/sJALELUBpL+wkAsQtQGkv7CQCxC1AaS/sJALELUBpL+wkAsQtQGkv7CQCxC1AaS/sJALELUBpL+wkAsQtQGkv7CQCxC1AaS/sJALELUBpL+wkAsQtQGkv7CQCxC1AaS/sJALELUBpL+wkAsQtQGkv7CQCxC1AaS/sJALELUBpL+wkAsQtQGkv7CQCxC1AaS/sJALELUBpL+wkAsQtQGkv7CQCxC1AaS/sJALELUBpL+wkAsQtQGkv7CQCxC1AaS/sJALELUBpL+wkAsQtQGkv7CQCxC1AaS/sJALELUBpL+wkAsQtQGkv7CQCxC1AaS/sJALELUBpL+wkAsQtQGkv7CQCxC1AaS/sJALELUBpL+wkAsQtQGkv7CQCxC1AaS/sJALELUBpL+wkAsQtQGkv7CQCxC1AaS/sJALELUBpL+wkAsQtQGkv7CQCxC1AaS/sJALELUBpL+wkAsQtQGkv7CQCxC1AaS/sJALELUBpL+wkAsQtQGkv7CQCxC1AaS/sJALELUBpL+wkAsQtQGkv7CQCxC1AaS/sJALELUBpL+wkAsQtQGkv7CQCxC1AaS/sJALELUBpL+wkAsQtQGkv7CQCxC1AaS/sJALELUBpL+wkAsQtQGkv7CQCxC1AaS/sJALELUBpL+wkAsQtQGkv7CQCxC1AaS/sJALELUBpL+wkAsQtQGkv7CQCxC1AaS/sJALELUBpL+wkAsQtQGkv7CQCxC1AaS/sJALELUBpL+wkAsQtQGkv7CQCxC1AaS/sJALELUBpL+wkAsQtQGkv7CQCxC1AaS/sJALELUBpL+wkAsQtQGkv7CQCxC1AaS/sJALELUBpL+wkAsQtQGkv7CQCxC1AaS/sJALELUBpL+wkAsQtQGkv7CQCxC1AaS/sJALELUBpL+wkAsQtQGkv7CQCxC1AaS/sJALELUBpL+wkAsQtQGkv7CQCxC1AaS/sJALELUBpL+wkAsQtQGkv7CQCxC1AaS/sJALELUBpL+wkAsQtQGkv7CQCxC1AaS/sJALELUBpL+wkAsQtQGkv7CQCxC1AaS/sJALELUBpL+wkAsQtQGkv7CQCxC1AaS/sJALELUBpL+wkAsQtQGkv7CQCxC1AaS/sJALELUBpL+wkAsQtQGkv7CQCxC1AaS/sJALELUBpL+wkAsQtQGkv7CQCxC1AaS/sJALELUBpL+wkAsQtQGkv7CQCxC1AaS/sJALELUBpL+wkAsQtQGkv7CQCxC1AaS/sJALELUBpL+wkAsQtQGkv7CQCxC1AaS/sJALELUBpL+wkAsQtQGkv7CQCxC1AaS/sJALELUBpL+wkAsQtQGkv7CQCxC1AaS/sJALELUBpL+wkAsQtQGkv7CQCxC1AaS/sJALELUBpL+wkAsQtQGkv7CQCxC1AaS/sJALELUBpL+wkAsQtQGkv7CQCxC1AaS/sJALELUBpL+wkAsQtQGkv7CQCxC1AaS/sJALELUBpL+wkAsQtQGkv7CQCxC1AaS/sJALELUBpL+wkAsQtQGkv7CQCxC1AaS/sJALELUBpL+wkAsQtQGkv7CQCxC1AaS/sJALELUBpL+wkAsQtQGkv7CQCxC1AaS/sJALELUBpL+wkAsQtQGkv7CQCxC1AaS/sJALELUBpL+wkAsQtQGkv7CQCxC1AaS/sJALELUBpL+wkAsQtQGkv7CQCxC1AaS/sJALELUBpL+wkAsQtQGkv7CQCxC1AaS/sJALELUBpL+wkAsQtQGkv7CQCxC1AaS/sJALELUBpL+wkAsQtQGkv7CQCxC1AaS/sJALELUBpL+wkAsQtQGkv7CQCxC1AaS/sJALELUBpL+wkAsQtQGkv7CQCxC1AaS/sJALELUBpL+wkAsQtQGkv7CQCxC1AaS/sJALELUBpL+wkAsQtQGkv7CQCxC1AaS/sJALELUBpL+wkAsQtQGkv7CQCxC1AaS/sJALELUBpL+wkAsQtQGkv7CQCxC1AaS/sJALELUBpL+wkAsQtQGkv7CQCxC1AaS/sJALELUBpL+wkAsQtQGkv7CQCxC1AaS/sJALELUBpL+wkAsQtQGkv7CQCxC1AaS/sJALELUBpL+wkAsQtQGkv7CQCxC1AaS/sJALELUBpL+wkAsQtQGkv7CQCxC1AaS/sJALELUBpL+wkAsQtQGkv7CQCxC1AaS/sJALELUBpL+wkAsQtQGkv7CQCxC1AaS/sJALELUBpL+wkAsQtQGkv7CQCxC1AaS/sJALELUBpL+wkAsQtQGkv7CQCxC1AaS/sJALELUBpL+wkAsQtQGkv7CQCxC1AaS/sJALELUBpL+wkAsQtQGkv7CQCxC1AaS/sJALELUBpL+wkAsQtQGkv7CQCxC1AaS/sJALELUBpL+wkAsQtQGkv7CQCxC1AaS/sJALELUBpL+wkAsQtQGkv7CQCxC1AaS/sJALELUBpL+wkAsQtQGkv7CQCxC1AaS/sJALELUBpL+wkAsQtQA==\"},\"shape\":[869],\"dtype\":\"float64\",\"order\":\"little\"}],[\"Variable\",[\"Forecast\",\"Forecast\",\"Forecast\",\"Forecast\",\"Forecast\",\"Forecast\",\"Forecast\",\"Forecast\",\"Forecast\",\"Forecast\",\"Forecast\",\"Forecast\",\"Forecast\",\"Forecast\",\"Forecast\",\"Forecast\",\"Forecast\",\"Forecast\",\"Forecast\",\"Forecast\",\"Forecast\",\"Forecast\",\"Forecast\",\"Forecast\",\"Forecast\",\"Forecast\",\"Forecast\",\"Forecast\",\"Forecast\",\"Forecast\",\"Forecast\",\"Forecast\",\"Forecast\",\"Forecast\",\"Forecast\",\"Forecast\",\"Forecast\",\"Forecast\",\"Forecast\",\"Forecast\",\"Forecast\",\"Forecast\",\"Forecast\",\"Forecast\",\"Forecast\",\"Forecast\",\"Forecast\",\"Forecast\",\"Forecast\",\"Forecast\",\"Forecast\",\"Forecast\",\"Forecast\",\"Forecast\",\"Forecast\",\"Forecast\",\"Forecast\",\"Forecast\",\"Forecast\",\"Forecast\",\"Forecast\",\"Forecast\",\"Forecast\",\"Forecast\",\"Forecast\",\"Forecast\",\"Forecast\",\"Forecast\",\"Forecast\",\"Forecast\",\"Forecast\",\"Forecast\",\"Forecast\",\"Forecast\",\"Forecast\",\"Forecast\",\"Forecast\",\"Forecast\",\"Forecast\",\"Forecast\",\"Forecast\",\"Forecast\",\"Forecast\",\"Forecast\",\"Forecast\",\"Forecast\",\"Forecast\",\"Forecast\",\"Forecast\",\"Forecast\",\"Forecast\",\"Forecast\",\"Forecast\",\"Forecast\",\"Forecast\",\"Forecast\",\"Forecast\",\"Forecast\",\"Forecast\",\"Forecast\",\"Forecast\",\"Forecast\",\"Forecast\",\"Forecast\",\"Forecast\",\"Forecast\",\"Forecast\",\"Forecast\",\"Forecast\",\"Forecast\",\"Forecast\",\"Forecast\",\"Forecast\",\"Forecast\",\"Forecast\",\"Forecast\",\"Forecast\",\"Forecast\",\"Forecast\",\"Forecast\",\"Forecast\",\"Forecast\",\"Forecast\",\"Forecast\",\"Forecast\",\"Forecast\",\"Forecast\",\"Forecast\",\"Forecast\",\"Forecast\",\"Forecast\",\"Forecast\",\"Forecast\",\"Forecast\",\"Forecast\",\"Forecast\",\"Forecast\",\"Forecast\",\"Forecast\",\"Forecast\",\"Forecast\",\"Forecast\",\"Forecast\",\"Forecast\",\"Forecast\",\"Forecast\",\"Forecast\",\"Forecast\",\"Forecast\",\"Forecast\",\"Forecast\",\"Forecast\",\"Forecast\",\"Forecast\",\"Forecast\",\"Forecast\",\"Forecast\",\"Forecast\",\"Forecast\",\"Forecast\",\"Forecast\",\"Forecast\",\"Forecast\",\"Forecast\",\"Forecast\",\"Forecast\",\"Forecast\",\"Forecast\",\"Forecast\",\"Forecast\",\"Forecast\",\"Forecast\",\"Forecast\",\"Forecast\",\"Forecast\",\"Forecast\",\"Forecast\",\"Forecast\",\"Forecast\",\"Forecast\",\"Forecast\",\"Forecast\",\"Forecast\",\"Forecast\",\"Forecast\",\"Forecast\",\"Forecast\",\"Forecast\",\"Forecast\",\"Forecast\",\"Forecast\",\"Forecast\",\"Forecast\",\"Forecast\",\"Forecast\",\"Forecast\",\"Forecast\",\"Forecast\",\"Forecast\",\"Forecast\",\"Forecast\",\"Forecast\",\"Forecast\",\"Forecast\",\"Forecast\",\"Forecast\",\"Forecast\",\"Forecast\",\"Forecast\",\"Forecast\",\"Forecast\",\"Forecast\",\"Forecast\",\"Forecast\",\"Forecast\",\"Forecast\",\"Forecast\",\"Forecast\",\"Forecast\",\"Forecast\",\"Forecast\",\"Forecast\",\"Forecast\",\"Forecast\",\"Forecast\",\"Forecast\",\"Forecast\",\"Forecast\",\"Forecast\",\"Forecast\",\"Forecast\",\"Forecast\",\"Forecast\",\"Forecast\",\"Forecast\",\"Forecast\",\"Forecast\",\"Forecast\",\"Forecast\",\"Forecast\",\"Forecast\",\"Forecast\",\"Forecast\",\"Forecast\",\"Forecast\",\"Forecast\",\"Forecast\",\"Forecast\",\"Forecast\",\"Forecast\",\"Forecast\",\"Forecast\",\"Forecast\",\"Forecast\",\"Forecast\",\"Forecast\",\"Forecast\",\"Forecast\",\"Forecast\",\"Forecast\",\"Forecast\",\"Forecast\",\"Forecast\",\"Forecast\",\"Forecast\",\"Forecast\",\"Forecast\",\"Forecast\",\"Forecast\",\"Forecast\",\"Forecast\",\"Forecast\",\"Forecast\",\"Forecast\",\"Forecast\",\"Forecast\",\"Forecast\",\"Forecast\",\"Forecast\",\"Forecast\",\"Forecast\",\"Forecast\",\"Forecast\",\"Forecast\",\"Forecast\",\"Forecast\",\"Forecast\",\"Forecast\",\"Forecast\",\"Forecast\",\"Forecast\",\"Forecast\",\"Forecast\",\"Forecast\",\"Forecast\",\"Forecast\",\"Forecast\",\"Forecast\",\"Forecast\",\"Forecast\",\"Forecast\",\"Forecast\",\"Forecast\",\"Forecast\",\"Forecast\",\"Forecast\",\"Forecast\",\"Forecast\",\"Forecast\",\"Forecast\",\"Forecast\",\"Forecast\",\"Forecast\",\"Forecast\",\"Forecast\",\"Forecast\",\"Forecast\",\"Forecast\",\"Forecast\",\"Forecast\",\"Forecast\",\"Forecast\",\"Forecast\",\"Forecast\",\"Forecast\",\"Forecast\",\"Forecast\",\"Forecast\",\"Forecast\",\"Forecast\",\"Forecast\",\"Forecast\",\"Forecast\",\"Forecast\",\"Forecast\",\"Forecast\",\"Forecast\",\"Forecast\",\"Forecast\",\"Forecast\",\"Forecast\",\"Forecast\",\"Forecast\",\"Forecast\",\"Forecast\",\"Forecast\",\"Forecast\",\"Forecast\",\"Forecast\",\"Forecast\",\"Forecast\",\"Forecast\",\"Forecast\",\"Forecast\",\"Forecast\",\"Forecast\",\"Forecast\",\"Forecast\",\"Forecast\",\"Forecast\",\"Forecast\",\"Forecast\",\"Forecast\",\"Forecast\",\"Forecast\",\"Forecast\",\"Forecast\",\"Forecast\",\"Forecast\",\"Forecast\",\"Forecast\",\"Forecast\",\"Forecast\",\"Forecast\",\"Forecast\",\"Forecast\",\"Forecast\",\"Forecast\",\"Forecast\",\"Forecast\",\"Forecast\",\"Forecast\",\"Forecast\",\"Forecast\",\"Forecast\",\"Forecast\",\"Forecast\",\"Forecast\",\"Forecast\",\"Forecast\",\"Forecast\",\"Forecast\",\"Forecast\",\"Forecast\",\"Forecast\",\"Forecast\",\"Forecast\",\"Forecast\",\"Forecast\",\"Forecast\",\"Forecast\",\"Forecast\",\"Forecast\",\"Forecast\",\"Forecast\",\"Forecast\",\"Forecast\",\"Forecast\",\"Forecast\",\"Forecast\",\"Forecast\",\"Forecast\",\"Forecast\",\"Forecast\",\"Forecast\",\"Forecast\",\"Forecast\",\"Forecast\",\"Forecast\",\"Forecast\",\"Forecast\",\"Forecast\",\"Forecast\",\"Forecast\",\"Forecast\",\"Forecast\",\"Forecast\",\"Forecast\",\"Forecast\",\"Forecast\",\"Forecast\",\"Forecast\",\"Forecast\",\"Forecast\",\"Forecast\",\"Forecast\",\"Forecast\",\"Forecast\",\"Forecast\",\"Forecast\",\"Forecast\",\"Forecast\",\"Forecast\",\"Forecast\",\"Forecast\",\"Forecast\",\"Forecast\",\"Forecast\",\"Forecast\",\"Forecast\",\"Forecast\",\"Forecast\",\"Forecast\",\"Forecast\",\"Forecast\",\"Forecast\",\"Forecast\",\"Forecast\",\"Forecast\",\"Forecast\",\"Forecast\",\"Forecast\",\"Forecast\",\"Forecast\",\"Forecast\",\"Forecast\",\"Forecast\",\"Forecast\",\"Forecast\",\"Forecast\",\"Forecast\",\"Forecast\",\"Forecast\",\"Forecast\",\"Forecast\",\"Forecast\",\"Forecast\",\"Forecast\",\"Forecast\",\"Forecast\",\"Forecast\",\"Forecast\",\"Forecast\",\"Forecast\",\"Forecast\",\"Forecast\",\"Forecast\",\"Forecast\",\"Forecast\",\"Forecast\",\"Forecast\",\"Forecast\",\"Forecast\",\"Forecast\",\"Forecast\",\"Forecast\",\"Forecast\",\"Forecast\",\"Forecast\",\"Forecast\",\"Forecast\",\"Forecast\",\"Forecast\",\"Forecast\",\"Forecast\",\"Forecast\",\"Forecast\",\"Forecast\",\"Forecast\",\"Forecast\",\"Forecast\",\"Forecast\",\"Forecast\",\"Forecast\",\"Forecast\",\"Forecast\",\"Forecast\",\"Forecast\",\"Forecast\",\"Forecast\",\"Forecast\",\"Forecast\",\"Forecast\",\"Forecast\",\"Forecast\",\"Forecast\",\"Forecast\",\"Forecast\",\"Forecast\",\"Forecast\",\"Forecast\",\"Forecast\",\"Forecast\",\"Forecast\",\"Forecast\",\"Forecast\",\"Forecast\",\"Forecast\",\"Forecast\",\"Forecast\",\"Forecast\",\"Forecast\",\"Forecast\",\"Forecast\",\"Forecast\",\"Forecast\",\"Forecast\",\"Forecast\",\"Forecast\",\"Forecast\",\"Forecast\",\"Forecast\",\"Forecast\",\"Forecast\",\"Forecast\",\"Forecast\",\"Forecast\",\"Forecast\",\"Forecast\",\"Forecast\",\"Forecast\",\"Forecast\",\"Forecast\",\"Forecast\",\"Forecast\",\"Forecast\",\"Forecast\",\"Forecast\",\"Forecast\",\"Forecast\",\"Forecast\",\"Forecast\",\"Forecast\",\"Forecast\",\"Forecast\",\"Forecast\",\"Forecast\",\"Forecast\",\"Forecast\",\"Forecast\",\"Forecast\",\"Forecast\",\"Forecast\",\"Forecast\",\"Forecast\",\"Forecast\",\"Forecast\",\"Forecast\",\"Forecast\",\"Forecast\",\"Forecast\",\"Forecast\",\"Forecast\",\"Forecast\",\"Forecast\",\"Forecast\",\"Forecast\",\"Forecast\",\"Forecast\",\"Forecast\",\"Forecast\",\"Forecast\",\"Forecast\",\"Forecast\",\"Forecast\",\"Forecast\",\"Forecast\",\"Forecast\",\"Forecast\",\"Forecast\",\"Forecast\",\"Forecast\",\"Forecast\",\"Forecast\",\"Forecast\",\"Forecast\",\"Forecast\",\"Forecast\",\"Forecast\",\"Forecast\",\"Forecast\",\"Forecast\",\"Forecast\",\"Forecast\",\"Forecast\",\"Forecast\",\"Forecast\",\"Forecast\",\"Forecast\",\"Forecast\",\"Forecast\",\"Forecast\",\"Forecast\",\"Forecast\",\"Forecast\",\"Forecast\",\"Forecast\",\"Forecast\",\"Forecast\",\"Forecast\",\"Forecast\",\"Forecast\",\"Forecast\",\"Forecast\",\"Forecast\",\"Forecast\",\"Forecast\",\"Forecast\",\"Forecast\",\"Forecast\",\"Forecast\",\"Forecast\",\"Forecast\",\"Forecast\",\"Forecast\",\"Forecast\",\"Forecast\",\"Forecast\",\"Forecast\",\"Forecast\",\"Forecast\",\"Forecast\",\"Forecast\",\"Forecast\",\"Forecast\",\"Forecast\",\"Forecast\",\"Forecast\",\"Forecast\",\"Forecast\",\"Forecast\",\"Forecast\",\"Forecast\",\"Forecast\",\"Forecast\",\"Forecast\",\"Forecast\",\"Forecast\",\"Forecast\",\"Forecast\",\"Forecast\",\"Forecast\",\"Forecast\",\"Forecast\",\"Forecast\",\"Forecast\",\"Forecast\",\"Forecast\",\"Forecast\",\"Forecast\",\"Forecast\",\"Forecast\",\"Forecast\",\"Forecast\",\"Forecast\",\"Forecast\",\"Forecast\",\"Forecast\",\"Forecast\",\"Forecast\",\"Forecast\",\"Forecast\",\"Forecast\",\"Forecast\",\"Forecast\",\"Forecast\",\"Forecast\",\"Forecast\",\"Forecast\",\"Forecast\",\"Forecast\",\"Forecast\",\"Forecast\",\"Forecast\",\"Forecast\",\"Forecast\",\"Forecast\",\"Forecast\",\"Forecast\",\"Forecast\",\"Forecast\",\"Forecast\",\"Forecast\",\"Forecast\",\"Forecast\",\"Forecast\",\"Forecast\",\"Forecast\",\"Forecast\",\"Forecast\",\"Forecast\",\"Forecast\",\"Forecast\",\"Forecast\",\"Forecast\",\"Forecast\",\"Forecast\",\"Forecast\",\"Forecast\",\"Forecast\",\"Forecast\",\"Forecast\",\"Forecast\",\"Forecast\",\"Forecast\",\"Forecast\",\"Forecast\",\"Forecast\",\"Forecast\",\"Forecast\",\"Forecast\",\"Forecast\",\"Forecast\",\"Forecast\",\"Forecast\",\"Forecast\",\"Forecast\",\"Forecast\",\"Forecast\",\"Forecast\",\"Forecast\",\"Forecast\",\"Forecast\",\"Forecast\",\"Forecast\",\"Forecast\",\"Forecast\",\"Forecast\",\"Forecast\",\"Forecast\",\"Forecast\",\"Forecast\",\"Forecast\",\"Forecast\",\"Forecast\",\"Forecast\",\"Forecast\",\"Forecast\",\"Forecast\",\"Forecast\",\"Forecast\",\"Forecast\",\"Forecast\",\"Forecast\",\"Forecast\",\"Forecast\",\"Forecast\",\"Forecast\",\"Forecast\",\"Forecast\",\"Forecast\",\"Forecast\",\"Forecast\",\"Forecast\",\"Forecast\",\"Forecast\",\"Forecast\",\"Forecast\",\"Forecast\",\"Forecast\",\"Forecast\",\"Forecast\",\"Forecast\",\"Forecast\",\"Forecast\",\"Forecast\",\"Forecast\",\"Forecast\",\"Forecast\",\"Forecast\",\"Forecast\",\"Forecast\",\"Forecast\",\"Forecast\",\"Forecast\",\"Forecast\",\"Forecast\",\"Forecast\",\"Forecast\",\"Forecast\",\"Forecast\",\"Forecast\",\"Forecast\",\"Forecast\",\"Forecast\",\"Forecast\",\"Forecast\",\"Forecast\",\"Forecast\",\"Forecast\",\"Forecast\",\"Forecast\",\"Forecast\",\"Forecast\",\"Forecast\",\"Forecast\",\"Forecast\",\"Forecast\",\"Forecast\",\"Forecast\",\"Forecast\",\"Forecast\",\"Forecast\",\"Forecast\",\"Forecast\",\"Forecast\",\"Forecast\",\"Forecast\",\"Forecast\",\"Forecast\",\"Forecast\",\"Forecast\",\"Forecast\",\"Forecast\",\"Forecast\",\"Forecast\",\"Forecast\",\"Forecast\",\"Forecast\",\"Forecast\",\"Forecast\",\"Forecast\",\"Forecast\",\"Forecast\",\"Forecast\",\"Forecast\",\"Forecast\",\"Forecast\",\"Forecast\"]]]}}},\"view\":{\"type\":\"object\",\"name\":\"CDSView\",\"id\":\"p1301\",\"attributes\":{\"filter\":{\"type\":\"object\",\"name\":\"AllIndices\",\"id\":\"p1302\"}}},\"glyph\":{\"type\":\"object\",\"name\":\"Line\",\"id\":\"p1297\",\"attributes\":{\"tags\":[\"apply_ranges\"],\"x\":{\"type\":\"field\",\"field\":\"Date\"},\"y\":{\"type\":\"field\",\"field\":\"value\"},\"line_color\":\"#fc4f30\",\"line_width\":2}},\"selection_glyph\":{\"type\":\"object\",\"name\":\"Line\",\"id\":\"p1304\",\"attributes\":{\"tags\":[\"apply_ranges\"],\"x\":{\"type\":\"field\",\"field\":\"Date\"},\"y\":{\"type\":\"field\",\"field\":\"value\"},\"line_color\":\"#fc4f30\",\"line_width\":2}},\"nonselection_glyph\":{\"type\":\"object\",\"name\":\"Line\",\"id\":\"p1298\",\"attributes\":{\"tags\":[\"apply_ranges\"],\"x\":{\"type\":\"field\",\"field\":\"Date\"},\"y\":{\"type\":\"field\",\"field\":\"value\"},\"line_color\":\"#fc4f30\",\"line_alpha\":0.1,\"line_width\":2}},\"muted_glyph\":{\"type\":\"object\",\"name\":\"Line\",\"id\":\"p1299\",\"attributes\":{\"tags\":[\"apply_ranges\"],\"x\":{\"type\":\"field\",\"field\":\"Date\"},\"y\":{\"type\":\"field\",\"field\":\"value\"},\"line_color\":\"#fc4f30\",\"line_alpha\":0.2,\"line_width\":2}}}},{\"type\":\"object\",\"name\":\"GlyphRenderer\",\"id\":\"p1314\",\"attributes\":{\"data_source\":{\"type\":\"object\",\"name\":\"ColumnDataSource\",\"id\":\"p1305\",\"attributes\":{\"selected\":{\"type\":\"object\",\"name\":\"Selection\",\"id\":\"p1306\",\"attributes\":{\"indices\":[],\"line_indices\":[]}},\"selection_policy\":{\"type\":\"object\",\"name\":\"UnionRenderers\",\"id\":\"p1307\"},\"data\":{\"type\":\"map\",\"entries\":[[\"x\",{\"type\":\"ndarray\",\"array\":{\"type\":\"bytes\",\"data\":\"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\"},\"shape\":[730],\"dtype\":\"float64\",\"order\":\"little\"}],[\"y\",{\"type\":\"ndarray\",\"array\":{\"type\":\"bytes\",\"data\":\"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\"},\"shape\":[730],\"dtype\":\"float64\",\"order\":\"little\"}]]}}},\"view\":{\"type\":\"object\",\"name\":\"CDSView\",\"id\":\"p1315\",\"attributes\":{\"filter\":{\"type\":\"object\",\"name\":\"AllIndices\",\"id\":\"p1316\"}}},\"glyph\":{\"type\":\"object\",\"name\":\"Patch\",\"id\":\"p1311\",\"attributes\":{\"tags\":[\"apply_ranges\"],\"x\":{\"type\":\"field\",\"field\":\"x\"},\"y\":{\"type\":\"field\",\"field\":\"y\"},\"line_alpha\":0.3,\"fill_alpha\":0.3,\"hatch_color\":\"gray\",\"hatch_alpha\":0.3}},\"selection_glyph\":{\"type\":\"object\",\"name\":\"Patch\",\"id\":\"p1317\",\"attributes\":{\"tags\":[\"apply_ranges\"],\"x\":{\"type\":\"field\",\"field\":\"x\"},\"y\":{\"type\":\"field\",\"field\":\"y\"},\"line_alpha\":0.3,\"fill_alpha\":0.3,\"hatch_color\":\"gray\",\"hatch_alpha\":0.3}},\"nonselection_glyph\":{\"type\":\"object\",\"name\":\"Patch\",\"id\":\"p1312\",\"attributes\":{\"tags\":[\"apply_ranges\"],\"x\":{\"type\":\"field\",\"field\":\"x\"},\"y\":{\"type\":\"field\",\"field\":\"y\"},\"line_alpha\":0.3,\"fill_alpha\":0.3,\"hatch_color\":\"gray\",\"hatch_alpha\":0.1}},\"muted_glyph\":{\"type\":\"object\",\"name\":\"Patch\",\"id\":\"p1313\",\"attributes\":{\"tags\":[\"apply_ranges\"],\"x\":{\"type\":\"field\",\"field\":\"x\"},\"y\":{\"type\":\"field\",\"field\":\"y\"},\"line_alpha\":0.2,\"fill_alpha\":0.2,\"hatch_color\":\"gray\",\"hatch_alpha\":0.2}}}}],\"toolbar\":{\"type\":\"object\",\"name\":\"Toolbar\",\"id\":\"p1242\",\"attributes\":{\"tools\":[{\"type\":\"object\",\"name\":\"WheelZoomTool\",\"id\":\"p1225\",\"attributes\":{\"tags\":[\"hv_created\"],\"renderers\":\"auto\",\"zoom_together\":\"none\"}},{\"type\":\"object\",\"name\":\"HoverTool\",\"id\":\"p1226\",\"attributes\":{\"tags\":[\"hv_created\"],\"renderers\":[{\"id\":\"p1285\"},{\"id\":\"p1300\"}],\"tooltips\":[[\"Variable\",\"@{Variable}\"],[\"Date\",\"@{Date}{%F %T}\"],[\"value\",\"@{value}\"]],\"formatters\":{\"type\":\"map\",\"entries\":[[\"@{Date}\",\"datetime\"]]}}},{\"type\":\"object\",\"name\":\"HoverTool\",\"id\":\"p1232\",\"attributes\":{\"tags\":[\"hv_created\"],\"renderers\":[{\"id\":\"p1314\"}],\"tooltips\":[[\"Date\",\"@{Date}\"],[\"Lower Conf Int\",\"@{Lower_Conf_Int}\"],[\"Upper Conf Int\",\"@{Upper_Conf_Int}\"]],\"formatters\":{\"type\":\"map\",\"entries\":[[\"@{x}\",\"datetime\"]]}}},{\"type\":\"object\",\"name\":\"SaveTool\",\"id\":\"p1267\"},{\"type\":\"object\",\"name\":\"PanTool\",\"id\":\"p1268\"},{\"type\":\"object\",\"name\":\"BoxZoomTool\",\"id\":\"p1269\",\"attributes\":{\"overlay\":{\"type\":\"object\",\"name\":\"BoxAnnotation\",\"id\":\"p1270\",\"attributes\":{\"syncable\":false,\"level\":\"overlay\",\"visible\":false,\"left\":{\"type\":\"number\",\"value\":\"nan\"},\"right\":{\"type\":\"number\",\"value\":\"nan\"},\"top\":{\"type\":\"number\",\"value\":\"nan\"},\"bottom\":{\"type\":\"number\",\"value\":\"nan\"},\"left_units\":\"canvas\",\"right_units\":\"canvas\",\"top_units\":\"canvas\",\"bottom_units\":\"canvas\",\"line_color\":\"black\",\"line_alpha\":1.0,\"line_width\":2,\"line_dash\":[4,4],\"fill_color\":\"lightgrey\",\"fill_alpha\":0.5}}}},{\"type\":\"object\",\"name\":\"ResetTool\",\"id\":\"p1275\"}],\"active_drag\":{\"id\":\"p1268\"},\"active_scroll\":{\"id\":\"p1225\"}}},\"left\":[{\"type\":\"object\",\"name\":\"LinearAxis\",\"id\":\"p1262\",\"attributes\":{\"ticker\":{\"type\":\"object\",\"name\":\"BasicTicker\",\"id\":\"p1263\",\"attributes\":{\"mantissas\":[1,2,5]}},\"formatter\":{\"type\":\"object\",\"name\":\"BasicTickFormatter\",\"id\":\"p1264\"},\"axis_label\":\"Fraud Charge Count\",\"major_label_policy\":{\"type\":\"object\",\"name\":\"AllLabels\",\"id\":\"p1265\"}}}],\"above\":[{\"type\":\"object\",\"name\":\"Legend\",\"id\":\"p1288\",\"attributes\":{\"location\":[0,0],\"orientation\":\"horizontal\",\"click_policy\":\"mute\",\"items\":[{\"type\":\"object\",\"name\":\"LegendItem\",\"id\":\"p1289\",\"attributes\":{\"label\":{\"type\":\"value\",\"value\":\"Actual\"},\"renderers\":[{\"id\":\"p1285\"}]}},{\"type\":\"object\",\"name\":\"LegendItem\",\"id\":\"p1303\",\"attributes\":{\"label\":{\"type\":\"value\",\"value\":\"Forecast\"},\"renderers\":[{\"id\":\"p1300\"}]}}]}}],\"below\":[{\"type\":\"object\",\"name\":\"DatetimeAxis\",\"id\":\"p1245\",\"attributes\":{\"ticker\":{\"type\":\"object\",\"name\":\"DatetimeTicker\",\"id\":\"p1246\",\"attributes\":{\"num_minor_ticks\":5,\"tickers\":[{\"type\":\"object\",\"name\":\"AdaptiveTicker\",\"id\":\"p1247\",\"attributes\":{\"num_minor_ticks\":0,\"mantissas\":[1,2,5],\"max_interval\":500.0}},{\"type\":\"object\",\"name\":\"AdaptiveTicker\",\"id\":\"p1248\",\"attributes\":{\"num_minor_ticks\":0,\"base\":60,\"mantissas\":[1,2,5,10,15,20,30],\"min_interval\":1000.0,\"max_interval\":1800000.0}},{\"type\":\"object\",\"name\":\"AdaptiveTicker\",\"id\":\"p1249\",\"attributes\":{\"num_minor_ticks\":0,\"base\":24,\"mantissas\":[1,2,4,6,8,12],\"min_interval\":3600000.0,\"max_interval\":43200000.0}},{\"type\":\"object\",\"name\":\"DaysTicker\",\"id\":\"p1250\",\"attributes\":{\"days\":[1,2,3,4,5,6,7,8,9,10,11,12,13,14,15,16,17,18,19,20,21,22,23,24,25,26,27,28,29,30,31]}},{\"type\":\"object\",\"name\":\"DaysTicker\",\"id\":\"p1251\",\"attributes\":{\"days\":[1,4,7,10,13,16,19,22,25,28]}},{\"type\":\"object\",\"name\":\"DaysTicker\",\"id\":\"p1252\",\"attributes\":{\"days\":[1,8,15,22]}},{\"type\":\"object\",\"name\":\"DaysTicker\",\"id\":\"p1253\",\"attributes\":{\"days\":[1,15]}},{\"type\":\"object\",\"name\":\"MonthsTicker\",\"id\":\"p1254\",\"attributes\":{\"months\":[0,1,2,3,4,5,6,7,8,9,10,11]}},{\"type\":\"object\",\"name\":\"MonthsTicker\",\"id\":\"p1255\",\"attributes\":{\"months\":[0,2,4,6,8,10]}},{\"type\":\"object\",\"name\":\"MonthsTicker\",\"id\":\"p1256\",\"attributes\":{\"months\":[0,4,8]}},{\"type\":\"object\",\"name\":\"MonthsTicker\",\"id\":\"p1257\",\"attributes\":{\"months\":[0,6]}},{\"type\":\"object\",\"name\":\"YearsTicker\",\"id\":\"p1258\"}]}},\"formatter\":{\"type\":\"object\",\"name\":\"DatetimeTickFormatter\",\"id\":\"p1259\"},\"axis_label\":\"Date\",\"major_label_policy\":{\"type\":\"object\",\"name\":\"AllLabels\",\"id\":\"p1260\"}}}],\"center\":[{\"type\":\"object\",\"name\":\"Grid\",\"id\":\"p1261\",\"attributes\":{\"axis\":{\"id\":\"p1245\"},\"grid_line_color\":null}},{\"type\":\"object\",\"name\":\"Grid\",\"id\":\"p1266\",\"attributes\":{\"dimension\":1,\"axis\":{\"id\":\"p1262\"},\"grid_line_color\":null}}],\"min_border_top\":10,\"min_border_bottom\":10,\"min_border_left\":10,\"min_border_right\":10,\"output_backend\":\"webgl\"}},{\"type\":\"object\",\"name\":\"Spacer\",\"id\":\"p1319\",\"attributes\":{\"name\":\"HSpacer01668\",\"stylesheets\":[\"\\n:host(.pn-loading):before, .pn-loading:before {\\n  background-color: #c3c3c3;\\n  mask-size: auto calc(min(50%, 400px));\\n  -webkit-mask-size: auto calc(min(50%, 400px));\\n}\",{\"id\":\"p1218\"},{\"id\":\"p1216\"},{\"id\":\"p1217\"}],\"margin\":0,\"sizing_mode\":\"stretch_width\",\"align\":\"start\"}}]}}],\"defs\":[{\"type\":\"model\",\"name\":\"ReactiveHTML1\"},{\"type\":\"model\",\"name\":\"FlexBox1\",\"properties\":[{\"name\":\"align_content\",\"kind\":\"Any\",\"default\":\"flex-start\"},{\"name\":\"align_items\",\"kind\":\"Any\",\"default\":\"flex-start\"},{\"name\":\"flex_direction\",\"kind\":\"Any\",\"default\":\"row\"},{\"name\":\"flex_wrap\",\"kind\":\"Any\",\"default\":\"wrap\"},{\"name\":\"gap\",\"kind\":\"Any\",\"default\":\"\"},{\"name\":\"justify_content\",\"kind\":\"Any\",\"default\":\"flex-start\"}]},{\"type\":\"model\",\"name\":\"FloatPanel1\",\"properties\":[{\"name\":\"config\",\"kind\":\"Any\",\"default\":{\"type\":\"map\"}},{\"name\":\"contained\",\"kind\":\"Any\",\"default\":true},{\"name\":\"position\",\"kind\":\"Any\",\"default\":\"right-top\"},{\"name\":\"offsetx\",\"kind\":\"Any\",\"default\":null},{\"name\":\"offsety\",\"kind\":\"Any\",\"default\":null},{\"name\":\"theme\",\"kind\":\"Any\",\"default\":\"primary\"},{\"name\":\"status\",\"kind\":\"Any\",\"default\":\"normalized\"}]},{\"type\":\"model\",\"name\":\"GridStack1\",\"properties\":[{\"name\":\"mode\",\"kind\":\"Any\",\"default\":\"warn\"},{\"name\":\"ncols\",\"kind\":\"Any\",\"default\":null},{\"name\":\"nrows\",\"kind\":\"Any\",\"default\":null},{\"name\":\"allow_resize\",\"kind\":\"Any\",\"default\":true},{\"name\":\"allow_drag\",\"kind\":\"Any\",\"default\":true},{\"name\":\"state\",\"kind\":\"Any\",\"default\":[]}]},{\"type\":\"model\",\"name\":\"drag1\",\"properties\":[{\"name\":\"slider_width\",\"kind\":\"Any\",\"default\":5},{\"name\":\"slider_color\",\"kind\":\"Any\",\"default\":\"black\"},{\"name\":\"value\",\"kind\":\"Any\",\"default\":50}]},{\"type\":\"model\",\"name\":\"click1\",\"properties\":[{\"name\":\"terminal_output\",\"kind\":\"Any\",\"default\":\"\"},{\"name\":\"debug_name\",\"kind\":\"Any\",\"default\":\"\"},{\"name\":\"clears\",\"kind\":\"Any\",\"default\":0}]},{\"type\":\"model\",\"name\":\"FastWrapper1\",\"properties\":[{\"name\":\"object\",\"kind\":\"Any\",\"default\":null},{\"name\":\"style\",\"kind\":\"Any\",\"default\":null}]},{\"type\":\"model\",\"name\":\"NotificationAreaBase1\",\"properties\":[{\"name\":\"js_events\",\"kind\":\"Any\",\"default\":{\"type\":\"map\"}},{\"name\":\"position\",\"kind\":\"Any\",\"default\":\"bottom-right\"},{\"name\":\"_clear\",\"kind\":\"Any\",\"default\":0}]},{\"type\":\"model\",\"name\":\"NotificationArea1\",\"properties\":[{\"name\":\"js_events\",\"kind\":\"Any\",\"default\":{\"type\":\"map\"}},{\"name\":\"notifications\",\"kind\":\"Any\",\"default\":[]},{\"name\":\"position\",\"kind\":\"Any\",\"default\":\"bottom-right\"},{\"name\":\"_clear\",\"kind\":\"Any\",\"default\":0},{\"name\":\"types\",\"kind\":\"Any\",\"default\":[{\"type\":\"map\",\"entries\":[[\"type\",\"warning\"],[\"background\",\"#ffc107\"],[\"icon\",{\"type\":\"map\",\"entries\":[[\"className\",\"fas fa-exclamation-triangle\"],[\"tagName\",\"i\"],[\"color\",\"white\"]]}]]},{\"type\":\"map\",\"entries\":[[\"type\",\"info\"],[\"background\",\"#007bff\"],[\"icon\",{\"type\":\"map\",\"entries\":[[\"className\",\"fas fa-info-circle\"],[\"tagName\",\"i\"],[\"color\",\"white\"]]}]]}]}]},{\"type\":\"model\",\"name\":\"Notification\",\"properties\":[{\"name\":\"background\",\"kind\":\"Any\",\"default\":null},{\"name\":\"duration\",\"kind\":\"Any\",\"default\":3000},{\"name\":\"icon\",\"kind\":\"Any\",\"default\":null},{\"name\":\"message\",\"kind\":\"Any\",\"default\":\"\"},{\"name\":\"notification_type\",\"kind\":\"Any\",\"default\":null},{\"name\":\"_destroyed\",\"kind\":\"Any\",\"default\":false}]},{\"type\":\"model\",\"name\":\"TemplateActions1\",\"properties\":[{\"name\":\"open_modal\",\"kind\":\"Any\",\"default\":0},{\"name\":\"close_modal\",\"kind\":\"Any\",\"default\":0}]},{\"type\":\"model\",\"name\":\"BootstrapTemplateActions1\",\"properties\":[{\"name\":\"open_modal\",\"kind\":\"Any\",\"default\":0},{\"name\":\"close_modal\",\"kind\":\"Any\",\"default\":0}]},{\"type\":\"model\",\"name\":\"TemplateEditor1\",\"properties\":[{\"name\":\"layout\",\"kind\":\"Any\",\"default\":[]}]},{\"type\":\"model\",\"name\":\"MaterialTemplateActions1\",\"properties\":[{\"name\":\"open_modal\",\"kind\":\"Any\",\"default\":0},{\"name\":\"close_modal\",\"kind\":\"Any\",\"default\":0}]},{\"type\":\"model\",\"name\":\"copy_to_clipboard1\",\"properties\":[{\"name\":\"fill\",\"kind\":\"Any\",\"default\":\"none\"},{\"name\":\"value\",\"kind\":\"Any\",\"default\":null}]}]}};\n",
       "  var render_items = [{\"docid\":\"9192e704-23c1-4f65-9df6-5884452f7d2f\",\"roots\":{\"p1215\":\"b05015a9-c33f-4f70-8434-63750e21f8ae\"},\"root_ids\":[\"p1215\"]}];\n",
       "  var docs = Object.values(docs_json)\n",
       "  if (!docs) {\n",
       "    return\n",
       "  }\n",
       "  const py_version = docs[0].version.replace('rc', '-rc.').replace('.dev', '-dev.')\n",
       "  async function embed_document(root) {\n",
       "    var Bokeh = get_bokeh(root)\n",
       "    await Bokeh.embed.embed_items_notebook(docs_json, render_items);\n",
       "    for (const render_item of render_items) {\n",
       "      for (const root_id of render_item.root_ids) {\n",
       "\tconst id_el = document.getElementById(root_id)\n",
       "\tif (id_el.children.length && id_el.children[0].hasAttribute('data-root-id')) {\n",
       "\t  const root_el = id_el.children[0]\n",
       "\t  root_el.id = root_el.id + '-rendered'\n",
       "\t  for (const child of root_el.children) {\n",
       "            // Ensure JupyterLab does not capture keyboard shortcuts\n",
       "            // see: https://jupyterlab.readthedocs.io/en/4.1.x/extension/notebook.html#keyboard-interaction-model\n",
       "\t    child.setAttribute('data-lm-suppress-shortcuts', 'true')\n",
       "\t  }\n",
       "\t}\n",
       "      }\n",
       "    }\n",
       "  }\n",
       "  function get_bokeh(root) {\n",
       "    if (root.Bokeh === undefined) {\n",
       "      return null\n",
       "    } else if (root.Bokeh.version !== py_version) {\n",
       "      if (root.Bokeh.versions === undefined || !root.Bokeh.versions.has(py_version)) {\n",
       "\treturn null\n",
       "      }\n",
       "      return root.Bokeh.versions.get(py_version);\n",
       "    } else if (root.Bokeh.version === py_version) {\n",
       "      return root.Bokeh\n",
       "    }\n",
       "    return null\n",
       "  }\n",
       "  function is_loaded(root) {\n",
       "    var Bokeh = get_bokeh(root)\n",
       "    return (Bokeh != null && Bokeh.Panel !== undefined)\n",
       "  }\n",
       "  if (is_loaded(root)) {\n",
       "    embed_document(root);\n",
       "  } else {\n",
       "    var attempts = 0;\n",
       "    var timer = setInterval(function(root) {\n",
       "      if (is_loaded(root)) {\n",
       "        clearInterval(timer);\n",
       "        embed_document(root);\n",
       "      } else if (document.readyState == \"complete\") {\n",
       "        attempts++;\n",
       "        if (attempts > 200) {\n",
       "          clearInterval(timer);\n",
       "\t  var Bokeh = get_bokeh(root)\n",
       "\t  if (Bokeh == null || Bokeh.Panel == null) {\n",
       "            console.warn(\"Panel: ERROR: Unable to run Panel code because Bokeh or Panel library is missing\");\n",
       "\t  } else {\n",
       "\t    console.warn(\"Panel: WARNING: Attempting to render but not all required libraries could be resolved.\")\n",
       "\t    embed_document(root)\n",
       "\t  }\n",
       "        }\n",
       "      }\n",
       "    }, 25, root)\n",
       "  }\n",
       "})(window);</script>"
      ],
      "text/plain": [
       ":Overlay\n",
       "   .NdOverlay.I :NdOverlay   [Variable]\n",
       "      :Curve   [Date]   (value)\n",
       "   .Area.I      :Area   [Date]   (Lower Conf Int,Upper Conf Int)"
      ]
     },
     "execution_count": 22,
     "metadata": {
      "application/vnd.holoviews_exec.v0+json": {
       "id": "p1215"
      }
     },
     "output_type": "execute_result"
    }
   ],
   "source": [
    "# Merge the actual data with forecasted data for easier comparison\n",
    "combined_df = pd.concat([fraud_df, forecast_df], ignore_index=True)\n",
    "\n",
    "# Plot the data using hvPlot\n",
    "plot = combined_df.hvplot(x='Date', y=['Actual', 'Forecast'], ylabel='Fraud Charge Count', xlabel='Date', \n",
    "                          title='Fraud Charge Count Forecast', width=800, height=400)\n",
    "\n",
    "# Add confidence intervals to the plot\n",
    "ci_plot = forecast_df.hvplot.area(x='Date', y='Lower Conf Int', y2='Upper Conf Int', alpha=0.3, color='gray')\n",
    "(plot * ci_plot).opts(legend_position='top')\n"
   ]
  },
  {
   "cell_type": "code",
   "execution_count": 23,
   "metadata": {},
   "outputs": [
    {
     "name": "stdout",
     "output_type": "stream",
     "text": [
      "        date  fraud_charge_count\n",
      "0 2019-01-07                  51\n",
      "1 2019-01-14                 158\n",
      "2 2019-01-21                 155\n",
      "3 2019-01-28                  67\n",
      "4 2019-02-04                 149\n"
     ]
    }
   ],
   "source": [
    "# Convert 'trans_date' to datetime if it isn't already\n",
    "df2['trans_date'] = pd.to_datetime(df2['trans_date'])\n",
    "\n",
    "# Filter for fraudulent transactions\n",
    "fraud_df = df2[df2['is_fraud'] == 1]\n",
    "\n",
    "# Group by week and count the number of fraud charges\n",
    "fraud_df_weekly = fraud_df.resample('W-Mon', on='trans_date').size().reset_index(name='fraud_charge_count')\n",
    "\n",
    "# Rename columns for clarity\n",
    "fraud_df_weekly.columns = ['date', 'fraud_charge_count']\n",
    "\n",
    "# Display the resulting DataFrame\n",
    "print(fraud_df_weekly.head())\n"
   ]
  },
  {
   "cell_type": "code",
   "execution_count": 24,
   "metadata": {},
   "outputs": [
    {
     "data": {
      "text/html": [
       "<div>\n",
       "<style scoped>\n",
       "    .dataframe tbody tr th:only-of-type {\n",
       "        vertical-align: middle;\n",
       "    }\n",
       "\n",
       "    .dataframe tbody tr th {\n",
       "        vertical-align: top;\n",
       "    }\n",
       "\n",
       "    .dataframe thead th {\n",
       "        text-align: right;\n",
       "    }\n",
       "</style>\n",
       "<table border=\"1\" class=\"dataframe\">\n",
       "  <thead>\n",
       "    <tr style=\"text-align: right;\">\n",
       "      <th></th>\n",
       "      <th>ds</th>\n",
       "      <th>y</th>\n",
       "    </tr>\n",
       "  </thead>\n",
       "  <tbody>\n",
       "    <tr>\n",
       "      <th>72</th>\n",
       "      <td>2020-05-25</td>\n",
       "      <td>131</td>\n",
       "    </tr>\n",
       "    <tr>\n",
       "      <th>73</th>\n",
       "      <td>2020-06-01</td>\n",
       "      <td>82</td>\n",
       "    </tr>\n",
       "    <tr>\n",
       "      <th>74</th>\n",
       "      <td>2020-06-08</td>\n",
       "      <td>113</td>\n",
       "    </tr>\n",
       "    <tr>\n",
       "      <th>75</th>\n",
       "      <td>2020-06-15</td>\n",
       "      <td>74</td>\n",
       "    </tr>\n",
       "    <tr>\n",
       "      <th>76</th>\n",
       "      <td>2020-06-22</td>\n",
       "      <td>142</td>\n",
       "    </tr>\n",
       "  </tbody>\n",
       "</table>\n",
       "</div>"
      ],
      "text/plain": [
       "           ds    y\n",
       "72 2020-05-25  131\n",
       "73 2020-06-01   82\n",
       "74 2020-06-08  113\n",
       "75 2020-06-15   74\n",
       "76 2020-06-22  142"
      ]
     },
     "execution_count": 24,
     "metadata": {},
     "output_type": "execute_result"
    }
   ],
   "source": [
    "\n",
    "# Rename columns for Prophet\n",
    "fraud_df_weekly.columns=['ds','y']\n",
    "fraud_df_weekly.tail()\n"
   ]
  },
  {
   "cell_type": "code",
   "execution_count": 25,
   "metadata": {},
   "outputs": [
    {
     "name": "stderr",
     "output_type": "stream",
     "text": [
      "20:43:09 - cmdstanpy - INFO - Chain [1] start processing\n"
     ]
    },
    {
     "name": "stderr",
     "output_type": "stream",
     "text": [
      "20:43:09 - cmdstanpy - INFO - Chain [1] done processing\n"
     ]
    },
    {
     "name": "stdout",
     "output_type": "stream",
     "text": [
      "          ds        yhat  yhat_lower  yhat_upper\n",
      "0 2019-01-07  101.871922   59.962050  141.578083\n",
      "1 2019-01-14  101.756289   61.678934  140.854536\n",
      "2 2019-01-21  101.640656   60.515855  142.340047\n",
      "3 2019-01-28  101.525023   58.753521  143.183519\n",
      "4 2019-02-04  101.409389   61.755806  143.067015\n"
     ]
    }
   ],
   "source": [
    "# Set up and fit the Prophet model\n",
    "modelweek = Prophet()\n",
    "modelweek.fit(fraud_df_weekly)\n",
    "\n",
    "# Create a DataFrame for future dates you want to forecast\n",
    "future2 = modelweek.make_future_dataframe(periods=104)\n",
    "\n",
    "# Forecast the future values\n",
    "fraud_forecast_weekly = modelweek.predict(future2)\n",
    "\n",
    "# Display the forecast\n",
    "print(fraud_forecast_weekly[['ds', 'yhat', 'yhat_lower', 'yhat_upper']].head())\n"
   ]
  },
  {
   "cell_type": "code",
   "execution_count": 26,
   "metadata": {},
   "outputs": [
    {
     "data": {},
     "metadata": {},
     "output_type": "display_data"
    },
    {
     "data": {
      "application/vnd.holoviews_exec.v0+json": "",
      "text/html": [
       "<div id='p1329'>\n",
       "  <div id=\"b06ae039-724b-4dd1-96f1-b54e94c3940b\" data-root-id=\"p1329\" style=\"display: contents;\"></div>\n",
       "</div>\n",
       "<script type=\"application/javascript\">(function(root) {\n",
       "  var docs_json = {\"527dcdf9-1c99-4fce-9f38-1d11aaad3af3\":{\"version\":\"3.4.1\",\"title\":\"Bokeh Application\",\"roots\":[{\"type\":\"object\",\"name\":\"Row\",\"id\":\"p1329\",\"attributes\":{\"name\":\"Row02063\",\"tags\":[\"embedded\"],\"stylesheets\":[\"\\n:host(.pn-loading):before, .pn-loading:before {\\n  background-color: #c3c3c3;\\n  mask-size: auto calc(min(50%, 400px));\\n  -webkit-mask-size: auto calc(min(50%, 400px));\\n}\",{\"type\":\"object\",\"name\":\"ImportedStyleSheet\",\"id\":\"p1332\",\"attributes\":{\"url\":\"https://cdn.holoviz.org/panel/1.4.4/dist/css/loading.css\"}},{\"type\":\"object\",\"name\":\"ImportedStyleSheet\",\"id\":\"p1436\",\"attributes\":{\"url\":\"https://cdn.holoviz.org/panel/1.4.4/dist/css/listpanel.css\"}},{\"type\":\"object\",\"name\":\"ImportedStyleSheet\",\"id\":\"p1330\",\"attributes\":{\"url\":\"https://cdn.holoviz.org/panel/1.4.4/dist/bundled/theme/default.css\"}},{\"type\":\"object\",\"name\":\"ImportedStyleSheet\",\"id\":\"p1331\",\"attributes\":{\"url\":\"https://cdn.holoviz.org/panel/1.4.4/dist/bundled/theme/native.css\"}}],\"min_width\":1000,\"margin\":0,\"sizing_mode\":\"stretch_width\",\"align\":\"start\",\"children\":[{\"type\":\"object\",\"name\":\"Spacer\",\"id\":\"p1333\",\"attributes\":{\"name\":\"HSpacer02070\",\"stylesheets\":[\"\\n:host(.pn-loading):before, .pn-loading:before {\\n  background-color: #c3c3c3;\\n  mask-size: auto calc(min(50%, 400px));\\n  -webkit-mask-size: auto calc(min(50%, 400px));\\n}\",{\"id\":\"p1332\"},{\"id\":\"p1330\"},{\"id\":\"p1331\"}],\"margin\":0,\"sizing_mode\":\"stretch_width\",\"align\":\"start\"}},{\"type\":\"object\",\"name\":\"Figure\",\"id\":\"p1347\",\"attributes\":{\"width\":1000,\"margin\":[5,10],\"sizing_mode\":\"fixed\",\"align\":\"start\",\"x_range\":{\"type\":\"object\",\"name\":\"Range1d\",\"id\":\"p1334\",\"attributes\":{\"tags\":[[[\"ds\",null]],[]],\"start\":1546819200000.0,\"end\":1601769600000.0,\"reset_start\":1546819200000.0,\"reset_end\":1601769600000.0}},\"y_range\":{\"type\":\"object\",\"name\":\"Range1d\",\"id\":\"p1335\",\"attributes\":{\"tags\":[[[\"actual_fraud_count\",null]],{\"type\":\"map\",\"entries\":[[\"invert_yaxis\",false],[\"autorange\",false]]}],\"start\":21.6,\"end\":170.4,\"reset_start\":21.6,\"reset_end\":170.4}},\"x_scale\":{\"type\":\"object\",\"name\":\"LinearScale\",\"id\":\"p1357\"},\"y_scale\":{\"type\":\"object\",\"name\":\"LinearScale\",\"id\":\"p1358\"},\"title\":{\"type\":\"object\",\"name\":\"Title\",\"id\":\"p1350\",\"attributes\":{\"text\":\"Fraud Charge Forecasting\",\"text_color\":\"black\",\"text_font_size\":\"12pt\"}},\"renderers\":[{\"type\":\"object\",\"name\":\"GlyphRenderer\",\"id\":\"p1399\",\"attributes\":{\"name\":\"Actual Fraud Charges\",\"data_source\":{\"type\":\"object\",\"name\":\"ColumnDataSource\",\"id\":\"p1390\",\"attributes\":{\"selected\":{\"type\":\"object\",\"name\":\"Selection\",\"id\":\"p1391\",\"attributes\":{\"indices\":[],\"line_indices\":[]}},\"selection_policy\":{\"type\":\"object\",\"name\":\"UnionRenderers\",\"id\":\"p1392\"},\"data\":{\"type\":\"map\",\"entries\":[[\"ds\",{\"type\":\"ndarray\",\"array\":{\"type\":\"bytes\",\"data\":\"AABAvlmCdkIAAICGmoR2QgAAwE7bhnZCAAAAFxyJdkIAAEDfXIt2QgAAgKedjXZCAADAb96PdkIAAAA4H5J2QgAAQABglHZCAACAyKCWdkIAAMCQ4Zh2QgAAAFkim3ZCAABAIWOddkIAAIDpo592QgAAwLHkoXZCAAAAeiWkdkIAAEBCZqZ2QgAAgAqnqHZCAADA0ueqdkIAAACbKK12QgAAQGNpr3ZCAACAK6qxdkIAAMDz6rN2QgAAALwrtnZCAABAhGy4dkIAAIBMrbp2QgAAwBTuvHZCAAAA3S6/dkIAAEClb8F2QgAAgG2ww3ZCAADANfHFdkIAAAD+Mch2QgAAQMZyynZCAACAjrPMdkIAAMBW9M52QgAAAB810XZCAABA53XTdkIAAICvttV2QgAAwHf313ZCAAAAQDjadkIAAEAIedx2QgAAgNC53nZCAADAmPrgdkIAAABhO+N2QgAAQCl85XZCAACA8bzndkIAAMC5/el2QgAAAII+7HZCAABASn/udkIAAIASwPB2QgAAwNoA83ZCAAAAo0H1dkIAAEBrgvd2QgAAgDPD+XZCAADA+wP8dkIAAADERP52QgAAQIyFAHdCAACAVMYCd0IAAMAcBwV3QgAAAOVHB3dCAABArYgJd0IAAIB1yQt3QgAAwD0KDndCAAAABksQd0IAAEDOixJ3QgAAgJbMFHdCAADAXg0Xd0IAAAAnThl3QgAAQO+OG3dCAACAt88dd0IAAMB/ECB3QgAAAEhRIndCAABAEJIkd0IAAIDY0iZ3QgAAwKATKXdCAAAAaVQrd0IAAEAxlS13QgAAAJfnLXdCAADA/Dkud0IAAIBijC53QgAAQMjeLndCAAAALjEvd0IAAMCTgy93QgAAgPnVL3dCAABAXygwd0IAAADFejB3QgAAwCrNMHdCAACAkB8xd0IAAED2cTF3QgAAAFzEMXdCAADAwRYyd0IAAIAnaTJ3QgAAQI27MndCAAAA8w0zd0IAAMBYYDN3QgAAgL6yM3dCAABAJAU0d0IAAACKVzR3QgAAwO+pNHdCAACAVfw0d0IAAEC7TjV3QgAAACGhNXdCAADAhvM1d0IAAIDsRTZ3QgAAQFKYNndCAAAAuOo2d0IAAMAdPTd3QgAAgIOPN3dCAABA6eE3d0IAAABPNDh3QgAAwLSGOHdCAACAGtk4d0IAAECAKzl3QgAAAOZ9OXdCAADAS9A5d0IAAICxIjp3QgAAQBd1OndCAAAAfcc6d0IAAMDiGTt3QgAAgEhsO3dCAABArr47d0IAAAAUETx3QgAAwHljPHdCAACA37U8d0IAAEBFCD13QgAAAKtaPXdCAADAEK09d0IAAIB2/z13QgAAQNxRPndCAAAAQqQ+d0IAAMCn9j53QgAAgA1JP3dCAABAc5s/d0IAAADZ7T93QgAAwD5AQHdCAACApJJAd0IAAEAK5UB3QgAAAHA3QXdCAADA1YlBd0IAAIA73EF3QgAAQKEuQndCAAAAB4FCd0IAAMBs00J3QgAAgNIlQ3dCAABAOHhDd0IAAACeykN3QgAAwAMdRHdCAACAaW9Ed0IAAEDPwUR3QgAAADUURXdCAADAmmZFd0IAAIAAuUV3QgAAQGYLRndCAAAAzF1Gd0IAAMAxsEZ3QgAAgJcCR3dCAABA/VRHd0IAAABjp0d3QgAAwMj5R3dCAACALkxId0IAAECUnkh3QgAAAPrwSHdCAADAX0NJd0IAAIDFlUl3QgAAQCvoSXdCAAAAkTpKd0IAAMD2jEp3QgAAgFzfSndCAABAwjFLd0IAAAAohEt3QgAAwI3WS3dCAACA8yhMd0IAAEBZe0x3QgAAAL/NTHdCAADAJCBNd0IAAICKck13QgAAQPDETXdCAAAAVhdOd0IAAMC7aU53QgAAgCG8TndCAABAhw5Pd0I=\"},\"shape\":[181],\"dtype\":\"float64\",\"order\":\"little\"}],[\"actual_fraud_count\",{\"type\":\"ndarray\",\"array\":{\"type\":\"bytes\",\"data\":\"AAAAAACASUAAAAAAAMBjQAAAAAAAYGNAAAAAAADAUEAAAAAAAKBiQAAAAAAAwFpAAAAAAABgYEAAAAAAAEBfQAAAAAAAQF1AAAAAAACAYUAAAAAAAABcQAAAAAAA4GJAAAAAAAAATkAAAAAAAEBUQAAAAAAAwFBAAAAAAACAVUAAAAAAAEBeQAAAAAAAQFZAAAAAAACAUEAAAAAAAKBhQAAAAAAAwFlAAAAAAACASUAAAAAAAMBRQAAAAAAAgFRAAAAAAABAVEAAAAAAAEBXQAAAAAAAAFZAAAAAAACAVUAAAAAAAIBFQAAAAAAAQFxAAAAAAACAT0AAAAAAAABTQAAAAAAAwFRAAAAAAABAUkAAAAAAAABdQAAAAAAAgEpAAAAAAAAAYkAAAAAAAMBcQAAAAAAAgFNAAAAAAACAWEAAAAAAACBhQAAAAAAAoGBAAAAAAACARkAAAAAAAEBdQAAAAAAAAFBAAAAAAAAASkAAAAAAAEBXQAAAAAAA4GFAAAAAAABAX0AAAAAAAABcQAAAAAAAoGFAAAAAAADgYkAAAAAAAABUQAAAAAAAAFpAAAAAAADAU0AAAAAAAABPQAAAAAAAgFlAAAAAAAAASkAAAAAAAEBQQAAAAAAAgFlAAAAAAACAWUAAAAAAAABKQAAAAAAAIGBAAAAAAADAYkAAAAAAAABBQAAAAAAAAFNAAAAAAAAAUkAAAAAAAIBWQAAAAAAAAExAAAAAAADgYEAAAAAAAOBhQAAAAAAAgFRAAAAAAABgYEAAAAAAAIBUQAAAAAAAQFxAAAAAAACAUkAAAAAAAMBhQAAAAAAAAPh/AAAAAAAA+H8AAAAAAAD4fwAAAAAAAPh/AAAAAAAA+H8AAAAAAAD4fwAAAAAAAPh/AAAAAAAA+H8AAAAAAAD4fwAAAAAAAPh/AAAAAAAA+H8AAAAAAAD4fwAAAAAAAPh/AAAAAAAA+H8AAAAAAAD4fwAAAAAAAPh/AAAAAAAA+H8AAAAAAAD4fwAAAAAAAPh/AAAAAAAA+H8AAAAAAAD4fwAAAAAAAPh/AAAAAAAA+H8AAAAAAAD4fwAAAAAAAPh/AAAAAAAA+H8AAAAAAAD4fwAAAAAAAPh/AAAAAAAA+H8AAAAAAAD4fwAAAAAAAPh/AAAAAAAA+H8AAAAAAAD4fwAAAAAAAPh/AAAAAAAA+H8AAAAAAAD4fwAAAAAAAPh/AAAAAAAA+H8AAAAAAAD4fwAAAAAAAPh/AAAAAAAA+H8AAAAAAAD4fwAAAAAAAPh/AAAAAAAA+H8AAAAAAAD4fwAAAAAAAPh/AAAAAAAA+H8AAAAAAAD4fwAAAAAAAPh/AAAAAAAA+H8AAAAAAAD4fwAAAAAAAPh/AAAAAAAA+H8AAAAAAAD4fwAAAAAAAPh/AAAAAAAA+H8AAAAAAAD4fwAAAAAAAPh/AAAAAAAA+H8AAAAAAAD4fwAAAAAAAPh/AAAAAAAA+H8AAAAAAAD4fwAAAAAAAPh/AAAAAAAA+H8AAAAAAAD4fwAAAAAAAPh/AAAAAAAA+H8AAAAAAAD4fwAAAAAAAPh/AAAAAAAA+H8AAAAAAAD4fwAAAAAAAPh/AAAAAAAA+H8AAAAAAAD4fwAAAAAAAPh/AAAAAAAA+H8AAAAAAAD4fwAAAAAAAPh/AAAAAAAA+H8AAAAAAAD4fwAAAAAAAPh/AAAAAAAA+H8AAAAAAAD4fwAAAAAAAPh/AAAAAAAA+H8AAAAAAAD4fwAAAAAAAPh/AAAAAAAA+H8AAAAAAAD4fwAAAAAAAPh/AAAAAAAA+H8AAAAAAAD4fwAAAAAAAPh/AAAAAAAA+H8AAAAAAAD4fwAAAAAAAPh/AAAAAAAA+H8AAAAAAAD4fwAAAAAAAPh/AAAAAAAA+H8AAAAAAAD4fwAAAAAAAPh/AAAAAAAA+H8=\"},\"shape\":[181],\"dtype\":\"float64\",\"order\":\"little\"}]]}}},\"view\":{\"type\":\"object\",\"name\":\"CDSView\",\"id\":\"p1400\",\"attributes\":{\"filter\":{\"type\":\"object\",\"name\":\"AllIndices\",\"id\":\"p1401\"}}},\"glyph\":{\"type\":\"object\",\"name\":\"Line\",\"id\":\"p1396\",\"attributes\":{\"tags\":[\"apply_ranges\"],\"x\":{\"type\":\"field\",\"field\":\"ds\"},\"y\":{\"type\":\"field\",\"field\":\"actual_fraud_count\"},\"line_color\":\"blue\",\"line_width\":2}},\"selection_glyph\":{\"type\":\"object\",\"name\":\"Line\",\"id\":\"p1404\",\"attributes\":{\"tags\":[\"apply_ranges\"],\"x\":{\"type\":\"field\",\"field\":\"ds\"},\"y\":{\"type\":\"field\",\"field\":\"actual_fraud_count\"},\"line_color\":\"blue\",\"line_width\":2}},\"nonselection_glyph\":{\"type\":\"object\",\"name\":\"Line\",\"id\":\"p1397\",\"attributes\":{\"tags\":[\"apply_ranges\"],\"x\":{\"type\":\"field\",\"field\":\"ds\"},\"y\":{\"type\":\"field\",\"field\":\"actual_fraud_count\"},\"line_color\":\"blue\",\"line_alpha\":0.1,\"line_width\":2}},\"muted_glyph\":{\"type\":\"object\",\"name\":\"Line\",\"id\":\"p1398\",\"attributes\":{\"tags\":[\"apply_ranges\"],\"x\":{\"type\":\"field\",\"field\":\"ds\"},\"y\":{\"type\":\"field\",\"field\":\"actual_fraud_count\"},\"line_color\":\"blue\",\"line_alpha\":0.2,\"line_width\":2}}}},{\"type\":\"object\",\"name\":\"GlyphRenderer\",\"id\":\"p1414\",\"attributes\":{\"name\":\"Forecasted Fraud Charges\",\"data_source\":{\"type\":\"object\",\"name\":\"ColumnDataSource\",\"id\":\"p1405\",\"attributes\":{\"selected\":{\"type\":\"object\",\"name\":\"Selection\",\"id\":\"p1406\",\"attributes\":{\"indices\":[],\"line_indices\":[]}},\"selection_policy\":{\"type\":\"object\",\"name\":\"UnionRenderers\",\"id\":\"p1407\"},\"data\":{\"type\":\"map\",\"entries\":[[\"ds\",{\"type\":\"ndarray\",\"array\":{\"type\":\"bytes\",\"data\":\"AABAvlmCdkIAAICGmoR2QgAAwE7bhnZCAAAAFxyJdkIAAEDfXIt2QgAAgKedjXZCAADAb96PdkIAAAA4H5J2QgAAQABglHZCAACAyKCWdkIAAMCQ4Zh2QgAAAFkim3ZCAABAIWOddkIAAIDpo592QgAAwLHkoXZCAAAAeiWkdkIAAEBCZqZ2QgAAgAqnqHZCAADA0ueqdkIAAACbKK12QgAAQGNpr3ZCAACAK6qxdkIAAMDz6rN2QgAAALwrtnZCAABAhGy4dkIAAIBMrbp2QgAAwBTuvHZCAAAA3S6/dkIAAEClb8F2QgAAgG2ww3ZCAADANfHFdkIAAAD+Mch2QgAAQMZyynZCAACAjrPMdkIAAMBW9M52QgAAAB810XZCAABA53XTdkIAAICvttV2QgAAwHf313ZCAAAAQDjadkIAAEAIedx2QgAAgNC53nZCAADAmPrgdkIAAABhO+N2QgAAQCl85XZCAACA8bzndkIAAMC5/el2QgAAAII+7HZCAABASn/udkIAAIASwPB2QgAAwNoA83ZCAAAAo0H1dkIAAEBrgvd2QgAAgDPD+XZCAADA+wP8dkIAAADERP52QgAAQIyFAHdCAACAVMYCd0IAAMAcBwV3QgAAAOVHB3dCAABArYgJd0IAAIB1yQt3QgAAwD0KDndCAAAABksQd0IAAEDOixJ3QgAAgJbMFHdCAADAXg0Xd0IAAAAnThl3QgAAQO+OG3dCAACAt88dd0IAAMB/ECB3QgAAAEhRIndCAABAEJIkd0IAAIDY0iZ3QgAAwKATKXdCAAAAaVQrd0IAAEAxlS13QgAAAJfnLXdCAADA/Dkud0IAAIBijC53QgAAQMjeLndCAAAALjEvd0IAAMCTgy93QgAAgPnVL3dCAABAXygwd0IAAADFejB3QgAAwCrNMHdCAACAkB8xd0IAAED2cTF3QgAAAFzEMXdCAADAwRYyd0IAAIAnaTJ3QgAAQI27MndCAAAA8w0zd0IAAMBYYDN3QgAAgL6yM3dCAABAJAU0d0IAAACKVzR3QgAAwO+pNHdCAACAVfw0d0IAAEC7TjV3QgAAACGhNXdCAADAhvM1d0IAAIDsRTZ3QgAAQFKYNndCAAAAuOo2d0IAAMAdPTd3QgAAgIOPN3dCAABA6eE3d0IAAABPNDh3QgAAwLSGOHdCAACAGtk4d0IAAECAKzl3QgAAAOZ9OXdCAADAS9A5d0IAAICxIjp3QgAAQBd1OndCAAAAfcc6d0IAAMDiGTt3QgAAgEhsO3dCAABArr47d0IAAAAUETx3QgAAwHljPHdCAACA37U8d0IAAEBFCD13QgAAAKtaPXdCAADAEK09d0IAAIB2/z13QgAAQNxRPndCAAAAQqQ+d0IAAMCn9j53QgAAgA1JP3dCAABAc5s/d0IAAADZ7T93QgAAwD5AQHdCAACApJJAd0IAAEAK5UB3QgAAAHA3QXdCAADA1YlBd0IAAIA73EF3QgAAQKEuQndCAAAAB4FCd0IAAMBs00J3QgAAgNIlQ3dCAABAOHhDd0IAAACeykN3QgAAwAMdRHdCAACAaW9Ed0IAAEDPwUR3QgAAADUURXdCAADAmmZFd0IAAIAAuUV3QgAAQGYLRndCAAAAzF1Gd0IAAMAxsEZ3QgAAgJcCR3dCAABA/VRHd0IAAABjp0d3QgAAwMj5R3dCAACALkxId0IAAECUnkh3QgAAAPrwSHdCAADAX0NJd0IAAIDFlUl3QgAAQCvoSXdCAAAAkTpKd0IAAMD2jEp3QgAAgFzfSndCAABAwjFLd0IAAAAohEt3QgAAwI3WS3dCAACA8yhMd0IAAEBZe0x3QgAAAL/NTHdCAADAJCBNd0IAAICKck13QgAAQPDETXdCAAAAVhdOd0IAAMC7aU53QgAAgCG8TndCAABAhw5Pd0I=\"},\"shape\":[181],\"dtype\":\"float64\",\"order\":\"little\"}],[\"yhat\",{\"type\":\"ndarray\",\"array\":{\"type\":\"bytes\",\"data\":\"barukc13WUCgDG0JZ3BZQNNu64AAaVlA3Cxp+JlhWUDn6uZvM1pZQPCoZOfMUllAut7hXmZLWUCEFF/W/0NZQFbR3E2ZPFlAJ45axTI1WUD6Stg8zC1ZQGuGVbRlJllA3cHSK/8eWUCbsFCjmBdZQFefzhoyEFlATvFLkssIWUBEQ8kJZQFZQDqVRoH++VhAF3TD+JfyWED1UkBwMetYQBB/vefK41hALKs6X2TcWEBJ17fW/dRYQDSeNU6XzVhAIGWzxTDGWEAu5jE9yr5YQDxnsLRjt1hAsbYvLP2vWEAoBq+jlqhYQJ5VLhswoVhA04OtksmZWEAJsiwKY5JYQPaLq4H8ilhA42Uq+ZWDWEDPP6lwL3xYQMowKejIdFhAxSGpX2JtWEDP9CjX+2VYQNrHqE6VXlhAs14pxi5XWECM9ak9yE9YQGeMKrVhSFhAN5SrLPtAWEAInCyklDlYQEmhrRsuMlhAiqYuk8cqWEDMq68KYSNYQDhbMIL6G1hApQqx+ZMUWECPLTJxLQ1YQHdQs+jGBVhA+o00YGD+V0B9y7XX+fZXQAEJN0+T71dALvG3xizoV0Bc2Tg+xuBXQIMBurVf2VdAqyk7LfnRV0DVUbykkspXQCAdPhwsw1dAbOi/k8W7V0C+BEELX7RXQBAhwoL4rFdAYj1D+pGlV0C0WcRxK55XQAZ2RenElldAWJLGYF6PV0CqrkfY94dXQPvKyE+RgFdATedJxyp5V0CfA8s+xHFXQPEfTLZdaldAQzzNLfdiV0CVWE6lkFtXQOh0zxwqVFdAOpFQlMNMV0CMrdELXUVXQJixCGZORFdAo7U/wD9DV0CvuXYaMUJXQLq9rXQiQVdAxsHkzhNAV0DTxRspBT9XQN7JUoP2PVdA6s2J3ec8V0D10cA32TtXQAHW95HKOldADNou7Ls5V0AY3mVGrThXQCXinKCeN1dAMObT+o82V0A86gpVgTVXQEfuQa9yNFdAU/J4CWQzV0Be9q9jVTJXQGr65r1GMVdAd/4dGDgwV0CCAlVyKS9XQI4GjMwaLldAmQrDJgwtV0ClDvqA/StXQLASMdvuKldAvRZoNeApV0DJGp+P0ShXQNQe1unCJ1dA4CINRLQmV0DrJkSepSVXQPcqe/iWJFdAAi+yUogjV0APM+mseSJXQBs3IAdrIVdAJjtXYVwgV0AyP467TR9XQD1DxRU/HldASUf8bzAdV0BVSzPKIRxXQGFPaiQTG1dAbVOhfgQaV0B4V9jY9RhXQIRbDzPnF1dAj19GjdgWV0CbY33nyRVXQKZntEG7FFdAs2vrm6wTV0C+byL2nRJXQMpzWVCPEVdA1neQqoAQV0Dhe8cEcg9XQO1//l5jDldA+YM1uVQNV0AFiGwTRgxXQBCMo203C1dAHJDaxygKV0AolBEiGglXQDOYSHwLCFdAP5x/1vwGV0BLoLYw7gVXQFek7YrfBFdAYqgk5dADV0BurFs/wgJXQHmwkpmzAVdAhbTJ86QAV0CSuABOlv9WQJ28N6iH/lZAqcBuAnn9VkC0xKVcavxWQMDI3LZb+1ZAy8wTEU36VkDX0EprPvlWQOLUgcUv+FZA79i4HyH3VkD73O95EvZWQAbhJtQD9VZAEuVdLvXzVkAd6ZSI5vJWQCnty+LX8VZANvECPcnwVkBB9TmXuu9WQE35cPGr7lZAWP2nS53tVkBkAd+ljuxWQG8FFgCA61ZAewlNWnHqVkCIDYS0YulWQJMRuw5U6FZAnxXyaEXnVkCqGSnDNuZWQLYdYB0o5VZAwSGXdxnkVkDOJc7RCuNWQNopBSz84VZA5S08hu3gVkDxMXPg3t9WQPw1qjrQ3lZACDrhlMHdVkATPhjvstxWQCBCT0mk21ZALEaGo5XaVkA3Sr39htlWQENO9Fd42FZATlIrsmnXVkA=\"},\"shape\":[181],\"dtype\":\"float64\",\"order\":\"little\"}]]}}},\"view\":{\"type\":\"object\",\"name\":\"CDSView\",\"id\":\"p1415\",\"attributes\":{\"filter\":{\"type\":\"object\",\"name\":\"AllIndices\",\"id\":\"p1416\"}}},\"glyph\":{\"type\":\"object\",\"name\":\"Line\",\"id\":\"p1411\",\"attributes\":{\"tags\":[\"apply_ranges\"],\"x\":{\"type\":\"field\",\"field\":\"ds\"},\"y\":{\"type\":\"field\",\"field\":\"yhat\"},\"line_color\":\"orange\",\"line_width\":2}},\"selection_glyph\":{\"type\":\"object\",\"name\":\"Line\",\"id\":\"p1418\",\"attributes\":{\"tags\":[\"apply_ranges\"],\"x\":{\"type\":\"field\",\"field\":\"ds\"},\"y\":{\"type\":\"field\",\"field\":\"yhat\"},\"line_color\":\"orange\",\"line_width\":2}},\"nonselection_glyph\":{\"type\":\"object\",\"name\":\"Line\",\"id\":\"p1412\",\"attributes\":{\"tags\":[\"apply_ranges\"],\"x\":{\"type\":\"field\",\"field\":\"ds\"},\"y\":{\"type\":\"field\",\"field\":\"yhat\"},\"line_color\":\"orange\",\"line_alpha\":0.1,\"line_width\":2}},\"muted_glyph\":{\"type\":\"object\",\"name\":\"Line\",\"id\":\"p1413\",\"attributes\":{\"tags\":[\"apply_ranges\"],\"x\":{\"type\":\"field\",\"field\":\"ds\"},\"y\":{\"type\":\"field\",\"field\":\"yhat\"},\"line_color\":\"orange\",\"line_alpha\":0.2,\"line_width\":2}}}},{\"type\":\"object\",\"name\":\"GlyphRenderer\",\"id\":\"p1428\",\"attributes\":{\"name\":\"Uncertainty Interval\",\"data_source\":{\"type\":\"object\",\"name\":\"ColumnDataSource\",\"id\":\"p1419\",\"attributes\":{\"selected\":{\"type\":\"object\",\"name\":\"Selection\",\"id\":\"p1420\",\"attributes\":{\"indices\":[],\"line_indices\":[]}},\"selection_policy\":{\"type\":\"object\",\"name\":\"UnionRenderers\",\"id\":\"p1421\"},\"data\":{\"type\":\"map\",\"entries\":[[\"x\",{\"type\":\"ndarray\",\"array\":{\"type\":\"bytes\",\"data\":\"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\"},\"shape\":[362],\"dtype\":\"float64\",\"order\":\"little\"}],[\"y\",{\"type\":\"ndarray\",\"array\":{\"type\":\"bytes\",\"data\":\"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\"},\"shape\":[362],\"dtype\":\"float64\",\"order\":\"little\"}]]}}},\"view\":{\"type\":\"object\",\"name\":\"CDSView\",\"id\":\"p1429\",\"attributes\":{\"filter\":{\"type\":\"object\",\"name\":\"AllIndices\",\"id\":\"p1430\"}}},\"glyph\":{\"type\":\"object\",\"name\":\"Patch\",\"id\":\"p1425\",\"attributes\":{\"tags\":[\"apply_ranges\"],\"x\":{\"type\":\"field\",\"field\":\"x\"},\"y\":{\"type\":\"field\",\"field\":\"y\"},\"line_alpha\":0.3,\"fill_color\":\"orange\",\"fill_alpha\":0.3,\"hatch_color\":\"orange\",\"hatch_alpha\":0.3}},\"selection_glyph\":{\"type\":\"object\",\"name\":\"Patch\",\"id\":\"p1432\",\"attributes\":{\"tags\":[\"apply_ranges\"],\"x\":{\"type\":\"field\",\"field\":\"x\"},\"y\":{\"type\":\"field\",\"field\":\"y\"},\"line_alpha\":0.3,\"fill_color\":\"orange\",\"fill_alpha\":0.3,\"hatch_color\":\"orange\",\"hatch_alpha\":0.3}},\"nonselection_glyph\":{\"type\":\"object\",\"name\":\"Patch\",\"id\":\"p1426\",\"attributes\":{\"tags\":[\"apply_ranges\"],\"x\":{\"type\":\"field\",\"field\":\"x\"},\"y\":{\"type\":\"field\",\"field\":\"y\"},\"line_alpha\":0.3,\"fill_color\":\"orange\",\"fill_alpha\":0.3,\"hatch_color\":\"orange\",\"hatch_alpha\":0.1}},\"muted_glyph\":{\"type\":\"object\",\"name\":\"Patch\",\"id\":\"p1427\",\"attributes\":{\"tags\":[\"apply_ranges\"],\"x\":{\"type\":\"field\",\"field\":\"x\"},\"y\":{\"type\":\"field\",\"field\":\"y\"},\"line_alpha\":0.2,\"fill_color\":\"orange\",\"fill_alpha\":0.2,\"hatch_color\":\"orange\",\"hatch_alpha\":0.2}}}}],\"toolbar\":{\"type\":\"object\",\"name\":\"Toolbar\",\"id\":\"p1356\",\"attributes\":{\"tools\":[{\"type\":\"object\",\"name\":\"WheelZoomTool\",\"id\":\"p1339\",\"attributes\":{\"tags\":[\"hv_created\"],\"renderers\":\"auto\",\"zoom_together\":\"none\"}},{\"type\":\"object\",\"name\":\"HoverTool\",\"id\":\"p1340\",\"attributes\":{\"tags\":[\"hv_created\"],\"renderers\":[{\"id\":\"p1399\"}],\"tooltips\":[[\"ds\",\"@{ds}{%F %T}\"],[\"actual_fraud_count\",\"@{actual_fraud_count}\"]],\"formatters\":{\"type\":\"map\",\"entries\":[[\"@{ds}\",\"datetime\"]]}}},{\"type\":\"object\",\"name\":\"HoverTool\",\"id\":\"p1343\",\"attributes\":{\"tags\":[\"hv_created\"],\"renderers\":[{\"id\":\"p1414\"}],\"tooltips\":[[\"ds\",\"@{ds}{%F %T}\"],[\"yhat\",\"@{yhat}\"]],\"formatters\":{\"type\":\"map\",\"entries\":[[\"@{ds}\",\"datetime\"]]}}},{\"type\":\"object\",\"name\":\"HoverTool\",\"id\":\"p1346\",\"attributes\":{\"tags\":[\"hv_created\"],\"renderers\":[{\"id\":\"p1428\"}],\"tooltips\":[[\"ds\",\"@{ds}\"],[\"yhat_lower\",\"@{yhat_lower}\"],[\"yhat_upper\",\"@{yhat_upper}\"]],\"formatters\":{\"type\":\"map\",\"entries\":[[\"@{x}\",\"datetime\"]]}}},{\"type\":\"object\",\"name\":\"SaveTool\",\"id\":\"p1381\"},{\"type\":\"object\",\"name\":\"PanTool\",\"id\":\"p1382\"},{\"type\":\"object\",\"name\":\"BoxZoomTool\",\"id\":\"p1383\",\"attributes\":{\"overlay\":{\"type\":\"object\",\"name\":\"BoxAnnotation\",\"id\":\"p1384\",\"attributes\":{\"syncable\":false,\"level\":\"overlay\",\"visible\":false,\"left\":{\"type\":\"number\",\"value\":\"nan\"},\"right\":{\"type\":\"number\",\"value\":\"nan\"},\"top\":{\"type\":\"number\",\"value\":\"nan\"},\"bottom\":{\"type\":\"number\",\"value\":\"nan\"},\"left_units\":\"canvas\",\"right_units\":\"canvas\",\"top_units\":\"canvas\",\"bottom_units\":\"canvas\",\"line_color\":\"black\",\"line_alpha\":1.0,\"line_width\":2,\"line_dash\":[4,4],\"fill_color\":\"lightgrey\",\"fill_alpha\":0.5}}}},{\"type\":\"object\",\"name\":\"ResetTool\",\"id\":\"p1389\"}],\"active_drag\":{\"id\":\"p1382\"},\"active_scroll\":{\"id\":\"p1339\"}}},\"left\":[{\"type\":\"object\",\"name\":\"LinearAxis\",\"id\":\"p1376\",\"attributes\":{\"ticker\":{\"type\":\"object\",\"name\":\"BasicTicker\",\"id\":\"p1377\",\"attributes\":{\"mantissas\":[1,2,5]}},\"formatter\":{\"type\":\"object\",\"name\":\"BasicTickFormatter\",\"id\":\"p1378\"},\"axis_label\":\"Number of Fraud Charges\",\"major_label_policy\":{\"type\":\"object\",\"name\":\"AllLabels\",\"id\":\"p1379\"}}}],\"below\":[{\"type\":\"object\",\"name\":\"DatetimeAxis\",\"id\":\"p1359\",\"attributes\":{\"ticker\":{\"type\":\"object\",\"name\":\"DatetimeTicker\",\"id\":\"p1360\",\"attributes\":{\"num_minor_ticks\":5,\"tickers\":[{\"type\":\"object\",\"name\":\"AdaptiveTicker\",\"id\":\"p1361\",\"attributes\":{\"num_minor_ticks\":0,\"mantissas\":[1,2,5],\"max_interval\":500.0}},{\"type\":\"object\",\"name\":\"AdaptiveTicker\",\"id\":\"p1362\",\"attributes\":{\"num_minor_ticks\":0,\"base\":60,\"mantissas\":[1,2,5,10,15,20,30],\"min_interval\":1000.0,\"max_interval\":1800000.0}},{\"type\":\"object\",\"name\":\"AdaptiveTicker\",\"id\":\"p1363\",\"attributes\":{\"num_minor_ticks\":0,\"base\":24,\"mantissas\":[1,2,4,6,8,12],\"min_interval\":3600000.0,\"max_interval\":43200000.0}},{\"type\":\"object\",\"name\":\"DaysTicker\",\"id\":\"p1364\",\"attributes\":{\"days\":[1,2,3,4,5,6,7,8,9,10,11,12,13,14,15,16,17,18,19,20,21,22,23,24,25,26,27,28,29,30,31]}},{\"type\":\"object\",\"name\":\"DaysTicker\",\"id\":\"p1365\",\"attributes\":{\"days\":[1,4,7,10,13,16,19,22,25,28]}},{\"type\":\"object\",\"name\":\"DaysTicker\",\"id\":\"p1366\",\"attributes\":{\"days\":[1,8,15,22]}},{\"type\":\"object\",\"name\":\"DaysTicker\",\"id\":\"p1367\",\"attributes\":{\"days\":[1,15]}},{\"type\":\"object\",\"name\":\"MonthsTicker\",\"id\":\"p1368\",\"attributes\":{\"months\":[0,1,2,3,4,5,6,7,8,9,10,11]}},{\"type\":\"object\",\"name\":\"MonthsTicker\",\"id\":\"p1369\",\"attributes\":{\"months\":[0,2,4,6,8,10]}},{\"type\":\"object\",\"name\":\"MonthsTicker\",\"id\":\"p1370\",\"attributes\":{\"months\":[0,4,8]}},{\"type\":\"object\",\"name\":\"MonthsTicker\",\"id\":\"p1371\",\"attributes\":{\"months\":[0,6]}},{\"type\":\"object\",\"name\":\"YearsTicker\",\"id\":\"p1372\"}]}},\"formatter\":{\"type\":\"object\",\"name\":\"DatetimeTickFormatter\",\"id\":\"p1373\"},\"axis_label\":\"Date\",\"major_label_policy\":{\"type\":\"object\",\"name\":\"AllLabels\",\"id\":\"p1374\"}}}],\"center\":[{\"type\":\"object\",\"name\":\"Grid\",\"id\":\"p1375\",\"attributes\":{\"axis\":{\"id\":\"p1359\"},\"grid_line_color\":null}},{\"type\":\"object\",\"name\":\"Grid\",\"id\":\"p1380\",\"attributes\":{\"dimension\":1,\"axis\":{\"id\":\"p1376\"},\"grid_line_color\":null}},{\"type\":\"object\",\"name\":\"Legend\",\"id\":\"p1402\",\"attributes\":{\"location\":\"top_left\",\"click_policy\":\"mute\",\"items\":[{\"type\":\"object\",\"name\":\"LegendItem\",\"id\":\"p1403\",\"attributes\":{\"label\":{\"type\":\"value\",\"value\":\"Actual Fraud Charges\"},\"renderers\":[{\"id\":\"p1399\"}]}},{\"type\":\"object\",\"name\":\"LegendItem\",\"id\":\"p1417\",\"attributes\":{\"label\":{\"type\":\"value\",\"value\":\"Forecasted Fraud Charges\"},\"renderers\":[{\"id\":\"p1414\"}]}},{\"type\":\"object\",\"name\":\"LegendItem\",\"id\":\"p1431\",\"attributes\":{\"label\":{\"type\":\"value\",\"value\":\"Uncertainty Interval\"},\"renderers\":[{\"id\":\"p1428\"}]}}]}}],\"min_border_top\":10,\"min_border_bottom\":10,\"min_border_left\":10,\"min_border_right\":10,\"output_backend\":\"webgl\"}},{\"type\":\"object\",\"name\":\"Spacer\",\"id\":\"p1434\",\"attributes\":{\"name\":\"HSpacer02071\",\"stylesheets\":[\"\\n:host(.pn-loading):before, .pn-loading:before {\\n  background-color: #c3c3c3;\\n  mask-size: auto calc(min(50%, 400px));\\n  -webkit-mask-size: auto calc(min(50%, 400px));\\n}\",{\"id\":\"p1332\"},{\"id\":\"p1330\"},{\"id\":\"p1331\"}],\"margin\":0,\"sizing_mode\":\"stretch_width\",\"align\":\"start\"}}]}}],\"defs\":[{\"type\":\"model\",\"name\":\"ReactiveHTML1\"},{\"type\":\"model\",\"name\":\"FlexBox1\",\"properties\":[{\"name\":\"align_content\",\"kind\":\"Any\",\"default\":\"flex-start\"},{\"name\":\"align_items\",\"kind\":\"Any\",\"default\":\"flex-start\"},{\"name\":\"flex_direction\",\"kind\":\"Any\",\"default\":\"row\"},{\"name\":\"flex_wrap\",\"kind\":\"Any\",\"default\":\"wrap\"},{\"name\":\"gap\",\"kind\":\"Any\",\"default\":\"\"},{\"name\":\"justify_content\",\"kind\":\"Any\",\"default\":\"flex-start\"}]},{\"type\":\"model\",\"name\":\"FloatPanel1\",\"properties\":[{\"name\":\"config\",\"kind\":\"Any\",\"default\":{\"type\":\"map\"}},{\"name\":\"contained\",\"kind\":\"Any\",\"default\":true},{\"name\":\"position\",\"kind\":\"Any\",\"default\":\"right-top\"},{\"name\":\"offsetx\",\"kind\":\"Any\",\"default\":null},{\"name\":\"offsety\",\"kind\":\"Any\",\"default\":null},{\"name\":\"theme\",\"kind\":\"Any\",\"default\":\"primary\"},{\"name\":\"status\",\"kind\":\"Any\",\"default\":\"normalized\"}]},{\"type\":\"model\",\"name\":\"GridStack1\",\"properties\":[{\"name\":\"mode\",\"kind\":\"Any\",\"default\":\"warn\"},{\"name\":\"ncols\",\"kind\":\"Any\",\"default\":null},{\"name\":\"nrows\",\"kind\":\"Any\",\"default\":null},{\"name\":\"allow_resize\",\"kind\":\"Any\",\"default\":true},{\"name\":\"allow_drag\",\"kind\":\"Any\",\"default\":true},{\"name\":\"state\",\"kind\":\"Any\",\"default\":[]}]},{\"type\":\"model\",\"name\":\"drag1\",\"properties\":[{\"name\":\"slider_width\",\"kind\":\"Any\",\"default\":5},{\"name\":\"slider_color\",\"kind\":\"Any\",\"default\":\"black\"},{\"name\":\"value\",\"kind\":\"Any\",\"default\":50}]},{\"type\":\"model\",\"name\":\"click1\",\"properties\":[{\"name\":\"terminal_output\",\"kind\":\"Any\",\"default\":\"\"},{\"name\":\"debug_name\",\"kind\":\"Any\",\"default\":\"\"},{\"name\":\"clears\",\"kind\":\"Any\",\"default\":0}]},{\"type\":\"model\",\"name\":\"FastWrapper1\",\"properties\":[{\"name\":\"object\",\"kind\":\"Any\",\"default\":null},{\"name\":\"style\",\"kind\":\"Any\",\"default\":null}]},{\"type\":\"model\",\"name\":\"NotificationAreaBase1\",\"properties\":[{\"name\":\"js_events\",\"kind\":\"Any\",\"default\":{\"type\":\"map\"}},{\"name\":\"position\",\"kind\":\"Any\",\"default\":\"bottom-right\"},{\"name\":\"_clear\",\"kind\":\"Any\",\"default\":0}]},{\"type\":\"model\",\"name\":\"NotificationArea1\",\"properties\":[{\"name\":\"js_events\",\"kind\":\"Any\",\"default\":{\"type\":\"map\"}},{\"name\":\"notifications\",\"kind\":\"Any\",\"default\":[]},{\"name\":\"position\",\"kind\":\"Any\",\"default\":\"bottom-right\"},{\"name\":\"_clear\",\"kind\":\"Any\",\"default\":0},{\"name\":\"types\",\"kind\":\"Any\",\"default\":[{\"type\":\"map\",\"entries\":[[\"type\",\"warning\"],[\"background\",\"#ffc107\"],[\"icon\",{\"type\":\"map\",\"entries\":[[\"className\",\"fas fa-exclamation-triangle\"],[\"tagName\",\"i\"],[\"color\",\"white\"]]}]]},{\"type\":\"map\",\"entries\":[[\"type\",\"info\"],[\"background\",\"#007bff\"],[\"icon\",{\"type\":\"map\",\"entries\":[[\"className\",\"fas fa-info-circle\"],[\"tagName\",\"i\"],[\"color\",\"white\"]]}]]}]}]},{\"type\":\"model\",\"name\":\"Notification\",\"properties\":[{\"name\":\"background\",\"kind\":\"Any\",\"default\":null},{\"name\":\"duration\",\"kind\":\"Any\",\"default\":3000},{\"name\":\"icon\",\"kind\":\"Any\",\"default\":null},{\"name\":\"message\",\"kind\":\"Any\",\"default\":\"\"},{\"name\":\"notification_type\",\"kind\":\"Any\",\"default\":null},{\"name\":\"_destroyed\",\"kind\":\"Any\",\"default\":false}]},{\"type\":\"model\",\"name\":\"TemplateActions1\",\"properties\":[{\"name\":\"open_modal\",\"kind\":\"Any\",\"default\":0},{\"name\":\"close_modal\",\"kind\":\"Any\",\"default\":0}]},{\"type\":\"model\",\"name\":\"BootstrapTemplateActions1\",\"properties\":[{\"name\":\"open_modal\",\"kind\":\"Any\",\"default\":0},{\"name\":\"close_modal\",\"kind\":\"Any\",\"default\":0}]},{\"type\":\"model\",\"name\":\"TemplateEditor1\",\"properties\":[{\"name\":\"layout\",\"kind\":\"Any\",\"default\":[]}]},{\"type\":\"model\",\"name\":\"MaterialTemplateActions1\",\"properties\":[{\"name\":\"open_modal\",\"kind\":\"Any\",\"default\":0},{\"name\":\"close_modal\",\"kind\":\"Any\",\"default\":0}]},{\"type\":\"model\",\"name\":\"copy_to_clipboard1\",\"properties\":[{\"name\":\"fill\",\"kind\":\"Any\",\"default\":\"none\"},{\"name\":\"value\",\"kind\":\"Any\",\"default\":null}]}]}};\n",
       "  var render_items = [{\"docid\":\"527dcdf9-1c99-4fce-9f38-1d11aaad3af3\",\"roots\":{\"p1329\":\"b06ae039-724b-4dd1-96f1-b54e94c3940b\"},\"root_ids\":[\"p1329\"]}];\n",
       "  var docs = Object.values(docs_json)\n",
       "  if (!docs) {\n",
       "    return\n",
       "  }\n",
       "  const py_version = docs[0].version.replace('rc', '-rc.').replace('.dev', '-dev.')\n",
       "  async function embed_document(root) {\n",
       "    var Bokeh = get_bokeh(root)\n",
       "    await Bokeh.embed.embed_items_notebook(docs_json, render_items);\n",
       "    for (const render_item of render_items) {\n",
       "      for (const root_id of render_item.root_ids) {\n",
       "\tconst id_el = document.getElementById(root_id)\n",
       "\tif (id_el.children.length && id_el.children[0].hasAttribute('data-root-id')) {\n",
       "\t  const root_el = id_el.children[0]\n",
       "\t  root_el.id = root_el.id + '-rendered'\n",
       "\t  for (const child of root_el.children) {\n",
       "            // Ensure JupyterLab does not capture keyboard shortcuts\n",
       "            // see: https://jupyterlab.readthedocs.io/en/4.1.x/extension/notebook.html#keyboard-interaction-model\n",
       "\t    child.setAttribute('data-lm-suppress-shortcuts', 'true')\n",
       "\t  }\n",
       "\t}\n",
       "      }\n",
       "    }\n",
       "  }\n",
       "  function get_bokeh(root) {\n",
       "    if (root.Bokeh === undefined) {\n",
       "      return null\n",
       "    } else if (root.Bokeh.version !== py_version) {\n",
       "      if (root.Bokeh.versions === undefined || !root.Bokeh.versions.has(py_version)) {\n",
       "\treturn null\n",
       "      }\n",
       "      return root.Bokeh.versions.get(py_version);\n",
       "    } else if (root.Bokeh.version === py_version) {\n",
       "      return root.Bokeh\n",
       "    }\n",
       "    return null\n",
       "  }\n",
       "  function is_loaded(root) {\n",
       "    var Bokeh = get_bokeh(root)\n",
       "    return (Bokeh != null && Bokeh.Panel !== undefined)\n",
       "  }\n",
       "  if (is_loaded(root)) {\n",
       "    embed_document(root);\n",
       "  } else {\n",
       "    var attempts = 0;\n",
       "    var timer = setInterval(function(root) {\n",
       "      if (is_loaded(root)) {\n",
       "        clearInterval(timer);\n",
       "        embed_document(root);\n",
       "      } else if (document.readyState == \"complete\") {\n",
       "        attempts++;\n",
       "        if (attempts > 200) {\n",
       "          clearInterval(timer);\n",
       "\t  var Bokeh = get_bokeh(root)\n",
       "\t  if (Bokeh == null || Bokeh.Panel == null) {\n",
       "            console.warn(\"Panel: ERROR: Unable to run Panel code because Bokeh or Panel library is missing\");\n",
       "\t  } else {\n",
       "\t    console.warn(\"Panel: WARNING: Attempting to render but not all required libraries could be resolved.\")\n",
       "\t    embed_document(root)\n",
       "\t  }\n",
       "        }\n",
       "      }\n",
       "    }, 25, root)\n",
       "  }\n",
       "})(window);</script>"
      ],
      "text/plain": [
       ":Overlay\n",
       "   .Curve.Actual_Fraud_Charges     :Curve   [ds]   (actual_fraud_count)\n",
       "   .Curve.Forecasted_Fraud_Charges :Curve   [ds]   (yhat)\n",
       "   .Area.Uncertainty_Interval      :Area   [ds]   (yhat_lower,yhat_upper)"
      ]
     },
     "execution_count": 26,
     "metadata": {
      "application/vnd.holoviews_exec.v0+json": {
       "id": "p1329"
      }
     },
     "output_type": "execute_result"
    }
   ],
   "source": [
    "# Ensure the 'ds' column in both DataFrames is of datetime type\n",
    "fraud_forecast_weekly['ds'] = pd.to_datetime(fraud_forecast_weekly['ds'])\n",
    "fraud_df_weekly['ds'] = pd.to_datetime(fraud_df_weekly['ds'])\n",
    "\n",
    "# Merge the actual and forecast data\n",
    "combined_df_weekly = pd.merge(\n",
    "    fraud_forecast_weekly[['ds', 'yhat', 'yhat_lower', 'yhat_upper']],\n",
    "    fraud_df_weekly[['ds', 'y']],\n",
    "    on='ds',\n",
    "    how='left'\n",
    ")\n",
    "\n",
    "# Rename the actual fraud column for clarity\n",
    "combined_df_weekly.rename(columns={'y': 'actual_fraud_count'}, inplace=True)\n",
    "\n",
    "# Plotting with hvplot\n",
    "plot_actual2 = combined_df_weekly.hvplot.line(x='ds', y='actual_fraud_count', label='Actual Fraud Charges', color='blue', line_width=2)\n",
    "plot_forecast2 = combined_df_weekly.hvplot.line(x='ds', y='yhat', label='Forecasted Fraud Charges', color='orange', line_width=2)\n",
    "plot_uncertainty2 = combined_df_weekly.hvplot.area(x='ds', y='yhat_lower', y2='yhat_upper', label='Uncertainty Interval', color='orange', alpha=0.3)\n",
    "\n",
    "# Combine all plots\n",
    "final_plot_weekly = plot_actual2 * plot_forecast2 * plot_uncertainty2\n",
    "\n",
    "# Customize plot\n",
    "final_plot_weekly.opts(\n",
    "    title='Fraud Charge Forecasting',\n",
    "    xlabel='Date',\n",
    "    ylabel='Number of Fraud Charges',\n",
    "    legend_position='top_left',\n",
    "    width=1000, \n",
    "    height=600   \n",
    ")\n",
    "\n",
    "# Show the plot\n",
    "final_plot_weekly\n"
   ]
  },
  {
   "cell_type": "code",
   "execution_count": 27,
   "metadata": {},
   "outputs": [
    {
     "data": {},
     "metadata": {},
     "output_type": "display_data"
    },
    {
     "data": {
      "application/vnd.holoviews_exec.v0+json": "",
      "text/html": [
       "<div id='p1444'>\n",
       "  <div id=\"a9cf6cb8-4029-4cbc-9aaf-35d7330a902d\" data-root-id=\"p1444\" style=\"display: contents;\"></div>\n",
       "</div>\n",
       "<script type=\"application/javascript\">(function(root) {\n",
       "  var docs_json = {\"30df21fe-bd40-424e-8e47-58dc4ca2ca17\":{\"version\":\"3.4.1\",\"title\":\"Bokeh Application\",\"roots\":[{\"type\":\"object\",\"name\":\"Row\",\"id\":\"p1444\",\"attributes\":{\"name\":\"Row02455\",\"tags\":[\"embedded\"],\"stylesheets\":[\"\\n:host(.pn-loading):before, .pn-loading:before {\\n  background-color: #c3c3c3;\\n  mask-size: auto calc(min(50%, 400px));\\n  -webkit-mask-size: auto calc(min(50%, 400px));\\n}\",{\"type\":\"object\",\"name\":\"ImportedStyleSheet\",\"id\":\"p1447\",\"attributes\":{\"url\":\"https://cdn.holoviz.org/panel/1.4.4/dist/css/loading.css\"}},{\"type\":\"object\",\"name\":\"ImportedStyleSheet\",\"id\":\"p1551\",\"attributes\":{\"url\":\"https://cdn.holoviz.org/panel/1.4.4/dist/css/listpanel.css\"}},{\"type\":\"object\",\"name\":\"ImportedStyleSheet\",\"id\":\"p1445\",\"attributes\":{\"url\":\"https://cdn.holoviz.org/panel/1.4.4/dist/bundled/theme/default.css\"}},{\"type\":\"object\",\"name\":\"ImportedStyleSheet\",\"id\":\"p1446\",\"attributes\":{\"url\":\"https://cdn.holoviz.org/panel/1.4.4/dist/bundled/theme/native.css\"}}],\"min_width\":1000,\"margin\":0,\"sizing_mode\":\"stretch_width\",\"align\":\"start\",\"children\":[{\"type\":\"object\",\"name\":\"Spacer\",\"id\":\"p1448\",\"attributes\":{\"name\":\"HSpacer02462\",\"stylesheets\":[\"\\n:host(.pn-loading):before, .pn-loading:before {\\n  background-color: #c3c3c3;\\n  mask-size: auto calc(min(50%, 400px));\\n  -webkit-mask-size: auto calc(min(50%, 400px));\\n}\",{\"id\":\"p1447\"},{\"id\":\"p1445\"},{\"id\":\"p1446\"}],\"margin\":0,\"sizing_mode\":\"stretch_width\",\"align\":\"start\"}},{\"type\":\"object\",\"name\":\"Figure\",\"id\":\"p1462\",\"attributes\":{\"width\":1000,\"margin\":[5,10],\"sizing_mode\":\"fixed\",\"align\":\"start\",\"x_range\":{\"type\":\"object\",\"name\":\"Range1d\",\"id\":\"p1449\",\"attributes\":{\"tags\":[[[\"ds\",null]],[]],\"start\":1578268800000.0,\"end\":1601769600000.0,\"reset_start\":1578268800000.0,\"reset_end\":1601769600000.0}},\"y_range\":{\"type\":\"object\",\"name\":\"Range1d\",\"id\":\"p1450\",\"attributes\":{\"tags\":[[[\"actual_fraud_count\",null]],{\"type\":\"map\",\"entries\":[[\"invert_yaxis\",false],[\"autorange\",false]]}],\"start\":22.4,\"end\":161.6,\"reset_start\":22.4,\"reset_end\":161.6}},\"x_scale\":{\"type\":\"object\",\"name\":\"LinearScale\",\"id\":\"p1472\"},\"y_scale\":{\"type\":\"object\",\"name\":\"LinearScale\",\"id\":\"p1473\"},\"title\":{\"type\":\"object\",\"name\":\"Title\",\"id\":\"p1465\",\"attributes\":{\"text\":\"Fraud Charge Forecasting (From 2020 Onwards)\",\"text_color\":\"black\",\"text_font_size\":\"12pt\"}},\"renderers\":[{\"type\":\"object\",\"name\":\"GlyphRenderer\",\"id\":\"p1514\",\"attributes\":{\"name\":\"Actual Fraud Charges\",\"data_source\":{\"type\":\"object\",\"name\":\"ColumnDataSource\",\"id\":\"p1505\",\"attributes\":{\"selected\":{\"type\":\"object\",\"name\":\"Selection\",\"id\":\"p1506\",\"attributes\":{\"indices\":[],\"line_indices\":[]}},\"selection_policy\":{\"type\":\"object\",\"name\":\"UnionRenderers\",\"id\":\"p1507\"},\"data\":{\"type\":\"map\",\"entries\":[[\"ds\",{\"type\":\"ndarray\",\"array\":{\"type\":\"bytes\",\"data\":\"AABAa4L3dkIAAIAzw/l2QgAAwPsD/HZCAAAAxET+dkIAAECMhQB3QgAAgFTGAndCAADAHAcFd0IAAADlRwd3QgAAQK2ICXdCAACAdckLd0IAAMA9Cg53QgAAAAZLEHdCAABAzosSd0IAAICWzBR3QgAAwF4NF3dCAAAAJ04Zd0IAAEDvjht3QgAAgLfPHXdCAADAfxAgd0IAAABIUSJ3QgAAQBCSJHdCAACA2NImd0IAAMCgEyl3QgAAAGlUK3dCAABAMZUtd0IAAACX5y13QgAAwPw5LndCAACAYowud0IAAEDI3i53QgAAAC4xL3dCAADAk4Mvd0IAAID51S93QgAAQF8oMHdCAAAAxXowd0IAAMAqzTB3QgAAgJAfMXdCAABA9nExd0IAAABcxDF3QgAAwMEWMndCAACAJ2kyd0IAAECNuzJ3QgAAAPMNM3dCAADAWGAzd0IAAIC+sjN3QgAAQCQFNHdCAAAAilc0d0IAAMDvqTR3QgAAgFX8NHdCAABAu041d0IAAAAhoTV3QgAAwIbzNXdCAACA7EU2d0IAAEBSmDZ3QgAAALjqNndCAADAHT03d0IAAICDjzd3QgAAQOnhN3dCAAAATzQ4d0IAAMC0hjh3QgAAgBrZOHdCAABAgCs5d0IAAADmfTl3QgAAwEvQOXdCAACAsSI6d0IAAEAXdTp3QgAAAH3HOndCAADA4hk7d0IAAIBIbDt3QgAAQK6+O3dCAAAAFBE8d0IAAMB5Yzx3QgAAgN+1PHdCAABARQg9d0IAAACrWj13QgAAwBCtPXdCAACAdv89d0IAAEDcUT53QgAAAEKkPndCAADAp/Y+d0IAAIANST93QgAAQHObP3dCAAAA2e0/d0IAAMA+QEB3QgAAgKSSQHdCAABACuVAd0IAAABwN0F3QgAAwNWJQXdCAACAO9xBd0IAAEChLkJ3QgAAAAeBQndCAADAbNNCd0IAAIDSJUN3QgAAQDh4Q3dCAAAAnspDd0IAAMADHUR3QgAAgGlvRHdCAABAz8FEd0IAAAA1FEV3QgAAwJpmRXdCAACAALlFd0IAAEBmC0Z3QgAAAMxdRndCAADAMbBGd0IAAICXAkd3QgAAQP1UR3dCAAAAY6dHd0IAAMDI+Ud3QgAAgC5MSHdCAABAlJ5Id0IAAAD68Eh3QgAAwF9DSXdCAACAxZVJd0IAAEAr6El3QgAAAJE6SndCAADA9oxKd0IAAIBc30p3QgAAQMIxS3dCAAAAKIRLd0IAAMCN1kt3QgAAgPMoTHdCAABAWXtMd0IAAAC/zUx3QgAAwCQgTXdCAACAinJNd0IAAEDwxE13QgAAAFYXTndCAADAu2lOd0IAAIAhvE53QgAAQIcOT3dC\"},\"shape\":[129],\"dtype\":\"float64\",\"order\":\"little\"}],[\"actual_fraud_count\",{\"type\":\"ndarray\",\"array\":{\"type\":\"bytes\",\"data\":\"AAAAAAAAVEAAAAAAAABaQAAAAAAAwFNAAAAAAAAAT0AAAAAAAIBZQAAAAAAAAEpAAAAAAABAUEAAAAAAAIBZQAAAAAAAgFlAAAAAAAAASkAAAAAAACBgQAAAAAAAwGJAAAAAAAAAQUAAAAAAAABTQAAAAAAAAFJAAAAAAACAVkAAAAAAAABMQAAAAAAA4GBAAAAAAADgYUAAAAAAAIBUQAAAAAAAYGBAAAAAAACAVEAAAAAAAEBcQAAAAAAAgFJAAAAAAADAYUAAAAAAAAD4fwAAAAAAAPh/AAAAAAAA+H8AAAAAAAD4fwAAAAAAAPh/AAAAAAAA+H8AAAAAAAD4fwAAAAAAAPh/AAAAAAAA+H8AAAAAAAD4fwAAAAAAAPh/AAAAAAAA+H8AAAAAAAD4fwAAAAAAAPh/AAAAAAAA+H8AAAAAAAD4fwAAAAAAAPh/AAAAAAAA+H8AAAAAAAD4fwAAAAAAAPh/AAAAAAAA+H8AAAAAAAD4fwAAAAAAAPh/AAAAAAAA+H8AAAAAAAD4fwAAAAAAAPh/AAAAAAAA+H8AAAAAAAD4fwAAAAAAAPh/AAAAAAAA+H8AAAAAAAD4fwAAAAAAAPh/AAAAAAAA+H8AAAAAAAD4fwAAAAAAAPh/AAAAAAAA+H8AAAAAAAD4fwAAAAAAAPh/AAAAAAAA+H8AAAAAAAD4fwAAAAAAAPh/AAAAAAAA+H8AAAAAAAD4fwAAAAAAAPh/AAAAAAAA+H8AAAAAAAD4fwAAAAAAAPh/AAAAAAAA+H8AAAAAAAD4fwAAAAAAAPh/AAAAAAAA+H8AAAAAAAD4fwAAAAAAAPh/AAAAAAAA+H8AAAAAAAD4fwAAAAAAAPh/AAAAAAAA+H8AAAAAAAD4fwAAAAAAAPh/AAAAAAAA+H8AAAAAAAD4fwAAAAAAAPh/AAAAAAAA+H8AAAAAAAD4fwAAAAAAAPh/AAAAAAAA+H8AAAAAAAD4fwAAAAAAAPh/AAAAAAAA+H8AAAAAAAD4fwAAAAAAAPh/AAAAAAAA+H8AAAAAAAD4fwAAAAAAAPh/AAAAAAAA+H8AAAAAAAD4fwAAAAAAAPh/AAAAAAAA+H8AAAAAAAD4fwAAAAAAAPh/AAAAAAAA+H8AAAAAAAD4fwAAAAAAAPh/AAAAAAAA+H8AAAAAAAD4fwAAAAAAAPh/AAAAAAAA+H8AAAAAAAD4fwAAAAAAAPh/AAAAAAAA+H8AAAAAAAD4fwAAAAAAAPh/AAAAAAAA+H8AAAAAAAD4fwAAAAAAAPh/AAAAAAAA+H8AAAAAAAD4fwAAAAAAAPh/AAAAAAAA+H8AAAAAAAD4fwAAAAAAAPh/AAAAAAAA+H8AAAAAAAD4fwAAAAAAAPh/\"},\"shape\":[129],\"dtype\":\"float64\",\"order\":\"little\"}]]}}},\"view\":{\"type\":\"object\",\"name\":\"CDSView\",\"id\":\"p1515\",\"attributes\":{\"filter\":{\"type\":\"object\",\"name\":\"AllIndices\",\"id\":\"p1516\"}}},\"glyph\":{\"type\":\"object\",\"name\":\"Line\",\"id\":\"p1511\",\"attributes\":{\"tags\":[\"apply_ranges\"],\"x\":{\"type\":\"field\",\"field\":\"ds\"},\"y\":{\"type\":\"field\",\"field\":\"actual_fraud_count\"},\"line_color\":\"blue\",\"line_width\":2}},\"selection_glyph\":{\"type\":\"object\",\"name\":\"Line\",\"id\":\"p1519\",\"attributes\":{\"tags\":[\"apply_ranges\"],\"x\":{\"type\":\"field\",\"field\":\"ds\"},\"y\":{\"type\":\"field\",\"field\":\"actual_fraud_count\"},\"line_color\":\"blue\",\"line_width\":2}},\"nonselection_glyph\":{\"type\":\"object\",\"name\":\"Line\",\"id\":\"p1512\",\"attributes\":{\"tags\":[\"apply_ranges\"],\"x\":{\"type\":\"field\",\"field\":\"ds\"},\"y\":{\"type\":\"field\",\"field\":\"actual_fraud_count\"},\"line_color\":\"blue\",\"line_alpha\":0.1,\"line_width\":2}},\"muted_glyph\":{\"type\":\"object\",\"name\":\"Line\",\"id\":\"p1513\",\"attributes\":{\"tags\":[\"apply_ranges\"],\"x\":{\"type\":\"field\",\"field\":\"ds\"},\"y\":{\"type\":\"field\",\"field\":\"actual_fraud_count\"},\"line_color\":\"blue\",\"line_alpha\":0.2,\"line_width\":2}}}},{\"type\":\"object\",\"name\":\"GlyphRenderer\",\"id\":\"p1529\",\"attributes\":{\"name\":\"Forecasted Fraud Charges\",\"data_source\":{\"type\":\"object\",\"name\":\"ColumnDataSource\",\"id\":\"p1520\",\"attributes\":{\"selected\":{\"type\":\"object\",\"name\":\"Selection\",\"id\":\"p1521\",\"attributes\":{\"indices\":[],\"line_indices\":[]}},\"selection_policy\":{\"type\":\"object\",\"name\":\"UnionRenderers\",\"id\":\"p1522\"},\"data\":{\"type\":\"map\",\"entries\":[[\"ds\",{\"type\":\"ndarray\",\"array\":{\"type\":\"bytes\",\"data\":\"AABAa4L3dkIAAIAzw/l2QgAAwPsD/HZCAAAAxET+dkIAAECMhQB3QgAAgFTGAndCAADAHAcFd0IAAADlRwd3QgAAQK2ICXdCAACAdckLd0IAAMA9Cg53QgAAAAZLEHdCAABAzosSd0IAAICWzBR3QgAAwF4NF3dCAAAAJ04Zd0IAAEDvjht3QgAAgLfPHXdCAADAfxAgd0IAAABIUSJ3QgAAQBCSJHdCAACA2NImd0IAAMCgEyl3QgAAAGlUK3dCAABAMZUtd0IAAACX5y13QgAAwPw5LndCAACAYowud0IAAEDI3i53QgAAAC4xL3dCAADAk4Mvd0IAAID51S93QgAAQF8oMHdCAAAAxXowd0IAAMAqzTB3QgAAgJAfMXdCAABA9nExd0IAAABcxDF3QgAAwMEWMndCAACAJ2kyd0IAAECNuzJ3QgAAAPMNM3dCAADAWGAzd0IAAIC+sjN3QgAAQCQFNHdCAAAAilc0d0IAAMDvqTR3QgAAgFX8NHdCAABAu041d0IAAAAhoTV3QgAAwIbzNXdCAACA7EU2d0IAAEBSmDZ3QgAAALjqNndCAADAHT03d0IAAICDjzd3QgAAQOnhN3dCAAAATzQ4d0IAAMC0hjh3QgAAgBrZOHdCAABAgCs5d0IAAADmfTl3QgAAwEvQOXdCAACAsSI6d0IAAEAXdTp3QgAAAH3HOndCAADA4hk7d0IAAIBIbDt3QgAAQK6+O3dCAAAAFBE8d0IAAMB5Yzx3QgAAgN+1PHdCAABARQg9d0IAAACrWj13QgAAwBCtPXdCAACAdv89d0IAAEDcUT53QgAAAEKkPndCAADAp/Y+d0IAAIANST93QgAAQHObP3dCAAAA2e0/d0IAAMA+QEB3QgAAgKSSQHdCAABACuVAd0IAAABwN0F3QgAAwNWJQXdCAACAO9xBd0IAAEChLkJ3QgAAAAeBQndCAADAbNNCd0IAAIDSJUN3QgAAQDh4Q3dCAAAAnspDd0IAAMADHUR3QgAAgGlvRHdCAABAz8FEd0IAAAA1FEV3QgAAwJpmRXdCAACAALlFd0IAAEBmC0Z3QgAAAMxdRndCAADAMbBGd0IAAICXAkd3QgAAQP1UR3dCAAAAY6dHd0IAAMDI+Ud3QgAAgC5MSHdCAABAlJ5Id0IAAAD68Eh3QgAAwF9DSXdCAACAxZVJd0IAAEAr6El3QgAAAJE6SndCAADA9oxKd0IAAIBc30p3QgAAQMIxS3dCAAAAKIRLd0IAAMCN1kt3QgAAgPMoTHdCAABAWXtMd0IAAAC/zUx3QgAAwCQgTXdCAACAinJNd0IAAEDwxE13QgAAAFYXTndCAADAu2lOd0IAAIAhvE53QgAAQIcOT3dC\"},\"shape\":[129],\"dtype\":\"float64\",\"order\":\"little\"}],[\"yhat\",{\"type\":\"ndarray\",\"array\":{\"type\":\"bytes\",\"data\":\"fcu11/n2V0ABCTdPk+9XQC7xt8Ys6FdAXNk4PsbgV0CDAbq1X9lXQKspOy350VdA1VG8pJLKV0AgHT4cLMNXQGzov5PFu1dAvgRBC1+0V0AQIcKC+KxXQGI9Q/qRpVdAtFnEcSueV0AGdkXpxJZXQFiSxmBej1dAqq5H2PeHV0D7yshPkYBXQE3nSccqeVdAnwPLPsRxV0DxH0y2XWpXQEM8zS33YldAlVhOpZBbV0DodM8cKlRXQDqRUJTDTFdAjK3RC11FV0CYsQhmTkRXQKO1P8A/Q1dAr7l2GjFCV0C6va10IkFXQMbB5M4TQFdA08UbKQU/V0DeyVKD9j1XQOrNid3nPFdA9dHAN9k7V0AB1veRyjpXQAzaLuy7OVdAGN5lRq04V0Al4pygnjdXQDDm0/qPNldAPOoKVYE1V0BH7kGvcjRXQFPyeAlkM1dAXvavY1UyV0Bq+ua9RjFXQHf+HRg4MFdAggJVcikvV0COBozMGi5XQJkKwyYMLVdApQ76gP0rV0CwEjHb7ipXQL0WaDXgKVdAyRqfj9EoV0DUHtbpwidXQOAiDUS0JldA6yZEnqUlV0D3Knv4liRXQAIvslKII1dADzPprHkiV0AbNyAHayFXQCY7V2FcIFdAMj+Ou00fV0A9Q8UVPx5XQElH/G8wHVdAVUszyiEcV0BhT2okExtXQG1ToX4EGldAeFfY2PUYV0CEWw8z5xdXQI9fRo3YFldAm2N958kVV0CmZ7RBuxRXQLNr65usE1dAvm8i9p0SV0DKc1lQjxFXQNZ3kKqAEFdA4XvHBHIPV0Dtf/5eYw5XQPmDNblUDVdABYhsE0YMV0AQjKNtNwtXQByQ2scoCldAKJQRIhoJV0AzmEh8CwhXQD+cf9b8BldAS6C2MO4FV0BXpO2K3wRXQGKoJOXQA1dAbqxbP8ICV0B5sJKZswFXQIW0yfOkAFdAkrgATpb/VkCdvDeoh/5WQKnAbgJ5/VZAtMSlXGr8VkDAyNy2W/tWQMvMExFN+lZA19BKaz75VkDi1IHFL/hWQO/YuB8h91ZA+9zveRL2VkAG4SbUA/VWQBLlXS7181ZAHemUiObyVkAp7cvi1/FWQDbxAj3J8FZAQfU5l7rvVkBN+XDxq+5WQFj9p0ud7VZAZAHfpY7sVkBvBRYAgOtWQHsJTVpx6lZAiA2EtGLpVkCTEbsOVOhWQJ8V8mhF51ZAqhkpwzbmVkC2HWAdKOVWQMEhl3cZ5FZAziXO0QrjVkDaKQUs/OFWQOUtPIbt4FZA8TFz4N7fVkD8Nao60N5WQAg64ZTB3VZAEz4Y77LcVkAgQk9JpNtWQCxGhqOV2lZAN0q9/YbZVkBDTvRXeNhWQE5SK7Jp11ZA\"},\"shape\":[129],\"dtype\":\"float64\",\"order\":\"little\"}]]}}},\"view\":{\"type\":\"object\",\"name\":\"CDSView\",\"id\":\"p1530\",\"attributes\":{\"filter\":{\"type\":\"object\",\"name\":\"AllIndices\",\"id\":\"p1531\"}}},\"glyph\":{\"type\":\"object\",\"name\":\"Line\",\"id\":\"p1526\",\"attributes\":{\"tags\":[\"apply_ranges\"],\"x\":{\"type\":\"field\",\"field\":\"ds\"},\"y\":{\"type\":\"field\",\"field\":\"yhat\"},\"line_color\":\"orange\",\"line_width\":2}},\"selection_glyph\":{\"type\":\"object\",\"name\":\"Line\",\"id\":\"p1533\",\"attributes\":{\"tags\":[\"apply_ranges\"],\"x\":{\"type\":\"field\",\"field\":\"ds\"},\"y\":{\"type\":\"field\",\"field\":\"yhat\"},\"line_color\":\"orange\",\"line_width\":2}},\"nonselection_glyph\":{\"type\":\"object\",\"name\":\"Line\",\"id\":\"p1527\",\"attributes\":{\"tags\":[\"apply_ranges\"],\"x\":{\"type\":\"field\",\"field\":\"ds\"},\"y\":{\"type\":\"field\",\"field\":\"yhat\"},\"line_color\":\"orange\",\"line_alpha\":0.1,\"line_width\":2}},\"muted_glyph\":{\"type\":\"object\",\"name\":\"Line\",\"id\":\"p1528\",\"attributes\":{\"tags\":[\"apply_ranges\"],\"x\":{\"type\":\"field\",\"field\":\"ds\"},\"y\":{\"type\":\"field\",\"field\":\"yhat\"},\"line_color\":\"orange\",\"line_alpha\":0.2,\"line_width\":2}}}},{\"type\":\"object\",\"name\":\"GlyphRenderer\",\"id\":\"p1543\",\"attributes\":{\"name\":\"Uncertainty Interval\",\"data_source\":{\"type\":\"object\",\"name\":\"ColumnDataSource\",\"id\":\"p1534\",\"attributes\":{\"selected\":{\"type\":\"object\",\"name\":\"Selection\",\"id\":\"p1535\",\"attributes\":{\"indices\":[],\"line_indices\":[]}},\"selection_policy\":{\"type\":\"object\",\"name\":\"UnionRenderers\",\"id\":\"p1536\"},\"data\":{\"type\":\"map\",\"entries\":[[\"x\",{\"type\":\"ndarray\",\"array\":{\"type\":\"bytes\",\"data\":\"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\"},\"shape\":[258],\"dtype\":\"float64\",\"order\":\"little\"}],[\"y\",{\"type\":\"ndarray\",\"array\":{\"type\":\"bytes\",\"data\":\"7yQ6BpkoYUC8XTlgBexgQN7cnu9uWmFA2UNYru1VYUBRSER5q/5gQLZKqcaeaWFASaKuBs71YEBe47+KcudgQLFQ5wLXGmFAaAbaKbVeYUCjjJo67/NgQN/pDT2lEmFA9XCsNuoGYUBqnDkp5f5gQIFIopPOH2FApbnmCoUfYUDAUV8gbvRgQH9DVosI7GBAeCN70gMsYUAZ0gdWIexgQGYIOX0e6GBAkJT3rfbDYEBqD7z7+MBgQI59Iehi9WBA9yXj4TynYEBZ/et+sMJgQO/BT0g8lGBAttccW/GLYEClc60XTrNgQLcMtZAG2GBAa2D4MzW7YEAcrqgUpv9gQJNNoq1jcmBAN/HwqnHdYEBc2tDocapgQFOA4A93GmFAY7qR9oTRYEBZ/UGlwO1gQKhoxP3z62BAyvUMAt7TYEBLe628yptgQK/5Q6Ff4WBAOtnj4lTgYEDDU/mwigNhQOTGLFUQEGFA4f0n25SiYEBJ+DCdNcJgQCpI12JG9mBA2immzGq7YEAThb7/r5VgQEM3pixZ3GBAz4OAwUHPYEAxkOZNUc9gQM20IroxhGBAezwaEdfQYECn8X7h05dgQCD+lQdU2GBAZp5OjLTuYECQiHcQHZxgQM5dNX2EfGBAEB4Cv4uuYEDcslbEhcBgQOoyOtEhzGBArVg0mxAWYUBQKm0UdZtgQDtj6vLrsGBAxiwQ9Or1YECm+abbbglhQN2wRTWJVmBA9D+qyH+qYEAOF2xloEZhQDcL7EhermBAxsIZ+1duYEBl0kKW7O1gQI9y0C0fcWBAwSAI6WqzYEAusRJExKVgQLkJDTILxWBAyA4/1pPbYEBQM1E1O71gQL8gkVSHy2BA8biY4cueYEBjohsJV7RgQOUtlq2y2mBABjG6cf3KYEDmJPqi76NgQHOY7xYlrGBAkWhVqhn/YECbZz2E6OJgQHNOPuf7yGBAIIQvJQ0QYUA3IqJfypVgQJq0Ip7faGBASOYUQbgIYUB6jCcBe5lgQChFCtEZ2WBAWnHmk0bRYECYxvq8rEpgQNtqP8Z6SGFAesEVIT7HYEA4DzljZaNgQK9r3GtVhGBAe1MqwNjdYED2MS7D5LBgQOHosBE/6WBAh5WU4Bd5YEDsF4tzy85gQPaJYj6EJmFAs4Sox991YECgpbMM1hBhQAM8JwPoiWBA9tHMaa9jYED4clNFPZlgQIGqec8+tWBAmzXbBLL9YEBa3owZB8dgQL8x6qZv1WBARR1ZSnzwYEAQVBu8F8pgQKoROErVxWBATNJZcrypYEB45bHz48JgQHpwZx2kfmBAHcWPtXW5YEDpPkAXKHtgQHwLz4OED2FAZSSxssp2YEAcZocdZN5gQAjk8/DbBmFAmQdMZncTSUBReXCaKrBIQOVjaokgikhA5ErfNkNrR0BGbANJ6vJHQAUOopuivklA6+azz5BcSEA0ketHhX9JQN50YNdTkEhAwQ3Wki7QSUAgtSyZwShJQPAvb6UwrUhAxM381RTASEBKD+xs5XRIQPDesKXDY0pAA5INn9tISkDV89eA4WlKQO/JrH+N4UdA8+rDANqKSUDWJ/lO48ZIQOBo5JQHy0hA1gQuXglaSUCc+77YE6pIQP+AO04jlEhAKZP8KoQISUBRMQpItEhIQCPv6lW/t0dA6Wfs4+u4SECsZItPIxNJQH7OMXZEvkhA1GxUAJQdSUC7LgCF3blJQAwWsea6QUhAa6cugbWPSEDCWoLXqyxHQKj6Bk6XDUhAsyKMWwGaR0CTroRc3rVIQAc16vC7jElANeC4v7T7SEBMbGSiijdKQMamJNg8pUdACtmom8z4R0BwFb84tkVIQIDsScWRTklAF7KxBgBbSECmroe/4OFIQFQn8lLq5EhAJ+BaVRwgSUAK7PQCFKZIQJ87VxFGVElAttMRuE9JSkA3WkxYQE1JQGbBnEaIqUhAhU+pEMquSUACBo5Q8L1KQMdTM6aUjUhAjbCxz972SED+FRRIclVJQDZNRz+5uEpAuczywSjyR0DmODua8KJIQJHBVMEmEElAqwKxXXq/SUApPC93xglJQPcYXowRsklA/9gJ6ukeSEAir7kAODtJQLFRMPd9V0lAdhglKtp3SUDTJKw7JdxJQJpH/9f8wEhAYT9jX3eOSUDMiDhNCYhHQCuSqAjDDEhAkuzJk9kHSUDM8Ih+Z5NIQP9RbnLYKElAL8+iWfTWSEB8XxTQPxxLQHXf/ngdWklAQjdMYCGySUBvb8o3HFtJQC+RX3aR/UhAZ4CADkvvSECyNCGXOCxKQDpoDugwYklADtnr7TmxR0Addt0y2zFKQNTuk1obBUpAFbLQ6+gKSkBRWL77ge1KQG6KIC5LwUpATTU54qB0SUDNwbnuO89IQH7r72P8V0lA3/VDuaFzSEBzIzLCMe1JQPE+Or1qVklA06FCfH6gSUCC5nEDYkhKQE/ZQSw0bElAP3wGGMUoSUBCp0aK4k1HQBrZWfgl9ElAMtW/dBw4SEDb55cCcWJKQDibJoEkEEtAJL7+h3KgS0Dhr3KdLrJJQLzOJjyIzklAoTSjmj7VSUBAHfH4v/5JQJdEyTsHXktApdfu6Q3OSUCbqJHqfOZIQKUx20Fx/EpAOats/rs4SkANgaKDMG1KQHmLLrI12UhA5YgsNhkgSkAPomT5fqZKQFlIFNhz/klAAsGEdrs3SkD89/GdfB9KQD0Jk7mMN0pAWOJPw5JbSkDqcHH6STFMQHUcruWQdEpA\"},\"shape\":[258],\"dtype\":\"float64\",\"order\":\"little\"}]]}}},\"view\":{\"type\":\"object\",\"name\":\"CDSView\",\"id\":\"p1544\",\"attributes\":{\"filter\":{\"type\":\"object\",\"name\":\"AllIndices\",\"id\":\"p1545\"}}},\"glyph\":{\"type\":\"object\",\"name\":\"Patch\",\"id\":\"p1540\",\"attributes\":{\"tags\":[\"apply_ranges\"],\"x\":{\"type\":\"field\",\"field\":\"x\"},\"y\":{\"type\":\"field\",\"field\":\"y\"},\"line_alpha\":0.3,\"fill_color\":\"orange\",\"fill_alpha\":0.3,\"hatch_color\":\"orange\",\"hatch_alpha\":0.3}},\"selection_glyph\":{\"type\":\"object\",\"name\":\"Patch\",\"id\":\"p1547\",\"attributes\":{\"tags\":[\"apply_ranges\"],\"x\":{\"type\":\"field\",\"field\":\"x\"},\"y\":{\"type\":\"field\",\"field\":\"y\"},\"line_alpha\":0.3,\"fill_color\":\"orange\",\"fill_alpha\":0.3,\"hatch_color\":\"orange\",\"hatch_alpha\":0.3}},\"nonselection_glyph\":{\"type\":\"object\",\"name\":\"Patch\",\"id\":\"p1541\",\"attributes\":{\"tags\":[\"apply_ranges\"],\"x\":{\"type\":\"field\",\"field\":\"x\"},\"y\":{\"type\":\"field\",\"field\":\"y\"},\"line_alpha\":0.3,\"fill_color\":\"orange\",\"fill_alpha\":0.3,\"hatch_color\":\"orange\",\"hatch_alpha\":0.1}},\"muted_glyph\":{\"type\":\"object\",\"name\":\"Patch\",\"id\":\"p1542\",\"attributes\":{\"tags\":[\"apply_ranges\"],\"x\":{\"type\":\"field\",\"field\":\"x\"},\"y\":{\"type\":\"field\",\"field\":\"y\"},\"line_alpha\":0.2,\"fill_color\":\"orange\",\"fill_alpha\":0.2,\"hatch_color\":\"orange\",\"hatch_alpha\":0.2}}}}],\"toolbar\":{\"type\":\"object\",\"name\":\"Toolbar\",\"id\":\"p1471\",\"attributes\":{\"tools\":[{\"type\":\"object\",\"name\":\"WheelZoomTool\",\"id\":\"p1454\",\"attributes\":{\"tags\":[\"hv_created\"],\"renderers\":\"auto\",\"zoom_together\":\"none\"}},{\"type\":\"object\",\"name\":\"HoverTool\",\"id\":\"p1455\",\"attributes\":{\"tags\":[\"hv_created\"],\"renderers\":[{\"id\":\"p1514\"}],\"tooltips\":[[\"ds\",\"@{ds}{%F %T}\"],[\"actual_fraud_count\",\"@{actual_fraud_count}\"]],\"formatters\":{\"type\":\"map\",\"entries\":[[\"@{ds}\",\"datetime\"]]}}},{\"type\":\"object\",\"name\":\"HoverTool\",\"id\":\"p1458\",\"attributes\":{\"tags\":[\"hv_created\"],\"renderers\":[{\"id\":\"p1529\"}],\"tooltips\":[[\"ds\",\"@{ds}{%F %T}\"],[\"yhat\",\"@{yhat}\"]],\"formatters\":{\"type\":\"map\",\"entries\":[[\"@{ds}\",\"datetime\"]]}}},{\"type\":\"object\",\"name\":\"HoverTool\",\"id\":\"p1461\",\"attributes\":{\"tags\":[\"hv_created\"],\"renderers\":[{\"id\":\"p1543\"}],\"tooltips\":[[\"ds\",\"@{ds}\"],[\"yhat_lower\",\"@{yhat_lower}\"],[\"yhat_upper\",\"@{yhat_upper}\"]],\"formatters\":{\"type\":\"map\",\"entries\":[[\"@{x}\",\"datetime\"]]}}},{\"type\":\"object\",\"name\":\"SaveTool\",\"id\":\"p1496\"},{\"type\":\"object\",\"name\":\"PanTool\",\"id\":\"p1497\"},{\"type\":\"object\",\"name\":\"BoxZoomTool\",\"id\":\"p1498\",\"attributes\":{\"overlay\":{\"type\":\"object\",\"name\":\"BoxAnnotation\",\"id\":\"p1499\",\"attributes\":{\"syncable\":false,\"level\":\"overlay\",\"visible\":false,\"left\":{\"type\":\"number\",\"value\":\"nan\"},\"right\":{\"type\":\"number\",\"value\":\"nan\"},\"top\":{\"type\":\"number\",\"value\":\"nan\"},\"bottom\":{\"type\":\"number\",\"value\":\"nan\"},\"left_units\":\"canvas\",\"right_units\":\"canvas\",\"top_units\":\"canvas\",\"bottom_units\":\"canvas\",\"line_color\":\"black\",\"line_alpha\":1.0,\"line_width\":2,\"line_dash\":[4,4],\"fill_color\":\"lightgrey\",\"fill_alpha\":0.5}}}},{\"type\":\"object\",\"name\":\"ResetTool\",\"id\":\"p1504\"}],\"active_drag\":{\"id\":\"p1497\"},\"active_scroll\":{\"id\":\"p1454\"}}},\"left\":[{\"type\":\"object\",\"name\":\"LinearAxis\",\"id\":\"p1491\",\"attributes\":{\"ticker\":{\"type\":\"object\",\"name\":\"BasicTicker\",\"id\":\"p1492\",\"attributes\":{\"mantissas\":[1,2,5]}},\"formatter\":{\"type\":\"object\",\"name\":\"BasicTickFormatter\",\"id\":\"p1493\"},\"axis_label\":\"Number of Fraud Charges\",\"major_label_policy\":{\"type\":\"object\",\"name\":\"AllLabels\",\"id\":\"p1494\"}}}],\"below\":[{\"type\":\"object\",\"name\":\"DatetimeAxis\",\"id\":\"p1474\",\"attributes\":{\"ticker\":{\"type\":\"object\",\"name\":\"DatetimeTicker\",\"id\":\"p1475\",\"attributes\":{\"num_minor_ticks\":5,\"tickers\":[{\"type\":\"object\",\"name\":\"AdaptiveTicker\",\"id\":\"p1476\",\"attributes\":{\"num_minor_ticks\":0,\"mantissas\":[1,2,5],\"max_interval\":500.0}},{\"type\":\"object\",\"name\":\"AdaptiveTicker\",\"id\":\"p1477\",\"attributes\":{\"num_minor_ticks\":0,\"base\":60,\"mantissas\":[1,2,5,10,15,20,30],\"min_interval\":1000.0,\"max_interval\":1800000.0}},{\"type\":\"object\",\"name\":\"AdaptiveTicker\",\"id\":\"p1478\",\"attributes\":{\"num_minor_ticks\":0,\"base\":24,\"mantissas\":[1,2,4,6,8,12],\"min_interval\":3600000.0,\"max_interval\":43200000.0}},{\"type\":\"object\",\"name\":\"DaysTicker\",\"id\":\"p1479\",\"attributes\":{\"days\":[1,2,3,4,5,6,7,8,9,10,11,12,13,14,15,16,17,18,19,20,21,22,23,24,25,26,27,28,29,30,31]}},{\"type\":\"object\",\"name\":\"DaysTicker\",\"id\":\"p1480\",\"attributes\":{\"days\":[1,4,7,10,13,16,19,22,25,28]}},{\"type\":\"object\",\"name\":\"DaysTicker\",\"id\":\"p1481\",\"attributes\":{\"days\":[1,8,15,22]}},{\"type\":\"object\",\"name\":\"DaysTicker\",\"id\":\"p1482\",\"attributes\":{\"days\":[1,15]}},{\"type\":\"object\",\"name\":\"MonthsTicker\",\"id\":\"p1483\",\"attributes\":{\"months\":[0,1,2,3,4,5,6,7,8,9,10,11]}},{\"type\":\"object\",\"name\":\"MonthsTicker\",\"id\":\"p1484\",\"attributes\":{\"months\":[0,2,4,6,8,10]}},{\"type\":\"object\",\"name\":\"MonthsTicker\",\"id\":\"p1485\",\"attributes\":{\"months\":[0,4,8]}},{\"type\":\"object\",\"name\":\"MonthsTicker\",\"id\":\"p1486\",\"attributes\":{\"months\":[0,6]}},{\"type\":\"object\",\"name\":\"YearsTicker\",\"id\":\"p1487\"}]}},\"formatter\":{\"type\":\"object\",\"name\":\"DatetimeTickFormatter\",\"id\":\"p1488\"},\"axis_label\":\"Date\",\"major_label_policy\":{\"type\":\"object\",\"name\":\"AllLabels\",\"id\":\"p1489\"}}}],\"center\":[{\"type\":\"object\",\"name\":\"Grid\",\"id\":\"p1490\",\"attributes\":{\"axis\":{\"id\":\"p1474\"},\"grid_line_color\":null}},{\"type\":\"object\",\"name\":\"Grid\",\"id\":\"p1495\",\"attributes\":{\"dimension\":1,\"axis\":{\"id\":\"p1491\"},\"grid_line_color\":null}},{\"type\":\"object\",\"name\":\"Legend\",\"id\":\"p1517\",\"attributes\":{\"location\":\"top_left\",\"click_policy\":\"mute\",\"items\":[{\"type\":\"object\",\"name\":\"LegendItem\",\"id\":\"p1518\",\"attributes\":{\"label\":{\"type\":\"value\",\"value\":\"Actual Fraud Charges\"},\"renderers\":[{\"id\":\"p1514\"}]}},{\"type\":\"object\",\"name\":\"LegendItem\",\"id\":\"p1532\",\"attributes\":{\"label\":{\"type\":\"value\",\"value\":\"Forecasted Fraud Charges\"},\"renderers\":[{\"id\":\"p1529\"}]}},{\"type\":\"object\",\"name\":\"LegendItem\",\"id\":\"p1546\",\"attributes\":{\"label\":{\"type\":\"value\",\"value\":\"Uncertainty Interval\"},\"renderers\":[{\"id\":\"p1543\"}]}}]}}],\"min_border_top\":10,\"min_border_bottom\":10,\"min_border_left\":10,\"min_border_right\":10,\"output_backend\":\"webgl\"}},{\"type\":\"object\",\"name\":\"Spacer\",\"id\":\"p1549\",\"attributes\":{\"name\":\"HSpacer02463\",\"stylesheets\":[\"\\n:host(.pn-loading):before, .pn-loading:before {\\n  background-color: #c3c3c3;\\n  mask-size: auto calc(min(50%, 400px));\\n  -webkit-mask-size: auto calc(min(50%, 400px));\\n}\",{\"id\":\"p1447\"},{\"id\":\"p1445\"},{\"id\":\"p1446\"}],\"margin\":0,\"sizing_mode\":\"stretch_width\",\"align\":\"start\"}}]}}],\"defs\":[{\"type\":\"model\",\"name\":\"ReactiveHTML1\"},{\"type\":\"model\",\"name\":\"FlexBox1\",\"properties\":[{\"name\":\"align_content\",\"kind\":\"Any\",\"default\":\"flex-start\"},{\"name\":\"align_items\",\"kind\":\"Any\",\"default\":\"flex-start\"},{\"name\":\"flex_direction\",\"kind\":\"Any\",\"default\":\"row\"},{\"name\":\"flex_wrap\",\"kind\":\"Any\",\"default\":\"wrap\"},{\"name\":\"gap\",\"kind\":\"Any\",\"default\":\"\"},{\"name\":\"justify_content\",\"kind\":\"Any\",\"default\":\"flex-start\"}]},{\"type\":\"model\",\"name\":\"FloatPanel1\",\"properties\":[{\"name\":\"config\",\"kind\":\"Any\",\"default\":{\"type\":\"map\"}},{\"name\":\"contained\",\"kind\":\"Any\",\"default\":true},{\"name\":\"position\",\"kind\":\"Any\",\"default\":\"right-top\"},{\"name\":\"offsetx\",\"kind\":\"Any\",\"default\":null},{\"name\":\"offsety\",\"kind\":\"Any\",\"default\":null},{\"name\":\"theme\",\"kind\":\"Any\",\"default\":\"primary\"},{\"name\":\"status\",\"kind\":\"Any\",\"default\":\"normalized\"}]},{\"type\":\"model\",\"name\":\"GridStack1\",\"properties\":[{\"name\":\"mode\",\"kind\":\"Any\",\"default\":\"warn\"},{\"name\":\"ncols\",\"kind\":\"Any\",\"default\":null},{\"name\":\"nrows\",\"kind\":\"Any\",\"default\":null},{\"name\":\"allow_resize\",\"kind\":\"Any\",\"default\":true},{\"name\":\"allow_drag\",\"kind\":\"Any\",\"default\":true},{\"name\":\"state\",\"kind\":\"Any\",\"default\":[]}]},{\"type\":\"model\",\"name\":\"drag1\",\"properties\":[{\"name\":\"slider_width\",\"kind\":\"Any\",\"default\":5},{\"name\":\"slider_color\",\"kind\":\"Any\",\"default\":\"black\"},{\"name\":\"value\",\"kind\":\"Any\",\"default\":50}]},{\"type\":\"model\",\"name\":\"click1\",\"properties\":[{\"name\":\"terminal_output\",\"kind\":\"Any\",\"default\":\"\"},{\"name\":\"debug_name\",\"kind\":\"Any\",\"default\":\"\"},{\"name\":\"clears\",\"kind\":\"Any\",\"default\":0}]},{\"type\":\"model\",\"name\":\"FastWrapper1\",\"properties\":[{\"name\":\"object\",\"kind\":\"Any\",\"default\":null},{\"name\":\"style\",\"kind\":\"Any\",\"default\":null}]},{\"type\":\"model\",\"name\":\"NotificationAreaBase1\",\"properties\":[{\"name\":\"js_events\",\"kind\":\"Any\",\"default\":{\"type\":\"map\"}},{\"name\":\"position\",\"kind\":\"Any\",\"default\":\"bottom-right\"},{\"name\":\"_clear\",\"kind\":\"Any\",\"default\":0}]},{\"type\":\"model\",\"name\":\"NotificationArea1\",\"properties\":[{\"name\":\"js_events\",\"kind\":\"Any\",\"default\":{\"type\":\"map\"}},{\"name\":\"notifications\",\"kind\":\"Any\",\"default\":[]},{\"name\":\"position\",\"kind\":\"Any\",\"default\":\"bottom-right\"},{\"name\":\"_clear\",\"kind\":\"Any\",\"default\":0},{\"name\":\"types\",\"kind\":\"Any\",\"default\":[{\"type\":\"map\",\"entries\":[[\"type\",\"warning\"],[\"background\",\"#ffc107\"],[\"icon\",{\"type\":\"map\",\"entries\":[[\"className\",\"fas fa-exclamation-triangle\"],[\"tagName\",\"i\"],[\"color\",\"white\"]]}]]},{\"type\":\"map\",\"entries\":[[\"type\",\"info\"],[\"background\",\"#007bff\"],[\"icon\",{\"type\":\"map\",\"entries\":[[\"className\",\"fas fa-info-circle\"],[\"tagName\",\"i\"],[\"color\",\"white\"]]}]]}]}]},{\"type\":\"model\",\"name\":\"Notification\",\"properties\":[{\"name\":\"background\",\"kind\":\"Any\",\"default\":null},{\"name\":\"duration\",\"kind\":\"Any\",\"default\":3000},{\"name\":\"icon\",\"kind\":\"Any\",\"default\":null},{\"name\":\"message\",\"kind\":\"Any\",\"default\":\"\"},{\"name\":\"notification_type\",\"kind\":\"Any\",\"default\":null},{\"name\":\"_destroyed\",\"kind\":\"Any\",\"default\":false}]},{\"type\":\"model\",\"name\":\"TemplateActions1\",\"properties\":[{\"name\":\"open_modal\",\"kind\":\"Any\",\"default\":0},{\"name\":\"close_modal\",\"kind\":\"Any\",\"default\":0}]},{\"type\":\"model\",\"name\":\"BootstrapTemplateActions1\",\"properties\":[{\"name\":\"open_modal\",\"kind\":\"Any\",\"default\":0},{\"name\":\"close_modal\",\"kind\":\"Any\",\"default\":0}]},{\"type\":\"model\",\"name\":\"TemplateEditor1\",\"properties\":[{\"name\":\"layout\",\"kind\":\"Any\",\"default\":[]}]},{\"type\":\"model\",\"name\":\"MaterialTemplateActions1\",\"properties\":[{\"name\":\"open_modal\",\"kind\":\"Any\",\"default\":0},{\"name\":\"close_modal\",\"kind\":\"Any\",\"default\":0}]},{\"type\":\"model\",\"name\":\"copy_to_clipboard1\",\"properties\":[{\"name\":\"fill\",\"kind\":\"Any\",\"default\":\"none\"},{\"name\":\"value\",\"kind\":\"Any\",\"default\":null}]}]}};\n",
       "  var render_items = [{\"docid\":\"30df21fe-bd40-424e-8e47-58dc4ca2ca17\",\"roots\":{\"p1444\":\"a9cf6cb8-4029-4cbc-9aaf-35d7330a902d\"},\"root_ids\":[\"p1444\"]}];\n",
       "  var docs = Object.values(docs_json)\n",
       "  if (!docs) {\n",
       "    return\n",
       "  }\n",
       "  const py_version = docs[0].version.replace('rc', '-rc.').replace('.dev', '-dev.')\n",
       "  async function embed_document(root) {\n",
       "    var Bokeh = get_bokeh(root)\n",
       "    await Bokeh.embed.embed_items_notebook(docs_json, render_items);\n",
       "    for (const render_item of render_items) {\n",
       "      for (const root_id of render_item.root_ids) {\n",
       "\tconst id_el = document.getElementById(root_id)\n",
       "\tif (id_el.children.length && id_el.children[0].hasAttribute('data-root-id')) {\n",
       "\t  const root_el = id_el.children[0]\n",
       "\t  root_el.id = root_el.id + '-rendered'\n",
       "\t  for (const child of root_el.children) {\n",
       "            // Ensure JupyterLab does not capture keyboard shortcuts\n",
       "            // see: https://jupyterlab.readthedocs.io/en/4.1.x/extension/notebook.html#keyboard-interaction-model\n",
       "\t    child.setAttribute('data-lm-suppress-shortcuts', 'true')\n",
       "\t  }\n",
       "\t}\n",
       "      }\n",
       "    }\n",
       "  }\n",
       "  function get_bokeh(root) {\n",
       "    if (root.Bokeh === undefined) {\n",
       "      return null\n",
       "    } else if (root.Bokeh.version !== py_version) {\n",
       "      if (root.Bokeh.versions === undefined || !root.Bokeh.versions.has(py_version)) {\n",
       "\treturn null\n",
       "      }\n",
       "      return root.Bokeh.versions.get(py_version);\n",
       "    } else if (root.Bokeh.version === py_version) {\n",
       "      return root.Bokeh\n",
       "    }\n",
       "    return null\n",
       "  }\n",
       "  function is_loaded(root) {\n",
       "    var Bokeh = get_bokeh(root)\n",
       "    return (Bokeh != null && Bokeh.Panel !== undefined)\n",
       "  }\n",
       "  if (is_loaded(root)) {\n",
       "    embed_document(root);\n",
       "  } else {\n",
       "    var attempts = 0;\n",
       "    var timer = setInterval(function(root) {\n",
       "      if (is_loaded(root)) {\n",
       "        clearInterval(timer);\n",
       "        embed_document(root);\n",
       "      } else if (document.readyState == \"complete\") {\n",
       "        attempts++;\n",
       "        if (attempts > 200) {\n",
       "          clearInterval(timer);\n",
       "\t  var Bokeh = get_bokeh(root)\n",
       "\t  if (Bokeh == null || Bokeh.Panel == null) {\n",
       "            console.warn(\"Panel: ERROR: Unable to run Panel code because Bokeh or Panel library is missing\");\n",
       "\t  } else {\n",
       "\t    console.warn(\"Panel: WARNING: Attempting to render but not all required libraries could be resolved.\")\n",
       "\t    embed_document(root)\n",
       "\t  }\n",
       "        }\n",
       "      }\n",
       "    }, 25, root)\n",
       "  }\n",
       "})(window);</script>"
      ],
      "text/plain": [
       ":Overlay\n",
       "   .Curve.Actual_Fraud_Charges     :Curve   [ds]   (actual_fraud_count)\n",
       "   .Curve.Forecasted_Fraud_Charges :Curve   [ds]   (yhat)\n",
       "   .Area.Uncertainty_Interval      :Area   [ds]   (yhat_lower,yhat_upper)"
      ]
     },
     "execution_count": 27,
     "metadata": {
      "application/vnd.holoviews_exec.v0+json": {
       "id": "p1444"
      }
     },
     "output_type": "execute_result"
    }
   ],
   "source": [
    "import pandas as pd\n",
    "import hvplot.pandas  # Ensure hvplot is imported\n",
    "\n",
    "# Ensure the 'ds' column in both DataFrames is of datetime type\n",
    "fraud_forecast_weekly['ds'] = pd.to_datetime(fraud_forecast_weekly['ds'])\n",
    "fraud_df_weekly['ds'] = pd.to_datetime(fraud_df_weekly['ds'])\n",
    "\n",
    "# Merge the actual and forecast data\n",
    "combined_df_weekly = pd.merge(\n",
    "    fraud_forecast_weekly[['ds', 'yhat', 'yhat_lower', 'yhat_upper']],\n",
    "    fraud_df_weekly[['ds', 'y']],\n",
    "    on='ds',\n",
    "    how='left'\n",
    ")\n",
    "\n",
    "# Rename the actual fraud column for clarity\n",
    "combined_df_weekly.rename(columns={'y': 'actual_fraud_count'}, inplace=True)\n",
    "\n",
    "# Filter combined_df_weekly for dates starting from 2020\n",
    "combined_df_weekly = combined_df_weekly[combined_df_weekly['ds'] >= '2020-01-01']\n",
    "\n",
    "# Plotting with hvplot\n",
    "plot_actual2 = combined_df_weekly.hvplot.line(\n",
    "    x='ds', \n",
    "    y='actual_fraud_count', \n",
    "    label='Actual Fraud Charges', \n",
    "    color='blue', \n",
    "    line_width=2\n",
    ")\n",
    "plot_forecast2 = combined_df_weekly.hvplot.line(\n",
    "    x='ds', \n",
    "    y='yhat', \n",
    "    label='Forecasted Fraud Charges', \n",
    "    color='orange', \n",
    "    line_width=2\n",
    ")\n",
    "plot_uncertainty2 = combined_df_weekly.hvplot.area(\n",
    "    x='ds', \n",
    "    y='yhat_lower', \n",
    "    y2='yhat_upper', \n",
    "    label='Uncertainty Interval', \n",
    "    color='orange', \n",
    "    alpha=0.3\n",
    ")\n",
    "\n",
    "# Combine all plots\n",
    "final_plot_weekly = plot_actual2 * plot_forecast2 * plot_uncertainty2\n",
    "\n",
    "# Customize plot\n",
    "final_plot_weekly.opts(\n",
    "    title='Fraud Charge Forecasting (From 2020 Onwards)',\n",
    "    xlabel='Date',\n",
    "    ylabel='Number of Fraud Charges',\n",
    "    legend_position='top_left',\n",
    "    width=1000, \n",
    "    height=600   \n",
    ")\n",
    "\n",
    "# Show the plot\n",
    "final_plot_weekly\n"
   ]
  },
  {
   "cell_type": "code",
   "execution_count": 28,
   "metadata": {},
   "outputs": [
    {
     "name": "stdout",
     "output_type": "stream",
     "text": [
      "        date  fraud_charge_count\n",
      "0 2019-01-31                 506\n",
      "1 2019-02-28                 517\n",
      "2 2019-03-31                 494\n",
      "3 2019-04-30                 376\n",
      "4 2019-05-31                 408\n"
     ]
    }
   ],
   "source": [
    "# Convert 'trans_date' to datetime if it isn't already\n",
    "df2['trans_date'] = pd.to_datetime(df2['trans_date'])\n",
    "\n",
    "# Filter for fraudulent transactions\n",
    "fraud_df = df2[df2['is_fraud'] == 1]\n",
    "\n",
    "# Group by month and count the number of fraud charges\n",
    "fraud_df_monthly = fraud_df.resample('ME', on='trans_date').size().reset_index(name='fraud_charge_count')\n",
    "\n",
    "# Rename columns for clarity\n",
    "fraud_df_monthly.columns = ['date', 'fraud_charge_count']\n",
    "\n",
    "# Display the resulting DataFrame\n",
    "print(fraud_df_monthly.head())\n"
   ]
  },
  {
   "cell_type": "code",
   "execution_count": 29,
   "metadata": {},
   "outputs": [
    {
     "data": {
      "text/html": [
       "<div>\n",
       "<style scoped>\n",
       "    .dataframe tbody tr th:only-of-type {\n",
       "        vertical-align: middle;\n",
       "    }\n",
       "\n",
       "    .dataframe tbody tr th {\n",
       "        vertical-align: top;\n",
       "    }\n",
       "\n",
       "    .dataframe thead th {\n",
       "        text-align: right;\n",
       "    }\n",
       "</style>\n",
       "<table border=\"1\" class=\"dataframe\">\n",
       "  <thead>\n",
       "    <tr style=\"text-align: right;\">\n",
       "      <th></th>\n",
       "      <th>ds</th>\n",
       "      <th>y</th>\n",
       "    </tr>\n",
       "  </thead>\n",
       "  <tbody>\n",
       "    <tr>\n",
       "      <th>13</th>\n",
       "      <td>2020-02-29</td>\n",
       "      <td>336</td>\n",
       "    </tr>\n",
       "    <tr>\n",
       "      <th>14</th>\n",
       "      <td>2020-03-31</td>\n",
       "      <td>444</td>\n",
       "    </tr>\n",
       "    <tr>\n",
       "      <th>15</th>\n",
       "      <td>2020-04-30</td>\n",
       "      <td>302</td>\n",
       "    </tr>\n",
       "    <tr>\n",
       "      <th>16</th>\n",
       "      <td>2020-05-31</td>\n",
       "      <td>527</td>\n",
       "    </tr>\n",
       "    <tr>\n",
       "      <th>17</th>\n",
       "      <td>2020-06-30</td>\n",
       "      <td>334</td>\n",
       "    </tr>\n",
       "  </tbody>\n",
       "</table>\n",
       "</div>"
      ],
      "text/plain": [
       "           ds    y\n",
       "13 2020-02-29  336\n",
       "14 2020-03-31  444\n",
       "15 2020-04-30  302\n",
       "16 2020-05-31  527\n",
       "17 2020-06-30  334"
      ]
     },
     "execution_count": 29,
     "metadata": {},
     "output_type": "execute_result"
    }
   ],
   "source": [
    "# Rename columns for Prophet\n",
    "fraud_df_monthly.columns=['ds','y']\n",
    "fraud_df_monthly.tail()"
   ]
  },
  {
   "cell_type": "code",
   "execution_count": 30,
   "metadata": {},
   "outputs": [
    {
     "name": "stderr",
     "output_type": "stream",
     "text": [
      "20:43:09 - cmdstanpy - INFO - Chain [1] start processing\n",
      "20:43:09 - cmdstanpy - INFO - Chain [1] done processing\n"
     ]
    },
    {
     "name": "stdout",
     "output_type": "stream",
     "text": [
      "           ds        yhat  yhat_lower  yhat_upper\n",
      "25 2020-07-08  382.381386  280.637396  474.395486\n",
      "26 2020-07-09  382.251701  288.574943  479.791263\n",
      "27 2020-07-10  382.122017  285.217573  478.384676\n",
      "28 2020-07-11  381.992332  281.889743  482.069029\n",
      "29 2020-07-12  381.862647  284.691265  485.586519\n"
     ]
    }
   ],
   "source": [
    "# Set up and fit the Prophet model\n",
    "modelmonth = Prophet()\n",
    "modelmonth.fit(fraud_df_monthly)\n",
    "\n",
    "# Create a DataFrame for future dates you want to forecast\n",
    "future3 = modelmonth.make_future_dataframe(periods=12)\n",
    "\n",
    "# Forecast the future values\n",
    "fraud_forecast_monthly = modelmonth.predict(future3)\n",
    "\n",
    "# Display the forecast\n",
    "print(fraud_forecast_monthly[['ds', 'yhat', 'yhat_lower', 'yhat_upper']].tail())"
   ]
  },
  {
   "cell_type": "code",
   "execution_count": 31,
   "metadata": {},
   "outputs": [
    {
     "data": {},
     "metadata": {},
     "output_type": "display_data"
    },
    {
     "data": {
      "application/vnd.holoviews_exec.v0+json": "",
      "text/html": [
       "<div id='p1559'>\n",
       "  <div id=\"aadf0273-ce41-4e77-bece-9c65bdd6b237\" data-root-id=\"p1559\" style=\"display: contents;\"></div>\n",
       "</div>\n",
       "<script type=\"application/javascript\">(function(root) {\n",
       "  var docs_json = {\"33b2ed71-e23c-4b48-a788-aefb65191a26\":{\"version\":\"3.4.1\",\"title\":\"Bokeh Application\",\"roots\":[{\"type\":\"object\",\"name\":\"Row\",\"id\":\"p1559\",\"attributes\":{\"name\":\"Row02847\",\"tags\":[\"embedded\"],\"stylesheets\":[\"\\n:host(.pn-loading):before, .pn-loading:before {\\n  background-color: #c3c3c3;\\n  mask-size: auto calc(min(50%, 400px));\\n  -webkit-mask-size: auto calc(min(50%, 400px));\\n}\",{\"type\":\"object\",\"name\":\"ImportedStyleSheet\",\"id\":\"p1562\",\"attributes\":{\"url\":\"https://cdn.holoviz.org/panel/1.4.4/dist/css/loading.css\"}},{\"type\":\"object\",\"name\":\"ImportedStyleSheet\",\"id\":\"p1666\",\"attributes\":{\"url\":\"https://cdn.holoviz.org/panel/1.4.4/dist/css/listpanel.css\"}},{\"type\":\"object\",\"name\":\"ImportedStyleSheet\",\"id\":\"p1560\",\"attributes\":{\"url\":\"https://cdn.holoviz.org/panel/1.4.4/dist/bundled/theme/default.css\"}},{\"type\":\"object\",\"name\":\"ImportedStyleSheet\",\"id\":\"p1561\",\"attributes\":{\"url\":\"https://cdn.holoviz.org/panel/1.4.4/dist/bundled/theme/native.css\"}}],\"min_width\":1000,\"margin\":0,\"sizing_mode\":\"stretch_width\",\"align\":\"start\",\"children\":[{\"type\":\"object\",\"name\":\"Spacer\",\"id\":\"p1563\",\"attributes\":{\"name\":\"HSpacer02854\",\"stylesheets\":[\"\\n:host(.pn-loading):before, .pn-loading:before {\\n  background-color: #c3c3c3;\\n  mask-size: auto calc(min(50%, 400px));\\n  -webkit-mask-size: auto calc(min(50%, 400px));\\n}\",{\"id\":\"p1562\"},{\"id\":\"p1560\"},{\"id\":\"p1561\"}],\"margin\":0,\"sizing_mode\":\"stretch_width\",\"align\":\"start\"}},{\"type\":\"object\",\"name\":\"Figure\",\"id\":\"p1577\",\"attributes\":{\"width\":1000,\"margin\":[5,10],\"sizing_mode\":\"fixed\",\"align\":\"start\",\"x_range\":{\"type\":\"object\",\"name\":\"Range1d\",\"id\":\"p1564\",\"attributes\":{\"tags\":[[[\"ds\",null]],[]],\"start\":1548892800000.0,\"end\":1594512000000.0,\"reset_start\":1548892800000.0,\"reset_end\":1594512000000.0}},\"y_range\":{\"type\":\"object\",\"name\":\"Range1d\",\"id\":\"p1565\",\"attributes\":{\"tags\":[[[\"actual_fraud_count\",null]],{\"type\":\"map\",\"entries\":[[\"invert_yaxis\",false],[\"autorange\",false]]}],\"start\":245.40554322474014,\"end\":623.508586979569,\"reset_start\":245.40554322474014,\"reset_end\":623.508586979569}},\"x_scale\":{\"type\":\"object\",\"name\":\"LinearScale\",\"id\":\"p1587\"},\"y_scale\":{\"type\":\"object\",\"name\":\"LinearScale\",\"id\":\"p1588\"},\"title\":{\"type\":\"object\",\"name\":\"Title\",\"id\":\"p1580\",\"attributes\":{\"text\":\"Fraud Charge Forecasting\",\"text_color\":\"black\",\"text_font_size\":\"12pt\"}},\"renderers\":[{\"type\":\"object\",\"name\":\"GlyphRenderer\",\"id\":\"p1629\",\"attributes\":{\"name\":\"Actual Fraud Charges\",\"data_source\":{\"type\":\"object\",\"name\":\"ColumnDataSource\",\"id\":\"p1620\",\"attributes\":{\"selected\":{\"type\":\"object\",\"name\":\"Selection\",\"id\":\"p1621\",\"attributes\":{\"indices\":[],\"line_indices\":[]}},\"selection_policy\":{\"type\":\"object\",\"name\":\"UnionRenderers\",\"id\":\"p1622\"},\"data\":{\"type\":\"map\",\"entries\":[[\"ds\",{\"type\":\"ndarray\",\"array\":{\"type\":\"bytes\",\"data\":\"AABASBOKdkIAAEBpFpN2QgAAgLsQnXZCAAAAqLimdkIAAED6srB2QgAAwOZaunZCAAAAOVXEdkIAAECLT852QgAAwHf313ZCAAAAyvHhdkIAAIC2met2QgAAwAiU9XZCAAAAW47/dkIAAMDh4wh3QgAAADTeEndCAACAIIYcd0IAAMBygCZ3QgAAQF8oMHdCAAAAxXowd0IAAMAqzTB3QgAAgJAfMXdCAABA9nExd0IAAABcxDF3QgAAwMEWMndCAACAJ2kyd0IAAECNuzJ3QgAAAPMNM3dCAADAWGAzd0IAAIC+sjN3QgAAQCQFNHdC\"},\"shape\":[30],\"dtype\":\"float64\",\"order\":\"little\"}],[\"actual_fraud_count\",{\"type\":\"ndarray\",\"array\":{\"type\":\"bytes\",\"data\":\"AAAAAACgf0AAAAAAACiAQAAAAAAA4H5AAAAAAACAd0AAAAAAAIB5QAAAAAAAIHZAAAAAAACwdEAAAAAAAOB3QAAAAAAAIHpAAAAAAABgfEAAAAAAAEB4QAAAAAAAgIJAAAAAAABwdUAAAAAAAAB1QAAAAAAAwHtAAAAAAADgckAAAAAAAHiAQAAAAAAA4HRAAAAAAAAA+H8AAAAAAAD4fwAAAAAAAPh/AAAAAAAA+H8AAAAAAAD4fwAAAAAAAPh/AAAAAAAA+H8AAAAAAAD4fwAAAAAAAPh/AAAAAAAA+H8AAAAAAAD4fwAAAAAAAPh/\"},\"shape\":[30],\"dtype\":\"float64\",\"order\":\"little\"}]]}}},\"view\":{\"type\":\"object\",\"name\":\"CDSView\",\"id\":\"p1630\",\"attributes\":{\"filter\":{\"type\":\"object\",\"name\":\"AllIndices\",\"id\":\"p1631\"}}},\"glyph\":{\"type\":\"object\",\"name\":\"Line\",\"id\":\"p1626\",\"attributes\":{\"tags\":[\"apply_ranges\"],\"x\":{\"type\":\"field\",\"field\":\"ds\"},\"y\":{\"type\":\"field\",\"field\":\"actual_fraud_count\"},\"line_color\":\"blue\",\"line_width\":2}},\"selection_glyph\":{\"type\":\"object\",\"name\":\"Line\",\"id\":\"p1634\",\"attributes\":{\"tags\":[\"apply_ranges\"],\"x\":{\"type\":\"field\",\"field\":\"ds\"},\"y\":{\"type\":\"field\",\"field\":\"actual_fraud_count\"},\"line_color\":\"blue\",\"line_width\":2}},\"nonselection_glyph\":{\"type\":\"object\",\"name\":\"Line\",\"id\":\"p1627\",\"attributes\":{\"tags\":[\"apply_ranges\"],\"x\":{\"type\":\"field\",\"field\":\"ds\"},\"y\":{\"type\":\"field\",\"field\":\"actual_fraud_count\"},\"line_color\":\"blue\",\"line_alpha\":0.1,\"line_width\":2}},\"muted_glyph\":{\"type\":\"object\",\"name\":\"Line\",\"id\":\"p1628\",\"attributes\":{\"tags\":[\"apply_ranges\"],\"x\":{\"type\":\"field\",\"field\":\"ds\"},\"y\":{\"type\":\"field\",\"field\":\"actual_fraud_count\"},\"line_color\":\"blue\",\"line_alpha\":0.2,\"line_width\":2}}}},{\"type\":\"object\",\"name\":\"GlyphRenderer\",\"id\":\"p1644\",\"attributes\":{\"name\":\"Forecasted Fraud Charges\",\"data_source\":{\"type\":\"object\",\"name\":\"ColumnDataSource\",\"id\":\"p1635\",\"attributes\":{\"selected\":{\"type\":\"object\",\"name\":\"Selection\",\"id\":\"p1636\",\"attributes\":{\"indices\":[],\"line_indices\":[]}},\"selection_policy\":{\"type\":\"object\",\"name\":\"UnionRenderers\",\"id\":\"p1637\"},\"data\":{\"type\":\"map\",\"entries\":[[\"ds\",{\"type\":\"ndarray\",\"array\":{\"type\":\"bytes\",\"data\":\"AABASBOKdkIAAEBpFpN2QgAAgLsQnXZCAAAAqLimdkIAAED6srB2QgAAwOZaunZCAAAAOVXEdkIAAECLT852QgAAwHf313ZCAAAAyvHhdkIAAIC2met2QgAAwAiU9XZCAAAAW47/dkIAAMDh4wh3QgAAADTeEndCAACAIIYcd0IAAMBygCZ3QgAAQF8oMHdCAAAAxXowd0IAAMAqzTB3QgAAgJAfMXdCAABA9nExd0IAAABcxDF3QgAAwMEWMndCAACAJ2kyd0IAAECNuzJ3QgAAAPMNM3dCAADAWGAzd0IAAIC+sjN3QgAAQCQFNHdC\"},\"shape\":[30],\"dtype\":\"float64\",\"order\":\"little\"}],[\"yhat\",{\"type\":\"ndarray\",\"array\":{\"type\":\"bytes\",\"data\":\"NNsV+mAlfECgi06yR+t7QFT8rNn0qntAbYZMMbVse0DaeKZYYix7QIciRbAi7npAM86b18+tekCXIvD+fG16QE6XiFY9L3pA8effferueUDBIYTVqrB5QCv+4/xXcHlAKkhIJAUweUAEkT+s2PN4QJHgpdOFs3hAzzVTK0Z1eEBchblS8zR4QJraZqqz9ndA6tQfeqD0d0A4z9hJjfJ3QIfJkRl68HdA1sNK6Wbud0AlvgO5U+x3QHS4vIhA6ndAwrJ1WC3od0ASrS4oGuZ3QGGn5/cG5HdAr6Ggx/Phd0D/m1mX4N93QE2WEmfN3XdA\"},\"shape\":[30],\"dtype\":\"float64\",\"order\":\"little\"}]]}}},\"view\":{\"type\":\"object\",\"name\":\"CDSView\",\"id\":\"p1645\",\"attributes\":{\"filter\":{\"type\":\"object\",\"name\":\"AllIndices\",\"id\":\"p1646\"}}},\"glyph\":{\"type\":\"object\",\"name\":\"Line\",\"id\":\"p1641\",\"attributes\":{\"tags\":[\"apply_ranges\"],\"x\":{\"type\":\"field\",\"field\":\"ds\"},\"y\":{\"type\":\"field\",\"field\":\"yhat\"},\"line_color\":\"orange\",\"line_width\":2}},\"selection_glyph\":{\"type\":\"object\",\"name\":\"Line\",\"id\":\"p1648\",\"attributes\":{\"tags\":[\"apply_ranges\"],\"x\":{\"type\":\"field\",\"field\":\"ds\"},\"y\":{\"type\":\"field\",\"field\":\"yhat\"},\"line_color\":\"orange\",\"line_width\":2}},\"nonselection_glyph\":{\"type\":\"object\",\"name\":\"Line\",\"id\":\"p1642\",\"attributes\":{\"tags\":[\"apply_ranges\"],\"x\":{\"type\":\"field\",\"field\":\"ds\"},\"y\":{\"type\":\"field\",\"field\":\"yhat\"},\"line_color\":\"orange\",\"line_alpha\":0.1,\"line_width\":2}},\"muted_glyph\":{\"type\":\"object\",\"name\":\"Line\",\"id\":\"p1643\",\"attributes\":{\"tags\":[\"apply_ranges\"],\"x\":{\"type\":\"field\",\"field\":\"ds\"},\"y\":{\"type\":\"field\",\"field\":\"yhat\"},\"line_color\":\"orange\",\"line_alpha\":0.2,\"line_width\":2}}}},{\"type\":\"object\",\"name\":\"GlyphRenderer\",\"id\":\"p1658\",\"attributes\":{\"name\":\"Uncertainty Interval\",\"data_source\":{\"type\":\"object\",\"name\":\"ColumnDataSource\",\"id\":\"p1649\",\"attributes\":{\"selected\":{\"type\":\"object\",\"name\":\"Selection\",\"id\":\"p1650\",\"attributes\":{\"indices\":[],\"line_indices\":[]}},\"selection_policy\":{\"type\":\"object\",\"name\":\"UnionRenderers\",\"id\":\"p1651\"},\"data\":{\"type\":\"map\",\"entries\":[[\"x\",{\"type\":\"ndarray\",\"array\":{\"type\":\"bytes\",\"data\":\"AABASBOKdkIAAEBpFpN2QgAAgLsQnXZCAAAAqLimdkIAAED6srB2QgAAwOZaunZCAAAAOVXEdkIAAECLT852QgAAwHf313ZCAAAAyvHhdkIAAIC2met2QgAAwAiU9XZCAAAAW47/dkIAAMDh4wh3QgAAADTeEndCAACAIIYcd0IAAMBygCZ3QgAAQF8oMHdCAAAAxXowd0IAAMAqzTB3QgAAgJAfMXdCAABA9nExd0IAAABcxDF3QgAAwMEWMndCAACAJ2kyd0IAAECNuzJ3QgAAAPMNM3dCAADAWGAzd0IAAIC+sjN3QgAAQCQFNHdCAABAJAU0d0IAAIC+sjN3QgAAwFhgM3dCAAAA8w0zd0IAAECNuzJ3QgAAgCdpMndCAADAwRYyd0IAAABcxDF3QgAAQPZxMXdCAACAkB8xd0IAAMAqzTB3QgAAAMV6MHdCAABAXygwd0IAAMBygCZ3QgAAgCCGHHdCAAAANN4Sd0IAAMDh4wh3QgAAAFuO/3ZCAADACJT1dkIAAIC2met2QgAAAMrx4XZCAADAd/fXdkIAAECLT852QgAAADlVxHZCAADA5lq6dkIAAED6srB2QgAAAKi4pnZCAACAuxCddkIAAEBpFpN2QgAAQEgTinZC\"},\"shape\":[60],\"dtype\":\"float64\",\"order\":\"little\"}],[\"y\",{\"type\":\"ndarray\",\"array\":{\"type\":\"bytes\",\"data\":\"rr0Hbn08gUASnd9x5/aAQK7vMWJfAIFAsE/38THggEA9JSdWyoCAQDgBuWtYjYBAt4bo6XhtgEAMF+xWGBaAQO5N6QPCD4BAauzNLQgUgEAhOwrSawCAQMZYgPXSln9A5GDP3slVf0AFJvseY+1+QNHE0orBjX5ATfapGCjHfkD7NzZUDmh+QHUGBv9DIH5Afpx1JzGBfkC6aA4sI11+QFbwpKQslH5AYyeLxMHHfkC5CwK+n719QAIXvr4kJ35AqJxXlf/CfUBqtL7oU6Z9QO1kUgOp/H1ATx8YoifmfUADG6i+GiF+QNfJiWFiWX5A7+sDbA/LcUDNwNtiPJ5xQEe3Oi5703FAnv4u9zIJckBfqKfGMopxQHimiNCtqXFAAA9OUDC4cUC0PP5GoE5xQBs+9lflLHJAdnsOs2PpcUBDjLzDau1xQOCkDkjKsnFAScTjR4+IcUAzPiWrs7FxQAhQWPpfZ3JAnlyAAeh+ckAiLkZQ0JJyQCyoyAgdBHNA7JJQ7nQQc0CR6+26B7lzQPnwUi4BknNAQd20rT7ec0Cz6P2GMq5zQHn68kD+h3RAD+CIz6uQdEDfdfGyrPZ0QIxThoFMH3VAC1Gw5nVxdUDIujIFDq51QEA+hia8UXZA\"},\"shape\":[60],\"dtype\":\"float64\",\"order\":\"little\"}]]}}},\"view\":{\"type\":\"object\",\"name\":\"CDSView\",\"id\":\"p1659\",\"attributes\":{\"filter\":{\"type\":\"object\",\"name\":\"AllIndices\",\"id\":\"p1660\"}}},\"glyph\":{\"type\":\"object\",\"name\":\"Patch\",\"id\":\"p1655\",\"attributes\":{\"tags\":[\"apply_ranges\"],\"x\":{\"type\":\"field\",\"field\":\"x\"},\"y\":{\"type\":\"field\",\"field\":\"y\"},\"line_alpha\":0.3,\"fill_color\":\"orange\",\"fill_alpha\":0.3,\"hatch_color\":\"orange\",\"hatch_alpha\":0.3}},\"selection_glyph\":{\"type\":\"object\",\"name\":\"Patch\",\"id\":\"p1662\",\"attributes\":{\"tags\":[\"apply_ranges\"],\"x\":{\"type\":\"field\",\"field\":\"x\"},\"y\":{\"type\":\"field\",\"field\":\"y\"},\"line_alpha\":0.3,\"fill_color\":\"orange\",\"fill_alpha\":0.3,\"hatch_color\":\"orange\",\"hatch_alpha\":0.3}},\"nonselection_glyph\":{\"type\":\"object\",\"name\":\"Patch\",\"id\":\"p1656\",\"attributes\":{\"tags\":[\"apply_ranges\"],\"x\":{\"type\":\"field\",\"field\":\"x\"},\"y\":{\"type\":\"field\",\"field\":\"y\"},\"line_alpha\":0.3,\"fill_color\":\"orange\",\"fill_alpha\":0.3,\"hatch_color\":\"orange\",\"hatch_alpha\":0.1}},\"muted_glyph\":{\"type\":\"object\",\"name\":\"Patch\",\"id\":\"p1657\",\"attributes\":{\"tags\":[\"apply_ranges\"],\"x\":{\"type\":\"field\",\"field\":\"x\"},\"y\":{\"type\":\"field\",\"field\":\"y\"},\"line_alpha\":0.2,\"fill_color\":\"orange\",\"fill_alpha\":0.2,\"hatch_color\":\"orange\",\"hatch_alpha\":0.2}}}}],\"toolbar\":{\"type\":\"object\",\"name\":\"Toolbar\",\"id\":\"p1586\",\"attributes\":{\"tools\":[{\"type\":\"object\",\"name\":\"WheelZoomTool\",\"id\":\"p1569\",\"attributes\":{\"tags\":[\"hv_created\"],\"renderers\":\"auto\",\"zoom_together\":\"none\"}},{\"type\":\"object\",\"name\":\"HoverTool\",\"id\":\"p1570\",\"attributes\":{\"tags\":[\"hv_created\"],\"renderers\":[{\"id\":\"p1629\"}],\"tooltips\":[[\"ds\",\"@{ds}{%F %T}\"],[\"actual_fraud_count\",\"@{actual_fraud_count}\"]],\"formatters\":{\"type\":\"map\",\"entries\":[[\"@{ds}\",\"datetime\"]]}}},{\"type\":\"object\",\"name\":\"HoverTool\",\"id\":\"p1573\",\"attributes\":{\"tags\":[\"hv_created\"],\"renderers\":[{\"id\":\"p1644\"}],\"tooltips\":[[\"ds\",\"@{ds}{%F %T}\"],[\"yhat\",\"@{yhat}\"]],\"formatters\":{\"type\":\"map\",\"entries\":[[\"@{ds}\",\"datetime\"]]}}},{\"type\":\"object\",\"name\":\"HoverTool\",\"id\":\"p1576\",\"attributes\":{\"tags\":[\"hv_created\"],\"renderers\":[{\"id\":\"p1658\"}],\"tooltips\":[[\"ds\",\"@{ds}\"],[\"yhat_lower\",\"@{yhat_lower}\"],[\"yhat_upper\",\"@{yhat_upper}\"]],\"formatters\":{\"type\":\"map\",\"entries\":[[\"@{x}\",\"datetime\"]]}}},{\"type\":\"object\",\"name\":\"SaveTool\",\"id\":\"p1611\"},{\"type\":\"object\",\"name\":\"PanTool\",\"id\":\"p1612\"},{\"type\":\"object\",\"name\":\"BoxZoomTool\",\"id\":\"p1613\",\"attributes\":{\"overlay\":{\"type\":\"object\",\"name\":\"BoxAnnotation\",\"id\":\"p1614\",\"attributes\":{\"syncable\":false,\"level\":\"overlay\",\"visible\":false,\"left\":{\"type\":\"number\",\"value\":\"nan\"},\"right\":{\"type\":\"number\",\"value\":\"nan\"},\"top\":{\"type\":\"number\",\"value\":\"nan\"},\"bottom\":{\"type\":\"number\",\"value\":\"nan\"},\"left_units\":\"canvas\",\"right_units\":\"canvas\",\"top_units\":\"canvas\",\"bottom_units\":\"canvas\",\"line_color\":\"black\",\"line_alpha\":1.0,\"line_width\":2,\"line_dash\":[4,4],\"fill_color\":\"lightgrey\",\"fill_alpha\":0.5}}}},{\"type\":\"object\",\"name\":\"ResetTool\",\"id\":\"p1619\"}],\"active_drag\":{\"id\":\"p1612\"},\"active_scroll\":{\"id\":\"p1569\"}}},\"left\":[{\"type\":\"object\",\"name\":\"LinearAxis\",\"id\":\"p1606\",\"attributes\":{\"ticker\":{\"type\":\"object\",\"name\":\"BasicTicker\",\"id\":\"p1607\",\"attributes\":{\"mantissas\":[1,2,5]}},\"formatter\":{\"type\":\"object\",\"name\":\"BasicTickFormatter\",\"id\":\"p1608\"},\"axis_label\":\"Number of Fraud Charges\",\"major_label_policy\":{\"type\":\"object\",\"name\":\"AllLabels\",\"id\":\"p1609\"}}}],\"below\":[{\"type\":\"object\",\"name\":\"DatetimeAxis\",\"id\":\"p1589\",\"attributes\":{\"ticker\":{\"type\":\"object\",\"name\":\"DatetimeTicker\",\"id\":\"p1590\",\"attributes\":{\"num_minor_ticks\":5,\"tickers\":[{\"type\":\"object\",\"name\":\"AdaptiveTicker\",\"id\":\"p1591\",\"attributes\":{\"num_minor_ticks\":0,\"mantissas\":[1,2,5],\"max_interval\":500.0}},{\"type\":\"object\",\"name\":\"AdaptiveTicker\",\"id\":\"p1592\",\"attributes\":{\"num_minor_ticks\":0,\"base\":60,\"mantissas\":[1,2,5,10,15,20,30],\"min_interval\":1000.0,\"max_interval\":1800000.0}},{\"type\":\"object\",\"name\":\"AdaptiveTicker\",\"id\":\"p1593\",\"attributes\":{\"num_minor_ticks\":0,\"base\":24,\"mantissas\":[1,2,4,6,8,12],\"min_interval\":3600000.0,\"max_interval\":43200000.0}},{\"type\":\"object\",\"name\":\"DaysTicker\",\"id\":\"p1594\",\"attributes\":{\"days\":[1,2,3,4,5,6,7,8,9,10,11,12,13,14,15,16,17,18,19,20,21,22,23,24,25,26,27,28,29,30,31]}},{\"type\":\"object\",\"name\":\"DaysTicker\",\"id\":\"p1595\",\"attributes\":{\"days\":[1,4,7,10,13,16,19,22,25,28]}},{\"type\":\"object\",\"name\":\"DaysTicker\",\"id\":\"p1596\",\"attributes\":{\"days\":[1,8,15,22]}},{\"type\":\"object\",\"name\":\"DaysTicker\",\"id\":\"p1597\",\"attributes\":{\"days\":[1,15]}},{\"type\":\"object\",\"name\":\"MonthsTicker\",\"id\":\"p1598\",\"attributes\":{\"months\":[0,1,2,3,4,5,6,7,8,9,10,11]}},{\"type\":\"object\",\"name\":\"MonthsTicker\",\"id\":\"p1599\",\"attributes\":{\"months\":[0,2,4,6,8,10]}},{\"type\":\"object\",\"name\":\"MonthsTicker\",\"id\":\"p1600\",\"attributes\":{\"months\":[0,4,8]}},{\"type\":\"object\",\"name\":\"MonthsTicker\",\"id\":\"p1601\",\"attributes\":{\"months\":[0,6]}},{\"type\":\"object\",\"name\":\"YearsTicker\",\"id\":\"p1602\"}]}},\"formatter\":{\"type\":\"object\",\"name\":\"DatetimeTickFormatter\",\"id\":\"p1603\"},\"axis_label\":\"Date\",\"major_label_policy\":{\"type\":\"object\",\"name\":\"AllLabels\",\"id\":\"p1604\"}}}],\"center\":[{\"type\":\"object\",\"name\":\"Grid\",\"id\":\"p1605\",\"attributes\":{\"axis\":{\"id\":\"p1589\"},\"grid_line_color\":null}},{\"type\":\"object\",\"name\":\"Grid\",\"id\":\"p1610\",\"attributes\":{\"dimension\":1,\"axis\":{\"id\":\"p1606\"},\"grid_line_color\":null}},{\"type\":\"object\",\"name\":\"Legend\",\"id\":\"p1632\",\"attributes\":{\"location\":\"top_left\",\"click_policy\":\"mute\",\"items\":[{\"type\":\"object\",\"name\":\"LegendItem\",\"id\":\"p1633\",\"attributes\":{\"label\":{\"type\":\"value\",\"value\":\"Actual Fraud Charges\"},\"renderers\":[{\"id\":\"p1629\"}]}},{\"type\":\"object\",\"name\":\"LegendItem\",\"id\":\"p1647\",\"attributes\":{\"label\":{\"type\":\"value\",\"value\":\"Forecasted Fraud Charges\"},\"renderers\":[{\"id\":\"p1644\"}]}},{\"type\":\"object\",\"name\":\"LegendItem\",\"id\":\"p1661\",\"attributes\":{\"label\":{\"type\":\"value\",\"value\":\"Uncertainty Interval\"},\"renderers\":[{\"id\":\"p1658\"}]}}]}}],\"min_border_top\":10,\"min_border_bottom\":10,\"min_border_left\":10,\"min_border_right\":10,\"output_backend\":\"webgl\"}},{\"type\":\"object\",\"name\":\"Spacer\",\"id\":\"p1664\",\"attributes\":{\"name\":\"HSpacer02855\",\"stylesheets\":[\"\\n:host(.pn-loading):before, .pn-loading:before {\\n  background-color: #c3c3c3;\\n  mask-size: auto calc(min(50%, 400px));\\n  -webkit-mask-size: auto calc(min(50%, 400px));\\n}\",{\"id\":\"p1562\"},{\"id\":\"p1560\"},{\"id\":\"p1561\"}],\"margin\":0,\"sizing_mode\":\"stretch_width\",\"align\":\"start\"}}]}}],\"defs\":[{\"type\":\"model\",\"name\":\"ReactiveHTML1\"},{\"type\":\"model\",\"name\":\"FlexBox1\",\"properties\":[{\"name\":\"align_content\",\"kind\":\"Any\",\"default\":\"flex-start\"},{\"name\":\"align_items\",\"kind\":\"Any\",\"default\":\"flex-start\"},{\"name\":\"flex_direction\",\"kind\":\"Any\",\"default\":\"row\"},{\"name\":\"flex_wrap\",\"kind\":\"Any\",\"default\":\"wrap\"},{\"name\":\"gap\",\"kind\":\"Any\",\"default\":\"\"},{\"name\":\"justify_content\",\"kind\":\"Any\",\"default\":\"flex-start\"}]},{\"type\":\"model\",\"name\":\"FloatPanel1\",\"properties\":[{\"name\":\"config\",\"kind\":\"Any\",\"default\":{\"type\":\"map\"}},{\"name\":\"contained\",\"kind\":\"Any\",\"default\":true},{\"name\":\"position\",\"kind\":\"Any\",\"default\":\"right-top\"},{\"name\":\"offsetx\",\"kind\":\"Any\",\"default\":null},{\"name\":\"offsety\",\"kind\":\"Any\",\"default\":null},{\"name\":\"theme\",\"kind\":\"Any\",\"default\":\"primary\"},{\"name\":\"status\",\"kind\":\"Any\",\"default\":\"normalized\"}]},{\"type\":\"model\",\"name\":\"GridStack1\",\"properties\":[{\"name\":\"mode\",\"kind\":\"Any\",\"default\":\"warn\"},{\"name\":\"ncols\",\"kind\":\"Any\",\"default\":null},{\"name\":\"nrows\",\"kind\":\"Any\",\"default\":null},{\"name\":\"allow_resize\",\"kind\":\"Any\",\"default\":true},{\"name\":\"allow_drag\",\"kind\":\"Any\",\"default\":true},{\"name\":\"state\",\"kind\":\"Any\",\"default\":[]}]},{\"type\":\"model\",\"name\":\"drag1\",\"properties\":[{\"name\":\"slider_width\",\"kind\":\"Any\",\"default\":5},{\"name\":\"slider_color\",\"kind\":\"Any\",\"default\":\"black\"},{\"name\":\"value\",\"kind\":\"Any\",\"default\":50}]},{\"type\":\"model\",\"name\":\"click1\",\"properties\":[{\"name\":\"terminal_output\",\"kind\":\"Any\",\"default\":\"\"},{\"name\":\"debug_name\",\"kind\":\"Any\",\"default\":\"\"},{\"name\":\"clears\",\"kind\":\"Any\",\"default\":0}]},{\"type\":\"model\",\"name\":\"FastWrapper1\",\"properties\":[{\"name\":\"object\",\"kind\":\"Any\",\"default\":null},{\"name\":\"style\",\"kind\":\"Any\",\"default\":null}]},{\"type\":\"model\",\"name\":\"NotificationAreaBase1\",\"properties\":[{\"name\":\"js_events\",\"kind\":\"Any\",\"default\":{\"type\":\"map\"}},{\"name\":\"position\",\"kind\":\"Any\",\"default\":\"bottom-right\"},{\"name\":\"_clear\",\"kind\":\"Any\",\"default\":0}]},{\"type\":\"model\",\"name\":\"NotificationArea1\",\"properties\":[{\"name\":\"js_events\",\"kind\":\"Any\",\"default\":{\"type\":\"map\"}},{\"name\":\"notifications\",\"kind\":\"Any\",\"default\":[]},{\"name\":\"position\",\"kind\":\"Any\",\"default\":\"bottom-right\"},{\"name\":\"_clear\",\"kind\":\"Any\",\"default\":0},{\"name\":\"types\",\"kind\":\"Any\",\"default\":[{\"type\":\"map\",\"entries\":[[\"type\",\"warning\"],[\"background\",\"#ffc107\"],[\"icon\",{\"type\":\"map\",\"entries\":[[\"className\",\"fas fa-exclamation-triangle\"],[\"tagName\",\"i\"],[\"color\",\"white\"]]}]]},{\"type\":\"map\",\"entries\":[[\"type\",\"info\"],[\"background\",\"#007bff\"],[\"icon\",{\"type\":\"map\",\"entries\":[[\"className\",\"fas fa-info-circle\"],[\"tagName\",\"i\"],[\"color\",\"white\"]]}]]}]}]},{\"type\":\"model\",\"name\":\"Notification\",\"properties\":[{\"name\":\"background\",\"kind\":\"Any\",\"default\":null},{\"name\":\"duration\",\"kind\":\"Any\",\"default\":3000},{\"name\":\"icon\",\"kind\":\"Any\",\"default\":null},{\"name\":\"message\",\"kind\":\"Any\",\"default\":\"\"},{\"name\":\"notification_type\",\"kind\":\"Any\",\"default\":null},{\"name\":\"_destroyed\",\"kind\":\"Any\",\"default\":false}]},{\"type\":\"model\",\"name\":\"TemplateActions1\",\"properties\":[{\"name\":\"open_modal\",\"kind\":\"Any\",\"default\":0},{\"name\":\"close_modal\",\"kind\":\"Any\",\"default\":0}]},{\"type\":\"model\",\"name\":\"BootstrapTemplateActions1\",\"properties\":[{\"name\":\"open_modal\",\"kind\":\"Any\",\"default\":0},{\"name\":\"close_modal\",\"kind\":\"Any\",\"default\":0}]},{\"type\":\"model\",\"name\":\"TemplateEditor1\",\"properties\":[{\"name\":\"layout\",\"kind\":\"Any\",\"default\":[]}]},{\"type\":\"model\",\"name\":\"MaterialTemplateActions1\",\"properties\":[{\"name\":\"open_modal\",\"kind\":\"Any\",\"default\":0},{\"name\":\"close_modal\",\"kind\":\"Any\",\"default\":0}]},{\"type\":\"model\",\"name\":\"copy_to_clipboard1\",\"properties\":[{\"name\":\"fill\",\"kind\":\"Any\",\"default\":\"none\"},{\"name\":\"value\",\"kind\":\"Any\",\"default\":null}]}]}};\n",
       "  var render_items = [{\"docid\":\"33b2ed71-e23c-4b48-a788-aefb65191a26\",\"roots\":{\"p1559\":\"aadf0273-ce41-4e77-bece-9c65bdd6b237\"},\"root_ids\":[\"p1559\"]}];\n",
       "  var docs = Object.values(docs_json)\n",
       "  if (!docs) {\n",
       "    return\n",
       "  }\n",
       "  const py_version = docs[0].version.replace('rc', '-rc.').replace('.dev', '-dev.')\n",
       "  async function embed_document(root) {\n",
       "    var Bokeh = get_bokeh(root)\n",
       "    await Bokeh.embed.embed_items_notebook(docs_json, render_items);\n",
       "    for (const render_item of render_items) {\n",
       "      for (const root_id of render_item.root_ids) {\n",
       "\tconst id_el = document.getElementById(root_id)\n",
       "\tif (id_el.children.length && id_el.children[0].hasAttribute('data-root-id')) {\n",
       "\t  const root_el = id_el.children[0]\n",
       "\t  root_el.id = root_el.id + '-rendered'\n",
       "\t  for (const child of root_el.children) {\n",
       "            // Ensure JupyterLab does not capture keyboard shortcuts\n",
       "            // see: https://jupyterlab.readthedocs.io/en/4.1.x/extension/notebook.html#keyboard-interaction-model\n",
       "\t    child.setAttribute('data-lm-suppress-shortcuts', 'true')\n",
       "\t  }\n",
       "\t}\n",
       "      }\n",
       "    }\n",
       "  }\n",
       "  function get_bokeh(root) {\n",
       "    if (root.Bokeh === undefined) {\n",
       "      return null\n",
       "    } else if (root.Bokeh.version !== py_version) {\n",
       "      if (root.Bokeh.versions === undefined || !root.Bokeh.versions.has(py_version)) {\n",
       "\treturn null\n",
       "      }\n",
       "      return root.Bokeh.versions.get(py_version);\n",
       "    } else if (root.Bokeh.version === py_version) {\n",
       "      return root.Bokeh\n",
       "    }\n",
       "    return null\n",
       "  }\n",
       "  function is_loaded(root) {\n",
       "    var Bokeh = get_bokeh(root)\n",
       "    return (Bokeh != null && Bokeh.Panel !== undefined)\n",
       "  }\n",
       "  if (is_loaded(root)) {\n",
       "    embed_document(root);\n",
       "  } else {\n",
       "    var attempts = 0;\n",
       "    var timer = setInterval(function(root) {\n",
       "      if (is_loaded(root)) {\n",
       "        clearInterval(timer);\n",
       "        embed_document(root);\n",
       "      } else if (document.readyState == \"complete\") {\n",
       "        attempts++;\n",
       "        if (attempts > 200) {\n",
       "          clearInterval(timer);\n",
       "\t  var Bokeh = get_bokeh(root)\n",
       "\t  if (Bokeh == null || Bokeh.Panel == null) {\n",
       "            console.warn(\"Panel: ERROR: Unable to run Panel code because Bokeh or Panel library is missing\");\n",
       "\t  } else {\n",
       "\t    console.warn(\"Panel: WARNING: Attempting to render but not all required libraries could be resolved.\")\n",
       "\t    embed_document(root)\n",
       "\t  }\n",
       "        }\n",
       "      }\n",
       "    }, 25, root)\n",
       "  }\n",
       "})(window);</script>"
      ],
      "text/plain": [
       ":Overlay\n",
       "   .Curve.Actual_Fraud_Charges     :Curve   [ds]   (actual_fraud_count)\n",
       "   .Curve.Forecasted_Fraud_Charges :Curve   [ds]   (yhat)\n",
       "   .Area.Uncertainty_Interval      :Area   [ds]   (yhat_lower,yhat_upper)"
      ]
     },
     "execution_count": 31,
     "metadata": {
      "application/vnd.holoviews_exec.v0+json": {
       "id": "p1559"
      }
     },
     "output_type": "execute_result"
    }
   ],
   "source": [
    "# Ensure the 'ds' column in both DataFrames is of datetime type\n",
    "fraud_forecast_monthly['ds'] = pd.to_datetime(fraud_forecast_monthly['ds'])\n",
    "fraud_df_monthly['ds'] = pd.to_datetime(fraud_df_monthly['ds'])\n",
    "\n",
    "# Merge the actual and forecast data\n",
    "combined_df_monthly = pd.merge(\n",
    "    fraud_forecast_monthly[['ds', 'yhat', 'yhat_lower', 'yhat_upper']],\n",
    "    fraud_df_monthly[['ds', 'y']],\n",
    "    on='ds',\n",
    "    how='left'\n",
    ")\n",
    "\n",
    "# Rename the actual fraud column for clarity\n",
    "combined_df_monthly.rename(columns={'y': 'actual_fraud_count'}, inplace=True)\n",
    "\n",
    "\n",
    "# Plotting with hvplot\n",
    "plot_actual3 = combined_df_monthly.hvplot.line(x='ds', y='actual_fraud_count', label='Actual Fraud Charges', color='blue', line_width=2)\n",
    "plot_forecast3 = combined_df_monthly.hvplot.line(x='ds', y='yhat', label='Forecasted Fraud Charges', color='orange', line_width=2)\n",
    "plot_uncertainty3 = combined_df_monthly.hvplot.area(x='ds', y='yhat_lower', y2='yhat_upper', label='Uncertainty Interval', color='orange', alpha=0.3)\n",
    "\n",
    "# Combine all plots\n",
    "final_plot_monthly = plot_actual3 * plot_forecast3 * plot_uncertainty3\n",
    "\n",
    "# Customize plot\n",
    "final_plot_monthly.opts(\n",
    "    title='Fraud Charge Forecasting',\n",
    "    xlabel='Date',\n",
    "    ylabel='Number of Fraud Charges',\n",
    "    legend_position='top_left',\n",
    "    width=1000, \n",
    "    height=600   \n",
    ")\n",
    "\n",
    "# Show the plot\n",
    "final_plot_monthly"
   ]
  },
  {
   "cell_type": "code",
   "execution_count": null,
   "metadata": {},
   "outputs": [],
   "source": [
    "final_plot_weekly\n",
    "final_plot_monthly\n",
    "fraudchargecountforcast"
   ]
  }
 ],
 "metadata": {
  "kernelspec": {
   "display_name": "dev",
   "language": "python",
   "name": "python3"
  },
  "language_info": {
   "codemirror_mode": {
    "name": "ipython",
    "version": 3
   },
   "file_extension": ".py",
   "mimetype": "text/x-python",
   "name": "python",
   "nbconvert_exporter": "python",
   "pygments_lexer": "ipython3",
   "version": "3.10.14"
  }
 },
 "nbformat": 4,
 "nbformat_minor": 2
}
